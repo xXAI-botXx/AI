{
 "cells": [
  {
   "cell_type": "markdown",
   "id": "ba0f7f3a-3d5b-46d0-8029-a86e70609216",
   "metadata": {},
   "source": [
    "# PRAKTIKUM Natural Language Processing"
   ]
  },
  {
   "cell_type": "markdown",
   "id": "cd11eb7f-b89c-4a2e-9774-b5af187e3342",
   "metadata": {},
   "source": [
    "----------\n",
    "## **Thema: Part-of-Speech Tagging**"
   ]
  },
  {
   "cell_type": "markdown",
   "id": "dc3be234-d0e8-4132-aff7-63a4c9ddd4fb",
   "metadata": {},
   "source": [
    "Part-of-Speech Tagging (kurz POS-Tagging) zählt zu den wichtigsten Text-Vorverarbeitungstechniken. Es ist nicht nur die Basis für weitere linguistische Analyseschritte wie das Parsing, sondern wird beispielsweise auch für die Informationsextraktion benötigt oder zur Feature-Selektion für Text Mining-Aufgaben. "
   ]
  },
  {
   "cell_type": "markdown",
   "id": "6238aefb-473e-4410-ab4c-84bb495eadf4",
   "metadata": {},
   "source": [
    "### Lernziele: \n",
    "* Weitere Erfahrungen sammeln mit der NLP-Library ``nltk``\n",
    "* Den Aufbau eines Korpus, das für das Training eines POS-Taggers benötigt wird, erklären können\n",
    "* Kennen der wichtigsten Tags im Penn Treebank Tagset (wird auch bei spaCy verwendet und es hilft bei der Arbeit, wenn Sie zumindest grob eine Ahnung haben, wie die Tags zu interpretieren sind)\n",
    "* Einfluss der Korpusgröße untersuchen können und somit auch einschätzen können, welche Relevanz die Korpusgröße auf den Tagging-Prozess hat\n",
    "* Das Vorgehen des Unigram-Tagger und Bigram-Taggers erklären können und die Unterschiede zwischen beiden Verfahren erklären können"
   ]
  },
  {
   "cell_type": "markdown",
   "id": "1c8cf3cc-3a06-49a6-bd57-b703dcf2b65b",
   "metadata": {},
   "source": [
    "### Lernkontrolle:\n",
    "* Abgabe der Lösung von Aufgabe 3"
   ]
  },
  {
   "cell_type": "markdown",
   "id": "493c3ea1-47bf-499f-a9c5-6047bb2287da",
   "metadata": {},
   "source": [
    "-----------\n",
    "## **Lernmaterial**\n"
   ]
  },
  {
   "cell_type": "markdown",
   "id": "b6863355-cf7e-4314-8346-3a6841f19553",
   "metadata": {},
   "source": [
    "* Die Dokumentation von nltk: https://www.nltk.org/api/nltk.html \n",
    "* Online-Buch zu nltk: https://www.nltk.org/book/ \n",
    "* Informationen zu den verschiedenen Taggern: Vorlesungsunterlagen\n",
    "* Übungsaufgaben"
   ]
  },
  {
   "cell_type": "markdown",
   "id": "5d618fcc-2a9f-4969-bc98-e76a17800c50",
   "metadata": {},
   "source": [
    "------------\n",
    "### Übungsaufgaben "
   ]
  },
  {
   "cell_type": "markdown",
   "id": "044e719c-d2d3-4fcb-b36e-835f883edf56",
   "metadata": {},
   "source": [
    "#### **Vorbereitung**\n",
    "Falls noch nicht geschehen, machen Sie sich zunächst mit dem grundsätzlichen Aufbau der ``nltk``-Library vertraut: https://www.nltk.org/api/nltk.html\n"
   ]
  },
  {
   "cell_type": "markdown",
   "id": "3818e83c-bd31-4167-b76a-df12a5ab34cb",
   "metadata": {},
   "source": [
    "#### **Aufgabe 1: Das Brown Corpus**\n",
    "Im Folgenden werden wir das Brown Corpus verwenden. Das Brown Corpus (Brown University Standard Corpus of Present-Day American English) ist ein allgemeines Korpus (eine Referenztextsammlung), das ursprünglich von Henry Kučera und W. Nelson Francis in den 1960er Jahren für die linguistische Forschung zusammengestellt wurde. Es besteht aus 500 amerikanisch-englischen Texten mit insgesamt etwa einer Million Wörtern, die alle manuell getaggt wurden und als Ground Truth für POS-Tagging verwendet werden können. Im Vergleich zu heutigen Korpi (z.B. Corpus of Contemporary American English oder International Corpus of English) ist das Brown Corpus sehr klein.\n"
   ]
  },
  {
   "cell_type": "markdown",
   "id": "c909d74d-6dac-41f4-8c77-4775b76063b1",
   "metadata": {},
   "source": [
    "**Teil 1: Bestimmung von Tag-Häufigkeiten** <br>\n",
    "Bestimmen Sie zunächst die Häufigkeiten der einzelnen Tags im Brown Corpus. Geben Sie anschließend eine Liste, mit den 10 häufigsten Tags der Kategorie \"news\" aus. <br>\n",
    "Tipp: Verwenden Sie hierfür die Methoden des ``nltk.corpus`` package https://www.nltk.org/api/nltk.corpus.html"
   ]
  },
  {
   "cell_type": "code",
   "execution_count": 1,
   "id": "534b2603-6483-4d57-b0b0-99a461b2fe45",
   "metadata": {},
   "outputs": [
    {
     "name": "stderr",
     "output_type": "stream",
     "text": [
      "[nltk_data] Downloading package brown to\n",
      "[nltk_data]     C:\\Users\\tobia\\AppData\\Roaming\\nltk_data...\n",
      "[nltk_data]   Package brown is already up-to-date!\n"
     ]
    }
   ],
   "source": [
    "import nltk\n",
    "nltk.download(\"brown\")\n",
    "from nltk.corpus import brown"
   ]
  },
  {
   "cell_type": "code",
   "execution_count": 2,
   "id": "82b21d6c-c92e-4078-b1ea-93ef467538cf",
   "metadata": {},
   "outputs": [],
   "source": [
    "#tokens = (brown.words)\n",
    "\n",
    "tags = dict()\n",
    "\n",
    "for word, pos in brown.tagged_words():\n",
    "    if pos in tags.keys():\n",
    "        tags[pos] += 1\n",
    "    else:\n",
    "        tags[pos] = 1"
   ]
  },
  {
   "cell_type": "code",
   "execution_count": 3,
   "id": "4eeb2c23-5911-4141-bd1b-70114c185cd7",
   "metadata": {},
   "outputs": [
    {
     "data": {
      "text/plain": [
       "[('NN', 152470),\n",
       " ('IN', 120557),\n",
       " ('AT', 97959),\n",
       " ('JJ', 64028),\n",
       " ('.', 60638),\n",
       " (',', 58156),\n",
       " ('NNS', 55110),\n",
       " ('CC', 37718),\n",
       " ('RB', 36464),\n",
       " ('NP', 34476)]"
      ]
     },
     "execution_count": 3,
     "metadata": {},
     "output_type": "execute_result"
    }
   ],
   "source": [
    "sorted(tags.items(), key=lambda item: item[1], reverse=True)[0:10]"
   ]
  },
  {
   "cell_type": "markdown",
   "id": "e6427d58-424d-4130-83b8-d1c9c54586c5",
   "metadata": {},
   "source": [
    " "
   ]
  },
  {
   "cell_type": "markdown",
   "id": "fe822f5b-30c3-4ea8-9aa1-9a3a36609889",
   "metadata": {},
   "source": [
    "**Teil 2: Bedeutung der Tags** <br>\n",
    "Schlagen Sie für diese 10 häufigsten Tags nach, für was sie stehen. "
   ]
  },
  {
   "cell_type": "markdown",
   "id": "bb5266a8-80c8-4bc6-9619-26e7160f2aed",
   "metadata": {},
   "source": [
    "1. NN: noun, common, singular or mass\n",
    "2. IN: preposition or conjunction, subordinating\n",
    "3. AT: article\n",
    "4. JJ: Adjective \n",
    "5. . : End of Sentence\n",
    "6. , : ,\n",
    "7. NNS: Noun, plural \n",
    "8. CC: Coordinating conjunction \n",
    "9. RB: Adverb\n",
    "10: NP: Proper noun, singular "
   ]
  },
  {
   "cell_type": "markdown",
   "id": "e29e18c3-e4a9-49b6-8cb6-b1a053226852",
   "metadata": {},
   "source": [
    "**Teil 3 (optional):**  \n",
    "Das Brown-Corpus enthält neben der Kategorie \"news\" noch weitere Kategorien (siehe im Abschnitt 1.3 hier: https://www.nltk.org/book/ch02.html). Wählen Sie sich einzelne Kategorien aus und überprüfen Sie, ob die Häufigkeiten der Tags relativ betrachtet immer gleich sind bzw. ob Sie dieselben 10 Tags als häufigste Tags bekommen.  \n",
    "Mögliche Erweiterung: Stellen Sie die unterschiedlichen relativen Häufigkeiten (oder das Ranking) der einzelnen Kategorien in einer Visualisierung dar. "
   ]
  },
  {
   "cell_type": "code",
   "execution_count": 4,
   "id": "6f46accb-1bdc-4c0c-a5dd-2d103df46d2b",
   "metadata": {},
   "outputs": [
    {
     "name": "stderr",
     "output_type": "stream",
     "text": [
      "[nltk_data] Downloading package reuters to\n",
      "[nltk_data]     C:\\Users\\tobia\\AppData\\Roaming\\nltk_data...\n",
      "[nltk_data]   Package reuters is already up-to-date!\n"
     ]
    }
   ],
   "source": [
    "nltk.download('reuters')\n",
    "from nltk.corpus import reuters\n",
    "#tokens = (brown.words)\n",
    "\n",
    "tags1 = dict()\n",
    "tags2 = dict()\n",
    "\n",
    "categorie1 = 'news'\n",
    "categorie2 = 'religion'\n",
    "\n",
    "for word, pos in brown.tagged_words():\n",
    "    if categorie1 and categorie2 in reuters.categories(word):\n",
    "        if pos in tags1.keys():\n",
    "            tags1[pos] += 1\n",
    "        else:\n",
    "            tags1[pos] = 1\n",
    "        if pos in tags2.keys():\n",
    "            tags2[pos] += 1\n",
    "        else:\n",
    "            tags2[pos] = 1\n",
    "    elif categorie1 in reuters.categories(word):\n",
    "        if pos in tags1.keys():\n",
    "            tags1[pos] += 1\n",
    "        else:\n",
    "            tags1[pos] = 1\n",
    "    elif categorie2 in reuters.categories(word):\n",
    "        if pos in tags2.keys():\n",
    "            tags2[pos] += 1\n",
    "        else:\n",
    "            tags2[pos] = 1\n",
    "        \n",
    "cat1 = dict(sorted(tags1.items(), key=lambda item: item[1], reverse=True)[0:10])\n",
    "cat2 = dict(sorted(tags2.items(), key=lambda item: item[1], reverse=True)[0:10])"
   ]
  },
  {
   "cell_type": "code",
   "execution_count": 5,
   "id": "50639058-cd83-43b6-bcb0-ddcfb4781a1c",
   "metadata": {},
   "outputs": [
    {
     "data": {
      "text/plain": [
       "{}"
      ]
     },
     "execution_count": 5,
     "metadata": {},
     "output_type": "execute_result"
    }
   ],
   "source": [
    "cat1"
   ]
  },
  {
   "cell_type": "code",
   "execution_count": 6,
   "id": "bfd97fe9-33e5-4ff6-b302-d70c40027986",
   "metadata": {},
   "outputs": [
    {
     "data": {
      "text/plain": [
       "<BarContainer object of 0 artists>"
      ]
     },
     "execution_count": 6,
     "metadata": {},
     "output_type": "execute_result"
    },
    {
     "data": {
      "image/png": "[encoded data removed]",
      "text/plain": [
       "<Figure size 720x720 with 2 Axes>"
      ]
     },
     "metadata": {
      "needs_background": "light"
     },
     "output_type": "display_data"
    }
   ],
   "source": [
    "import matplotlib.pyplot as plt\n",
    "\n",
    "fig, ax = plt.subplots(1,2, figsize=(10, 10))\n",
    "\n",
    "ax[0].bar(cat1.keys(), cat1.values())\n",
    "\n",
    "ax[1].bar(cat2.keys(), cat2.values())"
   ]
  },
  {
   "cell_type": "markdown",
   "id": "bc89f1e8-f38f-4a7a-9c65-dd8b89cd175b",
   "metadata": {},
   "source": [
    " "
   ]
  },
  {
   "cell_type": "markdown",
   "id": "d4cfff2c-4e29-4a95-a11c-a9f29c2c43ed",
   "metadata": {},
   "source": [
    "#### **Aufgabe 2: Training und Vergleich verschiedener POS-Tagger**"
   ]
  },
  {
   "cell_type": "markdown",
   "id": "37ac54db-73e6-4634-8f11-67651f9ba8a8",
   "metadata": {},
   "source": [
    "**Teil 1: Training verschiedener Tagger** <br> \n",
    "\n",
    "Trainieren Sie nun auf den ersten 20.000 Sätzen des Brown-Corpus\n",
    "1. einen Unigram Tagger\n",
    "2. einen Bigram Tagger\n",
    "3. einen Brill Tagger (verwenden Sie hierfür bitte brill24)\n",
    "\n",
    "Je nach Rechenkapazität wird das Training einige Minuten dauern. \n",
    "\n",
    "Validieren Sie anschließend die Performanz der verschiedenen Tagger mit Hilfe der übrigen Sätze im Brown Corpus. \n",
    "\n",
    "Tipp: Informationen zu den Taggern finden Sie in der Dokumentation des Packages ``nltk.tagger``.\n",
    "https://www.nltk.org/api/nltk.tag.html"
   ]
  },
  {
   "cell_type": "markdown",
   "id": "3b6d711f-41d7-456b-883b-e1bfec95d715",
   "metadata": {},
   "source": [
    "### Prepare data"
   ]
  },
  {
   "cell_type": "code",
   "execution_count": 20,
   "id": "402e8713-793b-4f1e-b4f5-c5c7de8b7324",
   "metadata": {},
   "outputs": [],
   "source": [
    "data = brown.tagged_sents()[:] #brown.tagged_words()\n",
    "# splitting data\n",
    "split = 0.3\n",
    "split_index = int( len(data)*split )\n",
    "\n",
    "train = data[split_index:]\n",
    "test = data[:split_index]"
   ]
  },
  {
   "cell_type": "markdown",
   "id": "c0b7aef3-b735-4092-a3cb-5c1f318c8c79",
   "metadata": {},
   "source": [
    "### Train Tagger"
   ]
  },
  {
   "cell_type": "code",
   "execution_count": 21,
   "id": "2e5388e2-cfb5-4908-b0ba-7688d7b45d3d",
   "metadata": {},
   "outputs": [],
   "source": [
    "# Templates\n",
    "templates = nltk.tag.brill.brill24()"
   ]
  },
  {
   "cell_type": "code",
   "execution_count": 22,
   "id": "a6420f33-996d-4e96-bff5-e09bfeb2c10a",
   "metadata": {},
   "outputs": [],
   "source": [
    "# train tagger\n",
    "from nltk.tag import UnigramTagger\n",
    "from nltk.tag import BigramTagger\n",
    "from nltk.tag import brill, brill_trainer\n",
    "from nltk.tag.brill_trainer import BrillTaggerTrainer\n",
    "\n",
    "tagger_unigram = UnigramTagger(train)\n",
    "tagger_bigram = BigramTagger(train)\n",
    "#tagger_brill = brill_trainer.BrillTaggerTrainer(train, templates)\n",
    "\n",
    "tagger_brill = UnigramTagger(train)\n",
    "\n",
    "tagger_brill = BrillTaggerTrainer(tagger_brill, templates)\n",
    "tagger_brill = tagger_brill.train(train)    # , max_rules=max_rules, min_score=min_score, min_acc=min_acc"
   ]
  },
  {
   "cell_type": "markdown",
   "id": "224b7a99-469a-4bba-a05e-0b8ed71ee217",
   "metadata": {},
   "source": [
    "### Evaluate Tagger"
   ]
  },
  {
   "cell_type": "code",
   "execution_count": 23,
   "id": "f49e32c3-f9a7-40b6-a311-1d4bc122d639",
   "metadata": {},
   "outputs": [
    {
     "name": "stderr",
     "output_type": "stream",
     "text": [
      "C:\\Users\\tobia\\AppData\\Local\\Temp\\ipykernel_10420\\1757672553.py:1: DeprecationWarning: \n",
      "  Function evaluate() has been deprecated.  Use accuracy(gold)\n",
      "  instead.\n",
      "  accuracy_unigram = tagger_unigram.evaluate(test)\n",
      "C:\\Users\\tobia\\AppData\\Local\\Temp\\ipykernel_10420\\1757672553.py:2: DeprecationWarning: \n",
      "  Function evaluate() has been deprecated.  Use accuracy(gold)\n",
      "  instead.\n",
      "  accuracy_bigram = tagger_bigram.evaluate(test)\n",
      "C:\\Users\\tobia\\AppData\\Local\\Temp\\ipykernel_10420\\1757672553.py:3: DeprecationWarning: \n",
      "  Function evaluate() has been deprecated.  Use accuracy(gold)\n",
      "  instead.\n",
      "  accuracy_brill = tagger_brill.evaluate(test)\n"
     ]
    },
    {
     "name": "stdout",
     "output_type": "stream",
     "text": [
      "Accuracie:\n",
      "\n",
      "Unigramm Tagger = 0.86050124698475\n",
      "Bigramm Tagger = 0.21198468184853564\n",
      "Brill Tagger = 0.8896084604167518\n"
     ]
    }
   ],
   "source": [
    "accuracy_unigram = tagger_unigram.evaluate(test)\n",
    "accuracy_bigram = tagger_bigram.evaluate(test)\n",
    "accuracy_brill = tagger_brill.evaluate(test)\n",
    "\n",
    "print(f\"Accuracie:\\n\\nUnigramm Tagger = {accuracy_unigram}\\nBigramm Tagger = {accuracy_bigram}\\nBrill Tagger = {accuracy_brill}\")"
   ]
  },
  {
   "cell_type": "markdown",
   "id": "3f1411a6-45d6-42f7-a01b-51a0ed88d0a3",
   "metadata": {},
   "source": [
    "#### **Teil 2: Auswertung der Ergebnisse**\n",
    "Welcher Tagger hat am besten abgeschnitten, welcher am schlechtesten? Entsprechen die Höhe der beobachteten Genauigkeit sowie die Unterschiede in Bezug auf die Genauigkeit Ihren Erwartungen? Wieso / wieso nicht? "
   ]
  },
  {
   "cell_type": "markdown",
   "id": "b59f10c7-292e-4fd4-8fda-2c3db234b040",
   "metadata": {},
   "source": [
    "- Unigram: Hat sehr gut funktioniert. Der Text scheint die Wörter gleich zu verwenden -> Ein bestimmtes Verb ist meistens in jedem Vorkommen ein Verb \n",
    "- Bigram: Hat eine erstaunlich geringe Accuracy. Daraus lässt sich schließen, dass der Kontext in den Sätzen sehr stark unterscheiden und irreführend für das Taggen sind.\n",
    "- Brill: Die erlernten Regeln scheinen für diesem Kontext gut zu passen."
   ]
  },
  {
   "cell_type": "markdown",
   "id": "ca52dc1d-fa24-4427-a50b-99a740d00bfc",
   "metadata": {},
   "source": [
    " "
   ]
  },
  {
   "cell_type": "markdown",
   "id": "d058dbb3-8fcb-4627-a224-4400c0259d15",
   "metadata": {},
   "source": [
    "#### **Aufgabe 3: Einfluss der Korpus-Größe auf das Ergebnis**\n",
    "\n",
    "**Teil 1: Implementierung des Experiments** <span style=\"color:red\">(Abgabe, 10 Punkte)</span> <br>\n",
    "Erweitern Sie den Code aus Aufgabe 2 Teil 1 so, dass die Größe des verwendeten Trainings-Korpus variiert werden kann. Ihr Test-Korpus sollte 10.000 Sätze enthalten, den Rest des Korpus können Sie für das Training verwenden. Beginnen Sie mit einem Trainings-Korpus, das 5000 Sätze enthält. Erhöhen Sie die Größe des Trainings-Korpus anschließend schrittweise um jeweils 5000 Sätze. Evaluieren Sie die Tagger in jedem Durchlauf mit Hilfe Ihrer Testdaten. Merken Sie sich jeweils die mit den 3 Taggern erzielte Genauigkeit, so dass Sie die beobachteten Entwicklungen anschließend in einem Liniendiagramm darstellen können. \n",
    "\n",
    "Wichtig: Verwenden Sie immer dasselbe Test-Korpus!! (sowohl die Größe des Test-Korpus als auch dessen Inhalt dürfen sich während des Experiments nicht ändern, da sonst die Vergleichbarkeit nicht gewährleistet ist)\n",
    "\n",
    "Tipp: Die Berechnung hat eine relativ lange Laufzeit (da mehrfach trainiert wird, teils auch auf größeren Korpi). Implementieren und testen Sie Ihre Lösung daher zunächst nur mit einer kleinen Menge von Trainingsdaten. Anschließend können Sie die Berechnung mit dem kompletten Datensatz im Hintergrund laufen lassen, während Sie mit Aufgabe 4 weitermachen. "
   ]
  },
  {
   "cell_type": "code",
   "execution_count": 24,
   "id": "2533c1c2-4fb8-4286-a7db-1c3d54fe3ee2",
   "metadata": {},
   "outputs": [
    {
     "data": {
      "text/plain": [
       "57340"
      ]
     },
     "execution_count": 24,
     "metadata": {},
     "output_type": "execute_result"
    }
   ],
   "source": [
    "len(data)"
   ]
  },
  {
   "cell_type": "code",
   "execution_count": 44,
   "id": "52254883-168d-449f-92c0-2c723556d218",
   "metadata": {},
   "outputs": [
    {
     "name": "stderr",
     "output_type": "stream",
     "text": [
      "C:\\Users\\tobia\\AppData\\Local\\Temp\\ipykernel_10420\\3038490766.py:39: DeprecationWarning: \n",
      "  Function evaluate() has been deprecated.  Use accuracy(gold)\n",
      "  instead.\n",
      "  accuracy_unigram = tagger_unigram.evaluate(test)\n",
      "C:\\Users\\tobia\\AppData\\Local\\Temp\\ipykernel_10420\\3038490766.py:40: DeprecationWarning: \n",
      "  Function evaluate() has been deprecated.  Use accuracy(gold)\n",
      "  instead.\n",
      "  accuracy_bigram = tagger_bigram.evaluate(test)\n",
      "C:\\Users\\tobia\\AppData\\Local\\Temp\\ipykernel_10420\\3038490766.py:41: DeprecationWarning: \n",
      "  Function evaluate() has been deprecated.  Use accuracy(gold)\n",
      "  instead.\n",
      "  accuracy_brill = tagger_brill.evaluate(test)\n"
     ]
    },
    {
     "name": "stdout",
     "output_type": "stream",
     "text": [
      "[2000, 0.7234654411430131, 0.07308094826409428, 0.7409246029940392, 13500, 0.8346771624880557, 0.14660326705191792, 0.8634663511853301, 25750, 0.8540883651089776, 0.184597533785321, 0.8828002002093097, 39125, 0.8608636301588024, 0.20387223005869773, 0.8901760931883332, 54187, 0.8633207444146153, 0.2169677389998635, 0.8932747872776085, 64933, 0.8633207444146153, 0.2169677389998635, 0.8932110843154206, 68729, 0.8633207444146153, 0.2169677389998635, 0.8932656868544387, 74423, 0.8633207444146153, 0.2169677389998635, 0.8932156345270055, 82964, 0.8633207444146153, 0.2169677389998635, 0.8932156345270055, 95776, 0.8633207444146153, 0.2169677389998635, 0.8932247349501752]\n"
     ]
    }
   ],
   "source": [
    "size_inc = 10    # how often to increase the data-size\n",
    "inc = 1000\n",
    "res = list() #[['Name', [x, y, z]], nextExperiment]\n",
    "index = 1000\n",
    "size = index\n",
    "\n",
    "for i  in range(size_inc):\n",
    "    # Data Preparing\n",
    "    #data = brown.tagged_sents()[:] #brown.tagged_words()\n",
    "    # splitting data\n",
    "    index += inc\n",
    "    size = index\n",
    "    test_size = 10000\n",
    "    index += test_size\n",
    "    \n",
    "    # increase inc\n",
    "    inc *= 1.5\n",
    "    inc = int(inc)\n",
    "\n",
    "    # make sure it works\n",
    "    if index > len(data):\n",
    "        index = len(data)\n",
    "\n",
    "    train = data[test_size:index]\n",
    "    test = data[:test_size]\n",
    "\n",
    "    # Train\n",
    "    templates = nltk.tag.brill.brill24()\n",
    "    \n",
    "    tagger_unigram = UnigramTagger(train)\n",
    "    tagger_bigram = BigramTagger(train)\n",
    "    \n",
    "        # brill tagger\n",
    "    tagger_brill = UnigramTagger(train)\n",
    "    tagger_brill = BrillTaggerTrainer(tagger_brill, templates)\n",
    "    tagger_brill = tagger_brill.train(train)\n",
    "    \n",
    "    # Evaluate\n",
    "    accuracy_unigram = tagger_unigram.evaluate(test)\n",
    "    accuracy_bigram = tagger_bigram.evaluate(test)\n",
    "    accuracy_brill = tagger_brill.evaluate(test)\n",
    "    \n",
    "    res += [size, accuracy_unigram, accuracy_bigram, accuracy_brill]\n",
    "    \n",
    "print(res)"
   ]
  },
  {
   "cell_type": "code",
   "execution_count": 56,
   "id": "1bb695b1-7414-4fdb-9e6b-5b87e6216802",
   "metadata": {},
   "outputs": [
    {
     "data": {
      "text/plain": [
       "[[2000, 0.7234654411430131, 0.07308094826409428, 0.7409246029940392],\n",
       " [13500, 0.8346771624880557, 0.14660326705191792, 0.8634663511853301],\n",
       " [25750, 0.8540883651089776, 0.184597533785321, 0.8828002002093097],\n",
       " [39125, 0.8608636301588024, 0.20387223005869773, 0.8901760931883332],\n",
       " [54187, 0.8633207444146153, 0.2169677389998635, 0.8932747872776085],\n",
       " [64933, 0.8633207444146153, 0.2169677389998635, 0.8932110843154206],\n",
       " [68729, 0.8633207444146153, 0.2169677389998635, 0.8932656868544387],\n",
       " [74423, 0.8633207444146153, 0.2169677389998635, 0.8932156345270055],\n",
       " [82964, 0.8633207444146153, 0.2169677389998635, 0.8932156345270055],\n",
       " [95776, 0.8633207444146153, 0.2169677389998635, 0.8932247349501752]]"
      ]
     },
     "execution_count": 56,
     "metadata": {},
     "output_type": "execute_result"
    }
   ],
   "source": [
    "res_t = [res[i:i+4] for i in range(0, len(res), 4)]\n",
    "res_t"
   ]
  },
  {
   "cell_type": "code",
   "execution_count": 51,
   "id": "bde78d31-5c46-4cc2-af29-979419d2eee7",
   "metadata": {},
   "outputs": [],
   "source": [
    "def get_mean(values):\n",
    "    # mean\n",
    "    sum_ = sum(values)\n",
    "    num_ = len(values)\n",
    "    return sum_ / num_"
   ]
  },
  {
   "cell_type": "code",
   "execution_count": 52,
   "id": "ae6bf3a5-5a18-441a-960c-5e3d304a801e",
   "metadata": {},
   "outputs": [],
   "source": [
    "def get_std(values):\n",
    "    mean = get_mean(values)\n",
    "    sum_ = sum(values)\n",
    "    \n",
    "    # std\n",
    "    sum_std = 0\n",
    "    for value in values:\n",
    "        sum_std += (value-mean)**2\n",
    "    return sum_std / len(values)"
   ]
  },
  {
   "cell_type": "code",
   "execution_count": 62,
   "id": "abe5aa6a-2f18-4e1b-b75f-87a2e1887802",
   "metadata": {},
   "outputs": [
    {
     "name": "stdout",
     "output_type": "stream",
     "text": [
      "\n",
      "----------\n",
      "Datasize: 2000\n",
      "Unigram=0.72, Bigram=0.07, Brill=0.74\n",
      "\n",
      "----------\n",
      "Datasize: 13500\n",
      "Unigram=0.83, Bigram=0.15, Brill=0.86\n",
      "\n",
      "----------\n",
      "Datasize: 25750\n",
      "Unigram=0.85, Bigram=0.18, Brill=0.88\n",
      "\n",
      "----------\n",
      "Datasize: 39125\n",
      "Unigram=0.86, Bigram=0.2, Brill=0.89\n",
      "\n",
      "----------\n",
      "Datasize: 54187\n",
      "Unigram=0.86, Bigram=0.22, Brill=0.89\n",
      "\n",
      "----------\n",
      "Datasize: 64933\n",
      "Unigram=0.86, Bigram=0.22, Brill=0.89\n",
      "\n",
      "----------\n",
      "Datasize: 68729\n",
      "Unigram=0.86, Bigram=0.22, Brill=0.89\n",
      "\n",
      "----------\n",
      "Datasize: 74423\n",
      "Unigram=0.86, Bigram=0.22, Brill=0.89\n",
      "\n",
      "----------\n",
      "Datasize: 82964\n",
      "Unigram=0.86, Bigram=0.22, Brill=0.89\n",
      "\n",
      "----------\n",
      "Datasize: 95776\n",
      "Unigram=0.86, Bigram=0.22, Brill=0.89\n"
     ]
    }
   ],
   "source": [
    "counter = 0\n",
    "\n",
    "v_unigram = []\n",
    "v_bigram = []\n",
    "v_brill = []\n",
    "size = []\n",
    "\n",
    "for ent in res_t:\n",
    "    counter += 1\n",
    "    \n",
    "    size += [ent[0]]\n",
    "    v_unigram += [ent[1]]\n",
    "    v_bigram += [ent[2]]\n",
    "    v_brill += [ent[3]]\n",
    "    \n",
    "    print(f\"\\n----------\\nDatasize: {ent[0]}\\nUnigram={round(ent[1], 2)}, Bigram={round(ent[2], 2)}, Brill={round(ent[3], 2)}\")\n"
   ]
  },
  {
   "cell_type": "code",
   "execution_count": 61,
   "id": "8d80045a-1728-4398-84e6-047c251747e0",
   "metadata": {},
   "outputs": [
    {
     "name": "stdout",
     "output_type": "stream",
     "text": [
      "#########\n",
      "RESULTS\n",
      "#########\n",
      "\n",
      "Unigram mean: 0.85\n",
      "Unigram std: 0.0017224449692882868\n",
      "\n",
      "Bigram mean: 0.19\n",
      "Bigram std: 0.0020128599194951073\n",
      "\n",
      "Brill mean: 0.87\n",
      "Brill std: 0.0020377909904771272\n"
     ]
    }
   ],
   "source": [
    "print(f\"#########\\nRESULTS\\n#########\\n\\nUnigram mean: {round(get_mean(v_unigram), 2)}\\nUnigram std: {get_std(v_unigram)}\")\n",
    "print(f\"\\nBigram mean: {round(get_mean(v_bigram), 2)}\\nBigram std: {get_std(v_bigram)}\")\n",
    "print(f\"\\nBrill mean: {round(get_mean(v_brill), 2)}\\nBrill std: {get_std(v_brill)}\")"
   ]
  },
  {
   "cell_type": "markdown",
   "id": "4dd9184c-17dd-4a7e-9a38-44bf0bb4efbe",
   "metadata": {},
   "source": [
    "**Teil 2: Auswertung des Experiments** <span style=\"color:red\">(Abgabe, 5 Punkte)</span> <br> \n",
    "Werten Sie das Experiment aus und diskutieren Sie die erzielten Ergebnisse! "
   ]
  },
  {
   "cell_type": "code",
   "execution_count": 75,
   "id": "c7131c43-1ddd-4dcb-a8d4-5c1dda586d62",
   "metadata": {},
   "outputs": [],
   "source": [
    "import numpy as np\n",
    "import matplotlib.pyplot as plt"
   ]
  },
  {
   "cell_type": "code",
   "execution_count": 111,
   "id": "af4007f8-4244-4a45-ba9b-872a70169f88",
   "metadata": {},
   "outputs": [
    {
     "data": {
      "image/png": "[encoded data removed]",
      "text/plain": [
       "<Figure size 1800x576 with 3 Axes>"
      ]
     },
     "metadata": {
      "needs_background": "light"
     },
     "output_type": "display_data"
    }
   ],
   "source": [
    "fig, ax = plt.subplots(1, 3, figsize=(25, 8))\n",
    "\n",
    "labels = size\n",
    "unigram = v_unigram\n",
    "bigram = v_bigram\n",
    "brill = v_brill\n",
    "\n",
    "ax[0].bar(np.arange(len(unigram)), unigram, color=(0.5,0.2,0.2))\n",
    "ax[0].set_xticks(np.arange(len(unigram)), labels)\n",
    "ax[0].set_title(\"Unigramm\")\n",
    "\n",
    "ax[1].bar(np.arange(len(bigram)), bigram, color=(0.2,0.5,0.2))\n",
    "ax[1].set_xticks(np.arange(len(bigram)), labels)\n",
    "ax[1].set_title(\"Bigramm\")\n",
    "\n",
    "ax[2].bar(np.arange(len(brill)), brill, color=(0.2,0.2,0.5))\n",
    "ax[2].set_xticks(np.arange(len(brill)), labels)\n",
    "ax[2].set_title(\"Brill\")\n",
    "\n",
    "plt.show()"
   ]
  },
  {
   "cell_type": "markdown",
   "id": "807a287d-c6aa-4219-a473-e3f44c0f6601",
   "metadata": {},
   "source": [
    "Bei den gut Performenden Taggern, sprich Unigram-Tagger und Brill-Tagger, scheint es eine Grenze zu geben, ab welcher sie sich noch durch die Trainingsdaten verbessern können. Anschließend ist die Verbesserung durch neue Trainingsdaten nur noch geringfügig. Außerdem ist liegt diese Grenze zwischen 2000 und 13500.<br>\n",
    "<br>\n",
    "Bei dem Bigramm-Tagger ist dies anders. Dieser hat ebenfalls so eine Grenze, diese liegt aber zwischen 25750-54187 und die Obergrenze, bei welcher sich der Algorithmus nicht mehr verbessert liegt eben nur bei ca. 21%.<br>\n",
    "Dass die Grenze bei dem Bigramm-Tagger weiter in die Höhe verschoben ist, entspricht der Erwartung. Der Tagger verwendet mehr Informationen und dadurch sind die Fälle seltener, was in mehr benötigten Trainingsdaten resultiert."
   ]
  },
  {
   "cell_type": "markdown",
   "id": "bbc61456-5381-4f8c-82ac-20f14a7a1b12",
   "metadata": {},
   "source": [
    " "
   ]
  },
  {
   "cell_type": "markdown",
   "id": "f7633c97-972d-45cd-9bef-4b75f8b4c10b",
   "metadata": {},
   "source": [
    "#### **Aufgabe 4: Unigram und Bigramm-Tagger (manuell)**"
   ]
  },
  {
   "cell_type": "markdown",
   "id": "5d705765-0c6f-4e2b-a6ba-3c6025af3237",
   "metadata": {},
   "source": [
    "**Trainingsdaten**:\n",
    "\n",
    "His [PRP] raise [NN] was [VB] five [CD] dollars [NN] . [SYM]\n",
    "We [PRP] usually [RB] get [VB] a [DT] raise [NN] at [IN] the [DT] start [NN] of [IN] the [DT] year [NN] . [SYM]\n",
    "A [DT] major [JJ] success [NN] helped [VB] to [TO] raise [VB] our [PRP] spirits [NN] . [SYM]\n"
   ]
  },
  {
   "cell_type": "markdown",
   "id": "a9488671-17d7-48b3-b58a-bf3abfa857b2",
   "metadata": {},
   "source": [
    "**Teil 1: Unigram Tagger**  \n",
    "Gegeben sei der oben dargestellte (sehr kleine) Trainings-Korpus. Bestimmen Sie mit der Methode des Unigram Taggers, ob es wahrscheinlicher ist, dass das Wort \"raise\" als NN oder als VB getaggt wird. Stellen Sie dabei Ihren Rechenweg dar."
   ]
  },
  {
   "cell_type": "markdown",
   "id": "f7c88af7-6f1c-4a8c-96e1-2df4fed06817",
   "metadata": {},
   "source": [
    "P(raise and NN) = 2/3\n",
    "P(NN) = 7/11\n",
    "-\n",
    "=> 2/3 * 7/11 = 14/33\n",
    "-\n",
    "\n",
    "P(raise and VB) = 1/3\n",
    "P(VB) = 4/11\n",
    "-\n",
    "=> 1/3 * 4/11 = 4/33\n",
    "-"
   ]
  },
  {
   "cell_type": "markdown",
   "id": "05b5ec09-ef64-447e-a91e-b295a44fabbc",
   "metadata": {},
   "source": [
    "**Teil 2: Bigram Tagger** \n",
    "Gegeben sei der oben dargestellte (sehr kleine) Trainings-Korpus. Bestimmen Sie mit der Methode des Bigram Taggers das wahrscheinlichste Tag für das Wort \"raise\" im folgenden Satz: \n",
    "\n",
    "It [PRP] looks [VB] like [CC] a [DT] fine [JJ] place [NN] to [TO] raise [NN or VB?] children [NN] . [SYM]\n"
   ]
  },
  {
   "cell_type": "markdown",
   "id": "f10aa5c9-7e89-41da-ac75-d1f33150921e",
   "metadata": {},
   "source": [
    "---\n",
    "(*Hier war ich etwas unsicher, ob das so funktioniert*)\n",
    "\n",
    "Ich prüfe, ob NN oder VB wahrscheinlicher nach TO kommt, da das ja der Worttyp vor raise ist.\n",
    "\n",
    "P(TO and VB) = 1/1\n",
    "P(VB) = P(TO and VB) * P(raise and VB) = 1/1 * 4/33 = 4/33\n",
    "\n",
    "P(TO and NN) = 1/1\n",
    "P(NN) = P(TO and NN) * P(raise and NN) = 0/1 * 14/33 = 0\n",
    "\n",
    "-> nach Bigram ist es ein Verb\n",
    "\n",
    "---"
   ]
  },
  {
   "cell_type": "markdown",
   "id": "967a2f95-0cc7-460f-9a4e-ed4fe6624dc8",
   "metadata": {},
   "source": [
    "#### **Aufgabe 5: Lust auf mehr? (optional)**\n",
    "\n",
    "Es sind noch viele Erweiterungen denkbar. Sind Sie bei der Bearbeitung der Übungen über etwas gestolpert, dem Sie gerne nachgehen möchten bzw. das Sie vertiefen möchten? \n",
    "\n",
    "Beispielsweise könnten Sie noch einen Vergleich mit weiteren in nltk verfügbaren Taggern durchführen. Erzielen Sie dann bessere Ergebnisse? Oder ist der Korpus einfach zu klein? Auch ein Vergleich mit spaCy's Tagger ist denkbar!"
   ]
  }
 ],
 "metadata": {
  "kernelspec": {
   "display_name": "Python 3 (ipykernel)",
   "language": "python",
   "name": "python3"
  },
  "language_info": {
   "codemirror_mode": {
    "name": "ipython",
    "version": 3
   },
   "file_extension": ".py",
   "mimetype": "text/x-python",
   "name": "python",
   "nbconvert_exporter": "python",
   "pygments_lexer": "ipython3",
   "version": "3.9.10"
  }
 },
 "nbformat": 4,
 "nbformat_minor": 5
}
