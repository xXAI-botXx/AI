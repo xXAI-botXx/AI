{
 "cells": [
  {
   "cell_type": "markdown",
   "metadata": {},
   "source": [
    "# PRAKTIKUM Natural Language Processing"
   ]
  },
  {
   "cell_type": "markdown",
   "metadata": {},
   "source": [
    "----------\n",
    "## **Thema: Die Bibliothek ``spaCy`` (Grundlagen)**"
   ]
  },
  {
   "cell_type": "markdown",
   "metadata": {},
   "source": [
    "Es gibt verschiedene Python-Libraries für NLP. In diesem Kurs werden wir unter anderem die Bibliothek ``spaCy`` verwenden. ``spaCy`` ist in der Verwendung sehr angenehm und unkompliziert, erfordert aber ein Verständnis des zugrundeliegenden Konzeptes. Ziel dieses Praktikums ist es, dass Sie dieses Grundverständnis erwerben und in anschließenden Übungsaufgaben die Bibliothek ``spaCy`` verwenden können.  "
   ]
  },
  {
   "cell_type": "markdown",
   "metadata": {},
   "source": [
    "### Lernziele: \n",
    "* das Pipelining-Konzept von ``spaCy`` verstanden haben und erklären können\n",
    "* trainierte Pipelines in ``spaCy`` laden und verwenden können\n",
    "* die ``spaCy``-Objekte Doc, Token und Span kennen und Ihr Verhältnis zueinander erklären können\n",
    "* Lexikalische Attribute sowie linguistische Annotationen und Eigennamen durch ``spaCy`` erzeugen / erkennen lassen und verwenden\n",
    "\n"
   ]
  },
  {
   "cell_type": "markdown",
   "metadata": {},
   "source": [
    "### Lernkontrolle: \n",
    "Die formale Lernkontrolle erfolgt im nächsten Praktikum durch einen kurzen (papierbasierten) Test. In diesem werden Sie kurze Code-Snippets ergänzen müssen und einige Verständnisfragen beantworten müssen. <br>\n",
    "Erlaubte Hilfsmittel beim Test: 1 handgeschriebenes A4-Blatt mit Notizen. \n",
    "\n",
    "Darüber hinaus werden Sie im nächsten Praktikums-Termin (bei dem auch eine Abgabe erfolgt) ``spaCy`` anwenden müssen."
   ]
  },
  {
   "cell_type": "markdown",
   "metadata": {},
   "source": [
    "-----------\n",
    "## **Lernmaterial**\n"
   ]
  },
  {
   "cell_type": "markdown",
   "metadata": {},
   "source": [
    "1. Foliensatz, der einen Überblick über ``spaCy`` gibt\n",
    "1. ``spaCy``-Tutorial Kapitel 1, Abschnitte 1 - 9 <br>\n",
    "https://course.spacy.io/de/chapter1\n",
    "2. Übungsaufgaben, in denen das Gelernte angewandt und so gefestigt und geübt werden kann"
   ]
  },
  {
   "cell_type": "markdown",
   "metadata": {},
   "source": [
    " "
   ]
  },
  {
   "cell_type": "markdown",
   "metadata": {},
   "source": [
    "### Übungsaufgaben \n",
    "\n",
    "#### **Exercise 1: Basics** "
   ]
  },
  {
   "cell_type": "markdown",
   "metadata": {},
   "source": [
    "Ex 1.1: Import spaCy and its English language class. Create the Language object (call it nlp)."
   ]
  },
  {
   "cell_type": "code",
   "execution_count": 1,
   "metadata": {},
   "outputs": [],
   "source": [
    "import spacy\n",
    "\n",
    "nlp = spacy.blank(\"en\")"
   ]
  },
  {
   "cell_type": "markdown",
   "metadata": {},
   "source": [
    "Ex 1.2.: Call the Language object  with an English sentence (should be at least 10 words long)"
   ]
  },
  {
   "cell_type": "code",
   "execution_count": 13,
   "metadata": {
    "ExecuteTime": {
     "end_time": "2020-09-28T13:45:08.258435Z",
     "start_time": "2020-09-28T13:45:08.063859Z"
    }
   },
   "outputs": [],
   "source": [
    "my_text = \"I'm a german student of artificial intelligence. I can only recommend the course!\"\n",
    "doc = nlp(my_text)"
   ]
  },
  {
   "cell_type": "markdown",
   "metadata": {},
   "source": [
    "Ex 1.3: Print the document text"
   ]
  },
  {
   "cell_type": "code",
   "execution_count": 3,
   "metadata": {
    "ExecuteTime": {
     "end_time": "2020-09-28T13:23:24.363304Z",
     "start_time": "2020-09-28T13:23:24.204147Z"
    }
   },
   "outputs": [
    {
     "data": {
      "text/plain": [
       "\"I'm a german student of artificial intelligence. I can only recommend the course!\""
      ]
     },
     "execution_count": 3,
     "metadata": {},
     "output_type": "execute_result"
    }
   ],
   "source": [
    "doc.text"
   ]
  },
  {
   "cell_type": "markdown",
   "metadata": {},
   "source": [
    "Ex 1.4: Print only the stop words in the sentence"
   ]
  },
  {
   "cell_type": "code",
   "execution_count": 4,
   "metadata": {
    "ExecuteTime": {
     "end_time": "2020-09-28T13:31:12.358677Z",
     "start_time": "2020-09-28T13:31:12.297770Z"
    }
   },
   "outputs": [
    {
     "data": {
      "text/plain": [
       "['I', \"'m\", 'a', 'of', 'I', 'can', 'only', 'the']"
      ]
     },
     "execution_count": 4,
     "metadata": {},
     "output_type": "execute_result"
    }
   ],
   "source": [
    "[token.text for token in doc if token.is_stop]"
   ]
  },
  {
   "cell_type": "markdown",
   "metadata": {},
   "source": [
    "Ex 1.5: Get the 2nd token and print the values of all its lexical attributes"
   ]
  },
  {
   "cell_type": "code",
   "execution_count": 5,
   "metadata": {
    "ExecuteTime": {
     "end_time": "2020-09-28T13:35:39.694378Z",
     "start_time": "2020-09-28T13:35:39.542385Z"
    }
   },
   "outputs": [
    {
     "data": {
      "text/plain": [
       "\"'m\""
      ]
     },
     "execution_count": 5,
     "metadata": {},
     "output_type": "execute_result"
    }
   ],
   "source": [
    "doc[1].text"
   ]
  },
  {
   "cell_type": "code",
   "execution_count": 6,
   "metadata": {},
   "outputs": [
    {
     "name": "stdout",
     "output_type": "stream",
     "text": [
      "'m\n",
      "\n",
      "\n",
      "\n",
      "\n"
     ]
    }
   ],
   "source": [
    "token = doc[1]\n",
    "print(token.text)\n",
    "print(token.lemma_)\n",
    "print(token.pos_)\n",
    "print(token.tag_)\n",
    "print(token.dep_)"
   ]
  },
  {
   "cell_type": "markdown",
   "metadata": {},
   "source": [
    "Ex 1.6: Get the span which includes the 2nd, 3rd and 4th word in the document and print it"
   ]
  },
  {
   "cell_type": "code",
   "execution_count": 7,
   "metadata": {
    "ExecuteTime": {
     "end_time": "2020-09-28T13:37:16.509948Z",
     "start_time": "2020-09-28T13:37:16.439722Z"
    }
   },
   "outputs": [
    {
     "data": {
      "text/plain": [
       "\"'m a german\""
      ]
     },
     "execution_count": 7,
     "metadata": {},
     "output_type": "execute_result"
    }
   ],
   "source": [
    "span = doc[1:4]\n",
    "span.text"
   ]
  },
  {
   "cell_type": "markdown",
   "metadata": {},
   "source": [
    "#### **Exercise 2 - Finding percentages in a text**"
   ]
  },
  {
   "cell_type": "markdown",
   "metadata": {},
   "source": [
    "Sum up the values of the percentages mentioned in the text below and calculate how much percent of \"other\" energy sources were used (= delta to 100)."
   ]
  },
  {
   "cell_type": "code",
   "execution_count": 8,
   "metadata": {
    "ExecuteTime": {
     "end_time": "2020-09-28T12:58:32.283323Z",
     "start_time": "2020-09-28T12:58:32.049328Z"
    }
   },
   "outputs": [],
   "source": [
    "text = \"In the year 2015 42.2% of the power was produced with coal, 14.1% with nuclear power and 30% with renewable energies.\""
   ]
  },
  {
   "cell_type": "code",
   "execution_count": 9,
   "metadata": {
    "ExecuteTime": {
     "end_time": "2020-09-28T12:59:49.585234Z",
     "start_time": "2020-09-28T12:59:27.859099Z"
    }
   },
   "outputs": [],
   "source": [
    "doc = nlp(text)"
   ]
  },
  {
   "cell_type": "code",
   "execution_count": 10,
   "metadata": {},
   "outputs": [
    {
     "name": "stdout",
     "output_type": "stream",
     "text": [
      "86.3 %\n"
     ]
    }
   ],
   "source": [
    "cache = 0\n",
    "\n",
    "for token in doc:\n",
    "    if token.i+1 < len(doc) and doc[token.i+1].text == \"%\":\n",
    "        cache += float(token.text)\n",
    "        \n",
    "print(round(cache, 2), \"%\")"
   ]
  },
  {
   "cell_type": "markdown",
   "metadata": {},
   "source": [
    "#### **Exercise 3 - Working with models**"
   ]
  },
  {
   "cell_type": "markdown",
   "metadata": {},
   "source": [
    "Ex 3.1: Load the model \"en_core_web_sm\""
   ]
  },
  {
   "cell_type": "code",
   "execution_count": 11,
   "metadata": {
    "ExecuteTime": {
     "end_time": "2020-09-28T13:44:55.026647Z",
     "start_time": "2020-09-28T13:44:31.587251Z"
    }
   },
   "outputs": [],
   "source": [
    "import spacy\n",
    "\n",
    "nlp = spacy.load(\"en_core_web_sm\")"
   ]
  },
  {
   "cell_type": "markdown",
   "metadata": {
    "ExecuteTime": {
     "end_time": "2020-09-28T13:26:14.151126Z",
     "start_time": "2020-09-28T13:26:14.095029Z"
    }
   },
   "source": [
    "Ex 3.2: Print the sentence of Exercise 1 with each word in its base form (lemma)"
   ]
  },
  {
   "cell_type": "code",
   "execution_count": 15,
   "metadata": {
    "ExecuteTime": {
     "end_time": "2020-09-28T13:45:11.668984Z",
     "start_time": "2020-09-28T13:45:11.467660Z"
    }
   },
   "outputs": [
    {
     "name": "stdout",
     "output_type": "stream",
     "text": [
      "I be a german student of artificial intelligence . I can only recommend the course !\n"
     ]
    }
   ],
   "source": [
    "doc = nlp(my_text)\n",
    "\n",
    "cache = \"\"\n",
    "for token in doc:\n",
    "    cache += f\"{token.lemma_} \"\n",
    "    \n",
    "print(cache[:-1])"
   ]
  },
  {
   "cell_type": "markdown",
   "metadata": {},
   "source": [
    "Ex 3.3: Print the pos-tag in brackets behind each word of the sentence"
   ]
  },
  {
   "cell_type": "code",
   "execution_count": 16,
   "metadata": {
    "ExecuteTime": {
     "end_time": "2020-09-28T13:49:40.376580Z",
     "start_time": "2020-09-28T13:49:40.300023Z"
    }
   },
   "outputs": [
    {
     "name": "stdout",
     "output_type": "stream",
     "text": [
      "I[PRON] 'm[AUX] a[DET] german[ADJ] student[NOUN] of[ADP] artificial[ADJ] intelligence[NOUN] .[PUNCT] I[PRON] can[AUX] only[ADV] recommend[VERB] the[DET] course[NOUN] ![PUNCT]\n"
     ]
    }
   ],
   "source": [
    "cache = \"\"\n",
    "for token in doc:\n",
    "    cache += f\"{token.text}[{token.pos_}] \"\n",
    "    \n",
    "print(cache[:-1])"
   ]
  },
  {
   "cell_type": "markdown",
   "metadata": {},
   "source": [
    "#### **Exercise 4 - Counting parts-of-speech**"
   ]
  },
  {
   "cell_type": "markdown",
   "metadata": {},
   "source": [
    "Process the following text using the German language model \"de_core_news_sm\". Count how often each POS tag occurs and plot a bar chart showing the numbers. You may use any visualization library that you like (e.g. matplotlib's method bar())"
   ]
  },
  {
   "cell_type": "code",
   "execution_count": 12,
   "metadata": {
    "ExecuteTime": {
     "end_time": "2020-09-28T14:00:41.192163Z",
     "start_time": "2020-09-28T14:00:41.145160Z"
    }
   },
   "outputs": [],
   "source": [
    "german_text = \"Die Hochschule für Angewandte Wissenschaften Offenburg wurde 1964 als Staatliche Ingenieurschule gegründet und 1978 durch den betriebswirtschaftlichen Standort in Gengenbach ergänzt. In den 1990er-Jahren entwickelte sie als Fachhochschule neue Studienangebote im Bereich Medien sowie Master-Studiengänge mit internationaler Ausrichtung. In den vergangenen zehn Jahren hat sich die Zahl der Studierenden mehr als verdoppelt. Heute studieren an den beiden Standorten Offenburg und Gengenbach rund 4500 junge Menschen in den Bereichen Technik, Wirtschaft und Medien. Die vier Fakultäten bieten ein breites, interdisziplinäres und praxisorientiertes Fächerspektrum: Betriebswirtschaft und Wirtschaftsingenieurwesen, Elektrotechnik, Medizintechnik und Informationstechnik, Maschinenbau und Verfahrenstechnik sowie Medien und Informationswesen.\""
   ]
  },
  {
   "cell_type": "code",
   "execution_count": 19,
   "metadata": {
    "ExecuteTime": {
     "end_time": "2020-09-28T14:01:24.497253Z",
     "start_time": "2020-09-28T14:01:08.800537Z"
    }
   },
   "outputs": [],
   "source": [
    "nlp = spacy.load(\"de_core_news_sm\")\n",
    "doc = nlp(german_text)"
   ]
  },
  {
   "cell_type": "code",
   "execution_count": 22,
   "metadata": {},
   "outputs": [
    {
     "name": "stdout",
     "output_type": "stream",
     "text": [
      "{'DET': 11, 'NOUN': 32, 'ADP': 12, 'PROPN': 4, 'AUX': 2, 'NUM': 5, 'ADJ': 9, 'VERB': 6, 'CCONJ': 10, 'PUNCT': 11, 'PRON': 2, 'ADV': 3}\n"
     ]
    }
   ],
   "source": [
    "cache = dict()\n",
    "\n",
    "for token in doc:\n",
    "    if token.pos_ in cache.keys():\n",
    "        cache[token.pos_] += 1\n",
    "    else:\n",
    "        cache[token.pos_] = 1\n",
    "        \n",
    "print(cache)"
   ]
  },
  {
   "cell_type": "code",
   "execution_count": 33,
   "metadata": {},
   "outputs": [
    {
     "data": {
      "text/plain": [
       "<BarContainer object of 12 artists>"
      ]
     },
     "execution_count": 33,
     "metadata": {},
     "output_type": "execute_result"
    },
    {
     "data": {
      "image/png": "[encoded data removed]",
      "text/plain": [
       "<Figure size 1080x576 with 1 Axes>"
      ]
     },
     "metadata": {
      "needs_background": "light"
     },
     "output_type": "display_data"
    }
   ],
   "source": [
    "import matplotlib.pyplot as plt\n",
    "\n",
    "fig, ax = plt.subplots(1, 1, figsize=(15, 8))\n",
    "\n",
    "plt.grid()\n",
    "\n",
    "ax.bar(cache.keys(), cache.values(), edgecolor=\"orange\")"
   ]
  }
 ],
 "metadata": {
  "kernelspec": {
   "display_name": "Python 3 (ipykernel)",
   "language": "python",
   "name": "python3"
  },
  "language_info": {
   "codemirror_mode": {
    "name": "ipython",
    "version": 3
   },
   "file_extension": ".py",
   "mimetype": "text/x-python",
   "name": "python",
   "nbconvert_exporter": "python",
   "pygments_lexer": "ipython3",
   "version": "3.9.10"
  },
  "varInspector": {
   "cols": {
    "lenName": 16,
    "lenType": 16,
    "lenVar": 40
   },
   "kernels_config": {
    "python": {
     "delete_cmd_postfix": "",
     "delete_cmd_prefix": "del ",
     "library": "var_list.py",
     "varRefreshCmd": "print(var_dic_list())"
    },
    "r": {
     "delete_cmd_postfix": ") ",
     "delete_cmd_prefix": "rm(",
     "library": "var_list.r",
     "varRefreshCmd": "cat(var_dic_list()) "
    }
   },
   "types_to_exclude": [
    "module",
    "function",
    "builtin_function_or_method",
    "instance",
    "_Feature"
   ],
   "window_display": false
  }
 },
 "nbformat": 4,
 "nbformat_minor": 4
}
