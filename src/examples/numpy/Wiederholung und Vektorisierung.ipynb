{
 "cells": [
  {
   "cell_type": "markdown",
   "id": "3039a083",
   "metadata": {},
   "source": [
    "# Wiederholung und Vektoroperationen numpy"
   ]
  },
  {
   "cell_type": "code",
   "execution_count": 1,
   "id": "3d02fd86",
   "metadata": {},
   "outputs": [],
   "source": [
    "# imports\n",
    "import numpy as np\n",
    "import pandas as pd"
   ]
  },
  {
   "cell_type": "markdown",
   "id": "0a5af7d7",
   "metadata": {},
   "source": [
    "--------\n",
    "### Aufgabe 1: Slicing-Operationen auf Numpy-Arrays und Pandas-DataFrames (7 Punkte)\n",
    "1. Legen Sie ein numpy Array mit den Werten von 0 bis 100 (exklusive) an.\n",
    "2. Legen Sie ein 2-dimensionales numpy Array mit mindestens 4 Zeilen und 5 Spalten an.\n",
    "3. Legen Sie folgende Tabelle als Pandas DataFrame über ein Python Dictionary an.<br><img src=\"img/dataframe.png\" width=\"200\">\n",
    "4. Selektieren Sie die ersten 10 Einträge des numpy Arrays.\n",
    "5. Selektieren Sie jeden dritten Eintrag zwischen Index 10 und 80 des numpy Arrays.\n",
    "6. Selektieren Sie die 2. Zeile der numpy matrix und des Pandas DataFrames.\n",
    "7. Selektieren Sie die ersten beiden Zeilen der numpy matrix und des Pandas DataFrames.\n",
    "8. Selektieren Sie die 3. Spalte der numpy matrix und des Pandas DataFrames.\n",
    "9. Selektieren Sie die 2. und 4. Spalte der numpy matrix und des Pandas DataFrames.\n",
    "10. Selektieren Sie jede zweite Spalte, beginnend mit der 2. Spalte und jede 3. Zeile, beginnend mit der ersten Zeile, jeweils bis zum Schluss der numpy matrix und des Pandas DataFrames.\n",
    "\n",
    "\n",
    "__Hinweis__: Bei der Selektion in Pandas DataFrames wenden Sie bitte alle möglichen Zugriffsarten an (Standard [] ohne Verkettung, iloc[] und loc[] Indexierung)."
   ]
  },
  {
   "cell_type": "markdown",
   "id": "7b5bba80",
   "metadata": {},
   "source": [
    "### 1)"
   ]
  },
  {
   "cell_type": "code",
   "execution_count": 2,
   "id": "4b3e3808",
   "metadata": {},
   "outputs": [
    {
     "data": {
      "text/plain": [
       "array([ 0,  1,  2,  3,  4,  5,  6,  7,  8,  9, 10, 11, 12, 13, 14, 15, 16,\n",
       "       17, 18, 19, 20, 21, 22, 23, 24, 25, 26, 27, 28, 29, 30, 31, 32, 33,\n",
       "       34, 35, 36, 37, 38, 39, 40, 41, 42, 43, 44, 45, 46, 47, 48, 49, 50,\n",
       "       51, 52, 53, 54, 55, 56, 57, 58, 59, 60, 61, 62, 63, 64, 65, 66, 67,\n",
       "       68, 69, 70, 71, 72, 73, 74, 75, 76, 77, 78, 79, 80, 81, 82, 83, 84,\n",
       "       85, 86, 87, 88, 89, 90, 91, 92, 93, 94, 95, 96, 97, 98, 99])"
      ]
     },
     "execution_count": 2,
     "metadata": {},
     "output_type": "execute_result"
    }
   ],
   "source": [
    "data = np.arange(0, 100)\n",
    "data"
   ]
  },
  {
   "cell_type": "markdown",
   "id": "a8f0c545",
   "metadata": {},
   "source": [
    "### 2)"
   ]
  },
  {
   "cell_type": "code",
   "execution_count": 3,
   "id": "4bec71eb",
   "metadata": {},
   "outputs": [
    {
     "data": {
      "text/plain": [
       "array([[ 0,  1,  2,  3,  4],\n",
       "       [ 5,  6,  7,  8,  9],\n",
       "       [10, 11, 12, 13, 14],\n",
       "       [15, 16, 17, 18, 19]])"
      ]
     },
     "execution_count": 3,
     "metadata": {},
     "output_type": "execute_result"
    }
   ],
   "source": [
    "data_2 = np.arange(20).reshape(4, 5)\n",
    "data_2"
   ]
  },
  {
   "cell_type": "markdown",
   "id": "081dd66b",
   "metadata": {},
   "source": [
    "### 3)"
   ]
  },
  {
   "cell_type": "code",
   "execution_count": 4,
   "id": "a7249791",
   "metadata": {},
   "outputs": [
    {
     "data": {
      "text/html": [
       "<div>\n",
       "<style scoped>\n",
       "    .dataframe tbody tr th:only-of-type {\n",
       "        vertical-align: middle;\n",
       "    }\n",
       "\n",
       "    .dataframe tbody tr th {\n",
       "        vertical-align: top;\n",
       "    }\n",
       "\n",
       "    .dataframe thead th {\n",
       "        text-align: right;\n",
       "    }\n",
       "</style>\n",
       "<table border=\"1\" class=\"dataframe\">\n",
       "  <thead>\n",
       "    <tr style=\"text-align: right;\">\n",
       "      <th></th>\n",
       "      <th>EmpID</th>\n",
       "      <th>Skill</th>\n",
       "      <th>Age</th>\n",
       "      <th>Pay</th>\n",
       "    </tr>\n",
       "  </thead>\n",
       "  <tbody>\n",
       "    <tr>\n",
       "      <th>0</th>\n",
       "      <td>23</td>\n",
       "      <td>Python</td>\n",
       "      <td>32</td>\n",
       "      <td>40000</td>\n",
       "    </tr>\n",
       "    <tr>\n",
       "      <th>1</th>\n",
       "      <td>16</td>\n",
       "      <td>Python</td>\n",
       "      <td>28</td>\n",
       "      <td>40000</td>\n",
       "    </tr>\n",
       "    <tr>\n",
       "      <th>2</th>\n",
       "      <td>19</td>\n",
       "      <td>Java</td>\n",
       "      <td>23</td>\n",
       "      <td>35000</td>\n",
       "    </tr>\n",
       "    <tr>\n",
       "      <th>3</th>\n",
       "      <td>12</td>\n",
       "      <td>Java</td>\n",
       "      <td>56</td>\n",
       "      <td>50000</td>\n",
       "    </tr>\n",
       "    <tr>\n",
       "      <th>4</th>\n",
       "      <td>6</td>\n",
       "      <td>Java</td>\n",
       "      <td>66</td>\n",
       "      <td>55000</td>\n",
       "    </tr>\n",
       "  </tbody>\n",
       "</table>\n",
       "</div>"
      ],
      "text/plain": [
       "   EmpID   Skill  Age    Pay\n",
       "0     23  Python   32  40000\n",
       "1     16  Python   28  40000\n",
       "2     19    Java   23  35000\n",
       "3     12    Java   56  50000\n",
       "4      6    Java   66  55000"
      ]
     },
     "execution_count": 4,
     "metadata": {},
     "output_type": "execute_result"
    }
   ],
   "source": [
    "data_dic = {'EmpID': [23, 16, 19, 12, 6],\n",
    "            'Skill': ['Python', 'Python', 'Java', 'Java', 'Java'],\n",
    "            'Age': [32, 28, 23, 56, 66],\n",
    "            'Pay': [40000, 40000, 35000, 50000, 55000]}\n",
    "            \n",
    "df = pd.DataFrame(data_dic)\n",
    "df.head()"
   ]
  },
  {
   "cell_type": "markdown",
   "id": "ebaaff3f",
   "metadata": {},
   "source": [
    "### 4)"
   ]
  },
  {
   "cell_type": "code",
   "execution_count": 5,
   "id": "27f51092",
   "metadata": {},
   "outputs": [
    {
     "data": {
      "text/plain": [
       "array([0, 1, 2, 3, 4, 5, 6, 7, 8, 9])"
      ]
     },
     "execution_count": 5,
     "metadata": {},
     "output_type": "execute_result"
    }
   ],
   "source": [
    "data[:10]"
   ]
  },
  {
   "cell_type": "markdown",
   "id": "1a83df6f",
   "metadata": {},
   "source": [
    "### 5)"
   ]
  },
  {
   "cell_type": "code",
   "execution_count": 6,
   "id": "7dcc17c1",
   "metadata": {},
   "outputs": [
    {
     "data": {
      "text/plain": [
       "array([11, 14, 17, 20, 23, 26, 29, 32, 35, 38, 41, 44, 47, 50, 53, 56, 59,\n",
       "       62, 65, 68, 71, 74, 77])"
      ]
     },
     "execution_count": 6,
     "metadata": {},
     "output_type": "execute_result"
    }
   ],
   "source": [
    "data[11:80:3]    # -> zwischen -> exklusive 10 und 80"
   ]
  },
  {
   "cell_type": "markdown",
   "id": "fc4a5d13",
   "metadata": {},
   "source": [
    "### 6)"
   ]
  },
  {
   "cell_type": "code",
   "execution_count": 7,
   "id": "f7a6fe8c",
   "metadata": {},
   "outputs": [
    {
     "data": {
      "text/plain": [
       "array([ 1,  6, 11, 16])"
      ]
     },
     "execution_count": 7,
     "metadata": {},
     "output_type": "execute_result"
    }
   ],
   "source": [
    "data_2[:, 1]    # 1 = zweiter Eintrag"
   ]
  },
  {
   "cell_type": "code",
   "execution_count": 8,
   "id": "f5ecbcf5",
   "metadata": {},
   "outputs": [
    {
     "data": {
      "text/plain": [
       "EmpID        16\n",
       "Skill    Python\n",
       "Age          28\n",
       "Pay       40000\n",
       "Name: 1, dtype: object"
      ]
     },
     "execution_count": 8,
     "metadata": {},
     "output_type": "execute_result"
    }
   ],
   "source": [
    "df.iloc[1, :]"
   ]
  },
  {
   "cell_type": "code",
   "execution_count": 9,
   "id": "4f84cf46",
   "metadata": {},
   "outputs": [
    {
     "data": {
      "text/plain": [
       "EmpID        16\n",
       "Skill    Python\n",
       "Age          28\n",
       "Pay       40000\n",
       "Name: 1, dtype: object"
      ]
     },
     "execution_count": 9,
     "metadata": {},
     "output_type": "execute_result"
    }
   ],
   "source": [
    "df.loc[1, :]"
   ]
  },
  {
   "cell_type": "code",
   "execution_count": 10,
   "id": "ea9242a3",
   "metadata": {},
   "outputs": [
    {
     "data": {
      "text/html": [
       "<div>\n",
       "<style scoped>\n",
       "    .dataframe tbody tr th:only-of-type {\n",
       "        vertical-align: middle;\n",
       "    }\n",
       "\n",
       "    .dataframe tbody tr th {\n",
       "        vertical-align: top;\n",
       "    }\n",
       "\n",
       "    .dataframe thead th {\n",
       "        text-align: right;\n",
       "    }\n",
       "</style>\n",
       "<table border=\"1\" class=\"dataframe\">\n",
       "  <thead>\n",
       "    <tr style=\"text-align: right;\">\n",
       "      <th></th>\n",
       "      <th>EmpID</th>\n",
       "      <th>Skill</th>\n",
       "      <th>Age</th>\n",
       "      <th>Pay</th>\n",
       "    </tr>\n",
       "  </thead>\n",
       "  <tbody>\n",
       "    <tr>\n",
       "      <th>1</th>\n",
       "      <td>16</td>\n",
       "      <td>Python</td>\n",
       "      <td>28</td>\n",
       "      <td>40000</td>\n",
       "    </tr>\n",
       "  </tbody>\n",
       "</table>\n",
       "</div>"
      ],
      "text/plain": [
       "   EmpID   Skill  Age    Pay\n",
       "1     16  Python   28  40000"
      ]
     },
     "execution_count": 10,
     "metadata": {},
     "output_type": "execute_result"
    }
   ],
   "source": [
    "df[1:2]"
   ]
  },
  {
   "cell_type": "markdown",
   "id": "d14ad646",
   "metadata": {},
   "source": [
    "### 7)"
   ]
  },
  {
   "cell_type": "code",
   "execution_count": 11,
   "id": "d642abb6",
   "metadata": {},
   "outputs": [
    {
     "data": {
      "text/plain": [
       "array([[0, 1, 2, 3, 4],\n",
       "       [5, 6, 7, 8, 9]])"
      ]
     },
     "execution_count": 11,
     "metadata": {},
     "output_type": "execute_result"
    }
   ],
   "source": [
    "data_2[0:2, :]"
   ]
  },
  {
   "cell_type": "code",
   "execution_count": 12,
   "id": "19620cb0",
   "metadata": {},
   "outputs": [
    {
     "data": {
      "text/html": [
       "<div>\n",
       "<style scoped>\n",
       "    .dataframe tbody tr th:only-of-type {\n",
       "        vertical-align: middle;\n",
       "    }\n",
       "\n",
       "    .dataframe tbody tr th {\n",
       "        vertical-align: top;\n",
       "    }\n",
       "\n",
       "    .dataframe thead th {\n",
       "        text-align: right;\n",
       "    }\n",
       "</style>\n",
       "<table border=\"1\" class=\"dataframe\">\n",
       "  <thead>\n",
       "    <tr style=\"text-align: right;\">\n",
       "      <th></th>\n",
       "      <th>EmpID</th>\n",
       "      <th>Skill</th>\n",
       "      <th>Age</th>\n",
       "      <th>Pay</th>\n",
       "    </tr>\n",
       "  </thead>\n",
       "  <tbody>\n",
       "    <tr>\n",
       "      <th>0</th>\n",
       "      <td>23</td>\n",
       "      <td>Python</td>\n",
       "      <td>32</td>\n",
       "      <td>40000</td>\n",
       "    </tr>\n",
       "    <tr>\n",
       "      <th>1</th>\n",
       "      <td>16</td>\n",
       "      <td>Python</td>\n",
       "      <td>28</td>\n",
       "      <td>40000</td>\n",
       "    </tr>\n",
       "  </tbody>\n",
       "</table>\n",
       "</div>"
      ],
      "text/plain": [
       "   EmpID   Skill  Age    Pay\n",
       "0     23  Python   32  40000\n",
       "1     16  Python   28  40000"
      ]
     },
     "execution_count": 12,
     "metadata": {},
     "output_type": "execute_result"
    }
   ],
   "source": [
    "df.iloc[0:2, :]"
   ]
  },
  {
   "cell_type": "code",
   "execution_count": 13,
   "id": "f6a266e1",
   "metadata": {},
   "outputs": [
    {
     "data": {
      "text/html": [
       "<div>\n",
       "<style scoped>\n",
       "    .dataframe tbody tr th:only-of-type {\n",
       "        vertical-align: middle;\n",
       "    }\n",
       "\n",
       "    .dataframe tbody tr th {\n",
       "        vertical-align: top;\n",
       "    }\n",
       "\n",
       "    .dataframe thead th {\n",
       "        text-align: right;\n",
       "    }\n",
       "</style>\n",
       "<table border=\"1\" class=\"dataframe\">\n",
       "  <thead>\n",
       "    <tr style=\"text-align: right;\">\n",
       "      <th></th>\n",
       "      <th>EmpID</th>\n",
       "      <th>Skill</th>\n",
       "      <th>Age</th>\n",
       "      <th>Pay</th>\n",
       "    </tr>\n",
       "  </thead>\n",
       "  <tbody>\n",
       "    <tr>\n",
       "      <th>0</th>\n",
       "      <td>23</td>\n",
       "      <td>Python</td>\n",
       "      <td>32</td>\n",
       "      <td>40000</td>\n",
       "    </tr>\n",
       "    <tr>\n",
       "      <th>1</th>\n",
       "      <td>16</td>\n",
       "      <td>Python</td>\n",
       "      <td>28</td>\n",
       "      <td>40000</td>\n",
       "    </tr>\n",
       "  </tbody>\n",
       "</table>\n",
       "</div>"
      ],
      "text/plain": [
       "   EmpID   Skill  Age    Pay\n",
       "0     23  Python   32  40000\n",
       "1     16  Python   28  40000"
      ]
     },
     "execution_count": 13,
     "metadata": {},
     "output_type": "execute_result"
    }
   ],
   "source": [
    "df.loc[0:1, :]"
   ]
  },
  {
   "cell_type": "code",
   "execution_count": 14,
   "id": "34dc254a",
   "metadata": {},
   "outputs": [
    {
     "data": {
      "text/html": [
       "<div>\n",
       "<style scoped>\n",
       "    .dataframe tbody tr th:only-of-type {\n",
       "        vertical-align: middle;\n",
       "    }\n",
       "\n",
       "    .dataframe tbody tr th {\n",
       "        vertical-align: top;\n",
       "    }\n",
       "\n",
       "    .dataframe thead th {\n",
       "        text-align: right;\n",
       "    }\n",
       "</style>\n",
       "<table border=\"1\" class=\"dataframe\">\n",
       "  <thead>\n",
       "    <tr style=\"text-align: right;\">\n",
       "      <th></th>\n",
       "      <th>EmpID</th>\n",
       "      <th>Skill</th>\n",
       "      <th>Age</th>\n",
       "      <th>Pay</th>\n",
       "    </tr>\n",
       "  </thead>\n",
       "  <tbody>\n",
       "    <tr>\n",
       "      <th>0</th>\n",
       "      <td>23</td>\n",
       "      <td>Python</td>\n",
       "      <td>32</td>\n",
       "      <td>40000</td>\n",
       "    </tr>\n",
       "    <tr>\n",
       "      <th>1</th>\n",
       "      <td>16</td>\n",
       "      <td>Python</td>\n",
       "      <td>28</td>\n",
       "      <td>40000</td>\n",
       "    </tr>\n",
       "  </tbody>\n",
       "</table>\n",
       "</div>"
      ],
      "text/plain": [
       "   EmpID   Skill  Age    Pay\n",
       "0     23  Python   32  40000\n",
       "1     16  Python   28  40000"
      ]
     },
     "execution_count": 14,
     "metadata": {},
     "output_type": "execute_result"
    }
   ],
   "source": [
    "df[0:2]"
   ]
  },
  {
   "cell_type": "markdown",
   "id": "98022415",
   "metadata": {},
   "source": [
    "### 8)"
   ]
  },
  {
   "cell_type": "code",
   "execution_count": 15,
   "id": "85a9d541",
   "metadata": {},
   "outputs": [
    {
     "data": {
      "text/plain": [
       "array([ 2,  7, 12, 17])"
      ]
     },
     "execution_count": 15,
     "metadata": {},
     "output_type": "execute_result"
    }
   ],
   "source": [
    "data_2[:, 2]"
   ]
  },
  {
   "cell_type": "code",
   "execution_count": 16,
   "id": "ae9441ec",
   "metadata": {},
   "outputs": [
    {
     "data": {
      "text/plain": [
       "0    32\n",
       "1    28\n",
       "2    23\n",
       "3    56\n",
       "4    66\n",
       "Name: Age, dtype: int64"
      ]
     },
     "execution_count": 16,
     "metadata": {},
     "output_type": "execute_result"
    }
   ],
   "source": [
    "df.iloc[:, 2]"
   ]
  },
  {
   "cell_type": "code",
   "execution_count": 17,
   "id": "72182f69",
   "metadata": {},
   "outputs": [
    {
     "data": {
      "text/plain": [
       "0    32\n",
       "1    28\n",
       "2    23\n",
       "3    56\n",
       "4    66\n",
       "Name: Age, dtype: int64"
      ]
     },
     "execution_count": 17,
     "metadata": {},
     "output_type": "execute_result"
    }
   ],
   "source": [
    "df.loc[:, 'Age']"
   ]
  },
  {
   "cell_type": "code",
   "execution_count": 18,
   "id": "6674de0c",
   "metadata": {},
   "outputs": [
    {
     "data": {
      "text/plain": [
       "0    32\n",
       "1    28\n",
       "2    23\n",
       "3    56\n",
       "4    66\n",
       "Name: Age, dtype: int64"
      ]
     },
     "execution_count": 18,
     "metadata": {},
     "output_type": "execute_result"
    }
   ],
   "source": [
    "df['Age']"
   ]
  },
  {
   "cell_type": "markdown",
   "id": "d64f84f8",
   "metadata": {},
   "source": [
    "### 9)"
   ]
  },
  {
   "cell_type": "code",
   "execution_count": 19,
   "id": "b3bc4338",
   "metadata": {},
   "outputs": [
    {
     "data": {
      "text/plain": [
       "array([[ 1,  3],\n",
       "       [ 6,  8],\n",
       "       [11, 13],\n",
       "       [16, 18]])"
      ]
     },
     "execution_count": 19,
     "metadata": {},
     "output_type": "execute_result"
    }
   ],
   "source": [
    "data_2[:, 1:4:2]"
   ]
  },
  {
   "cell_type": "code",
   "execution_count": 20,
   "id": "9f9b3dde",
   "metadata": {},
   "outputs": [
    {
     "data": {
      "text/html": [
       "<div>\n",
       "<style scoped>\n",
       "    .dataframe tbody tr th:only-of-type {\n",
       "        vertical-align: middle;\n",
       "    }\n",
       "\n",
       "    .dataframe tbody tr th {\n",
       "        vertical-align: top;\n",
       "    }\n",
       "\n",
       "    .dataframe thead th {\n",
       "        text-align: right;\n",
       "    }\n",
       "</style>\n",
       "<table border=\"1\" class=\"dataframe\">\n",
       "  <thead>\n",
       "    <tr style=\"text-align: right;\">\n",
       "      <th></th>\n",
       "      <th>Skill</th>\n",
       "      <th>Pay</th>\n",
       "    </tr>\n",
       "  </thead>\n",
       "  <tbody>\n",
       "    <tr>\n",
       "      <th>0</th>\n",
       "      <td>Python</td>\n",
       "      <td>40000</td>\n",
       "    </tr>\n",
       "    <tr>\n",
       "      <th>1</th>\n",
       "      <td>Python</td>\n",
       "      <td>40000</td>\n",
       "    </tr>\n",
       "    <tr>\n",
       "      <th>2</th>\n",
       "      <td>Java</td>\n",
       "      <td>35000</td>\n",
       "    </tr>\n",
       "    <tr>\n",
       "      <th>3</th>\n",
       "      <td>Java</td>\n",
       "      <td>50000</td>\n",
       "    </tr>\n",
       "    <tr>\n",
       "      <th>4</th>\n",
       "      <td>Java</td>\n",
       "      <td>55000</td>\n",
       "    </tr>\n",
       "  </tbody>\n",
       "</table>\n",
       "</div>"
      ],
      "text/plain": [
       "    Skill    Pay\n",
       "0  Python  40000\n",
       "1  Python  40000\n",
       "2    Java  35000\n",
       "3    Java  50000\n",
       "4    Java  55000"
      ]
     },
     "execution_count": 20,
     "metadata": {},
     "output_type": "execute_result"
    }
   ],
   "source": [
    "df.iloc[:, 1:4:2]"
   ]
  },
  {
   "cell_type": "code",
   "execution_count": 21,
   "id": "7d2b0775",
   "metadata": {},
   "outputs": [
    {
     "data": {
      "text/html": [
       "<div>\n",
       "<style scoped>\n",
       "    .dataframe tbody tr th:only-of-type {\n",
       "        vertical-align: middle;\n",
       "    }\n",
       "\n",
       "    .dataframe tbody tr th {\n",
       "        vertical-align: top;\n",
       "    }\n",
       "\n",
       "    .dataframe thead th {\n",
       "        text-align: right;\n",
       "    }\n",
       "</style>\n",
       "<table border=\"1\" class=\"dataframe\">\n",
       "  <thead>\n",
       "    <tr style=\"text-align: right;\">\n",
       "      <th></th>\n",
       "      <th>Skill</th>\n",
       "      <th>Pay</th>\n",
       "    </tr>\n",
       "  </thead>\n",
       "  <tbody>\n",
       "    <tr>\n",
       "      <th>0</th>\n",
       "      <td>Python</td>\n",
       "      <td>40000</td>\n",
       "    </tr>\n",
       "    <tr>\n",
       "      <th>1</th>\n",
       "      <td>Python</td>\n",
       "      <td>40000</td>\n",
       "    </tr>\n",
       "    <tr>\n",
       "      <th>2</th>\n",
       "      <td>Java</td>\n",
       "      <td>35000</td>\n",
       "    </tr>\n",
       "    <tr>\n",
       "      <th>3</th>\n",
       "      <td>Java</td>\n",
       "      <td>50000</td>\n",
       "    </tr>\n",
       "    <tr>\n",
       "      <th>4</th>\n",
       "      <td>Java</td>\n",
       "      <td>55000</td>\n",
       "    </tr>\n",
       "  </tbody>\n",
       "</table>\n",
       "</div>"
      ],
      "text/plain": [
       "    Skill    Pay\n",
       "0  Python  40000\n",
       "1  Python  40000\n",
       "2    Java  35000\n",
       "3    Java  50000\n",
       "4    Java  55000"
      ]
     },
     "execution_count": 21,
     "metadata": {},
     "output_type": "execute_result"
    }
   ],
   "source": [
    "df.loc[:, ['Skill', 'Pay']]"
   ]
  },
  {
   "cell_type": "code",
   "execution_count": 22,
   "id": "0b9cff9b",
   "metadata": {},
   "outputs": [
    {
     "data": {
      "text/html": [
       "<div>\n",
       "<style scoped>\n",
       "    .dataframe tbody tr th:only-of-type {\n",
       "        vertical-align: middle;\n",
       "    }\n",
       "\n",
       "    .dataframe tbody tr th {\n",
       "        vertical-align: top;\n",
       "    }\n",
       "\n",
       "    .dataframe thead th {\n",
       "        text-align: right;\n",
       "    }\n",
       "</style>\n",
       "<table border=\"1\" class=\"dataframe\">\n",
       "  <thead>\n",
       "    <tr style=\"text-align: right;\">\n",
       "      <th></th>\n",
       "      <th>Skill</th>\n",
       "      <th>Pay</th>\n",
       "    </tr>\n",
       "  </thead>\n",
       "  <tbody>\n",
       "    <tr>\n",
       "      <th>0</th>\n",
       "      <td>Python</td>\n",
       "      <td>40000</td>\n",
       "    </tr>\n",
       "    <tr>\n",
       "      <th>1</th>\n",
       "      <td>Python</td>\n",
       "      <td>40000</td>\n",
       "    </tr>\n",
       "    <tr>\n",
       "      <th>2</th>\n",
       "      <td>Java</td>\n",
       "      <td>35000</td>\n",
       "    </tr>\n",
       "    <tr>\n",
       "      <th>3</th>\n",
       "      <td>Java</td>\n",
       "      <td>50000</td>\n",
       "    </tr>\n",
       "    <tr>\n",
       "      <th>4</th>\n",
       "      <td>Java</td>\n",
       "      <td>55000</td>\n",
       "    </tr>\n",
       "  </tbody>\n",
       "</table>\n",
       "</div>"
      ],
      "text/plain": [
       "    Skill    Pay\n",
       "0  Python  40000\n",
       "1  Python  40000\n",
       "2    Java  35000\n",
       "3    Java  50000\n",
       "4    Java  55000"
      ]
     },
     "execution_count": 22,
     "metadata": {},
     "output_type": "execute_result"
    }
   ],
   "source": [
    "df[['Skill', 'Pay']]"
   ]
  },
  {
   "cell_type": "markdown",
   "id": "6cec822d",
   "metadata": {},
   "source": [
    "### 10)\n",
    "Selektieren Sie jede zweite Spalte, beginnend mit der 2. Spalte und jede 3. Zeile, beginnend mit der ersten Zeile, jeweils bis zum Schluss der numpy matrix und des Pandas DataFrames."
   ]
  },
  {
   "cell_type": "code",
   "execution_count": 23,
   "id": "41cbeebe",
   "metadata": {},
   "outputs": [
    {
     "data": {
      "text/plain": [
       "array([[ 1,  3],\n",
       "       [16, 18]])"
      ]
     },
     "execution_count": 23,
     "metadata": {},
     "output_type": "execute_result"
    }
   ],
   "source": [
    "data_2[::3, 1::2]"
   ]
  },
  {
   "cell_type": "code",
   "execution_count": 24,
   "id": "b6367e37",
   "metadata": {},
   "outputs": [
    {
     "data": {
      "text/html": [
       "<div>\n",
       "<style scoped>\n",
       "    .dataframe tbody tr th:only-of-type {\n",
       "        vertical-align: middle;\n",
       "    }\n",
       "\n",
       "    .dataframe tbody tr th {\n",
       "        vertical-align: top;\n",
       "    }\n",
       "\n",
       "    .dataframe thead th {\n",
       "        text-align: right;\n",
       "    }\n",
       "</style>\n",
       "<table border=\"1\" class=\"dataframe\">\n",
       "  <thead>\n",
       "    <tr style=\"text-align: right;\">\n",
       "      <th></th>\n",
       "      <th>Skill</th>\n",
       "      <th>Pay</th>\n",
       "    </tr>\n",
       "  </thead>\n",
       "  <tbody>\n",
       "    <tr>\n",
       "      <th>0</th>\n",
       "      <td>Python</td>\n",
       "      <td>40000</td>\n",
       "    </tr>\n",
       "    <tr>\n",
       "      <th>3</th>\n",
       "      <td>Java</td>\n",
       "      <td>50000</td>\n",
       "    </tr>\n",
       "  </tbody>\n",
       "</table>\n",
       "</div>"
      ],
      "text/plain": [
       "    Skill    Pay\n",
       "0  Python  40000\n",
       "3    Java  50000"
      ]
     },
     "execution_count": 24,
     "metadata": {},
     "output_type": "execute_result"
    }
   ],
   "source": [
    "df.iloc[::3, 1::2]"
   ]
  },
  {
   "cell_type": "code",
   "execution_count": 25,
   "id": "f13a225e",
   "metadata": {},
   "outputs": [
    {
     "data": {
      "text/html": [
       "<div>\n",
       "<style scoped>\n",
       "    .dataframe tbody tr th:only-of-type {\n",
       "        vertical-align: middle;\n",
       "    }\n",
       "\n",
       "    .dataframe tbody tr th {\n",
       "        vertical-align: top;\n",
       "    }\n",
       "\n",
       "    .dataframe thead th {\n",
       "        text-align: right;\n",
       "    }\n",
       "</style>\n",
       "<table border=\"1\" class=\"dataframe\">\n",
       "  <thead>\n",
       "    <tr style=\"text-align: right;\">\n",
       "      <th></th>\n",
       "      <th>Skill</th>\n",
       "      <th>Pay</th>\n",
       "    </tr>\n",
       "  </thead>\n",
       "  <tbody>\n",
       "    <tr>\n",
       "      <th>0</th>\n",
       "      <td>Python</td>\n",
       "      <td>40000</td>\n",
       "    </tr>\n",
       "    <tr>\n",
       "      <th>3</th>\n",
       "      <td>Java</td>\n",
       "      <td>50000</td>\n",
       "    </tr>\n",
       "  </tbody>\n",
       "</table>\n",
       "</div>"
      ],
      "text/plain": [
       "    Skill    Pay\n",
       "0  Python  40000\n",
       "3    Java  50000"
      ]
     },
     "execution_count": 25,
     "metadata": {},
     "output_type": "execute_result"
    }
   ],
   "source": [
    "df.loc[::3, ['Skill', 'Pay']]"
   ]
  },
  {
   "cell_type": "code",
   "execution_count": 26,
   "id": "6d79d538",
   "metadata": {},
   "outputs": [
    {
     "data": {
      "text/html": [
       "<div>\n",
       "<style scoped>\n",
       "    .dataframe tbody tr th:only-of-type {\n",
       "        vertical-align: middle;\n",
       "    }\n",
       "\n",
       "    .dataframe tbody tr th {\n",
       "        vertical-align: top;\n",
       "    }\n",
       "\n",
       "    .dataframe thead th {\n",
       "        text-align: right;\n",
       "    }\n",
       "</style>\n",
       "<table border=\"1\" class=\"dataframe\">\n",
       "  <thead>\n",
       "    <tr style=\"text-align: right;\">\n",
       "      <th></th>\n",
       "      <th>Skill</th>\n",
       "      <th>Pay</th>\n",
       "    </tr>\n",
       "  </thead>\n",
       "  <tbody>\n",
       "    <tr>\n",
       "      <th>0</th>\n",
       "      <td>Python</td>\n",
       "      <td>40000</td>\n",
       "    </tr>\n",
       "    <tr>\n",
       "      <th>3</th>\n",
       "      <td>Java</td>\n",
       "      <td>50000</td>\n",
       "    </tr>\n",
       "  </tbody>\n",
       "</table>\n",
       "</div>"
      ],
      "text/plain": [
       "    Skill    Pay\n",
       "0  Python  40000\n",
       "3    Java  50000"
      ]
     },
     "execution_count": 26,
     "metadata": {},
     "output_type": "execute_result"
    }
   ],
   "source": [
    "df[0::3][['Skill', 'Pay']]"
   ]
  },
  {
   "cell_type": "markdown",
   "id": "bab6a543",
   "metadata": {},
   "source": [
    "---------------------------------------------\n",
    "### Aufgabe 2: Geschwindigkeitsvergleich Vektoroperation / For-Schleife (7 Punkte)\n",
    "\n",
    "1. Legen Sie ein Array mit 1.000.000 gleichverteilten Werten von 1 bis 100 an. \n",
    "2. Schreiben Sie eine Funktion, die das Array in einer For-Schleife durchläuft und die Summe der Werte berechnet.\n",
    "3. Messen Sie die Zeit, die die Berechnung der Summe benötigt, wenn Sie a) Ihre selbstgeschriebene Funktion verwenden und b) die Numpy-Funktion ``sum`` verwenden. Verwenden Sie für die Zeitmessung den magic command ``%timeit``.\n",
    "4. Führen Sie nun erneut für beide Funktionen Zeitmessungen durch. Starten Sie dieses Mal mit einem Array der Länge 100 (wieder mit gleichverteilten Zahlen zwischen 1 und 100 gefüllt). Führen Sie den Test 8x durch, jeweils mit einem um Faktor 10 längeren Array (d.h. im letzten Durchlauf haben Sie 100 Mio. Werte). Speichern Sie jeweils die gemessene Zeit in jedem Durchlauf und plotten Sie die beiden Messreihen anschließend in ein gemeinsames Diagramm."
   ]
  },
  {
   "cell_type": "markdown",
   "id": "8ca501e9",
   "metadata": {},
   "source": [
    "### 1)"
   ]
  },
  {
   "cell_type": "code",
   "execution_count": 27,
   "id": "6d6b7eac",
   "metadata": {},
   "outputs": [
    {
     "data": {
      "text/plain": [
       "array([  1.      ,   1.000099,   1.000198, ...,  99.999802,  99.999901,\n",
       "       100.      ])"
      ]
     },
     "execution_count": 27,
     "metadata": {},
     "output_type": "execute_result"
    }
   ],
   "source": [
    "data = np.linspace(1, 100, 1000000)\n",
    "data"
   ]
  },
  {
   "cell_type": "markdown",
   "id": "503f8681",
   "metadata": {},
   "source": [
    "### 2) & 3)"
   ]
  },
  {
   "cell_type": "code",
   "execution_count": 30,
   "id": "f8ecec0b",
   "metadata": {},
   "outputs": [],
   "source": [
    "def summerize(data):\n",
    "    sum = 0\n",
    "    for elem in data:\n",
    "        sum += elem\n",
    "    return sum"
   ]
  },
  {
   "cell_type": "code",
   "execution_count": null,
   "id": "c13dbcb6",
   "metadata": {},
   "outputs": [],
   "source": [
    "%timeit summerize(data) "
   ]
  },
  {
   "cell_type": "code",
   "execution_count": 29,
   "id": "408aa903",
   "metadata": {},
   "outputs": [
    {
     "name": "stdout",
     "output_type": "stream",
     "text": [
      "275 µs ± 4.22 µs per loop (mean ± std. dev. of 7 runs, 1000 loops each)\n"
     ]
    }
   ],
   "source": [
    "%timeit np.sum(data)"
   ]
  },
  {
   "cell_type": "markdown",
   "id": "69bf96db",
   "metadata": {},
   "source": [
    "### 4)"
   ]
  },
  {
   "cell_type": "code",
   "execution_count": 61,
   "id": "3992384e",
   "metadata": {},
   "outputs": [
    {
     "name": "stdout",
     "output_type": "stream",
     "text": [
      "self summerize:\n",
      "\n",
      "11.8 µs ± 22.4 ns per loop (mean ± std. dev. of 7 runs, 100000 loops each)\n",
      "112 µs ± 344 ns per loop (mean ± std. dev. of 7 runs, 10000 loops each)\n",
      "1.11 ms ± 3.35 µs per loop (mean ± std. dev. of 7 runs, 1000 loops each)\n",
      "11.1 ms ± 35.5 µs per loop (mean ± std. dev. of 7 runs, 100 loops each)\n",
      "112 ms ± 315 µs per loop (mean ± std. dev. of 7 runs, 10 loops each)\n",
      "1.12 s ± 4.32 ms per loop (mean ± std. dev. of 7 runs, 1 loop each)\n",
      "11.2 s ± 7.82 ms per loop (mean ± std. dev. of 7 runs, 1 loop each)\n",
      "\n",
      "--------\n",
      "np.sum:\n",
      "\n",
      "3.69 µs ± 11.4 ns per loop (mean ± std. dev. of 7 runs, 100000 loops each)\n",
      "4.02 µs ± 9.52 ns per loop (mean ± std. dev. of 7 runs, 100000 loops each)\n",
      "5.95 µs ± 17.8 ns per loop (mean ± std. dev. of 7 runs, 100000 loops each)\n",
      "30.3 µs ± 209 ns per loop (mean ± std. dev. of 7 runs, 10000 loops each)\n",
      "1.26 ms ± 6.94 µs per loop (mean ± std. dev. of 7 runs, 1000 loops each)\n",
      "12.7 ms ± 55.4 µs per loop (mean ± std. dev. of 7 runs, 100 loops each)\n",
      "130 ms ± 717 µs per loop (mean ± std. dev. of 7 runs, 10 loops each)\n"
     ]
    }
   ],
   "source": [
    "n = 100\n",
    "factor = 0\n",
    "out_1 = []\n",
    "y1 = []\n",
    "\n",
    "print(\"self summerize:\\n\")\n",
    "for i in range(7):\n",
    "    n_data = n*10**factor\n",
    "    y1 += [str(n_data)]\n",
    "    data = np.linspace(1, 100, n_data)\n",
    "    temp = %timeit -o summerize(data)\n",
    "    out_1 += [temp.best]\n",
    "    factor += 1\n",
    "    \n",
    "print(\"\\n--------\\nnp.sum:\\n\")\n",
    "factor = 0    # reset\n",
    "out_2 = []\n",
    "y2 = []\n",
    "for i in range(7):\n",
    "    n_data = n*10**factor\n",
    "    y2 += [str(n_data)]\n",
    "    data = np.linspace(1, 100, n_data)\n",
    "    temp = %timeit -o np.sum(data)\n",
    "    out_2 += [temp.best]\n",
    "    factor += 1"
   ]
  },
  {
   "cell_type": "code",
   "execution_count": 78,
   "id": "f08c63ec",
   "metadata": {},
   "outputs": [
    {
     "data": {
      "text/plain": [
       "<matplotlib.legend.Legend at 0x270bf55f910>"
      ]
     },
     "execution_count": 78,
     "metadata": {},
     "output_type": "execute_result"
    },
    {
     "data": {
      "image/png": "[encoded data removed]",
      "text/plain": [
       "<Figure size 432x288 with 1 Axes>"
      ]
     },
     "metadata": {
      "needs_background": "light"
     },
     "output_type": "display_data"
    }
   ],
   "source": [
    "import matplotlib.pyplot as plt\n",
    "\n",
    "fig = plt.figure()\n",
    "ax = plt.axes()\n",
    "\n",
    "ax.set_xlabel('Performance in Sekunden')\n",
    "ax.set_ylabel('Anzahl an Datenpunkten')\n",
    "\n",
    "ax.plot(out_1, y1, c='red', label='For-Schleife')\n",
    "ax.plot(out_2, y2, c='blue', label='NumPy-Funktion')\n",
    "\n",
    "ax.legend(title=\"Methode\", bbox_to_anchor=(1.0, 0.3), frameon=True)"
   ]
  },
  {
   "cell_type": "markdown",
   "id": "2952692a",
   "metadata": {},
   "source": [
    "-----\n",
    "### Aufgabe 3: Selbstgeschriebene, vektorisierte Funktionen (6 Punkte)\n",
    "Überprüfen Sie, ob alle Elemente der Matrix A im Wertebereich zwischen -10 und +10 sind. \n",
    "Schreiben Sie hierfür eine Funktion, die eine for-Schleife verwendet und eine zweite Funktion, die komplett ohne For-Schleifen auskommt und mit den numpy-Vektoroperationen arbeitet. Messen Sie die Zeit für beide Funktionen mit ``%timeit``.\n"
   ]
  },
  {
   "cell_type": "markdown",
   "id": "78588ee5",
   "metadata": {},
   "source": [
    "Hinweis: Die Grenzen werden als exluksive angenommen -> if elem in (-10; 10) und **nicht** if elem in [-10; 10]"
   ]
  },
  {
   "cell_type": "code",
   "execution_count": 95,
   "id": "3dfdbd19",
   "metadata": {},
   "outputs": [],
   "source": [
    "A = np.array([[1.1,  2.0,  3.1,  4.5,  5.3],\n",
    "              [0.8, -2.6,  0.1, -9.4,  0.4],\n",
    "              [1.8,  1.6, -0.4,  0.9, -2.1],\n",
    "              [4.2,  8.1,  7.0,  5.2,  1.1],\n",
    "              [1.1, -2.2,  3.9, -5.5,  3.4], \n",
    "              [1.1,  2.0,  3.1,  4.5,  5.3],\n",
    "              [0.8, -2.6,  0.1, -9.4,  0.4],\n",
    "              [1.8,  1.6, -0.4,  0.9, -2.1],\n",
    "              [4.2,  8.1,  7.0,  5.2,  1.1],\n",
    "              [1.1, -2.2,  3.9, -5.5,  3.4], \n",
    "              [1.1,  2.0,  3.1,  4.5,  5.3],\n",
    "              [0.8, -2.6,  0.1, -9.4,  0.4],\n",
    "              [1.8,  1.6, -0.4,  0.9, -2.1],\n",
    "              [4.2,  8.1,  7.0,  5.2,  1.1],\n",
    "              [1.1, -2.2,  3.9, -5.5,  3.4], \n",
    "              [1.1,  2.0,  3.1,  4.5,  5.3],\n",
    "              [0.8, -2.6,  0.1, -9.4,  0.4],\n",
    "              [1.8,  1.6, -0.4,  0.9, -2.1],\n",
    "              [4.2,  8.1,  7.0,  5.2,  1.1],\n",
    "              [1.1, -2.2,  3.9, -5.5,  3.4], \n",
    "              [1.1,  2.0,  3.1,  4.5,  5.3],\n",
    "              [0.8, -2.6,  0.1, -9.4,  0.4],\n",
    "              [1.8,  1.6, -0.4,  0.9, -2.1],\n",
    "              [4.2,  8.1,  7.0,  5.2,  1.1],\n",
    "              [1.1, -2.2,  3.9, -5.5,  3.4], \n",
    "              [1.1,  2.0,  3.1,  4.5,  5.3],\n",
    "              [0.8, -2.6,  0.1, -9.4,  0.4],\n",
    "              [1.8,  1.6, -0.4,  0.9, -2.1],\n",
    "              [4.2,  8.1,  7.0,  5.2,  1.1],\n",
    "              [1.1, -2.2,  3.9, -5.5,  3.4], \n",
    "              [1.1,  2.0,  3.1,  4.5,  5.3],\n",
    "              [0.8, -2.6,  0.1, -9.4,  0.4],\n",
    "              [1.8,  1.6, -0.4,  0.9, -2.1],\n",
    "              [4.2,  8.1,  7.0,  5.2,  1.1],\n",
    "              [1.1, -2.2,  3.9, -5.5,  3.4], \n",
    "              [1.1,  2.0,  3.1,  4.5,  5.3],\n",
    "              [0.8, -2.6,  0.1, -9.4,  0.4],\n",
    "              [1.8,  1.6, -0.4,  0.9, -2.1],\n",
    "              [4.2,  8.1,  7.0,  5.2,  1.1],\n",
    "              [1.1, -2.2,  3.9, -5.5,  3.4], \n",
    "              [1.1,  2.0,  3.1,  4.5,  5.3],\n",
    "              [0.8, -2.6,  0.1, -9.4,  0.4],\n",
    "              [1.8,  1.6, -0.4,  0.9, -2.1],\n",
    "              [4.2,  8.1,  7.0,  5.2,  1.1],\n",
    "              [1.1, -2.2,  3.9, -5.5,  3.4]])"
   ]
  },
  {
   "cell_type": "code",
   "execution_count": 96,
   "id": "f28262cf",
   "metadata": {},
   "outputs": [],
   "source": [
    "def min_max_filtering(data, min=-10, max=10):\n",
    "    bool_filter = []\n",
    "    for row in A:\n",
    "        for elem in row:\n",
    "            if elem <= min or elem >= max:\n",
    "                return False\n",
    "    return True"
   ]
  },
  {
   "cell_type": "code",
   "execution_count": 97,
   "id": "a43ea8fa",
   "metadata": {},
   "outputs": [
    {
     "name": "stdout",
     "output_type": "stream",
     "text": [
      "True\n",
      "True\n"
     ]
    }
   ],
   "source": [
    "print(min_max_filtering(A))\n",
    "print(A.min() > -10 and A.max() < 10)"
   ]
  },
  {
   "cell_type": "code",
   "execution_count": 98,
   "id": "596e9b7d",
   "metadata": {},
   "outputs": [
    {
     "name": "stdout",
     "output_type": "stream",
     "text": [
      "114 µs ± 963 ns per loop (mean ± std. dev. of 7 runs, 10000 loops each)\n"
     ]
    }
   ],
   "source": [
    "%timeit min_max_filtering(A)"
   ]
  },
  {
   "cell_type": "code",
   "execution_count": 99,
   "id": "22192f69",
   "metadata": {},
   "outputs": [
    {
     "name": "stdout",
     "output_type": "stream",
     "text": [
      "5.44 µs ± 8.35 ns per loop (mean ± std. dev. of 7 runs, 100000 loops each)\n"
     ]
    }
   ],
   "source": [
    "%timeit (A.min() > -10 and A.max() < 10)"
   ]
  },
  {
   "cell_type": "markdown",
   "id": "07491684",
   "metadata": {},
   "source": [
    "---------------------------\n",
    "### Aufgabe 4: Weitere Übung / Wiederholung (optional)\n",
    "Wählen Sie mindestens eine der folgenden Aufgaben: \n",
    "1. **[Zusammenfügen von mehreren Arrays](#zusammenfügen)**: (klick mich)<br> \n",
    "   In den in ML1 verteilten Juypter-Notebook mit Funktionsübersichten sowie den unter 3. genannten Webseiten werden verschiedene Funktionen vorgestellt, um NumPy Arrays bzw. Pandas-Data Frames zusammenzufügen bzw. einem Data Frame oder Array weitere Elemente hinzuzufügen. Machen Sie sich nochmals mit den unterschiedlichen Ansätzen vertraut, testen Sie die verschiedenen Varianten und erstellen Sie eine Übersicht, aus der hervorgeht, wann welche Funktion am besten geeignet ist / verwendet werden kann. \n",
    "\n",
    "2. **Vertiefungsaufgabe Vektorisierung / Indexierung**:<br>\n",
    "   Stellen Sie sich vor Ihr Ziel ist es, ein Array zu extrahieren, das die Indizes der Zeilen eines mehrdimensionalen Numpy-Arrays enthält, die mindestens 1 negatives Element enthalten. Implementieren Sie die Funktion 2x, einmal als For-Schleife und einmal unter Verwendung von Fancy-Indexing. Führen Sie anschließend eine Laufzeitmessung durch.\n",
    "\n",
    "3. **Weitere Geschwindigkeits-Experimente**:<br>\n",
    "   - Wenn np.vectorize() intern nur eine For-Schleife verwendet, um Funktionen, die bisher nur auf einem Skalar anwendbar sind, zu vektorisieren, ist die Geschwindigkeit der neuen Funktion dann in etwa gleich mit einer selbst-implementierten For-Schleife (und somit deutlich schlechter als die vergleichbare Vektor-Operation von NumPy)? \n",
    "   - Zur spalten-/zeilenweisen Anwendung einer Funktion auf einem NumPy-Array kann die Funktion ``np.apply_along_axis()`` verwendet werden. Ist die Geschwindigkeit dann schneller / langsamer / gleich schnell wie wenn man selbst in einer For-Schleife über das Array iteriert?<br>\n",
    "<br>\n",
    "4. **Sonstiges:** <br>\n",
    "   Schauen Sie sich die folgenden Webseiten näher an und erarbeiten Sie sich mindestens einen der dort vorgestellten Aspekte von Numpy systematisch. (Systematisch = ähnlich dem unter Punkt 1 skizzierten Vorgehen, d.h. nicht nur zielloses Ausprobieren.)  \n",
    "   https://jalammar.github.io/visual-numpy/  \n",
    "   https://betterprogramming.pub/numpy-illustrated-the-visual-guide-to-numpy-3b1d4976de1d"
   ]
  },
  {
   "cell_type": "markdown",
   "id": "89049ba1",
   "metadata": {},
   "source": [
    "# Knowledge-Board (Zusammenfassung)\n",
    "\n",
    "---\n",
    "0. **[Richtige Form](#right_shape)**\n",
    "1. **[Zusammenfügen von mehreren Arrays](#zusammenfügen_kb)**\n",
    "\n",
    "---\n",
    "## <a name='right_shape'>Richtige Form</a>\n",
    "Startsituation: Das Array ist in der falschen Form. Das Array muss mindestends eine Spalte haben (bei sklearn oft benötigt).<br>\n",
    "2 Varianten:\n",
    "1. **np.newaxis**\n",
    "```python\n",
    "arr[:, np.newaxis]\n",
    "```\n",
    "2. **reshape()**\n",
    "```python\n",
    "arr.reshape(-1, 1)\n",
    "```\n",
    "---\n",
    "## <a name='zusammenfügen_kb'>Zusammenfügen von mehreren Arrays</a>\n",
    "### Numpy\n",
    "- Zeilen hinzufügen:\n",
    "    - **np.vstack()**\n",
    "    ```python\n",
    "    np.vstack((arr_1, arr_2))\n",
    "    ```\n",
    "    - **np.concatenate()**\n",
    "    ```python\n",
    "    np.concatenate((arr_1, arr_2), axis=0)\n",
    "    ```\n",
    "    ---\n",
    "- Spalten hinzufügen:\n",
    "    - **np.hstack()**\n",
    "    ```python\n",
    "    np.hstack((arr_1, arr_2))\n",
    "    ```\n",
    "    - **np.concatenate()**\n",
    "    ```python\n",
    "    np.concatenate((arr_1, arr_2), axis=1)\n",
    "    ```\n",
    "    \n",
    "### Pandas\n",
    "- Zeilen hinzufügen:\n",
    "    - **append()**\n",
    "    ```python\n",
    "    df.append(new_rows)\n",
    "    ```\n",
    "    ---\n",
    "- Spalten hinzufügen:\n",
    "    - **with indexing** (inplace)\n",
    "    ```python\n",
    "    df['new_column_name'] = new_column_data\n",
    "    ```\n",
    "    - **.insert()** (inplace)\n",
    "    ```python\n",
    "    df.insert(index, new_column_name, new_data, allow_duplicates=True)\n",
    "    ```\n",
    "    - **.assign()** \n",
    "    ```python\n",
    "    df.assign(new_column_name = new_data)\n",
    "    ```\n",
    "    \n",
    "---"
   ]
  },
  {
   "cell_type": "markdown",
   "id": "3e6a5fd8",
   "metadata": {},
   "source": [
    "# Testbereich:"
   ]
  },
  {
   "cell_type": "markdown",
   "id": "21a42bce",
   "metadata": {},
   "source": [
    "### Oft gebrauchte Transformierung:\n",
    "\n",
    "Startsituation: Das Array ist in der falschen Form. Das Array muss mindestends eine Spalte haben (bei sklearn oft benötigt)."
   ]
  },
  {
   "cell_type": "code",
   "execution_count": 113,
   "id": "564719b4",
   "metadata": {},
   "outputs": [
    {
     "name": "stdout",
     "output_type": "stream",
     "text": [
      "[1 2 3 4 5 6 7 8 9]\n"
     ]
    },
    {
     "data": {
      "text/plain": [
       "(9,)"
      ]
     },
     "execution_count": 113,
     "metadata": {},
     "output_type": "execute_result"
    }
   ],
   "source": [
    "arr = np.array([1,2,3,4,5,6,7,8,9])\n",
    "print(arr)\n",
    "arr.shape"
   ]
  },
  {
   "cell_type": "markdown",
   "id": "90e2f9a3",
   "metadata": {},
   "source": [
    "#### Weg mit **reshape**:"
   ]
  },
  {
   "cell_type": "code",
   "execution_count": 114,
   "id": "a3f7426e",
   "metadata": {},
   "outputs": [
    {
     "name": "stdout",
     "output_type": "stream",
     "text": [
      "[[1]\n",
      " [2]\n",
      " [3]\n",
      " [4]\n",
      " [5]\n",
      " [6]\n",
      " [7]\n",
      " [8]\n",
      " [9]]\n"
     ]
    },
    {
     "data": {
      "text/plain": [
       "(9, 1)"
      ]
     },
     "execution_count": 114,
     "metadata": {},
     "output_type": "execute_result"
    }
   ],
   "source": [
    "print(arr.reshape(-1, 1))\n",
    "arr.reshape(-1, 1).shape"
   ]
  },
  {
   "cell_type": "markdown",
   "id": "b3fabd79",
   "metadata": {},
   "source": [
    "#### Weg mit **newaxis**:"
   ]
  },
  {
   "cell_type": "code",
   "execution_count": 118,
   "id": "46b5d9b2",
   "metadata": {},
   "outputs": [
    {
     "name": "stdout",
     "output_type": "stream",
     "text": [
      "[[1]\n",
      " [2]\n",
      " [3]\n",
      " [4]\n",
      " [5]\n",
      " [6]\n",
      " [7]\n",
      " [8]\n",
      " [9]]\n"
     ]
    },
    {
     "data": {
      "text/plain": [
       "(9, 1)"
      ]
     },
     "execution_count": 118,
     "metadata": {},
     "output_type": "execute_result"
    }
   ],
   "source": [
    "print(arr[:, np.newaxis])\n",
    "arr[:, np.newaxis].shape"
   ]
  },
  {
   "cell_type": "markdown",
   "id": "e42589bd",
   "metadata": {},
   "source": [
    "## <a name='zusammenfügen'>1. Zusammenfügen von Arrays</a>\n",
    "\n",
    "\n",
    "\n",
    "### In Numpy:"
   ]
  },
  {
   "cell_type": "markdown",
   "id": "95178161",
   "metadata": {},
   "source": [
    "Adding Rows:"
   ]
  },
  {
   "cell_type": "code",
   "execution_count": 123,
   "id": "2c5772a6",
   "metadata": {},
   "outputs": [
    {
     "name": "stdout",
     "output_type": "stream",
     "text": [
      "[[ 1  2  3  4  5]\n",
      " [ 6  7  8  9 10]\n",
      " [11 12 13 14 15]\n",
      " [16 17 18 19 20]\n",
      " [21 22 23 24 25]\n",
      " [26 27 28 29 30]\n",
      " [31 32 33 34 35]\n",
      " [36 37 38 39 40]\n",
      " [41 42 43 44 45]\n",
      " [46 47 48 49 50]]\n"
     ]
    },
    {
     "data": {
      "text/plain": [
       "(10, 5)"
      ]
     },
     "execution_count": 123,
     "metadata": {},
     "output_type": "execute_result"
    }
   ],
   "source": [
    "arr_1 = np.arange(1, 51).reshape(-1, 5)\n",
    "print(arr_1)\n",
    "arr_1.shape"
   ]
  },
  {
   "cell_type": "code",
   "execution_count": 124,
   "id": "1ab8e764",
   "metadata": {},
   "outputs": [
    {
     "name": "stdout",
     "output_type": "stream",
     "text": [
      "[[ 51  52  53  54  55]\n",
      " [ 56  57  58  59  60]\n",
      " [ 61  62  63  64  65]\n",
      " [ 66  67  68  69  70]\n",
      " [ 71  72  73  74  75]\n",
      " [ 76  77  78  79  80]\n",
      " [ 81  82  83  84  85]\n",
      " [ 86  87  88  89  90]\n",
      " [ 91  92  93  94  95]\n",
      " [ 96  97  98  99 100]]\n"
     ]
    },
    {
     "data": {
      "text/plain": [
       "(10, 5)"
      ]
     },
     "execution_count": 124,
     "metadata": {},
     "output_type": "execute_result"
    }
   ],
   "source": [
    "arr_2 = np.arange(51, 101).reshape(-1, 5)\n",
    "print(arr_2)\n",
    "arr_2.shape"
   ]
  },
  {
   "cell_type": "markdown",
   "id": "ec0bd717",
   "metadata": {},
   "source": [
    "With **vstack**"
   ]
  },
  {
   "cell_type": "code",
   "execution_count": 125,
   "id": "1d199ec0",
   "metadata": {},
   "outputs": [
    {
     "data": {
      "text/plain": [
       "array([[  1,   2,   3,   4,   5],\n",
       "       [  6,   7,   8,   9,  10],\n",
       "       [ 11,  12,  13,  14,  15],\n",
       "       [ 16,  17,  18,  19,  20],\n",
       "       [ 21,  22,  23,  24,  25],\n",
       "       [ 26,  27,  28,  29,  30],\n",
       "       [ 31,  32,  33,  34,  35],\n",
       "       [ 36,  37,  38,  39,  40],\n",
       "       [ 41,  42,  43,  44,  45],\n",
       "       [ 46,  47,  48,  49,  50],\n",
       "       [ 51,  52,  53,  54,  55],\n",
       "       [ 56,  57,  58,  59,  60],\n",
       "       [ 61,  62,  63,  64,  65],\n",
       "       [ 66,  67,  68,  69,  70],\n",
       "       [ 71,  72,  73,  74,  75],\n",
       "       [ 76,  77,  78,  79,  80],\n",
       "       [ 81,  82,  83,  84,  85],\n",
       "       [ 86,  87,  88,  89,  90],\n",
       "       [ 91,  92,  93,  94,  95],\n",
       "       [ 96,  97,  98,  99, 100]])"
      ]
     },
     "execution_count": 125,
     "metadata": {},
     "output_type": "execute_result"
    }
   ],
   "source": [
    "np.vstack((arr_1, arr_2))"
   ]
  },
  {
   "cell_type": "markdown",
   "id": "2ab3bb59",
   "metadata": {},
   "source": [
    "With **concatenate**"
   ]
  },
  {
   "cell_type": "code",
   "execution_count": 126,
   "id": "8f8c5d0e",
   "metadata": {},
   "outputs": [
    {
     "data": {
      "text/plain": [
       "array([[  1,   2,   3,   4,   5],\n",
       "       [  6,   7,   8,   9,  10],\n",
       "       [ 11,  12,  13,  14,  15],\n",
       "       [ 16,  17,  18,  19,  20],\n",
       "       [ 21,  22,  23,  24,  25],\n",
       "       [ 26,  27,  28,  29,  30],\n",
       "       [ 31,  32,  33,  34,  35],\n",
       "       [ 36,  37,  38,  39,  40],\n",
       "       [ 41,  42,  43,  44,  45],\n",
       "       [ 46,  47,  48,  49,  50],\n",
       "       [ 51,  52,  53,  54,  55],\n",
       "       [ 56,  57,  58,  59,  60],\n",
       "       [ 61,  62,  63,  64,  65],\n",
       "       [ 66,  67,  68,  69,  70],\n",
       "       [ 71,  72,  73,  74,  75],\n",
       "       [ 76,  77,  78,  79,  80],\n",
       "       [ 81,  82,  83,  84,  85],\n",
       "       [ 86,  87,  88,  89,  90],\n",
       "       [ 91,  92,  93,  94,  95],\n",
       "       [ 96,  97,  98,  99, 100]])"
      ]
     },
     "execution_count": 126,
     "metadata": {},
     "output_type": "execute_result"
    }
   ],
   "source": [
    "np.concatenate((arr_1, arr_2), axis=0)"
   ]
  },
  {
   "cell_type": "markdown",
   "id": "21b8ba8a",
   "metadata": {},
   "source": [
    "Adding Columns:"
   ]
  },
  {
   "cell_type": "code",
   "execution_count": 129,
   "id": "07b70683",
   "metadata": {},
   "outputs": [
    {
     "name": "stdout",
     "output_type": "stream",
     "text": [
      "[[0 1 2 3 4]\n",
      " [0 1 2 3 4]\n",
      " [0 1 2 3 4]\n",
      " [0 1 2 3 4]\n",
      " [0 1 2 3 4]]\n"
     ]
    },
    {
     "data": {
      "text/plain": [
       "(5, 5)"
      ]
     },
     "execution_count": 129,
     "metadata": {},
     "output_type": "execute_result"
    }
   ],
   "source": [
    "ignore, arr_1 = np.mgrid[0:5, 0:5]\n",
    "print(arr_1)\n",
    "arr_1.shape"
   ]
  },
  {
   "cell_type": "code",
   "execution_count": 159,
   "id": "cf7ce3a8",
   "metadata": {},
   "outputs": [
    {
     "name": "stdout",
     "output_type": "stream",
     "text": [
      "[[5 6 7 8 9]\n",
      " [5 6 7 8 9]\n",
      " [5 6 7 8 9]\n",
      " [5 6 7 8 9]\n",
      " [5 6 7 8 9]]\n"
     ]
    },
    {
     "data": {
      "text/plain": [
       "(5, 5)"
      ]
     },
     "execution_count": 159,
     "metadata": {},
     "output_type": "execute_result"
    }
   ],
   "source": [
    "arr_2 = np.tile(np.arange(5, 10), reps=5).reshape(-1, 5)\n",
    "print(arr_2)\n",
    "arr_2.shape"
   ]
  },
  {
   "cell_type": "markdown",
   "id": "ca310756",
   "metadata": {},
   "source": [
    "With **hstack**"
   ]
  },
  {
   "cell_type": "code",
   "execution_count": 161,
   "id": "479bea6a",
   "metadata": {},
   "outputs": [
    {
     "data": {
      "text/plain": [
       "array([[0, 1, 2, 3, 4, 5, 6, 7, 8, 9],\n",
       "       [0, 1, 2, 3, 4, 5, 6, 7, 8, 9],\n",
       "       [0, 1, 2, 3, 4, 5, 6, 7, 8, 9],\n",
       "       [0, 1, 2, 3, 4, 5, 6, 7, 8, 9],\n",
       "       [0, 1, 2, 3, 4, 5, 6, 7, 8, 9]])"
      ]
     },
     "execution_count": 161,
     "metadata": {},
     "output_type": "execute_result"
    }
   ],
   "source": [
    "np.hstack((arr_1, arr_2))"
   ]
  },
  {
   "cell_type": "markdown",
   "id": "a5e2d0b6",
   "metadata": {},
   "source": [
    "With **concatenate**"
   ]
  },
  {
   "cell_type": "code",
   "execution_count": 162,
   "id": "d6c1e9fa",
   "metadata": {},
   "outputs": [
    {
     "data": {
      "text/plain": [
       "array([[0, 1, 2, 3, 4, 5, 6, 7, 8, 9],\n",
       "       [0, 1, 2, 3, 4, 5, 6, 7, 8, 9],\n",
       "       [0, 1, 2, 3, 4, 5, 6, 7, 8, 9],\n",
       "       [0, 1, 2, 3, 4, 5, 6, 7, 8, 9],\n",
       "       [0, 1, 2, 3, 4, 5, 6, 7, 8, 9]])"
      ]
     },
     "execution_count": 162,
     "metadata": {},
     "output_type": "execute_result"
    }
   ],
   "source": [
    "np.concatenate((arr_1, arr_2), axis=1)"
   ]
  },
  {
   "cell_type": "markdown",
   "id": "c3ca020c",
   "metadata": {},
   "source": [
    "### In Pandas:"
   ]
  },
  {
   "cell_type": "code",
   "execution_count": 163,
   "id": "3313106b",
   "metadata": {},
   "outputs": [],
   "source": [
    "data = {'Name':['Interstellar', 'Tenet', 'Joker'],\n",
    "        'Bewertung':[5.0, 4.5, 4.7],\n",
    "        'Einspielpreis':[160000, 130000, 90000]}\n",
    "\n",
    "df = pd.DataFrame(data)"
   ]
  },
  {
   "cell_type": "markdown",
   "id": "cc4cc850",
   "metadata": {},
   "source": [
    "#### Zeilen hinzufügen:"
   ]
  },
  {
   "cell_type": "code",
   "execution_count": 169,
   "id": "287c46de",
   "metadata": {},
   "outputs": [
    {
     "data": {
      "text/html": [
       "<div>\n",
       "<style scoped>\n",
       "    .dataframe tbody tr th:only-of-type {\n",
       "        vertical-align: middle;\n",
       "    }\n",
       "\n",
       "    .dataframe tbody tr th {\n",
       "        vertical-align: top;\n",
       "    }\n",
       "\n",
       "    .dataframe thead th {\n",
       "        text-align: right;\n",
       "    }\n",
       "</style>\n",
       "<table border=\"1\" class=\"dataframe\">\n",
       "  <thead>\n",
       "    <tr style=\"text-align: right;\">\n",
       "      <th></th>\n",
       "      <th>Name</th>\n",
       "      <th>Bewertung</th>\n",
       "      <th>Einspielpreis</th>\n",
       "    </tr>\n",
       "  </thead>\n",
       "  <tbody>\n",
       "    <tr>\n",
       "      <th>0</th>\n",
       "      <td>Interstellar</td>\n",
       "      <td>5.0</td>\n",
       "      <td>160000</td>\n",
       "    </tr>\n",
       "    <tr>\n",
       "      <th>1</th>\n",
       "      <td>Tenet</td>\n",
       "      <td>4.5</td>\n",
       "      <td>130000</td>\n",
       "    </tr>\n",
       "    <tr>\n",
       "      <th>2</th>\n",
       "      <td>Joker</td>\n",
       "      <td>4.7</td>\n",
       "      <td>90000</td>\n",
       "    </tr>\n",
       "    <tr>\n",
       "      <th>3</th>\n",
       "      <td>Dune</td>\n",
       "      <td>4.2</td>\n",
       "      <td>50000</td>\n",
       "    </tr>\n",
       "  </tbody>\n",
       "</table>\n",
       "</div>"
      ],
      "text/plain": [
       "           Name  Bewertung  Einspielpreis\n",
       "0  Interstellar        5.0         160000\n",
       "1         Tenet        4.5         130000\n",
       "2         Joker        4.7          90000\n",
       "3          Dune        4.2          50000"
      ]
     },
     "execution_count": 169,
     "metadata": {},
     "output_type": "execute_result"
    }
   ],
   "source": [
    "df.append({'Name':'Dune',\n",
    "        'Bewertung':4.2,\n",
    "        'Einspielpreis':50000}, ignore_index=True)"
   ]
  },
  {
   "cell_type": "markdown",
   "id": "a873a1a0",
   "metadata": {},
   "source": [
    "#### Spalten hinzufügen:"
   ]
  },
  {
   "cell_type": "code",
   "execution_count": 171,
   "id": "542dbde2",
   "metadata": {},
   "outputs": [
    {
     "data": {
      "text/html": [
       "<div>\n",
       "<style scoped>\n",
       "    .dataframe tbody tr th:only-of-type {\n",
       "        vertical-align: middle;\n",
       "    }\n",
       "\n",
       "    .dataframe tbody tr th {\n",
       "        vertical-align: top;\n",
       "    }\n",
       "\n",
       "    .dataframe thead th {\n",
       "        text-align: right;\n",
       "    }\n",
       "</style>\n",
       "<table border=\"1\" class=\"dataframe\">\n",
       "  <thead>\n",
       "    <tr style=\"text-align: right;\">\n",
       "      <th></th>\n",
       "      <th>Name</th>\n",
       "      <th>Bewertung</th>\n",
       "      <th>Einspielpreis</th>\n",
       "      <th>Genre</th>\n",
       "    </tr>\n",
       "  </thead>\n",
       "  <tbody>\n",
       "    <tr>\n",
       "      <th>0</th>\n",
       "      <td>Interstellar</td>\n",
       "      <td>5.0</td>\n",
       "      <td>160000</td>\n",
       "      <td>Action</td>\n",
       "    </tr>\n",
       "    <tr>\n",
       "      <th>1</th>\n",
       "      <td>Tenet</td>\n",
       "      <td>4.5</td>\n",
       "      <td>130000</td>\n",
       "      <td>Action</td>\n",
       "    </tr>\n",
       "    <tr>\n",
       "      <th>2</th>\n",
       "      <td>Joker</td>\n",
       "      <td>4.7</td>\n",
       "      <td>90000</td>\n",
       "      <td>Thriller</td>\n",
       "    </tr>\n",
       "  </tbody>\n",
       "</table>\n",
       "</div>"
      ],
      "text/plain": [
       "           Name  Bewertung  Einspielpreis     Genre\n",
       "0  Interstellar        5.0         160000    Action\n",
       "1         Tenet        4.5         130000    Action\n",
       "2         Joker        4.7          90000  Thriller"
      ]
     },
     "execution_count": 171,
     "metadata": {},
     "output_type": "execute_result"
    }
   ],
   "source": [
    "df['Genre'] = ['Action', 'Action', 'Thriller']\n",
    "df.head()"
   ]
  },
  {
   "cell_type": "code",
   "execution_count": 175,
   "id": "97a48151",
   "metadata": {},
   "outputs": [],
   "source": [
    "# reset\n",
    "df.drop(columns=['Genre'], inplace=True)"
   ]
  },
  {
   "cell_type": "code",
   "execution_count": 176,
   "id": "cc9fa820",
   "metadata": {},
   "outputs": [
    {
     "data": {
      "text/html": [
       "<div>\n",
       "<style scoped>\n",
       "    .dataframe tbody tr th:only-of-type {\n",
       "        vertical-align: middle;\n",
       "    }\n",
       "\n",
       "    .dataframe tbody tr th {\n",
       "        vertical-align: top;\n",
       "    }\n",
       "\n",
       "    .dataframe thead th {\n",
       "        text-align: right;\n",
       "    }\n",
       "</style>\n",
       "<table border=\"1\" class=\"dataframe\">\n",
       "  <thead>\n",
       "    <tr style=\"text-align: right;\">\n",
       "      <th></th>\n",
       "      <th>Name</th>\n",
       "      <th>Bewertung</th>\n",
       "      <th>Einspielpreis</th>\n",
       "      <th>Genre</th>\n",
       "    </tr>\n",
       "  </thead>\n",
       "  <tbody>\n",
       "    <tr>\n",
       "      <th>0</th>\n",
       "      <td>Interstellar</td>\n",
       "      <td>5.0</td>\n",
       "      <td>160000</td>\n",
       "      <td>Action</td>\n",
       "    </tr>\n",
       "    <tr>\n",
       "      <th>1</th>\n",
       "      <td>Tenet</td>\n",
       "      <td>4.5</td>\n",
       "      <td>130000</td>\n",
       "      <td>Action</td>\n",
       "    </tr>\n",
       "    <tr>\n",
       "      <th>2</th>\n",
       "      <td>Joker</td>\n",
       "      <td>4.7</td>\n",
       "      <td>90000</td>\n",
       "      <td>Thriller</td>\n",
       "    </tr>\n",
       "  </tbody>\n",
       "</table>\n",
       "</div>"
      ],
      "text/plain": [
       "           Name  Bewertung  Einspielpreis     Genre\n",
       "0  Interstellar        5.0         160000    Action\n",
       "1         Tenet        4.5         130000    Action\n",
       "2         Joker        4.7          90000  Thriller"
      ]
     },
     "execution_count": 176,
     "metadata": {},
     "output_type": "execute_result"
    }
   ],
   "source": [
    "df.insert(3, 'Genre', ['Action', 'Action', 'Thriller'], allow_duplicates=True)\n",
    "df.head()"
   ]
  },
  {
   "cell_type": "code",
   "execution_count": 177,
   "id": "187a58aa",
   "metadata": {},
   "outputs": [],
   "source": [
    "# reset\n",
    "df.drop(columns=['Genre'], inplace=True)"
   ]
  },
  {
   "cell_type": "code",
   "execution_count": 178,
   "id": "d57567a1",
   "metadata": {},
   "outputs": [
    {
     "data": {
      "text/html": [
       "<div>\n",
       "<style scoped>\n",
       "    .dataframe tbody tr th:only-of-type {\n",
       "        vertical-align: middle;\n",
       "    }\n",
       "\n",
       "    .dataframe tbody tr th {\n",
       "        vertical-align: top;\n",
       "    }\n",
       "\n",
       "    .dataframe thead th {\n",
       "        text-align: right;\n",
       "    }\n",
       "</style>\n",
       "<table border=\"1\" class=\"dataframe\">\n",
       "  <thead>\n",
       "    <tr style=\"text-align: right;\">\n",
       "      <th></th>\n",
       "      <th>Name</th>\n",
       "      <th>Bewertung</th>\n",
       "      <th>Einspielpreis</th>\n",
       "      <th>Genre</th>\n",
       "    </tr>\n",
       "  </thead>\n",
       "  <tbody>\n",
       "    <tr>\n",
       "      <th>0</th>\n",
       "      <td>Interstellar</td>\n",
       "      <td>5.0</td>\n",
       "      <td>160000</td>\n",
       "      <td>Action</td>\n",
       "    </tr>\n",
       "    <tr>\n",
       "      <th>1</th>\n",
       "      <td>Tenet</td>\n",
       "      <td>4.5</td>\n",
       "      <td>130000</td>\n",
       "      <td>Action</td>\n",
       "    </tr>\n",
       "    <tr>\n",
       "      <th>2</th>\n",
       "      <td>Joker</td>\n",
       "      <td>4.7</td>\n",
       "      <td>90000</td>\n",
       "      <td>Thriller</td>\n",
       "    </tr>\n",
       "  </tbody>\n",
       "</table>\n",
       "</div>"
      ],
      "text/plain": [
       "           Name  Bewertung  Einspielpreis     Genre\n",
       "0  Interstellar        5.0         160000    Action\n",
       "1         Tenet        4.5         130000    Action\n",
       "2         Joker        4.7          90000  Thriller"
      ]
     },
     "execution_count": 178,
     "metadata": {},
     "output_type": "execute_result"
    }
   ],
   "source": [
    "df.assign(Genre = ['Action', 'Action', 'Thriller'])"
   ]
  },
  {
   "cell_type": "code",
   "execution_count": null,
   "id": "71e438e5",
   "metadata": {},
   "outputs": [],
   "source": []
  }
 ],
 "metadata": {
  "interpreter": {
   "hash": "2aa67259600f01de38f1d9c654b5562daaff7505c9f31f6017fb4569c2a1394d"
  },
  "kernelspec": {
   "display_name": "Python 3",
   "language": "python",
   "name": "python3"
  },
  "language_info": {
   "codemirror_mode": {
    "name": "ipython",
    "version": 3
   },
   "file_extension": ".py",
   "mimetype": "text/x-python",
   "name": "python",
   "nbconvert_exporter": "python",
   "pygments_lexer": "ipython3",
   "version": "3.8.10"
  }
 },
 "nbformat": 4,
 "nbformat_minor": 5
}
