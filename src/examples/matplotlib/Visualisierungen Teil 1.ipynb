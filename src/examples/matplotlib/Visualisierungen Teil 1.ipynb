{
 "cells": [
  {
   "cell_type": "markdown",
   "metadata": {},
   "source": [
    "# Visualisierungen in Python mit Matplotlib"
   ]
  },
  {
   "cell_type": "markdown",
   "metadata": {},
   "source": [
    "--------------\n",
    "### Aufgabe 1: Nachbilden eines Diagramms in Matplotlib (8 Punkte)\n",
    "Bilden Sie die unten gezeigte Histogramm in Matplotlib zweimal nach. Verwenden Sie dafür <br>\n",
    "a) das Matlab-style Interface <br>\n",
    "b) das Object-oriented Interface\n",
    "\n",
    "Weitere Hinweise: \n",
    "* Die Daten finden Sie in der Datei \"DatenHistogramm.txt\" im Unterordner \"data\"\n",
    "* Das Histogramm hat 30 Bins\n",
    "* Die horizontale Linie stellt den Durchschnitt aller Bins dar und sollte gestrichelt sein (Tipp: Hierfür benötigen Sie die Rückgabe-Werte der Histogramm-Funktion)\n",
    "* Die Farbe des Histogramms heißt \"lightblue\"\n",
    "* Vergessen Sie Titel und Achsenbeschriftung nicht!\n",
    "\n",
    "<img src=\"img/Histogramm.jpg\" width = 400>"
   ]
  },
  {
   "cell_type": "code",
   "execution_count": 1,
   "metadata": {},
   "outputs": [],
   "source": [
    "import numpy as np\n",
    "import pandas as pd\n",
    "import matplotlib.pyplot as plt"
   ]
  },
  {
   "cell_type": "code",
   "execution_count": 2,
   "metadata": {},
   "outputs": [
    {
     "name": "stdout",
     "output_type": "stream",
     "text": [
      "<class 'pandas.core.frame.DataFrame'>\n",
      "RangeIndex: 437 entries, 0 to 436\n",
      "Data columns (total 1 columns):\n",
      " #   Column  Non-Null Count  Dtype  \n",
      "---  ------  --------------  -----  \n",
      " 0   0       437 non-null    float64\n",
      "dtypes: float64(1)\n",
      "memory usage: 3.5 KB\n"
     ]
    }
   ],
   "source": [
    "# Data Reading\n",
    "data = pd.read_csv(\"data/DatenHistogramm.txt\", header=None, sep=\" \")\n",
    "data.info()"
   ]
  },
  {
   "cell_type": "code",
   "execution_count": 3,
   "metadata": {},
   "outputs": [
    {
     "data": {
      "text/html": [
       "<div>\n",
       "<style scoped>\n",
       "    .dataframe tbody tr th:only-of-type {\n",
       "        vertical-align: middle;\n",
       "    }\n",
       "\n",
       "    .dataframe tbody tr th {\n",
       "        vertical-align: top;\n",
       "    }\n",
       "\n",
       "    .dataframe thead th {\n",
       "        text-align: right;\n",
       "    }\n",
       "</style>\n",
       "<table border=\"1\" class=\"dataframe\">\n",
       "  <thead>\n",
       "    <tr style=\"text-align: right;\">\n",
       "      <th></th>\n",
       "      <th>0</th>\n",
       "    </tr>\n",
       "  </thead>\n",
       "  <tbody>\n",
       "    <tr>\n",
       "      <th>0</th>\n",
       "      <td>115.739565</td>\n",
       "    </tr>\n",
       "    <tr>\n",
       "      <th>1</th>\n",
       "      <td>112.991488</td>\n",
       "    </tr>\n",
       "    <tr>\n",
       "      <th>2</th>\n",
       "      <td>108.267019</td>\n",
       "    </tr>\n",
       "    <tr>\n",
       "      <th>3</th>\n",
       "      <td>125.921167</td>\n",
       "    </tr>\n",
       "    <tr>\n",
       "      <th>4</th>\n",
       "      <td>90.260678</td>\n",
       "    </tr>\n",
       "  </tbody>\n",
       "</table>\n",
       "</div>"
      ],
      "text/plain": [
       "            0\n",
       "0  115.739565\n",
       "1  112.991488\n",
       "2  108.267019\n",
       "3  125.921167\n",
       "4   90.260678"
      ]
     },
     "execution_count": 3,
     "metadata": {},
     "output_type": "execute_result"
    }
   ],
   "source": [
    "data.head()"
   ]
  },
  {
   "cell_type": "code",
   "execution_count": 4,
   "metadata": {},
   "outputs": [
    {
     "data": {
      "text/plain": [
       "0    52.920623\n",
       "dtype: float64"
      ]
     },
     "execution_count": 4,
     "metadata": {},
     "output_type": "execute_result"
    }
   ],
   "source": [
    "data.min()"
   ]
  },
  {
   "cell_type": "code",
   "execution_count": 5,
   "metadata": {},
   "outputs": [
    {
     "data": {
      "text/plain": [
       "0    142.016185\n",
       "dtype: float64"
      ]
     },
     "execution_count": 5,
     "metadata": {},
     "output_type": "execute_result"
    }
   ],
   "source": [
    "data.max()"
   ]
  },
  {
   "cell_type": "code",
   "execution_count": 6,
   "metadata": {},
   "outputs": [
    {
     "data": {
      "text/plain": [
       "[<matplotlib.lines.Line2D at 0x252342cd850>]"
      ]
     },
     "execution_count": 6,
     "metadata": {},
     "output_type": "execute_result"
    },
    {
     "data": {
      "image/png": "[encoded data removed]",
      "text/plain": [
       "<Figure size 432x288 with 1 Axes>"
      ]
     },
     "metadata": {
      "needs_background": "light"
     },
     "output_type": "display_data"
    }
   ],
   "source": [
    "# a) MATLAB Style\n",
    "result = plt.hist(x=data.to_numpy(), bins=30, color=\"lightblue\", edgecolor=\"white\")\n",
    "frequency = result[0]\n",
    "values = result[1]\n",
    "plt.title(\"Histogramm\")\n",
    "plt.ylabel(\"Häufigkeit\")\n",
    "\n",
    "# average-line of frequencies\n",
    "x = np.arange(values.min(), values.max())\n",
    "y = np.repeat(frequency.mean(), x.size)\n",
    "plt.plot(x, y, linestyle=\"dashed\", color=\"darkblue\")"
   ]
  },
  {
   "cell_type": "code",
   "execution_count": 7,
   "metadata": {},
   "outputs": [
    {
     "data": {
      "text/plain": [
       "[<matplotlib.lines.Line2D at 0x252344104c0>]"
      ]
     },
     "execution_count": 7,
     "metadata": {},
     "output_type": "execute_result"
    },
    {
     "data": {
      "image/png": "[encoded data removed]",
      "text/plain": [
       "<Figure size 432x288 with 1 Axes>"
      ]
     },
     "metadata": {
      "needs_background": "light"
     },
     "output_type": "display_data"
    }
   ],
   "source": [
    "# b) object orientated\n",
    "figure = plt.figure()\n",
    "ax = plt.axes()\n",
    "\n",
    "result = ax.hist(x=data.to_numpy(), bins=30, color=\"lightblue\", edgecolor=\"white\")\n",
    "frequencies = result[0]\n",
    "values = result[1]\n",
    "ax.set_title(\"Histogramm\")\n",
    "ax.set_ylabel(\"Häufigkeiten\")\n",
    "\n",
    "# average-line\n",
    "x = np.arange(values.min(), values.max())\n",
    "y = np.repeat(frequency.mean(), x.size)\n",
    "ax.plot(x, y, linestyle=\"--\", color=\"darkblue\")"
   ]
  },
  {
   "cell_type": "markdown",
   "metadata": {},
   "source": [
    "-------------------------\n",
    "### Aufgabe 2: Nachbilden eines Diagramms mit Subplots (12 Punkte)\n",
    "\n",
    "Bilden Sie das unten stehende Diagramm mit Matplotlib nach\n",
    "Verwendet wird der Datensatz \"tips\" aus seaborn (siehe unten). \n",
    "\n",
    "Die Graphik, die Sie unten sehen, wurde mit Seaborn erzeugt. Ihre Matplotlib-Version muss nicht exakt gleich aussehen. Achten sollten Sie allerdings auf folgende Merkmale: \n",
    "* Die beiden Teilgraphiken sollten vom Seitenverhältnis her in etwa quadratisch sein\n",
    "* Beide Teilgraphiken sollten eine Überschrift haben\n",
    "* Die Achsenbegrenzungen sollten bei beiden Teilgraphiken gleich sein\n",
    "* Und natürlich müssen die richtigen Daten geplottet sein und es sollte nach dem  Attribut \"time\" eingefärbt werden. \n",
    "\n",
    "Einige Punkte sind reserviert für folgende weitere Details:\n",
    "* Verwendung derselben Farben in Matplotlib wie im Screenshot (bei Matplotlib heißen die verwendeten Farben \"tab:orange\", \"tab:blue\")\n",
    "* Anzeigen einer Legende für die Farben (muss nicht am gleichen Platz stehen)\n",
    "* Keine y-Achsenbeschriftung bei der 2. Teilgraphik, aber dafür ein kompaktes Layout (d.h. beide Graphiken eng zusammen)\n",
    "* Weiß als Rahmenfarbe für die Marker\n",
    "\n",
    "<img src = \"./img/Subplots2.jpg\" width = 800>"
   ]
  },
  {
   "cell_type": "code",
   "execution_count": 8,
   "metadata": {},
   "outputs": [
    {
     "data": {
      "text/html": [
       "<div>\n",
       "<style scoped>\n",
       "    .dataframe tbody tr th:only-of-type {\n",
       "        vertical-align: middle;\n",
       "    }\n",
       "\n",
       "    .dataframe tbody tr th {\n",
       "        vertical-align: top;\n",
       "    }\n",
       "\n",
       "    .dataframe thead th {\n",
       "        text-align: right;\n",
       "    }\n",
       "</style>\n",
       "<table border=\"1\" class=\"dataframe\">\n",
       "  <thead>\n",
       "    <tr style=\"text-align: right;\">\n",
       "      <th></th>\n",
       "      <th>total_bill</th>\n",
       "      <th>tip</th>\n",
       "      <th>sex</th>\n",
       "      <th>smoker</th>\n",
       "      <th>day</th>\n",
       "      <th>time</th>\n",
       "      <th>size</th>\n",
       "    </tr>\n",
       "  </thead>\n",
       "  <tbody>\n",
       "    <tr>\n",
       "      <th>0</th>\n",
       "      <td>16.99</td>\n",
       "      <td>1.01</td>\n",
       "      <td>Female</td>\n",
       "      <td>No</td>\n",
       "      <td>Sun</td>\n",
       "      <td>Dinner</td>\n",
       "      <td>2</td>\n",
       "    </tr>\n",
       "    <tr>\n",
       "      <th>1</th>\n",
       "      <td>10.34</td>\n",
       "      <td>1.66</td>\n",
       "      <td>Male</td>\n",
       "      <td>No</td>\n",
       "      <td>Sun</td>\n",
       "      <td>Dinner</td>\n",
       "      <td>3</td>\n",
       "    </tr>\n",
       "    <tr>\n",
       "      <th>2</th>\n",
       "      <td>21.01</td>\n",
       "      <td>3.50</td>\n",
       "      <td>Male</td>\n",
       "      <td>No</td>\n",
       "      <td>Sun</td>\n",
       "      <td>Dinner</td>\n",
       "      <td>3</td>\n",
       "    </tr>\n",
       "    <tr>\n",
       "      <th>3</th>\n",
       "      <td>23.68</td>\n",
       "      <td>3.31</td>\n",
       "      <td>Male</td>\n",
       "      <td>No</td>\n",
       "      <td>Sun</td>\n",
       "      <td>Dinner</td>\n",
       "      <td>2</td>\n",
       "    </tr>\n",
       "    <tr>\n",
       "      <th>4</th>\n",
       "      <td>24.59</td>\n",
       "      <td>3.61</td>\n",
       "      <td>Female</td>\n",
       "      <td>No</td>\n",
       "      <td>Sun</td>\n",
       "      <td>Dinner</td>\n",
       "      <td>4</td>\n",
       "    </tr>\n",
       "    <tr>\n",
       "      <th>...</th>\n",
       "      <td>...</td>\n",
       "      <td>...</td>\n",
       "      <td>...</td>\n",
       "      <td>...</td>\n",
       "      <td>...</td>\n",
       "      <td>...</td>\n",
       "      <td>...</td>\n",
       "    </tr>\n",
       "    <tr>\n",
       "      <th>239</th>\n",
       "      <td>29.03</td>\n",
       "      <td>5.92</td>\n",
       "      <td>Male</td>\n",
       "      <td>No</td>\n",
       "      <td>Sat</td>\n",
       "      <td>Dinner</td>\n",
       "      <td>3</td>\n",
       "    </tr>\n",
       "    <tr>\n",
       "      <th>240</th>\n",
       "      <td>27.18</td>\n",
       "      <td>2.00</td>\n",
       "      <td>Female</td>\n",
       "      <td>Yes</td>\n",
       "      <td>Sat</td>\n",
       "      <td>Dinner</td>\n",
       "      <td>2</td>\n",
       "    </tr>\n",
       "    <tr>\n",
       "      <th>241</th>\n",
       "      <td>22.67</td>\n",
       "      <td>2.00</td>\n",
       "      <td>Male</td>\n",
       "      <td>Yes</td>\n",
       "      <td>Sat</td>\n",
       "      <td>Dinner</td>\n",
       "      <td>2</td>\n",
       "    </tr>\n",
       "    <tr>\n",
       "      <th>242</th>\n",
       "      <td>17.82</td>\n",
       "      <td>1.75</td>\n",
       "      <td>Male</td>\n",
       "      <td>No</td>\n",
       "      <td>Sat</td>\n",
       "      <td>Dinner</td>\n",
       "      <td>2</td>\n",
       "    </tr>\n",
       "    <tr>\n",
       "      <th>243</th>\n",
       "      <td>18.78</td>\n",
       "      <td>3.00</td>\n",
       "      <td>Female</td>\n",
       "      <td>No</td>\n",
       "      <td>Thur</td>\n",
       "      <td>Dinner</td>\n",
       "      <td>2</td>\n",
       "    </tr>\n",
       "  </tbody>\n",
       "</table>\n",
       "<p>244 rows × 7 columns</p>\n",
       "</div>"
      ],
      "text/plain": [
       "     total_bill   tip     sex smoker   day    time  size\n",
       "0         16.99  1.01  Female     No   Sun  Dinner     2\n",
       "1         10.34  1.66    Male     No   Sun  Dinner     3\n",
       "2         21.01  3.50    Male     No   Sun  Dinner     3\n",
       "3         23.68  3.31    Male     No   Sun  Dinner     2\n",
       "4         24.59  3.61  Female     No   Sun  Dinner     4\n",
       "..          ...   ...     ...    ...   ...     ...   ...\n",
       "239       29.03  5.92    Male     No   Sat  Dinner     3\n",
       "240       27.18  2.00  Female    Yes   Sat  Dinner     2\n",
       "241       22.67  2.00    Male    Yes   Sat  Dinner     2\n",
       "242       17.82  1.75    Male     No   Sat  Dinner     2\n",
       "243       18.78  3.00  Female     No  Thur  Dinner     2\n",
       "\n",
       "[244 rows x 7 columns]"
      ]
     },
     "execution_count": 8,
     "metadata": {},
     "output_type": "execute_result"
    }
   ],
   "source": [
    "import seaborn as sns\n",
    "tips = sns.load_dataset(\"tips\")\n",
    "tips"
   ]
  },
  {
   "cell_type": "code",
   "execution_count": 9,
   "metadata": {},
   "outputs": [
    {
     "data": {
      "text/plain": [
       "pandas.core.frame.DataFrame"
      ]
     },
     "execution_count": 9,
     "metadata": {},
     "output_type": "execute_result"
    }
   ],
   "source": [
    "type(tips)"
   ]
  },
  {
   "cell_type": "code",
   "execution_count": 10,
   "metadata": {},
   "outputs": [
    {
     "data": {
      "text/plain": [
       "Male      157\n",
       "Female      0\n",
       "Name: sex, dtype: int64"
      ]
     },
     "execution_count": 10,
     "metadata": {},
     "output_type": "execute_result"
    }
   ],
   "source": [
    "# 1x Male Dataset + 1x Female Dataset\n",
    "df_male = tips[tips.sex == \"Male\"]\n",
    "df_female = tips[tips.sex == \"Female\"]\n",
    "\n",
    "df_male.sex.value_counts()"
   ]
  },
  {
   "cell_type": "code",
   "execution_count": 11,
   "metadata": {},
   "outputs": [
    {
     "data": {
      "text/plain": [
       "Female    87\n",
       "Male       0\n",
       "Name: sex, dtype: int64"
      ]
     },
     "execution_count": 11,
     "metadata": {},
     "output_type": "execute_result"
    }
   ],
   "source": [
    "df_female.sex.value_counts()"
   ]
  },
  {
   "cell_type": "code",
   "execution_count": 16,
   "metadata": {},
   "outputs": [
    {
     "name": "stdout",
     "output_type": "stream",
     "text": [
      "Male Lunch:\n",
      " Lunch     33\n",
      "Dinner     0\n",
      "Name: time, dtype: int64\n",
      "\n",
      "Male Dinner:\n",
      " Dinner    124\n",
      "Lunch       0\n",
      "Name: time, dtype: int64\n",
      "\n",
      "--------\n",
      "Female Lunch:\n",
      " Lunch     35\n",
      "Dinner     0\n",
      "Name: time, dtype: int64\n",
      "\n",
      "Female Dinner:\n",
      " Dinner    52\n",
      "Lunch      0\n",
      "Name: time, dtype: int64\n"
     ]
    }
   ],
   "source": [
    "# 1x Male&Lunch Dataset + 1x Male&Dinner Dataset\n",
    "df_male_lunch = df_male[df_male.time == \"Lunch\"]\n",
    "df_male_dinner = df_male[df_male.time == \"Dinner\"]\n",
    "\n",
    "print(\"Male Lunch:\\n\", df_male_lunch.time.value_counts())\n",
    "print(\"\\nMale Dinner:\\n\", df_male_dinner.time.value_counts())\n",
    "\n",
    "# 1x Female&Lunch Dataset + 1x Female&Dinner Dataset\n",
    "df_female_lunch = df_female[df_female.time == \"Lunch\"]\n",
    "df_female_dinner = df_female[df_female.time == \"Dinner\"]\n",
    "\n",
    "print(\"\\n--------\\nFemale Lunch:\\n\", df_female_lunch.time.value_counts())\n",
    "print(\"\\nFemale Dinner:\\n\", df_female_dinner.time.value_counts())"
   ]
  },
  {
   "cell_type": "code",
   "execution_count": 134,
   "metadata": {},
   "outputs": [
    {
     "data": {
      "image/png": "[encoded data removed]",
      "text/plain": [
       "<Figure size 864x432 with 2 Axes>"
      ]
     },
     "metadata": {
      "needs_background": "light"
     },
     "output_type": "display_data"
    }
   ],
   "source": [
    "figure, ax = plt.subplots(1, 2)\n",
    "\n",
    "figure.set_size_inches(12, 6)\n",
    "#figure.tight_layout()\n",
    "\n",
    "### draw Male Dataset -> with white edge and the size is a little bigger (50)\n",
    "# lunch -> blue color\n",
    "ax[0].scatter(df_male_lunch.total_bill, df_male_lunch.tip, c=\"tab:blue\", edgecolor=\"white\", s=50)\n",
    "# dinner -> orange color\n",
    "ax[0].scatter(df_male_dinner.total_bill, df_male_dinner.tip, c=\"tab:orange\", edgecolor=\"white\", s=50)\n",
    "# deactivate the top and right axis\n",
    "ax[0].spines['top'].set_visible(False)\n",
    "ax[0].spines['right'].set_visible(False)\n",
    "# set title and labels\n",
    "ax[0].set_xlabel(\"total_bill\")\n",
    "ax[0].set_ylabel(\"tip\")\n",
    "ax[0].set_title(\"sex = Male\")\n",
    "\n",
    "### draw Female Dataset -> with white edge and the size is a little bigger (50)\n",
    "# lunch -> blue color\n",
    "scatter1 = ax[1].scatter(df_female_lunch.total_bill, df_female_lunch.tip, c=\"tab:blue\", edgecolor=\"white\", s=50)\n",
    "# dinner -> orange color\n",
    "scatter2 = ax[1].scatter(df_female_dinner.total_bill, df_female_dinner.tip, c=\"tab:orange\", edgecolor=\"white\", s=50)\n",
    "# deactivate the top and right axis\n",
    "ax[1].spines['top'].set_visible(False)\n",
    "ax[1].spines['right'].set_visible(False)\n",
    "# set title and label\n",
    "ax[1].set_xlabel(\"total_bill\")\n",
    "ax[1].set_title(\"sex = Female\")\n",
    "# fit axis\n",
    "ax[1].set_yticks(ticks=np.arange(2, 11, step=2))\n",
    "ax[1].set_xlim(ax[0].get_xlim())\n",
    "ax[1].set_ylim(ax[0].get_ylim())\n",
    "# disappear y-axis-label-names\n",
    "ax[1].set_yticklabels([\" \"]*5)\n",
    "# adding legend -> with title, another position and without the box\n",
    "#                                 -> positioning is with bbox_to_anchor very easy\n",
    "ax[1].legend(handles=[scatter1, scatter2], labels=['Lunch', 'Dinner'], title=\"time\", bbox_to_anchor=(1.3, 0.55), frameon=False)\n",
    "\n",
    "# reduce spacing\n",
    "plt.subplots_adjust(wspace=0.05)\n",
    "plt.show()"
   ]
  }
 ],
 "metadata": {
  "kernelspec": {
   "display_name": "Python 3",
   "language": "python",
   "name": "python3"
  },
  "language_info": {
   "codemirror_mode": {
    "name": "ipython",
    "version": 3
   },
   "file_extension": ".py",
   "mimetype": "text/x-python",
   "name": "python",
   "nbconvert_exporter": "python",
   "pygments_lexer": "ipython3",
   "version": "3.8.10"
  }
 },
 "nbformat": 4,
 "nbformat_minor": 4
}
