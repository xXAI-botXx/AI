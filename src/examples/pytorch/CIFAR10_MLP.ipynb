{
  "nbformat": 4,
  "nbformat_minor": 0,
  "metadata": {
    "colab": {
      "name": "Assignment_CIFAR10_MLP.ipynb",
      "provenance": []
    },
    "kernelspec": {
      "name": "python3",
      "display_name": "Python 3"
    },
    "language_info": {
      "name": "python"
    },
    "accelerator": "GPU",
    "widgets": {
      "application/vnd.jupyter.widget-state+json": {
        "495f0e6c0ecf4cdb81d7de5e81b8f2db": {
          "model_module": "@jupyter-widgets/controls",
          "model_name": "HBoxModel",
          "model_module_version": "1.5.0",
          "state": {
            "_dom_classes": [],
            "_model_module": "@jupyter-widgets/controls",
            "_model_module_version": "1.5.0",
            "_model_name": "HBoxModel",
            "_view_count": null,
            "_view_module": "@jupyter-widgets/controls",
            "_view_module_version": "1.5.0",
            "_view_name": "HBoxView",
            "box_style": "",
            "children": [
              "IPY_MODEL_678b27e1d4d94d3ab07cc9b201180451",
              "IPY_MODEL_f7fe4b09d2bf4aa8961578cd99676f67",
              "IPY_MODEL_585b722e05ea4336958e153988c2f2f5"
            ],
            "layout": "IPY_MODEL_5ba490e2823a4199bbabeae82a1cb6f7"
          }
        },
        "678b27e1d4d94d3ab07cc9b201180451": {
          "model_module": "@jupyter-widgets/controls",
          "model_name": "HTMLModel",
          "model_module_version": "1.5.0",
          "state": {
            "_dom_classes": [],
            "_model_module": "@jupyter-widgets/controls",
            "_model_module_version": "1.5.0",
            "_model_name": "HTMLModel",
            "_view_count": null,
            "_view_module": "@jupyter-widgets/controls",
            "_view_module_version": "1.5.0",
            "_view_name": "HTMLView",
            "description": "",
            "description_tooltip": null,
            "layout": "IPY_MODEL_2878e4381eb04f7da0cec43569faf327",
            "placeholder": "​",
            "style": "IPY_MODEL_9bca0000723a471a8830e7deba06afb8",
            "value": ""
          }
        },
        "f7fe4b09d2bf4aa8961578cd99676f67": {
          "model_module": "@jupyter-widgets/controls",
          "model_name": "FloatProgressModel",
          "model_module_version": "1.5.0",
          "state": {
            "_dom_classes": [],
            "_model_module": "@jupyter-widgets/controls",
            "_model_module_version": "1.5.0",
            "_model_name": "FloatProgressModel",
            "_view_count": null,
            "_view_module": "@jupyter-widgets/controls",
            "_view_module_version": "1.5.0",
            "_view_name": "ProgressView",
            "bar_style": "success",
            "description": "",
            "description_tooltip": null,
            "layout": "IPY_MODEL_ceab62fbe2544ecfb5068a67e381d5b7",
            "max": 170498071,
            "min": 0,
            "orientation": "horizontal",
            "style": "IPY_MODEL_f7f98c9229254243a5b16cd5c482d99f",
            "value": 170498071
          }
        },
        "585b722e05ea4336958e153988c2f2f5": {
          "model_module": "@jupyter-widgets/controls",
          "model_name": "HTMLModel",
          "model_module_version": "1.5.0",
          "state": {
            "_dom_classes": [],
            "_model_module": "@jupyter-widgets/controls",
            "_model_module_version": "1.5.0",
            "_model_name": "HTMLModel",
            "_view_count": null,
            "_view_module": "@jupyter-widgets/controls",
            "_view_module_version": "1.5.0",
            "_view_name": "HTMLView",
            "description": "",
            "description_tooltip": null,
            "layout": "IPY_MODEL_27c0737c22ea4167beba6fedc422c5ea",
            "placeholder": "​",
            "style": "IPY_MODEL_a192625f6f3146109ee30beb3e97e194",
            "value": " 170499072/? [00:03&lt;00:00, 48962518.46it/s]"
          }
        },
        "5ba490e2823a4199bbabeae82a1cb6f7": {
          "model_module": "@jupyter-widgets/base",
          "model_name": "LayoutModel",
          "model_module_version": "1.2.0",
          "state": {
            "_model_module": "@jupyter-widgets/base",
            "_model_module_version": "1.2.0",
            "_model_name": "LayoutModel",
            "_view_count": null,
            "_view_module": "@jupyter-widgets/base",
            "_view_module_version": "1.2.0",
            "_view_name": "LayoutView",
            "align_content": null,
            "align_items": null,
            "align_self": null,
            "border": null,
            "bottom": null,
            "display": null,
            "flex": null,
            "flex_flow": null,
            "grid_area": null,
            "grid_auto_columns": null,
            "grid_auto_flow": null,
            "grid_auto_rows": null,
            "grid_column": null,
            "grid_gap": null,
            "grid_row": null,
            "grid_template_areas": null,
            "grid_template_columns": null,
            "grid_template_rows": null,
            "height": null,
            "justify_content": null,
            "justify_items": null,
            "left": null,
            "margin": null,
            "max_height": null,
            "max_width": null,
            "min_height": null,
            "min_width": null,
            "object_fit": null,
            "object_position": null,
            "order": null,
            "overflow": null,
            "overflow_x": null,
            "overflow_y": null,
            "padding": null,
            "right": null,
            "top": null,
            "visibility": null,
            "width": null
          }
        },
        "2878e4381eb04f7da0cec43569faf327": {
          "model_module": "@jupyter-widgets/base",
          "model_name": "LayoutModel",
          "model_module_version": "1.2.0",
          "state": {
            "_model_module": "@jupyter-widgets/base",
            "_model_module_version": "1.2.0",
            "_model_name": "LayoutModel",
            "_view_count": null,
            "_view_module": "@jupyter-widgets/base",
            "_view_module_version": "1.2.0",
            "_view_name": "LayoutView",
            "align_content": null,
            "align_items": null,
            "align_self": null,
            "border": null,
            "bottom": null,
            "display": null,
            "flex": null,
            "flex_flow": null,
            "grid_area": null,
            "grid_auto_columns": null,
            "grid_auto_flow": null,
            "grid_auto_rows": null,
            "grid_column": null,
            "grid_gap": null,
            "grid_row": null,
            "grid_template_areas": null,
            "grid_template_columns": null,
            "grid_template_rows": null,
            "height": null,
            "justify_content": null,
            "justify_items": null,
            "left": null,
            "margin": null,
            "max_height": null,
            "max_width": null,
            "min_height": null,
            "min_width": null,
            "object_fit": null,
            "object_position": null,
            "order": null,
            "overflow": null,
            "overflow_x": null,
            "overflow_y": null,
            "padding": null,
            "right": null,
            "top": null,
            "visibility": null,
            "width": null
          }
        },
        "9bca0000723a471a8830e7deba06afb8": {
          "model_module": "@jupyter-widgets/controls",
          "model_name": "DescriptionStyleModel",
          "model_module_version": "1.5.0",
          "state": {
            "_model_module": "@jupyter-widgets/controls",
            "_model_module_version": "1.5.0",
            "_model_name": "DescriptionStyleModel",
            "_view_count": null,
            "_view_module": "@jupyter-widgets/base",
            "_view_module_version": "1.2.0",
            "_view_name": "StyleView",
            "description_width": ""
          }
        },
        "ceab62fbe2544ecfb5068a67e381d5b7": {
          "model_module": "@jupyter-widgets/base",
          "model_name": "LayoutModel",
          "model_module_version": "1.2.0",
          "state": {
            "_model_module": "@jupyter-widgets/base",
            "_model_module_version": "1.2.0",
            "_model_name": "LayoutModel",
            "_view_count": null,
            "_view_module": "@jupyter-widgets/base",
            "_view_module_version": "1.2.0",
            "_view_name": "LayoutView",
            "align_content": null,
            "align_items": null,
            "align_self": null,
            "border": null,
            "bottom": null,
            "display": null,
            "flex": null,
            "flex_flow": null,
            "grid_area": null,
            "grid_auto_columns": null,
            "grid_auto_flow": null,
            "grid_auto_rows": null,
            "grid_column": null,
            "grid_gap": null,
            "grid_row": null,
            "grid_template_areas": null,
            "grid_template_columns": null,
            "grid_template_rows": null,
            "height": null,
            "justify_content": null,
            "justify_items": null,
            "left": null,
            "margin": null,
            "max_height": null,
            "max_width": null,
            "min_height": null,
            "min_width": null,
            "object_fit": null,
            "object_position": null,
            "order": null,
            "overflow": null,
            "overflow_x": null,
            "overflow_y": null,
            "padding": null,
            "right": null,
            "top": null,
            "visibility": null,
            "width": null
          }
        },
        "f7f98c9229254243a5b16cd5c482d99f": {
          "model_module": "@jupyter-widgets/controls",
          "model_name": "ProgressStyleModel",
          "model_module_version": "1.5.0",
          "state": {
            "_model_module": "@jupyter-widgets/controls",
            "_model_module_version": "1.5.0",
            "_model_name": "ProgressStyleModel",
            "_view_count": null,
            "_view_module": "@jupyter-widgets/base",
            "_view_module_version": "1.2.0",
            "_view_name": "StyleView",
            "bar_color": null,
            "description_width": ""
          }
        },
        "27c0737c22ea4167beba6fedc422c5ea": {
          "model_module": "@jupyter-widgets/base",
          "model_name": "LayoutModel",
          "model_module_version": "1.2.0",
          "state": {
            "_model_module": "@jupyter-widgets/base",
            "_model_module_version": "1.2.0",
            "_model_name": "LayoutModel",
            "_view_count": null,
            "_view_module": "@jupyter-widgets/base",
            "_view_module_version": "1.2.0",
            "_view_name": "LayoutView",
            "align_content": null,
            "align_items": null,
            "align_self": null,
            "border": null,
            "bottom": null,
            "display": null,
            "flex": null,
            "flex_flow": null,
            "grid_area": null,
            "grid_auto_columns": null,
            "grid_auto_flow": null,
            "grid_auto_rows": null,
            "grid_column": null,
            "grid_gap": null,
            "grid_row": null,
            "grid_template_areas": null,
            "grid_template_columns": null,
            "grid_template_rows": null,
            "height": null,
            "justify_content": null,
            "justify_items": null,
            "left": null,
            "margin": null,
            "max_height": null,
            "max_width": null,
            "min_height": null,
            "min_width": null,
            "object_fit": null,
            "object_position": null,
            "order": null,
            "overflow": null,
            "overflow_x": null,
            "overflow_y": null,
            "padding": null,
            "right": null,
            "top": null,
            "visibility": null,
            "width": null
          }
        },
        "a192625f6f3146109ee30beb3e97e194": {
          "model_module": "@jupyter-widgets/controls",
          "model_name": "DescriptionStyleModel",
          "model_module_version": "1.5.0",
          "state": {
            "_model_module": "@jupyter-widgets/controls",
            "_model_module_version": "1.5.0",
            "_model_name": "DescriptionStyleModel",
            "_view_count": null,
            "_view_module": "@jupyter-widgets/base",
            "_view_module_version": "1.2.0",
            "_view_name": "StyleView",
            "description_width": ""
          }
        }
      }
    }
  },
  "cells": [
    {
      "cell_type": "markdown",
      "source": [
        "# CIFAR 10 with a MLP in PyTorch"
      ],
      "metadata": {
        "id": "Emh1lXeYaMVF"
      }
    },
    {
      "cell_type": "code",
      "source": [
        "#install Pytorch\n",
        "!pip3 install torch==1.2.0+cu92 torchvision==0.4.0+cu92 -f https://download.pytorch.org/whl/torch_stable.html"
      ],
      "metadata": {
        "colab": {
          "base_uri": "https://localhost:8080/"
        },
        "id": "1ivCKXsVaTVz",
        "outputId": "bce06781-2edb-4529-d33d-043607ec8628"
      },
      "execution_count": 1,
      "outputs": [
        {
          "output_type": "stream",
          "name": "stdout",
          "text": [
            "Looking in links: https://download.pytorch.org/whl/torch_stable.html\n",
            "Collecting torch==1.2.0+cu92\n",
            "  Downloading https://download.pytorch.org/whl/cu92/torch-1.2.0%2Bcu92-cp37-cp37m-manylinux1_x86_64.whl (663.1 MB)\n",
            "\u001b[K     |████████████████████████████████| 663.1 MB 1.7 kB/s \n",
            "\u001b[?25hCollecting torchvision==0.4.0+cu92\n",
            "  Downloading https://download.pytorch.org/whl/cu92/torchvision-0.4.0%2Bcu92-cp37-cp37m-manylinux1_x86_64.whl (8.8 MB)\n",
            "\u001b[K     |████████████████████████████████| 8.8 MB 36.8 MB/s \n",
            "\u001b[?25hRequirement already satisfied: numpy in /usr/local/lib/python3.7/dist-packages (from torch==1.2.0+cu92) (1.21.5)\n",
            "Requirement already satisfied: pillow>=4.1.1 in /usr/local/lib/python3.7/dist-packages (from torchvision==0.4.0+cu92) (7.1.2)\n",
            "Requirement already satisfied: six in /usr/local/lib/python3.7/dist-packages (from torchvision==0.4.0+cu92) (1.15.0)\n",
            "Installing collected packages: torch, torchvision\n",
            "  Attempting uninstall: torch\n",
            "    Found existing installation: torch 1.10.0+cu111\n",
            "    Uninstalling torch-1.10.0+cu111:\n",
            "      Successfully uninstalled torch-1.10.0+cu111\n",
            "  Attempting uninstall: torchvision\n",
            "    Found existing installation: torchvision 0.11.1+cu111\n",
            "    Uninstalling torchvision-0.11.1+cu111:\n",
            "      Successfully uninstalled torchvision-0.11.1+cu111\n",
            "\u001b[31mERROR: pip's dependency resolver does not currently take into account all the packages that are installed. This behaviour is the source of the following dependency conflicts.\n",
            "torchtext 0.11.0 requires torch==1.10.0, but you have torch 1.2.0+cu92 which is incompatible.\n",
            "torchaudio 0.10.0+cu111 requires torch==1.10.0, but you have torch 1.2.0+cu92 which is incompatible.\u001b[0m\n",
            "Successfully installed torch-1.2.0+cu92 torchvision-0.4.0+cu92\n"
          ]
        }
      ]
    },
    {
      "cell_type": "code",
      "source": [
        "#imports\n",
        "import torch\n",
        "import torchvision\n",
        "import torchvision.transforms as transforms"
      ],
      "metadata": {
        "id": "2rui6YPgaWHn"
      },
      "execution_count": 1,
      "outputs": []
    },
    {
      "cell_type": "markdown",
      "source": [
        "## Get CIFAR\n",
        "Use PyTorch Data Loaders (more next week) to get data batches"
      ],
      "metadata": {
        "id": "9ib9AeEvawaZ"
      }
    },
    {
      "cell_type": "code",
      "source": [
        "#transform input data (image) to tensor\n",
        "transform = transforms.Compose(\n",
        "    [transforms.ToTensor(),\n",
        "     transforms.Normalize((0.5, 0.5, 0.5), (0.5, 0.5, 0.5))])\n",
        "\n",
        "#set batch size\n",
        "batch_size = 4\n",
        "\n",
        "trainset = torchvision.datasets.CIFAR10(root='./data', train=True,\n",
        "                                        download=True, transform=transform)\n",
        "trainloader = torch.utils.data.DataLoader(trainset, batch_size=batch_size,\n",
        "                                          shuffle=True, num_workers=2)\n",
        "\n",
        "testset = torchvision.datasets.CIFAR10(root='./data', train=False,\n",
        "                                       download=True, transform=transform)\n",
        "testloader = torch.utils.data.DataLoader(testset, batch_size=batch_size,\n",
        "                                         shuffle=False, num_workers=2)\n",
        "\n",
        "classes = ('plane', 'car', 'bird', 'cat',\n",
        "           'deer', 'dog', 'frog', 'horse', 'ship', 'truck')"
      ],
      "metadata": {
        "colab": {
          "base_uri": "https://localhost:8080/",
          "height": 103,
          "referenced_widgets": [
            "495f0e6c0ecf4cdb81d7de5e81b8f2db",
            "678b27e1d4d94d3ab07cc9b201180451",
            "f7fe4b09d2bf4aa8961578cd99676f67",
            "585b722e05ea4336958e153988c2f2f5",
            "5ba490e2823a4199bbabeae82a1cb6f7",
            "2878e4381eb04f7da0cec43569faf327",
            "9bca0000723a471a8830e7deba06afb8",
            "ceab62fbe2544ecfb5068a67e381d5b7",
            "f7f98c9229254243a5b16cd5c482d99f",
            "27c0737c22ea4167beba6fedc422c5ea",
            "a192625f6f3146109ee30beb3e97e194"
          ]
        },
        "id": "_5YooJWsadqw",
        "outputId": "d63183b7-10fa-49f5-d22a-c57f0f17e7fb"
      },
      "execution_count": 2,
      "outputs": [
        {
          "output_type": "stream",
          "name": "stdout",
          "text": [
            "Downloading https://www.cs.toronto.edu/~kriz/cifar-10-python.tar.gz to ./data/cifar-10-python.tar.gz\n"
          ]
        },
        {
          "output_type": "display_data",
          "data": {
            "text/plain": [
              "  0%|          | 0/170498071 [00:00<?, ?it/s]"
            ],
            "application/vnd.jupyter.widget-view+json": {
              "version_major": 2,
              "version_minor": 0,
              "model_id": "495f0e6c0ecf4cdb81d7de5e81b8f2db"
            }
          },
          "metadata": {}
        },
        {
          "output_type": "stream",
          "name": "stdout",
          "text": [
            "Extracting ./data/cifar-10-python.tar.gz to ./data\n",
            "Files already downloaded and verified\n"
          ]
        }
      ]
    },
    {
      "cell_type": "code",
      "source": [
        "import matplotlib.pyplot as plt\n",
        "import numpy as np\n",
        "\n",
        "# functions to show an image\n",
        "\n",
        "\n",
        "def imshow(img):\n",
        "    img = img / 2 + 0.5     # unnormalize\n",
        "    npimg = img.numpy()\n",
        "    plt.imshow(np.transpose(npimg, (1, 2, 0)))\n",
        "    plt.show()\n",
        "\n",
        "\n",
        "# get some random training images\n",
        "dataiter = iter(trainloader)\n",
        "images, labels = dataiter.next() #get data from loader!\n",
        "\n",
        "# show images\n",
        "imshow(torchvision.utils.make_grid(images))\n",
        "# print labels\n",
        "print(' '.join(f'{classes[labels[j]]:5s}' for j in range(batch_size)))"
      ],
      "metadata": {
        "colab": {
          "base_uri": "https://localhost:8080/",
          "height": 156
        },
        "id": "qSerMWeDa6UA",
        "outputId": "e4b0bdee-53e5-4e9b-85c1-7c9d81c97ec3"
      },
      "execution_count": 3,
      "outputs": [
        {
          "output_type": "display_data",
          "data": {
            "text/plain": [
              "<Figure size 432x288 with 1 Axes>"
            ],
            "image/png": "[encoded data removed]"
          },
          "metadata": {
            "needs_background": "light"
          }
        },
        {
          "output_type": "stream",
          "name": "stdout",
          "text": [
            "frog  dog   dog   ship \n"
          ]
        }
      ]
    },
    {
      "cell_type": "code",
      "source": [
        "#get shape of a batch -> 4D: batch_size, color_channels, y, x\n",
        "images.shape"
      ],
      "metadata": {
        "id": "cXvRBHIWbKdX",
        "colab": {
          "base_uri": "https://localhost:8080/"
        },
        "outputId": "cecdf14f-5075-4a3d-e60a-5523d9df08a1"
      },
      "execution_count": 4,
      "outputs": [
        {
          "output_type": "execute_result",
          "data": {
            "text/plain": [
              "torch.Size([4, 3, 32, 32])"
            ]
          },
          "metadata": {},
          "execution_count": 4
        }
      ]
    },
    {
      "cell_type": "markdown",
      "source": [
        "## Assignment\n",
        "* design MLP to classify CIFAR10\n",
        "* train and evaluate your model\n",
        "\n",
        "### Notes:\n",
        "* USE THE GPU! -> need to transfer the model and data to the GPU\n",
        "* MLP take 1D input - CIFAR imges are 2D -> first operator of your net needs to flatten the image\n",
        "* CIFAR is a multi class problem: use a SOFTMAX layer to output vector of class propabilities -> user argmax to get the class lable\n",
        "* Start small: use a small net with a reducet training set and a few epochs to test your setup "
      ],
      "metadata": {
        "id": "Re0XcPj6daEj"
      }
    },
    {
      "cell_type": "code",
      "source": [
        "#compute sizes\n",
        "input_size = 32*32*3 # |input|=|data| -> image size x*y*colorchannels\n",
        "hidden1 = 128 #number of hidden neurons\n",
        "output_size = 10 #|output|=|classes|"
      ],
      "metadata": {
        "id": "c2tUpmF7bnEQ"
      },
      "execution_count": 5,
      "outputs": []
    },
    {
      "cell_type": "code",
      "source": [
        "import torch \n",
        "class MLP(torch.nn.Module): #all nets inherit from nn.Module\n",
        "    def __init__(self): #define layer types\n",
        "        super(MLP, self).__init__()\n",
        "        self.reshape = torch.flatten #2D input needs to be 1D for MLP, Note: flatten is not a class!\n",
        "        self.fc1 = torch.nn.Linear(input_size,hidden1,bias=False) #1st layer input dim = 2, output =4 - | input needs to have size of data\n",
        "        self.fc2 = torch.nn.Linear(hidden1,output_size,bias=False) #2nd layer input 4 out put 2 | output needs to be one for binary problem\n",
        "        self.non_linear = torch.nn.Sigmoid() #non-linear activation \n",
        "    def forward(self, x): #build network\n",
        "        output = self.reshape(x,start_dim=1)\n",
        "        output = self.fc1(output) #w*X\n",
        "        output = self.non_linear(output) # activation\n",
        "        output = self.fc2(output) #w*X \n",
        "        return torch.nn.functional.log_softmax(output)"
      ],
      "metadata": {
        "id": "iHcYNEmIegDu"
      },
      "execution_count": 6,
      "outputs": []
    },
    {
      "cell_type": "code",
      "source": [
        "#get instance of perceptron model\n",
        "model = MLP()\n",
        "\n",
        "#define loss function\n",
        "criterion = torch.nn.functional.nll_loss#torch.nn.CrossEntropyLoss()\n",
        "\n",
        "#define optimizer -> SGD with learning rate lr\n",
        "optimizer = torch.optim.SGD(model.parameters(), lr = 0.01)"
      ],
      "metadata": {
        "id": "r5Sny0-0ceMJ"
      },
      "execution_count": 7,
      "outputs": []
    },
    {
      "cell_type": "code",
      "source": [
        "#show model\n",
        "print(model)"
      ],
      "metadata": {
        "colab": {
          "base_uri": "https://localhost:8080/"
        },
        "id": "jV1vJMJdckI7",
        "outputId": "a09a1cd8-f160-4def-a480-cf3558290e2e"
      },
      "execution_count": 8,
      "outputs": [
        {
          "output_type": "stream",
          "name": "stdout",
          "text": [
            "MLP(\n",
            "  (fc1): Linear(in_features=3072, out_features=128, bias=False)\n",
            "  (fc2): Linear(in_features=128, out_features=10, bias=False)\n",
            "  (non_linear): Sigmoid()\n",
            ")\n"
          ]
        }
      ]
    },
    {
      "cell_type": "code",
      "source": [
        "#get num of learnable parameters in model \n",
        "model_parameters = filter(lambda p: p.requires_grad, model.parameters())\n",
        "sum([np.prod(p.size()) for p in model_parameters])"
      ],
      "metadata": {
        "colab": {
          "base_uri": "https://localhost:8080/"
        },
        "id": "79lmFsSrcq3L",
        "outputId": "4f5f875a-7539-406c-e614-23ad9110c262"
      },
      "execution_count": 9,
      "outputs": [
        {
          "output_type": "execute_result",
          "data": {
            "text/plain": [
              "394496"
            ]
          },
          "metadata": {},
          "execution_count": 9
        }
      ]
    },
    {
      "cell_type": "code",
      "source": [
        "%%time\n",
        "for epoch in range(10):  # loop over the dataset multiple times\n",
        "\n",
        "    running_loss = 0.0\n",
        "    correct=0\n",
        "    for i, data in enumerate(trainloader, 0):\n",
        "        # get the inputs; data is a list of [inputs, labels]\n",
        "        inputs, labels = data\n",
        "\n",
        "        # zero the parameter gradients\n",
        "        optimizer.zero_grad()\n",
        "\n",
        "        # forward + backward + optimize\n",
        "        outputs = model(inputs)\n",
        "        \n",
        "        loss = criterion(outputs, labels)\n",
        "        loss.backward()\n",
        "        optimizer.step()\n",
        "\n",
        "        # print statistics\n",
        "        running_loss += loss.item()\n",
        "        if i % 2000 == 1999:    # print every 2000 mini-batches\n",
        "            print(f'[{epoch + 1}, {i + 1:5d}] loss: {running_loss / 2000:.3f}')\n",
        "            running_loss = 0.0\n",
        "\n",
        "print('Finished Training')"
      ],
      "metadata": {
        "colab": {
          "base_uri": "https://localhost:8080/"
        },
        "id": "5170NbEfdqdt",
        "outputId": "c21c51b8-caac-4e12-f8da-77979eaa44b7"
      },
      "execution_count": 67,
      "outputs": [
        {
          "output_type": "stream",
          "name": "stderr",
          "text": [
            "/usr/local/lib/python3.7/dist-packages/ipykernel_launcher.py:14: UserWarning: Implicit dimension choice for log_softmax has been deprecated. Change the call to include dim=X as an argument.\n",
            "  \n"
          ]
        },
        {
          "output_type": "stream",
          "name": "stdout",
          "text": [
            "[1,  2000] loss: 1.374\n",
            "[1,  4000] loss: 1.389\n",
            "[1,  6000] loss: 1.386\n",
            "[1,  8000] loss: 1.415\n",
            "[1, 10000] loss: 1.413\n",
            "[1, 12000] loss: 1.403\n",
            "[2,  2000] loss: 1.370\n",
            "[2,  4000] loss: 1.346\n",
            "[2,  6000] loss: 1.361\n",
            "[2,  8000] loss: 1.361\n",
            "[2, 10000] loss: 1.378\n",
            "[2, 12000] loss: 1.378\n",
            "[3,  2000] loss: 1.337\n",
            "[3,  4000] loss: 1.322\n",
            "[3,  6000] loss: 1.349\n",
            "[3,  8000] loss: 1.349\n",
            "[3, 10000] loss: 1.339\n",
            "[3, 12000] loss: 1.342\n",
            "[4,  2000] loss: 1.311\n",
            "[4,  4000] loss: 1.298\n",
            "[4,  6000] loss: 1.304\n",
            "[4,  8000] loss: 1.308\n",
            "[4, 10000] loss: 1.329\n",
            "[4, 12000] loss: 1.317\n",
            "[5,  2000] loss: 1.277\n",
            "[5,  4000] loss: 1.263\n",
            "[5,  6000] loss: 1.286\n",
            "[5,  8000] loss: 1.283\n",
            "[5, 10000] loss: 1.292\n",
            "[5, 12000] loss: 1.296\n",
            "[6,  2000] loss: 1.245\n",
            "[6,  4000] loss: 1.268\n",
            "[6,  6000] loss: 1.263\n",
            "[6,  8000] loss: 1.242\n",
            "[6, 10000] loss: 1.268\n",
            "[6, 12000] loss: 1.285\n",
            "[7,  2000] loss: 1.228\n",
            "[7,  4000] loss: 1.224\n",
            "[7,  6000] loss: 1.228\n",
            "[7,  8000] loss: 1.265\n",
            "[7, 10000] loss: 1.243\n",
            "[7, 12000] loss: 1.240\n",
            "[8,  2000] loss: 1.194\n",
            "[8,  4000] loss: 1.191\n",
            "[8,  6000] loss: 1.215\n",
            "[8,  8000] loss: 1.226\n",
            "[8, 10000] loss: 1.236\n",
            "[8, 12000] loss: 1.237\n",
            "[9,  2000] loss: 1.177\n",
            "[9,  4000] loss: 1.201\n",
            "[9,  6000] loss: 1.199\n",
            "[9,  8000] loss: 1.199\n",
            "[9, 10000] loss: 1.185\n",
            "[9, 12000] loss: 1.204\n",
            "[10,  2000] loss: 1.141\n",
            "[10,  4000] loss: 1.155\n",
            "[10,  6000] loss: 1.169\n",
            "[10,  8000] loss: 1.177\n",
            "[10, 10000] loss: 1.196\n",
            "[10, 12000] loss: 1.200\n",
            "Finished Training\n",
            "CPU times: user 6min 3s, sys: 1min 1s, total: 7min 5s\n",
            "Wall time: 9min 22s\n"
          ]
        }
      ]
    },
    {
      "cell_type": "code",
      "source": [
        "%%time\n",
        "#test model on testset\n",
        "correct = 0\n",
        "total = 0\n",
        "\n",
        "# since we're not training, we don't need to calculate the gradients for our outputs\n",
        "model.eval()\n",
        "    \n",
        "for data in testloader:\n",
        "        images, labels = data\n",
        "        # calculate outputs by running images through the network\n",
        "        outputs = model(images)\n",
        "        # the class with the highest energy is what we choose as prediction\n",
        "        _, predicted = torch.max(outputs.data, 1)\n",
        "        total += labels.size(0)\n",
        "        correct += (predicted == labels).sum().item()\n",
        "\n",
        "print(f'Accuracy of the network on the 10000 test images: {100 * correct // total} %')"
      ],
      "metadata": {
        "colab": {
          "base_uri": "https://localhost:8080/"
        },
        "id": "1crDDtojea-2",
        "outputId": "7ddb4b14-d67c-4899-85ae-7c1f19399ced"
      },
      "execution_count": 68,
      "outputs": [
        {
          "output_type": "stream",
          "name": "stderr",
          "text": [
            "/usr/local/lib/python3.7/dist-packages/ipykernel_launcher.py:14: UserWarning: Implicit dimension choice for log_softmax has been deprecated. Change the call to include dim=X as an argument.\n",
            "  \n"
          ]
        },
        {
          "output_type": "stream",
          "name": "stdout",
          "text": [
            "Accuracy of the network on the 10000 test images: 46 %\n",
            "CPU times: user 3.6 s, sys: 912 ms, total: 4.51 s\n",
            "Wall time: 7.02 s\n"
          ]
        }
      ]
    },
    {
      "cell_type": "markdown",
      "source": [
        "### Now with GPUs"
      ],
      "metadata": {
        "id": "l9z2A6y-2ULa"
      }
    },
    {
      "cell_type": "code",
      "source": [
        "device = torch.device('cuda:0' if torch.cuda.is_available() else 'cpu')\n",
        "\n",
        "# Assuming that we are on a CUDA machine, this should print a CUDA device:\n",
        "\n",
        "print(device)"
      ],
      "metadata": {
        "colab": {
          "base_uri": "https://localhost:8080/"
        },
        "id": "ijkxhWhUx9FI",
        "outputId": "be19d3d4-ae48-42cb-cd0e-14691f0ec7bb"
      },
      "execution_count": 10,
      "outputs": [
        {
          "output_type": "stream",
          "name": "stdout",
          "text": [
            "cuda:0\n"
          ]
        }
      ]
    },
    {
      "cell_type": "code",
      "source": [
        "#move model to GPU\n",
        "model=model.to(device)"
      ],
      "metadata": {
        "id": "fGbqiabB27OI"
      },
      "execution_count": 12,
      "outputs": []
    },
    {
      "cell_type": "code",
      "source": [
        "#monitor our GPU\n",
        "#!pip install wandb\n",
        "#import wandb\n",
        "#wandb.init()"
      ],
      "metadata": {
        "id": "a93GEPI841Jq"
      },
      "execution_count": 18,
      "outputs": []
    },
    {
      "cell_type": "code",
      "source": [
        "%%time\n",
        "import time\n",
        "\n",
        "\n",
        "for epoch in range(1):  # loop over the dataset multiple times\n",
        "\n",
        "    running_loss = 0.0\n",
        "    correct=0\n",
        "    for i, data in enumerate(trainloader, 0):\n",
        "        # get the inputs; data is a list of [inputs, labels]\n",
        "        start = time.time()\n",
        "        inputs, labels = data[0].to(device), data[1].to(device) #MOVE to GPU\n",
        "        end = time.time()\n",
        "        load_t=end - start\n",
        "\n",
        "\n",
        "        # zero the parameter gradients\n",
        "        optimizer.zero_grad()\n",
        "\n",
        "        # forward + backward + optimize\n",
        "        start = time.time()\n",
        "        outputs = model(inputs)\n",
        "        end = time.time()\n",
        "        forward_t=end - start\n",
        "\n",
        "        loss = criterion(outputs,labels)\n",
        "\n",
        "        start = time.time()\n",
        "        loss.backward()\n",
        "        optimizer.step()\n",
        "        end = time.time()\n",
        "        backward_t=end - start\n",
        "\n",
        "        # print statistics\n",
        "        running_loss += loss.item()\n",
        "        if i % 2000 == 1999:    # print every 2000 mini-batches\n",
        "            print(load_t, forward_t,backward_t)\n",
        "            print(f'[{epoch + 1}, {i + 1:5d}] loss: {running_loss / 2000:.3f}')\n",
        "            running_loss = 0.0\n",
        "\n",
        "print('Finished Training')"
      ],
      "metadata": {
        "colab": {
          "base_uri": "https://localhost:8080/"
        },
        "id": "_HqhfHOE3FJd",
        "outputId": "f2950e23-0808-4439-d07c-bb9f20831271"
      },
      "execution_count": 21,
      "outputs": [
        {
          "output_type": "stream",
          "name": "stderr",
          "text": [
            "/usr/local/lib/python3.7/dist-packages/ipykernel_launcher.py:14: UserWarning: Implicit dimension choice for log_softmax has been deprecated. Change the call to include dim=X as an argument.\n",
            "  \n"
          ]
        },
        {
          "output_type": "stream",
          "name": "stdout",
          "text": [
            "0.00016546249389648438 0.0004703998565673828 0.0007555484771728516\n",
            "[1,  2000] loss: 1.071\n",
            "0.00021266937255859375 0.00043082237243652344 0.0008869171142578125\n",
            "[1,  4000] loss: 1.087\n",
            "0.00026869773864746094 0.00046944618225097656 0.0007383823394775391\n",
            "[1,  6000] loss: 1.108\n",
            "0.0001666545867919922 0.0004279613494873047 0.0008220672607421875\n",
            "[1,  8000] loss: 1.105\n",
            "0.0002219676971435547 0.0004563331604003906 0.0007443428039550781\n",
            "[1, 10000] loss: 1.116\n",
            "0.00021028518676757812 0.0004260540008544922 0.0008678436279296875\n",
            "[1, 12000] loss: 1.105\n",
            "Finished Training\n",
            "CPU times: user 34.8 s, sys: 8.22 s, total: 43 s\n",
            "Wall time: 53.3 s\n"
          ]
        }
      ]
    },
    {
      "cell_type": "code",
      "source": [
        ""
      ],
      "metadata": {
        "id": "iPehOTLF3bch"
      },
      "execution_count": null,
      "outputs": []
    }
  ]
}