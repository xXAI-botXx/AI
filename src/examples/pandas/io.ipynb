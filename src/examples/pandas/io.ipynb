{
  "cells": [
    {
      "cell_type": "markdown",
      "metadata": {
        "id": "drc3DkGzxdv4"
      },
      "source": [
        "# Reading, writing CSV and Excel files<br>"
      ]
    },
    {
      "cell_type": "code",
      "execution_count": 1,
      "metadata": {
        "id": "RZX959Z1xdv8"
      },
      "outputs": [],
      "source": [
        "import pandas as pd"
      ]
    },
    {
      "cell_type": "code",
      "source": [
        "#get data from GitHub -> https://github.com/keuperj/DATA\n",
        "!git clone https://github.com/keuperj/DATA.git"
      ],
      "metadata": {
        "id": "YVatMFPjxlmz",
        "outputId": "43e1270c-f3d5-4b62-fe3b-ce2e2b784ed9",
        "colab": {
          "base_uri": "https://localhost:8080/"
        }
      },
      "execution_count": 2,
      "outputs": [
        {
          "output_type": "stream",
          "name": "stdout",
          "text": [
            "fatal: destination path 'DATA' already exists and is not an empty directory.\n"
          ]
        }
      ]
    },
    {
      "cell_type": "code",
      "execution_count": 3,
      "metadata": {
        "scrolled": true,
        "id": "lAl6I0KZxdv-",
        "outputId": "0697dff0-6490-4b53-bc82-76cec2520bc9",
        "colab": {
          "base_uri": "https://localhost:8080/",
          "height": 398
        }
      },
      "outputs": [
        {
          "output_type": "execute_result",
          "data": {
            "text/plain": [
              "                  Formatted Date        Summary Precip Type  Temperature (C)  \\\n",
              "0  2006-04-01 00:00:00.000 +0200  Partly Cloudy        rain         9.472222   \n",
              "1  2006-04-01 01:00:00.000 +0200  Partly Cloudy        rain         9.355556   \n",
              "2  2006-04-01 02:00:00.000 +0200  Mostly Cloudy        rain         9.377778   \n",
              "\n",
              "   Apparent Temperature (C)  Humidity  Wind Speed (km/h)  \\\n",
              "0                  7.388889      0.89            14.1197   \n",
              "1                  7.227778      0.86            14.2646   \n",
              "2                  9.377778      0.89             3.9284   \n",
              "\n",
              "   Wind Bearing (degrees)  Visibility (km)  Loud Cover  Pressure (millibars)  \\\n",
              "0                   251.0          15.8263         0.0               1015.13   \n",
              "1                   259.0          15.8263         0.0               1015.63   \n",
              "2                   204.0          14.9569         0.0               1015.94   \n",
              "\n",
              "                       Daily Summary  \n",
              "0  Partly cloudy throughout the day.  \n",
              "1  Partly cloudy throughout the day.  \n",
              "2  Partly cloudy throughout the day.  "
            ],
            "text/html": [
              "\n",
              "  <div id=\"df-42029522-dbb8-4209-b70c-1c2341c1c7e8\">\n",
              "    <div class=\"colab-df-container\">\n",
              "      <div>\n",
              "<style scoped>\n",
              "    .dataframe tbody tr th:only-of-type {\n",
              "        vertical-align: middle;\n",
              "    }\n",
              "\n",
              "    .dataframe tbody tr th {\n",
              "        vertical-align: top;\n",
              "    }\n",
              "\n",
              "    .dataframe thead th {\n",
              "        text-align: right;\n",
              "    }\n",
              "</style>\n",
              "<table border=\"1\" class=\"dataframe\">\n",
              "  <thead>\n",
              "    <tr style=\"text-align: right;\">\n",
              "      <th></th>\n",
              "      <th>Formatted Date</th>\n",
              "      <th>Summary</th>\n",
              "      <th>Precip Type</th>\n",
              "      <th>Temperature (C)</th>\n",
              "      <th>Apparent Temperature (C)</th>\n",
              "      <th>Humidity</th>\n",
              "      <th>Wind Speed (km/h)</th>\n",
              "      <th>Wind Bearing (degrees)</th>\n",
              "      <th>Visibility (km)</th>\n",
              "      <th>Loud Cover</th>\n",
              "      <th>Pressure (millibars)</th>\n",
              "      <th>Daily Summary</th>\n",
              "    </tr>\n",
              "  </thead>\n",
              "  <tbody>\n",
              "    <tr>\n",
              "      <th>0</th>\n",
              "      <td>2006-04-01 00:00:00.000 +0200</td>\n",
              "      <td>Partly Cloudy</td>\n",
              "      <td>rain</td>\n",
              "      <td>9.472222</td>\n",
              "      <td>7.388889</td>\n",
              "      <td>0.89</td>\n",
              "      <td>14.1197</td>\n",
              "      <td>251.0</td>\n",
              "      <td>15.8263</td>\n",
              "      <td>0.0</td>\n",
              "      <td>1015.13</td>\n",
              "      <td>Partly cloudy throughout the day.</td>\n",
              "    </tr>\n",
              "    <tr>\n",
              "      <th>1</th>\n",
              "      <td>2006-04-01 01:00:00.000 +0200</td>\n",
              "      <td>Partly Cloudy</td>\n",
              "      <td>rain</td>\n",
              "      <td>9.355556</td>\n",
              "      <td>7.227778</td>\n",
              "      <td>0.86</td>\n",
              "      <td>14.2646</td>\n",
              "      <td>259.0</td>\n",
              "      <td>15.8263</td>\n",
              "      <td>0.0</td>\n",
              "      <td>1015.63</td>\n",
              "      <td>Partly cloudy throughout the day.</td>\n",
              "    </tr>\n",
              "    <tr>\n",
              "      <th>2</th>\n",
              "      <td>2006-04-01 02:00:00.000 +0200</td>\n",
              "      <td>Mostly Cloudy</td>\n",
              "      <td>rain</td>\n",
              "      <td>9.377778</td>\n",
              "      <td>9.377778</td>\n",
              "      <td>0.89</td>\n",
              "      <td>3.9284</td>\n",
              "      <td>204.0</td>\n",
              "      <td>14.9569</td>\n",
              "      <td>0.0</td>\n",
              "      <td>1015.94</td>\n",
              "      <td>Partly cloudy throughout the day.</td>\n",
              "    </tr>\n",
              "  </tbody>\n",
              "</table>\n",
              "</div>\n",
              "      <button class=\"colab-df-convert\" onclick=\"convertToInteractive('df-42029522-dbb8-4209-b70c-1c2341c1c7e8')\"\n",
              "              title=\"Convert this dataframe to an interactive table.\"\n",
              "              style=\"display:none;\">\n",
              "        \n",
              "  <svg xmlns=\"http://www.w3.org/2000/svg\" height=\"24px\"viewBox=\"0 0 24 24\"\n",
              "       width=\"24px\">\n",
              "    <path d=\"M0 0h24v24H0V0z\" fill=\"none\"/>\n",
              "    <path d=\"M18.56 5.44l.94 2.06.94-2.06 2.06-.94-2.06-.94-.94-2.06-.94 2.06-2.06.94zm-11 1L8.5 8.5l.94-2.06 2.06-.94-2.06-.94L8.5 2.5l-.94 2.06-2.06.94zm10 10l.94 2.06.94-2.06 2.06-.94-2.06-.94-.94-2.06-.94 2.06-2.06.94z\"/><path d=\"M17.41 7.96l-1.37-1.37c-.4-.4-.92-.59-1.43-.59-.52 0-1.04.2-1.43.59L10.3 9.45l-7.72 7.72c-.78.78-.78 2.05 0 2.83L4 21.41c.39.39.9.59 1.41.59.51 0 1.02-.2 1.41-.59l7.78-7.78 2.81-2.81c.8-.78.8-2.07 0-2.86zM5.41 20L4 18.59l7.72-7.72 1.47 1.35L5.41 20z\"/>\n",
              "  </svg>\n",
              "      </button>\n",
              "      \n",
              "  <style>\n",
              "    .colab-df-container {\n",
              "      display:flex;\n",
              "      flex-wrap:wrap;\n",
              "      gap: 12px;\n",
              "    }\n",
              "\n",
              "    .colab-df-convert {\n",
              "      background-color: #E8F0FE;\n",
              "      border: none;\n",
              "      border-radius: 50%;\n",
              "      cursor: pointer;\n",
              "      display: none;\n",
              "      fill: #1967D2;\n",
              "      height: 32px;\n",
              "      padding: 0 0 0 0;\n",
              "      width: 32px;\n",
              "    }\n",
              "\n",
              "    .colab-df-convert:hover {\n",
              "      background-color: #E2EBFA;\n",
              "      box-shadow: 0px 1px 2px rgba(60, 64, 67, 0.3), 0px 1px 3px 1px rgba(60, 64, 67, 0.15);\n",
              "      fill: #174EA6;\n",
              "    }\n",
              "\n",
              "    [theme=dark] .colab-df-convert {\n",
              "      background-color: #3B4455;\n",
              "      fill: #D2E3FC;\n",
              "    }\n",
              "\n",
              "    [theme=dark] .colab-df-convert:hover {\n",
              "      background-color: #434B5C;\n",
              "      box-shadow: 0px 1px 3px 1px rgba(0, 0, 0, 0.15);\n",
              "      filter: drop-shadow(0px 1px 2px rgba(0, 0, 0, 0.3));\n",
              "      fill: #FFFFFF;\n",
              "    }\n",
              "  </style>\n",
              "\n",
              "      <script>\n",
              "        const buttonEl =\n",
              "          document.querySelector('#df-42029522-dbb8-4209-b70c-1c2341c1c7e8 button.colab-df-convert');\n",
              "        buttonEl.style.display =\n",
              "          google.colab.kernel.accessAllowed ? 'block' : 'none';\n",
              "\n",
              "        async function convertToInteractive(key) {\n",
              "          const element = document.querySelector('#df-42029522-dbb8-4209-b70c-1c2341c1c7e8');\n",
              "          const dataTable =\n",
              "            await google.colab.kernel.invokeFunction('convertToInteractive',\n",
              "                                                     [key], {});\n",
              "          if (!dataTable) return;\n",
              "\n",
              "          const docLinkHtml = 'Like what you see? Visit the ' +\n",
              "            '<a target=\"_blank\" href=https://colab.research.google.com/notebooks/data_table.ipynb>data table notebook</a>'\n",
              "            + ' to learn more about interactive tables.';\n",
              "          element.innerHTML = '';\n",
              "          dataTable['output_type'] = 'display_data';\n",
              "          await google.colab.output.renderOutput(dataTable, element);\n",
              "          const docLink = document.createElement('div');\n",
              "          docLink.innerHTML = docLinkHtml;\n",
              "          element.appendChild(docLink);\n",
              "        }\n",
              "      </script>\n",
              "    </div>\n",
              "  </div>\n",
              "  "
            ]
          },
          "metadata": {},
          "execution_count": 3
        }
      ],
      "source": [
        "#Reading CSV file\n",
        "d=pd.read_csv('DATA/weather.csv')\n",
        "d.head(3)"
      ]
    },
    {
      "cell_type": "code",
      "source": [
        "!pip install xlrd==1.2.0"
      ],
      "metadata": {
        "id": "WGtlCelKzuYU",
        "outputId": "0f038e07-0bb5-4b83-f646-0967981c6a7d",
        "colab": {
          "base_uri": "https://localhost:8080/"
        }
      },
      "execution_count": 4,
      "outputs": [
        {
          "output_type": "stream",
          "name": "stdout",
          "text": [
            "Requirement already satisfied: xlrd==1.2.0 in /usr/local/lib/python3.7/dist-packages (1.2.0)\n"
          ]
        }
      ]
    },
    {
      "cell_type": "code",
      "execution_count": 5,
      "metadata": {
        "id": "O9Nbib8Pxdv-",
        "outputId": "2e1638b6-ccc9-4a40-dbf1-e802fcdb14ee",
        "colab": {
          "base_uri": "https://localhost:8080/",
          "height": 363
        }
      },
      "outputs": [
        {
          "output_type": "execute_result",
          "data": {
            "text/plain": [
              "   pclass  survived                            name     sex     age  sibsp  \\\n",
              "0       1         1   Allen, Miss. Elisabeth Walton  female      29      0   \n",
              "1       1         1  Allison, Master. Hudson Trevor    male  0.9167      1   \n",
              "2       1         0    Allison, Miss. Helen Loraine  female       2      1   \n",
              "\n",
              "   parch  ticket      fare    cabin embarked  boat  body  \\\n",
              "0      0   24160  211.3375       B5        S     2  None   \n",
              "1      2  113781  151.5500  C22 C26        S    11  None   \n",
              "2      2  113781  151.5500  C22 C26        S  None  None   \n",
              "\n",
              "                         home.dest  \n",
              "0                     St Louis, MO  \n",
              "1  Montreal, PQ / Chesterville, ON  \n",
              "2  Montreal, PQ / Chesterville, ON  "
            ],
            "text/html": [
              "\n",
              "  <div id=\"df-c961be1c-e7f0-4a14-ae17-ba648a7d19f0\">\n",
              "    <div class=\"colab-df-container\">\n",
              "      <div>\n",
              "<style scoped>\n",
              "    .dataframe tbody tr th:only-of-type {\n",
              "        vertical-align: middle;\n",
              "    }\n",
              "\n",
              "    .dataframe tbody tr th {\n",
              "        vertical-align: top;\n",
              "    }\n",
              "\n",
              "    .dataframe thead th {\n",
              "        text-align: right;\n",
              "    }\n",
              "</style>\n",
              "<table border=\"1\" class=\"dataframe\">\n",
              "  <thead>\n",
              "    <tr style=\"text-align: right;\">\n",
              "      <th></th>\n",
              "      <th>pclass</th>\n",
              "      <th>survived</th>\n",
              "      <th>name</th>\n",
              "      <th>sex</th>\n",
              "      <th>age</th>\n",
              "      <th>sibsp</th>\n",
              "      <th>parch</th>\n",
              "      <th>ticket</th>\n",
              "      <th>fare</th>\n",
              "      <th>cabin</th>\n",
              "      <th>embarked</th>\n",
              "      <th>boat</th>\n",
              "      <th>body</th>\n",
              "      <th>home.dest</th>\n",
              "    </tr>\n",
              "  </thead>\n",
              "  <tbody>\n",
              "    <tr>\n",
              "      <th>0</th>\n",
              "      <td>1</td>\n",
              "      <td>1</td>\n",
              "      <td>Allen, Miss. Elisabeth Walton</td>\n",
              "      <td>female</td>\n",
              "      <td>29</td>\n",
              "      <td>0</td>\n",
              "      <td>0</td>\n",
              "      <td>24160</td>\n",
              "      <td>211.3375</td>\n",
              "      <td>B5</td>\n",
              "      <td>S</td>\n",
              "      <td>2</td>\n",
              "      <td>None</td>\n",
              "      <td>St Louis, MO</td>\n",
              "    </tr>\n",
              "    <tr>\n",
              "      <th>1</th>\n",
              "      <td>1</td>\n",
              "      <td>1</td>\n",
              "      <td>Allison, Master. Hudson Trevor</td>\n",
              "      <td>male</td>\n",
              "      <td>0.9167</td>\n",
              "      <td>1</td>\n",
              "      <td>2</td>\n",
              "      <td>113781</td>\n",
              "      <td>151.5500</td>\n",
              "      <td>C22 C26</td>\n",
              "      <td>S</td>\n",
              "      <td>11</td>\n",
              "      <td>None</td>\n",
              "      <td>Montreal, PQ / Chesterville, ON</td>\n",
              "    </tr>\n",
              "    <tr>\n",
              "      <th>2</th>\n",
              "      <td>1</td>\n",
              "      <td>0</td>\n",
              "      <td>Allison, Miss. Helen Loraine</td>\n",
              "      <td>female</td>\n",
              "      <td>2</td>\n",
              "      <td>1</td>\n",
              "      <td>2</td>\n",
              "      <td>113781</td>\n",
              "      <td>151.5500</td>\n",
              "      <td>C22 C26</td>\n",
              "      <td>S</td>\n",
              "      <td>None</td>\n",
              "      <td>None</td>\n",
              "      <td>Montreal, PQ / Chesterville, ON</td>\n",
              "    </tr>\n",
              "  </tbody>\n",
              "</table>\n",
              "</div>\n",
              "      <button class=\"colab-df-convert\" onclick=\"convertToInteractive('df-c961be1c-e7f0-4a14-ae17-ba648a7d19f0')\"\n",
              "              title=\"Convert this dataframe to an interactive table.\"\n",
              "              style=\"display:none;\">\n",
              "        \n",
              "  <svg xmlns=\"http://www.w3.org/2000/svg\" height=\"24px\"viewBox=\"0 0 24 24\"\n",
              "       width=\"24px\">\n",
              "    <path d=\"M0 0h24v24H0V0z\" fill=\"none\"/>\n",
              "    <path d=\"M18.56 5.44l.94 2.06.94-2.06 2.06-.94-2.06-.94-.94-2.06-.94 2.06-2.06.94zm-11 1L8.5 8.5l.94-2.06 2.06-.94-2.06-.94L8.5 2.5l-.94 2.06-2.06.94zm10 10l.94 2.06.94-2.06 2.06-.94-2.06-.94-.94-2.06-.94 2.06-2.06.94z\"/><path d=\"M17.41 7.96l-1.37-1.37c-.4-.4-.92-.59-1.43-.59-.52 0-1.04.2-1.43.59L10.3 9.45l-7.72 7.72c-.78.78-.78 2.05 0 2.83L4 21.41c.39.39.9.59 1.41.59.51 0 1.02-.2 1.41-.59l7.78-7.78 2.81-2.81c.8-.78.8-2.07 0-2.86zM5.41 20L4 18.59l7.72-7.72 1.47 1.35L5.41 20z\"/>\n",
              "  </svg>\n",
              "      </button>\n",
              "      \n",
              "  <style>\n",
              "    .colab-df-container {\n",
              "      display:flex;\n",
              "      flex-wrap:wrap;\n",
              "      gap: 12px;\n",
              "    }\n",
              "\n",
              "    .colab-df-convert {\n",
              "      background-color: #E8F0FE;\n",
              "      border: none;\n",
              "      border-radius: 50%;\n",
              "      cursor: pointer;\n",
              "      display: none;\n",
              "      fill: #1967D2;\n",
              "      height: 32px;\n",
              "      padding: 0 0 0 0;\n",
              "      width: 32px;\n",
              "    }\n",
              "\n",
              "    .colab-df-convert:hover {\n",
              "      background-color: #E2EBFA;\n",
              "      box-shadow: 0px 1px 2px rgba(60, 64, 67, 0.3), 0px 1px 3px 1px rgba(60, 64, 67, 0.15);\n",
              "      fill: #174EA6;\n",
              "    }\n",
              "\n",
              "    [theme=dark] .colab-df-convert {\n",
              "      background-color: #3B4455;\n",
              "      fill: #D2E3FC;\n",
              "    }\n",
              "\n",
              "    [theme=dark] .colab-df-convert:hover {\n",
              "      background-color: #434B5C;\n",
              "      box-shadow: 0px 1px 3px 1px rgba(0, 0, 0, 0.15);\n",
              "      filter: drop-shadow(0px 1px 2px rgba(0, 0, 0, 0.3));\n",
              "      fill: #FFFFFF;\n",
              "    }\n",
              "  </style>\n",
              "\n",
              "      <script>\n",
              "        const buttonEl =\n",
              "          document.querySelector('#df-c961be1c-e7f0-4a14-ae17-ba648a7d19f0 button.colab-df-convert');\n",
              "        buttonEl.style.display =\n",
              "          google.colab.kernel.accessAllowed ? 'block' : 'none';\n",
              "\n",
              "        async function convertToInteractive(key) {\n",
              "          const element = document.querySelector('#df-c961be1c-e7f0-4a14-ae17-ba648a7d19f0');\n",
              "          const dataTable =\n",
              "            await google.colab.kernel.invokeFunction('convertToInteractive',\n",
              "                                                     [key], {});\n",
              "          if (!dataTable) return;\n",
              "\n",
              "          const docLinkHtml = 'Like what you see? Visit the ' +\n",
              "            '<a target=\"_blank\" href=https://colab.research.google.com/notebooks/data_table.ipynb>data table notebook</a>'\n",
              "            + ' to learn more about interactive tables.';\n",
              "          element.innerHTML = '';\n",
              "          dataTable['output_type'] = 'display_data';\n",
              "          await google.colab.output.renderOutput(dataTable, element);\n",
              "          const docLink = document.createElement('div');\n",
              "          docLink.innerHTML = docLinkHtml;\n",
              "          element.appendChild(docLink);\n",
              "        }\n",
              "      </script>\n",
              "    </div>\n",
              "  </div>\n",
              "  "
            ]
          },
          "metadata": {},
          "execution_count": 5
        }
      ],
      "source": [
        "#Reading excel file\n",
        "df=pd.read_excel('DATA/titanic.xls')\n",
        "df.head(3)"
      ]
    },
    {
      "cell_type": "markdown",
      "metadata": {
        "id": "MB3Esl-Sxdv_"
      },
      "source": [
        "### If you want to read only few rows rather than all"
      ]
    },
    {
      "cell_type": "code",
      "execution_count": null,
      "metadata": {
        "id": "8Oll6r9lxdv_"
      },
      "outputs": [],
      "source": [
        "df=pd.read_csv('DATA/weather.csv',nrows=7)\n",
        "df"
      ]
    },
    {
      "cell_type": "markdown",
      "metadata": {
        "id": "omVoTxi0xdwA"
      },
      "source": [
        "### Changing specific values with NaN while reading\n",
        " * While reading the dataset you can change the specific value with NaN\n",
        "   > df = pd.read_excel ( \" titanic.xls \" , na_values = [ list of element which you want to change to NaN ] ) "
      ]
    },
    {
      "cell_type": "code",
      "execution_count": null,
      "metadata": {
        "id": "7barkGD1xdwB"
      },
      "outputs": [],
      "source": [
        "df = pd.read_excel(\"DATA/titanic.xls\",na_values=[None]) \n",
        "df.head()"
      ]
    },
    {
      "cell_type": "markdown",
      "metadata": {
        "id": "BMzdUbSFxdwB"
      },
      "source": [
        "### Changing specific values with NaN columns wise while reading"
      ]
    },
    {
      "cell_type": "code",
      "execution_count": null,
      "metadata": {
        "id": "UMXc8SUDxdwC"
      },
      "outputs": [],
      "source": [
        "df=pd.read_excel('DATA/titanic.xls')\n",
        "df.head()"
      ]
    },
    {
      "cell_type": "code",
      "execution_count": null,
      "metadata": {
        "id": "EaPQwniuxdwD"
      },
      "outputs": [],
      "source": [
        "df=pd.read_excel('DATA/titanic.xls',na_values={'body':['None'],'boat':['None'],'age':[29,2]})\n",
        "df.head()"
      ]
    },
    {
      "cell_type": "markdown",
      "metadata": {
        "id": "9kOhDNAnxdwD"
      },
      "source": [
        " * <b>na_values </b>argument is used to replace all the values passes in the list with NaN.You can also replace some invalid values column wise as you can in the above code. If you run the above code you will a dataframe where 'None' in body column is replaced by NaN,again None in the boat column is replaced by NaN and 29 & 2 in age column are replaced by NaN."
      ]
    },
    {
      "cell_type": "code",
      "execution_count": null,
      "metadata": {
        "id": "1T-h6g3OxdwD"
      },
      "outputs": [],
      "source": [
        "df.info()"
      ]
    },
    {
      "cell_type": "markdown",
      "metadata": {
        "id": "QHLqpLVDxdwE"
      },
      "source": [
        "### Writing into CSV or excel \n",
        " * You can convert any dataframe in a new CSV or excel file file"
      ]
    },
    {
      "cell_type": "code",
      "execution_count": null,
      "metadata": {
        "id": "IRPG4AowxdwE"
      },
      "outputs": [],
      "source": [
        "#Creatiing my own disctionary\n",
        "mydict={\n",
        "         'dates':['02-01-12','03-01-12','04-01-12','05-01-12','06-01-12'],\n",
        "         'day':['sunny','rainy','hot','sunny','hot'],\n",
        "         'wind-speed':[12,34,45,56,67],\n",
        "         'temp':[45,46,47,48,49]\n",
        "       }\n",
        "#Converting disction to dataframe object\n",
        "df=pd.DataFrame(mydict)\n",
        "\n",
        "#Printing the dataframe\n",
        "df"
      ]
    },
    {
      "cell_type": "markdown",
      "metadata": {
        "id": "ymMHO0eYxdwF"
      },
      "source": [
        "### Creating a new file\n"
      ]
    },
    {
      "cell_type": "markdown",
      "metadata": {
        "id": "8c5M14CTxdwF"
      },
      "source": [
        "#### Creating a new csv file mycsv.csv"
      ]
    },
    {
      "cell_type": "markdown",
      "metadata": {
        "id": "hFjx2qrLxdwF"
      },
      "source": [
        "Suppose you have read a csv or excel file as dataframe object and you did some modification.Now you want to write a new csv or excel file that contains the modified dataframe. In that case you will need to_csv() or to_excel() function to create a new file.See the example below -"
      ]
    },
    {
      "cell_type": "code",
      "execution_count": null,
      "metadata": {
        "id": "nK-ZLy-jxdwG"
      },
      "outputs": [],
      "source": [
        "df.to_csv('mycsv.csv',index=False)\n"
      ]
    },
    {
      "cell_type": "markdown",
      "metadata": {
        "id": "ba5GU7hKxdwG"
      },
      "source": [
        "**Note:** you can view the output CSV file in ***Jupyter Lab***."
      ]
    },
    {
      "cell_type": "markdown",
      "metadata": {
        "id": "96IWYM8nxdwG"
      },
      "source": [
        "#### Creating a new excel file myexcel.xls"
      ]
    },
    {
      "cell_type": "code",
      "execution_count": null,
      "metadata": {
        "id": "nuipbWPHxdwG"
      },
      "outputs": [],
      "source": [
        "df.to_excel('myexcel.xls',index=False)"
      ]
    },
    {
      "cell_type": "markdown",
      "metadata": {
        "id": "2SlAY5m4xdwH"
      },
      "source": [
        "### Writing into csv or excel only selected rows\n",
        "<br>\n",
        "Suppose you modified the dataframe and you want to write it in another csv file with only selected columns.In the following example we have created the new csv file mycsv_few_columns.csv by \"df\" dataframe allowing only three columns which we want i.e, day, temp, wind-speed and i have ignored the date column."
      ]
    },
    {
      "cell_type": "markdown",
      "metadata": {
        "id": "-6Dh54hFxdwH"
      },
      "source": [
        "#### how many columns in dataframe df ?"
      ]
    },
    {
      "cell_type": "code",
      "execution_count": null,
      "metadata": {
        "id": "Bk8md-0rxdwH"
      },
      "outputs": [],
      "source": [
        "df.columns"
      ]
    },
    {
      "cell_type": "code",
      "execution_count": null,
      "metadata": {
        "id": "zfYoYmMPxdwH"
      },
      "outputs": [],
      "source": [
        "#Writing only three columns day,temp,wind-speed\n",
        "df.to_csv('mycsv_few_columns.csv',columns=['day','temp','wind-speed'],index=False)\n",
        "\n",
        "#Again reading to see the result\n",
        "d=pd.read_csv('mycsv_few_columns.csv')\n",
        "d"
      ]
    },
    {
      "cell_type": "markdown",
      "metadata": {
        "id": "XtLOuvOHxdwI"
      },
      "source": [
        "### Converters :"
      ]
    },
    {
      "cell_type": "markdown",
      "metadata": {
        "id": "4X_l5qfJxdwI"
      },
      "source": [
        "In various cases you dont have clean dataset. Invalid values in the dataset leads to a lot of problem while predicting or extracting the meaningful information.To avoid this problem we use converters.\n",
        "* Converters are basically functions which convert the specific value of a column in your desire value\n",
        "* Converter function passed into the disctionary like in the na_values.\n"
      ]
    },
    {
      "cell_type": "markdown",
      "metadata": {
        "id": "HFenQ7R_xdwI"
      },
      "source": [
        "This is our dataset in which you can see that there are lots of invalid values are present.These values are noise in our dataset."
      ]
    },
    {
      "cell_type": "code",
      "execution_count": null,
      "metadata": {
        "id": "kKB-QiVQxdwI"
      },
      "outputs": [],
      "source": [
        "df=pd.read_csv('DATA/season.csv')\n",
        "df"
      ]
    },
    {
      "cell_type": "markdown",
      "metadata": {
        "id": "hkTg-12fxdwI"
      },
      "source": [
        "#### The following function will convert any cell of column having 'NaN' into 40, so here we will apply this function into 'temp' column and so for the 'day' and 'wind-speed' columns."
      ]
    },
    {
      "cell_type": "code",
      "execution_count": null,
      "metadata": {
        "id": "7vvz3XlzxdwJ"
      },
      "outputs": [],
      "source": [
        "def converter_for_temp(col):\n",
        "    if col=='NaN':\n",
        "        return 40\n",
        "    else:\n",
        "        return col\n",
        "def converter_for_day(col):\n",
        "    if col=='NaN':\n",
        "        return 'sunny'\n",
        "    else:\n",
        "        return col\n",
        "def converter_for_wind_speed(col):\n",
        "    if col=='Not available':\n",
        "        return 30\n",
        "    elif col==\"NaN\":\n",
        "        return 48\n",
        "    else:\n",
        "        return col"
      ]
    },
    {
      "cell_type": "code",
      "execution_count": null,
      "metadata": {
        "id": "TnZ0ww6TxdwJ"
      },
      "outputs": [],
      "source": [
        "df=pd.read_csv('DATA/season.csv',converters={\n",
        "    'day':converter_for_day,\n",
        "    'temp':converter_for_temp,\n",
        "    'wind-speed':converter_for_wind_speed\n",
        "   })\n",
        "df"
      ]
    },
    {
      "cell_type": "markdown",
      "metadata": {
        "id": "1nXZOs22xdwJ"
      },
      "source": [
        "You can observe that previously the columns 'day', 'temp' and 'wind-speed' had some invalid data like 'NaN','NAN','Not available' but after applying the converter functions we got a cleaned dataset.Now we can apply some data analysis techniquw to predict something in our dataset."
      ]
    },
    {
      "cell_type": "markdown",
      "metadata": {
        "id": "z8Fx_foQxdwJ"
      },
      "source": [
        "### Writing different dataframes into one file but different sheet names"
      ]
    },
    {
      "cell_type": "markdown",
      "metadata": {
        "id": "pzKIrrTtxdwJ"
      },
      "source": [
        "Let's assume that you have two different dataframes and you want to write it in the same excel sheet but different sheet names. \n",
        "<br>\n",
        "\n",
        "Let's take two disctionary one is \"weather1\" and another is \"house1\" and make it two dataframe \"weather\" & \"house\""
      ]
    },
    {
      "cell_type": "code",
      "execution_count": null,
      "metadata": {
        "id": "fu3eUXvLxdwL"
      },
      "outputs": [],
      "source": [
        "#Creating weather disctionary\n",
        "weather1={\n",
        "         'dates':['02-01-12','03-01-12','04-01-12','05-01-12','06-01-12'],\n",
        "         'day':['sunny','rainy','hot','sunny','hot'],\n",
        "         'wind-speed':[12,34,45,56,67],\n",
        "         'temp':[45,46,47,48,49]\n",
        "       }\n",
        "#Converting disction to dataframe object\n",
        "weather=pd.DataFrame(weather1)\n",
        "\n",
        "#Creating house disctionary\n",
        "house1={\n",
        "         'dates':['02-01-12','03-01-12','04-01-12','05-01-12','06-01-12'],\n",
        "         'price':[20000,30000,40000,50000,60000],\n",
        "         'bhk':[1,3,2,1,2],\n",
        "         'how-old':[2,5,2,7,4]\n",
        "       }\n",
        "\n",
        "#converting house disctionary to dataframe object\n",
        "\n",
        "house=pd.DataFrame(house1)\n"
      ]
    },
    {
      "cell_type": "markdown",
      "metadata": {
        "id": "HxtRdi_WxdwL"
      },
      "source": [
        " Call the \"ExcelWriter\" and make a object \"writer\".Now call to_excel() function and pass three argument -\n",
        "  * <b>1. \"writer\" object :</b>\n",
        "  * <b>2. sheet_name : </b>\n",
        "  * <b>3. Index :</b> This is optional for you\n",
        "  "
      ]
    },
    {
      "cell_type": "code",
      "execution_count": null,
      "metadata": {
        "id": "k-1DBRWlxdwM"
      },
      "outputs": [],
      "source": [
        "with pd.ExcelWriter('weather_and_house.xls') as writer:\n",
        "   weather.to_excel(writer,sheet_name='Weather',index=False)\n",
        "   house.to_excel(writer,sheet_name='House',index=False)\n"
      ]
    },
    {
      "cell_type": "markdown",
      "metadata": {
        "id": "5N4KO1OkxdwM"
      },
      "source": [
        "#### Now access the sheets separately by passing its name while reading\n",
        "See the example"
      ]
    },
    {
      "cell_type": "code",
      "execution_count": null,
      "metadata": {
        "id": "6vAUUuG9xdwM"
      },
      "outputs": [],
      "source": [
        "d1=pd.read_excel('weather_and_house.xls','Weather')\n",
        "d1"
      ]
    },
    {
      "cell_type": "code",
      "execution_count": null,
      "metadata": {
        "id": "_AoSsMHqxdwM"
      },
      "outputs": [],
      "source": [
        "d2=pd.read_excel('weather_and_house.xls','House')\n",
        "d2"
      ]
    },
    {
      "cell_type": "markdown",
      "metadata": {
        "id": "rizVP4AexdwM"
      },
      "source": [
        ""
      ]
    }
  ],
  "metadata": {
    "kernelspec": {
      "display_name": "Python 3",
      "language": "python",
      "name": "python3"
    },
    "language_info": {
      "codemirror_mode": {
        "name": "ipython",
        "version": 3
      },
      "file_extension": ".py",
      "mimetype": "text/x-python",
      "name": "python",
      "nbconvert_exporter": "python",
      "pygments_lexer": "ipython3",
      "version": "3.7.6"
    },
    "colab": {
      "name": "Lab_02_pandas_IO.ipynb",
      "provenance": []
    }
  },
  "nbformat": 4,
  "nbformat_minor": 0
}