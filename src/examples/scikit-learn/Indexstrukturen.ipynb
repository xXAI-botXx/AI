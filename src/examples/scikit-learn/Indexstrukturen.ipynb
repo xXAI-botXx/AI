{
 "cells": [
  {
   "cell_type": "markdown",
   "id": "b68871a1-e596-4919-b8e2-2d4ca63b17ad",
   "metadata": {},
   "source": [
    "\n",
    "# Indexstrukturen (Teil 2)\n",
    "\n",
    "#### Hinweise:\n",
    "-   Übungsblatt ist in __zwei Teile aufgeteilt__ - hierbei handelt es sich um Teil 2.\n",
    "-   __Bearbeitung in 2er Gruppen wie bei Teil 1__.\n",
    "-   Die Punkte für beide Teile werden nach Abgabe des 2. Teils vergeben.\n",
    "-   Bitte kombinieren Sie die beiden Teile für die Abgabe in ein Notebook.\n",
    "\n",
    "#### **Ihr Name: Tobia Ippolito**\n",
    "#### **Teammitglieder: Daniela Werlinger, Rumeysa Gürbüz**"
   ]
  },
  {
   "cell_type": "markdown",
   "id": "7189487f",
   "metadata": {},
   "source": [
    "### Aufgabe 1: Design des Experiments\n",
    "\n",
    "Bevor Sie das eigentliche Experiment umsetzen, durchführen und dessen Ergebnisse auswerten können, müssen Sie sich Gedanken über das Ziel und den Aufbau des Experiments machen.\n",
    "Beantworten Sie dazu bitte der Reihe nach folgende Fragen und halten Sie Ihre Überlegungen schriftlich fest!\n",
    "Nutzen Sie dazu die Möglichkeiten, die Ihnen die Markup-Sprache in Jupyter Notebooks bietet und gestalten Sie Ihre Überlegungen und Entscheidungen übersichtlich und für einen dritten nachvollziehbar.\n",
    "\n",
    "-   __Ziel des Experiments:__  \n",
    "    Welche Hypothese soll am Ende verifiziert oder falsifiziert sein? Schreiben Sie diese so explizit wie möglich auf!\n",
    "-   __Erwartetes Ergebnis:__  \n",
    "    Wie sieht ein Ergebnis aus, bei dem Sie die Hypothese als verifiziert betrachten würden? Wie sieht es aus, wenn Sie sie als falsifiziert betrachten?\n",
    "-   __Variablen des Experiments und Rahmenbedingungen:__  \n",
    "    -   Was muss in Ihrem Experiment variiert werden? Was bleibt über den gesamten Test unverändert? (z.B. Datensatz, Anzahl Punkte, Dimensionalität, Anzahl Anfragen, ...)\n",
    "    -   Wie sollten die Daten aussehen, die Sie für Ihren Test verwenden? Welche Eigenschaften müssen Sie erfüllen?\n",
    "    -   Gibt es irgendwelche Bedingungen, die erfüllt sein müssen, damit die Ergebnisse aussagekräftig werden, d.h. keine Sonderfälle vorliegen und die Ergebnisse statistisch signifikant sind (z.B. könnte es sein, dass die Dimensionalität mindestens X oder maximal Y sein muss, dass mindestens N Punkte vorhanden sein müssen, etc.)\n",
    "-   __Aufbau:__  \n",
    "    -   Aus welchen Teilschritten besteht Ihr Experiment?\n",
    "    -   Von was genau müssen Sie die Zeit stoppen? (Und welche Teilschritte sollten auf keinen Fall mit gemessen werden?)\n",
    "-   __Ergebnisaufbereitung:__  \n",
    "    Wie stellen Sie das Ergebnis Ihres Experiments am Ende dar? (Ein oder mehrere Diagramme, welche Art Diagramm, ...)\n",
    "\n",
    "Hinweis: Es wird nicht erwartet, dass Sie alle möglichen Einflussfaktoren in Ihrem Experiment untersuchen.\n",
    "Nutzen Sie Ihr Vorwissen und den [sklearn User Guide](https://scikit-learn.org/stable/modules/neighbors.html\n",
    ") und legen Sie die Rahmenbedingungen für Ihr Experiment so aus (mit entsprechender Begründung!), dass Sie sich auf die wesentlichen Aspekte des Experiments konzentrieren."
   ]
  },
  {
   "cell_type": "markdown",
   "id": "470591ea",
   "metadata": {},
   "source": [
    "## **Experiment zu Cluster-Nachbaranfragen**\n",
    "### Table of Contents:\n",
    "- [Leitfrage](#0.0)\n",
    "- [These](#1.0)\n",
    "- [Mögliche Ergebnisse](#2.0)\n",
    "- [Rahmenbedingungen](#3.0)\n",
    "- [Aufbau](#4.0)<br>\n",
    "<br>\n",
    "---\n",
    "### <a name=\"0.0\">Leitfrage</a>\n",
    "Welcher Einfluss hat die Anzahl an NN-Anfragen, inbezug der Algorithmen Brute-Force, Ball-Tree und KD-Tree, auf die Performance? Und welche Rolle spielt die Datenstruktur und Datenanzahl dabei?<br>\n",
    "<br>\n",
    "\n",
    "---\n",
    "### <a name=\"1.0\">These</a>\n",
    "Der Ball-Tree und der KD-Tree besitzen bei der Indexierung eine kürzere Laufzeit als der Brute-Force-Algorithmus, bei einer Anzahl an NN-Anfragen von 1 bis 16. Die Differenz der Laufzeit von dem Ball-Tree und dem KD-Tree zu dem Brute-Force-Algorithmus, wächst mit der Anzahl an Query-Anfragen. Dabei spielt die Datenstruktur keine Rolle, jediglich die Anzahl der Datenpunkte muss über 30 liegen.<br>\n",
    "<br>\n",
    "\n",
    "---\n",
    "### <a name=\"2.0\">Mögliche Ergebnisse</a>\n",
    "Wenn bei der Laufzeitmessung der Algorithmen Ball-Tree ODER KD-Tree ein längeres Ergebnisse als bei der Laufzeitmessung des Brute-Force Algorithmus, sei die These falsifiziert. Unter der Voraussetzung das der gleiche Datensatz und die gleiche Anzahl an NN-Anfragen getätigt werden und das der Datensatz mehr als 30 Datenpunkte besitzt. Andernfalls ist die These verifiziert.<br>\n",
    "<br>\n",
    "\n",
    "---\n",
    "### <a name=\"3.0\">Rahmenbedingungen</a>\n",
    "- Anzahl an Datenpunkten: über 30<br>\n",
    "<br>\n",
    "- Anzahl an Anfragen: 1 bis 1000<br>\n",
    "<br>\n",
    "- Anzahl an Nachbarn (k): N/4\n",
    "<br>\n",
    "- Datensätze:\n",
    "    - spiral.csv (komplexe Datenstruktur)\n",
    "    - Arbitrary Shaped Clusters.txt (komplexe Datenstruktur)\n",
    "    - Cluster1.txt (normal Verteilt/Dichte)\n",
    "    - Cluster9.txt ('normal' mit Brücke)\n",
    "    - Clusters of diffrent density.txt (unterschiedliche Dichte)\n",
    "    - Hierarchical Clusters.txt <br>\n",
    "<br>\n",
    "- Dimensionen:\n",
    "    - 2\n",
    "    - 3<br>\n",
    "<br>\n",
    "- Algorihtmen: (unverändert)\n",
    "    - Brute-Force\n",
    "    - KD-Tree (query(all, k=1 bis N-1, return_distance=True, dualtree=False, breadth_first=False))\n",
    "    - Ball-Tree (query(all, k=1 bis N-1, return_distance=True, dualtree=False, breadth_first=False))<br>\n",
    "<br>\n",
    "- Laufzeit-Berechnung:\n",
    "    - Laufzeit für einen Algorithmus und einen Datensatz bei einem bestimmten k, wird als Durchschnitt aus den Laufzeiten für jeden Punkt von der Indexierung der k-nächsten Punkten<br>\n",
    "<br>\n",
    "- Distanzfunktion:\n",
    "    - euklidische Distanz<br>\n",
    "<br>    \n",
    "Begründung:<br>\n",
    "In diesem Experiment sollte die Datenstruktur und die Verteilung/Dichte der Datenpunkte dringend beachtet werden, da die These beinhaltet, dass diese Faktoren keine Rolle für die Performance des KD-Trees und des Ball-Trees inbezug zu den Query-Anfragen spielen.<br>\n",
    "Die Anzahl der Datenpunkte sollten massivs wichtig sein, da das konstruieren von Indexstrukturen Zeit benötigt und ein wichtiger Unterschied zu den Algorithmen darstellt.<br>\n",
    "Zudem sollte auch die Dimensionalität der Daten von Bedeutung sein, da die Algorithmen unterschiedlich auf die Variierung dieses Faktors reagieren.<br> \n",
    "Die Anzahl an Query-Anfragen ist zweifelslos sehr wichtig, da genau der Einfluss dieses Faktors in diesem Experiment untersucht wird.<br>\n",
    "Für die Laufzeit berechnen wir den Durchschnitt aus mehreren Durchläufen, da die Laufzeiten von der Rechenkapazität eines Rechners in einem Moment abhängen. Es könnte also vorkommen, dass die CPU in einem Moment viel zu tun hat und deswegen die Laufzeit eines Versuchs verlangsamt und genauso andersherum. Und aus diesem Grund lassen wir die Versuche mehrmals durchlaufen und nehmen hiervon den durchschnittlichen Wert.<br>\n",
    "Es wurde sich auf eine Distanzfunktion geeinigt, damit dieser Rechenfaktor bei allen Algorithmen gleich ist. Dabei ist die Wahl auf die euklidische Distanz gefallen, was eine häufig verwendete und erprobte Distanzfunktion darstellt.\n",
    "---\n",
    "### <a name=\"4.0\">Aufbau</a>\n",
    "**1. Laden der Datensätze**\n",
    "- Laden von csv/txt mit Pandas\n",
    "- Normalisieren (sklearn.preprocessing -> MinMaxScaler)\n",
    "- Alle DataFrames in eine Liste speichern\n",
    "\n",
    "**2. Messung durchführen:**<br>\n",
    "&nbsp;&nbsp;&nbsp;&nbsp; Zu speichernde Ergebnisse: Dauer, Datensatz, Algorithmus, Query-Anfragen, Anzahl an Datenpunkten<br>\n",
    "- Alle Datensätze durchgehen\n",
    "    - 1-(N-1) durchgehen\n",
    "        - 100 mal:\n",
    "            - Zeitstart KD-Tree\n",
    "            - Indexstruktur aufbauen\n",
    "            - Nachbaranfrage bestimmen\n",
    "            - Zeitmessung speichern  <br>\n",
    "            <br>\n",
    "            - Zeitstart Ball-Tree\n",
    "            - Indexstruktur aufbauen\n",
    "            - Nachbaranfrage bestimmen\n",
    "            - Zeitmessung speichern <br>\n",
    "            <br>\n",
    "            - Zeitstart Brute-Force\n",
    "            - Alle Distanzen berechnen -> k-nächste Nachbarn bestimmen\n",
    "            - Zeitmessung speichern\n",
    "        - Speichere Durchschnitt der Zeitmessungen\n",
    "\n",
    "**3. Ergebnisse Visualisieren**<br>\n",
    "- (Zeit x Query-Anfragen (für jeden Datensatz) -> Balkendiagramm)\n",
    "- Zeit x Algorithmen -> Violin/Box-Plot\n",
    "- Zeit x Query-Anfragen + Farbe=Algorithmus -> Scatter-Plot\n",
    "\n",
    "**4. Evaluierung -> These verwerfen oder beibehalten**\n",
    "\n",
    "---"
   ]
  },
  {
   "cell_type": "markdown",
   "id": "199d8bd2",
   "metadata": {},
   "source": [
    "### Aufgabe 2: Planung des Experimentaufbaus\n",
    "\n",
    "Nachdem Sie in Aufgabe 1 das Ziel, die Rahmenbedingungen sowie den Ablauf des Experiments definiert haben, planen Sie nun ein Programm zur Durchführung des Experiments.\n",
    "Schreiben Sie (sich selbst) zu diesem Zweck eine Art Schritt-für-Schritt-Anleitung, aus der klar wird, welche Schritte nacheinander durchgeführt werden müssen, um oben beschriebenes Experiment umzusetzen / zu implementieren.\n",
    "Diese Anleitung sollte - neben dem generellen Programmaufbau - alle relevanten Aspekte der Implementierung abdecken wie z.B.:\n",
    "-   Welche \"zentralen\" Variablen werden für das Experiment benötigt (ggf. mit Dimensionalität)?\n",
    "-   Welche (eigenen) Funktionen / Methoden werden ggf. benötigt (mit Signatur) und was wird in ihnen gekapselt?\n",
    "-   Wie wird die Zeitmessung durchgeführt?\n",
    "-   Welche Parameter müssen verwendet werden?\n",
    "-   Welche externen Bibliotheken werden eingesetzt?\n",
    "\n",
    "Hinweis: Verlieren Sie sich hier nicht in Details und konzentrieren Sie sich auf relevante Aspekte in Hinsicht auf oben beschriebenes Experiment."
   ]
  },
  {
   "cell_type": "markdown",
   "id": "b57c6b84",
   "metadata": {},
   "source": [
    "### <a name='5.0'>Implementierung</a>\n",
    "- **Anleitung:**<br>\n",
    "    1. Daten Laden implementieren\n",
    "        - Datensätze: \n",
    "            - 4cluster.csv\n",
    "            - spiral.csv\n",
    "            - Arbitrary Shaped Clusters.txt\n",
    "            - Cluster1.txt\n",
    "            - Cluster9.txt\n",
    "            - Clusters of diffrent density.txt\n",
    "            - Hierarchical Clusters.txt \n",
    "            - self generated 3D dataset\n",
    "        - pd.csv_read(...)\n",
    "        - dataframe in dict speichern -> key = name des datensatzes\n",
    "        - dict zurückgeben\n",
    "    2. Daten normalisieren\n",
    "        - Verwendung von Min-Max-Scaler (sklearn.preprocessing.MinMaxScaler() -> fit_tranform(...))\n",
    "    3. Performancemessung nach Pseudocode implementieren (siehe nächsten Punkt)\n",
    "    4. Visualisieren\n",
    "        - Zeit x Algorithmen -> Violin/Box-Plot\n",
    "        - Zeit x Query-Anfragen + Farbe=Algorithmus -> Scatter-Plot\n",
    "        - (Zeit x Query-Anfragen (für jeden Datensatz) -> Balkendiagramm)\n",
    "    5. Ergebnisse/Visualisierungen interpretieren\n",
    "    6. Ergebnis/se dokumentieren bzw. weitere Forschungen anstellen<br>\n",
    "<br>\n",
    "<br>\n",
    "\n",
    "- **Pseudo-Python-Code der Messung:**<br>\n",
    "&nbsp;&nbsp;&nbsp;&nbsp; Resultate speichern in Format: [ (1_Zeile), (2_Zeile),... ]<br>\n",
    "&nbsp;&nbsp;&nbsp;&nbsp; Zu speichernde Ergebnisse: Dauer, Datensatz, Algorithmus, Query-Anfragen, Anzahl an Datenpunkten\n",
    "```python\n",
    "datasets = load_datasets()    # dict\n",
    "datasets = normalize(datasets)\n",
    "result = []\n",
    "\n",
    "for datasets:\n",
    "    for 1 - N*2:    # Schrittweite ^2 Schritte\n",
    "        kd_tree_results = []\n",
    "        ball_tree_results = []\n",
    "        brute_force_results = []\n",
    "        \n",
    "        # 100 Durchgänge für den Durchschnitt\n",
    "        for 0 - 99:\n",
    "            start = time.time()\n",
    "            kd_tree(dataset)\n",
    "            for n_q:\n",
    "                kd_tree(k)\n",
    "            duration = time.time()-start\n",
    "            kd_tree_results += [duration]  \n",
    "            \n",
    "            start = time.time()\n",
    "            ball_tree(dataset)\n",
    "            for n_q:\n",
    "                ball_tree(k)\n",
    "            duration = time.time()-start\n",
    "            ball_tree_results += [duration] \n",
    "            \n",
    "            start = time.time()\n",
    "            for n_q:\n",
    "                brute_force_tree(dataset)\n",
    "                brute_force_tree(k)\n",
    "            duration = time.time()-start\n",
    "            brute_force_tree_results += [duration]\n",
    "\n",
    "        result += [(sum(kd_tree_results)/100, dataset_name, 'KD-Tree', n_q, n)]\n",
    "        result += [(sum(ball_tree_results)/100, dataset_name, 'Ball-Tree', n_q, n)] \n",
    "        result += [(sum(brute_force_tree_results)/100, dataset_name, 'Brute-Force', n_q, n)]\n",
    "```\n",
    "<br>\n",
    "\n",
    "- **Liberies:**<br>\n",
    "    - pandas (DataFrames, csv_read)\n",
    "    - time (time)\n",
    "    - sklearn (MinMaxScaler, NearestNeighbors)\n",
    "    - matplotlib.pyplot\n",
    "    <br>\n",
    "<br>\n",
    "\n",
    "- **Zeitmessung:**<br>\n",
    "    - time.time() -> Laufzeit = Ende-Start\n",
    "    - Start = vor der Indexstruktur-Konstuktion\n",
    "    - Ende = nachdem Nachbar zurückgegeben wird<br>\n",
    "<br>\n",
    "\n",
    "- **Algorithmen:**<br>\n",
    "    - KD-Tree -> sklearn.neighbors.NearestNeighbors(algorithm='kd_tree') -> .kneighbors()\n",
    "    - Ball-Tree -> sklearn.neighbors.NearestNeighbors(algorithm='ball_tree') -> .kneighbors()\n",
    "    - Brute-Force -> sklearn.neighbors.NearestNeighbors(algorithm='brute') -> .kneighbors()<br>\n",
    "<br>\n",
    "\n",
    "- **Funktionen:**<br>\n",
    "    - load_data() -> {'name_1':dataset_1(DataFrame), 'name_2':dataset_2(DataFrame), ...}\n",
    "    - normalize(datasets:dict(DataFrame)) -> normalized_dataset:dict(DataFrame)\n",
    "    - measure_time(dict(DataFrame)) -> [(Dauer, Datensatz, Algorithmus, Query-Anfragen, Anzahl an Datenpunkten), ...]\n",
    "    - visualize_as_Violin/Box-Plot(result_list) -> matplolib figure show\n",
    "    - visualize_as_scatter(result_list) -> matplolib figure show"
   ]
  },
  {
   "cell_type": "markdown",
   "id": "5ab2da62",
   "metadata": {},
   "source": [
    "### Aufgabe 3: Implementierung des Experiments\n",
    "\n",
    "Implementieren Sie das, in Aufgabe 2 geplante Programm zur Durchführung des Experiments.\n",
    "\n",
    "Hinweis: Es steht Ihnen frei das Programm individuell oder in der Gruppe (z.B. via Pair-Programming) zu programmieren. Nutzen Sie die Gelegenheit und tauschen Sie sich über Ihre Ansätze und Herangehensweise bei der Programmierung aus. __Zur Abgabe wird lediglich eine Implementierung erwartet.__"
   ]
  },
  {
   "cell_type": "code",
   "execution_count": 48,
   "id": "891a4871",
   "metadata": {},
   "outputs": [],
   "source": [
    "import os\n",
    "from copy import deepcopy\n",
    "from time import time\n",
    "\n",
    "import numpy as np\n",
    "import pandas as pd\n",
    "import matplotlib.pyplot as plt\n",
    "import seaborn as sns\n",
    "\n",
    "from sklearn.neighbors import NearestNeighbors\n",
    "from sklearn.preprocessing import MinMaxScaler"
   ]
  },
  {
   "cell_type": "code",
   "execution_count": 49,
   "id": "742e04d8",
   "metadata": {},
   "outputs": [],
   "source": [
    "def load_data() -> dict:\n",
    "    datasets = dict()\n",
    "    files = os.listdir(\"./data\")\n",
    "    for file in files:\n",
    "        if file.endswith(\".txt\"):\n",
    "            datasets[\".\".join(file.split(\".\")[:-1])] = pd.read_csv(f\"./data/{file}\", header=None, sep=\",\")\n",
    "        elif file.endswith(\".csv\"):\n",
    "            sep = \",\"\n",
    "            if file == \"spiral.csv\": \n",
    "                sep = \";\"\n",
    "            datasets[\".\".join(file.split(\".\")[:-1])] = pd.read_csv(f\"./data/{file}\", sep=sep)\n",
    "\n",
    "    # delete Target Column\n",
    "    datasets[\"spiral\"].drop(columns=['cluster'], inplace=True)\n",
    "\n",
    "    return datasets"
   ]
  },
  {
   "cell_type": "code",
   "execution_count": 50,
   "id": "df3f9a95",
   "metadata": {},
   "outputs": [],
   "source": [
    "def normalize(datasets:dict) -> dict:\n",
    "    new_datasets = deepcopy(datasets)\n",
    "    scaler = MinMaxScaler()\n",
    "    \n",
    "    for key, value in datasets.items():\n",
    "        new_datasets[key] = pd.DataFrame(scaler.fit_transform(value), columns=datasets[key].columns)\n",
    "\n",
    "    return new_datasets"
   ]
  },
  {
   "cell_type": "code",
   "execution_count": 51,
   "id": "a58da461",
   "metadata": {},
   "outputs": [],
   "source": [
    "def smart_range(start:int, stop:int, func=lambda x,y:x**y, num=2):\n",
    "    x = start\n",
    "    while x < stop:\n",
    "        yield x\n",
    "        x = func(x, num)\n",
    "        if x == 1:\n",
    "            x += 1"
   ]
  },
  {
   "cell_type": "code",
   "execution_count": 88,
   "id": "776707e8",
   "metadata": {},
   "outputs": [],
   "source": [
    "def measure_time(datasets:dict, limit=None, choose_dataset=None):\n",
    "    datasets = deepcopy(datasets)\n",
    "    new_datasets = dict()\n",
    "    if choose_dataset != None:\n",
    "        if type(choose_dataset) == list:\n",
    "            for choosen_one in choose_dataset:\n",
    "                new_datasets[choosen_one] = datasets[choosen_one]\n",
    "            datasets = new_datasets\n",
    "        elif type(choose_dataset) == str:\n",
    "            new_datasets[choose_dataset] = datasets[choose_dataset]\n",
    "            datasets = new_datasets\n",
    "\n",
    "    if limit == None:\n",
    "        limit = 17\n",
    "\n",
    "    result = []\n",
    "    for dataset_name, dataset in datasets.items():\n",
    "        print(f\"--------\\nDataset: {dataset_name} is going to observe...\")\n",
    "        k = dataset.shape[0]//4 \n",
    "        # lambda -> x*y\n",
    "        for n_q in smart_range(1, limit, func=lambda x,y:x**y, num=2):\n",
    "            # wird eigentlich nicht benötigt\n",
    "            #if limit != None and n_q >= limit:\n",
    "            #    break\n",
    "\n",
    "            print(f\"    Load {n_q}-Queries\")\n",
    "            kd_tree_results = [] \n",
    "            ball_tree_results = [] \n",
    "            brute_force_results = [] \n",
    "\n",
    "            for i in range(0, 100):\n",
    "                # Measurement for KD-Tree\n",
    "                start = time()\n",
    "                model = NearestNeighbors(n_neighbors=k, algorithm=\"kd_tree\", metric='euclidean')\n",
    "                model = model.fit(dataset)\n",
    "                for n in range(n_q):\n",
    "                    model.kneighbors()\n",
    "                duration = time() - start\n",
    "                kd_tree_results += [duration]\n",
    "\n",
    "                # Measurement for Ball-Tree\n",
    "                start = time()\n",
    "                model = NearestNeighbors(n_neighbors=k, algorithm=\"ball_tree\", metric='euclidean')\n",
    "                model = model.fit(dataset)\n",
    "                for n in range(n_q):\n",
    "                    model.kneighbors()\n",
    "                duration = time() - start\n",
    "                ball_tree_results += [duration]\n",
    "\n",
    "                # Measurement for Brute-Force\n",
    "                start = time()\n",
    "                for n in range(n_q):\n",
    "                    # FIXME -> richtig?\n",
    "                    model = NearestNeighbors(n_neighbors=k, algorithm=\"brute\", metric='euclidean')\n",
    "                    model = model.fit(dataset)\n",
    "                    model.kneighbors()    \n",
    "                duration = time() - start\n",
    "                brute_force_results += [duration]\n",
    "\n",
    "            # save mean performance\n",
    "            result += [(sum(kd_tree_results)/100, dataset_name, 'KD-Tree', n_q, dataset.shape[0])]\n",
    "            result += [(sum(ball_tree_results)/100, dataset_name, 'Ball-Tree', n_q, dataset.shape[0])] \n",
    "            result += [(sum(brute_force_results)/100, dataset_name, 'Brute-Force', n_q, dataset.shape[0])]\n",
    "\n",
    "    # return as DataFrame\n",
    "    return pd.DataFrame(result, columns=['Dauer', 'Datensatz', 'Algorithmus', 'Query-Anfragen', 'n'])"
   ]
  },
  {
   "cell_type": "code",
   "execution_count": 53,
   "id": "9ec0714b",
   "metadata": {},
   "outputs": [],
   "source": [
    "def visualize_box_plot(results, datasets=None):\n",
    "    results = deepcopy(results)\n",
    "    results = results.astype({'Query-Anfragen':str})\n",
    "    if datasets != None:\n",
    "        new_results = pd.DataFrame()\n",
    "        for dataset in datasets:\n",
    "            new_results = new_results.append(results[results['Datensatz']==dataset])\n",
    "        if len(new_results) > 0:\n",
    "            results = new_results\n",
    "\n",
    "    sns.set_theme(style=\"whitegrid\")\n",
    "    ax = sns.boxplot(x=\"Dauer\", y=\"Algorithmus\", data=results)\n",
    "    return ax"
   ]
  },
  {
   "cell_type": "code",
   "execution_count": 54,
   "id": "187fcf1b",
   "metadata": {},
   "outputs": [],
   "source": [
    "def visualize_bar_plot(results, datasets=None):\n",
    "    results = deepcopy(results)\n",
    "    results = results.astype({'Query-Anfragen':str})\n",
    "    if datasets != None:\n",
    "        new_results = pd.DataFrame()\n",
    "        for dataset in datasets:\n",
    "            new_results = new_results.append(results[results['Datensatz']==dataset])\n",
    "        if len(new_results) > 0:\n",
    "            results = new_results\n",
    "        \n",
    "    sns.set_theme(style=\"whitegrid\")\n",
    "    ax = sns.barplot(x=\"Query-Anfragen\", y=\"Dauer\", hue=\"Algorithmus\", data=results)\n",
    "    return ax"
   ]
  },
  {
   "cell_type": "code",
   "execution_count": 55,
   "id": "863b3ee7",
   "metadata": {},
   "outputs": [],
   "source": [
    "def visualize_stack_plot(results, datasets=None):\n",
    "    results = deepcopy(results)\n",
    "    if datasets != None:\n",
    "        new_results = pd.DataFrame()\n",
    "        for dataset in datasets:\n",
    "            new_results = new_results.append(results[results['Datensatz']==dataset])\n",
    "        if len(new_results) > 0:\n",
    "            results = new_results\n",
    "\n",
    "        \n",
    "    fig = plt.figure()\n",
    "    ax = plt.axes()\n",
    "\n",
    "    y = dict()\n",
    "    y['KD-Tree'] = results[results.Algorithmus == 'KD-Tree']['Dauer'].to_numpy()\n",
    "    y['Ball-Tree'] = results[results.Algorithmus == 'Ball-Tree']['Dauer'].to_numpy()\n",
    "    y['Brute-Force'] = results[results.Algorithmus == 'Brute-Force']['Dauer'].to_numpy()\n",
    "\n",
    "    ax.stackplot(results['Query-Anfragen'].unique(), y.values(), labels=y.keys())#, colors=[\"blue\",\"orange\",\"green\"])\n",
    "    ax.legend(loc='upper left')\n",
    "    ax.set_title('Performance pro Anfrage-Anzahl')\n",
    "    ax.set_xlabel('NN-Anfragen')\n",
    "    ax.set_ylabel('Dauer')\n",
    "    plt.show()"
   ]
  },
  {
   "cell_type": "markdown",
   "id": "4ad41d7a",
   "metadata": {},
   "source": [
    "Short Testing:"
   ]
  },
  {
   "cell_type": "code",
   "execution_count": 56,
   "id": "51bde80e",
   "metadata": {},
   "outputs": [
    {
     "data": {
      "text/plain": [
       "dict_keys(['Arbitrary Shaped Clusters', 'Cluster1', 'Cluster9', 'Clusters of different density', 'Hierarchical Clusters', 'spiral'])"
      ]
     },
     "execution_count": 56,
     "metadata": {},
     "output_type": "execute_result"
    }
   ],
   "source": [
    "datasets = load_data()\n",
    "datasets.keys()"
   ]
  },
  {
   "cell_type": "code",
   "execution_count": 57,
   "id": "10c4af64",
   "metadata": {},
   "outputs": [
    {
     "name": "stdout",
     "output_type": "stream",
     "text": [
      "      0     1\n",
      "0  3.42  21.3\n",
      "1  3.22  20.0\n",
      "2  4.22  20.4\n",
      "3  4.27  21.5\n",
      "4  5.62  20.9\n"
     ]
    },
    {
     "data": {
      "text/html": [
       "<div>\n",
       "<style scoped>\n",
       "    .dataframe tbody tr th:only-of-type {\n",
       "        vertical-align: middle;\n",
       "    }\n",
       "\n",
       "    .dataframe tbody tr th {\n",
       "        vertical-align: top;\n",
       "    }\n",
       "\n",
       "    .dataframe thead th {\n",
       "        text-align: right;\n",
       "    }\n",
       "</style>\n",
       "<table border=\"1\" class=\"dataframe\">\n",
       "  <thead>\n",
       "    <tr style=\"text-align: right;\">\n",
       "      <th></th>\n",
       "      <th>0</th>\n",
       "      <th>1</th>\n",
       "    </tr>\n",
       "  </thead>\n",
       "  <tbody>\n",
       "    <tr>\n",
       "      <th>0</th>\n",
       "      <td>0.048780</td>\n",
       "      <td>0.920000</td>\n",
       "    </tr>\n",
       "    <tr>\n",
       "      <th>1</th>\n",
       "      <td>0.036585</td>\n",
       "      <td>0.833333</td>\n",
       "    </tr>\n",
       "    <tr>\n",
       "      <th>2</th>\n",
       "      <td>0.097561</td>\n",
       "      <td>0.860000</td>\n",
       "    </tr>\n",
       "    <tr>\n",
       "      <th>3</th>\n",
       "      <td>0.100610</td>\n",
       "      <td>0.933333</td>\n",
       "    </tr>\n",
       "    <tr>\n",
       "      <th>4</th>\n",
       "      <td>0.182927</td>\n",
       "      <td>0.893333</td>\n",
       "    </tr>\n",
       "  </tbody>\n",
       "</table>\n",
       "</div>"
      ],
      "text/plain": [
       "          0         1\n",
       "0  0.048780  0.920000\n",
       "1  0.036585  0.833333\n",
       "2  0.097561  0.860000\n",
       "3  0.100610  0.933333\n",
       "4  0.182927  0.893333"
      ]
     },
     "execution_count": 57,
     "metadata": {},
     "output_type": "execute_result"
    }
   ],
   "source": [
    "print(datasets['Cluster1'].head())\n",
    "datasets = normalize(datasets)\n",
    "datasets['Cluster1'].head()"
   ]
  },
  {
   "cell_type": "code",
   "execution_count": 80,
   "id": "746238f1",
   "metadata": {},
   "outputs": [
    {
     "name": "stdout",
     "output_type": "stream",
     "text": [
      "--------\n",
      "Dataset: Cluster9 is going to observe...\n",
      "    Load 1-Queries\n",
      "    Load 2-Queries\n",
      "    Load 4-Queries\n",
      "    Load 16-Queries\n",
      "    Load 256-Queries\n"
     ]
    },
    {
     "data": {
      "text/html": [
       "<div>\n",
       "<style scoped>\n",
       "    .dataframe tbody tr th:only-of-type {\n",
       "        vertical-align: middle;\n",
       "    }\n",
       "\n",
       "    .dataframe tbody tr th {\n",
       "        vertical-align: top;\n",
       "    }\n",
       "\n",
       "    .dataframe thead th {\n",
       "        text-align: right;\n",
       "    }\n",
       "</style>\n",
       "<table border=\"1\" class=\"dataframe\">\n",
       "  <thead>\n",
       "    <tr style=\"text-align: right;\">\n",
       "      <th></th>\n",
       "      <th>Dauer</th>\n",
       "      <th>Datensatz</th>\n",
       "      <th>Algorithmus</th>\n",
       "      <th>Query-Anfragen</th>\n",
       "      <th>n</th>\n",
       "    </tr>\n",
       "  </thead>\n",
       "  <tbody>\n",
       "    <tr>\n",
       "      <th>0</th>\n",
       "      <td>0.001293</td>\n",
       "      <td>Cluster9</td>\n",
       "      <td>KD-Tree</td>\n",
       "      <td>1</td>\n",
       "      <td>123</td>\n",
       "    </tr>\n",
       "    <tr>\n",
       "      <th>1</th>\n",
       "      <td>0.001271</td>\n",
       "      <td>Cluster9</td>\n",
       "      <td>Ball-Tree</td>\n",
       "      <td>1</td>\n",
       "      <td>123</td>\n",
       "    </tr>\n",
       "    <tr>\n",
       "      <th>2</th>\n",
       "      <td>0.001234</td>\n",
       "      <td>Cluster9</td>\n",
       "      <td>Brute-Force</td>\n",
       "      <td>1</td>\n",
       "      <td>123</td>\n",
       "    </tr>\n",
       "    <tr>\n",
       "      <th>3</th>\n",
       "      <td>0.001714</td>\n",
       "      <td>Cluster9</td>\n",
       "      <td>KD-Tree</td>\n",
       "      <td>2</td>\n",
       "      <td>123</td>\n",
       "    </tr>\n",
       "    <tr>\n",
       "      <th>4</th>\n",
       "      <td>0.001727</td>\n",
       "      <td>Cluster9</td>\n",
       "      <td>Ball-Tree</td>\n",
       "      <td>2</td>\n",
       "      <td>123</td>\n",
       "    </tr>\n",
       "    <tr>\n",
       "      <th>5</th>\n",
       "      <td>0.002419</td>\n",
       "      <td>Cluster9</td>\n",
       "      <td>Brute-Force</td>\n",
       "      <td>2</td>\n",
       "      <td>123</td>\n",
       "    </tr>\n",
       "    <tr>\n",
       "      <th>6</th>\n",
       "      <td>0.002601</td>\n",
       "      <td>Cluster9</td>\n",
       "      <td>KD-Tree</td>\n",
       "      <td>4</td>\n",
       "      <td>123</td>\n",
       "    </tr>\n",
       "    <tr>\n",
       "      <th>7</th>\n",
       "      <td>0.002597</td>\n",
       "      <td>Cluster9</td>\n",
       "      <td>Ball-Tree</td>\n",
       "      <td>4</td>\n",
       "      <td>123</td>\n",
       "    </tr>\n",
       "    <tr>\n",
       "      <th>8</th>\n",
       "      <td>0.004876</td>\n",
       "      <td>Cluster9</td>\n",
       "      <td>Brute-Force</td>\n",
       "      <td>4</td>\n",
       "      <td>123</td>\n",
       "    </tr>\n",
       "    <tr>\n",
       "      <th>9</th>\n",
       "      <td>0.007944</td>\n",
       "      <td>Cluster9</td>\n",
       "      <td>KD-Tree</td>\n",
       "      <td>16</td>\n",
       "      <td>123</td>\n",
       "    </tr>\n",
       "    <tr>\n",
       "      <th>10</th>\n",
       "      <td>0.007924</td>\n",
       "      <td>Cluster9</td>\n",
       "      <td>Ball-Tree</td>\n",
       "      <td>16</td>\n",
       "      <td>123</td>\n",
       "    </tr>\n",
       "    <tr>\n",
       "      <th>11</th>\n",
       "      <td>0.019116</td>\n",
       "      <td>Cluster9</td>\n",
       "      <td>Brute-Force</td>\n",
       "      <td>16</td>\n",
       "      <td>123</td>\n",
       "    </tr>\n",
       "    <tr>\n",
       "      <th>12</th>\n",
       "      <td>0.111139</td>\n",
       "      <td>Cluster9</td>\n",
       "      <td>KD-Tree</td>\n",
       "      <td>256</td>\n",
       "      <td>123</td>\n",
       "    </tr>\n",
       "    <tr>\n",
       "      <th>13</th>\n",
       "      <td>0.112939</td>\n",
       "      <td>Cluster9</td>\n",
       "      <td>Ball-Tree</td>\n",
       "      <td>256</td>\n",
       "      <td>123</td>\n",
       "    </tr>\n",
       "    <tr>\n",
       "      <th>14</th>\n",
       "      <td>0.302103</td>\n",
       "      <td>Cluster9</td>\n",
       "      <td>Brute-Force</td>\n",
       "      <td>256</td>\n",
       "      <td>123</td>\n",
       "    </tr>\n",
       "  </tbody>\n",
       "</table>\n",
       "</div>"
      ],
      "text/plain": [
       "       Dauer Datensatz  Algorithmus  Query-Anfragen    n\n",
       "0   0.001293  Cluster9      KD-Tree               1  123\n",
       "1   0.001271  Cluster9    Ball-Tree               1  123\n",
       "2   0.001234  Cluster9  Brute-Force               1  123\n",
       "3   0.001714  Cluster9      KD-Tree               2  123\n",
       "4   0.001727  Cluster9    Ball-Tree               2  123\n",
       "5   0.002419  Cluster9  Brute-Force               2  123\n",
       "6   0.002601  Cluster9      KD-Tree               4  123\n",
       "7   0.002597  Cluster9    Ball-Tree               4  123\n",
       "8   0.004876  Cluster9  Brute-Force               4  123\n",
       "9   0.007944  Cluster9      KD-Tree              16  123\n",
       "10  0.007924  Cluster9    Ball-Tree              16  123\n",
       "11  0.019116  Cluster9  Brute-Force              16  123\n",
       "12  0.111139  Cluster9      KD-Tree             256  123\n",
       "13  0.112939  Cluster9    Ball-Tree             256  123\n",
       "14  0.302103  Cluster9  Brute-Force             256  123"
      ]
     },
     "execution_count": 80,
     "metadata": {},
     "output_type": "execute_result"
    }
   ],
   "source": [
    "data = load_data()\n",
    "data = normalize(data)\n",
    "test_result = measure_time(data, 1000, 'Cluster9')\n",
    "test_result"
   ]
  },
  {
   "cell_type": "markdown",
   "id": "580ab7f2",
   "metadata": {},
   "source": [
    "### Aufgabe 4: Durchführung des Experiments\n",
    "\n",
    "Führen Sie jeweils eigenständig das Experiment durch.\n",
    "Jedes Teammitglied soll das Experiment mit einem eigenen, leicht abgewandelten Datensatz durchführen.\n",
    "Verwenden Sie hierzu Parameterwerte, die Sie beim Design des Experiments festgelegt, bzw. eingegrenzt haben.\n",
    "\n",
    "Fassen Sie abschließend die Ergebnisse Ihres Experiments zusammen. Hinweis: Hier sind nur Beobachtungen gefragt, keine Interpretationen.\n",
    "\n",
    "Hinweis: __Bitte bearbeiten Sie diese Aufgabe getrennt!__ Kombinieren Sie beide Abgaben anschließend in ein Notebook (nacheinander) und kennzeichnen Sie welches Experiment von wem durchgeführt wurde."
   ]
  },
  {
   "cell_type": "markdown",
   "id": "8b52e925",
   "metadata": {},
   "source": [
    "---\n",
    "### Experimentdurchführung **Tobia**\n",
    "Die Experimente werden mit den 2 Datensätze Cluster9 und Hierarchical Cluster durchgeführt.<br>\n",
    "#### Ausführung:"
   ]
  },
  {
   "cell_type": "code",
   "execution_count": 98,
   "id": "b91bc318",
   "metadata": {},
   "outputs": [
    {
     "name": "stdout",
     "output_type": "stream",
     "text": [
      "--------\n",
      "Dataset: Cluster9 is going to observe...\n",
      "    Load 1-Queries\n",
      "    Load 2-Queries\n",
      "    Load 4-Queries\n",
      "    Load 16-Queries\n",
      "--------\n",
      "Dataset: Hierarchical Clusters is going to observe...\n",
      "    Load 1-Queries\n",
      "    Load 2-Queries\n",
      "    Load 4-Queries\n",
      "    Load 16-Queries\n"
     ]
    },
    {
     "data": {
      "text/html": [
       "<div>\n",
       "<style scoped>\n",
       "    .dataframe tbody tr th:only-of-type {\n",
       "        vertical-align: middle;\n",
       "    }\n",
       "\n",
       "    .dataframe tbody tr th {\n",
       "        vertical-align: top;\n",
       "    }\n",
       "\n",
       "    .dataframe thead th {\n",
       "        text-align: right;\n",
       "    }\n",
       "</style>\n",
       "<table border=\"1\" class=\"dataframe\">\n",
       "  <thead>\n",
       "    <tr style=\"text-align: right;\">\n",
       "      <th></th>\n",
       "      <th>Dauer</th>\n",
       "      <th>Datensatz</th>\n",
       "      <th>Algorithmus</th>\n",
       "      <th>Query-Anfragen</th>\n",
       "      <th>n</th>\n",
       "    </tr>\n",
       "  </thead>\n",
       "  <tbody>\n",
       "    <tr>\n",
       "      <th>0</th>\n",
       "      <td>0.001303</td>\n",
       "      <td>Cluster9</td>\n",
       "      <td>KD-Tree</td>\n",
       "      <td>1</td>\n",
       "      <td>123</td>\n",
       "    </tr>\n",
       "    <tr>\n",
       "      <th>1</th>\n",
       "      <td>0.001357</td>\n",
       "      <td>Cluster9</td>\n",
       "      <td>Ball-Tree</td>\n",
       "      <td>1</td>\n",
       "      <td>123</td>\n",
       "    </tr>\n",
       "    <tr>\n",
       "      <th>2</th>\n",
       "      <td>0.001298</td>\n",
       "      <td>Cluster9</td>\n",
       "      <td>Brute-Force</td>\n",
       "      <td>1</td>\n",
       "      <td>123</td>\n",
       "    </tr>\n",
       "    <tr>\n",
       "      <th>3</th>\n",
       "      <td>0.001776</td>\n",
       "      <td>Cluster9</td>\n",
       "      <td>KD-Tree</td>\n",
       "      <td>2</td>\n",
       "      <td>123</td>\n",
       "    </tr>\n",
       "    <tr>\n",
       "      <th>4</th>\n",
       "      <td>0.001749</td>\n",
       "      <td>Cluster9</td>\n",
       "      <td>Ball-Tree</td>\n",
       "      <td>2</td>\n",
       "      <td>123</td>\n",
       "    </tr>\n",
       "    <tr>\n",
       "      <th>5</th>\n",
       "      <td>0.002500</td>\n",
       "      <td>Cluster9</td>\n",
       "      <td>Brute-Force</td>\n",
       "      <td>2</td>\n",
       "      <td>123</td>\n",
       "    </tr>\n",
       "    <tr>\n",
       "      <th>6</th>\n",
       "      <td>0.002645</td>\n",
       "      <td>Cluster9</td>\n",
       "      <td>KD-Tree</td>\n",
       "      <td>4</td>\n",
       "      <td>123</td>\n",
       "    </tr>\n",
       "    <tr>\n",
       "      <th>7</th>\n",
       "      <td>0.002656</td>\n",
       "      <td>Cluster9</td>\n",
       "      <td>Ball-Tree</td>\n",
       "      <td>4</td>\n",
       "      <td>123</td>\n",
       "    </tr>\n",
       "    <tr>\n",
       "      <th>8</th>\n",
       "      <td>0.004929</td>\n",
       "      <td>Cluster9</td>\n",
       "      <td>Brute-Force</td>\n",
       "      <td>4</td>\n",
       "      <td>123</td>\n",
       "    </tr>\n",
       "    <tr>\n",
       "      <th>9</th>\n",
       "      <td>0.007997</td>\n",
       "      <td>Cluster9</td>\n",
       "      <td>KD-Tree</td>\n",
       "      <td>16</td>\n",
       "      <td>123</td>\n",
       "    </tr>\n",
       "    <tr>\n",
       "      <th>10</th>\n",
       "      <td>0.008047</td>\n",
       "      <td>Cluster9</td>\n",
       "      <td>Ball-Tree</td>\n",
       "      <td>16</td>\n",
       "      <td>123</td>\n",
       "    </tr>\n",
       "    <tr>\n",
       "      <th>11</th>\n",
       "      <td>0.019667</td>\n",
       "      <td>Cluster9</td>\n",
       "      <td>Brute-Force</td>\n",
       "      <td>16</td>\n",
       "      <td>123</td>\n",
       "    </tr>\n",
       "    <tr>\n",
       "      <th>12</th>\n",
       "      <td>0.003793</td>\n",
       "      <td>Hierarchical Clusters</td>\n",
       "      <td>KD-Tree</td>\n",
       "      <td>1</td>\n",
       "      <td>359</td>\n",
       "    </tr>\n",
       "    <tr>\n",
       "      <th>13</th>\n",
       "      <td>0.004634</td>\n",
       "      <td>Hierarchical Clusters</td>\n",
       "      <td>Ball-Tree</td>\n",
       "      <td>1</td>\n",
       "      <td>359</td>\n",
       "    </tr>\n",
       "    <tr>\n",
       "      <th>14</th>\n",
       "      <td>0.003483</td>\n",
       "      <td>Hierarchical Clusters</td>\n",
       "      <td>Brute-Force</td>\n",
       "      <td>1</td>\n",
       "      <td>359</td>\n",
       "    </tr>\n",
       "    <tr>\n",
       "      <th>15</th>\n",
       "      <td>0.006543</td>\n",
       "      <td>Hierarchical Clusters</td>\n",
       "      <td>KD-Tree</td>\n",
       "      <td>2</td>\n",
       "      <td>359</td>\n",
       "    </tr>\n",
       "    <tr>\n",
       "      <th>16</th>\n",
       "      <td>0.008374</td>\n",
       "      <td>Hierarchical Clusters</td>\n",
       "      <td>Ball-Tree</td>\n",
       "      <td>2</td>\n",
       "      <td>359</td>\n",
       "    </tr>\n",
       "    <tr>\n",
       "      <th>17</th>\n",
       "      <td>0.006971</td>\n",
       "      <td>Hierarchical Clusters</td>\n",
       "      <td>Brute-Force</td>\n",
       "      <td>2</td>\n",
       "      <td>359</td>\n",
       "    </tr>\n",
       "    <tr>\n",
       "      <th>18</th>\n",
       "      <td>0.012040</td>\n",
       "      <td>Hierarchical Clusters</td>\n",
       "      <td>KD-Tree</td>\n",
       "      <td>4</td>\n",
       "      <td>359</td>\n",
       "    </tr>\n",
       "    <tr>\n",
       "      <th>19</th>\n",
       "      <td>0.015829</td>\n",
       "      <td>Hierarchical Clusters</td>\n",
       "      <td>Ball-Tree</td>\n",
       "      <td>4</td>\n",
       "      <td>359</td>\n",
       "    </tr>\n",
       "    <tr>\n",
       "      <th>20</th>\n",
       "      <td>0.013902</td>\n",
       "      <td>Hierarchical Clusters</td>\n",
       "      <td>Brute-Force</td>\n",
       "      <td>4</td>\n",
       "      <td>359</td>\n",
       "    </tr>\n",
       "    <tr>\n",
       "      <th>21</th>\n",
       "      <td>0.044687</td>\n",
       "      <td>Hierarchical Clusters</td>\n",
       "      <td>KD-Tree</td>\n",
       "      <td>16</td>\n",
       "      <td>359</td>\n",
       "    </tr>\n",
       "    <tr>\n",
       "      <th>22</th>\n",
       "      <td>0.059537</td>\n",
       "      <td>Hierarchical Clusters</td>\n",
       "      <td>Ball-Tree</td>\n",
       "      <td>16</td>\n",
       "      <td>359</td>\n",
       "    </tr>\n",
       "    <tr>\n",
       "      <th>23</th>\n",
       "      <td>0.053747</td>\n",
       "      <td>Hierarchical Clusters</td>\n",
       "      <td>Brute-Force</td>\n",
       "      <td>16</td>\n",
       "      <td>359</td>\n",
       "    </tr>\n",
       "  </tbody>\n",
       "</table>\n",
       "</div>"
      ],
      "text/plain": [
       "       Dauer              Datensatz  Algorithmus  Query-Anfragen    n\n",
       "0   0.001303               Cluster9      KD-Tree               1  123\n",
       "1   0.001357               Cluster9    Ball-Tree               1  123\n",
       "2   0.001298               Cluster9  Brute-Force               1  123\n",
       "3   0.001776               Cluster9      KD-Tree               2  123\n",
       "4   0.001749               Cluster9    Ball-Tree               2  123\n",
       "5   0.002500               Cluster9  Brute-Force               2  123\n",
       "6   0.002645               Cluster9      KD-Tree               4  123\n",
       "7   0.002656               Cluster9    Ball-Tree               4  123\n",
       "8   0.004929               Cluster9  Brute-Force               4  123\n",
       "9   0.007997               Cluster9      KD-Tree              16  123\n",
       "10  0.008047               Cluster9    Ball-Tree              16  123\n",
       "11  0.019667               Cluster9  Brute-Force              16  123\n",
       "12  0.003793  Hierarchical Clusters      KD-Tree               1  359\n",
       "13  0.004634  Hierarchical Clusters    Ball-Tree               1  359\n",
       "14  0.003483  Hierarchical Clusters  Brute-Force               1  359\n",
       "15  0.006543  Hierarchical Clusters      KD-Tree               2  359\n",
       "16  0.008374  Hierarchical Clusters    Ball-Tree               2  359\n",
       "17  0.006971  Hierarchical Clusters  Brute-Force               2  359\n",
       "18  0.012040  Hierarchical Clusters      KD-Tree               4  359\n",
       "19  0.015829  Hierarchical Clusters    Ball-Tree               4  359\n",
       "20  0.013902  Hierarchical Clusters  Brute-Force               4  359\n",
       "21  0.044687  Hierarchical Clusters      KD-Tree              16  359\n",
       "22  0.059537  Hierarchical Clusters    Ball-Tree              16  359\n",
       "23  0.053747  Hierarchical Clusters  Brute-Force              16  359"
      ]
     },
     "execution_count": 98,
     "metadata": {},
     "output_type": "execute_result"
    }
   ],
   "source": [
    "results = measure_time(normalize(load_data()), 17, ['Cluster9', 'Hierarchical Clusters'])\n",
    "results"
   ]
  },
  {
   "cell_type": "markdown",
   "id": "7cb7501f",
   "metadata": {},
   "source": [
    "Cluster9:"
   ]
  },
  {
   "cell_type": "code",
   "execution_count": 99,
   "id": "8a34eda6",
   "metadata": {},
   "outputs": [
    {
     "data": {
      "text/plain": [
       "<AxesSubplot:xlabel='Query-Anfragen', ylabel='Dauer'>"
      ]
     },
     "execution_count": 99,
     "metadata": {},
     "output_type": "execute_result"
    },
    {
     "data": {
      "image/png": "[encoded data removed]",
      "text/plain": [
       "<Figure size 432x288 with 1 Axes>"
      ]
     },
     "metadata": {},
     "output_type": "display_data"
    }
   ],
   "source": [
    "visualize_bar_plot(results, ['Cluster9'])    "
   ]
  },
  {
   "cell_type": "code",
   "execution_count": 100,
   "id": "f77ef741",
   "metadata": {},
   "outputs": [
    {
     "data": {
      "text/plain": [
       "<AxesSubplot:xlabel='Dauer', ylabel='Algorithmus'>"
      ]
     },
     "execution_count": 100,
     "metadata": {},
     "output_type": "execute_result"
    },
    {
     "data": {
      "image/png": "[encoded data removed]",
      "text/plain": [
       "<Figure size 432x288 with 1 Axes>"
      ]
     },
     "metadata": {},
     "output_type": "display_data"
    }
   ],
   "source": [
    "visualize_box_plot(results, ['Cluster9'])"
   ]
  },
  {
   "cell_type": "code",
   "execution_count": 101,
   "id": "5b56bb0d",
   "metadata": {},
   "outputs": [
    {
     "data": {
      "image/png": "[encoded data removed]",
      "text/plain": [
       "<Figure size 432x288 with 1 Axes>"
      ]
     },
     "metadata": {},
     "output_type": "display_data"
    }
   ],
   "source": [
    "visualize_stack_plot(results, ['Cluster9'])"
   ]
  },
  {
   "cell_type": "code",
   "execution_count": 63,
   "id": "2a99a53f",
   "metadata": {},
   "outputs": [
    {
     "data": {
      "text/plain": [
       "array([0.9840799 , 1.00007341, 1.01190406, 1.00965037])"
      ]
     },
     "execution_count": 63,
     "metadata": {},
     "output_type": "execute_result"
    }
   ],
   "source": [
    "# calc differences (percentage)\n",
    "data = results[results.Datensatz=='Cluster9']\n",
    "data[data.Algorithmus == 'Ball-Tree']['Dauer'].to_numpy() / data[data.Algorithmus == 'KD-Tree']['Dauer'].to_numpy()"
   ]
  },
  {
   "cell_type": "code",
   "execution_count": 64,
   "id": "b17bded3",
   "metadata": {},
   "outputs": [
    {
     "data": {
      "text/plain": [
       "array([0.98000861, 1.43509258, 1.85643524, 2.42290488])"
      ]
     },
     "execution_count": 64,
     "metadata": {},
     "output_type": "execute_result"
    }
   ],
   "source": [
    "data[data.Algorithmus == 'Brute-Force']['Dauer'].to_numpy() / data[data.Algorithmus == 'KD-Tree']['Dauer'].to_numpy()"
   ]
  },
  {
   "cell_type": "code",
   "execution_count": 65,
   "id": "169b5f05",
   "metadata": {},
   "outputs": [
    {
     "data": {
      "text/plain": [
       "dict_items([('ball_tree', 0.0004410351117451986), ('kd_tree', 0.000434724489847819), ('brute_force', 0.0011726627349853515)])"
      ]
     },
     "execution_count": 65,
     "metadata": {},
     "output_type": "execute_result"
    }
   ],
   "source": [
    "# Steigung (für Tendenz)\n",
    "pitch = dict()\n",
    "ball_tree = data[data.Algorithmus == 'Ball-Tree']['Dauer'].to_numpy()\n",
    "pitch['ball_tree'] = (ball_tree[3] - ball_tree[0]) / (16 - 1)\n",
    "kd_tree = data[data.Algorithmus == 'KD-Tree']['Dauer'].to_numpy()\n",
    "pitch['kd_tree'] = (kd_tree[3] - kd_tree[0]) / (16 - 1)\n",
    "brute_force = data[data.Algorithmus == 'Brute-Force']['Dauer'].to_numpy()\n",
    "pitch['brute_force'] = (brute_force[3] - brute_force[0]) / (16 - 1)\n",
    "pitch.items()"
   ]
  },
  {
   "cell_type": "markdown",
   "id": "56156bea",
   "metadata": {},
   "source": [
    "**Hierarchical Cluster:**"
   ]
  },
  {
   "cell_type": "code",
   "execution_count": 102,
   "id": "454dceb0",
   "metadata": {},
   "outputs": [
    {
     "data": {
      "text/plain": [
       "<AxesSubplot:xlabel='Query-Anfragen', ylabel='Dauer'>"
      ]
     },
     "execution_count": 102,
     "metadata": {},
     "output_type": "execute_result"
    },
    {
     "data": {
      "image/png": "[encoded data removed]",
      "text/plain": [
       "<Figure size 432x288 with 1 Axes>"
      ]
     },
     "metadata": {},
     "output_type": "display_data"
    }
   ],
   "source": [
    "visualize_bar_plot(results, ['Hierarchical Clusters'])  "
   ]
  },
  {
   "cell_type": "code",
   "execution_count": 103,
   "id": "078f0b5b",
   "metadata": {},
   "outputs": [
    {
     "data": {
      "text/plain": [
       "<AxesSubplot:xlabel='Dauer', ylabel='Algorithmus'>"
      ]
     },
     "execution_count": 103,
     "metadata": {},
     "output_type": "execute_result"
    },
    {
     "data": {
      "image/png": "[encoded data removed]",
      "text/plain": [
       "<Figure size 432x288 with 1 Axes>"
      ]
     },
     "metadata": {},
     "output_type": "display_data"
    }
   ],
   "source": [
    "visualize_box_plot(results, ['Hierarchical Clusters'])  "
   ]
  },
  {
   "cell_type": "code",
   "execution_count": 104,
   "id": "4f1a880c",
   "metadata": {},
   "outputs": [
    {
     "data": {
      "image/png": "[encoded data removed]",
      "text/plain": [
       "<Figure size 432x288 with 1 Axes>"
      ]
     },
     "metadata": {},
     "output_type": "display_data"
    }
   ],
   "source": [
    "visualize_stack_plot(results, ['Hierarchical Clusters'])"
   ]
  },
  {
   "cell_type": "code",
   "execution_count": 69,
   "id": "3b2e9cb3",
   "metadata": {},
   "outputs": [
    {
     "data": {
      "text/plain": [
       "array([1.24060859, 1.27934499, 1.30736036, 1.3294853 ])"
      ]
     },
     "execution_count": 69,
     "metadata": {},
     "output_type": "execute_result"
    }
   ],
   "source": [
    "# calc diffrences (percentage)\n",
    "data = results[results.Datensatz=='Hierarchical Clusters']\n",
    "data[data.Algorithmus == 'Ball-Tree']['Dauer'].to_numpy() / data[data.Algorithmus == 'KD-Tree']['Dauer'].to_numpy()"
   ]
  },
  {
   "cell_type": "code",
   "execution_count": 70,
   "id": "16afcc51",
   "metadata": {},
   "outputs": [
    {
     "data": {
      "text/plain": [
       "array([1.07744085, 0.97343886, 0.91904521, 0.89427476])"
      ]
     },
     "execution_count": 70,
     "metadata": {},
     "output_type": "execute_result"
    }
   ],
   "source": [
    "data[data.Algorithmus == 'Ball-Tree']['Dauer'].to_numpy() / data[data.Algorithmus == 'Brute-Force']['Dauer'].to_numpy()"
   ]
  },
  {
   "cell_type": "code",
   "execution_count": 71,
   "id": "7d516f46",
   "metadata": {},
   "outputs": [
    {
     "data": {
      "text/plain": [
       "array([1.15144009, 1.31425305, 1.42252018, 1.48666311])"
      ]
     },
     "execution_count": 71,
     "metadata": {},
     "output_type": "execute_result"
    }
   ],
   "source": [
    "data[data.Algorithmus == 'Brute-Force']['Dauer'].to_numpy() / data[data.Algorithmus == 'KD-Tree']['Dauer'].to_numpy()"
   ]
  },
  {
   "cell_type": "code",
   "execution_count": 72,
   "id": "66c6d360",
   "metadata": {},
   "outputs": [
    {
     "data": {
      "text/plain": [
       "dict_items([('ball_tree', 0.0035483951568603517), ('kd_tree', 0.0026532521247863766), ('brute_force', 0.004023455937703451)])"
      ]
     },
     "execution_count": 72,
     "metadata": {},
     "output_type": "execute_result"
    }
   ],
   "source": [
    "# Steigung (für Tendenz) -> Achtung: Funktion wird nicht linear sein! Es ist ein größeres Wachstum zu erwarten\n",
    "pitch = dict()\n",
    "ball_tree = data[data.Algorithmus == 'Ball-Tree']['Dauer'].to_numpy()\n",
    "pitch['ball_tree'] = (ball_tree[3] - ball_tree[0]) / (16 - 1)\n",
    "kd_tree = data[data.Algorithmus == 'KD-Tree']['Dauer'].to_numpy()\n",
    "pitch['kd_tree'] = (kd_tree[3] - kd_tree[0]) / (16 - 1)\n",
    "brute_force = data[data.Algorithmus == 'Brute-Force']['Dauer'].to_numpy()\n",
    "pitch['brute_force'] = (brute_force[3] - brute_force[0]) / (16 - 1)\n",
    "pitch.items()"
   ]
  },
  {
   "cell_type": "markdown",
   "id": "50ce8a38",
   "metadata": {},
   "source": [
    "#### Ergebnis: (Objektiv -> Fakten, was wurde beobachtet)\n",
    "\n",
    "**Cluster 9**<br> <!-- FIXME + Tendenz? -->\n",
    "    Während alle 3 Algorithmen bei einer NN-Anfrage noch die gleiche Performance hatten, so steigerte sich die Laufzeit bei dem Brute-Force-Algorithmus bei jeder weiteren NN-Anfrage mehr als die durchschnittliche Laufzeit bei dem KD-Tree und dem Ball-Tree.<br>\n",
    "    Die Steigung der 4 Anfragen beträgt bei dem Brute-Force-Algorithmus 1,14 Millisekunden. Bei dem KD-Tree sowie bei dem Ball-Tree 0,42 Millisekunden. Die Ähnlichkeit der Steigungen von KD-Tree und Ball-Tree zeigen noch einmal die Ähnlichkeit der beiden Algorithmen.<br>\n",
    "    Bei 16 NN-Anfrage brauchte der Brute-Force-Algorithmus durchschnittlich (aus 100 Versuchen) 240% länger als der KD-Tree bzw. der Ball-Tree.<br>\n",
    "    Der KD-Tree und der Ball-Tree haben bei den 4 Versuchen durchschnittlich eine sehr ähnliche Laufzeit gebraucht. Mit dem bloßen Auge ist so gut wie kein Unterschied zu erkennen.\n",
    "<br>\n",
    "<br>\n",
    "**Hierarchical Cluster** -> Ergebnisse schwanken teils stark -> oft auch Brute-Force am langsamsten<br>\n",
    "Bei nur einer NN-Anfrage war der Brute-Force-Algorithmus durchschnittlich am schnellsten, gefolgt von dem KD-Tree und anschließend als langsamstes der Ball-Tree. Der Geschwindigkeitsunterschied lag jedoch in einem sehr geringen Bereich.<br>\n",
    "Bei 2 NN-Anfragen hat ebenfalls der Ball-Tree durchschnittlich am längsten gedauert, der Unterschied zu den anderen beiden Algorithmen wirkt schon größer.<br>\n",
    "Der Brute-Force-Algorithmus und der KD-Tree hatten bei 2NN-Anfragen scheinbar eine ziemlich ähnliche durchschnittliche Laufzeit gehabt zu haben.<br>\n",
    "Dieses Muster wird bei 4 NN-Anfragen noch deutlicher. Mit dem Unterschied, dass nun der KD-Tree der schnellste Algorithmus war.<br>\n",
    "Bei 16-NN-Anfragen dauerte der Ball-Tree eindeutig länger als der KD-Tree (ca. 33% langsamer) oder den Brute-Force-Algorithmus (ca. 13% langsamer).<br>\n",
    "Am schnellsten war wieder der KD-Tree und um ca. 17% langsamer war der Brute-Force-Algorithmus.<br>\n",
    "Bei weiteren Durchführungen kam es jedoch häufiger vor, dass der Brute-Force-Algorithmus am langsamsten ist. Was aber immer gleich blieb => der KD-Tree war bis jetzt bei 16-NN-Anfragen immer am schnellsten.<br>\n",
    "<br>\n",
    "Hinweis 1: Da die Ergebnisse bei 256 Anfragen relativ gesehen gleich geblieben sind, aber deutlich mehr Zeit benötigten, wurden diese bei diesem Experiment weggelassen.<br>\n",
    "Hinweis 2: Außerdem wurde bewusst nicht die Visualisierungen an sich beschrieben, da es um die Beschreibung des Experimentes (dessen Ergebnisse) ging und nicht um dessen Visualisierung."
   ]
  },
  {
   "cell_type": "markdown",
   "id": "c15a777a",
   "metadata": {},
   "source": [
    "---\n",
    "### Experimentdurchführung **Daniela**"
   ]
  },
  {
   "cell_type": "code",
   "execution_count": 73,
   "id": "b91bc318",
   "metadata": {},
   "outputs": [
    {
     "name": "stdout",
     "output_type": "stream",
     "text": [
      "--------\n",
      "Dataset: Arbitrary Shaped Clusters is going to observe...\n",
      "    Load 1-Queries\n",
      "    Load 2-Queries\n",
      "    Load 4-Queries\n",
      "    Load 16-Queries\n",
      "256 is bigger than the limit (17)\n",
      "--------\n",
      "Dataset: Cluster1 is going to observe...\n",
      "    Load 1-Queries\n",
      "    Load 2-Queries\n",
      "    Load 4-Queries\n",
      "    Load 16-Queries\n",
      "--------\n",
      "Dataset: Cluster9 is going to observe...\n",
      "    Load 1-Queries\n",
      "    Load 2-Queries\n",
      "    Load 4-Queries\n",
      "    Load 16-Queries\n",
      "--------\n",
      "Dataset: Clusters of different density is going to observe...\n",
      "    Load 1-Queries\n",
      "    Load 2-Queries\n",
      "    Load 4-Queries\n",
      "    Load 16-Queries\n",
      "--------\n",
      "Dataset: Hierarchical Clusters is going to observe...\n",
      "    Load 1-Queries\n",
      "    Load 2-Queries\n",
      "    Load 4-Queries\n",
      "    Load 16-Queries\n",
      "256 is bigger than the limit (17)\n",
      "--------\n",
      "Dataset: spiral is going to observe...\n",
      "    Load 1-Queries\n",
      "    Load 2-Queries\n",
      "    Load 4-Queries\n",
      "    Load 16-Queries\n",
      "256 is bigger than the limit (17)\n"
     ]
    },
    {
     "data": {
      "text/html": [
       "<div>\n",
       "<style scoped>\n",
       "    .dataframe tbody tr th:only-of-type {\n",
       "        vertical-align: middle;\n",
       "    }\n",
       "\n",
       "    .dataframe tbody tr th {\n",
       "        vertical-align: top;\n",
       "    }\n",
       "\n",
       "    .dataframe thead th {\n",
       "        text-align: right;\n",
       "    }\n",
       "</style>\n",
       "<table border=\"1\" class=\"dataframe\">\n",
       "  <thead>\n",
       "    <tr style=\"text-align: right;\">\n",
       "      <th></th>\n",
       "      <th>Dauer</th>\n",
       "      <th>Datensatz</th>\n",
       "      <th>Algorithmus</th>\n",
       "      <th>Query-Anfragen</th>\n",
       "      <th>n</th>\n",
       "    </tr>\n",
       "  </thead>\n",
       "  <tbody>\n",
       "    <tr>\n",
       "      <th>0</th>\n",
       "      <td>0.002402</td>\n",
       "      <td>Arbitrary Shaped Clusters</td>\n",
       "      <td>KD-Tree</td>\n",
       "      <td>1</td>\n",
       "      <td>257</td>\n",
       "    </tr>\n",
       "    <tr>\n",
       "      <th>1</th>\n",
       "      <td>0.002302</td>\n",
       "      <td>Arbitrary Shaped Clusters</td>\n",
       "      <td>Ball-Tree</td>\n",
       "      <td>1</td>\n",
       "      <td>257</td>\n",
       "    </tr>\n",
       "    <tr>\n",
       "      <th>2</th>\n",
       "      <td>0.002187</td>\n",
       "      <td>Arbitrary Shaped Clusters</td>\n",
       "      <td>Brute-Force</td>\n",
       "      <td>1</td>\n",
       "      <td>257</td>\n",
       "    </tr>\n",
       "    <tr>\n",
       "      <th>3</th>\n",
       "      <td>0.003898</td>\n",
       "      <td>Arbitrary Shaped Clusters</td>\n",
       "      <td>KD-Tree</td>\n",
       "      <td>2</td>\n",
       "      <td>257</td>\n",
       "    </tr>\n",
       "    <tr>\n",
       "      <th>4</th>\n",
       "      <td>0.003778</td>\n",
       "      <td>Arbitrary Shaped Clusters</td>\n",
       "      <td>Ball-Tree</td>\n",
       "      <td>2</td>\n",
       "      <td>257</td>\n",
       "    </tr>\n",
       "    <tr>\n",
       "      <th>...</th>\n",
       "      <td>...</td>\n",
       "      <td>...</td>\n",
       "      <td>...</td>\n",
       "      <td>...</td>\n",
       "      <td>...</td>\n",
       "    </tr>\n",
       "    <tr>\n",
       "      <th>67</th>\n",
       "      <td>0.010099</td>\n",
       "      <td>spiral</td>\n",
       "      <td>Ball-Tree</td>\n",
       "      <td>4</td>\n",
       "      <td>312</td>\n",
       "    </tr>\n",
       "    <tr>\n",
       "      <th>68</th>\n",
       "      <td>0.009884</td>\n",
       "      <td>spiral</td>\n",
       "      <td>Brute-Force</td>\n",
       "      <td>4</td>\n",
       "      <td>312</td>\n",
       "    </tr>\n",
       "    <tr>\n",
       "      <th>69</th>\n",
       "      <td>0.035255</td>\n",
       "      <td>spiral</td>\n",
       "      <td>KD-Tree</td>\n",
       "      <td>16</td>\n",
       "      <td>312</td>\n",
       "    </tr>\n",
       "    <tr>\n",
       "      <th>70</th>\n",
       "      <td>0.038075</td>\n",
       "      <td>spiral</td>\n",
       "      <td>Ball-Tree</td>\n",
       "      <td>16</td>\n",
       "      <td>312</td>\n",
       "    </tr>\n",
       "    <tr>\n",
       "      <th>71</th>\n",
       "      <td>0.039597</td>\n",
       "      <td>spiral</td>\n",
       "      <td>Brute-Force</td>\n",
       "      <td>16</td>\n",
       "      <td>312</td>\n",
       "    </tr>\n",
       "  </tbody>\n",
       "</table>\n",
       "<p>72 rows × 5 columns</p>\n",
       "</div>"
      ],
      "text/plain": [
       "       Dauer                  Datensatz  Algorithmus  Query-Anfragen    n\n",
       "0   0.002402  Arbitrary Shaped Clusters      KD-Tree               1  257\n",
       "1   0.002302  Arbitrary Shaped Clusters    Ball-Tree               1  257\n",
       "2   0.002187  Arbitrary Shaped Clusters  Brute-Force               1  257\n",
       "3   0.003898  Arbitrary Shaped Clusters      KD-Tree               2  257\n",
       "4   0.003778  Arbitrary Shaped Clusters    Ball-Tree               2  257\n",
       "..       ...                        ...          ...             ...  ...\n",
       "67  0.010099                     spiral    Ball-Tree               4  312\n",
       "68  0.009884                     spiral  Brute-Force               4  312\n",
       "69  0.035255                     spiral      KD-Tree              16  312\n",
       "70  0.038075                     spiral    Ball-Tree              16  312\n",
       "71  0.039597                     spiral  Brute-Force              16  312\n",
       "\n",
       "[72 rows x 5 columns]"
      ]
     },
     "execution_count": 73,
     "metadata": {},
     "output_type": "execute_result"
    }
   ],
   "source": [
    "datasets = load_data()\n",
    "norm_datasets = normalize(datasets)\n",
    "results = measure_time(norm_datasets, limit=17)\n",
    "results"
   ]
  },
  {
   "cell_type": "code",
   "execution_count": 74,
   "id": "linear-crack",
   "metadata": {},
   "outputs": [
    {
     "data": {
      "text/plain": [
       "<AxesSubplot:xlabel='Query-Anfragen', ylabel='Dauer'>"
      ]
     },
     "execution_count": 74,
     "metadata": {},
     "output_type": "execute_result"
    },
    {
     "data": {
      "image/png": "[encoded data removed]",
      "text/plain": [
       "<Figure size 432x288 with 1 Axes>"
      ]
     },
     "metadata": {},
     "output_type": "display_data"
    }
   ],
   "source": [
    "visualize_bar_plot(results, ['Arbitrary Shaped Clusters'])    "
   ]
  },
  {
   "cell_type": "code",
   "execution_count": 75,
   "id": "pediatric-bailey",
   "metadata": {},
   "outputs": [
    {
     "data": {
      "text/plain": [
       "<AxesSubplot:xlabel='Dauer', ylabel='Algorithmus'>"
      ]
     },
     "execution_count": 75,
     "metadata": {},
     "output_type": "execute_result"
    },
    {
     "data": {
      "image/png": "[encoded data removed]",
      "text/plain": [
       "<Figure size 432x288 with 1 Axes>"
      ]
     },
     "metadata": {},
     "output_type": "display_data"
    }
   ],
   "source": [
    "visualize_box_plot(results, ['Arbitrary Shaped Clusters'])"
   ]
  },
  {
   "cell_type": "markdown",
   "id": "attended-retailer",
   "metadata": {},
   "source": [
    "#### Bei den Datensatz \"Arbitrary Shaped Clusters\" sehen die Visualisierungen wie folgt aus:\n",
    "\n",
    "Wie man bei den Balkendiagramm ablesen kann, sind bei den Query-Anfragen = 1, Brute-Force am schnellsten, während KD-Tree und Ball-Tree gefühlt gleich schnell sind. Bei einer Query Anfrage von 2, sind alle 3 Algorithmen gleich schnell von den Durchläufen. \n",
    "KD-Tree und Ball-Tree sind in etwa gleich schnell bei einer Query-Anfrage von 4 und sind schneller als Brute-Force. Jedoch ist es schwer abzulesen wieviel schneller die beiden Algortihmen sind. \n",
    "Bei der letzten Query-Anfrage erkennt man das Ball-Tree am schnellsten war, dannach kommt KD-Tree und am langsamstes war der Brute-Force. Wobei der Brute-Force Tree sehr deutlich am langsamsten ist, nicht so wie bei der Query Anzahl von 4 wo es nur minimal langsamer war.\n",
    "\n",
    "Bei den Boxplot stellt man fest dass der Brute-Force am langsamsten ist, sein Median liegt dabei leicht über 0.01 Sekunden. Sowohl hat er auch einen Ausreißer der über den Wert von 0.05 Sekunden liegt,welcher über dem Vierfachen von seinem Median liegt. \n",
    "Der Ball-Tree ist der schnellste Algorithmus von allen wobei der KD-Tree sehr nahe kommt. Beim Ball-Tree liegt der Median bei ca. 0.0085 Sekunden. Sein Ausreißer befindet sich über den Wert von 0.04 Sekunden und liegt über dem Dreifachen seines Medians.\n",
    "Der Median von KD-Tree liegt bei ca. 0.009 Sekunden, und so wie die anderen zwei Algorithmen hat auch er wieder einen Ausreißer der bei ca. 0.044 Sekunden liegt. Das ist fast das 3,5 - fache seines Medians.\n",
    "Das 1.Quartil liegt bei alles Algorithmen bei den gleichen Wert. Der Ball-Tree und KD-Tree haben den selben Minimumwert, beim 3.Quartil liegt der KD-Tree über den Ball-Tree. Von alle Algorithmen besitz der Brute-Force das kleinste Minimum, jedoch besitzt er das höchste 3.Quartil und Median."
   ]
  },
  {
   "cell_type": "code",
   "execution_count": 76,
   "id": "polished-alexander",
   "metadata": {},
   "outputs": [
    {
     "data": {
      "text/plain": [
       "<AxesSubplot:xlabel='Query-Anfragen', ylabel='Dauer'>"
      ]
     },
     "execution_count": 76,
     "metadata": {},
     "output_type": "execute_result"
    },
    {
     "data": {
      "image/png": "[encoded data removed]",
      "text/plain": [
       "<Figure size 432x288 with 1 Axes>"
      ]
     },
     "metadata": {},
     "output_type": "display_data"
    }
   ],
   "source": [
    "visualize_bar_plot(results, ['spiral'])"
   ]
  },
  {
   "cell_type": "code",
   "execution_count": 77,
   "id": "auburn-associate",
   "metadata": {},
   "outputs": [
    {
     "data": {
      "image/png": "[encoded data removed]",
      "text/plain": [
       "<Figure size 432x288 with 1 Axes>"
      ]
     },
     "metadata": {},
     "output_type": "display_data"
    }
   ],
   "source": [
    "visualize_box_plot(results, ['spiral']);"
   ]
  },
  {
   "cell_type": "markdown",
   "id": "numeric-answer",
   "metadata": {},
   "source": [
    "#### Bei den Datensatz \"spiral\" sehen die Visualisierungen wie folgt aus:\n",
    "\n",
    "Bei einer Query-Anfragenanzahl von 1, ist der Brute-Force-Algorithmus am schnellsten. Danach kommt KD-Tree und minimal langsamer als der KD-Tree ist der Ball-Tree. \n",
    "Der Ball-Tree ist auch am langsamsten bei einer Query-Anfrage = 2. Am schnellsten ist wieder der Brute-Force und dannachkommt der KD-Tree. Jedoch im Gegensatz zu der Query-Anfrage von 1 ist hier der Unterschied besser zu erkennen.\n",
    "Am langsamsten ist der Ball-Tree, bei einer Query-Anfrage von 4. Im Kontrast zu den anderen 2 Query-Anfragen, ist es hier sehr schwer zu erkennen wer schneller ist, der KD-Tree oder der Brute-Force. Jedoch ist der Brute-Force minimal schneller. \n",
    "Bei der Query-Anfrage von 16 ist der KD-Tree eindeutig am schnellsten. Der Brute-Force und der Ball-Tree sind diesmal fast identisch. Der Brute-Force ist auch hier, wie bei dem vorherigen minimal schneller.\n",
    "\n",
    "Bei den Boxplots ist zu erkennen das der Brute-Force der kleinste Median besitz, dennoch ist der unterschied mit dem KD-Tree sehr gering. Der KD-Tree besitzt jedoch den kleinsten 3.Quartil. Der KD-Tree und Ball-Tree enthalten annähernd das gleiche Minimum, aber der KD-Tree besitzt ein kleineres Minimum. Insgesamt von allen Algorithmen hat der Brute-Force das kleinste Minimum mit ca. 0.004 Sekunden.\n",
    "Hier erkennt man das jeder Algorithmus genau einen Ausreißer hat, wobei der Ball-Tree den größten Ausreißer mit ungefähr 0.066 Sekunden hat und der KD-Tree den kleinsten Ausreißer mit 0.063 Sekunden hat.\n",
    "Der Brute-Fore-Tree hat auch den kleinsten 1.Quartil, dann kommt der KD-Tree und dann der Ball-Tree."
   ]
  },
  {
   "cell_type": "markdown",
   "id": "8db5fca1",
   "metadata": {},
   "source": [
    "---\n",
    "### Experimentdurchführung **Rumeysa**"
   ]
  },
  {
   "cell_type": "code",
   "execution_count": null,
   "id": "c57fbc97",
   "metadata": {},
   "outputs": [
    {
     "name": "stdout",
     "output_type": "stream",
     "text": [
      "--------\n",
      "Dataset: Cluster9 is going to observe...\n",
      "    Load 1-Queries\n",
      "    Load 2-Queries\n",
      "    Load 4-Queries\n",
      "    Load 16-Queries\n",
      "--------\n",
      "Dataset: spiral is going to observe...\n",
      "    Load 1-Queries\n",
      "    Load 2-Queries\n",
      "    Load 4-Queries\n",
      "    Load 16-Queries\n",
      "--------\n",
      "Dataset: Clusters of different density is going to observe...\n",
      "    Load 1-Queries\n",
      "    Load 2-Queries\n",
      "    Load 4-Queries\n",
      "    Load 16-Queries\n",
      "--------\n",
      "Dataset: Hierarchical Clusters is going to observe...\n",
      "    Load 1-Queries\n",
      "    Load 2-Queries\n",
      "    Load 4-Queries\n",
      "    Load 16-Queries\n",
      "--------\n",
      "Dataset: Arbitrary Shaped Clusters is going to observe...\n",
      "    Load 1-Queries\n",
      "    Load 2-Queries\n",
      "    Load 4-Queries\n",
      "    Load 16-Queries\n",
      "--------\n",
      "Dataset: Cluster1 is going to observe...\n",
      "    Load 1-Queries\n",
      "    Load 2-Queries\n",
      "    Load 4-Queries\n",
      "    Load 16-Queries\n"
     ]
    },
    {
     "data": {
      "text/html": [
       "<div>\n",
       "<style scoped>\n",
       "    .dataframe tbody tr th:only-of-type {\n",
       "        vertical-align: middle;\n",
       "    }\n",
       "\n",
       "    .dataframe tbody tr th {\n",
       "        vertical-align: top;\n",
       "    }\n",
       "\n",
       "    .dataframe thead th {\n",
       "        text-align: right;\n",
       "    }\n",
       "</style>\n",
       "<table border=\"1\" class=\"dataframe\">\n",
       "  <thead>\n",
       "    <tr style=\"text-align: right;\">\n",
       "      <th></th>\n",
       "      <th>Dauer</th>\n",
       "      <th>Datensatz</th>\n",
       "      <th>Algorithmus</th>\n",
       "      <th>Query-Anfragen</th>\n",
       "      <th>n</th>\n",
       "    </tr>\n",
       "  </thead>\n",
       "  <tbody>\n",
       "    <tr>\n",
       "      <th>0</th>\n",
       "      <td>0.003040</td>\n",
       "      <td>Cluster9</td>\n",
       "      <td>KD-Tree</td>\n",
       "      <td>1</td>\n",
       "      <td>123</td>\n",
       "    </tr>\n",
       "    <tr>\n",
       "      <th>1</th>\n",
       "      <td>0.003002</td>\n",
       "      <td>Cluster9</td>\n",
       "      <td>Ball-Tree</td>\n",
       "      <td>1</td>\n",
       "      <td>123</td>\n",
       "    </tr>\n",
       "    <tr>\n",
       "      <th>2</th>\n",
       "      <td>0.002873</td>\n",
       "      <td>Cluster9</td>\n",
       "      <td>Brute-Force-Tree</td>\n",
       "      <td>1</td>\n",
       "      <td>123</td>\n",
       "    </tr>\n",
       "    <tr>\n",
       "      <th>3</th>\n",
       "      <td>0.003792</td>\n",
       "      <td>Cluster9</td>\n",
       "      <td>KD-Tree</td>\n",
       "      <td>2</td>\n",
       "      <td>123</td>\n",
       "    </tr>\n",
       "    <tr>\n",
       "      <th>4</th>\n",
       "      <td>0.003932</td>\n",
       "      <td>Cluster9</td>\n",
       "      <td>Ball-Tree</td>\n",
       "      <td>2</td>\n",
       "      <td>123</td>\n",
       "    </tr>\n",
       "    <tr>\n",
       "      <th>...</th>\n",
       "      <td>...</td>\n",
       "      <td>...</td>\n",
       "      <td>...</td>\n",
       "      <td>...</td>\n",
       "      <td>...</td>\n",
       "    </tr>\n",
       "    <tr>\n",
       "      <th>67</th>\n",
       "      <td>0.004573</td>\n",
       "      <td>Cluster1</td>\n",
       "      <td>Ball-Tree</td>\n",
       "      <td>4</td>\n",
       "      <td>86</td>\n",
       "    </tr>\n",
       "    <tr>\n",
       "      <th>68</th>\n",
       "      <td>0.008802</td>\n",
       "      <td>Cluster1</td>\n",
       "      <td>Brute-Force-Tree</td>\n",
       "      <td>4</td>\n",
       "      <td>86</td>\n",
       "    </tr>\n",
       "    <tr>\n",
       "      <th>69</th>\n",
       "      <td>0.012591</td>\n",
       "      <td>Cluster1</td>\n",
       "      <td>KD-Tree</td>\n",
       "      <td>16</td>\n",
       "      <td>86</td>\n",
       "    </tr>\n",
       "    <tr>\n",
       "      <th>70</th>\n",
       "      <td>0.012899</td>\n",
       "      <td>Cluster1</td>\n",
       "      <td>Ball-Tree</td>\n",
       "      <td>16</td>\n",
       "      <td>86</td>\n",
       "    </tr>\n",
       "    <tr>\n",
       "      <th>71</th>\n",
       "      <td>0.034928</td>\n",
       "      <td>Cluster1</td>\n",
       "      <td>Brute-Force-Tree</td>\n",
       "      <td>16</td>\n",
       "      <td>86</td>\n",
       "    </tr>\n",
       "  </tbody>\n",
       "</table>\n",
       "<p>72 rows × 5 columns</p>\n",
       "</div>"
      ],
      "text/plain": [
       "       Dauer Datensatz       Algorithmus  Query-Anfragen    n\n",
       "0   0.003040  Cluster9           KD-Tree               1  123\n",
       "1   0.003002  Cluster9         Ball-Tree               1  123\n",
       "2   0.002873  Cluster9  Brute-Force-Tree               1  123\n",
       "3   0.003792  Cluster9           KD-Tree               2  123\n",
       "4   0.003932  Cluster9         Ball-Tree               2  123\n",
       "..       ...       ...               ...             ...  ...\n",
       "67  0.004573  Cluster1         Ball-Tree               4   86\n",
       "68  0.008802  Cluster1  Brute-Force-Tree               4   86\n",
       "69  0.012591  Cluster1           KD-Tree              16   86\n",
       "70  0.012899  Cluster1         Ball-Tree              16   86\n",
       "71  0.034928  Cluster1  Brute-Force-Tree              16   86\n",
       "\n",
       "[72 rows x 5 columns]"
      ]
     },
     "metadata": {},
     "output_type": "display_data"
    }
   ],
   "source": [
    "datasets = load_data()\n",
    "norm_datasets = normalize(datasets)\n",
    "results = measure_time(norm_datasets, limit=17)\n",
    "results"
   ]
  },
  {
   "cell_type": "code",
   "execution_count": null,
   "id": "a1a17241",
   "metadata": {},
   "outputs": [
    {
     "data": {
      "image/png": "[encoded data removed]",
      "text/plain": [
       "<Figure size 432x288 with 1 Axes>"
      ]
     },
     "metadata": {},
     "output_type": "display_data"
    }
   ],
   "source": [
    "visualize_bar_plot(results, ['Cluster1']);"
   ]
  },
  {
   "cell_type": "code",
   "execution_count": null,
   "id": "b6c2542a",
   "metadata": {},
   "outputs": [
    {
     "data": {
      "image/png": "[encoded data removed]",
      "text/plain": [
       "<Figure size 432x288 with 1 Axes>"
      ]
     },
     "metadata": {},
     "output_type": "display_data"
    }
   ],
   "source": [
    "visualize_box_plot(results,['Cluster1']);"
   ]
  },
  {
   "cell_type": "markdown",
   "id": "ba271710",
   "metadata": {},
   "source": [
    "#### Cluster1\n",
    "\n",
    "Im Balkendiagramm wird beaobachtet das Brute-Force bei steigender NN-Anfrage eine schlechtere Laufzeit im Vergleich zu KD-Tree und Ball-Tree hat. Die Laufzeit von KD-Tree und Ball-Tree ist in allen NN-ANfragen identisch.\n",
    "\n",
    "Auch am Boxplot wird gut erkannt, dass die Laufzeit von  Brute Force im Vergleichzu KD-Tree und Ball-Tree schlechter abschneidet. Außerdem ist die Query Anfrage von 16 als Außreiser zu erkennen, dies sagt aus das die Dauer der Laufzeit bei einer Query Anfrage von 16 im vergeleich zu den anderen Anfragen ernorm steigt. "
   ]
  },
  {
   "cell_type": "code",
   "execution_count": null,
   "id": "db5279e2",
   "metadata": {},
   "outputs": [
    {
     "data": {
      "image/png": "[encoded data removed]",
      "text/plain": [
       "<Figure size 432x288 with 1 Axes>"
      ]
     },
     "metadata": {},
     "output_type": "display_data"
    }
   ],
   "source": [
    "visualize_bar_plot(results, ['Clusters of different density']);"
   ]
  },
  {
   "cell_type": "code",
   "execution_count": null,
   "id": "8049d6c6",
   "metadata": {},
   "outputs": [
    {
     "data": {
      "image/png": "[encoded data removed]",
      "text/plain": [
       "<Figure size 432x288 with 1 Axes>"
      ]
     },
     "metadata": {},
     "output_type": "display_data"
    }
   ],
   "source": [
    "visualize_box_plot(results,['Clusters of different density']);"
   ]
  },
  {
   "cell_type": "markdown",
   "id": "9c284c99",
   "metadata": {},
   "source": [
    "#### Clusters of different density\n",
    "\n",
    "Das Balkendiagramm zeigt, dass steigende NN-Anfragen die Laufzeit von Brute-Force im Vergleich zu KD-Tree und Ball-Tree deutlich mehr beeinflusst. Die Laufzeit wird von Brute-Force langsamer. Der Verlauf der BAlken von KD-Tree und Ball-Tree gleich.\n",
    "\n",
    "Die Laufzeit von KD-Tre und Ball-Tree ist im Vergleich zu Brute-Force eindeutig kürzer(siehe Boxplot).Die Außreiser im Boxplot ist die Dauer bei einer Query-Anfrage von 16. Dadurch ist auch die Differenz von den 16 NN-Anfragen zu den andere NN-Abfragen zu erkennen. "
   ]
  },
  {
   "cell_type": "markdown",
   "id": "dec50237",
   "metadata": {},
   "source": [
    "---"
   ]
  },
  {
   "cell_type": "markdown",
   "id": "67b9bd95",
   "metadata": {},
   "source": [
    "### Aufgabe 5: Interpretation und Diskussion der Ergebnisse\n",
    "\n",
    "Interpretieren und diskutieren Sie die Ergebnisse Ihres Experiments in Ihrer Gruppe.\n",
    "\n",
    "Einige Tipps / Fragestellungen hierzu:\n",
    "-   Entsprechen die Ergebnisse Ihren Erwartungen aus den Vorüberlegungen? Wenn nicht, worin bestehen Abweichungen?\n",
    "-   Wurde Ihre anfängliche Hypothese bestätigt oder falsifiziert?\n",
    "-   Vergleichen Sie Ihre Ergebnisse und Interpretationen mit den Aussagen im sklearn-User Guide. Sind Sie zu denselben Ergebnissen gekommen? Falls nein, wieso nicht?\n",
    "-   Wo liegen (im Rückblick betrachtet) ggf. Schwächen in Ihrem Versuchsaufbau?\n",
    "-   Was hätten Sie im Nachhinein (oder bei mehr Zeit) anders gemacht? "
   ]
  },
  {
   "cell_type": "markdown",
   "id": "f8b9fe4c",
   "metadata": {},
   "source": [
    "- **Erwartungen und die Realität**<br>\n",
    "Bei den Datensätzen 'Cluster9.txt', 'Cluster1.txt', 'Arbitrary Shaped Cluster.csv', 'Clusters of different density.txt' wurden die Erwartungen erfüllt.<br>\n",
    "Die Differenz der Laufzeit von dem Brute-Force-Algorithmus und dem KD-Tree bzw. Ball-Tree ist also immer weiter angestiegen, je mehr NN-Anfragen ausgeführt wurden.<br>\n",
    "<br>\n",
    "Jedoch bei den Datensätze 'Hierarchical Clusters.txt' und 'spiral.csv' sind andere Ergebnisse als erwartet eingetroffen.<br>\n",
    "Bei dem spiral.csv Datensatz waren die Laufzeiten sehr nah beieinander und die Differenz der Laufzeiten hat sich kaum geändert. Der Brute-Force-Algorithmus war sogar bei 1, 2 und 4 NN-Anfragen der schnellste Algorithmus.<br>\n",
    "Noch etwas mehr überraschte uns das Ergebnis von dem 'Hierarchical Clusters.txt'-Datensatz. Hier ist der Ball-Tree bei allen 4 Anfragen der langsamste Algorithmus und spricht damit klar gegen unsere Hypothese, dass die Datenstruktur keine Rolle spielt.<br>\n",
    "<br>\n",
    "Fazit: <br>\n",
    "Unsere Hypothese wurde von allen Datensätzen bis auf 2 verifiziert. Die Datensätze 'Hierarchical Clusters.txt' und 'spiral.csv' haben jedoch die Hyptohese widerlegt. Fraglich ist nun inwieweit die Hypothese falsch bzw. richtig ist.<br>\n",
    "<br>\n",
    "- **Interpretation und Vermutungen**<br>\n",
    "Der KD-Tree und der Ball-Tree können nicht gut mit komplexen (willkürlichen) Datenstrukturen umgehen und daher vermuten wir, dass bei dem 'spiral.csv'-Datensatz durch die Kombination aus der komplexen Datenstruktur und der unterschiedlichen Dichten die ähnliche Laufzeit zu dem Brute-Force-Algorithmus entsteht.<br>\n",
    "Bei dem 'Hierarchical Clusters'-Datensatz könnte das Rauschen für das schlechtere Abschneiden von dem Ball-Tree verantwortlich sein, was jedoch geprüft werden muss.<br>\n",
    "Eine weitere These wäre es, dass der Ball-Tree schlechter mit hierarchischen Datenstrukturen umgehen kann, da dies der einzige Datensatz mit hierarchischen Datenstrukturen ist.<br>\n",
    "<br>\n",
    "- **Weitere Forschungen**<br>\n",
    "Um die Vermutung verifizieren/falsifizieren zu können, könnten wir das Rauschen aus den Daten entfernen und das Experiment so erneut durchführen.<br>\n",
    "Zudem könnten wir einen neuen/weiteren hierarchischer Datensatz um die andere Vermutung der Performance vom Ball-Tree im Bezug auf hierarchische Daten überprüfen zu können.<br>\n",
    "Als abschließender Punkt, könnten wir einen neuen/weiteren Datensatz mit komplexer Datenstruktur und unterschiedlicher Dichte der Datenpunkte zur Überprüfung der These, dass der KD-Tree und der Ball-Tree schlecht mit Daten, welche willkürlich sind und eine unterschiedliche Dichte besitzen, umgehen kann.\n",
    "<br>\n",
    "<br>\n",
    "- **Verbesserungsgedanken**<br>\n",
    "Zum Einen sollte das Ausführen des Experiments auch nur für 1 oder 2 Datensätze möglich sein, um Zeit sparen zu können (wurde nun nachgereicht). Wir hatten es zunächst anders implementiert gehabt, sodass immer alle Datensätze gemessen wurden.<br>\n",
    "Des Weiteren war uns die objektive Beschreibung des Experimentes noch schwer gefallen und könnte noch optimiert werden. Es fühlte sich oftmals offensichtlich und stumpf an. Andererseits war es Teils schwer die Aussagen/Formluierungen so zu wählen, dass es sich wirklich um Fakten handelt.<br>\n",
    "Als vorletzten Punkt wäre da noch die Laufzeit bzw. die Anzahl der Query-Anfragen zu nennen. Gerne hätten wir mehr Query-Anfragen testen wollen, aber die Laufzeit war einfach zu lange. Abhilfe könnte hierbei ein Server bringen (beispielsweise über Replit -> ein sehr nettes Web-Tool). Die Plots müsste man dann noch normalisieren, da man sonst wahrscheinlich nicht viel sehen könnte. Und generell wäre ein normalisierter Plot intelligent gewesen, da es ja um die Verhältnisse zwischen den Algorithmen ging. Das würden wir nächstes mal auch besser machen.<br>\n",
    "Als letzten Punkt der Verbeserungen ist uns das Messen des Experimetes an sich eingefallen. Denn hierbei ist sehr schwierig alle relevanten Fälle zu untersuchen und die Unterscheidung zu anderen (für die Untersuchung unwichtigen) Einflüssen nicht im Experiment zu haben. Wir haben dies versucht zu beachten, aber sind uns einig, dass so etwas aber schnell passieren kann und wir unsere Gedanken mehr darauf schärfen müssen."
   ]
  },
  {
   "cell_type": "markdown",
   "id": "c369d115",
   "metadata": {},
   "source": [
    "---\n",
    "Datenplottung um Ursache herauszufinden. Die beiden oberen Plotts haben uns überracht und die beiden unteren Plots haben den Erwartungen entsprochen. Wir haben die ähnlichen übereinander gestellt um sie vergleichen zu können. Denn links geht es um die Dichte und rechts um die Willkürlichkeit der Datenpunkte."
   ]
  },
  {
   "cell_type": "code",
   "execution_count": 111,
   "id": "5bc988d1",
   "metadata": {},
   "outputs": [
    {
     "data": {
      "text/plain": [
       "<matplotlib.collections.PathCollection at 0x1c02b8b0f70>"
      ]
     },
     "execution_count": 111,
     "metadata": {},
     "output_type": "execute_result"
    },
    {
     "data": {
      "image/png": "[encoded data removed]",
      "text/plain": [
       "<Figure size 1440x1152 with 4 Axes>"
      ]
     },
     "metadata": {},
     "output_type": "display_data"
    }
   ],
   "source": [
    "data = normalize(load_data())\n",
    "\n",
    "fig, ax = plt.subplots(2, 2, figsize=(20, 16))\n",
    "ax[0,0].scatter(data['Hierarchical Clusters'][0], data['Hierarchical Clusters'][1])\n",
    "ax[0,1].scatter(data['spiral']['x'], data['spiral']['y'])\n",
    "ax[1,0].scatter(data['Clusters of different density'][0], data['Clusters of different density'][1])\n",
    "ax[1,1].scatter(data['Arbitrary Shaped Clusters'][0], data['Arbitrary Shaped Clusters'][1])"
   ]
  }
 ],
 "metadata": {
  "kernelspec": {
   "display_name": "Python 3 (ipykernel)",
   "language": "python",
   "name": "python3"
  },
  "language_info": {
   "codemirror_mode": {
    "name": "ipython",
    "version": 3
   },
   "file_extension": ".py",
   "mimetype": "text/x-python",
   "name": "python",
   "nbconvert_exporter": "python",
   "pygments_lexer": "ipython3",
   "version": "3.9.1"
  }
 },
 "nbformat": 4,
 "nbformat_minor": 5
}
