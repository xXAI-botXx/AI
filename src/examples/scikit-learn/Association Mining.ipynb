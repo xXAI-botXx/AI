{
 "cells": [
  {
   "cell_type": "markdown",
   "id": "083543ca",
   "metadata": {},
   "source": [
    "# Association Mining\n",
    "--------------------"
   ]
  },
  {
   "cell_type": "markdown",
   "id": "72d20263",
   "metadata": {},
   "source": [
    "### Aufgabe 1: Filmempfehlungen (20 Punkte)\n",
    "\n",
    "Im Ordner \"data\" finden Sie einen Datensatz, der für mehr als 9000 Zuschauer eine Liste mit TV-Sendungen enthält, die sie angeschaut haben. Nutzen Sie diesen Datensatz, um ein Empfehlungssystem zu entwickeln, das gegeben eine TV-Sendung, die ein Nutzer angeschaut hat, weitere Sendungen vorschlägt, die dem Nutzer ebenfalls gefallen könnten. Basieren Sie Ihre Empfehlung dabei auf dem gegebenen Datensatz (d.h. die Empfehlung sollte im Stil \"Zuschauer der Sendung XY schauten auch...\" sein).\n",
    "\n",
    "Nutzen Sie Ihr Empfehlungssystem um eine Empfehlung für Nutzer zu generieren, die die Sendung \"Mr. Robot\" geschaut haben.\n",
    "\n",
    "Hinweise: \n",
    "* Verwenden Sie als ML-Verfahren Association Mining, um zu den Empfehlungen zu kommen.\n",
    "* Überlegen Sie sich zunächst, welche Teilschritte vorgenommen werden müssen und notieren Sie diese schriftlich. \n",
    "* Verwenden Sie für die technische Umsetzung die Library [``mlxtend``: ](http://rasbt.github.io/mlxtend/)\n",
    "* ``mlxtend`` erwartet eine Liste, die keine nan-Werte enthält. Um Ihnen einige Vorverarbeitungsschritte zu ersparen, finden Sie unten einige Zellen mit Code, die die Daten einlesen und ins richtige Format bringen.\n",
    "* Überlegen Sie sich sinnvolle Parameter-, bzw Schwellwerte für die Anwendung von Association Mining in diesem Kontext und begründen Sie Ihre Wahl.\n",
    "* Es ist nicht erforderlich eine GUI oder ähnliches zu entwickeln, sondern es reicht, wenn in Ihrem Notebook eine Eingabemöglichkeit für einen Filmtitel gegeben ist. \n",
    "\n",
    "\n"
   ]
  },
  {
   "cell_type": "markdown",
   "id": "0df56caf",
   "metadata": {},
   "source": [
    "####  Teilaufgabe a) Erforderliche Teilschritte (4 Punkte)"
   ]
  },
  {
   "cell_type": "markdown",
   "id": "736737f3",
   "metadata": {},
   "source": [
    "- Kandidaten-Generierung (Apriori-Algorithmus) (mit Hash-Tree)\n",
    "- starke Regeln generieren -> pruning/Aprior \n",
    "- Ausgeben lassen, welche Produkte ebenfalls oft geschaut wurden\n",
    "<br>\n",
    "<br>\n",
    "-> Hyperparameter: minSupport (50), minKonfidenz(50), Messungsart der Interessantheit(normale Konfidenz) -> erstmal mit standartwerten -> empirisch testen\n",
    "<br>\n",
    "-> Evtl. auf FP-Tree anstatt Kandidaten generierung umsteigen<br>\n",
    "<br>\n",
    "**Weitere benötigte Elemente:**<br>\n",
    "- User-Eingabe\n",
    "- Laden der Daten + Transformieren/in richtige Form bringen\n",
    "- Produkt überprüfung -> existiert Produkt (?)\n",
    "- Ähnlichkeitsausgabe / Ausgabe des Ergebnisses"
   ]
  },
  {
   "cell_type": "markdown",
   "id": "a645b871",
   "metadata": {},
   "source": [
    "#### Teilaufgabe b) Ihre Implementierung (13 Punkte)"
   ]
  },
  {
   "cell_type": "code",
   "execution_count": 1,
   "id": "8e7cc569",
   "metadata": {},
   "outputs": [],
   "source": [
    "import pandas as pd\n",
    "import numpy as np\n",
    "\n",
    "# Usage of the mlxtend module\n",
    "from mlxtend.frequent_patterns import apriori, association_rules, fpgrowth\n",
    "from mlxtend.preprocessing import TransactionEncoder"
   ]
  },
  {
   "cell_type": "markdown",
   "id": "e40ed48e",
   "metadata": {},
   "source": [
    "Ähnliche Produkte finden (welche ander Personen auch angesehen habe):"
   ]
  },
  {
   "cell_type": "code",
   "execution_count": 2,
   "id": "cafb1d6a",
   "metadata": {},
   "outputs": [],
   "source": [
    "# Get proposals for film/series X\n",
    "#     -> Persons who watched X watched Y too\n",
    "def get_proposals(name:str) -> str:\n",
    "    # Input Film/Serie to lowercase -> Film/Series titles going to be all lowercase -> for that a demand will be more uncomplicated\n",
    "    name = name.lower()\n",
    "\n",
    "    # Load data\n",
    "    movies = pd.read_csv(\"./data/TV Shows - Association Rule Learning.csv\", header = None)\n",
    "    movies.head()\n",
    "\n",
    "    # Remove nan values from list\n",
    "    movies2 = []\n",
    "    for label, row in movies.iterrows(): \n",
    "        line = [item for item in row if not(pd.isna(item))] \n",
    "        movies2.append(line)\n",
    "\n",
    "    # One Hot Encoding -> Every Film/Series going to be a Feature with True/False\n",
    "    encoder = TransactionEncoder().fit(movies2)\n",
    "    prepared_data = encoder.transform(movies2)\n",
    "    # We need the data as DataFrame + lowercase\n",
    "    original_column_names = encoder.columns_\n",
    "    column_names = list(map(lambda x:x.lower(), encoder.columns_))\n",
    "    prepared_data = pd.DataFrame(prepared_data, columns=column_names)\n",
    "\n",
    "    # create the candidates with apriori-algorithm\n",
    "    candidates = apriori(prepared_data, min_support=0.02, use_colnames=True)\n",
    "\n",
    "    # generate strong rules (Persons who watch X watch Y)\n",
    "    rules = association_rules(candidates, metric='confidence', min_threshold=0.05, support_only=False)\n",
    "\n",
    "    # get all proposals of the film/series\n",
    "    proposals = set()\n",
    "    for proposal in rules[rules['antecedents'] == {name}]['consequents']:\n",
    "        for p in proposal:\n",
    "            # get uppercase name:\n",
    "            i = column_names.index(p)\n",
    "            proposals.add(original_column_names[i])    # use the original -> not lower-case names\n",
    "    return proposals"
   ]
  },
  {
   "cell_type": "code",
   "execution_count": 12,
   "id": "6b9a7d1f",
   "metadata": {},
   "outputs": [],
   "source": [
    "def proposal_console(name=None):\n",
    "    # 2 Modi -> interactive or 1 Film/serie\n",
    "    #     -> given argument declares which mode is used\n",
    "    #                 argument = None     => interactive mode\n",
    "    #                 argument = Filmname => single mode\n",
    "\n",
    "    # Start interactive Console -> if no filmaname is given\n",
    "    if name == None:\n",
    "        # while not type exit or x\n",
    "        while True:\n",
    "            print(\"\\n(Type exit or x for exit)\\n\")\n",
    "            user_input = input(\"Film or Series:\")\n",
    "            if user_input == 'exit' or user_input == 'x':\n",
    "                print('Thank you for using the Proposal Console. See you next time.')\n",
    "                break\n",
    "            # get products, which watched by people who watched the input product\n",
    "            result = get_proposals(user_input)\n",
    "            # is there a result for this film/series\n",
    "            if len(result) > 0:\n",
    "                result_txt = ''\n",
    "                for entry in result:\n",
    "                    result_txt += f\"'{entry}', \"\n",
    "                result_txt = result_txt[:-2] + \".\"\n",
    "                print(f\"Persons who watched '{user_input}' also watched {result_txt}\")\n",
    "            else:\n",
    "                print(f\"There are no proposals for the film/series '{user_input}'.\\nMake sure the Film/Series exist and is written right.\")\n",
    "                print(\"For exit the console write 'exit' or 'x'\")\n",
    "    # Start one Proposal -> no interactive console\n",
    "    else:\n",
    "        # get products, which watched by people who watched the input product\n",
    "        result = get_proposals(name)\n",
    "        # is there a result for this film/series\n",
    "        if len(result) > 0:\n",
    "            result_txt = ''\n",
    "            for entry in result:\n",
    "                result_txt += f\"'{entry}', \"\n",
    "            result_txt = result_txt[:-2] + \".\"\n",
    "            print(f\"Persons who watched '{name}' also watched {result_txt}\")\n",
    "        else:\n",
    "            print(f\"There are no proposals for the film/series '{name}'.\\nMake sure the Film/Series exist and is written right.\")\n"
   ]
  },
  {
   "cell_type": "code",
   "execution_count": 13,
   "id": "b858d8b5",
   "metadata": {},
   "outputs": [
    {
     "name": "stdout",
     "output_type": "stream",
     "text": [
      "\n",
      "(Type exit or x for exit)\n",
      "\n",
      "Persons who watched 'Mr. Robot' also watched 'Two and a half men', 'The Blacklist', 'Ozark', 'Atypical', 'Sex Education'.\n",
      "\n",
      "(Type exit or x for exit)\n",
      "\n",
      "There are no proposals for the film/series 'sdfdsf'.\n",
      " Make sure the Film/Series exist and is written right.\n",
      "For exit the console write 'exit' or 'x'\n",
      "\n",
      "(Type exit or x for exit)\n",
      "\n",
      "Thank you for using the Proposal Console. See you next time.\n"
     ]
    }
   ],
   "source": [
    "proposal_console()"
   ]
  },
  {
   "cell_type": "code",
   "execution_count": 14,
   "id": "065933de",
   "metadata": {},
   "outputs": [
    {
     "name": "stdout",
     "output_type": "stream",
     "text": [
      "Persons who watched 'Two and a half Men' also watched 'Stranger Things', 'The Walking Dead', 'Daredevil', 'The Blacklist', 'Ozark', 'Atypical', 'Mr. Robot', 'Sex Education', 'Outer Banks'.\n"
     ]
    }
   ],
   "source": [
    "proposal_console('Two and a half Men')"
   ]
  },
  {
   "cell_type": "code",
   "execution_count": 17,
   "id": "ad2badd7",
   "metadata": {},
   "outputs": [
    {
     "name": "stdout",
     "output_type": "stream",
     "text": [
      "There are no proposals for the film/series 'NoFilm'.\n",
      " Make sure the Film/Series exist and is written right.\n"
     ]
    }
   ],
   "source": [
    "proposal_console('NoFilm')"
   ]
  },
  {
   "cell_type": "markdown",
   "id": "770cb167",
   "metadata": {},
   "source": [
    "#### Teilaufgabe c) Begründung zur Wahl der Parameter / Schwellwerte (2 Punkte)"
   ]
  },
  {
   "cell_type": "markdown",
   "id": "f9936827",
   "metadata": {},
   "source": [
    "Die Parameter minSamples und minConfidence wurden recht klein gewählt, wegen der Domaine.<br>\n",
    "Viele Filme und Serien werden von Menschen angeschaut, welche nicht unbedingt Fan von ähnlichen Filmen/Serien sind. Dies könnte an der Popularität der Serie/Film oder auch an der besonders guten Qualität bzw. Originalität der Serie/Film liegen. Damit muss man die minSamples sowie die minConfi geringer Einstellen. \n",
    "<br>In anderen Worten: Es kommt also häufiger vor, dass Person X Film Y schaut, obwohl ihn keine Thriller interessieren und Person X sich danach keine weiteren Thriller Filme ansieht.<br>\n",
    "<br>\n",
    "Die Bewertungsart wurde auf dem standart 'Confidence' gelassen und dafür gibt es auch keinen sehr tiefgehenden Grund. Eigene empirische Versuche konnten gute Ergebnisse liefern und da es damit keine Mängel oder Lösungsbdarf gab, wurde dieser Parameter endgültig so eingestellt."
   ]
  },
  {
   "cell_type": "markdown",
   "id": "b4119dae",
   "metadata": {},
   "source": [
    "#### Teilaufgabe d) Wenden Sie nun Ihr System an, um eine Empfehlung zu generieren für Nutzer, die die Sendung \"Mr. Robot\" geschaut haben (1 Punkt)"
   ]
  },
  {
   "cell_type": "code",
   "execution_count": 15,
   "id": "ea9346e5",
   "metadata": {},
   "outputs": [
    {
     "name": "stdout",
     "output_type": "stream",
     "text": [
      "Persons who watched 'Mr. Robot' also watched 'Two and a half men', 'The Blacklist', 'Ozark', 'Atypical', 'Sex Education'.\n"
     ]
    }
   ],
   "source": [
    "proposal_console('Mr. Robot')"
   ]
  },
  {
   "cell_type": "code",
   "execution_count": 16,
   "id": "65353fba",
   "metadata": {},
   "outputs": [
    {
     "name": "stdout",
     "output_type": "stream",
     "text": [
      "Persons who watched 'mr. robot' also watched 'Two and a half men', 'The Blacklist', 'Ozark', 'Atypical', 'Sex Education'.\n"
     ]
    }
   ],
   "source": [
    "proposal_console('mr. robot')"
   ]
  },
  {
   "cell_type": "markdown",
   "id": "7ade2e41",
   "metadata": {},
   "source": [
    "#### Optional GUI-Version of Proposal:"
   ]
  },
  {
   "cell_type": "code",
   "execution_count": 7,
   "id": "77a42016",
   "metadata": {},
   "outputs": [],
   "source": [
    "import tkinter as tk\n",
    "from tkinter import ttk\n",
    "\n",
    "def search_button_event(name:str, output_var, root):\n",
    "    result = get_proposals(name)\n",
    "    if len(result) > 0:\n",
    "        result_txt = ''\n",
    "        for entry in result:\n",
    "            result_txt += f\"'{entry}', \"\n",
    "        result_txt = result_txt[:-2] + \".\"\n",
    "        output = f\"Persons who watched '{name}' also watched {result_txt}\"\n",
    "    else:\n",
    "        output = f\"There are no proposals for the film/series '{name}'.\\nMake sure the Film/Series exist and is written right.\"\n",
    "    output_var.set(f\"Output:\\n{output}\")\n",
    "    update_size(root)\n",
    "\n",
    "def update_size(root):\n",
    "    root.minsize(0, 0)\n",
    "    width = root.winfo_width()\n",
    "    height = root.winfo_height()\n",
    "    root.geometry('')\n",
    "    root.update()\n",
    "    root.minsize(root.winfo_width(), root.winfo_height())\n",
    "    root.geometry(f\"{width}x{height}\")\n",
    "\n",
    "root = tk.Tk()\n",
    "root.title(\"Watch Proposal\")\n",
    "root.geometry(\"600x400\")\n",
    "#root.minsize(400, 200)\n",
    "\n",
    "main_window = ttk.Frame(root)\n",
    "main_window.pack(expand=True, fill='both')\n",
    "\n",
    "input_label = ttk.Label(main_window, text=\"User-Input:\")\n",
    "input_label.grid(row=1, column=1, sticky=\"nswe\", pady=10, padx=20)\n",
    "\n",
    "user_input = tk.StringVar()\n",
    "input_entry = ttk.Entry(main_window, textvariable=user_input)\n",
    "input_entry.grid(row=1, column=2, sticky=\"we\", pady=10, padx=20)\n",
    "\n",
    "output_var = tk.StringVar()\n",
    "output_var.set(\"Output:\")\n",
    "output_label = ttk.Label(main_window, textvariable=output_var, borderwidth=2)\n",
    "output_label.grid(row=3, rowspan=2, column=1, columnspan=2, sticky=\"nswe\", pady=10, padx=20)\n",
    "\n",
    "search_button = ttk.Button(main_window, text=\"search\", command=lambda: search_button_event(user_input.get(), output_var, root), takefocus=0)\n",
    "search_button.grid(row=2, column=1, columnspan=2, sticky=\"nswe\", ipady=10, padx=20)\n",
    "\n",
    "# set weights for resizable\n",
    "for i in range(6):\n",
    "    main_window.grid_rowconfigure(i, weight=1)\n",
    "for i in range(4):\n",
    "    main_window.grid_columnconfigure(i, weight=1)\n",
    "\n",
    "update_size(root)\n",
    "root.geometry(\"600x400\")\n",
    "root.mainloop()"
   ]
  }
 ],
 "metadata": {
  "kernelspec": {
   "display_name": "Python 3 (ipykernel)",
   "language": "python",
   "name": "python3"
  },
  "language_info": {
   "codemirror_mode": {
    "name": "ipython",
    "version": 3
   },
   "file_extension": ".py",
   "mimetype": "text/x-python",
   "name": "python",
   "nbconvert_exporter": "python",
   "pygments_lexer": "ipython3",
   "version": "3.9.1"
  }
 },
 "nbformat": 4,
 "nbformat_minor": 5
}
