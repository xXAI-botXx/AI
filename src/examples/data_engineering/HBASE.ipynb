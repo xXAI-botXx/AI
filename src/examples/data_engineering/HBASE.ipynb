{
  "cells": [
    {
      "cell_type": "markdown",
      "metadata": {
        "id": "W9P6Eg94IV50"
      },
      "source": [
        "# HBASE\n",
        "We use the *HappyBase* lib: https://happybase.readthedocs.io/en/latest/installation.html"
      ]
    },
    {
      "cell_type": "code",
      "execution_count": 1,
      "metadata": {
        "id": "aT5JaI29IV58",
        "outputId": "50b9d2cf-2ec7-4372-bd3c-cd33d2bae843",
        "colab": {
          "base_uri": "https://localhost:8080/"
        }
      },
      "outputs": [
        {
          "output_type": "stream",
          "name": "stdout",
          "text": [
            "Collecting happybase\n",
            "  Downloading happybase-1.2.0.tar.gz (40 kB)\n",
            "\u001b[K     |████████████████████████████████| 40 kB 5.0 MB/s \n",
            "\u001b[?25hRequirement already satisfied: six in /usr/local/lib/python3.7/dist-packages (from happybase) (1.15.0)\n",
            "Collecting thriftpy2>=0.4\n",
            "  Downloading thriftpy2-0.4.14.tar.gz (361 kB)\n",
            "\u001b[K     |████████████████████████████████| 361 kB 42.7 MB/s \n",
            "\u001b[?25hCollecting ply<4.0,>=3.4\n",
            "  Downloading ply-3.11-py2.py3-none-any.whl (49 kB)\n",
            "\u001b[K     |████████████████████████████████| 49 kB 4.4 MB/s \n",
            "\u001b[?25hBuilding wheels for collected packages: happybase, thriftpy2\n",
            "  Building wheel for happybase (setup.py) ... \u001b[?25l\u001b[?25hdone\n",
            "  Created wheel for happybase: filename=happybase-1.2.0-py2.py3-none-any.whl size=26623 sha256=7b85bd2915854dcde290246033a033c35985c0f03d17ca38c5d8c22d9d318d2f\n",
            "  Stored in directory: /root/.cache/pip/wheels/66/63/48/437f79a3724a4a529830f87d766a7d34228d623e845de2c321\n",
            "  Building wheel for thriftpy2 (setup.py) ... \u001b[?25l\u001b[?25hdone\n",
            "  Created wheel for thriftpy2: filename=thriftpy2-0.4.14-cp37-cp37m-linux_x86_64.whl size=944435 sha256=e40d9b6c86eac27738d10c5be59f17187d58655678b2203051b0f5780990e32b\n",
            "  Stored in directory: /root/.cache/pip/wheels/2a/f5/49/9c0d851aa64b58db72883cf9393cc824d536bdf13f5c83cff4\n",
            "Successfully built happybase thriftpy2\n",
            "Installing collected packages: ply, thriftpy2, happybase\n",
            "Successfully installed happybase-1.2.0 ply-3.11 thriftpy2-0.4.14\n"
          ]
        }
      ],
      "source": [
        "! pip install happybase"
      ]
    },
    {
      "cell_type": "code",
      "execution_count": 2,
      "metadata": {
        "id": "ozEXPj6JIV6A"
      },
      "outputs": [],
      "source": [
        "# imports\n",
        "import happybase as happy"
      ]
    },
    {
      "cell_type": "code",
      "execution_count": 57,
      "metadata": {
        "id": "8tTCd6QyIV6B"
      },
      "outputs": [],
      "source": [
        "# try to connect\n",
        "#server=\"ec2-54-155-223-96.eu-west-1.compute.amazonaws.com\" #need to change this for every lab-session\n",
        "server = \"ec2-34-244-158-251.eu-west-1.compute.amazonaws.com\"\n",
        "connection = happy.Connection(server)"
      ]
    },
    {
      "cell_type": "code",
      "execution_count": 5,
      "metadata": {
        "id": "Evx_ZUXPIV6C",
        "outputId": "e316aabd-1e46-456d-9fa3-de560925604f",
        "colab": {
          "base_uri": "https://localhost:8080/"
        }
      },
      "outputs": [
        {
          "output_type": "stream",
          "name": "stdout",
          "text": [
            "[]\n"
          ]
        }
      ],
      "source": [
        "print(connection.tables())"
      ]
    },
    {
      "cell_type": "code",
      "execution_count": null,
      "metadata": {
        "id": "PtyKqJgJIV6D"
      },
      "outputs": [],
      "source": [
        "#connect to a table\n",
        "table = connection.table('mytable')"
      ]
    },
    {
      "cell_type": "code",
      "execution_count": null,
      "metadata": {
        "id": "MZgfkFi3IV6E",
        "outputId": "b2d7a7d2-ab73-4619-8c6c-3800e328658c",
        "colab": {
          "base_uri": "https://localhost:8080/"
        }
      },
      "outputs": [
        {
          "output_type": "execute_result",
          "data": {
            "text/plain": [
              "{b'cf': {'block_cache_enabled': False,\n",
              "  'bloom_filter_nb_hashes': 0,\n",
              "  'bloom_filter_type': b'NONE',\n",
              "  'bloom_filter_vector_size': 0,\n",
              "  'compression': b'NONE',\n",
              "  'in_memory': False,\n",
              "  'max_versions': 3,\n",
              "  'name': b'cf:',\n",
              "  'time_to_live': 2147483647}}"
            ]
          },
          "metadata": {},
          "execution_count": 11
        }
      ],
      "source": [
        "#see column families\n",
        "table.families()"
      ]
    },
    {
      "cell_type": "code",
      "execution_count": null,
      "metadata": {
        "id": "nlC3npCIIV6G"
      },
      "outputs": [],
      "source": [
        "#read table\n",
        "res = table.scan()"
      ]
    },
    {
      "cell_type": "code",
      "execution_count": null,
      "metadata": {
        "id": "fvZPdS6PIV6H"
      },
      "outputs": [],
      "source": [
        "for key,row in res:\n",
        "    print(key,row)"
      ]
    },
    {
      "cell_type": "markdown",
      "metadata": {
        "id": "LPj3cY8bIV6J"
      },
      "source": [
        "# Ex 1\n",
        "Employee data in HBASE.\n",
        "* create a new table to hold the employee data -> use a distinct name, like ``user_id_employees``\n",
        "* How would you create the column families?\n",
        "* read data from ``employees.csv`` and put it into the table\n",
        "* use batch-processing to enter more than one entry per transaction\n",
        "* alter some entries of the table with ``timestamps``\n",
        "* perform some sample scans for the latest entries"
      ]
    },
    {
      "cell_type": "markdown",
      "source": [
        "https://happybase.readthedocs.io/en/latest/"
      ],
      "metadata": {
        "id": "WMsxVGbCFCXD"
      }
    },
    {
      "cell_type": "code",
      "source": [
        "table = connection.create_table('342567_employees', {\"second\":dict(), \"main\":dict()})"
      ],
      "metadata": {
        "id": "z84A7qu1Ez2i"
      },
      "execution_count": 12,
      "outputs": []
    },
    {
      "cell_type": "code",
      "execution_count": 58,
      "metadata": {
        "id": "lpQMIdWDIV6K"
      },
      "outputs": [],
      "source": [
        "table = connection.table('342567_employees')"
      ]
    },
    {
      "cell_type": "markdown",
      "source": [
        "2: Es müssten neue Daten mit dem jeweiligen Column name als Key erstellen"
      ],
      "metadata": {
        "id": "Oj2F8cFNDQSc"
      }
    },
    {
      "cell_type": "code",
      "source": [
        "table.families()"
      ],
      "metadata": {
        "colab": {
          "base_uri": "https://localhost:8080/"
        },
        "id": "0STgaw2CJCrr",
        "outputId": "fc828581-b180-4225-8a21-011eba9b9c79"
      },
      "execution_count": 24,
      "outputs": [
        {
          "output_type": "execute_result",
          "data": {
            "text/plain": [
              "{b'main': {'block_cache_enabled': False,\n",
              "  'bloom_filter_nb_hashes': 0,\n",
              "  'bloom_filter_type': b'NONE',\n",
              "  'bloom_filter_vector_size': 0,\n",
              "  'compression': b'NONE',\n",
              "  'in_memory': False,\n",
              "  'max_versions': 3,\n",
              "  'name': b'main:',\n",
              "  'time_to_live': 2147483647},\n",
              " b'second': {'block_cache_enabled': False,\n",
              "  'bloom_filter_nb_hashes': 0,\n",
              "  'bloom_filter_type': b'NONE',\n",
              "  'bloom_filter_vector_size': 0,\n",
              "  'compression': b'NONE',\n",
              "  'in_memory': False,\n",
              "  'max_versions': 3,\n",
              "  'name': b'second:',\n",
              "  'time_to_live': 2147483647}}"
            ]
          },
          "metadata": {},
          "execution_count": 24
        }
      ]
    },
    {
      "cell_type": "code",
      "source": [
        "table.regions()"
      ],
      "metadata": {
        "colab": {
          "base_uri": "https://localhost:8080/"
        },
        "id": "FV5yCjgxJ0cQ",
        "outputId": "e4735727-7d1c-48c9-eeb9-f929ab0cc607"
      },
      "execution_count": 34,
      "outputs": [
        {
          "output_type": "execute_result",
          "data": {
            "text/plain": [
              "[{'end_key': b'',\n",
              "  'id': 1651585014730,\n",
              "  'name': b'342567_employees,,1651585014730.8e251846873ea5112bcfe3e35ee57fff.',\n",
              "  'port': 16020,\n",
              "  'server_name': b'ip-172-31-46-254.eu-west-1.compute.internal',\n",
              "  'start_key': b'',\n",
              "  'version': 1}]"
            ]
          },
          "metadata": {},
          "execution_count": 34
        }
      ]
    },
    {
      "cell_type": "code",
      "source": [
        "table.put('row1', {b'main:family': 'example_name'})"
      ],
      "metadata": {
        "id": "9y31Ym7LB497"
      },
      "execution_count": 41,
      "outputs": []
    },
    {
      "cell_type": "markdown",
      "source": [
        "3. CSV Datei wurde nirgendswo gefunden..."
      ],
      "metadata": {
        "id": "5uzNSjj1LefX"
      }
    },
    {
      "cell_type": "markdown",
      "source": [
        "4."
      ],
      "metadata": {
        "id": "7utSKV1-Ln5p"
      }
    },
    {
      "cell_type": "code",
      "source": [
        "b = table.batch()"
      ],
      "metadata": {
        "id": "wsgo0EJrBFPN"
      },
      "execution_count": 59,
      "outputs": []
    },
    {
      "cell_type": "code",
      "source": [
        "# manipulate\n",
        "# create new column\n",
        "b.put(b'row1', {b'main:family2': 'new_value'})\n",
        "# new entry\n",
        "b.put(b'row2', {b'main:family': 'value'})\n",
        "# ...\n",
        "\n",
        "# now update\n",
        "b.send()\n",
        "\n",
        "# or use with table.batch() -> than no send()"
      ],
      "metadata": {
        "id": "1r3Ks7sQLwxf"
      },
      "execution_count": 60,
      "outputs": []
    },
    {
      "cell_type": "code",
      "source": [
        "list(table.scan())"
      ],
      "metadata": {
        "id": "ieN8Oi-kPPXA",
        "outputId": "25a182bc-6cfa-4458-dcbe-0a8508a6c6bc",
        "colab": {
          "base_uri": "https://localhost:8080/"
        }
      },
      "execution_count": 61,
      "outputs": [
        {
          "output_type": "execute_result",
          "data": {
            "text/plain": [
              "[(b'row1', {b'main:family': b'example_name', b'main:family2': b'new_value'}),\n",
              " (b'row2', {b'main:family': b'value'})]"
            ]
          },
          "metadata": {},
          "execution_count": 61
        }
      ]
    },
    {
      "cell_type": "markdown",
      "source": [
        "5."
      ],
      "metadata": {
        "id": "LdyVKGKVNdhM"
      }
    },
    {
      "cell_type": "code",
      "source": [
        "with table.batch(timestamp=1327658) as b:\n",
        "    b.put(b'row1', {b'main:family3': 'new_value2'})\n",
        "    b.delete(b'row2')"
      ],
      "metadata": {
        "id": "cZVYv68DNDZ9"
      },
      "execution_count": 65,
      "outputs": []
    },
    {
      "cell_type": "markdown",
      "source": [
        "6."
      ],
      "metadata": {
        "id": "Uj1LqZjnOBGM"
      }
    },
    {
      "cell_type": "code",
      "source": [
        "list(table.scan())"
      ],
      "metadata": {
        "id": "jqPdqk2hOB9u",
        "outputId": "a94005c7-0b3f-4da4-fc03-7d08e71eac14",
        "colab": {
          "base_uri": "https://localhost:8080/"
        }
      },
      "execution_count": 66,
      "outputs": [
        {
          "output_type": "execute_result",
          "data": {
            "text/plain": [
              "[(b'row1',\n",
              "  {b'main:family': b'example_name',\n",
              "   b'main:family2': b'new_value',\n",
              "   b'main:family3': b'new_value2'}),\n",
              " (b'row2', {b'main:family': b'value'})]"
            ]
          },
          "metadata": {},
          "execution_count": 66
        }
      ]
    },
    {
      "cell_type": "code",
      "source": [
        "list(table.scan(timestamp=1327658))"
      ],
      "metadata": {
        "id": "n-pxJngqPV1x",
        "outputId": "8b84200f-7fac-4ef4-98e4-7af76258c423",
        "colab": {
          "base_uri": "https://localhost:8080/"
        }
      },
      "execution_count": 67,
      "outputs": [
        {
          "output_type": "execute_result",
          "data": {
            "text/plain": [
              "[]"
            ]
          },
          "metadata": {},
          "execution_count": 67
        }
      ]
    }
  ],
  "metadata": {
    "kernelspec": {
      "display_name": "Python 3",
      "language": "python",
      "name": "python3"
    },
    "language_info": {
      "codemirror_mode": {
        "name": "ipython",
        "version": 3
      },
      "file_extension": ".py",
      "mimetype": "text/x-python",
      "name": "python",
      "nbconvert_exporter": "python",
      "pygments_lexer": "ipython3",
      "version": "3.7.6"
    },
    "colab": {
      "name": "Assignment_HBASE.ipynb",
      "provenance": []
    }
  },
  "nbformat": 4,
  "nbformat_minor": 0
}