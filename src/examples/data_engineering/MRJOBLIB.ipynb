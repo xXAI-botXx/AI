{
  "cells": [
    {
      "cell_type": "markdown",
      "metadata": {
        "id": "8C_Rl1fntcFq"
      },
      "source": [
        "# Hadoop MapReduce with Python\n",
        "There are two prominent *Python* APIs for interfacing *Hadoop MapReduce* clusters:\n",
        "\n",
        "\n",
        "## *MRJOB* for *MapReduce* job execution\n",
        "The ``mrjob`` lib -> [see docu](https://mrjob.readthedocs.io/en/latest/index.html) is a power full *MapReduce* client for *Python*. Some of the key features are:\n",
        "\n",
        "* local emulation (single and multi-core) a *Hadoop* cluster for development and debugging\n",
        "* simple access, authentication and file transfer to *Hadoop* clusters\n",
        "* powerful API for common cloud services, such as AWS or Azure   "
      ]
    },
    {
      "cell_type": "code",
      "source": [
        "!pip install mrjob boto3"
      ],
      "metadata": {
        "id": "xPPxrErRtm6l",
        "outputId": "79fa2703-1e68-4ab6-90e9-3692bcdeb94c",
        "colab": {
          "base_uri": "https://localhost:8080/"
        }
      },
      "execution_count": 18,
      "outputs": [
        {
          "output_type": "stream",
          "name": "stdout",
          "text": [
            "Requirement already satisfied: mrjob in /usr/local/lib/python3.7/dist-packages (0.7.4)\n",
            "Requirement already satisfied: boto3 in /usr/local/lib/python3.7/dist-packages (1.22.3)\n",
            "Requirement already satisfied: PyYAML>=3.10 in /usr/local/lib/python3.7/dist-packages (from mrjob) (3.13)\n",
            "Requirement already satisfied: botocore<1.26.0,>=1.25.3 in /usr/local/lib/python3.7/dist-packages (from boto3) (1.25.3)\n",
            "Requirement already satisfied: s3transfer<0.6.0,>=0.5.0 in /usr/local/lib/python3.7/dist-packages (from boto3) (0.5.2)\n",
            "Requirement already satisfied: jmespath<2.0.0,>=0.7.1 in /usr/local/lib/python3.7/dist-packages (from boto3) (1.0.0)\n",
            "Requirement already satisfied: python-dateutil<3.0.0,>=2.1 in /usr/local/lib/python3.7/dist-packages (from botocore<1.26.0,>=1.25.3->boto3) (2.8.2)\n",
            "Requirement already satisfied: urllib3<1.27,>=1.25.4 in /usr/local/lib/python3.7/dist-packages (from botocore<1.26.0,>=1.25.3->boto3) (1.26.9)\n",
            "Requirement already satisfied: six>=1.5 in /usr/local/lib/python3.7/dist-packages (from python-dateutil<3.0.0,>=2.1->botocore<1.26.0,>=1.25.3->boto3) (1.15.0)\n"
          ]
        }
      ]
    },
    {
      "cell_type": "code",
      "source": [
        "#in colab, we need to clone the data from the repo\n",
        "!git clone https://github.com/keuperj/DATA.git"
      ],
      "metadata": {
        "id": "Ad1M6tBJt2Fl",
        "outputId": "ff4687ac-806b-4f72-f317-f718e0b93d9a",
        "colab": {
          "base_uri": "https://localhost:8080/"
        }
      },
      "execution_count": 19,
      "outputs": [
        {
          "output_type": "stream",
          "name": "stdout",
          "text": [
            "fatal: destination path 'DATA' already exists and is not an empty directory.\n"
          ]
        }
      ]
    },
    {
      "cell_type": "markdown",
      "metadata": {
        "id": "_yu4r_TUtcFx"
      },
      "source": [
        "## Exercise\n",
        "Use  *mrjob*  to  compute  employee  **top  annual  salaries** and  **gross pay** in the *CSV* table ``Baltimore_City_employee_Salaries_FY2014.csv``.\n",
        "\n",
        "* use  ``import csv`` to read the data -> [API docs](https://docs.python.org/3/library/csv.html)\n",
        "* use ``yield`` to return *producers* from *map* and *reduce* functions\n",
        "* return top entries in both categories "
      ]
    },
    {
      "cell_type": "code",
      "execution_count": 20,
      "metadata": {
        "id": "8O2ggd0HtcFy",
        "outputId": "e24806cb-81a2-489f-81d0-e453ebf8dfe0",
        "colab": {
          "base_uri": "https://localhost:8080/"
        }
      },
      "outputs": [
        {
          "output_type": "stream",
          "name": "stdout",
          "text": [
            "Overwriting salaries.py\n"
          ]
        }
      ],
      "source": [
        "%%file salaries.py \n",
        "from mrjob.job import MRJob\n",
        "from mrjob.step import MRStep\n",
        "import csv\n",
        "\n",
        "#column names\n",
        "cols = 'Name,JobTitle,AgencyID,Agency,HireDate,AnnualSalary,GrossPay'.split(',')\n",
        "\n",
        "class salarymax(MRJob):\n",
        "\n",
        "    def mapper(self, _, line):\n",
        "        # Convert each line into a dictionary\n",
        "        row = dict(zip(cols, [ a.strip() for a in next(csv.reader([line]))]))\n",
        "\n",
        "        # Yield the salary\n",
        "        try:\n",
        "            yield 'salary', (float(row['AnnualSalary']), line)\n",
        "        except ValueError:\n",
        "            self.increment_counter('warn', 'missing salary', 1)\n",
        "        \n",
        "        # Yield the gross pay\n",
        "        try:\n",
        "            yield 'gross', (float(row['GrossPay']), line)\n",
        "        except ValueError:\n",
        "            self.increment_counter('warn', 'missing gross', 1)\n",
        "\n",
        "    def reducer(self, key, values):\n",
        "        topten = []\n",
        "\n",
        "        # For 'salary' and 'gross' compute the top 10\n",
        "        for p in values:\n",
        "            topten.append(p)\n",
        "            topten.sort()\n",
        "            topten = topten[-10:]\n",
        "\n",
        "        for p in topten:\n",
        "            yield key, p\n",
        "\n",
        "    combiner = reducer\n",
        "\n",
        "if __name__ == '__main__':\n",
        "    salarymax.run()"
      ]
    },
    {
      "cell_type": "code",
      "execution_count": 21,
      "metadata": {
        "id": "ww7Ixa-GtcF2",
        "outputId": "e6a2dcc1-eb05-4fbe-84e7-4f97a0f91e4b",
        "colab": {
          "base_uri": "https://localhost:8080/"
        }
      },
      "outputs": [
        {
          "output_type": "stream",
          "name": "stdout",
          "text": [
            "No configs found; falling back on auto-configuration\n",
            "No configs specified for local runner\n",
            "Creating temp directory /tmp/salaries.root.20220429.082011.159464\n",
            "Running step 1 of 1...\n",
            "\n",
            "Counters: 2\n",
            "\twarn\n",
            "\t\tmissing gross=3224\n",
            "\t\tmissing salary=1\n",
            "\n",
            "job output is in /tmp/salaries.root.20220429.082011.159464/output\n",
            "Streaming final output from /tmp/salaries.root.20220429.082011.159464/output...\n",
            "\"salary\"\t[163200.0, \"\\\"Chow,Rudolph S\\\",DIRECTOR PUBLIC WORKS,A41101,DPW-Administration ,02/01/2011,163200.00,145513.79\"]\n",
            "\"salary\"\t[163200.0, \"\\\"Nilson,George A\\\",CITY SOLICITOR,A30001,Law Department ,01/16/2007,163200.00,164332.32\"]\n",
            "\"salary\"\t[163365.0, \"\\\"Rawlings-Blake,Stephanie C\\\",MAYOR,A01001,Mayors Office ,12/07/1995,163365.00,161219.24\"]\n",
            "\"salary\"\t[165000.0, \"\\\"Ford,Niles R\\\",EXECUTIVE LEVEL III,A64006,Fire Department ,01/15/2014,165000.00,69807.64\"]\n",
            "\"salary\"\t[172000.0, \"\\\"Parthemos,Kaliope\\\",EXECUTIVE LEVEL III,A01020,Mayor's Office ,12/26/2006,172000.00,154654.39\"]\n",
            "\"salary\"\t[187200.0, \"\\\"Swift,Michael\\\",CONTRACT SERV SPEC II,A02003,City Council ,05/19/2008,187200.00,3510.00\"]\n",
            "\"salary\"\t[190000.0, \"\\\"Black,Harry E\\\",EXECUTIVE LEVEL III,A23001,FIN-Admin & Budgets ,01/30/2012,190000.00,188328.50\"]\n",
            "\"salary\"\t[193800.0, \"\\\"Batts,Anthony W\\\",EXECUTIVE LEVEL III,A99390,Police Department ,09/25/2012,193800.00,193653.69\"]\n",
            "\"salary\"\t[200000.0, \"\\\"Charles,Ronnie E\\\",EXECUTIVE LEVEL III,A83001,HR-Human Resources ,07/05/2012,200000.00,185741.81\"]\n",
            "\"salary\"\t[238772.0, \"\\\"Bernstein,Gregg L\\\",STATE'S ATTORNEY,A29001,States Attorneys Office ,01/03/2011,238772.00,238772.04\"]\n",
            "\"gross\"\t[165108.5, \"\\\"Cheelsman III,Charles H\\\",Battalion Fire Chief EMS EMT-P,A64460,Fire Department ,12/08/1980,107307.00,165108.50\"]\n",
            "\"gross\"\t[165270.01, \"\\\"Makanjuola,Rafiu T\\\",POLICE OFFICER (EID),A99061,Police Department ,07/30/1997,67535.00,165270.01\"]\n",
            "\"gross\"\t[165892.21, \"\\\"Harris Jr,William\\\",POLICE SERGEANT,A99309,Police Department ,10/24/2000,80612.00,165892.21\"]\n",
            "\"gross\"\t[166442.42, \"\\\"Stokes,Charline B\\\",Battalion Fire Chief EMS EMT-P,A64460,Fire Department ,01/18/1988,107307.00,166442.42\"]\n",
            "\"gross\"\t[173876.84, \"\\\"Marcus Sr,Albert M\\\",POLICE OFFICER (EID),A99322,Police Department ,02/03/1975,73012.00,173876.84\"]\n",
            "\"gross\"\t[176141.33, \"\\\"Nalewajko Jr,Stephen C\\\",POLICE LIEUTENANT EID,A99264,Police Department ,08/21/1981,95087.00,176141.33\"]\n",
            "\"gross\"\t[185741.81, \"\\\"Charles,Ronnie E\\\",EXECUTIVE LEVEL III,A83001,HR-Human Resources ,07/05/2012,200000.00,185741.81\"]\n",
            "\"gross\"\t[188328.5, \"\\\"Black,Harry E\\\",EXECUTIVE LEVEL III,A23001,FIN-Admin & Budgets ,01/30/2012,190000.00,188328.50\"]\n",
            "\"gross\"\t[193653.69, \"\\\"Batts,Anthony W\\\",EXECUTIVE LEVEL III,A99390,Police Department ,09/25/2012,193800.00,193653.69\"]\n",
            "\"gross\"\t[238772.04, \"\\\"Bernstein,Gregg L\\\",STATE'S ATTORNEY,A29001,States Attorneys Office ,01/03/2011,238772.00,238772.04\"]\n",
            "Removing temp directory /tmp/salaries.root.20220429.082011.159464...\n"
          ]
        }
      ],
      "source": [
        "! python salaries.py -r local DATA/Baltimore_City_Employee_Salaries_FY2014.csv"
      ]
    },
    {
      "cell_type": "markdown",
      "source": [
        "### Now on AWS Hadoop"
      ],
      "metadata": {
        "id": "rlHPNEWvuN-1"
      }
    },
    {
      "cell_type": "code",
      "execution_count": 22,
      "metadata": {
        "id": "tZZ3JnXCtcF3",
        "outputId": "6b45e0c9-7abb-4da2-c23b-70b28b9e17ca",
        "colab": {
          "base_uri": "https://localhost:8080/"
        }
      },
      "outputs": [
        {
          "output_type": "stream",
          "name": "stdout",
          "text": [
            "Overwriting mrjob_cluster.conf\n"
          ]
        }
      ],
      "source": [
        "%%file mrjob_cluster.conf\n",
        "runners:\n",
        "  emr:\n",
        "    aws_access_key_id: XXXXX\n",
        "    aws_secret_access_key: XXXXX\n",
        "    region: eu-west-1"
      ]
    },
    {
      "cell_type": "code",
      "source": [
        "! python salaries.py -r  emr --cluster-id=XXXXX   DATA/Baltimore_City_Employee_Salaries_FY2014.csv -c mrjob_cluster.conf"
      ],
      "metadata": {
        "id": "j-wH6kyguTYE",
        "outputId": "931ae273-1482-4e99-a6ba-26d9c0b80d66",
        "colab": {
          "base_uri": "https://localhost:8080/"
        }
      },
      "execution_count": null,
      "outputs": [
        {
          "output_type": "stream",
          "name": "stdout",
          "text": [
            "Using s3://mrjob-42e7145df80ebe94/tmp/ as our temp dir on S3\n",
            "Creating temp directory /tmp/salaries.root.20220429.084339.077783\n",
            "uploading working dir files to s3://mrjob-42e7145df80ebe94/tmp/salaries.root.20220429.084339.077783/files/wd...\n",
            "Copying other local files to s3://mrjob-42e7145df80ebe94/tmp/salaries.root.20220429.084339.077783/files/\n",
            "Adding our job to existing cluster j-3J2UJRSKGFVYF\n",
            "  master node is ec2-54-155-223-96.eu-west-1.compute.amazonaws.com\n",
            "Waiting for Step 1 of 1 (s-235ZYUJEG7N4X) to complete...\n",
            "  PENDING (cluster is RUNNING: Running step)\n",
            "  RUNNING for 0:00:46\n",
            "  RUNNING for 0:01:16\n",
            "  COMPLETED\n",
            "Attempting to fetch counters from logs...\n",
            "Waiting 10 minutes for logs to transfer to S3... (ctrl-c to skip)\n",
            "\n",
            "To fetch logs immediately next time, set up SSH. See:\n",
            "https://pythonhosted.org/mrjob/guides/emr-quickstart.html#configuring-ssh-credentials\n",
            "\n"
          ]
        }
      ]
    },
    {
      "cell_type": "code",
      "source": [
        ""
      ],
      "metadata": {
        "id": "5vNbr9lou3Kg"
      },
      "execution_count": null,
      "outputs": []
    }
  ],
  "metadata": {
    "kernelspec": {
      "display_name": "Python 3",
      "language": "python",
      "name": "python3"
    },
    "language_info": {
      "codemirror_mode": {
        "name": "ipython",
        "version": 3
      },
      "file_extension": ".py",
      "mimetype": "text/x-python",
      "name": "python",
      "nbconvert_exporter": "python",
      "pygments_lexer": "ipython3",
      "version": "3.7.6"
    },
    "colab": {
      "name": "Assignment_1_MRJOBLIB_solution.ipynb",
      "provenance": []
    }
  },
  "nbformat": 4,
  "nbformat_minor": 0
}