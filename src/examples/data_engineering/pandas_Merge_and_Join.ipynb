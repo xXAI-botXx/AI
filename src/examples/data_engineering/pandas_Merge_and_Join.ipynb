{
 "cells": [
  {
   "cell_type": "markdown",
   "metadata": {},
   "source": [
    "# Concat DataFrame \n",
    "------------\n",
    "       Concat is very useful method of pandas.You can concatanate two dataframes in two way -\n",
    "          1)Append by row\n",
    "          2)Append by col\n",
    "  \n",
    "## Append by row :\n",
    "       Concat is the method of pandas in which you can join two and more dataframes provided its indices are same.\n",
    "       Let's take an example -\n",
    "       You have two dataframes of weathers of two cities Kolkata and Chennai,\n",
    "       \n",
    "   <code> df=pd.concat([dataframe_1,dataframe_2,...,dataframe_n]) </code>\n",
    "       for n number of dataframes,"
   ]
  },
  {
   "cell_type": "code",
   "execution_count": null,
   "metadata": {},
   "outputs": [],
   "source": [
    "import pandas as pd"
   ]
  },
  {
   "cell_type": "code",
   "execution_count": null,
   "metadata": {},
   "outputs": [],
   "source": [
    "chennai={\n",
    "      \"date\":['01-02-12','03-02-12','04-02-12','05-02-12'],\n",
    "      \"event\":['hot','sunny','rainy','cold'],\n",
    "      \"wind-speed\":[33,23,45,24],\n",
    "      \"temp\":[20,21,15,18]\n",
    "}\n",
    "chen=pd.DataFrame(chennai)\n",
    "chen"
   ]
  },
  {
   "cell_type": "code",
   "execution_count": null,
   "metadata": {},
   "outputs": [],
   "source": [
    "kolkata={\n",
    "      \"date\":['01-02-12','03-02-12','04-02-12','05-02-12'],\n",
    "      \"event\":['sunny','cold','cold','rainy'],\n",
    "      \"wind-speed\":[12,10,9,14],\n",
    "      \"temp\":[14,16,15,10]\n",
    "}\n",
    "kol=pd.DataFrame(kolkata)\n",
    "kol"
   ]
  },
  {
   "cell_type": "code",
   "execution_count": null,
   "metadata": {},
   "outputs": [],
   "source": [
    "df=pd.concat([kol,chen])\n",
    "df"
   ]
  },
  {
   "cell_type": "markdown",
   "metadata": {},
   "source": [
    "  **You can observe the index first 0 to 3 then again 0 to 3.To ignore this you have to pass an extra argument.**"
   ]
  },
  {
   "cell_type": "code",
   "execution_count": null,
   "metadata": {},
   "outputs": [],
   "source": [
    "df=pd.concat([kol,chen],ignore_index=True)\n",
    "df\n",
    "# Now see index column"
   ]
  },
  {
   "cell_type": "markdown",
   "metadata": {},
   "source": [
    "##### If you want to join dataframes with dataframe name as an index name"
   ]
  },
  {
   "cell_type": "code",
   "execution_count": null,
   "metadata": {},
   "outputs": [],
   "source": [
    "df=pd.concat([kol,chen],keys=['Kolkata','Chennai'])\n",
    "df"
   ]
  },
  {
   "cell_type": "code",
   "execution_count": null,
   "metadata": {},
   "outputs": [],
   "source": [
    "df.loc['Kolkata']"
   ]
  },
  {
   "cell_type": "code",
   "execution_count": null,
   "metadata": {},
   "outputs": [],
   "source": [
    "df.loc['Chennai']"
   ]
  },
  {
   "cell_type": "markdown",
   "metadata": {},
   "source": [
    "## Append by column :\n",
    "    if you have two dataframes and you want to append column wise. For example - if you have two dataframes of weather\n",
    "    first dataframe having columns date,event & temp and second dataframe having columns date,event & wind-speed when you\n",
    "    join both you will get one dataframe having columns date, event, temp, date, event and wind-speed.\n",
    "    To join two dataframe column wise\n",
    "    you have to pass axis=1 in concat() method.\n",
    "    \n",
    "   <code> df=pd.concat([dataframe_1,dataframe_2,...,dataframe_n],axis=1) </code>"
   ]
  },
  {
   "cell_type": "code",
   "execution_count": null,
   "metadata": {},
   "outputs": [],
   "source": [
    "temp1={\n",
    "      \"date\":['01-02-12','03-02-12','04-02-12','05-02-12'],\n",
    "      \"event\":['sunny','cold','cold','rainy'],\n",
    "      \"temp\":[14,16,15,10]\n",
    "}\n",
    "temp=pd.DataFrame(temp1)\n",
    "temp"
   ]
  },
  {
   "cell_type": "code",
   "execution_count": null,
   "metadata": {},
   "outputs": [],
   "source": [
    "ws={\n",
    "      \"date\":['01-02-12','03-02-12','04-02-12','05-02-12'],\n",
    "      \"event\":['sunny','cold','cold','rainy'],\n",
    "      \"wind-speed\":[12,10,9,14],\n",
    "}\n",
    "wind_speed=pd.DataFrame(ws)\n",
    "wind_speed"
   ]
  },
  {
   "cell_type": "code",
   "execution_count": null,
   "metadata": {},
   "outputs": [],
   "source": [
    "df=pd.concat([temp,wind_speed],axis=1)\n",
    "df"
   ]
  },
  {
   "cell_type": "markdown",
   "metadata": {},
   "source": [
    "# Merging dataframes \n",
    "-------\n",
    "    merge() is a method in pandas in which you can merge two dataframes withou repeating columns as we did in\n",
    "    concat() method.\n",
    "    There are two types of merging -\n",
    "       1) Inner join\n",
    "       2) outer join\n",
    " ## Inner join\n",
    "    In this method you will get the intersetion of two dataframes with merged column.It is the default merge method.\n",
    "    In merge() method you have to pass the dataframes as arguments and list of columns on which you want to merge\n",
    "    and dataframes as arguments."
   ]
  },
  {
   "cell_type": "code",
   "execution_count": null,
   "metadata": {},
   "outputs": [],
   "source": [
    "import pandas as pd"
   ]
  },
  {
   "cell_type": "code",
   "execution_count": null,
   "metadata": {},
   "outputs": [],
   "source": [
    "temp1={\n",
    "      \"date\":['01-02-12','03-02-12','04-02-12','05-02-12'],\n",
    "      \"event\":['sunny','cold','cold','rainy'],\n",
    "      \"temp\":[14,16,15,10]\n",
    "}\n",
    "temp=pd.DataFrame(temp1)\n",
    "temp"
   ]
  },
  {
   "cell_type": "code",
   "execution_count": null,
   "metadata": {},
   "outputs": [],
   "source": [
    "ws={\n",
    "      \"date\":['01-02-12','03-02-12','04-02-12','05-02-12'],\n",
    "      \"event\":['sunny','cold','cold','rainy'],\n",
    "      \"wind-speed\":[12,10,9,14],\n",
    "}\n",
    "wind_speed=pd.DataFrame(ws)\n",
    "wind_speed"
   ]
  },
  {
   "cell_type": "code",
   "execution_count": null,
   "metadata": {},
   "outputs": [],
   "source": [
    "df=pd.merge(temp,wind_speed,on=['date','event'])\n",
    "df"
   ]
  },
  {
   "cell_type": "markdown",
   "metadata": {},
   "source": [
    "    If you have different data in the common columns then you can not do inner merge in this case.\n",
    "    Assume the following case:\n",
    "    \n",
    "      temp                                \n",
    "      ___________________\n",
    "     | event  |   temp   |\n",
    "     |--------|----------|\n",
    "     | sunny  |   40     |\n",
    "     | hot    |   30     |\n",
    "     | rainy  |   25     |\n",
    "     |________|__________|\n",
    "     \n",
    "     wind-speed\n",
    "      ___________________\n",
    "     | event  |wind-speed|\n",
    "     |--------|----------|\n",
    "     | sunny  |   12     |\n",
    "     | hot    |   14     |\n",
    "     | hot    |   11     |\n",
    "     |________|__________|\n",
    "     \n",
    "     Merged Dataframe by inner method\n",
    "     \n",
    "      ________________________________\n",
    "     | event  |   temp   | wind-speed |\n",
    "     |--------|----------|------------|\n",
    "     | sunny  |   40     |     12     | \n",
    "     | hot    |   30     |     14     |\n",
    "     |________|__________|____________|\n",
    "     \n",
    "     You can see that last row is not merged here because there is no common element in the common columns.\n",
    "     "
   ]
  },
  {
   "cell_type": "markdown",
   "metadata": {},
   "source": [
    "## Outer join\n",
    "This is just like union of two dataframe. Non existing values will contain NaN.                               \n",
    "     \n",
    "\n",
    "     temp                                \n",
    "      ___________________\n",
    "     | event  |   temp   |\n",
    "     |--------|----------|\n",
    "     | sunny  |   40     |\n",
    "     | hot    |   30     |\n",
    "     | rainy  |   25     |\n",
    "     |________|__________|\n",
    "     \n",
    "     wind-speed\n",
    "      ___________________\n",
    "     | event  |wind-speed|\n",
    "     |--------|----------|\n",
    "     | sunny  |   12     |\n",
    "     | hot    |   14     |\n",
    "     | hot    |   11     |\n",
    "     |________|__________|\n",
    "     \n",
    "     Merged Dataframe by inner method\n",
    "     \n",
    "      ________________________________\n",
    "     | event  |   temp   | wind-speed |\n",
    "     |--------|----------|------------|\n",
    "     | sunny  |   40     |     12     | \n",
    "     | hot    |   30     |     14     |\n",
    "     | rainy  |   25     |     NaN    |\n",
    "     | hot    |   NaN    |     11     |\n",
    "     |________|__________|____________|\n",
    "     \n",
    "     You can see in the final dataframe two rows increased."
   ]
  },
  {
   "cell_type": "code",
   "execution_count": null,
   "metadata": {},
   "outputs": [],
   "source": [
    "temp1={\n",
    "      \"date\":['01-02-12','03-02-12','04-02-12','05-02-12'],\n",
    "      \"event\":['sunny','cold','hot','sunny'],\n",
    "      \"temp\":[14,16,15,10]\n",
    "}\n",
    "temp=pd.DataFrame(temp1)\n",
    "temp"
   ]
  },
  {
   "cell_type": "code",
   "execution_count": null,
   "metadata": {},
   "outputs": [],
   "source": [
    "ws={\n",
    "      \"date\":['01-02-12','03-02-12','04-02-12','05-02-12'],\n",
    "      \"event\":['sunny','cold','cold','rainy'],\n",
    "      \"wind-speed\":[12,10,9,14],\n",
    "}\n",
    "wind_speed=pd.DataFrame(ws)\n",
    "wind_speed"
   ]
  },
  {
   "cell_type": "markdown",
   "metadata": {},
   "source": [
    "##### One extra argument you need to pass in outer join i.e, how=\"outer\".By defaut it is inner."
   ]
  },
  {
   "cell_type": "code",
   "execution_count": null,
   "metadata": {},
   "outputs": [],
   "source": [
    "df=pd.merge(temp,wind_speed,on=['date','event'],how='outer')\n",
    "df"
   ]
  },
  {
   "cell_type": "code",
   "execution_count": null,
   "metadata": {},
   "outputs": [],
   "source": []
  }
 ],
 "metadata": {
  "kernelspec": {
   "display_name": "Python 3",
   "language": "python",
   "name": "python3"
  },
  "language_info": {
   "codemirror_mode": {
    "name": "ipython",
    "version": 3
   },
   "file_extension": ".py",
   "mimetype": "text/x-python",
   "name": "python",
   "nbconvert_exporter": "python",
   "pygments_lexer": "ipython3",
   "version": "3.7.6"
  }
 },
 "nbformat": 4,
 "nbformat_minor": 4
}
