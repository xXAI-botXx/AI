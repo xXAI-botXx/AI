{
  "nbformat": 4,
  "nbformat_minor": 0,
  "metadata": {
    "colab": {
      "name": "Numba_demo.ipynb",
      "provenance": [],
      "authorship_tag": "ABX9TyO8mbPDPD3MYB5zkoh8sCrc",
      "include_colab_link": true
    },
    "kernelspec": {
      "name": "python3",
      "display_name": "Python 3"
    },
    "language_info": {
      "name": "python"
    },
    "accelerator": "GPU"
  },
  "cells": [
    {
      "cell_type": "markdown",
      "metadata": {
        "id": "view-in-github",
        "colab_type": "text"
      },
      "source": [
        "<a href=\"https://colab.research.google.com/github/keuperj/DataEngineering22/blob/main/week_9/Numba_demo.ipynb\" target=\"_parent\"><img src=\"https://colab.research.google.com/assets/colab-badge.svg\" alt=\"Open In Colab\"/></a>"
      ]
    },
    {
      "cell_type": "markdown",
      "source": [
        "# Numba Demo\n",
        "* API:  https://numba.pydata.org/numba-doc/latest/index.html\n"
      ],
      "metadata": {
        "id": "tNq0725ZP6mm"
      }
    },
    {
      "cell_type": "markdown",
      "source": [
        "### Implementing a simple function and getting the runtime"
      ],
      "metadata": {
        "id": "3mv_ffk2P_TO"
      }
    },
    {
      "cell_type": "code",
      "execution_count": 1,
      "metadata": {
        "id": "91ct5dSxOIfl"
      },
      "outputs": [],
      "source": [
        "import random\n",
        "def monte_carlo_pi(nsamples):\n",
        "    acc = 0\n",
        "    for i in range(nsamples):\n",
        "        x = random.random()\n",
        "        y = random.random()\n",
        "        if (x ** 2 + y ** 2) < 1.0:\n",
        "            acc += 1\n",
        "    return 4.0 * acc / nsamples"
      ]
    },
    {
      "cell_type": "code",
      "source": [
        "%%timeit\n",
        "monte_carlo_pi(10000)"
      ],
      "metadata": {
        "colab": {
          "base_uri": "https://localhost:8080/"
        },
        "id": "mGTSXnJgPqeC",
        "outputId": "dd0bcfff-24c1-415e-a067-581e7644ae01"
      },
      "execution_count": 2,
      "outputs": [
        {
          "output_type": "stream",
          "name": "stdout",
          "text": [
            "100 loops, best of 5: 4.27 ms per loop\n"
          ]
        }
      ]
    },
    {
      "cell_type": "markdown",
      "source": [
        "### Now the same thing with NUMBA compilation"
      ],
      "metadata": {
        "id": "f_BAXQVrQGSH"
      }
    },
    {
      "cell_type": "code",
      "source": [
        "from numba import jit\n",
        "import random\n",
        "\n",
        "@jit(nopython=True)\n",
        "def monte_carlo_pi(nsamples):\n",
        "    acc = 0\n",
        "    for i in range(nsamples):\n",
        "        x = random.random()\n",
        "        y = random.random()\n",
        "        if (x ** 2 + y ** 2) < 1.0:\n",
        "            acc += 1\n",
        "    return 4.0 * acc / nsamples\n",
        "\n",
        "#NOTE calling the function once before timing so that the compilation time is not included in our comparison\n",
        "monte_carlo_pi(10000)"
      ],
      "metadata": {
        "colab": {
          "base_uri": "https://localhost:8080/"
        },
        "id": "iyeKi4mSONPd",
        "outputId": "2586b574-6fc5-4b34-96b2-331806a04e0f"
      },
      "execution_count": 3,
      "outputs": [
        {
          "output_type": "execute_result",
          "data": {
            "text/plain": [
              "3.1336"
            ]
          },
          "metadata": {},
          "execution_count": 3
        }
      ]
    },
    {
      "cell_type": "code",
      "source": [
        "%%timeit\n",
        "monte_carlo_pi(10000)"
      ],
      "metadata": {
        "colab": {
          "base_uri": "https://localhost:8080/"
        },
        "id": "E3ReU-yFOaDO",
        "outputId": "d969501b-e2c7-477b-be08-8d287e45fdf7"
      },
      "execution_count": 4,
      "outputs": [
        {
          "output_type": "stream",
          "name": "stdout",
          "text": [
            "1000 loops, best of 5: 244 µs per loop\n"
          ]
        }
      ]
    },
    {
      "cell_type": "markdown",
      "source": [
        "### Now with Multi-Threading"
      ],
      "metadata": {
        "id": "QRo2OIwjQa8n"
      }
    },
    {
      "cell_type": "code",
      "source": [
        "#need extre threading lib\n",
        "!pip install tbb"
      ],
      "metadata": {
        "colab": {
          "base_uri": "https://localhost:8080/"
        },
        "id": "maaeqeszSTO1",
        "outputId": "e26fc145-c63d-4e21-9726-5d4d87a071d7"
      },
      "execution_count": 5,
      "outputs": [
        {
          "output_type": "stream",
          "name": "stdout",
          "text": [
            "Collecting tbb\n",
            "  Downloading tbb-2021.6.0-py2.py3-none-manylinux1_x86_64.whl (4.0 MB)\n",
            "\u001b[K     |████████████████████████████████| 4.0 MB 7.8 MB/s \n",
            "\u001b[?25hInstalling collected packages: tbb\n",
            "Successfully installed tbb-2021.6.0\n"
          ]
        }
      ]
    },
    {
      "cell_type": "code",
      "source": [
        "import numba as nb\n",
        "@jit(nopython=True, parallel=True)\n",
        "def monte_carlo_pi_parallel(nsamples):\n",
        "    acc = 0\n",
        "    for i in nb.prange(nsamples):\n",
        "        x = random.random()\n",
        "        y = random.random()\n",
        "        if (x ** 2 + y ** 2) < 1.0:\n",
        "            acc += 1\n",
        "    return 4.0 * acc / nsamples\n",
        "\n",
        "#NOTE calling the function once before timing so that the compilation time is not included in our comparison\n",
        "monte_carlo_pi_parallel(10000)"
      ],
      "metadata": {
        "id": "5K4A0G-cPzeB",
        "colab": {
          "base_uri": "https://localhost:8080/"
        },
        "outputId": "f5497f63-6a5b-43af-a280-155968d7c436"
      },
      "execution_count": 6,
      "outputs": [
        {
          "output_type": "stream",
          "name": "stderr",
          "text": [
            "/usr/local/lib/python3.7/dist-packages/numba/np/ufunc/parallel.py:363: NumbaWarning: The TBB threading layer requires TBB version 2019.5 or later i.e., TBB_INTERFACE_VERSION >= 11005. Found TBB_INTERFACE_VERSION = 9107. The TBB threading layer is disabled.\n",
            "  warnings.warn(problem)\n"
          ]
        },
        {
          "output_type": "execute_result",
          "data": {
            "text/plain": [
              "3.16"
            ]
          },
          "metadata": {},
          "execution_count": 6
        }
      ]
    },
    {
      "cell_type": "code",
      "source": [
        "%%timeit\n",
        "monte_carlo_pi(10000)"
      ],
      "metadata": {
        "colab": {
          "base_uri": "https://localhost:8080/"
        },
        "id": "U1ZU5iljQmgS",
        "outputId": "a739f2c7-89f1-4875-c699-dae1363b1996"
      },
      "execution_count": 7,
      "outputs": [
        {
          "output_type": "stream",
          "name": "stdout",
          "text": [
            "10000 loops, best of 5: 120 µs per loop\n"
          ]
        }
      ]
    },
    {
      "cell_type": "markdown",
      "source": [
        "not always faster -> overhead of parallelization :-("
      ],
      "metadata": {
        "id": "Im_JwNctSg6A"
      }
    },
    {
      "cell_type": "markdown",
      "source": [
        "## NUMBA GPU-Example "
      ],
      "metadata": {
        "id": "-CCBg-UJW6h8"
      }
    },
    {
      "cell_type": "code",
      "source": [
        "from numba import cuda, guvectorize, vectorize, void, int32, float64, uint32\n",
        "import math\n",
        "import numpy as np\n",
        "np.random.seed(1)"
      ],
      "metadata": {
        "id": "HPzJwFESSgrq"
      },
      "execution_count": 8,
      "outputs": []
    },
    {
      "cell_type": "code",
      "source": [
        "# CUDA Kernle\n",
        "@cuda.jit\n",
        "def axpy(r, a, x, y):\n",
        "    i = cuda.grid(1)\n",
        "    if i < len(r):\n",
        "        r[i] = a * x[i] + y[i]"
      ],
      "metadata": {
        "id": "_F44YBIUReHw"
      },
      "execution_count": 9,
      "outputs": []
    },
    {
      "cell_type": "code",
      "source": [
        "def create_and_add_vectors(N):\n",
        "    # Create input data and transfer to GPU\n",
        "    x = np.random.random(N)\n",
        "    y = np.random.random(N)\n",
        "    d_x = cuda.to_device(x)\n",
        "    d_y = cuda.to_device(y)\n",
        "    d_r = cuda.device_array_like(d_x)\n",
        "    a = 4.5\n",
        "\n",
        "    # Compute grid dimensions\n",
        "    \n",
        "    # An arbitrary reasonable choice of block size\n",
        "    block_dim = 256\n",
        "    # Enough blocks to cover the input\n",
        "    grid_dim = math.ceil(len(d_x) / block_dim)\n",
        "\n",
        "    # Launch the kernel\n",
        "    axpy[grid_dim, block_dim](d_r, a, d_x, d_y)\n",
        "    \n",
        "    # Return the result\n",
        "    return d_r.copy_to_host()"
      ],
      "metadata": {
        "id": "EarmE3JKRyRw"
      },
      "execution_count": 10,
      "outputs": []
    },
    {
      "cell_type": "code",
      "source": [
        "create_and_add_vectors(32)"
      ],
      "metadata": {
        "colab": {
          "base_uri": "https://localhost:8080/"
        },
        "id": "ncVhPJs9XeEC",
        "outputId": "6eb72f31-8b87-41c8-c096-15c6d17e0921"
      },
      "execution_count": 11,
      "outputs": [
        {
          "output_type": "execute_result",
          "data": {
            "text/plain": [
              "array([2.83448855, 3.77462551, 0.6923918 , 1.67601221, 1.34690244,\n",
              "       1.25014935, 0.85645923, 2.30516759, 2.77431472, 3.17284096,\n",
              "       2.16681931, 3.87276708, 1.02326113, 4.39942199, 1.03183967,\n",
              "       3.31071794, 2.16564695, 2.6441328 , 0.65110818, 1.57029223,\n",
              "       3.81497868, 4.62272375, 1.90198196, 3.16881432, 4.51786879,\n",
              "       4.17245856, 0.97200449, 0.87550488, 0.86657132, 4.36569725,\n",
              "       1.13696091, 2.30916358])"
            ]
          },
          "metadata": {},
          "execution_count": 11
        }
      ]
    },
    {
      "cell_type": "code",
      "source": [
        ""
      ],
      "metadata": {
        "id": "5vtqynNtXiZo"
      },
      "execution_count": null,
      "outputs": []
    }
  ]
}