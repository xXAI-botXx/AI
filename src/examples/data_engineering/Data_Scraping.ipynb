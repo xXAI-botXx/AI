{
  "cells": [
    {
      "cell_type": "markdown",
      "metadata": {
        "id": "i4ERP83H6BAs"
      },
      "source": [
        "# Assignment Data Scraping\n",
        "### Scrape and Analyse\n",
        "\n",
        "* API [https://beautiful-soup-4.readthedocs.io/en/latest/](https://beautiful-soup-4.readthedocs.io/en/latest/)"
      ]
    },
    {
      "cell_type": "code",
      "execution_count": 1,
      "metadata": {
        "id": "F5SrIgvv6BAv",
        "outputId": "348ac198-8008-4d86-e942-dd738c488f05",
        "colab": {
          "base_uri": "https://localhost:8080/"
        }
      },
      "outputs": [
        {
          "output_type": "stream",
          "name": "stdout",
          "text": [
            "Looking in indexes: https://pypi.org/simple, https://us-python.pkg.dev/colab-wheels/public/simple/\n",
            "Requirement already satisfied: requests in /usr/local/lib/python3.7/dist-packages (2.23.0)\n",
            "Requirement already satisfied: bs4 in /usr/local/lib/python3.7/dist-packages (0.0.1)\n",
            "Collecting scrapy\n",
            "  Downloading Scrapy-2.6.1-py2.py3-none-any.whl (264 kB)\n",
            "\u001b[K     |████████████████████████████████| 264 kB 5.4 MB/s \n",
            "\u001b[?25hRequirement already satisfied: idna<3,>=2.5 in /usr/local/lib/python3.7/dist-packages (from requests) (2.10)\n",
            "Requirement already satisfied: certifi>=2017.4.17 in /usr/local/lib/python3.7/dist-packages (from requests) (2022.5.18.1)\n",
            "Requirement already satisfied: urllib3!=1.25.0,!=1.25.1,<1.26,>=1.21.1 in /usr/local/lib/python3.7/dist-packages (from requests) (1.24.3)\n",
            "Requirement already satisfied: chardet<4,>=3.0.2 in /usr/local/lib/python3.7/dist-packages (from requests) (3.0.4)\n",
            "Requirement already satisfied: beautifulsoup4 in /usr/local/lib/python3.7/dist-packages (from bs4) (4.6.3)\n",
            "Collecting protego>=0.1.15\n",
            "  Downloading Protego-0.2.1-py2.py3-none-any.whl (8.2 kB)\n",
            "Requirement already satisfied: setuptools in /usr/local/lib/python3.7/dist-packages (from scrapy) (57.4.0)\n",
            "Collecting Twisted>=17.9.0\n",
            "  Downloading Twisted-22.4.0-py3-none-any.whl (3.1 MB)\n",
            "\u001b[K     |████████████████████████████████| 3.1 MB 50.8 MB/s \n",
            "\u001b[?25hCollecting itemadapter>=0.1.0\n",
            "  Downloading itemadapter-0.6.0-py3-none-any.whl (10 kB)\n",
            "Collecting PyDispatcher>=2.0.5\n",
            "  Downloading PyDispatcher-2.0.5.zip (47 kB)\n",
            "\u001b[K     |████████████████████████████████| 47 kB 4.2 MB/s \n",
            "\u001b[?25hRequirement already satisfied: lxml>=3.5.0 in /usr/local/lib/python3.7/dist-packages (from scrapy) (4.2.6)\n",
            "Collecting cssselect>=0.9.1\n",
            "  Downloading cssselect-1.1.0-py2.py3-none-any.whl (16 kB)\n",
            "Collecting parsel>=1.5.0\n",
            "  Downloading parsel-1.6.0-py2.py3-none-any.whl (13 kB)\n",
            "Collecting service-identity>=16.0.0\n",
            "  Downloading service_identity-21.1.0-py2.py3-none-any.whl (12 kB)\n",
            "Collecting zope.interface>=4.1.3\n",
            "  Downloading zope.interface-5.4.0-cp37-cp37m-manylinux2010_x86_64.whl (251 kB)\n",
            "\u001b[K     |████████████████████████████████| 251 kB 50.4 MB/s \n",
            "\u001b[?25hCollecting w3lib>=1.17.0\n",
            "  Downloading w3lib-1.22.0-py2.py3-none-any.whl (20 kB)\n",
            "Collecting queuelib>=1.4.2\n",
            "  Downloading queuelib-1.6.2-py2.py3-none-any.whl (13 kB)\n",
            "Collecting pyOpenSSL>=16.2.0\n",
            "  Downloading pyOpenSSL-22.0.0-py2.py3-none-any.whl (55 kB)\n",
            "\u001b[K     |████████████████████████████████| 55 kB 3.6 MB/s \n",
            "\u001b[?25hCollecting tldextract\n",
            "  Downloading tldextract-3.3.0-py3-none-any.whl (93 kB)\n",
            "\u001b[K     |████████████████████████████████| 93 kB 1.9 MB/s \n",
            "\u001b[?25hCollecting cryptography>=2.0\n",
            "  Downloading cryptography-37.0.2-cp36-abi3-manylinux_2_24_x86_64.whl (4.0 MB)\n",
            "\u001b[K     |████████████████████████████████| 4.0 MB 25.6 MB/s \n",
            "\u001b[?25hCollecting itemloaders>=1.0.1\n",
            "  Downloading itemloaders-1.0.4-py3-none-any.whl (11 kB)\n",
            "Requirement already satisfied: cffi>=1.12 in /usr/local/lib/python3.7/dist-packages (from cryptography>=2.0->scrapy) (1.15.0)\n",
            "Requirement already satisfied: pycparser in /usr/local/lib/python3.7/dist-packages (from cffi>=1.12->cryptography>=2.0->scrapy) (2.21)\n",
            "Collecting jmespath>=0.9.5\n",
            "  Downloading jmespath-1.0.0-py3-none-any.whl (23 kB)\n",
            "Requirement already satisfied: six>=1.6.0 in /usr/local/lib/python3.7/dist-packages (from parsel>=1.5.0->scrapy) (1.15.0)\n",
            "Requirement already satisfied: pyasn1 in /usr/local/lib/python3.7/dist-packages (from service-identity>=16.0.0->scrapy) (0.4.8)\n",
            "Requirement already satisfied: pyasn1-modules in /usr/local/lib/python3.7/dist-packages (from service-identity>=16.0.0->scrapy) (0.2.8)\n",
            "Requirement already satisfied: attrs>=19.1.0 in /usr/local/lib/python3.7/dist-packages (from service-identity>=16.0.0->scrapy) (21.4.0)\n",
            "Collecting hyperlink>=17.1.1\n",
            "  Downloading hyperlink-21.0.0-py2.py3-none-any.whl (74 kB)\n",
            "\u001b[K     |████████████████████████████████| 74 kB 3.0 MB/s \n",
            "\u001b[?25hCollecting constantly>=15.1\n",
            "  Downloading constantly-15.1.0-py2.py3-none-any.whl (7.9 kB)\n",
            "Requirement already satisfied: typing-extensions>=3.6.5 in /usr/local/lib/python3.7/dist-packages (from Twisted>=17.9.0->scrapy) (4.2.0)\n",
            "Collecting incremental>=21.3.0\n",
            "  Downloading incremental-21.3.0-py2.py3-none-any.whl (15 kB)\n",
            "Collecting Automat>=0.8.0\n",
            "  Downloading Automat-20.2.0-py2.py3-none-any.whl (31 kB)\n",
            "Collecting requests-file>=1.4\n",
            "  Downloading requests_file-1.5.1-py2.py3-none-any.whl (3.7 kB)\n",
            "Requirement already satisfied: filelock>=3.0.8 in /usr/local/lib/python3.7/dist-packages (from tldextract->scrapy) (3.7.0)\n",
            "Building wheels for collected packages: PyDispatcher\n",
            "  Building wheel for PyDispatcher (setup.py) ... \u001b[?25l\u001b[?25hdone\n",
            "  Created wheel for PyDispatcher: filename=PyDispatcher-2.0.5-py3-none-any.whl size=11516 sha256=e21958ec98c68f3b674ce3353a394a034ac6f3834ac030b3d97043542ec89ca1\n",
            "  Stored in directory: /root/.cache/pip/wheels/2d/18/21/3c6a732eaa69a339198e08bb63b7da2c45933a3428b29ec454\n",
            "Successfully built PyDispatcher\n",
            "Installing collected packages: w3lib, cssselect, zope.interface, requests-file, parsel, jmespath, itemadapter, incremental, hyperlink, cryptography, constantly, Automat, Twisted, tldextract, service-identity, queuelib, pyOpenSSL, PyDispatcher, protego, itemloaders, scrapy\n",
            "Successfully installed Automat-20.2.0 PyDispatcher-2.0.5 Twisted-22.4.0 constantly-15.1.0 cryptography-37.0.2 cssselect-1.1.0 hyperlink-21.0.0 incremental-21.3.0 itemadapter-0.6.0 itemloaders-1.0.4 jmespath-1.0.0 parsel-1.6.0 protego-0.2.1 pyOpenSSL-22.0.0 queuelib-1.6.2 requests-file-1.5.1 scrapy-2.6.1 service-identity-21.1.0 tldextract-3.3.0 w3lib-1.22.0 zope.interface-5.4.0\n"
          ]
        }
      ],
      "source": [
        "pip install requests bs4 scrapy"
      ]
    },
    {
      "cell_type": "code",
      "execution_count": 2,
      "metadata": {
        "id": "gRX8iN3I6BAx"
      },
      "outputs": [],
      "source": [
        "import pandas as pd\n",
        "import requests\n",
        "from bs4 import BeautifulSoup"
      ]
    },
    {
      "cell_type": "markdown",
      "metadata": {
        "id": "fkYYiMXs6BAx"
      },
      "source": [
        "### Tasks\n",
        "Scrape data from the website [http://www.nationmaster.com](http://www.nationmaster.com/), convert it into Pandas data frames and use pandas queries to answer the following questions: "
      ]
    },
    {
      "cell_type": "markdown",
      "metadata": {
        "id": "41BIPRK36BAy"
      },
      "source": [
        "#### 1\n",
        "Get the number of internet users per country, remove all NaN entries and return the top 10 countries with the highest absolute number of internet users. "
      ]
    },
    {
      "cell_type": "code",
      "execution_count": 3,
      "metadata": {
        "id": "TMqAA1Wp6BAy"
      },
      "outputs": [],
      "source": [
        "import bs4 as bs\n",
        "import urllib.request\n",
        "import pandas as pd\n",
        "\n",
        "url = \"https://www.nationmaster.com/nmx/ranking/total-internet-users\"\n",
        "source = urllib.request.urlopen(url).read()\n",
        "soup = bs.BeautifulSoup(source,'lxml')\n",
        "\n",
        "table = soup.find_all('table')\n",
        "df = pd.read_html(str(table))[0]"
      ]
    },
    {
      "cell_type": "code",
      "source": [
        "df.columns"
      ],
      "metadata": {
        "colab": {
          "base_uri": "https://localhost:8080/"
        },
        "id": "lE6d9ty_e_OF",
        "outputId": "0cca308f-5b7a-4799-d2f1-dbda8842adf5"
      },
      "execution_count": 4,
      "outputs": [
        {
          "output_type": "execute_result",
          "data": {
            "text/plain": [
              "Index(['#', '204 Countries', 'Units Per Hundred Persons', 'Last', 'YoY',\n",
              "       '5‑years CAGR', 'Unnamed: 6'],\n",
              "      dtype='object')"
            ]
          },
          "metadata": {},
          "execution_count": 4
        }
      ]
    },
    {
      "cell_type": "code",
      "source": [
        "df.drop(['#', 'Last', 'YoY', '5‑years CAGR', 'Unnamed: 6'], axis=1, inplace=True)"
      ],
      "metadata": {
        "id": "R_pwsuqEeMaz"
      },
      "execution_count": 5,
      "outputs": []
    },
    {
      "cell_type": "code",
      "source": [
        "df.info()"
      ],
      "metadata": {
        "colab": {
          "base_uri": "https://localhost:8080/"
        },
        "id": "dEUDZTaxfMwi",
        "outputId": "4565b0d5-46e7-410a-a04a-26c21fb91afe"
      },
      "execution_count": 6,
      "outputs": [
        {
          "output_type": "stream",
          "name": "stdout",
          "text": [
            "<class 'pandas.core.frame.DataFrame'>\n",
            "RangeIndex: 204 entries, 0 to 203\n",
            "Data columns (total 2 columns):\n",
            " #   Column                     Non-Null Count  Dtype \n",
            "---  ------                     --------------  ----- \n",
            " 0   204 Countries              204 non-null    object\n",
            " 1   Units Per Hundred Persons  204 non-null    int64 \n",
            "dtypes: int64(1), object(1)\n",
            "memory usage: 3.3+ KB\n"
          ]
        }
      ]
    },
    {
      "cell_type": "code",
      "source": [
        "df.rename(columns={'204 Countries':'Countries'}, inplace=True)"
      ],
      "metadata": {
        "id": "khV1zHQEfzd5"
      },
      "execution_count": 7,
      "outputs": []
    },
    {
      "cell_type": "code",
      "source": [
        "df.columns"
      ],
      "metadata": {
        "colab": {
          "base_uri": "https://localhost:8080/"
        },
        "id": "77pH10-ogNgM",
        "outputId": "deeb9654-9642-436d-e6bd-9d8fd67c6db2"
      },
      "execution_count": 8,
      "outputs": [
        {
          "output_type": "execute_result",
          "data": {
            "text/plain": [
              "Index(['Countries', 'Units Per Hundred Persons'], dtype='object')"
            ]
          },
          "metadata": {},
          "execution_count": 8
        }
      ]
    },
    {
      "cell_type": "code",
      "source": [
        "df.Countries = df['Countries'].replace('#.* ', '', regex=True)"
      ],
      "metadata": {
        "id": "TnoLourfhFWp"
      },
      "execution_count": 9,
      "outputs": []
    },
    {
      "cell_type": "code",
      "source": [
        "df.sort_values(by='Units Per Hundred Persons', ascending=False).head(10)"
      ],
      "metadata": {
        "colab": {
          "base_uri": "https://localhost:8080/",
          "height": 363
        },
        "id": "dWdKgg0WgYbA",
        "outputId": "4d63abaa-b7bc-4219-ce1a-ed5496edd383"
      },
      "execution_count": 10,
      "outputs": [
        {
          "output_type": "execute_result",
          "data": {
            "text/plain": [
              "       Countries  Units Per Hundred Persons\n",
              "0        Iceland                         98\n",
              "1        Islands                         98\n",
              "2        Bermuda                         97\n",
              "3         Norway                         96\n",
              "4        Denmark                         96\n",
              "5        Andorra                         96\n",
              "6  Liechtenstein                         95\n",
              "7     Luxembourg                         95\n",
              "8        Islands                         95\n",
              "9    Netherlands                         93"
            ],
            "text/html": [
              "\n",
              "  <div id=\"df-c579a6df-5660-4b55-87b9-e17de1105a68\">\n",
              "    <div class=\"colab-df-container\">\n",
              "      <div>\n",
              "<style scoped>\n",
              "    .dataframe tbody tr th:only-of-type {\n",
              "        vertical-align: middle;\n",
              "    }\n",
              "\n",
              "    .dataframe tbody tr th {\n",
              "        vertical-align: top;\n",
              "    }\n",
              "\n",
              "    .dataframe thead th {\n",
              "        text-align: right;\n",
              "    }\n",
              "</style>\n",
              "<table border=\"1\" class=\"dataframe\">\n",
              "  <thead>\n",
              "    <tr style=\"text-align: right;\">\n",
              "      <th></th>\n",
              "      <th>Countries</th>\n",
              "      <th>Units Per Hundred Persons</th>\n",
              "    </tr>\n",
              "  </thead>\n",
              "  <tbody>\n",
              "    <tr>\n",
              "      <th>0</th>\n",
              "      <td>Iceland</td>\n",
              "      <td>98</td>\n",
              "    </tr>\n",
              "    <tr>\n",
              "      <th>1</th>\n",
              "      <td>Islands</td>\n",
              "      <td>98</td>\n",
              "    </tr>\n",
              "    <tr>\n",
              "      <th>2</th>\n",
              "      <td>Bermuda</td>\n",
              "      <td>97</td>\n",
              "    </tr>\n",
              "    <tr>\n",
              "      <th>3</th>\n",
              "      <td>Norway</td>\n",
              "      <td>96</td>\n",
              "    </tr>\n",
              "    <tr>\n",
              "      <th>4</th>\n",
              "      <td>Denmark</td>\n",
              "      <td>96</td>\n",
              "    </tr>\n",
              "    <tr>\n",
              "      <th>5</th>\n",
              "      <td>Andorra</td>\n",
              "      <td>96</td>\n",
              "    </tr>\n",
              "    <tr>\n",
              "      <th>6</th>\n",
              "      <td>Liechtenstein</td>\n",
              "      <td>95</td>\n",
              "    </tr>\n",
              "    <tr>\n",
              "      <th>7</th>\n",
              "      <td>Luxembourg</td>\n",
              "      <td>95</td>\n",
              "    </tr>\n",
              "    <tr>\n",
              "      <th>8</th>\n",
              "      <td>Islands</td>\n",
              "      <td>95</td>\n",
              "    </tr>\n",
              "    <tr>\n",
              "      <th>9</th>\n",
              "      <td>Netherlands</td>\n",
              "      <td>93</td>\n",
              "    </tr>\n",
              "  </tbody>\n",
              "</table>\n",
              "</div>\n",
              "      <button class=\"colab-df-convert\" onclick=\"convertToInteractive('df-c579a6df-5660-4b55-87b9-e17de1105a68')\"\n",
              "              title=\"Convert this dataframe to an interactive table.\"\n",
              "              style=\"display:none;\">\n",
              "        \n",
              "  <svg xmlns=\"http://www.w3.org/2000/svg\" height=\"24px\"viewBox=\"0 0 24 24\"\n",
              "       width=\"24px\">\n",
              "    <path d=\"M0 0h24v24H0V0z\" fill=\"none\"/>\n",
              "    <path d=\"M18.56 5.44l.94 2.06.94-2.06 2.06-.94-2.06-.94-.94-2.06-.94 2.06-2.06.94zm-11 1L8.5 8.5l.94-2.06 2.06-.94-2.06-.94L8.5 2.5l-.94 2.06-2.06.94zm10 10l.94 2.06.94-2.06 2.06-.94-2.06-.94-.94-2.06-.94 2.06-2.06.94z\"/><path d=\"M17.41 7.96l-1.37-1.37c-.4-.4-.92-.59-1.43-.59-.52 0-1.04.2-1.43.59L10.3 9.45l-7.72 7.72c-.78.78-.78 2.05 0 2.83L4 21.41c.39.39.9.59 1.41.59.51 0 1.02-.2 1.41-.59l7.78-7.78 2.81-2.81c.8-.78.8-2.07 0-2.86zM5.41 20L4 18.59l7.72-7.72 1.47 1.35L5.41 20z\"/>\n",
              "  </svg>\n",
              "      </button>\n",
              "      \n",
              "  <style>\n",
              "    .colab-df-container {\n",
              "      display:flex;\n",
              "      flex-wrap:wrap;\n",
              "      gap: 12px;\n",
              "    }\n",
              "\n",
              "    .colab-df-convert {\n",
              "      background-color: #E8F0FE;\n",
              "      border: none;\n",
              "      border-radius: 50%;\n",
              "      cursor: pointer;\n",
              "      display: none;\n",
              "      fill: #1967D2;\n",
              "      height: 32px;\n",
              "      padding: 0 0 0 0;\n",
              "      width: 32px;\n",
              "    }\n",
              "\n",
              "    .colab-df-convert:hover {\n",
              "      background-color: #E2EBFA;\n",
              "      box-shadow: 0px 1px 2px rgba(60, 64, 67, 0.3), 0px 1px 3px 1px rgba(60, 64, 67, 0.15);\n",
              "      fill: #174EA6;\n",
              "    }\n",
              "\n",
              "    [theme=dark] .colab-df-convert {\n",
              "      background-color: #3B4455;\n",
              "      fill: #D2E3FC;\n",
              "    }\n",
              "\n",
              "    [theme=dark] .colab-df-convert:hover {\n",
              "      background-color: #434B5C;\n",
              "      box-shadow: 0px 1px 3px 1px rgba(0, 0, 0, 0.15);\n",
              "      filter: drop-shadow(0px 1px 2px rgba(0, 0, 0, 0.3));\n",
              "      fill: #FFFFFF;\n",
              "    }\n",
              "  </style>\n",
              "\n",
              "      <script>\n",
              "        const buttonEl =\n",
              "          document.querySelector('#df-c579a6df-5660-4b55-87b9-e17de1105a68 button.colab-df-convert');\n",
              "        buttonEl.style.display =\n",
              "          google.colab.kernel.accessAllowed ? 'block' : 'none';\n",
              "\n",
              "        async function convertToInteractive(key) {\n",
              "          const element = document.querySelector('#df-c579a6df-5660-4b55-87b9-e17de1105a68');\n",
              "          const dataTable =\n",
              "            await google.colab.kernel.invokeFunction('convertToInteractive',\n",
              "                                                     [key], {});\n",
              "          if (!dataTable) return;\n",
              "\n",
              "          const docLinkHtml = 'Like what you see? Visit the ' +\n",
              "            '<a target=\"_blank\" href=https://colab.research.google.com/notebooks/data_table.ipynb>data table notebook</a>'\n",
              "            + ' to learn more about interactive tables.';\n",
              "          element.innerHTML = '';\n",
              "          dataTable['output_type'] = 'display_data';\n",
              "          await google.colab.output.renderOutput(dataTable, element);\n",
              "          const docLink = document.createElement('div');\n",
              "          docLink.innerHTML = docLinkHtml;\n",
              "          element.appendChild(docLink);\n",
              "        }\n",
              "      </script>\n",
              "    </div>\n",
              "  </div>\n",
              "  "
            ]
          },
          "metadata": {},
          "execution_count": 10
        }
      ]
    },
    {
      "cell_type": "markdown",
      "metadata": {
        "id": "ysQrs9Ty6BAy"
      },
      "source": [
        "#### 2\n",
        "Get the number of internet users per country, remove all NaN entries and return the top 10 countries with the highest number of internet users relative to the populutation. Hint: you need to scrape the population number from another page)"
      ]
    },
    {
      "cell_type": "code",
      "execution_count": 11,
      "metadata": {
        "id": "18s1vzO-6BAz"
      },
      "outputs": [],
      "source": [
        "url = 'https://www.nationmaster.com/nmx/ranking/individuals-using-the-internet'\n",
        "\n",
        "source = urllib.request.urlopen(url).read()\n",
        "soup = bs.BeautifulSoup(source,'lxml')\n",
        "\n",
        "table = soup.find_all('table')\n",
        "df = pd.read_html(str(table))[0]"
      ]
    },
    {
      "cell_type": "code",
      "source": [
        "df.info()"
      ],
      "metadata": {
        "colab": {
          "base_uri": "https://localhost:8080/"
        },
        "id": "FPIjLYQ9i8ol",
        "outputId": "7749215a-2c49-48ae-f690-b7a8b78ec4f5"
      },
      "execution_count": 12,
      "outputs": [
        {
          "output_type": "stream",
          "name": "stdout",
          "text": [
            "<class 'pandas.core.frame.DataFrame'>\n",
            "RangeIndex: 205 entries, 0 to 204\n",
            "Data columns (total 7 columns):\n",
            " #   Column                 Non-Null Count  Dtype \n",
            "---  ------                 --------------  ----- \n",
            " 0   #                      205 non-null    int64 \n",
            " 1   205 Countries          205 non-null    object\n",
            " 2   Percent of Population  205 non-null    object\n",
            " 3   Last                   205 non-null    int64 \n",
            " 4   YoY                    195 non-null    object\n",
            " 5   5‑years CAGR           201 non-null    object\n",
            " 6   Unnamed: 6             205 non-null    object\n",
            "dtypes: int64(2), object(5)\n",
            "memory usage: 11.3+ KB\n"
          ]
        }
      ]
    },
    {
      "cell_type": "code",
      "source": [
        "df.drop(['#', 'Last', 'YoY', '5‑years CAGR', 'Unnamed: 6'], axis=1, inplace=True)"
      ],
      "metadata": {
        "id": "QKAY98JbjEry"
      },
      "execution_count": 13,
      "outputs": []
    },
    {
      "cell_type": "code",
      "source": [
        "df.rename(columns={'205 Countries':'Countries'}, inplace=True)\n",
        "df.columns"
      ],
      "metadata": {
        "colab": {
          "base_uri": "https://localhost:8080/"
        },
        "id": "6nCX_hL4jWVq",
        "outputId": "f8d9ec98-739f-4028-94c4-3040fc41dd9d"
      },
      "execution_count": 14,
      "outputs": [
        {
          "output_type": "execute_result",
          "data": {
            "text/plain": [
              "Index(['Countries', 'Percent of Population'], dtype='object')"
            ]
          },
          "metadata": {},
          "execution_count": 14
        }
      ]
    },
    {
      "cell_type": "code",
      "source": [
        "df.Countries = df['Countries'].replace('#.* ', '', regex=True)\n",
        "df['Percent of Population'] = df['Percent of Population'].replace('(\\D|\\s)*.%', '', regex=True).astype(\"float\")"
      ],
      "metadata": {
        "id": "3VcT_5S2i-Dv"
      },
      "execution_count": 15,
      "outputs": []
    },
    {
      "cell_type": "markdown",
      "source": [
        "[regex expr](https://regex101.com/r/1rqIGu/1)"
      ],
      "metadata": {
        "id": "hqguNGLDnEYG"
      }
    },
    {
      "cell_type": "code",
      "source": [
        "df.sort_values(by='Percent of Population', ascending=False).head(10)"
      ],
      "metadata": {
        "colab": {
          "base_uri": "https://localhost:8080/",
          "height": 363
        },
        "id": "3uehrJOsjS64",
        "outputId": "0eb080a9-73a3-4c73-c6a8-c11d297996ce"
      },
      "execution_count": 16,
      "outputs": [
        {
          "output_type": "execute_result",
          "data": {
            "text/plain": [
              "       Countries  Percent of Population\n",
              "0          Aruba                 105.26\n",
              "1  Liechtenstein                 104.53\n",
              "2        Bermuda                 103.68\n",
              "3        Islands                 102.82\n",
              "4         Monaco                 101.91\n",
              "5      Gibraltar                 101.47\n",
              "6        Iceland                 100.79\n",
              "7        Andorra                 100.16\n",
              "8     Luxembourg                 100.03\n",
              "9        Bahrain                  99.70"
            ],
            "text/html": [
              "\n",
              "  <div id=\"df-c251955b-d840-463b-b4c9-b39b4818e14e\">\n",
              "    <div class=\"colab-df-container\">\n",
              "      <div>\n",
              "<style scoped>\n",
              "    .dataframe tbody tr th:only-of-type {\n",
              "        vertical-align: middle;\n",
              "    }\n",
              "\n",
              "    .dataframe tbody tr th {\n",
              "        vertical-align: top;\n",
              "    }\n",
              "\n",
              "    .dataframe thead th {\n",
              "        text-align: right;\n",
              "    }\n",
              "</style>\n",
              "<table border=\"1\" class=\"dataframe\">\n",
              "  <thead>\n",
              "    <tr style=\"text-align: right;\">\n",
              "      <th></th>\n",
              "      <th>Countries</th>\n",
              "      <th>Percent of Population</th>\n",
              "    </tr>\n",
              "  </thead>\n",
              "  <tbody>\n",
              "    <tr>\n",
              "      <th>0</th>\n",
              "      <td>Aruba</td>\n",
              "      <td>105.26</td>\n",
              "    </tr>\n",
              "    <tr>\n",
              "      <th>1</th>\n",
              "      <td>Liechtenstein</td>\n",
              "      <td>104.53</td>\n",
              "    </tr>\n",
              "    <tr>\n",
              "      <th>2</th>\n",
              "      <td>Bermuda</td>\n",
              "      <td>103.68</td>\n",
              "    </tr>\n",
              "    <tr>\n",
              "      <th>3</th>\n",
              "      <td>Islands</td>\n",
              "      <td>102.82</td>\n",
              "    </tr>\n",
              "    <tr>\n",
              "      <th>4</th>\n",
              "      <td>Monaco</td>\n",
              "      <td>101.91</td>\n",
              "    </tr>\n",
              "    <tr>\n",
              "      <th>5</th>\n",
              "      <td>Gibraltar</td>\n",
              "      <td>101.47</td>\n",
              "    </tr>\n",
              "    <tr>\n",
              "      <th>6</th>\n",
              "      <td>Iceland</td>\n",
              "      <td>100.79</td>\n",
              "    </tr>\n",
              "    <tr>\n",
              "      <th>7</th>\n",
              "      <td>Andorra</td>\n",
              "      <td>100.16</td>\n",
              "    </tr>\n",
              "    <tr>\n",
              "      <th>8</th>\n",
              "      <td>Luxembourg</td>\n",
              "      <td>100.03</td>\n",
              "    </tr>\n",
              "    <tr>\n",
              "      <th>9</th>\n",
              "      <td>Bahrain</td>\n",
              "      <td>99.70</td>\n",
              "    </tr>\n",
              "  </tbody>\n",
              "</table>\n",
              "</div>\n",
              "      <button class=\"colab-df-convert\" onclick=\"convertToInteractive('df-c251955b-d840-463b-b4c9-b39b4818e14e')\"\n",
              "              title=\"Convert this dataframe to an interactive table.\"\n",
              "              style=\"display:none;\">\n",
              "        \n",
              "  <svg xmlns=\"http://www.w3.org/2000/svg\" height=\"24px\"viewBox=\"0 0 24 24\"\n",
              "       width=\"24px\">\n",
              "    <path d=\"M0 0h24v24H0V0z\" fill=\"none\"/>\n",
              "    <path d=\"M18.56 5.44l.94 2.06.94-2.06 2.06-.94-2.06-.94-.94-2.06-.94 2.06-2.06.94zm-11 1L8.5 8.5l.94-2.06 2.06-.94-2.06-.94L8.5 2.5l-.94 2.06-2.06.94zm10 10l.94 2.06.94-2.06 2.06-.94-2.06-.94-.94-2.06-.94 2.06-2.06.94z\"/><path d=\"M17.41 7.96l-1.37-1.37c-.4-.4-.92-.59-1.43-.59-.52 0-1.04.2-1.43.59L10.3 9.45l-7.72 7.72c-.78.78-.78 2.05 0 2.83L4 21.41c.39.39.9.59 1.41.59.51 0 1.02-.2 1.41-.59l7.78-7.78 2.81-2.81c.8-.78.8-2.07 0-2.86zM5.41 20L4 18.59l7.72-7.72 1.47 1.35L5.41 20z\"/>\n",
              "  </svg>\n",
              "      </button>\n",
              "      \n",
              "  <style>\n",
              "    .colab-df-container {\n",
              "      display:flex;\n",
              "      flex-wrap:wrap;\n",
              "      gap: 12px;\n",
              "    }\n",
              "\n",
              "    .colab-df-convert {\n",
              "      background-color: #E8F0FE;\n",
              "      border: none;\n",
              "      border-radius: 50%;\n",
              "      cursor: pointer;\n",
              "      display: none;\n",
              "      fill: #1967D2;\n",
              "      height: 32px;\n",
              "      padding: 0 0 0 0;\n",
              "      width: 32px;\n",
              "    }\n",
              "\n",
              "    .colab-df-convert:hover {\n",
              "      background-color: #E2EBFA;\n",
              "      box-shadow: 0px 1px 2px rgba(60, 64, 67, 0.3), 0px 1px 3px 1px rgba(60, 64, 67, 0.15);\n",
              "      fill: #174EA6;\n",
              "    }\n",
              "\n",
              "    [theme=dark] .colab-df-convert {\n",
              "      background-color: #3B4455;\n",
              "      fill: #D2E3FC;\n",
              "    }\n",
              "\n",
              "    [theme=dark] .colab-df-convert:hover {\n",
              "      background-color: #434B5C;\n",
              "      box-shadow: 0px 1px 3px 1px rgba(0, 0, 0, 0.15);\n",
              "      filter: drop-shadow(0px 1px 2px rgba(0, 0, 0, 0.3));\n",
              "      fill: #FFFFFF;\n",
              "    }\n",
              "  </style>\n",
              "\n",
              "      <script>\n",
              "        const buttonEl =\n",
              "          document.querySelector('#df-c251955b-d840-463b-b4c9-b39b4818e14e button.colab-df-convert');\n",
              "        buttonEl.style.display =\n",
              "          google.colab.kernel.accessAllowed ? 'block' : 'none';\n",
              "\n",
              "        async function convertToInteractive(key) {\n",
              "          const element = document.querySelector('#df-c251955b-d840-463b-b4c9-b39b4818e14e');\n",
              "          const dataTable =\n",
              "            await google.colab.kernel.invokeFunction('convertToInteractive',\n",
              "                                                     [key], {});\n",
              "          if (!dataTable) return;\n",
              "\n",
              "          const docLinkHtml = 'Like what you see? Visit the ' +\n",
              "            '<a target=\"_blank\" href=https://colab.research.google.com/notebooks/data_table.ipynb>data table notebook</a>'\n",
              "            + ' to learn more about interactive tables.';\n",
              "          element.innerHTML = '';\n",
              "          dataTable['output_type'] = 'display_data';\n",
              "          await google.colab.output.renderOutput(dataTable, element);\n",
              "          const docLink = document.createElement('div');\n",
              "          docLink.innerHTML = docLinkHtml;\n",
              "          element.appendChild(docLink);\n",
              "        }\n",
              "      </script>\n",
              "    </div>\n",
              "  </div>\n",
              "  "
            ]
          },
          "metadata": {},
          "execution_count": 16
        }
      ]
    },
    {
      "cell_type": "markdown",
      "metadata": {
        "id": "9FzADoLt6BA0"
      },
      "source": [
        "#### 3\n",
        "Compute the correlation between the crime rate (murders per 100k) and the education level. Compare this to the correlation of crime rate and poverty (relative BIP). Hint: use pandas build in correlation function: [https://pandas.pydata.org/docs/reference/api/pandas.DataFrame.corr.html](https://pandas.pydata.org/docs/reference/api/pandas.DataFrame.corr.html)"
      ]
    },
    {
      "cell_type": "code",
      "execution_count": 17,
      "metadata": {
        "id": "fyF-ztCZ6BA0",
        "colab": {
          "base_uri": "https://localhost:8080/"
        },
        "outputId": "e65577b4-c78b-46d9-974f-34ee9cb83e98"
      },
      "outputs": [
        {
          "output_type": "stream",
          "name": "stdout",
          "text": [
            "https://www.nationmaster.com/country-info/stats/Economy/Poverty-and-inequality/Multidimensional-poverty-index#-amount\n",
            "https://www.nationmaster.com/country-info/stats/Crime/Violent-crime/Murder-rate\n"
          ]
        }
      ],
      "source": [
        "#url_education = 'https://www.nationmaster.com/nmx/ranking/education-expenditure'\n",
        "url_pov = 'https://www.nationmaster.com/country-info/stats/Economy/Poverty-and-inequality/Multidimensional-poverty-index#-amount'\n",
        "url_murder = 'https://www.nationmaster.com/country-info/stats/Crime/Violent-crime/Murder-rate'\n",
        "urls = [url_pov, url_murder]\n",
        "\n",
        "dfs = []\n",
        "for url in urls:\n",
        "  print(url)\n",
        "  source = urllib.request.urlopen(url).read()\n",
        "  soup = bs.BeautifulSoup(source,'lxml')\n",
        "\n",
        "  table = soup.find_all('table')\n",
        "  dfs += [pd.read_html(str(table))[0]]\n",
        "\n",
        "df_pov = dfs[0]\n",
        "df_mur = dfs[1]"
      ]
    },
    {
      "cell_type": "markdown",
      "source": [
        "Preapre Edu Dataset"
      ],
      "metadata": {
        "id": "OlGwUqtWroSP"
      }
    },
    {
      "cell_type": "code",
      "source": [
        "df_pov.columns"
      ],
      "metadata": {
        "colab": {
          "base_uri": "https://localhost:8080/"
        },
        "id": "D30EIdryqpZP",
        "outputId": "6c478605-a93a-46d9-8aae-eb66d3cb28d8"
      },
      "execution_count": 18,
      "outputs": [
        {
          "output_type": "execute_result",
          "data": {
            "text/plain": [
              "Index(['#', 'COUNTRY', 'AMOUNT', 'DATE', 'GRAPH', 'HISTORY'], dtype='object')"
            ]
          },
          "metadata": {},
          "execution_count": 18
        }
      ]
    },
    {
      "cell_type": "code",
      "source": [
        "df_pov.drop(columns=['#', 'DATE', 'GRAPH', 'HISTORY'], inplace=True)\n",
        "df_pov.rename(columns={'AMOUNT':'poverty'}, inplace=True)\n",
        "df_pov.info()"
      ],
      "metadata": {
        "colab": {
          "base_uri": "https://localhost:8080/"
        },
        "id": "-mBq0JUorR0O",
        "outputId": "c9ac0fe6-e63f-4c79-e84f-5d00cd8b8c8f"
      },
      "execution_count": 19,
      "outputs": [
        {
          "output_type": "stream",
          "name": "stdout",
          "text": [
            "<class 'pandas.core.frame.DataFrame'>\n",
            "RangeIndex: 103 entries, 0 to 102\n",
            "Data columns (total 2 columns):\n",
            " #   Column   Non-Null Count  Dtype  \n",
            "---  ------   --------------  -----  \n",
            " 0   COUNTRY  103 non-null    object \n",
            " 1   poverty  103 non-null    float64\n",
            "dtypes: float64(1), object(1)\n",
            "memory usage: 1.7+ KB\n"
          ]
        }
      ]
    },
    {
      "cell_type": "markdown",
      "source": [
        "Prepare Murder Data Set"
      ],
      "metadata": {
        "id": "5XOiOpI3rhjV"
      }
    },
    {
      "cell_type": "code",
      "source": [
        "df_mur.head(5)"
      ],
      "metadata": {
        "colab": {
          "base_uri": "https://localhost:8080/",
          "height": 206
        },
        "id": "Ebv-Pri2qwlq",
        "outputId": "870c1ce0-7ba7-47fd-e4ed-770495f7774c"
      },
      "execution_count": 20,
      "outputs": [
        {
          "output_type": "execute_result",
          "data": {
            "text/plain": [
              "   #    COUNTRY   AMOUNT  DATE  GRAPH  HISTORY\n",
              "0  1     Brazil  40974.0  2010    NaN      NaN\n",
              "1  2      India  40752.0  2009    NaN      NaN\n",
              "2  3     Mexico  25757.0  2010    NaN      NaN\n",
              "3  4   Ethiopia  20239.0  2008    NaN      NaN\n",
              "4  5  Indonesia  18963.0  2008    NaN      NaN"
            ],
            "text/html": [
              "\n",
              "  <div id=\"df-57b4ef69-d23d-4ddf-a4b0-c53d6adac435\">\n",
              "    <div class=\"colab-df-container\">\n",
              "      <div>\n",
              "<style scoped>\n",
              "    .dataframe tbody tr th:only-of-type {\n",
              "        vertical-align: middle;\n",
              "    }\n",
              "\n",
              "    .dataframe tbody tr th {\n",
              "        vertical-align: top;\n",
              "    }\n",
              "\n",
              "    .dataframe thead th {\n",
              "        text-align: right;\n",
              "    }\n",
              "</style>\n",
              "<table border=\"1\" class=\"dataframe\">\n",
              "  <thead>\n",
              "    <tr style=\"text-align: right;\">\n",
              "      <th></th>\n",
              "      <th>#</th>\n",
              "      <th>COUNTRY</th>\n",
              "      <th>AMOUNT</th>\n",
              "      <th>DATE</th>\n",
              "      <th>GRAPH</th>\n",
              "      <th>HISTORY</th>\n",
              "    </tr>\n",
              "  </thead>\n",
              "  <tbody>\n",
              "    <tr>\n",
              "      <th>0</th>\n",
              "      <td>1</td>\n",
              "      <td>Brazil</td>\n",
              "      <td>40974.0</td>\n",
              "      <td>2010</td>\n",
              "      <td>NaN</td>\n",
              "      <td>NaN</td>\n",
              "    </tr>\n",
              "    <tr>\n",
              "      <th>1</th>\n",
              "      <td>2</td>\n",
              "      <td>India</td>\n",
              "      <td>40752.0</td>\n",
              "      <td>2009</td>\n",
              "      <td>NaN</td>\n",
              "      <td>NaN</td>\n",
              "    </tr>\n",
              "    <tr>\n",
              "      <th>2</th>\n",
              "      <td>3</td>\n",
              "      <td>Mexico</td>\n",
              "      <td>25757.0</td>\n",
              "      <td>2010</td>\n",
              "      <td>NaN</td>\n",
              "      <td>NaN</td>\n",
              "    </tr>\n",
              "    <tr>\n",
              "      <th>3</th>\n",
              "      <td>4</td>\n",
              "      <td>Ethiopia</td>\n",
              "      <td>20239.0</td>\n",
              "      <td>2008</td>\n",
              "      <td>NaN</td>\n",
              "      <td>NaN</td>\n",
              "    </tr>\n",
              "    <tr>\n",
              "      <th>4</th>\n",
              "      <td>5</td>\n",
              "      <td>Indonesia</td>\n",
              "      <td>18963.0</td>\n",
              "      <td>2008</td>\n",
              "      <td>NaN</td>\n",
              "      <td>NaN</td>\n",
              "    </tr>\n",
              "  </tbody>\n",
              "</table>\n",
              "</div>\n",
              "      <button class=\"colab-df-convert\" onclick=\"convertToInteractive('df-57b4ef69-d23d-4ddf-a4b0-c53d6adac435')\"\n",
              "              title=\"Convert this dataframe to an interactive table.\"\n",
              "              style=\"display:none;\">\n",
              "        \n",
              "  <svg xmlns=\"http://www.w3.org/2000/svg\" height=\"24px\"viewBox=\"0 0 24 24\"\n",
              "       width=\"24px\">\n",
              "    <path d=\"M0 0h24v24H0V0z\" fill=\"none\"/>\n",
              "    <path d=\"M18.56 5.44l.94 2.06.94-2.06 2.06-.94-2.06-.94-.94-2.06-.94 2.06-2.06.94zm-11 1L8.5 8.5l.94-2.06 2.06-.94-2.06-.94L8.5 2.5l-.94 2.06-2.06.94zm10 10l.94 2.06.94-2.06 2.06-.94-2.06-.94-.94-2.06-.94 2.06-2.06.94z\"/><path d=\"M17.41 7.96l-1.37-1.37c-.4-.4-.92-.59-1.43-.59-.52 0-1.04.2-1.43.59L10.3 9.45l-7.72 7.72c-.78.78-.78 2.05 0 2.83L4 21.41c.39.39.9.59 1.41.59.51 0 1.02-.2 1.41-.59l7.78-7.78 2.81-2.81c.8-.78.8-2.07 0-2.86zM5.41 20L4 18.59l7.72-7.72 1.47 1.35L5.41 20z\"/>\n",
              "  </svg>\n",
              "      </button>\n",
              "      \n",
              "  <style>\n",
              "    .colab-df-container {\n",
              "      display:flex;\n",
              "      flex-wrap:wrap;\n",
              "      gap: 12px;\n",
              "    }\n",
              "\n",
              "    .colab-df-convert {\n",
              "      background-color: #E8F0FE;\n",
              "      border: none;\n",
              "      border-radius: 50%;\n",
              "      cursor: pointer;\n",
              "      display: none;\n",
              "      fill: #1967D2;\n",
              "      height: 32px;\n",
              "      padding: 0 0 0 0;\n",
              "      width: 32px;\n",
              "    }\n",
              "\n",
              "    .colab-df-convert:hover {\n",
              "      background-color: #E2EBFA;\n",
              "      box-shadow: 0px 1px 2px rgba(60, 64, 67, 0.3), 0px 1px 3px 1px rgba(60, 64, 67, 0.15);\n",
              "      fill: #174EA6;\n",
              "    }\n",
              "\n",
              "    [theme=dark] .colab-df-convert {\n",
              "      background-color: #3B4455;\n",
              "      fill: #D2E3FC;\n",
              "    }\n",
              "\n",
              "    [theme=dark] .colab-df-convert:hover {\n",
              "      background-color: #434B5C;\n",
              "      box-shadow: 0px 1px 3px 1px rgba(0, 0, 0, 0.15);\n",
              "      filter: drop-shadow(0px 1px 2px rgba(0, 0, 0, 0.3));\n",
              "      fill: #FFFFFF;\n",
              "    }\n",
              "  </style>\n",
              "\n",
              "      <script>\n",
              "        const buttonEl =\n",
              "          document.querySelector('#df-57b4ef69-d23d-4ddf-a4b0-c53d6adac435 button.colab-df-convert');\n",
              "        buttonEl.style.display =\n",
              "          google.colab.kernel.accessAllowed ? 'block' : 'none';\n",
              "\n",
              "        async function convertToInteractive(key) {\n",
              "          const element = document.querySelector('#df-57b4ef69-d23d-4ddf-a4b0-c53d6adac435');\n",
              "          const dataTable =\n",
              "            await google.colab.kernel.invokeFunction('convertToInteractive',\n",
              "                                                     [key], {});\n",
              "          if (!dataTable) return;\n",
              "\n",
              "          const docLinkHtml = 'Like what you see? Visit the ' +\n",
              "            '<a target=\"_blank\" href=https://colab.research.google.com/notebooks/data_table.ipynb>data table notebook</a>'\n",
              "            + ' to learn more about interactive tables.';\n",
              "          element.innerHTML = '';\n",
              "          dataTable['output_type'] = 'display_data';\n",
              "          await google.colab.output.renderOutput(dataTable, element);\n",
              "          const docLink = document.createElement('div');\n",
              "          docLink.innerHTML = docLinkHtml;\n",
              "          element.appendChild(docLink);\n",
              "        }\n",
              "      </script>\n",
              "    </div>\n",
              "  </div>\n",
              "  "
            ]
          },
          "metadata": {},
          "execution_count": 20
        }
      ]
    },
    {
      "cell_type": "code",
      "source": [
        "df_mur.drop(columns=['#', 'DATE', 'GRAPH', 'HISTORY'], inplace=True)\n",
        "df_mur.rename({'AMOUNT':'homicides'}, axis=1, inplace=True)\n",
        "df_mur.info()"
      ],
      "metadata": {
        "colab": {
          "base_uri": "https://localhost:8080/"
        },
        "id": "iQsjbAJTrtRK",
        "outputId": "6368b5b7-a68e-458c-92fe-1cce478aec19"
      },
      "execution_count": 21,
      "outputs": [
        {
          "output_type": "stream",
          "name": "stdout",
          "text": [
            "<class 'pandas.core.frame.DataFrame'>\n",
            "RangeIndex: 204 entries, 0 to 203\n",
            "Data columns (total 2 columns):\n",
            " #   Column     Non-Null Count  Dtype  \n",
            "---  ------     --------------  -----  \n",
            " 0   COUNTRY    204 non-null    object \n",
            " 1   homicides  204 non-null    float64\n",
            "dtypes: float64(1), object(1)\n",
            "memory usage: 3.3+ KB\n"
          ]
        }
      ]
    },
    {
      "cell_type": "markdown",
      "source": [
        "Combine both datastes"
      ],
      "metadata": {
        "id": "psni9BlBr9Eo"
      }
    },
    {
      "cell_type": "code",
      "source": [
        "df = pd.merge(df_pov, df_mur, on='COUNTRY')"
      ],
      "metadata": {
        "id": "3rcJxD-Vr_KA"
      },
      "execution_count": 22,
      "outputs": []
    },
    {
      "cell_type": "code",
      "source": [
        "df.info()"
      ],
      "metadata": {
        "colab": {
          "base_uri": "https://localhost:8080/"
        },
        "id": "P0YBk1_Esyv1",
        "outputId": "5d85bbc1-1acf-49be-d843-e4d43d8fb343"
      },
      "execution_count": 23,
      "outputs": [
        {
          "output_type": "stream",
          "name": "stdout",
          "text": [
            "<class 'pandas.core.frame.DataFrame'>\n",
            "Int64Index: 103 entries, 0 to 102\n",
            "Data columns (total 3 columns):\n",
            " #   Column     Non-Null Count  Dtype  \n",
            "---  ------     --------------  -----  \n",
            " 0   COUNTRY    103 non-null    object \n",
            " 1   poverty    103 non-null    float64\n",
            " 2   homicides  103 non-null    float64\n",
            "dtypes: float64(2), object(1)\n",
            "memory usage: 3.2+ KB\n"
          ]
        }
      ]
    },
    {
      "cell_type": "code",
      "source": [
        "df.corr()"
      ],
      "metadata": {
        "colab": {
          "base_uri": "https://localhost:8080/",
          "height": 112
        },
        "id": "McmP6AqRs1SN",
        "outputId": "5dfcab7a-d6d5-4cdf-be70-486d3ae786c1"
      },
      "execution_count": 24,
      "outputs": [
        {
          "output_type": "execute_result",
          "data": {
            "text/plain": [
              "            poverty  homicides\n",
              "poverty    1.000000   0.094618\n",
              "homicides  0.094618   1.000000"
            ],
            "text/html": [
              "\n",
              "  <div id=\"df-74ee0af3-8259-4d4e-9f88-12cfa8016cd4\">\n",
              "    <div class=\"colab-df-container\">\n",
              "      <div>\n",
              "<style scoped>\n",
              "    .dataframe tbody tr th:only-of-type {\n",
              "        vertical-align: middle;\n",
              "    }\n",
              "\n",
              "    .dataframe tbody tr th {\n",
              "        vertical-align: top;\n",
              "    }\n",
              "\n",
              "    .dataframe thead th {\n",
              "        text-align: right;\n",
              "    }\n",
              "</style>\n",
              "<table border=\"1\" class=\"dataframe\">\n",
              "  <thead>\n",
              "    <tr style=\"text-align: right;\">\n",
              "      <th></th>\n",
              "      <th>poverty</th>\n",
              "      <th>homicides</th>\n",
              "    </tr>\n",
              "  </thead>\n",
              "  <tbody>\n",
              "    <tr>\n",
              "      <th>poverty</th>\n",
              "      <td>1.000000</td>\n",
              "      <td>0.094618</td>\n",
              "    </tr>\n",
              "    <tr>\n",
              "      <th>homicides</th>\n",
              "      <td>0.094618</td>\n",
              "      <td>1.000000</td>\n",
              "    </tr>\n",
              "  </tbody>\n",
              "</table>\n",
              "</div>\n",
              "      <button class=\"colab-df-convert\" onclick=\"convertToInteractive('df-74ee0af3-8259-4d4e-9f88-12cfa8016cd4')\"\n",
              "              title=\"Convert this dataframe to an interactive table.\"\n",
              "              style=\"display:none;\">\n",
              "        \n",
              "  <svg xmlns=\"http://www.w3.org/2000/svg\" height=\"24px\"viewBox=\"0 0 24 24\"\n",
              "       width=\"24px\">\n",
              "    <path d=\"M0 0h24v24H0V0z\" fill=\"none\"/>\n",
              "    <path d=\"M18.56 5.44l.94 2.06.94-2.06 2.06-.94-2.06-.94-.94-2.06-.94 2.06-2.06.94zm-11 1L8.5 8.5l.94-2.06 2.06-.94-2.06-.94L8.5 2.5l-.94 2.06-2.06.94zm10 10l.94 2.06.94-2.06 2.06-.94-2.06-.94-.94-2.06-.94 2.06-2.06.94z\"/><path d=\"M17.41 7.96l-1.37-1.37c-.4-.4-.92-.59-1.43-.59-.52 0-1.04.2-1.43.59L10.3 9.45l-7.72 7.72c-.78.78-.78 2.05 0 2.83L4 21.41c.39.39.9.59 1.41.59.51 0 1.02-.2 1.41-.59l7.78-7.78 2.81-2.81c.8-.78.8-2.07 0-2.86zM5.41 20L4 18.59l7.72-7.72 1.47 1.35L5.41 20z\"/>\n",
              "  </svg>\n",
              "      </button>\n",
              "      \n",
              "  <style>\n",
              "    .colab-df-container {\n",
              "      display:flex;\n",
              "      flex-wrap:wrap;\n",
              "      gap: 12px;\n",
              "    }\n",
              "\n",
              "    .colab-df-convert {\n",
              "      background-color: #E8F0FE;\n",
              "      border: none;\n",
              "      border-radius: 50%;\n",
              "      cursor: pointer;\n",
              "      display: none;\n",
              "      fill: #1967D2;\n",
              "      height: 32px;\n",
              "      padding: 0 0 0 0;\n",
              "      width: 32px;\n",
              "    }\n",
              "\n",
              "    .colab-df-convert:hover {\n",
              "      background-color: #E2EBFA;\n",
              "      box-shadow: 0px 1px 2px rgba(60, 64, 67, 0.3), 0px 1px 3px 1px rgba(60, 64, 67, 0.15);\n",
              "      fill: #174EA6;\n",
              "    }\n",
              "\n",
              "    [theme=dark] .colab-df-convert {\n",
              "      background-color: #3B4455;\n",
              "      fill: #D2E3FC;\n",
              "    }\n",
              "\n",
              "    [theme=dark] .colab-df-convert:hover {\n",
              "      background-color: #434B5C;\n",
              "      box-shadow: 0px 1px 3px 1px rgba(0, 0, 0, 0.15);\n",
              "      filter: drop-shadow(0px 1px 2px rgba(0, 0, 0, 0.3));\n",
              "      fill: #FFFFFF;\n",
              "    }\n",
              "  </style>\n",
              "\n",
              "      <script>\n",
              "        const buttonEl =\n",
              "          document.querySelector('#df-74ee0af3-8259-4d4e-9f88-12cfa8016cd4 button.colab-df-convert');\n",
              "        buttonEl.style.display =\n",
              "          google.colab.kernel.accessAllowed ? 'block' : 'none';\n",
              "\n",
              "        async function convertToInteractive(key) {\n",
              "          const element = document.querySelector('#df-74ee0af3-8259-4d4e-9f88-12cfa8016cd4');\n",
              "          const dataTable =\n",
              "            await google.colab.kernel.invokeFunction('convertToInteractive',\n",
              "                                                     [key], {});\n",
              "          if (!dataTable) return;\n",
              "\n",
              "          const docLinkHtml = 'Like what you see? Visit the ' +\n",
              "            '<a target=\"_blank\" href=https://colab.research.google.com/notebooks/data_table.ipynb>data table notebook</a>'\n",
              "            + ' to learn more about interactive tables.';\n",
              "          element.innerHTML = '';\n",
              "          dataTable['output_type'] = 'display_data';\n",
              "          await google.colab.output.renderOutput(dataTable, element);\n",
              "          const docLink = document.createElement('div');\n",
              "          docLink.innerHTML = docLinkHtml;\n",
              "          element.appendChild(docLink);\n",
              "        }\n",
              "      </script>\n",
              "    </div>\n",
              "  </div>\n",
              "  "
            ]
          },
          "metadata": {},
          "execution_count": 24
        }
      ]
    },
    {
      "cell_type": "markdown",
      "metadata": {
        "id": "Jv8ICUgm6BA0"
      },
      "source": [
        "### REST API\n",
        "#### Using data from [https://www.energidataservice.dk](https://www.energidataservice.dk) \n",
        "\n",
        "We look at real time energy production: https://www.energidataservice.dk/tso-electricity/electricityprodex5minrealtime"
      ]
    },
    {
      "cell_type": "code",
      "execution_count": 25,
      "metadata": {
        "id": "EoosWmpA6BA1"
      },
      "outputs": [],
      "source": [
        "import pandas as pd\n",
        "import requests\n",
        "from pandas import json_normalize"
      ]
    },
    {
      "cell_type": "code",
      "execution_count": 26,
      "metadata": {
        "scrolled": true,
        "id": "czTWVgCt6BA2",
        "outputId": "a4d04ec4-2dcd-4159-9f74-11fde27830e8",
        "colab": {
          "base_uri": "https://localhost:8080/",
          "height": 357
        }
      },
      "outputs": [
        {
          "output_type": "execute_result",
          "data": {
            "text/plain": [
              "    _id                Minutes5UTC           Minutes5DK PriceArea  \\\n",
              "0  1949  2018-05-27T22:00:00+00:00  2018-05-28T00:00:00       DK1   \n",
              "1  1950  2018-05-27T22:00:00+00:00  2018-05-28T00:00:00       DK2   \n",
              "2  1951  2018-05-27T22:05:00+00:00  2018-05-28T00:05:00       DK1   \n",
              "3  1952  2018-05-27T22:05:00+00:00  2018-05-28T00:05:00       DK2   \n",
              "4  1953  2018-05-27T22:10:00+00:00  2018-05-28T00:10:00       DK1   \n",
              "\n",
              "   ProductionLt100MW  ProductionGe100MW  OffshoreWindPower  OnshoreWindPower  \\\n",
              "0             186.91              -5.14             585.60            814.60   \n",
              "1             112.13             159.23             206.72            223.51   \n",
              "2             191.50              -5.85             602.48            831.38   \n",
              "3             111.44             176.53             223.09            229.23   \n",
              "4             188.68              -5.82             612.03            842.72   \n",
              "\n",
              "   SolarPower  ExchangeGreatBelt  ExchangeGermany ExchangeNetherlands  \\\n",
              "0         0.0            -424.19           571.81                None   \n",
              "1         0.0             424.19             2.12                None   \n",
              "2         0.0            -478.59           534.25                None   \n",
              "3         0.0             478.59             2.21                None   \n",
              "4         0.0            -532.18           547.31                None   \n",
              "\n",
              "   ExchangeNorway  ExchangeSweden  BornholmSE4  \n",
              "0          -246.0          395.45          NaN  \n",
              "1             NaN          -66.93        -2.89  \n",
              "2          -253.0          441.05          NaN  \n",
              "3             NaN         -160.48        -1.90  \n",
              "4          -266.0          493.95          NaN  "
            ],
            "text/html": [
              "\n",
              "  <div id=\"df-ff0a8287-0c18-4cb7-b045-cd1962c40e61\">\n",
              "    <div class=\"colab-df-container\">\n",
              "      <div>\n",
              "<style scoped>\n",
              "    .dataframe tbody tr th:only-of-type {\n",
              "        vertical-align: middle;\n",
              "    }\n",
              "\n",
              "    .dataframe tbody tr th {\n",
              "        vertical-align: top;\n",
              "    }\n",
              "\n",
              "    .dataframe thead th {\n",
              "        text-align: right;\n",
              "    }\n",
              "</style>\n",
              "<table border=\"1\" class=\"dataframe\">\n",
              "  <thead>\n",
              "    <tr style=\"text-align: right;\">\n",
              "      <th></th>\n",
              "      <th>_id</th>\n",
              "      <th>Minutes5UTC</th>\n",
              "      <th>Minutes5DK</th>\n",
              "      <th>PriceArea</th>\n",
              "      <th>ProductionLt100MW</th>\n",
              "      <th>ProductionGe100MW</th>\n",
              "      <th>OffshoreWindPower</th>\n",
              "      <th>OnshoreWindPower</th>\n",
              "      <th>SolarPower</th>\n",
              "      <th>ExchangeGreatBelt</th>\n",
              "      <th>ExchangeGermany</th>\n",
              "      <th>ExchangeNetherlands</th>\n",
              "      <th>ExchangeNorway</th>\n",
              "      <th>ExchangeSweden</th>\n",
              "      <th>BornholmSE4</th>\n",
              "    </tr>\n",
              "  </thead>\n",
              "  <tbody>\n",
              "    <tr>\n",
              "      <th>0</th>\n",
              "      <td>1949</td>\n",
              "      <td>2018-05-27T22:00:00+00:00</td>\n",
              "      <td>2018-05-28T00:00:00</td>\n",
              "      <td>DK1</td>\n",
              "      <td>186.91</td>\n",
              "      <td>-5.14</td>\n",
              "      <td>585.60</td>\n",
              "      <td>814.60</td>\n",
              "      <td>0.0</td>\n",
              "      <td>-424.19</td>\n",
              "      <td>571.81</td>\n",
              "      <td>None</td>\n",
              "      <td>-246.0</td>\n",
              "      <td>395.45</td>\n",
              "      <td>NaN</td>\n",
              "    </tr>\n",
              "    <tr>\n",
              "      <th>1</th>\n",
              "      <td>1950</td>\n",
              "      <td>2018-05-27T22:00:00+00:00</td>\n",
              "      <td>2018-05-28T00:00:00</td>\n",
              "      <td>DK2</td>\n",
              "      <td>112.13</td>\n",
              "      <td>159.23</td>\n",
              "      <td>206.72</td>\n",
              "      <td>223.51</td>\n",
              "      <td>0.0</td>\n",
              "      <td>424.19</td>\n",
              "      <td>2.12</td>\n",
              "      <td>None</td>\n",
              "      <td>NaN</td>\n",
              "      <td>-66.93</td>\n",
              "      <td>-2.89</td>\n",
              "    </tr>\n",
              "    <tr>\n",
              "      <th>2</th>\n",
              "      <td>1951</td>\n",
              "      <td>2018-05-27T22:05:00+00:00</td>\n",
              "      <td>2018-05-28T00:05:00</td>\n",
              "      <td>DK1</td>\n",
              "      <td>191.50</td>\n",
              "      <td>-5.85</td>\n",
              "      <td>602.48</td>\n",
              "      <td>831.38</td>\n",
              "      <td>0.0</td>\n",
              "      <td>-478.59</td>\n",
              "      <td>534.25</td>\n",
              "      <td>None</td>\n",
              "      <td>-253.0</td>\n",
              "      <td>441.05</td>\n",
              "      <td>NaN</td>\n",
              "    </tr>\n",
              "    <tr>\n",
              "      <th>3</th>\n",
              "      <td>1952</td>\n",
              "      <td>2018-05-27T22:05:00+00:00</td>\n",
              "      <td>2018-05-28T00:05:00</td>\n",
              "      <td>DK2</td>\n",
              "      <td>111.44</td>\n",
              "      <td>176.53</td>\n",
              "      <td>223.09</td>\n",
              "      <td>229.23</td>\n",
              "      <td>0.0</td>\n",
              "      <td>478.59</td>\n",
              "      <td>2.21</td>\n",
              "      <td>None</td>\n",
              "      <td>NaN</td>\n",
              "      <td>-160.48</td>\n",
              "      <td>-1.90</td>\n",
              "    </tr>\n",
              "    <tr>\n",
              "      <th>4</th>\n",
              "      <td>1953</td>\n",
              "      <td>2018-05-27T22:10:00+00:00</td>\n",
              "      <td>2018-05-28T00:10:00</td>\n",
              "      <td>DK1</td>\n",
              "      <td>188.68</td>\n",
              "      <td>-5.82</td>\n",
              "      <td>612.03</td>\n",
              "      <td>842.72</td>\n",
              "      <td>0.0</td>\n",
              "      <td>-532.18</td>\n",
              "      <td>547.31</td>\n",
              "      <td>None</td>\n",
              "      <td>-266.0</td>\n",
              "      <td>493.95</td>\n",
              "      <td>NaN</td>\n",
              "    </tr>\n",
              "  </tbody>\n",
              "</table>\n",
              "</div>\n",
              "      <button class=\"colab-df-convert\" onclick=\"convertToInteractive('df-ff0a8287-0c18-4cb7-b045-cd1962c40e61')\"\n",
              "              title=\"Convert this dataframe to an interactive table.\"\n",
              "              style=\"display:none;\">\n",
              "        \n",
              "  <svg xmlns=\"http://www.w3.org/2000/svg\" height=\"24px\"viewBox=\"0 0 24 24\"\n",
              "       width=\"24px\">\n",
              "    <path d=\"M0 0h24v24H0V0z\" fill=\"none\"/>\n",
              "    <path d=\"M18.56 5.44l.94 2.06.94-2.06 2.06-.94-2.06-.94-.94-2.06-.94 2.06-2.06.94zm-11 1L8.5 8.5l.94-2.06 2.06-.94-2.06-.94L8.5 2.5l-.94 2.06-2.06.94zm10 10l.94 2.06.94-2.06 2.06-.94-2.06-.94-.94-2.06-.94 2.06-2.06.94z\"/><path d=\"M17.41 7.96l-1.37-1.37c-.4-.4-.92-.59-1.43-.59-.52 0-1.04.2-1.43.59L10.3 9.45l-7.72 7.72c-.78.78-.78 2.05 0 2.83L4 21.41c.39.39.9.59 1.41.59.51 0 1.02-.2 1.41-.59l7.78-7.78 2.81-2.81c.8-.78.8-2.07 0-2.86zM5.41 20L4 18.59l7.72-7.72 1.47 1.35L5.41 20z\"/>\n",
              "  </svg>\n",
              "      </button>\n",
              "      \n",
              "  <style>\n",
              "    .colab-df-container {\n",
              "      display:flex;\n",
              "      flex-wrap:wrap;\n",
              "      gap: 12px;\n",
              "    }\n",
              "\n",
              "    .colab-df-convert {\n",
              "      background-color: #E8F0FE;\n",
              "      border: none;\n",
              "      border-radius: 50%;\n",
              "      cursor: pointer;\n",
              "      display: none;\n",
              "      fill: #1967D2;\n",
              "      height: 32px;\n",
              "      padding: 0 0 0 0;\n",
              "      width: 32px;\n",
              "    }\n",
              "\n",
              "    .colab-df-convert:hover {\n",
              "      background-color: #E2EBFA;\n",
              "      box-shadow: 0px 1px 2px rgba(60, 64, 67, 0.3), 0px 1px 3px 1px rgba(60, 64, 67, 0.15);\n",
              "      fill: #174EA6;\n",
              "    }\n",
              "\n",
              "    [theme=dark] .colab-df-convert {\n",
              "      background-color: #3B4455;\n",
              "      fill: #D2E3FC;\n",
              "    }\n",
              "\n",
              "    [theme=dark] .colab-df-convert:hover {\n",
              "      background-color: #434B5C;\n",
              "      box-shadow: 0px 1px 3px 1px rgba(0, 0, 0, 0.15);\n",
              "      filter: drop-shadow(0px 1px 2px rgba(0, 0, 0, 0.3));\n",
              "      fill: #FFFFFF;\n",
              "    }\n",
              "  </style>\n",
              "\n",
              "      <script>\n",
              "        const buttonEl =\n",
              "          document.querySelector('#df-ff0a8287-0c18-4cb7-b045-cd1962c40e61 button.colab-df-convert');\n",
              "        buttonEl.style.display =\n",
              "          google.colab.kernel.accessAllowed ? 'block' : 'none';\n",
              "\n",
              "        async function convertToInteractive(key) {\n",
              "          const element = document.querySelector('#df-ff0a8287-0c18-4cb7-b045-cd1962c40e61');\n",
              "          const dataTable =\n",
              "            await google.colab.kernel.invokeFunction('convertToInteractive',\n",
              "                                                     [key], {});\n",
              "          if (!dataTable) return;\n",
              "\n",
              "          const docLinkHtml = 'Like what you see? Visit the ' +\n",
              "            '<a target=\"_blank\" href=https://colab.research.google.com/notebooks/data_table.ipynb>data table notebook</a>'\n",
              "            + ' to learn more about interactive tables.';\n",
              "          element.innerHTML = '';\n",
              "          dataTable['output_type'] = 'display_data';\n",
              "          await google.colab.output.renderOutput(dataTable, element);\n",
              "          const docLink = document.createElement('div');\n",
              "          docLink.innerHTML = docLinkHtml;\n",
              "          element.appendChild(docLink);\n",
              "        }\n",
              "      </script>\n",
              "    </div>\n",
              "  </div>\n",
              "  "
            ]
          },
          "metadata": {},
          "execution_count": 26
        }
      ],
      "source": [
        "#get data from an open energy data service provider\n",
        "url = 'https://api.energidataservice.dk/datastore_search?resource_id=electricityprodex5minrealtime&limit=500'\n",
        "\n",
        "response = requests.get(url)\n",
        "dictr = response.json() #parse json to dict\n",
        "recs = dictr['result']['records'] \n",
        "df = json_normalize(recs) #flatten json files into data frame\n",
        "df.head()"
      ]
    },
    {
      "cell_type": "code",
      "source": [
        "df.info()"
      ],
      "metadata": {
        "id": "cyTn2rSJJ7aD",
        "outputId": "cbee1e5e-36eb-44e6-d558-d8090ee80301",
        "colab": {
          "base_uri": "https://localhost:8080/"
        }
      },
      "execution_count": 28,
      "outputs": [
        {
          "output_type": "stream",
          "name": "stdout",
          "text": [
            "<class 'pandas.core.frame.DataFrame'>\n",
            "RangeIndex: 500 entries, 0 to 499\n",
            "Data columns (total 15 columns):\n",
            " #   Column               Non-Null Count  Dtype  \n",
            "---  ------               --------------  -----  \n",
            " 0   _id                  500 non-null    int64  \n",
            " 1   Minutes5UTC          500 non-null    object \n",
            " 2   Minutes5DK           500 non-null    object \n",
            " 3   PriceArea            500 non-null    object \n",
            " 4   ProductionLt100MW    500 non-null    float64\n",
            " 5   ProductionGe100MW    500 non-null    float64\n",
            " 6   OffshoreWindPower    500 non-null    float64\n",
            " 7   OnshoreWindPower     500 non-null    float64\n",
            " 8   SolarPower           500 non-null    float64\n",
            " 9   ExchangeGreatBelt    500 non-null    float64\n",
            " 10  ExchangeGermany      500 non-null    float64\n",
            " 11  ExchangeNetherlands  0 non-null      object \n",
            " 12  ExchangeNorway       253 non-null    float64\n",
            " 13  ExchangeSweden       500 non-null    float64\n",
            " 14  BornholmSE4          247 non-null    float64\n",
            "dtypes: float64(10), int64(1), object(4)\n",
            "memory usage: 58.7+ KB\n"
          ]
        }
      ]
    },
    {
      "cell_type": "markdown",
      "metadata": {
        "id": "Mvbc44FU6BA2"
      },
      "source": [
        "#### 4\n",
        "Compute overview statistics (mean, variance, quantiles, counts,...) for all variables. Hint: there is a single pandas call to get this ..."
      ]
    },
    {
      "cell_type": "code",
      "execution_count": 27,
      "metadata": {
        "id": "fxwaetEh6BA3",
        "colab": {
          "base_uri": "https://localhost:8080/",
          "height": 300
        },
        "outputId": "c8d86329-b3eb-43a1-e002-94070921d00c"
      },
      "outputs": [
        {
          "output_type": "execute_result",
          "data": {
            "text/plain": [
              "                 _id  ProductionLt100MW  ProductionGe100MW  OffshoreWindPower  \\\n",
              "count     500.000000         500.000000         500.000000         500.000000   \n",
              "mean    66433.074000         184.328040         193.209720         256.148980   \n",
              "std    227313.713959          87.553423         191.439448         162.159724   \n",
              "min      1093.000000          83.450000          -6.360000          14.640000   \n",
              "25%      1492.750000         110.140000          63.832500         106.922500   \n",
              "50%      2007.500000         197.070000         150.600000         241.680000   \n",
              "75%      2132.250000         219.532500         275.635000         333.447500   \n",
              "max    907901.000000         610.620000        1086.110000         660.900000   \n",
              "\n",
              "       OnshoreWindPower  SolarPower  ExchangeGreatBelt  ExchangeGermany  \\\n",
              "count        500.000000   500.00000         500.000000       500.000000   \n",
              "mean         386.656240    28.40066          -3.202980       388.850400   \n",
              "std          300.516856    64.60294         408.286726       649.952804   \n",
              "min           41.520000     0.00000        -592.280000     -1317.440000   \n",
              "25%          142.720000     0.00000        -389.297500         1.070000   \n",
              "50%          301.755000     0.08000           0.000000         2.220000   \n",
              "75%          595.780000    21.20000         372.907500       846.050000   \n",
              "max         2329.140000   437.21000         592.280000      1622.750000   \n",
              "\n",
              "       ExchangeNorway  ExchangeSweden  BornholmSE4  \n",
              "count      253.000000      500.000000   247.000000  \n",
              "mean       155.811344      161.317540     5.934939  \n",
              "std        867.672642      397.920958     7.284122  \n",
              "min      -1531.000000     -740.580000    -7.060000  \n",
              "25%       -540.000000     -172.300000    -1.165000  \n",
              "50%        129.840000      127.130000     6.210000  \n",
              "75%        953.950000      472.250000    11.570000  \n",
              "max       1333.510000      919.540000    22.620000  "
            ],
            "text/html": [
              "\n",
              "  <div id=\"df-da3f4337-20e1-4320-a172-8a8021cc609b\">\n",
              "    <div class=\"colab-df-container\">\n",
              "      <div>\n",
              "<style scoped>\n",
              "    .dataframe tbody tr th:only-of-type {\n",
              "        vertical-align: middle;\n",
              "    }\n",
              "\n",
              "    .dataframe tbody tr th {\n",
              "        vertical-align: top;\n",
              "    }\n",
              "\n",
              "    .dataframe thead th {\n",
              "        text-align: right;\n",
              "    }\n",
              "</style>\n",
              "<table border=\"1\" class=\"dataframe\">\n",
              "  <thead>\n",
              "    <tr style=\"text-align: right;\">\n",
              "      <th></th>\n",
              "      <th>_id</th>\n",
              "      <th>ProductionLt100MW</th>\n",
              "      <th>ProductionGe100MW</th>\n",
              "      <th>OffshoreWindPower</th>\n",
              "      <th>OnshoreWindPower</th>\n",
              "      <th>SolarPower</th>\n",
              "      <th>ExchangeGreatBelt</th>\n",
              "      <th>ExchangeGermany</th>\n",
              "      <th>ExchangeNorway</th>\n",
              "      <th>ExchangeSweden</th>\n",
              "      <th>BornholmSE4</th>\n",
              "    </tr>\n",
              "  </thead>\n",
              "  <tbody>\n",
              "    <tr>\n",
              "      <th>count</th>\n",
              "      <td>500.000000</td>\n",
              "      <td>500.000000</td>\n",
              "      <td>500.000000</td>\n",
              "      <td>500.000000</td>\n",
              "      <td>500.000000</td>\n",
              "      <td>500.00000</td>\n",
              "      <td>500.000000</td>\n",
              "      <td>500.000000</td>\n",
              "      <td>253.000000</td>\n",
              "      <td>500.000000</td>\n",
              "      <td>247.000000</td>\n",
              "    </tr>\n",
              "    <tr>\n",
              "      <th>mean</th>\n",
              "      <td>66433.074000</td>\n",
              "      <td>184.328040</td>\n",
              "      <td>193.209720</td>\n",
              "      <td>256.148980</td>\n",
              "      <td>386.656240</td>\n",
              "      <td>28.40066</td>\n",
              "      <td>-3.202980</td>\n",
              "      <td>388.850400</td>\n",
              "      <td>155.811344</td>\n",
              "      <td>161.317540</td>\n",
              "      <td>5.934939</td>\n",
              "    </tr>\n",
              "    <tr>\n",
              "      <th>std</th>\n",
              "      <td>227313.713959</td>\n",
              "      <td>87.553423</td>\n",
              "      <td>191.439448</td>\n",
              "      <td>162.159724</td>\n",
              "      <td>300.516856</td>\n",
              "      <td>64.60294</td>\n",
              "      <td>408.286726</td>\n",
              "      <td>649.952804</td>\n",
              "      <td>867.672642</td>\n",
              "      <td>397.920958</td>\n",
              "      <td>7.284122</td>\n",
              "    </tr>\n",
              "    <tr>\n",
              "      <th>min</th>\n",
              "      <td>1093.000000</td>\n",
              "      <td>83.450000</td>\n",
              "      <td>-6.360000</td>\n",
              "      <td>14.640000</td>\n",
              "      <td>41.520000</td>\n",
              "      <td>0.00000</td>\n",
              "      <td>-592.280000</td>\n",
              "      <td>-1317.440000</td>\n",
              "      <td>-1531.000000</td>\n",
              "      <td>-740.580000</td>\n",
              "      <td>-7.060000</td>\n",
              "    </tr>\n",
              "    <tr>\n",
              "      <th>25%</th>\n",
              "      <td>1492.750000</td>\n",
              "      <td>110.140000</td>\n",
              "      <td>63.832500</td>\n",
              "      <td>106.922500</td>\n",
              "      <td>142.720000</td>\n",
              "      <td>0.00000</td>\n",
              "      <td>-389.297500</td>\n",
              "      <td>1.070000</td>\n",
              "      <td>-540.000000</td>\n",
              "      <td>-172.300000</td>\n",
              "      <td>-1.165000</td>\n",
              "    </tr>\n",
              "    <tr>\n",
              "      <th>50%</th>\n",
              "      <td>2007.500000</td>\n",
              "      <td>197.070000</td>\n",
              "      <td>150.600000</td>\n",
              "      <td>241.680000</td>\n",
              "      <td>301.755000</td>\n",
              "      <td>0.08000</td>\n",
              "      <td>0.000000</td>\n",
              "      <td>2.220000</td>\n",
              "      <td>129.840000</td>\n",
              "      <td>127.130000</td>\n",
              "      <td>6.210000</td>\n",
              "    </tr>\n",
              "    <tr>\n",
              "      <th>75%</th>\n",
              "      <td>2132.250000</td>\n",
              "      <td>219.532500</td>\n",
              "      <td>275.635000</td>\n",
              "      <td>333.447500</td>\n",
              "      <td>595.780000</td>\n",
              "      <td>21.20000</td>\n",
              "      <td>372.907500</td>\n",
              "      <td>846.050000</td>\n",
              "      <td>953.950000</td>\n",
              "      <td>472.250000</td>\n",
              "      <td>11.570000</td>\n",
              "    </tr>\n",
              "    <tr>\n",
              "      <th>max</th>\n",
              "      <td>907901.000000</td>\n",
              "      <td>610.620000</td>\n",
              "      <td>1086.110000</td>\n",
              "      <td>660.900000</td>\n",
              "      <td>2329.140000</td>\n",
              "      <td>437.21000</td>\n",
              "      <td>592.280000</td>\n",
              "      <td>1622.750000</td>\n",
              "      <td>1333.510000</td>\n",
              "      <td>919.540000</td>\n",
              "      <td>22.620000</td>\n",
              "    </tr>\n",
              "  </tbody>\n",
              "</table>\n",
              "</div>\n",
              "      <button class=\"colab-df-convert\" onclick=\"convertToInteractive('df-da3f4337-20e1-4320-a172-8a8021cc609b')\"\n",
              "              title=\"Convert this dataframe to an interactive table.\"\n",
              "              style=\"display:none;\">\n",
              "        \n",
              "  <svg xmlns=\"http://www.w3.org/2000/svg\" height=\"24px\"viewBox=\"0 0 24 24\"\n",
              "       width=\"24px\">\n",
              "    <path d=\"M0 0h24v24H0V0z\" fill=\"none\"/>\n",
              "    <path d=\"M18.56 5.44l.94 2.06.94-2.06 2.06-.94-2.06-.94-.94-2.06-.94 2.06-2.06.94zm-11 1L8.5 8.5l.94-2.06 2.06-.94-2.06-.94L8.5 2.5l-.94 2.06-2.06.94zm10 10l.94 2.06.94-2.06 2.06-.94-2.06-.94-.94-2.06-.94 2.06-2.06.94z\"/><path d=\"M17.41 7.96l-1.37-1.37c-.4-.4-.92-.59-1.43-.59-.52 0-1.04.2-1.43.59L10.3 9.45l-7.72 7.72c-.78.78-.78 2.05 0 2.83L4 21.41c.39.39.9.59 1.41.59.51 0 1.02-.2 1.41-.59l7.78-7.78 2.81-2.81c.8-.78.8-2.07 0-2.86zM5.41 20L4 18.59l7.72-7.72 1.47 1.35L5.41 20z\"/>\n",
              "  </svg>\n",
              "      </button>\n",
              "      \n",
              "  <style>\n",
              "    .colab-df-container {\n",
              "      display:flex;\n",
              "      flex-wrap:wrap;\n",
              "      gap: 12px;\n",
              "    }\n",
              "\n",
              "    .colab-df-convert {\n",
              "      background-color: #E8F0FE;\n",
              "      border: none;\n",
              "      border-radius: 50%;\n",
              "      cursor: pointer;\n",
              "      display: none;\n",
              "      fill: #1967D2;\n",
              "      height: 32px;\n",
              "      padding: 0 0 0 0;\n",
              "      width: 32px;\n",
              "    }\n",
              "\n",
              "    .colab-df-convert:hover {\n",
              "      background-color: #E2EBFA;\n",
              "      box-shadow: 0px 1px 2px rgba(60, 64, 67, 0.3), 0px 1px 3px 1px rgba(60, 64, 67, 0.15);\n",
              "      fill: #174EA6;\n",
              "    }\n",
              "\n",
              "    [theme=dark] .colab-df-convert {\n",
              "      background-color: #3B4455;\n",
              "      fill: #D2E3FC;\n",
              "    }\n",
              "\n",
              "    [theme=dark] .colab-df-convert:hover {\n",
              "      background-color: #434B5C;\n",
              "      box-shadow: 0px 1px 3px 1px rgba(0, 0, 0, 0.15);\n",
              "      filter: drop-shadow(0px 1px 2px rgba(0, 0, 0, 0.3));\n",
              "      fill: #FFFFFF;\n",
              "    }\n",
              "  </style>\n",
              "\n",
              "      <script>\n",
              "        const buttonEl =\n",
              "          document.querySelector('#df-da3f4337-20e1-4320-a172-8a8021cc609b button.colab-df-convert');\n",
              "        buttonEl.style.display =\n",
              "          google.colab.kernel.accessAllowed ? 'block' : 'none';\n",
              "\n",
              "        async function convertToInteractive(key) {\n",
              "          const element = document.querySelector('#df-da3f4337-20e1-4320-a172-8a8021cc609b');\n",
              "          const dataTable =\n",
              "            await google.colab.kernel.invokeFunction('convertToInteractive',\n",
              "                                                     [key], {});\n",
              "          if (!dataTable) return;\n",
              "\n",
              "          const docLinkHtml = 'Like what you see? Visit the ' +\n",
              "            '<a target=\"_blank\" href=https://colab.research.google.com/notebooks/data_table.ipynb>data table notebook</a>'\n",
              "            + ' to learn more about interactive tables.';\n",
              "          element.innerHTML = '';\n",
              "          dataTable['output_type'] = 'display_data';\n",
              "          await google.colab.output.renderOutput(dataTable, element);\n",
              "          const docLink = document.createElement('div');\n",
              "          docLink.innerHTML = docLinkHtml;\n",
              "          element.appendChild(docLink);\n",
              "        }\n",
              "      </script>\n",
              "    </div>\n",
              "  </div>\n",
              "  "
            ]
          },
          "metadata": {},
          "execution_count": 27
        }
      ],
      "source": [
        "df.describe()"
      ]
    },
    {
      "cell_type": "markdown",
      "metadata": {
        "id": "HF5BITpp6BA3"
      },
      "source": [
        "#### 5 \n",
        "Compute the average ***OffshoreWindPower*** by each day for the last 7 days.\n",
        "* hint: you need to check the API to query the right data "
      ]
    },
    {
      "cell_type": "code",
      "source": [
        "import datetime"
      ],
      "metadata": {
        "id": "yPzPzgs2N5XN"
      },
      "execution_count": 37,
      "outputs": []
    },
    {
      "cell_type": "code",
      "execution_count": 47,
      "metadata": {
        "id": "mbNuQhpK6BA3",
        "colab": {
          "base_uri": "https://localhost:8080/",
          "height": 357
        },
        "outputId": "03903afa-2908-4351-936b-0fc4c3f623d6"
      },
      "outputs": [
        {
          "output_type": "execute_result",
          "data": {
            "text/plain": [
              "    _id                Minutes5UTC           Minutes5DK PriceArea  \\\n",
              "0  1949  2018-05-27T22:00:00+00:00  2018-05-28T00:00:00       DK1   \n",
              "1  1950  2018-05-27T22:00:00+00:00  2018-05-28T00:00:00       DK2   \n",
              "2  1951  2018-05-27T22:05:00+00:00  2018-05-28T00:05:00       DK1   \n",
              "3  1952  2018-05-27T22:05:00+00:00  2018-05-28T00:05:00       DK2   \n",
              "4  1953  2018-05-27T22:10:00+00:00  2018-05-28T00:10:00       DK1   \n",
              "\n",
              "   ProductionLt100MW  ProductionGe100MW  OffshoreWindPower  OnshoreWindPower  \\\n",
              "0             186.91              -5.14             585.60            814.60   \n",
              "1             112.13             159.23             206.72            223.51   \n",
              "2             191.50              -5.85             602.48            831.38   \n",
              "3             111.44             176.53             223.09            229.23   \n",
              "4             188.68              -5.82             612.03            842.72   \n",
              "\n",
              "   SolarPower  ExchangeGreatBelt  ExchangeGermany ExchangeNetherlands  \\\n",
              "0         0.0            -424.19           571.81                None   \n",
              "1         0.0             424.19             2.12                None   \n",
              "2         0.0            -478.59           534.25                None   \n",
              "3         0.0             478.59             2.21                None   \n",
              "4         0.0            -532.18           547.31                None   \n",
              "\n",
              "   ExchangeNorway  ExchangeSweden  BornholmSE4  \n",
              "0          -246.0          395.45          NaN  \n",
              "1             NaN          -66.93        -2.89  \n",
              "2          -253.0          441.05          NaN  \n",
              "3             NaN         -160.48        -1.90  \n",
              "4          -266.0          493.95          NaN  "
            ],
            "text/html": [
              "\n",
              "  <div id=\"df-3abade57-3a9a-4e35-9a54-422f1b84b733\">\n",
              "    <div class=\"colab-df-container\">\n",
              "      <div>\n",
              "<style scoped>\n",
              "    .dataframe tbody tr th:only-of-type {\n",
              "        vertical-align: middle;\n",
              "    }\n",
              "\n",
              "    .dataframe tbody tr th {\n",
              "        vertical-align: top;\n",
              "    }\n",
              "\n",
              "    .dataframe thead th {\n",
              "        text-align: right;\n",
              "    }\n",
              "</style>\n",
              "<table border=\"1\" class=\"dataframe\">\n",
              "  <thead>\n",
              "    <tr style=\"text-align: right;\">\n",
              "      <th></th>\n",
              "      <th>_id</th>\n",
              "      <th>Minutes5UTC</th>\n",
              "      <th>Minutes5DK</th>\n",
              "      <th>PriceArea</th>\n",
              "      <th>ProductionLt100MW</th>\n",
              "      <th>ProductionGe100MW</th>\n",
              "      <th>OffshoreWindPower</th>\n",
              "      <th>OnshoreWindPower</th>\n",
              "      <th>SolarPower</th>\n",
              "      <th>ExchangeGreatBelt</th>\n",
              "      <th>ExchangeGermany</th>\n",
              "      <th>ExchangeNetherlands</th>\n",
              "      <th>ExchangeNorway</th>\n",
              "      <th>ExchangeSweden</th>\n",
              "      <th>BornholmSE4</th>\n",
              "    </tr>\n",
              "  </thead>\n",
              "  <tbody>\n",
              "    <tr>\n",
              "      <th>0</th>\n",
              "      <td>1949</td>\n",
              "      <td>2018-05-27T22:00:00+00:00</td>\n",
              "      <td>2018-05-28T00:00:00</td>\n",
              "      <td>DK1</td>\n",
              "      <td>186.91</td>\n",
              "      <td>-5.14</td>\n",
              "      <td>585.60</td>\n",
              "      <td>814.60</td>\n",
              "      <td>0.0</td>\n",
              "      <td>-424.19</td>\n",
              "      <td>571.81</td>\n",
              "      <td>None</td>\n",
              "      <td>-246.0</td>\n",
              "      <td>395.45</td>\n",
              "      <td>NaN</td>\n",
              "    </tr>\n",
              "    <tr>\n",
              "      <th>1</th>\n",
              "      <td>1950</td>\n",
              "      <td>2018-05-27T22:00:00+00:00</td>\n",
              "      <td>2018-05-28T00:00:00</td>\n",
              "      <td>DK2</td>\n",
              "      <td>112.13</td>\n",
              "      <td>159.23</td>\n",
              "      <td>206.72</td>\n",
              "      <td>223.51</td>\n",
              "      <td>0.0</td>\n",
              "      <td>424.19</td>\n",
              "      <td>2.12</td>\n",
              "      <td>None</td>\n",
              "      <td>NaN</td>\n",
              "      <td>-66.93</td>\n",
              "      <td>-2.89</td>\n",
              "    </tr>\n",
              "    <tr>\n",
              "      <th>2</th>\n",
              "      <td>1951</td>\n",
              "      <td>2018-05-27T22:05:00+00:00</td>\n",
              "      <td>2018-05-28T00:05:00</td>\n",
              "      <td>DK1</td>\n",
              "      <td>191.50</td>\n",
              "      <td>-5.85</td>\n",
              "      <td>602.48</td>\n",
              "      <td>831.38</td>\n",
              "      <td>0.0</td>\n",
              "      <td>-478.59</td>\n",
              "      <td>534.25</td>\n",
              "      <td>None</td>\n",
              "      <td>-253.0</td>\n",
              "      <td>441.05</td>\n",
              "      <td>NaN</td>\n",
              "    </tr>\n",
              "    <tr>\n",
              "      <th>3</th>\n",
              "      <td>1952</td>\n",
              "      <td>2018-05-27T22:05:00+00:00</td>\n",
              "      <td>2018-05-28T00:05:00</td>\n",
              "      <td>DK2</td>\n",
              "      <td>111.44</td>\n",
              "      <td>176.53</td>\n",
              "      <td>223.09</td>\n",
              "      <td>229.23</td>\n",
              "      <td>0.0</td>\n",
              "      <td>478.59</td>\n",
              "      <td>2.21</td>\n",
              "      <td>None</td>\n",
              "      <td>NaN</td>\n",
              "      <td>-160.48</td>\n",
              "      <td>-1.90</td>\n",
              "    </tr>\n",
              "    <tr>\n",
              "      <th>4</th>\n",
              "      <td>1953</td>\n",
              "      <td>2018-05-27T22:10:00+00:00</td>\n",
              "      <td>2018-05-28T00:10:00</td>\n",
              "      <td>DK1</td>\n",
              "      <td>188.68</td>\n",
              "      <td>-5.82</td>\n",
              "      <td>612.03</td>\n",
              "      <td>842.72</td>\n",
              "      <td>0.0</td>\n",
              "      <td>-532.18</td>\n",
              "      <td>547.31</td>\n",
              "      <td>None</td>\n",
              "      <td>-266.0</td>\n",
              "      <td>493.95</td>\n",
              "      <td>NaN</td>\n",
              "    </tr>\n",
              "  </tbody>\n",
              "</table>\n",
              "</div>\n",
              "      <button class=\"colab-df-convert\" onclick=\"convertToInteractive('df-3abade57-3a9a-4e35-9a54-422f1b84b733')\"\n",
              "              title=\"Convert this dataframe to an interactive table.\"\n",
              "              style=\"display:none;\">\n",
              "        \n",
              "  <svg xmlns=\"http://www.w3.org/2000/svg\" height=\"24px\"viewBox=\"0 0 24 24\"\n",
              "       width=\"24px\">\n",
              "    <path d=\"M0 0h24v24H0V0z\" fill=\"none\"/>\n",
              "    <path d=\"M18.56 5.44l.94 2.06.94-2.06 2.06-.94-2.06-.94-.94-2.06-.94 2.06-2.06.94zm-11 1L8.5 8.5l.94-2.06 2.06-.94-2.06-.94L8.5 2.5l-.94 2.06-2.06.94zm10 10l.94 2.06.94-2.06 2.06-.94-2.06-.94-.94-2.06-.94 2.06-2.06.94z\"/><path d=\"M17.41 7.96l-1.37-1.37c-.4-.4-.92-.59-1.43-.59-.52 0-1.04.2-1.43.59L10.3 9.45l-7.72 7.72c-.78.78-.78 2.05 0 2.83L4 21.41c.39.39.9.59 1.41.59.51 0 1.02-.2 1.41-.59l7.78-7.78 2.81-2.81c.8-.78.8-2.07 0-2.86zM5.41 20L4 18.59l7.72-7.72 1.47 1.35L5.41 20z\"/>\n",
              "  </svg>\n",
              "      </button>\n",
              "      \n",
              "  <style>\n",
              "    .colab-df-container {\n",
              "      display:flex;\n",
              "      flex-wrap:wrap;\n",
              "      gap: 12px;\n",
              "    }\n",
              "\n",
              "    .colab-df-convert {\n",
              "      background-color: #E8F0FE;\n",
              "      border: none;\n",
              "      border-radius: 50%;\n",
              "      cursor: pointer;\n",
              "      display: none;\n",
              "      fill: #1967D2;\n",
              "      height: 32px;\n",
              "      padding: 0 0 0 0;\n",
              "      width: 32px;\n",
              "    }\n",
              "\n",
              "    .colab-df-convert:hover {\n",
              "      background-color: #E2EBFA;\n",
              "      box-shadow: 0px 1px 2px rgba(60, 64, 67, 0.3), 0px 1px 3px 1px rgba(60, 64, 67, 0.15);\n",
              "      fill: #174EA6;\n",
              "    }\n",
              "\n",
              "    [theme=dark] .colab-df-convert {\n",
              "      background-color: #3B4455;\n",
              "      fill: #D2E3FC;\n",
              "    }\n",
              "\n",
              "    [theme=dark] .colab-df-convert:hover {\n",
              "      background-color: #434B5C;\n",
              "      box-shadow: 0px 1px 3px 1px rgba(0, 0, 0, 0.15);\n",
              "      filter: drop-shadow(0px 1px 2px rgba(0, 0, 0, 0.3));\n",
              "      fill: #FFFFFF;\n",
              "    }\n",
              "  </style>\n",
              "\n",
              "      <script>\n",
              "        const buttonEl =\n",
              "          document.querySelector('#df-3abade57-3a9a-4e35-9a54-422f1b84b733 button.colab-df-convert');\n",
              "        buttonEl.style.display =\n",
              "          google.colab.kernel.accessAllowed ? 'block' : 'none';\n",
              "\n",
              "        async function convertToInteractive(key) {\n",
              "          const element = document.querySelector('#df-3abade57-3a9a-4e35-9a54-422f1b84b733');\n",
              "          const dataTable =\n",
              "            await google.colab.kernel.invokeFunction('convertToInteractive',\n",
              "                                                     [key], {});\n",
              "          if (!dataTable) return;\n",
              "\n",
              "          const docLinkHtml = 'Like what you see? Visit the ' +\n",
              "            '<a target=\"_blank\" href=https://colab.research.google.com/notebooks/data_table.ipynb>data table notebook</a>'\n",
              "            + ' to learn more about interactive tables.';\n",
              "          element.innerHTML = '';\n",
              "          dataTable['output_type'] = 'display_data';\n",
              "          await google.colab.output.renderOutput(dataTable, element);\n",
              "          const docLink = document.createElement('div');\n",
              "          docLink.innerHTML = docLinkHtml;\n",
              "          element.appendChild(docLink);\n",
              "        }\n",
              "      </script>\n",
              "    </div>\n",
              "  </div>\n",
              "  "
            ]
          },
          "metadata": {},
          "execution_count": 47
        }
      ],
      "source": [
        "#get data from an open energy data service provider\n",
        "url = 'https://api.energidataservice.dk/datastore_search?resource_id=electricityprodex5minrealtime&limit=500'\n",
        "\n",
        "response = requests.get(url)\n",
        "dictr = response.json() #parse json to dict\n",
        "recs = dictr['result']['records'] \n",
        "df = json_normalize(recs) #flatten json files into data frame\n",
        "df.head()"
      ]
    },
    {
      "cell_type": "code",
      "source": [
        "cols = [c for c in df.columns if c not in ['Minutes5UTC', 'OffshoreWindPower']]\n",
        "df.drop(columns=cols, inplace=True)"
      ],
      "metadata": {
        "id": "yJy1tsoJKBhN"
      },
      "execution_count": 51,
      "outputs": []
    },
    {
      "cell_type": "code",
      "source": [
        "df.head(1)"
      ],
      "metadata": {
        "id": "Bp9uepHcKpCc",
        "outputId": "d090254f-93f9-49ff-ab58-7beeae1f061a",
        "colab": {
          "base_uri": "https://localhost:8080/",
          "height": 81
        }
      },
      "execution_count": 52,
      "outputs": [
        {
          "output_type": "execute_result",
          "data": {
            "text/plain": [
              "                 Minutes5UTC  OffshoreWindPower\n",
              "0  2018-05-27T22:00:00+00:00              585.6"
            ],
            "text/html": [
              "\n",
              "  <div id=\"df-f4e5f834-2ec3-4143-92b5-e11d8751392c\">\n",
              "    <div class=\"colab-df-container\">\n",
              "      <div>\n",
              "<style scoped>\n",
              "    .dataframe tbody tr th:only-of-type {\n",
              "        vertical-align: middle;\n",
              "    }\n",
              "\n",
              "    .dataframe tbody tr th {\n",
              "        vertical-align: top;\n",
              "    }\n",
              "\n",
              "    .dataframe thead th {\n",
              "        text-align: right;\n",
              "    }\n",
              "</style>\n",
              "<table border=\"1\" class=\"dataframe\">\n",
              "  <thead>\n",
              "    <tr style=\"text-align: right;\">\n",
              "      <th></th>\n",
              "      <th>Minutes5UTC</th>\n",
              "      <th>OffshoreWindPower</th>\n",
              "    </tr>\n",
              "  </thead>\n",
              "  <tbody>\n",
              "    <tr>\n",
              "      <th>0</th>\n",
              "      <td>2018-05-27T22:00:00+00:00</td>\n",
              "      <td>585.6</td>\n",
              "    </tr>\n",
              "  </tbody>\n",
              "</table>\n",
              "</div>\n",
              "      <button class=\"colab-df-convert\" onclick=\"convertToInteractive('df-f4e5f834-2ec3-4143-92b5-e11d8751392c')\"\n",
              "              title=\"Convert this dataframe to an interactive table.\"\n",
              "              style=\"display:none;\">\n",
              "        \n",
              "  <svg xmlns=\"http://www.w3.org/2000/svg\" height=\"24px\"viewBox=\"0 0 24 24\"\n",
              "       width=\"24px\">\n",
              "    <path d=\"M0 0h24v24H0V0z\" fill=\"none\"/>\n",
              "    <path d=\"M18.56 5.44l.94 2.06.94-2.06 2.06-.94-2.06-.94-.94-2.06-.94 2.06-2.06.94zm-11 1L8.5 8.5l.94-2.06 2.06-.94-2.06-.94L8.5 2.5l-.94 2.06-2.06.94zm10 10l.94 2.06.94-2.06 2.06-.94-2.06-.94-.94-2.06-.94 2.06-2.06.94z\"/><path d=\"M17.41 7.96l-1.37-1.37c-.4-.4-.92-.59-1.43-.59-.52 0-1.04.2-1.43.59L10.3 9.45l-7.72 7.72c-.78.78-.78 2.05 0 2.83L4 21.41c.39.39.9.59 1.41.59.51 0 1.02-.2 1.41-.59l7.78-7.78 2.81-2.81c.8-.78.8-2.07 0-2.86zM5.41 20L4 18.59l7.72-7.72 1.47 1.35L5.41 20z\"/>\n",
              "  </svg>\n",
              "      </button>\n",
              "      \n",
              "  <style>\n",
              "    .colab-df-container {\n",
              "      display:flex;\n",
              "      flex-wrap:wrap;\n",
              "      gap: 12px;\n",
              "    }\n",
              "\n",
              "    .colab-df-convert {\n",
              "      background-color: #E8F0FE;\n",
              "      border: none;\n",
              "      border-radius: 50%;\n",
              "      cursor: pointer;\n",
              "      display: none;\n",
              "      fill: #1967D2;\n",
              "      height: 32px;\n",
              "      padding: 0 0 0 0;\n",
              "      width: 32px;\n",
              "    }\n",
              "\n",
              "    .colab-df-convert:hover {\n",
              "      background-color: #E2EBFA;\n",
              "      box-shadow: 0px 1px 2px rgba(60, 64, 67, 0.3), 0px 1px 3px 1px rgba(60, 64, 67, 0.15);\n",
              "      fill: #174EA6;\n",
              "    }\n",
              "\n",
              "    [theme=dark] .colab-df-convert {\n",
              "      background-color: #3B4455;\n",
              "      fill: #D2E3FC;\n",
              "    }\n",
              "\n",
              "    [theme=dark] .colab-df-convert:hover {\n",
              "      background-color: #434B5C;\n",
              "      box-shadow: 0px 1px 3px 1px rgba(0, 0, 0, 0.15);\n",
              "      filter: drop-shadow(0px 1px 2px rgba(0, 0, 0, 0.3));\n",
              "      fill: #FFFFFF;\n",
              "    }\n",
              "  </style>\n",
              "\n",
              "      <script>\n",
              "        const buttonEl =\n",
              "          document.querySelector('#df-f4e5f834-2ec3-4143-92b5-e11d8751392c button.colab-df-convert');\n",
              "        buttonEl.style.display =\n",
              "          google.colab.kernel.accessAllowed ? 'block' : 'none';\n",
              "\n",
              "        async function convertToInteractive(key) {\n",
              "          const element = document.querySelector('#df-f4e5f834-2ec3-4143-92b5-e11d8751392c');\n",
              "          const dataTable =\n",
              "            await google.colab.kernel.invokeFunction('convertToInteractive',\n",
              "                                                     [key], {});\n",
              "          if (!dataTable) return;\n",
              "\n",
              "          const docLinkHtml = 'Like what you see? Visit the ' +\n",
              "            '<a target=\"_blank\" href=https://colab.research.google.com/notebooks/data_table.ipynb>data table notebook</a>'\n",
              "            + ' to learn more about interactive tables.';\n",
              "          element.innerHTML = '';\n",
              "          dataTable['output_type'] = 'display_data';\n",
              "          await google.colab.output.renderOutput(dataTable, element);\n",
              "          const docLink = document.createElement('div');\n",
              "          docLink.innerHTML = docLinkHtml;\n",
              "          element.appendChild(docLink);\n",
              "        }\n",
              "      </script>\n",
              "    </div>\n",
              "  </div>\n",
              "  "
            ]
          },
          "metadata": {},
          "execution_count": 52
        }
      ]
    },
    {
      "cell_type": "markdown",
      "source": [
        "[datetime str](https://docs.python.org/3/library/datetime.html#strftime-and-strptime-behavior)"
      ],
      "metadata": {
        "id": "wiGfsI5nL3Fb"
      }
    },
    {
      "cell_type": "code",
      "source": [
        "df.info()"
      ],
      "metadata": {
        "id": "4z7YNgu8M_Gf",
        "outputId": "7f2fab05-f8e0-4be8-aaf5-8ac186e568c0",
        "colab": {
          "base_uri": "https://localhost:8080/"
        }
      },
      "execution_count": 53,
      "outputs": [
        {
          "output_type": "stream",
          "name": "stdout",
          "text": [
            "<class 'pandas.core.frame.DataFrame'>\n",
            "RangeIndex: 500 entries, 0 to 499\n",
            "Data columns (total 2 columns):\n",
            " #   Column             Non-Null Count  Dtype  \n",
            "---  ------             --------------  -----  \n",
            " 0   Minutes5UTC        500 non-null    object \n",
            " 1   OffshoreWindPower  500 non-null    float64\n",
            "dtypes: float64(1), object(1)\n",
            "memory usage: 7.9+ KB\n"
          ]
        }
      ]
    },
    {
      "cell_type": "code",
      "source": [
        "df[['Date', 'Time']] = df['Minutes5UTC'].str.split('T', 1, expand=True)"
      ],
      "metadata": {
        "id": "Mu46dwsrQU0M"
      },
      "execution_count": 55,
      "outputs": []
    },
    {
      "cell_type": "code",
      "source": [
        "df.head(2)"
      ],
      "metadata": {
        "id": "XA6l0jJPSSar",
        "outputId": "b6359495-09c6-4b17-b732-683cff73cbcb",
        "colab": {
          "base_uri": "https://localhost:8080/",
          "height": 112
        }
      },
      "execution_count": 56,
      "outputs": [
        {
          "output_type": "execute_result",
          "data": {
            "text/plain": [
              "                 Minutes5UTC  OffshoreWindPower        Date            Time\n",
              "0  2018-05-27T22:00:00+00:00             585.60  2018-05-27  22:00:00+00:00\n",
              "1  2018-05-27T22:00:00+00:00             206.72  2018-05-27  22:00:00+00:00"
            ],
            "text/html": [
              "\n",
              "  <div id=\"df-0cafebd8-39e3-4494-8932-b47cbba6f22f\">\n",
              "    <div class=\"colab-df-container\">\n",
              "      <div>\n",
              "<style scoped>\n",
              "    .dataframe tbody tr th:only-of-type {\n",
              "        vertical-align: middle;\n",
              "    }\n",
              "\n",
              "    .dataframe tbody tr th {\n",
              "        vertical-align: top;\n",
              "    }\n",
              "\n",
              "    .dataframe thead th {\n",
              "        text-align: right;\n",
              "    }\n",
              "</style>\n",
              "<table border=\"1\" class=\"dataframe\">\n",
              "  <thead>\n",
              "    <tr style=\"text-align: right;\">\n",
              "      <th></th>\n",
              "      <th>Minutes5UTC</th>\n",
              "      <th>OffshoreWindPower</th>\n",
              "      <th>Date</th>\n",
              "      <th>Time</th>\n",
              "    </tr>\n",
              "  </thead>\n",
              "  <tbody>\n",
              "    <tr>\n",
              "      <th>0</th>\n",
              "      <td>2018-05-27T22:00:00+00:00</td>\n",
              "      <td>585.60</td>\n",
              "      <td>2018-05-27</td>\n",
              "      <td>22:00:00+00:00</td>\n",
              "    </tr>\n",
              "    <tr>\n",
              "      <th>1</th>\n",
              "      <td>2018-05-27T22:00:00+00:00</td>\n",
              "      <td>206.72</td>\n",
              "      <td>2018-05-27</td>\n",
              "      <td>22:00:00+00:00</td>\n",
              "    </tr>\n",
              "  </tbody>\n",
              "</table>\n",
              "</div>\n",
              "      <button class=\"colab-df-convert\" onclick=\"convertToInteractive('df-0cafebd8-39e3-4494-8932-b47cbba6f22f')\"\n",
              "              title=\"Convert this dataframe to an interactive table.\"\n",
              "              style=\"display:none;\">\n",
              "        \n",
              "  <svg xmlns=\"http://www.w3.org/2000/svg\" height=\"24px\"viewBox=\"0 0 24 24\"\n",
              "       width=\"24px\">\n",
              "    <path d=\"M0 0h24v24H0V0z\" fill=\"none\"/>\n",
              "    <path d=\"M18.56 5.44l.94 2.06.94-2.06 2.06-.94-2.06-.94-.94-2.06-.94 2.06-2.06.94zm-11 1L8.5 8.5l.94-2.06 2.06-.94-2.06-.94L8.5 2.5l-.94 2.06-2.06.94zm10 10l.94 2.06.94-2.06 2.06-.94-2.06-.94-.94-2.06-.94 2.06-2.06.94z\"/><path d=\"M17.41 7.96l-1.37-1.37c-.4-.4-.92-.59-1.43-.59-.52 0-1.04.2-1.43.59L10.3 9.45l-7.72 7.72c-.78.78-.78 2.05 0 2.83L4 21.41c.39.39.9.59 1.41.59.51 0 1.02-.2 1.41-.59l7.78-7.78 2.81-2.81c.8-.78.8-2.07 0-2.86zM5.41 20L4 18.59l7.72-7.72 1.47 1.35L5.41 20z\"/>\n",
              "  </svg>\n",
              "      </button>\n",
              "      \n",
              "  <style>\n",
              "    .colab-df-container {\n",
              "      display:flex;\n",
              "      flex-wrap:wrap;\n",
              "      gap: 12px;\n",
              "    }\n",
              "\n",
              "    .colab-df-convert {\n",
              "      background-color: #E8F0FE;\n",
              "      border: none;\n",
              "      border-radius: 50%;\n",
              "      cursor: pointer;\n",
              "      display: none;\n",
              "      fill: #1967D2;\n",
              "      height: 32px;\n",
              "      padding: 0 0 0 0;\n",
              "      width: 32px;\n",
              "    }\n",
              "\n",
              "    .colab-df-convert:hover {\n",
              "      background-color: #E2EBFA;\n",
              "      box-shadow: 0px 1px 2px rgba(60, 64, 67, 0.3), 0px 1px 3px 1px rgba(60, 64, 67, 0.15);\n",
              "      fill: #174EA6;\n",
              "    }\n",
              "\n",
              "    [theme=dark] .colab-df-convert {\n",
              "      background-color: #3B4455;\n",
              "      fill: #D2E3FC;\n",
              "    }\n",
              "\n",
              "    [theme=dark] .colab-df-convert:hover {\n",
              "      background-color: #434B5C;\n",
              "      box-shadow: 0px 1px 3px 1px rgba(0, 0, 0, 0.15);\n",
              "      filter: drop-shadow(0px 1px 2px rgba(0, 0, 0, 0.3));\n",
              "      fill: #FFFFFF;\n",
              "    }\n",
              "  </style>\n",
              "\n",
              "      <script>\n",
              "        const buttonEl =\n",
              "          document.querySelector('#df-0cafebd8-39e3-4494-8932-b47cbba6f22f button.colab-df-convert');\n",
              "        buttonEl.style.display =\n",
              "          google.colab.kernel.accessAllowed ? 'block' : 'none';\n",
              "\n",
              "        async function convertToInteractive(key) {\n",
              "          const element = document.querySelector('#df-0cafebd8-39e3-4494-8932-b47cbba6f22f');\n",
              "          const dataTable =\n",
              "            await google.colab.kernel.invokeFunction('convertToInteractive',\n",
              "                                                     [key], {});\n",
              "          if (!dataTable) return;\n",
              "\n",
              "          const docLinkHtml = 'Like what you see? Visit the ' +\n",
              "            '<a target=\"_blank\" href=https://colab.research.google.com/notebooks/data_table.ipynb>data table notebook</a>'\n",
              "            + ' to learn more about interactive tables.';\n",
              "          element.innerHTML = '';\n",
              "          dataTable['output_type'] = 'display_data';\n",
              "          await google.colab.output.renderOutput(dataTable, element);\n",
              "          const docLink = document.createElement('div');\n",
              "          docLink.innerHTML = docLinkHtml;\n",
              "          element.appendChild(docLink);\n",
              "        }\n",
              "      </script>\n",
              "    </div>\n",
              "  </div>\n",
              "  "
            ]
          },
          "metadata": {},
          "execution_count": 56
        }
      ]
    },
    {
      "cell_type": "code",
      "source": [
        "df['Date'] = pd.to_datetime(df['Date'])    # , format='%Y-%b-%dT%H:%M:%S'"
      ],
      "metadata": {
        "id": "Iwb2pgFfKzYo"
      },
      "execution_count": 57,
      "outputs": []
    },
    {
      "cell_type": "code",
      "execution_count": 65,
      "metadata": {
        "id": "Yalol8LX6BA4"
      },
      "outputs": [],
      "source": [
        "averages = []\n",
        "cache = []\n",
        "last_date = None\n",
        "counter = 0\n",
        "max_ = 7\n",
        "for i, data in df.sort_values(by='Minutes5UTC', ascending=False).iterrows():\n",
        "    if last_date == None:\n",
        "        last_date = data.Date\n",
        "    elif last_date == data.Date:\n",
        "        cache += [data.OffshoreWindPower]\n",
        "    else:\n",
        "        # save result\n",
        "        averages += [sum(cache)/len(cache)]\n",
        "        # new date\n",
        "        last_date = data.Date\n",
        "        cache += [data.OffshoreWindPower]\n",
        "        counter += 1\n",
        "        if counter == max_:\n",
        "            break\n"
      ]
    },
    {
      "cell_type": "code",
      "source": [
        "averages"
      ],
      "metadata": {
        "id": "NheQfxo3QlSu",
        "outputId": "23906fb4-6759-4b2c-9277-7f7a0af8f156",
        "colab": {
          "base_uri": "https://localhost:8080/"
        }
      },
      "execution_count": 66,
      "outputs": [
        {
          "output_type": "execute_result",
          "data": {
            "text/plain": [
              "[261.76888888888885,\n",
              " 293.4699999999999,\n",
              " 285.26555555555547,\n",
              " 300.9104999999999,\n",
              " 225.66057142857136,\n",
              " 222.42567567567562,\n",
              " 214.28949999999995]"
            ]
          },
          "metadata": {},
          "execution_count": 66
        }
      ]
    },
    {
      "cell_type": "code",
      "source": [
        ""
      ],
      "metadata": {
        "id": "szNFy7f6UlzF"
      },
      "execution_count": null,
      "outputs": []
    }
  ],
  "metadata": {
    "kernelspec": {
      "display_name": "Python 3",
      "language": "python",
      "name": "python3"
    },
    "language_info": {
      "codemirror_mode": {
        "name": "ipython",
        "version": 3
      },
      "file_extension": ".py",
      "mimetype": "text/x-python",
      "name": "python",
      "nbconvert_exporter": "python",
      "pygments_lexer": "ipython3",
      "version": "3.7.6"
    },
    "colab": {
      "name": "Assingment_Data_Scraping.ipynb",
      "provenance": []
    }
  },
  "nbformat": 4,
  "nbformat_minor": 0
}