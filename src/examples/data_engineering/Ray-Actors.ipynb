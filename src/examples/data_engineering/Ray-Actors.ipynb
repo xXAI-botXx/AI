{
  "cells": [
    {
      "cell_type": "markdown",
      "metadata": {
        "id": "SkRjaiYdPaNR"
      },
      "source": [
        "# A Guided Tour of Ray Core: Remote Stateful Classes\n",
        "\n",
        "Apopted from Anyscal unde Apache 2.0\n"
      ]
    },
    {
      "cell_type": "code",
      "source": [
        "print('NOTE: Intentionally crashing session to use the newly installed library.\\n')\n",
        "\n",
        "!pip uninstall -y pyarrow\n",
        "!pip install ray\n",
        "\n",
        "# A hack to force the runtime to restart, needed to include the above dependencies.\n",
        "import os\n",
        "os._exit(0)"
      ],
      "metadata": {
        "id": "HCi_GHqjPhWJ",
        "outputId": "50d5cc6b-8f81-4734-db93-4c1402bc35e9",
        "colab": {
          "base_uri": "https://localhost:8080/"
        }
      },
      "execution_count": null,
      "outputs": [
        {
          "output_type": "stream",
          "name": "stdout",
          "text": [
            "NOTE: Intentionally crashing session to use the newly installed library.\n",
            "\n",
            "Found existing installation: pyarrow 6.0.1\n",
            "Uninstalling pyarrow-6.0.1:\n",
            "  Successfully uninstalled pyarrow-6.0.1\n",
            "Looking in indexes: https://pypi.org/simple, https://us-python.pkg.dev/colab-wheels/public/simple/\n",
            "Collecting ray\n",
            "  Downloading ray-1.12.1-cp37-cp37m-manylinux2014_x86_64.whl (53.2 MB)\n",
            "\u001b[K     |████████████████████████████████| 53.2 MB 133 kB/s \n",
            "\u001b[?25hRequirement already satisfied: msgpack<2.0.0,>=1.0.0 in /usr/local/lib/python3.7/dist-packages (from ray) (1.0.3)\n",
            "Requirement already satisfied: pyyaml in /usr/local/lib/python3.7/dist-packages (from ray) (3.13)\n",
            "Requirement already satisfied: requests in /usr/local/lib/python3.7/dist-packages (from ray) (2.23.0)\n",
            "Requirement already satisfied: click>=7.0 in /usr/local/lib/python3.7/dist-packages (from ray) (7.1.2)\n",
            "Collecting virtualenv\n",
            "  Downloading virtualenv-20.14.1-py2.py3-none-any.whl (8.8 MB)\n",
            "\u001b[K     |████████████████████████████████| 8.8 MB 54.9 MB/s \n",
            "\u001b[?25hRequirement already satisfied: numpy>=1.16 in /usr/local/lib/python3.7/dist-packages (from ray) (1.21.6)\n",
            "Requirement already satisfied: filelock in /usr/local/lib/python3.7/dist-packages (from ray) (3.7.0)\n",
            "Requirement already satisfied: attrs in /usr/local/lib/python3.7/dist-packages (from ray) (21.4.0)\n",
            "Collecting aiosignal\n",
            "  Downloading aiosignal-1.2.0-py3-none-any.whl (8.2 kB)\n",
            "Collecting grpcio<=1.43.0,>=1.28.1\n",
            "  Downloading grpcio-1.43.0-cp37-cp37m-manylinux_2_17_x86_64.manylinux2014_x86_64.whl (4.1 MB)\n",
            "\u001b[K     |████████████████████████████████| 4.1 MB 47.0 MB/s \n",
            "\u001b[?25hRequirement already satisfied: protobuf>=3.15.3 in /usr/local/lib/python3.7/dist-packages (from ray) (3.17.3)\n",
            "Requirement already satisfied: jsonschema in /usr/local/lib/python3.7/dist-packages (from ray) (4.3.3)\n",
            "Collecting frozenlist\n",
            "  Downloading frozenlist-1.3.0-cp37-cp37m-manylinux_2_5_x86_64.manylinux1_x86_64.manylinux_2_17_x86_64.manylinux2014_x86_64.whl (144 kB)\n",
            "\u001b[K     |████████████████████████████████| 144 kB 51.9 MB/s \n",
            "\u001b[?25hRequirement already satisfied: six>=1.5.2 in /usr/local/lib/python3.7/dist-packages (from grpcio<=1.43.0,>=1.28.1->ray) (1.15.0)\n",
            "Requirement already satisfied: typing-extensions in /usr/local/lib/python3.7/dist-packages (from jsonschema->ray) (4.2.0)\n",
            "Requirement already satisfied: importlib-metadata in /usr/local/lib/python3.7/dist-packages (from jsonschema->ray) (4.11.4)\n",
            "Requirement already satisfied: pyrsistent!=0.17.0,!=0.17.1,!=0.17.2,>=0.14.0 in /usr/local/lib/python3.7/dist-packages (from jsonschema->ray) (0.18.1)\n",
            "Requirement already satisfied: importlib-resources>=1.4.0 in /usr/local/lib/python3.7/dist-packages (from jsonschema->ray) (5.7.1)\n",
            "Requirement already satisfied: zipp>=3.1.0 in /usr/local/lib/python3.7/dist-packages (from importlib-resources>=1.4.0->jsonschema->ray) (3.8.0)\n",
            "Requirement already satisfied: idna<3,>=2.5 in /usr/local/lib/python3.7/dist-packages (from requests->ray) (2.10)\n",
            "Requirement already satisfied: urllib3!=1.25.0,!=1.25.1,<1.26,>=1.21.1 in /usr/local/lib/python3.7/dist-packages (from requests->ray) (1.24.3)\n",
            "Requirement already satisfied: certifi>=2017.4.17 in /usr/local/lib/python3.7/dist-packages (from requests->ray) (2022.5.18.1)\n",
            "Requirement already satisfied: chardet<4,>=3.0.2 in /usr/local/lib/python3.7/dist-packages (from requests->ray) (3.0.4)\n",
            "Collecting platformdirs<3,>=2\n",
            "  Downloading platformdirs-2.5.2-py3-none-any.whl (14 kB)\n",
            "Collecting distlib<1,>=0.3.1\n",
            "  Downloading distlib-0.3.4-py2.py3-none-any.whl (461 kB)\n",
            "\u001b[K     |████████████████████████████████| 461 kB 44.6 MB/s \n",
            "\u001b[?25hInstalling collected packages: platformdirs, frozenlist, distlib, virtualenv, grpcio, aiosignal, ray\n",
            "  Attempting uninstall: grpcio\n",
            "    Found existing installation: grpcio 1.46.3\n",
            "    Uninstalling grpcio-1.46.3:\n",
            "      Successfully uninstalled grpcio-1.46.3\n",
            "Successfully installed aiosignal-1.2.0 distlib-0.3.4 frozenlist-1.3.0 grpcio-1.43.0 platformdirs-2.5.2 ray-1.12.1 virtualenv-20.14.1\n"
          ]
        }
      ]
    },
    {
      "cell_type": "markdown",
      "metadata": {
        "id": "v85ve0RuPaNV"
      },
      "source": [
        "[*Remote Classes*](https://docs.ray.io/en/latest/walkthrough.html#remote-classes-actors)\n",
        "involve using a `@ray.remote` decorator on a class. \n",
        "\n",
        "This implements an [*actor*](https://patterns.eecs.berkeley.edu/?page_id=258) pattern, with properties: *stateful*, *message-passing semantics*\n",
        "\n",
        "Actors are extremely powerful. They allow you to take a Python class and instantiate it as a stateful microservice that can be queried from other actors and tasks and even other Python applications.\n",
        "\n",
        "When you instantiate a remote Actor, a separate worker process is created as a worker process and becomes an Actor process on the workder node, for the purpose of running methods called on the actor. Other Ray tasks and actors can invoke its methods on that process, mutating its internal state. Actors can also be terminated manually if needed. The examples code below show all these cases.\n",
        "\n",
        "<img src=\"https://github.com/anyscale/academy/blob/main/images/ray_worker_actor_1.png?raw=1\" height=\"30%\" width=\"60%\">\n",
        "<img src=\"https://github.com/anyscale/academy/blob/main/images/ray_worker_actor_2.png?raw=1\" height=\"30%\" width=\"60%\">"
      ]
    },
    {
      "cell_type": "markdown",
      "metadata": {
        "id": "vkX1BQriPaNW"
      },
      "source": [
        "---"
      ]
    },
    {
      "cell_type": "markdown",
      "metadata": {
        "id": "PYiLN6aAPaNW"
      },
      "source": [
        "First, let's start Ray…"
      ]
    },
    {
      "cell_type": "code",
      "execution_count": 1,
      "metadata": {
        "id": "zsItdezwPaNX"
      },
      "outputs": [],
      "source": [
        "import logging\n",
        "import time\n",
        "import ray\n",
        "import random\n",
        "from random import randint\n",
        "import numpy as np"
      ]
    },
    {
      "cell_type": "code",
      "execution_count": 2,
      "metadata": {
        "id": "8ZvViW-tPaNY",
        "outputId": "17470b13-8951-42f4-800c-2d3e5ee4002c",
        "colab": {
          "base_uri": "https://localhost:8080/"
        }
      },
      "outputs": [
        {
          "output_type": "execute_result",
          "data": {
            "text/plain": [
              "RayContext(dashboard_url='', python_version='3.7.13', ray_version='1.12.1', ray_commit='4863e33856b54ccf8add5cbe75e41558850a1b75', address_info={'node_ip_address': '172.28.0.2', 'raylet_ip_address': '172.28.0.2', 'redis_address': None, 'object_store_address': '/tmp/ray/session_2022-06-02_07-08-59_254760_135/sockets/plasma_store', 'raylet_socket_name': '/tmp/ray/session_2022-06-02_07-08-59_254760_135/sockets/raylet', 'webui_url': '', 'session_dir': '/tmp/ray/session_2022-06-02_07-08-59_254760_135', 'metrics_export_port': 57956, 'gcs_address': '172.28.0.2:59048', 'address': '172.28.0.2:59048', 'node_id': '217c5a84a18bf970555868b331dd6eaa109205ac580cf13b1086a611'})"
            ]
          },
          "metadata": {},
          "execution_count": 2
        }
      ],
      "source": [
        "ray.init(\n",
        "    ignore_reinit_error=True,\n",
        "    logging_level=logging.ERROR,\n",
        ")"
      ]
    },
    {
      "cell_type": "markdown",
      "metadata": {
        "id": "A8VEzoZMPaNZ"
      },
      "source": [
        "## 3. Remote Class as a Stateful Actor Pattern"
      ]
    },
    {
      "cell_type": "markdown",
      "metadata": {
        "id": "yGcTSPi_PaNa"
      },
      "source": [
        "To start, we'll define a class and use the decorator: `@ray.remote`"
      ]
    },
    {
      "cell_type": "markdown",
      "metadata": {
        "id": "rzH-403KPaNb"
      },
      "source": [
        "Let's use Python class and convert that to a remote Actor class actor service as a Parameter Server.\n",
        "This is a common example in machine learning where you may have a central Parameter server updating gradients\n",
        "from other worker processes computing individual gradients. \n",
        "\n",
        "<img src=\"https://terrytangyuan.github.io/img/inblog/mpi-operator-1.png\" width=\"40%\" height=\"20%\">"
      ]
    },
    {
      "cell_type": "code",
      "execution_count": 3,
      "metadata": {
        "id": "tukIJG0XPaNc"
      },
      "outputs": [],
      "source": [
        "@ray.remote\n",
        "class ParameterSever:\n",
        "    def __init__(self):\n",
        "        # Initialized our gradients to zero\n",
        "        self.params = np.zeros(10)\n",
        "\n",
        "    def get_params(self):\n",
        "        # Return current gradients\n",
        "        return self.params\n",
        "\n",
        "    def update_params(self, grad):\n",
        "        # Update the gradients \n",
        "        self.params -= grad"
      ]
    },
    {
      "cell_type": "markdown",
      "metadata": {
        "id": "RNkrK_I_PaNd"
      },
      "source": [
        "Define work or task as a function for a remote Worker process. This could be a machine learning task that\n",
        "computes gradients and sends them to the parameter server"
      ]
    },
    {
      "cell_type": "code",
      "execution_count": 4,
      "metadata": {
        "id": "ddNW5E0PPaNd"
      },
      "outputs": [],
      "source": [
        "@ray.remote\n",
        "def worker(ps):\n",
        "    # Iterate over some epoch\n",
        "    for i in range(100):\n",
        "        time.sleep(1.5)  # this could be your task computing gradients\n",
        "        grad = np.ones(10)\n",
        "        # update the gradients in the parameter server\n",
        "        ps.update_params.remote(grad)"
      ]
    },
    {
      "cell_type": "markdown",
      "metadata": {
        "id": "9Fs3yYYlPaNe"
      },
      "source": [
        "Start our Parameter Server actor. This will be scheduled as a process on a remote Ray Worker"
      ]
    },
    {
      "cell_type": "code",
      "execution_count": 5,
      "metadata": {
        "id": "x24Skao2PaNe",
        "outputId": "00d82f66-16b0-46ca-9077-5c6d004c0055",
        "colab": {
          "base_uri": "https://localhost:8080/"
        }
      },
      "outputs": [
        {
          "output_type": "execute_result",
          "data": {
            "text/plain": [
              "Actor(ParameterSever, 774650509fed83f32a39f0a701000000)"
            ]
          },
          "metadata": {},
          "execution_count": 5
        }
      ],
      "source": [
        "param_server = ParameterSever.remote()\n",
        "param_server"
      ]
    },
    {
      "cell_type": "markdown",
      "metadata": {
        "id": "6yQIlozdPaNf"
      },
      "source": [
        "Let's get the initial values of the parameter server"
      ]
    },
    {
      "cell_type": "code",
      "execution_count": 6,
      "metadata": {
        "id": "GvZ43hyyPaNf",
        "outputId": "614228da-6f81-4a52-a747-d9826482a75c",
        "colab": {
          "base_uri": "https://localhost:8080/"
        }
      },
      "outputs": [
        {
          "output_type": "stream",
          "name": "stdout",
          "text": [
            "Initial params: [0. 0. 0. 0. 0. 0. 0. 0. 0. 0.]\n"
          ]
        }
      ],
      "source": [
        "print(f\"Initial params: {ray.get(param_server.get_params.remote())}\")"
      ]
    },
    {
      "cell_type": "markdown",
      "metadata": {
        "id": "ag_ugrKKPaNf"
      },
      "source": [
        "### Create Workers Nodes Computing Gradients\n",
        "Let's create three separate workers as our machine learning tasks that compute gradients.\n",
        "These will be scheduled as tasks on a Ray cluster.\n",
        "\n",
        "You can use list comprehension. Quite Pythonic!\n",
        "\n",
        "If we need more workers to scale, we can always bump them up."
      ]
    },
    {
      "cell_type": "code",
      "execution_count": 7,
      "metadata": {
        "id": "sVm2BTLHPaNg",
        "outputId": "ddd4e106-aba9-4509-cf88-34a9fca00729",
        "colab": {
          "base_uri": "https://localhost:8080/"
        }
      },
      "outputs": [
        {
          "output_type": "execute_result",
          "data": {
            "text/plain": [
              "[ObjectRef(c2668a65bda616c1ffffffffffffffffffffffff0100000001000000),\n",
              " ObjectRef(32d950ec0ccf9d2affffffffffffffffffffffff0100000001000000),\n",
              " ObjectRef(e0dc174c83599034ffffffffffffffffffffffff0100000001000000)]"
            ]
          },
          "metadata": {},
          "execution_count": 7
        }
      ],
      "source": [
        "[worker.remote(param_server) for _ in range(3)]"
      ]
    },
    {
      "cell_type": "markdown",
      "metadata": {
        "id": "E8Ldj_KwPaNg"
      },
      "source": [
        "Now, let's iterate over a loop and query the Parameter Server \n",
        "as the workers are running independently and updating the gradients"
      ]
    },
    {
      "cell_type": "code",
      "execution_count": 8,
      "metadata": {
        "id": "GmTgRQB6PaNg",
        "outputId": "e48d659f-f4cc-4c06-fad0-6c89972fd4a3",
        "colab": {
          "base_uri": "https://localhost:8080/"
        }
      },
      "outputs": [
        {
          "output_type": "stream",
          "name": "stdout",
          "text": [
            "Updated params: [-2. -2. -2. -2. -2. -2. -2. -2. -2. -2.]\n",
            "Updated params: [-3. -3. -3. -3. -3. -3. -3. -3. -3. -3.]\n",
            "Updated params: [-5. -5. -5. -5. -5. -5. -5. -5. -5. -5.]\n",
            "Updated params: [-6. -6. -6. -6. -6. -6. -6. -6. -6. -6.]\n",
            "Updated params: [-7. -7. -7. -7. -7. -7. -7. -7. -7. -7.]\n",
            "Updated params: [-9. -9. -9. -9. -9. -9. -9. -9. -9. -9.]\n",
            "Updated params: [-10. -10. -10. -10. -10. -10. -10. -10. -10. -10.]\n",
            "Updated params: [-11. -11. -11. -11. -11. -11. -11. -11. -11. -11.]\n",
            "Updated params: [-13. -13. -13. -13. -13. -13. -13. -13. -13. -13.]\n",
            "Updated params: [-14. -14. -14. -14. -14. -14. -14. -14. -14. -14.]\n",
            "Updated params: [-15. -15. -15. -15. -15. -15. -15. -15. -15. -15.]\n",
            "Updated params: [-17. -17. -17. -17. -17. -17. -17. -17. -17. -17.]\n",
            "Updated params: [-18. -18. -18. -18. -18. -18. -18. -18. -18. -18.]\n",
            "Updated params: [-19. -19. -19. -19. -19. -19. -19. -19. -19. -19.]\n",
            "Updated params: [-21. -21. -21. -21. -21. -21. -21. -21. -21. -21.]\n",
            "Updated params: [-22. -22. -22. -22. -22. -22. -22. -22. -22. -22.]\n",
            "Updated params: [-23. -23. -23. -23. -23. -23. -23. -23. -23. -23.]\n",
            "Updated params: [-25. -25. -25. -25. -25. -25. -25. -25. -25. -25.]\n",
            "Updated params: [-26. -26. -26. -26. -26. -26. -26. -26. -26. -26.]\n",
            "Updated params: [-27. -27. -27. -27. -27. -27. -27. -27. -27. -27.]\n"
          ]
        }
      ],
      "source": [
        "for _i in range(20):\n",
        "    print(f\"Updated params: {ray.get(param_server.get_params.remote())}\")\n",
        "    time.sleep(1)"
      ]
    },
    {
      "cell_type": "markdown",
      "metadata": {
        "id": "bnkkHM-RPaNh"
      },
      "source": [
        "# Tree of Actors Pattern\n",
        "\n",
        "A common pattern used in Ray libraries [Ray Tune](https://docs.ray.io/en/latest/tune/index.html), [Ray Train](https://docs.ray.io/en/latest/train/train.html), and [RLlib](https://docs.ray.io/en/latest/rllib/index.html) to train models in a parallel or conduct distributed HPO.\n",
        "\n",
        "In this common pattern, tree of actors, a collection of workers as actors, are managed by a supervisor. For example, you want to train multiple models at the same time, while being able to checkpoint/inspect its state.\n",
        "\n",
        "<img src=\"https://docs.ray.io/en/latest/_images/tree-of-actors.svg\" width=\"40%\" height=\"20%\">\n",
        "\n",
        "Let's implement a simple example to illustrate this pattern."
      ]
    },
    {
      "cell_type": "code",
      "execution_count": 9,
      "metadata": {
        "id": "_M2KKDvHPaNh"
      },
      "outputs": [],
      "source": [
        "STATES = [\"RUNNING\", \"DONE\"]\n",
        "\n",
        "class Model:\n",
        "\n",
        "    def __init__(self, m:str):\n",
        "        self._model = m\n",
        "\n",
        "    def train(self):\n",
        "        # do some training work here\n",
        "        time.sleep(1)\n",
        "\n",
        "# Factory function to return an instance of a model type\n",
        "def model_factory(m: str):\n",
        "    return Model(m)"
      ]
    },
    {
      "cell_type": "markdown",
      "metadata": {
        "id": "E1lBjJ7aPaNh"
      },
      "source": [
        "### Create a Worker Actor"
      ]
    },
    {
      "cell_type": "code",
      "execution_count": 10,
      "metadata": {
        "id": "Qqt_07AOPaNi"
      },
      "outputs": [],
      "source": [
        "@ray.remote\n",
        "class Worker(object):\n",
        "    def __init__(self, m:str):\n",
        "        # type of a model: lr, cl, or nn\n",
        "        self._model = m                  \n",
        "        \n",
        "    def state(self) -> str:\n",
        "        return random.choice(STATES)\n",
        "    # Do the work for this model\n",
        "    def work(self) -> None:\n",
        "        model_factory(self._model).train()"
      ]
    },
    {
      "cell_type": "markdown",
      "metadata": {
        "id": "6IY-mQTGPaNi"
      },
      "source": [
        "### Create Supervisor Actor "
      ]
    },
    {
      "cell_type": "code",
      "execution_count": 11,
      "metadata": {
        "id": "0C5pJByZPaNi"
      },
      "outputs": [],
      "source": [
        "@ray.remote\n",
        "class Supervisor:\n",
        "    def __init__(self):\n",
        "        # Create three Actor Workers, each by its unique model type\n",
        "        self.workers = [Worker.remote(name) for name in [\"lr\", \"cl\", \"nn\"]]\n",
        "                        \n",
        "    def work(self):\n",
        "        # do the work \n",
        "        [w.work.remote() for w in self.workers]\n",
        "        \n",
        "    def terminate(self):\n",
        "        [ray.kill(w) for w in self.workers]\n",
        "        \n",
        "    def state(self):\n",
        "        return ray.get([w.state.remote() for w in self.workers])"
      ]
    },
    {
      "cell_type": "markdown",
      "metadata": {
        "id": "P2DhTT8_PaNi"
      },
      "source": [
        "Create a Actor instance for supervisor and launch its workers"
      ]
    },
    {
      "cell_type": "code",
      "execution_count": 12,
      "metadata": {
        "id": "pqXRU5uIPaNj",
        "outputId": "2791f319-72d3-4916-92d4-c24cb9ab6fcd",
        "colab": {
          "base_uri": "https://localhost:8080/"
        }
      },
      "outputs": [
        {
          "output_type": "execute_result",
          "data": {
            "text/plain": [
              "ObjectRef(bcb4fef46b376caf1d87637fb42b67cf913c08360100000001000000)"
            ]
          },
          "metadata": {},
          "execution_count": 12
        }
      ],
      "source": [
        "sup = Supervisor.remote()\n",
        "\n",
        "# Launch remote actors as workers\n",
        "sup.work.remote()"
      ]
    },
    {
      "cell_type": "markdown",
      "metadata": {
        "id": "sHH60-LcPaNj"
      },
      "source": [
        "### Look at the Ray Dashboard -> NOT WORKING IN COLAB :-(\n",
        "http://127.0.0.1:8265"
      ]
    },
    {
      "cell_type": "code",
      "execution_count": 13,
      "metadata": {
        "id": "O0AeDMDbPaNj",
        "outputId": "7f2ff359-5c78-4054-e56b-7f6624f554b4",
        "colab": {
          "base_uri": "https://localhost:8080/"
        }
      },
      "outputs": [
        {
          "output_type": "stream",
          "name": "stdout",
          "text": [
            "['DONE', 'RUNNING', 'DONE']\n",
            "['RUNNING', 'DONE', 'DONE']\n",
            "['RUNNING', 'DONE', 'RUNNING']\n",
            "['RUNNING', 'DONE', 'DONE']\n",
            "['RUNNING', 'DONE', 'RUNNING']\n",
            "['RUNNING', 'RUNNING', 'RUNNING']\n",
            "['DONE', 'RUNNING', 'DONE']\n",
            "['DONE', 'RUNNING', 'DONE']\n",
            "['DONE', 'DONE', 'DONE']\n"
          ]
        }
      ],
      "source": [
        "# check their status\n",
        "while True:\n",
        "    # Fetch the states of all its workers\n",
        "    states = ray.get(sup.state.remote())\n",
        "    print(states)\n",
        "    # check if all are DONE\n",
        "    result = all('DONE' == e for e in states)\n",
        "    if result:\n",
        "        # Note: Actor processes will be terminated automatically when the initial actor handle goes out of scope in Python. \n",
        "        # If we create an actor with actor_handle = ActorClass.remote(), then when actor_handle goes out of scope and is destructed, \n",
        "        # the actor process will be terminated. Note that this only applies to the original actor handle created for the actor \n",
        "        # and not to subsequent actor handles created by passing the actor handle to other tasks.\n",
        "        \n",
        "        # kill supervisors all worker manually, only for illustrtation and demo\n",
        "        sup.terminate.remote()\n",
        "\n",
        "        # kill the supervisor manually, only for illustration and demo\n",
        "        ray.kill(sup)\n",
        "        break"
      ]
    },
    {
      "cell_type": "markdown",
      "metadata": {
        "id": "j4IdcAGOPaNj"
      },
      "source": [
        "### Passing Actor handles to Ray Tasks\n",
        "\n",
        "You can pass actor handle instances to remote Ray tasks, which can change its \n",
        "state. The `MessageActor` keeps or clears messages, depending on the its method\n",
        "invoked."
      ]
    },
    {
      "cell_type": "code",
      "execution_count": 14,
      "metadata": {
        "id": "0tnj4jxAPaNk"
      },
      "outputs": [],
      "source": [
        "@ray.remote\n",
        "class MessageActor(object):\n",
        "    def __init__(self):\n",
        "        # Keep the state of the messages\n",
        "        self.messages = []\n",
        "    \n",
        "    def add_message(self, message):\n",
        "        self.messages.append(message)\n",
        "    \n",
        "    # reset and clear all messages\n",
        "    def get_and_clear_messages(self):\n",
        "        messages = self.messages\n",
        "        self.messages = []\n",
        "        return messages"
      ]
    },
    {
      "cell_type": "markdown",
      "metadata": {
        "id": "3OUJSc2KPaNk"
      },
      "source": [
        "Define a remote function which loops around and pushes messages to the actor, having access to a handle instance as an argument. That is, we are sending it a `MessageActor` instance handle ref as an argument to it."
      ]
    },
    {
      "cell_type": "code",
      "execution_count": 15,
      "metadata": {
        "id": "EiWJzkDMPaNk"
      },
      "outputs": [],
      "source": [
        "@ray.remote\n",
        "def worker(message_actor, j):\n",
        "    for i in range(10):\n",
        "        time.sleep(1)\n",
        "        message_actor.add_message.remote(\n",
        "            f\"Message {i} from worker {j}.\")\n"
      ]
    },
    {
      "cell_type": "markdown",
      "metadata": {
        "id": "kjXth0oEPaNk"
      },
      "source": [
        "Create a message actor."
      ]
    },
    {
      "cell_type": "code",
      "execution_count": 16,
      "metadata": {
        "id": "pdk8-I__PaNk"
      },
      "outputs": [],
      "source": [
        "message_actor = MessageActor.remote()"
      ]
    },
    {
      "cell_type": "markdown",
      "metadata": {
        "id": "1RdZzxYLPaNl"
      },
      "source": [
        "Start 3 tasks that push messages to the actor."
      ]
    },
    {
      "cell_type": "code",
      "execution_count": 17,
      "metadata": {
        "id": "3-gqMs5dPaNl",
        "outputId": "3a22fe38-3099-421f-899e-e906316d3785",
        "colab": {
          "base_uri": "https://localhost:8080/"
        }
      },
      "outputs": [
        {
          "output_type": "execute_result",
          "data": {
            "text/plain": [
              "[ObjectRef(c7528efcb2fd36edffffffffffffffffffffffff0100000001000000),\n",
              " ObjectRef(6efb86ef2d286c40ffffffffffffffffffffffff0100000001000000),\n",
              " ObjectRef(89af82725933373effffffffffffffffffffffff0100000001000000)]"
            ]
          },
          "metadata": {},
          "execution_count": 17
        }
      ],
      "source": [
        "[worker.remote(message_actor, j) for j in range(3)]"
      ]
    },
    {
      "cell_type": "markdown",
      "metadata": {
        "id": "Q7jYbk8yPaNl"
      },
      "source": [
        "Periodically get the messages and print them."
      ]
    },
    {
      "cell_type": "code",
      "execution_count": 18,
      "metadata": {
        "id": "cpSryjw6PaNl",
        "outputId": "517916de-30e9-4b31-9321-e13fd2345b1d",
        "colab": {
          "base_uri": "https://localhost:8080/"
        }
      },
      "outputs": [
        {
          "output_type": "stream",
          "name": "stdout",
          "text": [
            "New messages\n",
            ": []\n",
            "New messages\n",
            ": []\n",
            "New messages\n",
            ": []\n",
            "New messages\n",
            ": []\n",
            "New messages\n",
            ": []\n",
            "New messages\n",
            ": []\n",
            "New messages\n",
            ": []\n",
            "New messages\n",
            ": []\n",
            "New messages\n",
            ": []\n",
            "New messages\n",
            ": []\n"
          ]
        }
      ],
      "source": [
        "for _ in range(10):\n",
        "    new_messages = ray.get(message_actor.get_and_clear_messages.remote())\n",
        "    print(\"New messages\\n:\", new_messages)\n",
        "    time.sleep(1)"
      ]
    },
    {
      "cell_type": "markdown",
      "metadata": {
        "id": "sDewxhkSPaNl"
      },
      "source": [
        "Finally, shutdown Ray"
      ]
    },
    {
      "cell_type": "code",
      "execution_count": 19,
      "metadata": {
        "id": "st5O8I4DPaNm"
      },
      "outputs": [],
      "source": [
        "ray.shutdown()"
      ]
    },
    {
      "cell_type": "markdown",
      "metadata": {
        "id": "s8cB7qYaPaNn"
      },
      "source": [
        "---\n",
        "## References"
      ]
    },
    {
      "cell_type": "markdown",
      "metadata": {
        "id": "7Ho61sSlPaNn"
      },
      "source": [
        " * [Writing your First Distributed Python Application with Ray](https://www.anyscale.com/blog/writing-your-first-distributed-python-application-with-ray)\n",
        " * [Using and Programming with Actors](https://docs.ray.io/en/latest/actors.html)\n",
        " * [Advanced Patterns and Anti-Patterns in Ray](https://docs.ray.io/en/latest/ray-design-patterns/index.htmlhttps://docs.ray.io/en/latest/ray-design-patterns/index.html)"
      ]
    }
  ],
  "metadata": {
    "kernelspec": {
      "display_name": "Python 3 (ipykernel)",
      "language": "python",
      "name": "python3"
    },
    "language_info": {
      "codemirror_mode": {
        "name": "ipython",
        "version": 3
      },
      "file_extension": ".py",
      "mimetype": "text/x-python",
      "name": "python",
      "nbconvert_exporter": "python",
      "pygments_lexer": "ipython3",
      "version": "3.8.12"
    },
    "colab": {
      "name": "02-Ray-Actors.ipynb",
      "provenance": []
    }
  },
  "nbformat": 4,
  "nbformat_minor": 0
}