{
  "cells": [
    {
      "cell_type": "markdown",
      "id": "15a16c45-b3a5-4c4f-81d4-8bec7c83892d",
      "metadata": {
        "id": "15a16c45-b3a5-4c4f-81d4-8bec7c83892d"
      },
      "source": [
        "# A Guided Tour of Ray Core: Remote Stateless Tasks\n",
        "\n",
        "Adopted from [Anyscale](https://github.com/anyscale/academy). Under Apache 2.0 License \n",
        "\n",
        "<img src=\"https://github.com/anyscale/academy/blob/dbcac28e08caf83a9d7937f3bcb2747d6f6e67ef/images/ray_basic_patterns.png?raw=1\" height=\"25%\" width=\"50%\">"
      ]
    },
    {
      "cell_type": "code",
      "source": [
        "print('NOTE: Intentionally crashing session to use the newly installed library.\\n')\n",
        "\n",
        "!pip uninstall -y pyarrow\n",
        "!pip install ray\n",
        "\n",
        "# A hack to force the runtime to restart, needed to include the above dependencies.\n",
        "import os\n",
        "os._exit(0)"
      ],
      "metadata": {
        "colab": {
          "base_uri": "https://localhost:8080/"
        },
        "id": "bHhmYA7kHd0L",
        "outputId": "a2abea78-01ec-45b0-e607-8041df6dc5e6"
      },
      "id": "bHhmYA7kHd0L",
      "execution_count": null,
      "outputs": [
        {
          "output_type": "stream",
          "name": "stdout",
          "text": [
            "NOTE: Intentionally crashing session to use the newly installed library.\n",
            "\n",
            "Found existing installation: pyarrow 6.0.1\n",
            "Uninstalling pyarrow-6.0.1:\n",
            "  Successfully uninstalled pyarrow-6.0.1\n",
            "Looking in indexes: https://pypi.org/simple, https://us-python.pkg.dev/colab-wheels/public/simple/\n",
            "Collecting ray\n",
            "  Downloading ray-1.12.1-cp37-cp37m-manylinux2014_x86_64.whl (53.2 MB)\n",
            "\u001b[K     |████████████████████████████████| 53.2 MB 137 kB/s \n",
            "\u001b[?25hRequirement already satisfied: filelock in /usr/local/lib/python3.7/dist-packages (from ray) (3.7.0)\n",
            "Requirement already satisfied: protobuf>=3.15.3 in /usr/local/lib/python3.7/dist-packages (from ray) (3.17.3)\n",
            "Collecting frozenlist\n",
            "  Downloading frozenlist-1.3.0-cp37-cp37m-manylinux_2_5_x86_64.manylinux1_x86_64.manylinux_2_17_x86_64.manylinux2014_x86_64.whl (144 kB)\n",
            "\u001b[K     |████████████████████████████████| 144 kB 56.5 MB/s \n",
            "\u001b[?25hRequirement already satisfied: requests in /usr/local/lib/python3.7/dist-packages (from ray) (2.23.0)\n",
            "Requirement already satisfied: attrs in /usr/local/lib/python3.7/dist-packages (from ray) (21.4.0)\n",
            "Requirement already satisfied: click>=7.0 in /usr/local/lib/python3.7/dist-packages (from ray) (7.1.2)\n",
            "Collecting grpcio<=1.43.0,>=1.28.1\n",
            "  Downloading grpcio-1.43.0-cp37-cp37m-manylinux_2_17_x86_64.manylinux2014_x86_64.whl (4.1 MB)\n",
            "\u001b[K     |████████████████████████████████| 4.1 MB 43.7 MB/s \n",
            "\u001b[?25hRequirement already satisfied: pyyaml in /usr/local/lib/python3.7/dist-packages (from ray) (3.13)\n",
            "Requirement already satisfied: msgpack<2.0.0,>=1.0.0 in /usr/local/lib/python3.7/dist-packages (from ray) (1.0.3)\n",
            "Collecting virtualenv\n",
            "  Downloading virtualenv-20.14.1-py2.py3-none-any.whl (8.8 MB)\n",
            "\u001b[K     |████████████████████████████████| 8.8 MB 29.1 MB/s \n",
            "\u001b[?25hRequirement already satisfied: jsonschema in /usr/local/lib/python3.7/dist-packages (from ray) (4.3.3)\n",
            "Collecting aiosignal\n",
            "  Downloading aiosignal-1.2.0-py3-none-any.whl (8.2 kB)\n",
            "Requirement already satisfied: numpy>=1.16 in /usr/local/lib/python3.7/dist-packages (from ray) (1.21.6)\n",
            "Requirement already satisfied: six>=1.5.2 in /usr/local/lib/python3.7/dist-packages (from grpcio<=1.43.0,>=1.28.1->ray) (1.15.0)\n",
            "Requirement already satisfied: typing-extensions in /usr/local/lib/python3.7/dist-packages (from jsonschema->ray) (4.2.0)\n",
            "Requirement already satisfied: importlib-resources>=1.4.0 in /usr/local/lib/python3.7/dist-packages (from jsonschema->ray) (5.7.1)\n",
            "Requirement already satisfied: pyrsistent!=0.17.0,!=0.17.1,!=0.17.2,>=0.14.0 in /usr/local/lib/python3.7/dist-packages (from jsonschema->ray) (0.18.1)\n",
            "Requirement already satisfied: importlib-metadata in /usr/local/lib/python3.7/dist-packages (from jsonschema->ray) (4.11.4)\n",
            "Requirement already satisfied: zipp>=3.1.0 in /usr/local/lib/python3.7/dist-packages (from importlib-resources>=1.4.0->jsonschema->ray) (3.8.0)\n",
            "Requirement already satisfied: idna<3,>=2.5 in /usr/local/lib/python3.7/dist-packages (from requests->ray) (2.10)\n",
            "Requirement already satisfied: chardet<4,>=3.0.2 in /usr/local/lib/python3.7/dist-packages (from requests->ray) (3.0.4)\n",
            "Requirement already satisfied: urllib3!=1.25.0,!=1.25.1,<1.26,>=1.21.1 in /usr/local/lib/python3.7/dist-packages (from requests->ray) (1.24.3)\n",
            "Requirement already satisfied: certifi>=2017.4.17 in /usr/local/lib/python3.7/dist-packages (from requests->ray) (2022.5.18.1)\n",
            "Collecting distlib<1,>=0.3.1\n",
            "  Downloading distlib-0.3.4-py2.py3-none-any.whl (461 kB)\n",
            "\u001b[K     |████████████████████████████████| 461 kB 63.1 MB/s \n",
            "\u001b[?25hCollecting platformdirs<3,>=2\n",
            "  Downloading platformdirs-2.5.2-py3-none-any.whl (14 kB)\n",
            "Installing collected packages: platformdirs, frozenlist, distlib, virtualenv, grpcio, aiosignal, ray\n",
            "  Attempting uninstall: grpcio\n",
            "    Found existing installation: grpcio 1.46.3\n",
            "    Uninstalling grpcio-1.46.3:\n",
            "      Successfully uninstalled grpcio-1.46.3\n",
            "Successfully installed aiosignal-1.2.0 distlib-0.3.4 frozenlist-1.3.0 grpcio-1.43.0 platformdirs-2.5.2 ray-1.12.1 virtualenv-20.14.1\n"
          ]
        }
      ]
    },
    {
      "cell_type": "code",
      "execution_count": 1,
      "id": "42b0bdbc-3bcf-4975-9590-f8ae9cb5bfd7",
      "metadata": {
        "id": "42b0bdbc-3bcf-4975-9590-f8ae9cb5bfd7"
      },
      "outputs": [],
      "source": [
        "import os\n",
        "import time\n",
        "import logging\n",
        "\n",
        "import numpy as np\n",
        "from numpy import loadtxt\n",
        "import ray"
      ]
    },
    {
      "cell_type": "markdown",
      "id": "ea926840-ada3-4566-98eb-e594585374e6",
      "metadata": {
        "tags": [],
        "id": "ea926840-ada3-4566-98eb-e594585374e6"
      },
      "source": [
        "## 1. Tasks Parallel Pattern\n",
        "\n",
        "Ray converts decorated functions into stateless tasks, scheduled anywhere on a ray worker in the cluster by simply adding the `@ray.remote` decorator. \n",
        "All these functions are converted into Ray stateless tasks that will be executed on some worker process on a Ray cluster.\n",
        "\n",
        "Where they will be executed (and by whom), you don't have to worry about its details. All that is taken care for you. Nor do \n",
        "you have to reason about it — all that burden is Ray's job. You simply take your existing Python functions and \n",
        "covert them into stateless *Ray Tasks*: as simple as that!"
      ]
    },
    {
      "cell_type": "markdown",
      "id": "1ed92720-2083-4dfd-9894-45bbf56f984f",
      "metadata": {
        "id": "1ed92720-2083-4dfd-9894-45bbf56f984f"
      },
      "source": [
        "### Example 1: Serial vs Parallelism\n",
        "\n",
        "Let's look at simple tasks running serially and then in parallel\n"
      ]
    },
    {
      "cell_type": "code",
      "execution_count": 2,
      "id": "a7f1368a-b796-4f48-a296-a2d106e01e35",
      "metadata": {
        "id": "a7f1368a-b796-4f48-a296-a2d106e01e35"
      },
      "outputs": [],
      "source": [
        "# A regular Python function.\n",
        "def regular_function():\n",
        "    return 1"
      ]
    },
    {
      "cell_type": "code",
      "execution_count": 3,
      "id": "5cdd2e3b-bb52-4e16-ac8a-0fa40cabab49",
      "metadata": {
        "id": "5cdd2e3b-bb52-4e16-ac8a-0fa40cabab49"
      },
      "outputs": [],
      "source": [
        "# A Ray remote function.\n",
        "@ray.remote\n",
        "def remote_function():\n",
        "    return 1"
      ]
    },
    {
      "cell_type": "markdown",
      "id": "cf2bdf39-b488-4d64-8900-ce9d46408e67",
      "metadata": {
        "id": "cf2bdf39-b488-4d64-8900-ce9d46408e67"
      },
      "source": [
        "There are a few key differences between the original function and the decorated one:\n",
        "\n",
        "**Invocation**: The regular version is called with `regular_function()`, whereas the remote version is called with `remote_function.remote()`.\n",
        "\n",
        "**Return values**: regular_function executes synchronously and returns the result of the function (1), whereas remote_function immediately returns an `ObjectID` (a future) and then executes the task in the background on a separate worker process. The result of the future can be obtained by calling `ray.get` on the `ObjectID`. This is a blocking function."
      ]
    },
    {
      "cell_type": "code",
      "execution_count": 4,
      "id": "6d093793-d7d8-4558-b0c0-341333eeeaa0",
      "metadata": {
        "colab": {
          "base_uri": "https://localhost:8080/"
        },
        "id": "6d093793-d7d8-4558-b0c0-341333eeeaa0",
        "outputId": "78a4a658-fe59-4ae7-f9ef-215f0d5beba0"
      },
      "outputs": [
        {
          "output_type": "execute_result",
          "data": {
            "text/plain": [
              "1"
            ]
          },
          "metadata": {},
          "execution_count": 4
        }
      ],
      "source": [
        "# Let's invoke the regular function\n",
        "regular_function()"
      ]
    },
    {
      "cell_type": "code",
      "execution_count": 5,
      "id": "4c0984c8-08f2-4106-bd64-e387420bf34b",
      "metadata": {
        "colab": {
          "base_uri": "https://localhost:8080/"
        },
        "id": "4c0984c8-08f2-4106-bd64-e387420bf34b",
        "outputId": "ea621402-5ac1-4e3e-db9a-fa87a108faf7"
      },
      "outputs": [
        {
          "output_type": "execute_result",
          "data": {
            "text/plain": [
              "RayContext(dashboard_url='', python_version='3.7.13', ray_version='1.12.1', ray_commit='4863e33856b54ccf8add5cbe75e41558850a1b75', address_info={'node_ip_address': '172.28.0.2', 'raylet_ip_address': '172.28.0.2', 'redis_address': None, 'object_store_address': '/tmp/ray/session_2022-06-02_06-44-44_632091_135/sockets/plasma_store', 'raylet_socket_name': '/tmp/ray/session_2022-06-02_06-44-44_632091_135/sockets/raylet', 'webui_url': '', 'session_dir': '/tmp/ray/session_2022-06-02_06-44-44_632091_135', 'metrics_export_port': 56037, 'gcs_address': '172.28.0.2:63503', 'address': '172.28.0.2:63503', 'node_id': '536987c85bc72073d23c2574abf6e6fa40eea6de13a42fd3a517f0dc'})"
            ]
          },
          "metadata": {},
          "execution_count": 5
        }
      ],
      "source": [
        "ray.init(\n",
        "    ignore_reinit_error=True,\n",
        "    logging_level=logging.ERROR,\n",
        ")"
      ]
    },
    {
      "cell_type": "code",
      "execution_count": 6,
      "id": "0842a5c9-b47f-4377-b1c6-8562ca8dbe9d",
      "metadata": {
        "colab": {
          "base_uri": "https://localhost:8080/"
        },
        "id": "0842a5c9-b47f-4377-b1c6-8562ca8dbe9d",
        "outputId": "076736a8-12be-4923-cf77-bf2bc72468ad"
      },
      "outputs": [
        {
          "output_type": "execute_result",
          "data": {
            "text/plain": [
              "ObjectRef(c8ef45ccd0112571ffffffffffffffffffffffff0100000001000000)"
            ]
          },
          "metadata": {},
          "execution_count": 6
        }
      ],
      "source": [
        "# Let's invoke the remote regular function.\n",
        "remote_function.remote()"
      ]
    },
    {
      "cell_type": "code",
      "execution_count": 7,
      "id": "1648deeb-3272-46d6-abf9-e83cfca0d10e",
      "metadata": {
        "colab": {
          "base_uri": "https://localhost:8080/"
        },
        "id": "1648deeb-3272-46d6-abf9-e83cfca0d10e",
        "outputId": "9f6580ae-970a-4b19-ce2a-8bc92f5a17c4"
      },
      "outputs": [
        {
          "output_type": "execute_result",
          "data": {
            "text/plain": [
              "1"
            ]
          },
          "metadata": {},
          "execution_count": 7
        }
      ],
      "source": [
        "ray.get(remote_function.remote())"
      ]
    },
    {
      "cell_type": "markdown",
      "id": "18624b7a-b77b-4db3-8ee4-070a1fd1eb1c",
      "metadata": {
        "id": "18624b7a-b77b-4db3-8ee4-070a1fd1eb1c"
      },
      "source": [
        "**No Parallelism**: Invocations of `regular_function` in a loop happen `serially`:"
      ]
    },
    {
      "cell_type": "code",
      "execution_count": 8,
      "id": "252445c7-a53a-4d84-9c67-686fb2ce2ace",
      "metadata": {
        "id": "252445c7-a53a-4d84-9c67-686fb2ce2ace"
      },
      "outputs": [],
      "source": [
        "# These are executed one at a time, back-to-back.\n",
        "result = 0\n",
        "for _ in range(10):\n",
        "    result += regular_function()\n",
        "assert result == 10"
      ]
    },
    {
      "cell_type": "markdown",
      "id": "88681bcc-ba49-4d68-b9c7-147907549a73",
      "metadata": {
        "id": "88681bcc-ba49-4d68-b9c7-147907549a73"
      },
      "source": [
        "**Parallelism**: Invocations of `remote_function` in a loop happen `asynchronously` and in parallel:"
      ]
    },
    {
      "cell_type": "code",
      "execution_count": 9,
      "id": "54c40bf2-ca0e-4a71-a570-3853db84d40a",
      "metadata": {
        "id": "54c40bf2-ca0e-4a71-a570-3853db84d40a"
      },
      "outputs": [],
      "source": [
        "# Executing these functions happens at the same time in the background, and we get the results using ray.get.\n",
        "results = []\n",
        "for _ in range(10):\n",
        "    results.append(remote_function.remote())\n",
        "assert sum(ray.get(results)) == 10"
      ]
    },
    {
      "cell_type": "markdown",
      "id": "e789e133-9b12-4518-831a-b78fa0430705",
      "metadata": {
        "id": "e789e133-9b12-4518-831a-b78fa0430705"
      },
      "source": [
        "### Example 2: Adding two np arrays\n",
        "\n",
        "<img src=\"https://github.com/anyscale/academy/blob/dbcac28e08caf83a9d7937f3bcb2747d6f6e67ef/images/task_api_add_array.png?raw=1\" width=\"60%\" height=\"40%\">"
      ]
    },
    {
      "cell_type": "markdown",
      "id": "3e076e93-3ed7-4acc-88ad-8a4115b568b3",
      "metadata": {
        "id": "3e076e93-3ed7-4acc-88ad-8a4115b568b3"
      },
      "source": [
        "Define a function as a Ray task to read an array"
      ]
    },
    {
      "cell_type": "code",
      "execution_count": 10,
      "id": "54f1ed66-7169-42f0-b952-6298dd01ab42",
      "metadata": {
        "id": "54f1ed66-7169-42f0-b952-6298dd01ab42"
      },
      "outputs": [],
      "source": [
        "@ray.remote\n",
        "def read_array(fn: str) -> np.array:\n",
        "    arr = loadtxt(fn, comments=\"#\", delimiter=\",\", unpack=False)\n",
        "    return arr.astype('int')"
      ]
    },
    {
      "cell_type": "markdown",
      "id": "51619a9a-1f41-4678-a9ae-d2831713d247",
      "metadata": {
        "id": "51619a9a-1f41-4678-a9ae-d2831713d247"
      },
      "source": [
        "Define a function as a Ray task to add two np arrays return the sum"
      ]
    },
    {
      "cell_type": "code",
      "execution_count": 11,
      "id": "c5e543c9-7b67-4776-b8d8-2a4bbbded604",
      "metadata": {
        "id": "c5e543c9-7b67-4776-b8d8-2a4bbbded604"
      },
      "outputs": [],
      "source": [
        "@ray.remote\n",
        "def add_array(arr1: np.array, arr2: np.array) -> np.array:\n",
        "    return np.add(arr1, arr1)"
      ]
    },
    {
      "cell_type": "markdown",
      "id": "7f7b4888-7116-4141-a170-744f9e31ae33",
      "metadata": {
        "id": "7f7b4888-7116-4141-a170-744f9e31ae33"
      },
      "source": [
        "Define a function as a Ray task to sum the contents of an np array"
      ]
    },
    {
      "cell_type": "code",
      "execution_count": 12,
      "id": "2c1aee3b-9b15-4653-a46a-b0e0e3ee8a3a",
      "metadata": {
        "id": "2c1aee3b-9b15-4653-a46a-b0e0e3ee8a3a"
      },
      "outputs": [],
      "source": [
        "@ray.remote\n",
        "def sum_array(arr1: np.array) -> int:\n",
        "    return np.sum(arr1)"
      ]
    },
    {
      "cell_type": "markdown",
      "id": "b6d982e4-0f9b-4255-a416-e157a6943870",
      "metadata": {
        "id": "b6d982e4-0f9b-4255-a416-e157a6943870"
      },
      "source": [
        "Now let's execute our tasks. But first, we have to initialize Ray. For now we will run Ray locally on our laptop, with a single node, including its headnode,\n",
        "and use all the cores available.\n",
        "\n",
        "Ray executes immediately and returns an object reference `ObjectRef` as a future. This enables Ray to parallelize tasks and execute them asynchronously.\n",
        "\n",
        "But first let's initialize ray."
      ]
    },
    {
      "cell_type": "markdown",
      "id": "647c56ed-ff55-481e-8445-290159232d61",
      "metadata": {
        "id": "647c56ed-ff55-481e-8445-290159232d61"
      },
      "source": [
        "### Read both arrays. \n",
        "\n",
        "Use the `func_name.remote(args)` extention to invoke a remote Ray Task"
      ]
    },
    {
      "cell_type": "code",
      "source": [
        "#create data first\n",
        "import numpy as np\n",
        "np.savetxt(\"file_1.txt\", np.random.randint((100,100)),delimiter=\",\")\n",
        "np.savetxt(\"file_2.txt\", np.random.randint((100,100)),delimiter=\",\")"
      ],
      "metadata": {
        "id": "MZx6aodrNmve"
      },
      "id": "MZx6aodrNmve",
      "execution_count": 42,
      "outputs": []
    },
    {
      "cell_type": "code",
      "execution_count": 43,
      "id": "16389983-334b-4b1b-9982-5343d512e8c2",
      "metadata": {
        "colab": {
          "base_uri": "https://localhost:8080/"
        },
        "id": "16389983-334b-4b1b-9982-5343d512e8c2",
        "outputId": "0e2d973b-c4bb-4305-9210-d64c870b4c8c"
      },
      "outputs": [
        {
          "output_type": "stream",
          "name": "stdout",
          "text": [
            "array 1: ObjectRef(a631fe8d231813bfffffffffffffffffffffffff0100000001000000)\n"
          ]
        }
      ],
      "source": [
        "obj_ref_arr1 = read_array.remote(\"file_1.txt\")\n",
        "print(f\"array 1: {obj_ref_arr1}\")"
      ]
    },
    {
      "cell_type": "code",
      "execution_count": 44,
      "id": "866e4bdc-04e2-4629-b13c-a55a1be08621",
      "metadata": {
        "colab": {
          "base_uri": "https://localhost:8080/"
        },
        "id": "866e4bdc-04e2-4629-b13c-a55a1be08621",
        "outputId": "bd63df50-5eff-4b67-d6f3-1e139185c824"
      },
      "outputs": [
        {
          "output_type": "stream",
          "name": "stdout",
          "text": [
            "array 2: ObjectRef(79cc316456d39201ffffffffffffffffffffffff0100000001000000)\n"
          ]
        }
      ],
      "source": [
        "obj_ref_arr2 = read_array.remote(\"file_2.txt\")\n",
        "print(f\"array 2: {obj_ref_arr2}\")"
      ]
    },
    {
      "cell_type": "markdown",
      "id": "e7cc20ed-4f1e-4ec3-a8d3-1959b398175a",
      "metadata": {
        "id": "e7cc20ed-4f1e-4ec3-a8d3-1959b398175a"
      },
      "source": [
        "### Add both arrays\n",
        "\n",
        "Let's add our two arrays by calling the remote method. *Note*: We are sending Ray `ObjectRef` references as arguments.Those will be resolved inline and fetched from owner. Note that node that creates the ref owns them and stores it in its object store. \n",
        "\n",
        "Ray scheduler is aware of where these object references reside or who owns them, so it will schedule this remote task on node on the worker process for data locality."
      ]
    },
    {
      "cell_type": "code",
      "execution_count": 45,
      "id": "c8195bf8-9f4e-421d-8955-0c0e8c851134",
      "metadata": {
        "colab": {
          "base_uri": "https://localhost:8080/"
        },
        "id": "c8195bf8-9f4e-421d-8955-0c0e8c851134",
        "outputId": "5e07a3fd-9dc9-4a8f-838a-ca09aa8c40ad"
      },
      "outputs": [
        {
          "output_type": "execute_result",
          "data": {
            "text/plain": [
              "ObjectRef(c1464dc5b2308f10ffffffffffffffffffffffff0100000001000000)"
            ]
          },
          "metadata": {},
          "execution_count": 45
        }
      ],
      "source": [
        "result_obj_ref = add_array.remote(obj_ref_arr1, obj_ref_arr2)\n",
        "result_obj_ref"
      ]
    },
    {
      "cell_type": "markdown",
      "id": "d346857a-d91b-4b5c-8f31-db907179beb5",
      "metadata": {
        "id": "d346857a-d91b-4b5c-8f31-db907179beb5"
      },
      "source": [
        "### Fetch the result \n",
        "\n",
        "This will block untill finished"
      ]
    },
    {
      "cell_type": "code",
      "execution_count": 46,
      "id": "e642440b-e29c-4fb7-9c51-2390720d9146",
      "metadata": {
        "colab": {
          "base_uri": "https://localhost:8080/"
        },
        "id": "e642440b-e29c-4fb7-9c51-2390720d9146",
        "outputId": "d1fd2099-7680-4b34-b69a-2bf042b1fa00"
      },
      "outputs": [
        {
          "output_type": "stream",
          "name": "stdout",
          "text": [
            "Result: add arr1 + arr2: \n",
            " [128 126]\n"
          ]
        }
      ],
      "source": [
        "result = ray.get(result_obj_ref)\n",
        "print(f\"Result: add arr1 + arr2: \\n {result}\")"
      ]
    },
    {
      "cell_type": "markdown",
      "id": "3a5a5322-649a-473f-bb29-103f992f53dc",
      "metadata": {
        "id": "3a5a5322-649a-473f-bb29-103f992f53dc"
      },
      "source": [
        "Add the array elements and get the sum\n",
        "Note we are sending objRefs as arguments to the function\n",
        "Ray will resolve or fetch the value of these arrays. "
      ]
    },
    {
      "cell_type": "code",
      "execution_count": 47,
      "id": "387ce8d5-fc95-4417-8c8f-756ac4ea2c5f",
      "metadata": {
        "id": "387ce8d5-fc95-4417-8c8f-756ac4ea2c5f"
      },
      "outputs": [],
      "source": [
        "sum_1 = ray.get(sum_array.remote(obj_ref_arr1))\n",
        "sum_2 = ray.get(sum_array.remote(obj_ref_arr2))"
      ]
    },
    {
      "cell_type": "code",
      "execution_count": 48,
      "id": "62dc9863-8766-49bd-948e-d7270a83a82a",
      "metadata": {
        "colab": {
          "base_uri": "https://localhost:8080/"
        },
        "id": "62dc9863-8766-49bd-948e-d7270a83a82a",
        "outputId": "b3225d58-5e4d-48da-dbf8-eec6a0b4cc4f"
      },
      "outputs": [
        {
          "output_type": "stream",
          "name": "stdout",
          "text": [
            "Sum of arr1: 127\n",
            "Sum of arr2: 119\n"
          ]
        }
      ],
      "source": [
        "print(f'Sum of arr1: {sum_1}')\n",
        "print(f'Sum of arr2: {sum_2}')"
      ]
    },
    {
      "cell_type": "markdown",
      "id": "c30303db-5f78-4d84-b1ef-ef61f8dbb978",
      "metadata": {
        "id": "c30303db-5f78-4d84-b1ef-ef61f8dbb978"
      },
      "source": [
        "### Example 3: Generating Fibonnaci series\n",
        "\n",
        "Let's define two functions: one runs locally or serially, the other runs on a Ray cluster (local or remote). This example is borrowed and refactored from our blog: [Writing your First Distributed Python Application with Ray](https://www.anyscale.com/blog/writing-your-first-distributed-python-application-with-ray). (This is an excellent tutorial to get started with the concept of why and when to use Ray tasks and Ray Actors. Highly recommended read!)\n",
        "\n",
        "Another similar blog of interest is how to compute the value of **pi**: [How to scale Python multiprocessing to a cluster with one line of code](https://medium.com/distributed-computing-with-ray/how-to-scale-python-multiprocessing-to-a-cluster-with-one-line-of-code-d19f242f60ff)."
      ]
    },
    {
      "cell_type": "code",
      "execution_count": 19,
      "id": "1cf54530-e125-45d4-92b3-9c6bc02f083a",
      "metadata": {
        "id": "1cf54530-e125-45d4-92b3-9c6bc02f083a"
      },
      "outputs": [],
      "source": [
        "# Local execution \n",
        "def generate_fibonacci(sequence_size):\n",
        "    fibonacci = []\n",
        "    for i in range(0, sequence_size):\n",
        "        if i < 2:\n",
        "            fibonacci.append(i)\n",
        "            continue\n",
        "        fibonacci.append(fibonacci[i-1]+fibonacci[i-2])\n",
        "    return len(fibonacci)"
      ]
    },
    {
      "cell_type": "code",
      "execution_count": 20,
      "id": "22788e88-5bd4-41da-91f8-51bc4ed76a41",
      "metadata": {
        "id": "22788e88-5bd4-41da-91f8-51bc4ed76a41"
      },
      "outputs": [],
      "source": [
        "# Remote Task with just a wrapper\n",
        "@ray.remote\n",
        "def generate_fibonacci_distributed(sequence_size):\n",
        "    return generate_fibonacci(sequence_size)"
      ]
    },
    {
      "cell_type": "code",
      "execution_count": 21,
      "id": "389b4b81-3627-4592-b92e-cc3d5c3601ee",
      "metadata": {
        "colab": {
          "base_uri": "https://localhost:8080/"
        },
        "id": "389b4b81-3627-4592-b92e-cc3d5c3601ee",
        "outputId": "9210b8c9-ce1a-4465-8c2b-ef8afa977626"
      },
      "outputs": [
        {
          "output_type": "execute_result",
          "data": {
            "text/plain": [
              "2"
            ]
          },
          "metadata": {},
          "execution_count": 21
        }
      ],
      "source": [
        "# Get the number of cores \n",
        "os.cpu_count()"
      ]
    },
    {
      "cell_type": "code",
      "execution_count": 22,
      "id": "546138b1-0ec3-4f7d-b7eb-c032294fa4df",
      "metadata": {
        "id": "546138b1-0ec3-4f7d-b7eb-c032294fa4df"
      },
      "outputs": [],
      "source": [
        "# Normal Python in a single process \n",
        "def run_local(sequence_size):\n",
        "    results = [generate_fibonacci(sequence_size) for _ in range(os.cpu_count())]\n",
        "    return results"
      ]
    },
    {
      "cell_type": "code",
      "execution_count": 23,
      "id": "520c97ec-d6ff-4e85-a09d-3873054d1558",
      "metadata": {
        "colab": {
          "base_uri": "https://localhost:8080/"
        },
        "id": "520c97ec-d6ff-4e85-a09d-3873054d1558",
        "outputId": "2540f084-fbbe-4253-fc26-e02187629f6f"
      },
      "outputs": [
        {
          "output_type": "stream",
          "name": "stdout",
          "text": [
            "CPU times: user 410 ms, sys: 1.15 s, total: 1.56 s\n",
            "Wall time: 1.57 s\n"
          ]
        },
        {
          "output_type": "execute_result",
          "data": {
            "text/plain": [
              "[100000, 100000]"
            ]
          },
          "metadata": {},
          "execution_count": 23
        }
      ],
      "source": [
        "%%time\n",
        "run_local(100000)"
      ]
    },
    {
      "cell_type": "code",
      "execution_count": 24,
      "id": "9f8317bb-18b2-4389-836d-1e05399148de",
      "metadata": {
        "id": "9f8317bb-18b2-4389-836d-1e05399148de"
      },
      "outputs": [],
      "source": [
        "# Distributed on a Ray cluster\n",
        "def run_remote(sequence_size):\n",
        "    results = ray.get([generate_fibonacci_distributed.remote(sequence_size) for _ in range(os.cpu_count())])\n",
        "    return results"
      ]
    },
    {
      "cell_type": "code",
      "execution_count": 25,
      "id": "2ca042c5-9d0d-4bcc-9522-69c7d1e95500",
      "metadata": {
        "colab": {
          "base_uri": "https://localhost:8080/"
        },
        "id": "2ca042c5-9d0d-4bcc-9522-69c7d1e95500",
        "outputId": "e87437da-b537-4e36-f08e-036b1787309c"
      },
      "outputs": [
        {
          "output_type": "stream",
          "name": "stdout",
          "text": [
            "CPU times: user 20.2 ms, sys: 7.67 ms, total: 27.8 ms\n",
            "Wall time: 1.51 s\n"
          ]
        },
        {
          "output_type": "execute_result",
          "data": {
            "text/plain": [
              "[100000, 100000]"
            ]
          },
          "metadata": {},
          "execution_count": 25
        }
      ],
      "source": [
        "%%time\n",
        "run_remote(100000)"
      ]
    },
    {
      "cell_type": "markdown",
      "id": "da0e7c3f-6ba5-4e1b-9350-880b1d301f20",
      "metadata": {
        "id": "da0e7c3f-6ba5-4e1b-9350-880b1d301f20"
      },
      "source": [
        "### Concept for this Exercise - Task Dependencies\n",
        "\n",
        "Consider the following basic remote function that returns the argument passed to it. If we pass in some normal Python objects, the results returned by ray.get should be the same objects."
      ]
    },
    {
      "cell_type": "code",
      "execution_count": 26,
      "id": "350c442c-54a8-4ca7-8940-a94e77164a33",
      "metadata": {
        "colab": {
          "base_uri": "https://localhost:8080/"
        },
        "id": "350c442c-54a8-4ca7-8940-a94e77164a33",
        "outputId": "6409274f-98c0-4803-a991-57570f14543d"
      },
      "outputs": [
        {
          "output_type": "execute_result",
          "data": {
            "text/plain": [
              "1"
            ]
          },
          "metadata": {},
          "execution_count": 26
        }
      ],
      "source": [
        "@ray.remote\n",
        "def f(x):\n",
        "    return x\n",
        "\n",
        "x1_id = f.remote(1)\n",
        "ray.get(x1_id)"
      ]
    },
    {
      "cell_type": "code",
      "execution_count": 27,
      "id": "9671b6f1-c820-4de5-8122-b4acb4e39de9",
      "metadata": {
        "colab": {
          "base_uri": "https://localhost:8080/"
        },
        "id": "9671b6f1-c820-4de5-8122-b4acb4e39de9",
        "outputId": "44e707c2-f9b8-4e58-c7cf-e8c21dd4952b"
      },
      "outputs": [
        {
          "output_type": "execute_result",
          "data": {
            "text/plain": [
              "[1, 2, 3]"
            ]
          },
          "metadata": {},
          "execution_count": 27
        }
      ],
      "source": [
        "x2_id = f.remote([1, 2, 3])\n",
        "ray.get(x2_id)"
      ]
    },
    {
      "cell_type": "markdown",
      "id": "9b57bb5b-371e-42f4-ac0e-c657ba32e419",
      "metadata": {
        "id": "9b57bb5b-371e-42f4-ac0e-c657ba32e419"
      },
      "source": [
        "However, `object IDs` can also be passed into remote functions. When the function is executed, Ray will automatically substitute the underlying Python object that the object ID refers to. In a sense, it's the same as calling `ray.get` on each argument that's passed in as an argument."
      ]
    },
    {
      "cell_type": "code",
      "execution_count": 28,
      "id": "e3836b9c-64f1-4603-b299-166c36afb8b9",
      "metadata": {
        "colab": {
          "base_uri": "https://localhost:8080/"
        },
        "id": "e3836b9c-64f1-4603-b299-166c36afb8b9",
        "outputId": "9cc4c080-bb22-4bbe-a286-da89f2f23dca"
      },
      "outputs": [
        {
          "output_type": "execute_result",
          "data": {
            "text/plain": [
              "1"
            ]
          },
          "metadata": {},
          "execution_count": 28
        }
      ],
      "source": [
        "y1_id = f.remote(x1_id)\n",
        "ray.get(y1_id)"
      ]
    },
    {
      "cell_type": "code",
      "execution_count": 29,
      "id": "8a2e4a57-ed3a-46d4-b646-582a644e1e4d",
      "metadata": {
        "colab": {
          "base_uri": "https://localhost:8080/"
        },
        "id": "8a2e4a57-ed3a-46d4-b646-582a644e1e4d",
        "outputId": "32aa8755-dcd4-46c5-97de-be831cd6435e"
      },
      "outputs": [
        {
          "output_type": "execute_result",
          "data": {
            "text/plain": [
              "[1, 2, 3]"
            ]
          },
          "metadata": {},
          "execution_count": 29
        }
      ],
      "source": [
        "y2_id = f.remote(x2_id)\n",
        "ray.get(y2_id)"
      ]
    },
    {
      "cell_type": "markdown",
      "id": "92038803-c413-4bc1-b9ba-cf10801b08bc",
      "metadata": {
        "id": "92038803-c413-4bc1-b9ba-cf10801b08bc"
      },
      "source": [
        "When implementing a remote function, the function should expect a regular Python object regardless of whether the caller passes in a regular Python object or an object ID.\n",
        "\n",
        "**These task dependencies affect scheduling**. In the example above, the task that creates `y1_id` depends on the task that creates `x1_id`. This means that:\n",
        "\n",
        " * The second task will not be executed until the first task has finished executing.\n",
        " * If the two tasks are scheduled on different machines, the output of the first task (the value corresponding to x1_id) will be copied over the network to the machine where the second task is scheduled."
      ]
    },
    {
      "cell_type": "markdown",
      "id": "eaafdcd0-4dd2-4828-8879-a5c651da7ab1",
      "metadata": {
        "id": "eaafdcd0-4dd2-4828-8879-a5c651da7ab1"
      },
      "source": [
        "### Example 4: Task Dependencies: Aggregating Values Efficiently\n",
        "\n",
        "Task dependencies can be used in much more sophisticated ways. For example, suppose we wish to aggregate 8 values together. This example uses naive integer addition, but in many applications, aggregating large vectors across multiple machines can be a bottleneck. In this case, changing a single line of code can change the aggregation’s running time from linear to logarithmic in the number of values being aggregated.\n",
        "\n",
        "<img src=\"https://github.com/anyscale/academy/blob/dbcac28e08caf83a9d7937f3bcb2747d6f6e67ef/images/task_dependencies_graphs.png?raw=1\" height=\"50%\" width=\"70%\">"
      ]
    },
    {
      "cell_type": "code",
      "execution_count": 30,
      "id": "c09265ff-7d31-46ba-96a4-2f847759f413",
      "metadata": {
        "id": "c09265ff-7d31-46ba-96a4-2f847759f413"
      },
      "outputs": [],
      "source": [
        "# define a task to add two intergers\n",
        "@ray.remote\n",
        "def add(x, y):\n",
        "    time.sleep(1)\n",
        "    return x + y"
      ]
    },
    {
      "cell_type": "markdown",
      "id": "fd505139-8558-471a-a18c-fd466503a5b0",
      "metadata": {
        "id": "fd505139-8558-471a-a18c-fd466503a5b0"
      },
      "source": [
        "#### Add values the slow approach"
      ]
    },
    {
      "cell_type": "code",
      "execution_count": 31,
      "id": "44003521-a111-4729-935f-33f6868d748e",
      "metadata": {
        "id": "44003521-a111-4729-935f-33f6868d748e"
      },
      "outputs": [],
      "source": [
        "values = [i for i in range(1, 8)]"
      ]
    },
    {
      "cell_type": "code",
      "execution_count": 32,
      "id": "d8213699-6778-4fcf-9834-3b54ccc02b64",
      "metadata": {
        "colab": {
          "base_uri": "https://localhost:8080/"
        },
        "id": "d8213699-6778-4fcf-9834-3b54ccc02b64",
        "outputId": "5209f0e2-6587-4a59-d026-dbb3a34742c4"
      },
      "outputs": [
        {
          "output_type": "stream",
          "name": "stdout",
          "text": [
            "28\n",
            "CPU times: user 73.1 ms, sys: 15.2 ms, total: 88.3 ms\n",
            "Wall time: 6.03 s\n"
          ]
        }
      ],
      "source": [
        "%%time\n",
        "\n",
        "while len(values) > 1:\n",
        "    values = [add.remote(values[0], values[1])] + values[2:]\n",
        "result = ray.get(values[0])\n",
        "print(result)"
      ]
    },
    {
      "cell_type": "markdown",
      "id": "1a595a40-65bb-4c11-84de-f4c313a08dcd",
      "metadata": {
        "id": "1a595a40-65bb-4c11-84de-f4c313a08dcd"
      },
      "source": [
        "#### Add values the faster approach"
      ]
    },
    {
      "cell_type": "code",
      "execution_count": 33,
      "id": "d2fabe38-8484-47e4-b2c8-a385f3201c81",
      "metadata": {
        "colab": {
          "base_uri": "https://localhost:8080/"
        },
        "id": "d2fabe38-8484-47e4-b2c8-a385f3201c81",
        "outputId": "3c5ad850-f852-4ae9-8a27-50f32368f855"
      },
      "outputs": [
        {
          "output_type": "stream",
          "name": "stdout",
          "text": [
            "28\n",
            "CPU times: user 256 µs, sys: 1.18 ms, total: 1.44 ms\n",
            "Wall time: 4.83 ms\n"
          ]
        }
      ],
      "source": [
        "%%time\n",
        "\n",
        "while len(values) > 1:\n",
        "    values = values[2:] + [add.remote(values[0], values[1])]\n",
        "result = ray.get(values[0])\n",
        "print(result)"
      ]
    },
    {
      "cell_type": "markdown",
      "id": "0017ef57-4f55-44ec-9c18-25b3bba016c4",
      "metadata": {
        "id": "0017ef57-4f55-44ec-9c18-25b3bba016c4"
      },
      "source": [
        "### Example 5: Concept of nested parallelism\n",
        "\n",
        "The goal of this exercise is to show how to create nested tasks by calling a remote function inside of another remote function. Remote functions can call other functions. For example, consider the following."
      ]
    },
    {
      "cell_type": "code",
      "execution_count": 34,
      "id": "97e6982f-5978-48b6-a8b7-64600e10ad5d",
      "metadata": {
        "id": "97e6982f-5978-48b6-a8b7-64600e10ad5d"
      },
      "outputs": [],
      "source": [
        "@ray.remote\n",
        "def f():\n",
        "    return 1\n",
        "\n",
        "@ray.remote\n",
        "def g():\n",
        "    # Call f 4 times and return the resulting object IDs.\n",
        "    results = []\n",
        "    for _ in range(4):\n",
        "      results.append(f.remote())\n",
        "    return results\n",
        "\n",
        "@ray.remote\n",
        "def h():\n",
        "    # Call f 4 times, block until those 4 tasks finish,\n",
        "    # retrieve the results, and return the values.\n",
        "    results = []\n",
        "    for _ in range(4):\n",
        "      results.append(f.remote())\n",
        "    return ray.get(results)"
      ]
    },
    {
      "cell_type": "markdown",
      "id": "b6af2c34-3d00-4a3c-978c-b3d88258c98c",
      "metadata": {
        "id": "b6af2c34-3d00-4a3c-978c-b3d88258c98c"
      },
      "source": [
        "Then calling `g` and `h` produces the following behavior."
      ]
    },
    {
      "cell_type": "code",
      "execution_count": 35,
      "id": "f96a366f-ddbe-45b6-8880-735190a4f5a9",
      "metadata": {
        "colab": {
          "base_uri": "https://localhost:8080/"
        },
        "id": "f96a366f-ddbe-45b6-8880-735190a4f5a9",
        "outputId": "ef6d1475-9598-46bb-e0d2-bcd02e9b76ab"
      },
      "outputs": [
        {
          "output_type": "execute_result",
          "data": {
            "text/plain": [
              "[ObjectRef(ad4e74223c3d479bffffffffffffffffffffffff0100000001000000),\n",
              " ObjectRef(a437665df9dd00c0ffffffffffffffffffffffff0100000001000000),\n",
              " ObjectRef(c29d5406167e339dffffffffffffffffffffffff0100000001000000),\n",
              " ObjectRef(0e554d06ce071dcbffffffffffffffffffffffff0100000001000000)]"
            ]
          },
          "metadata": {},
          "execution_count": 35
        }
      ],
      "source": [
        "ray.get(g.remote())"
      ]
    },
    {
      "cell_type": "code",
      "execution_count": 36,
      "id": "32745779-dbfb-4327-afe3-94ba50b12010",
      "metadata": {
        "colab": {
          "base_uri": "https://localhost:8080/"
        },
        "id": "32745779-dbfb-4327-afe3-94ba50b12010",
        "outputId": "9bc4744a-38a9-4e3b-da30-82b451fb2ee0"
      },
      "outputs": [
        {
          "output_type": "execute_result",
          "data": {
            "text/plain": [
              "[1, 1, 1, 1]"
            ]
          },
          "metadata": {},
          "execution_count": 36
        }
      ],
      "source": [
        "ray.get(h.remote())"
      ]
    },
    {
      "cell_type": "code",
      "execution_count": 37,
      "id": "8f0256a2-ca5a-4c17-af32-022449fe3c6e",
      "metadata": {
        "id": "8f0256a2-ca5a-4c17-af32-022449fe3c6e"
      },
      "outputs": [],
      "source": [
        "# Normally will want to shutdown\n",
        "ray.shutdown()"
      ]
    },
    {
      "cell_type": "markdown",
      "id": "736292de-21cd-45cc-a103-5c7732f628ab",
      "metadata": {
        "id": "736292de-21cd-45cc-a103-5c7732f628ab"
      },
      "source": [
        "---"
      ]
    },
    {
      "cell_type": "markdown",
      "id": "ba2b7cec-65e3-4544-ab02-2fed100c1b38",
      "metadata": {
        "id": "ba2b7cec-65e3-4544-ab02-2fed100c1b38"
      },
      "source": [
        "### References\n",
        "\n",
        "1. [Modern Parallel and Distributed Python: A Quick Tutorial on Ray](https://towardsdatascience.com/modern-parallel-and-distributed-python-a-quick-tutorial-on-ray-99f8d70369b8) by Robert Nishihara, co-creator of Ray and co-founder Anyscale\n",
        "2. [Ray Core Introduction](https://www.anyscale.com/events/2022/02/03/introduction-to-ray-core-and-its-ecosystem) by Jules S. Damji"
      ]
    }
  ],
  "metadata": {
    "kernelspec": {
      "display_name": "Python 3 (ipykernel)",
      "language": "python",
      "name": "python3"
    },
    "language_info": {
      "codemirror_mode": {
        "name": "ipython",
        "version": 3
      },
      "file_extension": ".py",
      "mimetype": "text/x-python",
      "name": "python",
      "nbconvert_exporter": "python",
      "pygments_lexer": "ipython3",
      "version": "3.8.12"
    },
    "colab": {
      "name": "01-Ray-Tasks.ipynb",
      "provenance": []
    }
  },
  "nbformat": 4,
  "nbformat_minor": 5
}