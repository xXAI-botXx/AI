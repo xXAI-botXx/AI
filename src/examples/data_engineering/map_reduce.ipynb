{
  "cells": [
    {
      "cell_type": "markdown",
      "metadata": {
        "id": "LJtNXYQso6OY"
      },
      "source": [
        "# Ex 1.1: MapReduce with Python Functional Programming"
      ]
    },
    {
      "cell_type": "markdown",
      "metadata": {
        "id": "O1Uf4GaFo6Oe"
      },
      "source": [
        "#### Python *map* function\n",
        "Python has e built in *map* function -> [see python docs](https://docs.python.org/3/library/functions.html#map)\n",
        "* ``map(function, iterable object)`` applies a function to every member of the object (=data structure)\n",
        "* iterable objects are e.g. lists, dicts, arrays, ... but also custom data structures (see [here](https://thispointer.com/python-how-to-make-a-class-iterable-create-iterator-class-for-it/))"
      ]
    },
    {
      "cell_type": "code",
      "execution_count": 1,
      "metadata": {
        "id": "A3gZjBLRo6Og",
        "outputId": "ae69f8c6-da46-4c86-bd97-2fdf0921f490",
        "colab": {
          "base_uri": "https://localhost:8080/"
        }
      },
      "outputs": [
        {
          "output_type": "stream",
          "name": "stdout",
          "text": [
            "[1, 2, 3, 4]\n",
            "[2, 3, 4, 5]\n"
          ]
        }
      ],
      "source": [
        "#example\n",
        "def Plus1(a):\n",
        "    return a+1\n",
        "\n",
        "A = [1,2,3,4]\n",
        "print(A)\n",
        "B = list(map(Plus1,A)) #need to cast map output to list\n",
        "print(B)"
      ]
    },
    {
      "cell_type": "code",
      "execution_count": 2,
      "metadata": {
        "id": "x-pFzx5Eo6Oj",
        "outputId": "c1c9ecaa-d262-4dba-c2af-5102fe99bd71",
        "colab": {
          "base_uri": "https://localhost:8080/"
        }
      },
      "outputs": [
        {
          "output_type": "stream",
          "name": "stdout",
          "text": [
            "[1, 2, 3, 4]\n",
            "[3, 4, 5, 6]\n",
            "[2, 3, 6, 7]\n"
          ]
        }
      ],
      "source": [
        "#example 2 - map with an function that takes arguments\n",
        "from functools import partial\n",
        "\n",
        "def PlusX(a,x):\n",
        "    return a+x\n",
        "\n",
        "\n",
        "A = [1,2,3,4]\n",
        "print(A)\n",
        "B = list(map(partial(PlusX,x=2),A)) #use partial to fix parameters \n",
        "print(B)\n",
        "\n",
        "C = [1,1,3,3]\n",
        "D = list(map(PlusX,A,C)) #or input multiple iterable objects\n",
        "print(D)"
      ]
    },
    {
      "cell_type": "code",
      "execution_count": 3,
      "metadata": {
        "id": "pRHObImbo6Ol",
        "outputId": "83011e0d-02ad-471d-d867-034cde87ef0e",
        "colab": {
          "base_uri": "https://localhost:8080/"
        }
      },
      "outputs": [
        {
          "output_type": "stream",
          "name": "stdout",
          "text": [
            "[2, 3, 4, 5]\n"
          ]
        }
      ],
      "source": [
        "#example 3 - map with lmbda functions\n",
        "A = [1,2,3,4]\n",
        "B = list(map(lambda x:x+1,A ))#implement function directly with lambda\n",
        "print(B)"
      ]
    },
    {
      "cell_type": "code",
      "execution_count": 4,
      "metadata": {
        "id": "nnxzeuNMo6Om",
        "outputId": "945d6671-b572-42b1-e584-3050ef223853",
        "colab": {
          "base_uri": "https://localhost:8080/"
        }
      },
      "outputs": [
        {
          "output_type": "execute_result",
          "data": {
            "text/plain": [
              "array([[8.97809056e-01, 5.98893581e+00, 2.66895435e+00, 9.49120722e+00,\n",
              "        1.14852011e+01, 1.58508463e+01, 1.28520728e+01, 1.93252036e+01,\n",
              "        9.93248511e+00, 6.66592455e+00],\n",
              "       [1.42104405e+01, 2.68064868e-01, 1.49845710e+00, 1.67600129e+01,\n",
              "        1.66072135e+01, 3.42175751e+00, 8.03149906e+00, 1.18653789e+01,\n",
              "        1.63466703e+00, 4.01442112e+00],\n",
              "       [1.22812067e+01, 1.77419503e+01, 1.65772243e+01, 7.59782757e-01,\n",
              "        1.46885234e+01, 9.89530225e+00, 2.10305076e+00, 6.48090195e+00,\n",
              "        1.93201522e+01, 1.59294659e+01],\n",
              "       [3.37015333e+00, 2.79812818e+00, 1.99659230e+01, 1.31287762e+00,\n",
              "        9.67478110e+00, 1.00459410e+00, 1.18911282e+01, 2.41844237e-01,\n",
              "        1.20830565e+01, 1.10844162e+01],\n",
              "       [6.48222781e+00, 4.66603407e+00, 1.16175595e+01, 8.12338266e+00,\n",
              "        1.80098413e+01, 1.50670940e+01, 1.75284571e+01, 3.06604653e+00,\n",
              "        1.62852249e+01, 1.00480350e+01],\n",
              "       [1.01615638e+01, 3.55789080e+00, 9.85385877e-03, 9.57309428e+00,\n",
              "        3.24729854e+00, 1.57539251e+01, 3.85641099e+00, 2.46532027e+00,\n",
              "        1.68156730e+01, 4.27501601e+00],\n",
              "       [2.01852572e-01, 8.80129000e+00, 1.41827067e+01, 5.13122364e+00,\n",
              "        1.18046332e+01, 1.98796618e+01, 1.65747020e+01, 1.46380767e+01,\n",
              "        1.35788285e+01, 5.56104907e+00],\n",
              "       [7.74738368e+00, 1.68102530e+01, 5.78556885e+00, 8.45235963e+00,\n",
              "        6.50951310e+00, 7.15136853e+00, 1.81410787e+01, 5.18087455e+00,\n",
              "        6.79253396e+00, 1.69272148e+01],\n",
              "       [1.30488295e+01, 1.29473732e+01, 1.93071093e+01, 1.68899870e+01,\n",
              "        4.00177380e+00, 4.25085981e+00, 3.89364661e+00, 2.30661011e+00,\n",
              "        7.02039517e+00, 1.50166269e+01],\n",
              "       [3.93579307e+00, 1.47933647e+01, 1.33450687e+01, 4.08946921e+00,\n",
              "        1.78442432e+01, 1.78036958e+00, 1.98404007e+01, 2.87205985e+00,\n",
              "        1.82250016e+01, 1.75028978e+01]])"
            ]
          },
          "metadata": {},
          "execution_count": 4
        }
      ],
      "source": [
        "#example 4 - Numpy has map \"build in\"\n",
        "import numpy as np\n",
        "A = np.random.rand(10,10)*20\n",
        "A"
      ]
    },
    {
      "cell_type": "code",
      "execution_count": 5,
      "metadata": {
        "id": "aC3TOnqEo6On"
      },
      "outputs": [],
      "source": [
        "#apply function directly on each element of an array\n",
        "def isLarger10(x):\n",
        "    return x>10\n",
        "\n",
        "B = isLarger10(A)"
      ]
    },
    {
      "cell_type": "code",
      "execution_count": 6,
      "metadata": {
        "id": "fqTtGPIKo6Op",
        "outputId": "a36d049a-69cc-4be4-8978-228206539346",
        "colab": {
          "base_uri": "https://localhost:8080/"
        }
      },
      "outputs": [
        {
          "output_type": "execute_result",
          "data": {
            "text/plain": [
              "array([[False, False, False, False,  True,  True,  True,  True, False,\n",
              "        False],\n",
              "       [ True, False, False,  True,  True, False, False,  True, False,\n",
              "        False],\n",
              "       [ True,  True,  True, False,  True, False, False, False,  True,\n",
              "         True],\n",
              "       [False, False,  True, False, False, False,  True, False,  True,\n",
              "         True],\n",
              "       [False, False,  True, False,  True,  True,  True, False,  True,\n",
              "         True],\n",
              "       [ True, False, False, False, False,  True, False, False,  True,\n",
              "        False],\n",
              "       [False, False,  True, False,  True,  True,  True,  True,  True,\n",
              "        False],\n",
              "       [False,  True, False, False, False, False,  True, False, False,\n",
              "         True],\n",
              "       [ True,  True,  True,  True, False, False, False, False, False,\n",
              "         True],\n",
              "       [False,  True,  True, False,  True, False,  True, False,  True,\n",
              "         True]])"
            ]
          },
          "metadata": {},
          "execution_count": 6
        }
      ],
      "source": [
        "B"
      ]
    },
    {
      "cell_type": "markdown",
      "metadata": {
        "id": "6tzCxi0-o6Oq"
      },
      "source": [
        "#### *Reduce* in Python\n",
        "*functools* also provides a *reduce* function. Again, it will take a function and one ore more iterable objects as arguments. (see [API](https://docs.python.org/3/library/functools.html#functools.reduce))"
      ]
    },
    {
      "cell_type": "code",
      "execution_count": 7,
      "metadata": {
        "id": "5cElHIjpo6Or",
        "outputId": "d612c78d-a1dd-4c68-af92-db4abeaf9c11",
        "colab": {
          "base_uri": "https://localhost:8080/"
        }
      },
      "outputs": [
        {
          "output_type": "stream",
          "name": "stdout",
          "text": [
            "The sum of the list elements is : 17\n",
            "The maximum element of the list is : 6\n"
          ]
        }
      ],
      "source": [
        "# importing functools for reduce() \n",
        "import functools \n",
        "  \n",
        "# initializing list \n",
        "lis = [ 1 , 3, 5, 6, 2, ] \n",
        "  \n",
        "def addIt(a,b):\n",
        "    return a+b\n",
        "\n",
        "# using reduce to compute sum of list \n",
        "print (\"The sum of the list elements is : \",end=\"\") \n",
        "print (functools.reduce(addIt,lis)) \n",
        "  \n",
        "# using reduce to compute maximum element from list \n",
        "print (\"The maximum element of the list is : \",end=\"\") \n",
        "print (functools.reduce(lambda a,b : a if a > b else b,lis)) "
      ]
    },
    {
      "cell_type": "markdown",
      "metadata": {
        "id": "7CJ6XvzMo6Os"
      },
      "source": [
        "#### Splitting"
      ]
    },
    {
      "cell_type": "code",
      "execution_count": 8,
      "metadata": {
        "id": "J3IOBedno6Ot",
        "outputId": "3aae0aa1-573a-4247-aff5-3a33be639704",
        "colab": {
          "base_uri": "https://localhost:8080/"
        }
      },
      "outputs": [
        {
          "output_type": "stream",
          "name": "stdout",
          "text": [
            "[1, 2, 3]\n",
            "[4, 5, 6]\n",
            "[7, 8, 9]\n"
          ]
        }
      ],
      "source": [
        "import more_itertools as mit\n",
        "\n",
        "A=[1,2,3,4,5,6,7,8,9]\n",
        "B=list(mit.chunked(A, 3)) #split into lists of max size 3\n",
        "\n",
        "for i in B: #iterate over the spitts \n",
        "    print(i)"
      ]
    },
    {
      "cell_type": "code",
      "execution_count": 9,
      "metadata": {
        "id": "eWkg9b1fo6Ou",
        "outputId": "74683780-ff30-48cd-c7e3-5d5c3c6e5f7a",
        "colab": {
          "base_uri": "https://localhost:8080/"
        }
      },
      "outputs": [
        {
          "output_type": "stream",
          "name": "stdout",
          "text": [
            "['t', 'h', 'i', 's', ' ']\n",
            "['i', 's', ' ', 'a', ' ']\n",
            "['s', 'h', 'o', 'r', 't']\n",
            "[' ', 't', 'e', 'x', 't']\n",
            "[' ', 'i', 'n', ' ', 'f']\n",
            "['o', 'r', 'm', ' ', 'o']\n",
            "['f', ' ', 'a', ' ', 'p']\n",
            "['y', 't', 'h', 'o', 'n']\n",
            "[' ', 's', 't', 'r', 'i']\n",
            "['n', 'g']\n"
          ]
        }
      ],
      "source": [
        "A='this is a short text in form of a python string'\n",
        "B=list(mit.chunked(A, 5)) #split into lists of max size 5\n",
        "\n",
        "for i in B: #iterate over the spitts \n",
        "    print(i)"
      ]
    },
    {
      "cell_type": "markdown",
      "metadata": {
        "id": "xHhofr13o6Ou"
      },
      "source": [
        "## Exercise: build a simple *Character Count* Algorithm based on the above *split, map* and *reduce* operators "
      ]
    },
    {
      "cell_type": "code",
      "execution_count": 10,
      "metadata": {
        "id": "TCNuR-ZOo6Ov"
      },
      "outputs": [],
      "source": [
        "#some text from NYTimes\n",
        "text = ' Byron Spencer, handing out water and burgers to protesters outside Los Angeles City Hall, said he was both “elated and defeated” by word of the new charges. He said he had seen countless surges of outrage over police brutality against black men, only to have it happen again. “I’m 55, I’m black and I’m male — I’ve seen the cycle,” he said. “It’s almost like PTSD constantly having this conversation with my son.” Cierra Sesay reacted to the charges at a demonstration in the shadow of the State Capitol in Denver. “It’s amazing, it’s another box we can check,” she said. “But it goes up so much higher. It’s about the system.” In San Francisco, Tevita Tomasi — who is of Polynesian descent and described himself as “dark and tall and big” — said he regularly faced racial profiling, evidence of the bigger forces that must be overcome. On Wednesday, he distributed bottled water at what he said was his first demonstration, but one that would not be his last. What would stop him from protesting?'"
      ]
    },
    {
      "cell_type": "markdown",
      "metadata": {
        "id": "37PCa4ZNo6Ow"
      },
      "source": [
        "* HINT: use list pf *python* [dictionaries](https://docs.python.org/3/tutorial/datastructures.html#dictionaries) to store the character counts in the map\n",
        "* HINT 2: merge the dicts in reduce"
      ]
    },
    {
      "cell_type": "code",
      "execution_count": 11,
      "metadata": {
        "id": "_seVIKCHo6Ox"
      },
      "outputs": [],
      "source": [
        "def CharCount(char):\n",
        "    return {char:1}"
      ]
    },
    {
      "cell_type": "code",
      "execution_count": 12,
      "metadata": {
        "id": "VS9yrShZo6Ox",
        "outputId": "df02a070-9fc2-47c2-bd66-163e43b78fbb",
        "colab": {
          "base_uri": "https://localhost:8080/"
        }
      },
      "outputs": [
        {
          "output_type": "stream",
          "name": "stdout",
          "text": [
            "{'a': 1}\n",
            "{'a': 1}\n",
            "{'b': 1}\n"
          ]
        }
      ],
      "source": [
        "#test the count function\n",
        "\n",
        "print(CharCount('a'))\n",
        "print(CharCount('a'))\n",
        "print(CharCount('b'))\n"
      ]
    },
    {
      "cell_type": "code",
      "execution_count": 13,
      "metadata": {
        "id": "ZuKSxZV2o6Oy"
      },
      "outputs": [],
      "source": [
        "#now run over the full text\n",
        "mapping=list(map(CharCount,text))"
      ]
    },
    {
      "cell_type": "code",
      "execution_count": 14,
      "metadata": {
        "id": "A_X_lEs4o6Oz",
        "outputId": "3402551f-2354-404f-d4cb-b4565284881d",
        "colab": {
          "base_uri": "https://localhost:8080/"
        }
      },
      "outputs": [
        {
          "output_type": "execute_result",
          "data": {
            "text/plain": [
              "[{' ': 1},\n",
              " {'B': 1},\n",
              " {'y': 1},\n",
              " {'r': 1},\n",
              " {'o': 1},\n",
              " {'n': 1},\n",
              " {' ': 1},\n",
              " {'S': 1},\n",
              " {'p': 1},\n",
              " {'e': 1}]"
            ]
          },
          "metadata": {},
          "execution_count": 14
        }
      ],
      "source": [
        "mapping[:10]"
      ]
    },
    {
      "cell_type": "code",
      "execution_count": 17,
      "metadata": {
        "id": "hQL4W8_Qo6Oz",
        "outputId": "295de365-353c-4d7e-95ee-74fea3460186",
        "colab": {
          "base_uri": "https://localhost:8080/"
        }
      },
      "outputs": [
        {
          "output_type": "execute_result",
          "data": {
            "text/plain": [
              "[{'i': 1},\n",
              " {'t': 1},\n",
              " {'o': 1},\n",
              " {'l': 1},\n",
              " {' ': 1},\n",
              " {'i': 1},\n",
              " {'n': 1},\n",
              " {' ': 1},\n",
              " {'D': 1},\n",
              " {'e': 1}]"
            ]
          },
          "metadata": {},
          "execution_count": 17
        }
      ],
      "source": [
        "\n",
        "mapping[500:510]#just show a part of the list of tuples"
      ]
    },
    {
      "cell_type": "code",
      "execution_count": 18,
      "metadata": {
        "id": "ZvuwBZDIo6O0",
        "outputId": "2cb175ae-69d4-410a-bd61-a9cd33278954",
        "colab": {
          "base_uri": "https://localhost:8080/",
          "height": 35
        }
      },
      "outputs": [
        {
          "output_type": "execute_result",
          "data": {
            "text/plain": [
              "'a'"
            ],
            "application/vnd.google.colaboratory.intrinsic+json": {
              "type": "string"
            }
          },
          "metadata": {},
          "execution_count": 18
        }
      ],
      "source": [
        "t={'a':1}\n",
        "list(t.keys())[0]"
      ]
    },
    {
      "cell_type": "code",
      "execution_count": 19,
      "metadata": {
        "id": "4PFWkjeyo6O0"
      },
      "outputs": [],
      "source": [
        "\n",
        "def sumUp(a,b): #merge dictionaries - a:output b:single item to be merged\n",
        "    key = list(b.keys())[0] #get the only key in b \n",
        "    if key in a: #check if char is in a\n",
        "        a[key] += 1\n",
        "    else:\n",
        "        a[key] = 1\n",
        "    return a\n",
        "    "
      ]
    },
    {
      "cell_type": "code",
      "execution_count": 20,
      "metadata": {
        "id": "gS0m486bo6O1",
        "outputId": "9d460601-e8f4-458c-87e7-e8881d2b8939",
        "colab": {
          "base_uri": "https://localhost:8080/"
        }
      },
      "outputs": [
        {
          "output_type": "execute_result",
          "data": {
            "text/plain": [
              "{' ': 176,\n",
              " ',': 11,\n",
              " '.': 10,\n",
              " '5': 2,\n",
              " '?': 1,\n",
              " 'A': 1,\n",
              " 'B': 2,\n",
              " 'C': 3,\n",
              " 'D': 2,\n",
              " 'F': 1,\n",
              " 'H': 2,\n",
              " 'I': 8,\n",
              " 'L': 1,\n",
              " 'O': 1,\n",
              " 'P': 2,\n",
              " 'S': 5,\n",
              " 'T': 3,\n",
              " 'W': 2,\n",
              " 'a': 72,\n",
              " 'b': 16,\n",
              " 'c': 25,\n",
              " 'd': 36,\n",
              " 'e': 89,\n",
              " 'f': 12,\n",
              " 'g': 19,\n",
              " 'h': 39,\n",
              " 'i': 49,\n",
              " 'k': 5,\n",
              " 'l': 28,\n",
              " 'm': 18,\n",
              " 'n': 49,\n",
              " 'o': 52,\n",
              " 'p': 10,\n",
              " 'r': 38,\n",
              " 's': 59,\n",
              " 't': 72,\n",
              " 'u': 17,\n",
              " 'v': 9,\n",
              " 'w': 13,\n",
              " 'x': 1,\n",
              " 'y': 13,\n",
              " 'z': 1,\n",
              " '—': 3,\n",
              " '’': 8,\n",
              " '“': 6,\n",
              " '”': 6}"
            ]
          },
          "metadata": {},
          "execution_count": 20
        }
      ],
      "source": [
        "functools.reduce(sumUp, mapping)\n"
      ]
    },
    {
      "cell_type": "code",
      "execution_count": null,
      "metadata": {
        "id": "GXTk_yZVo6O1"
      },
      "outputs": [],
      "source": [
        ""
      ]
    }
  ],
  "metadata": {
    "kernelspec": {
      "display_name": "Python 3",
      "language": "python",
      "name": "python3"
    },
    "language_info": {
      "codemirror_mode": {
        "name": "ipython",
        "version": 3
      },
      "file_extension": ".py",
      "mimetype": "text/x-python",
      "name": "python",
      "nbconvert_exporter": "python",
      "pygments_lexer": "ipython3",
      "version": "3.7.6"
    },
    "colab": {
      "name": "Assignment_MapReduce_solution.ipynb",
      "provenance": []
    }
  },
  "nbformat": 4,
  "nbformat_minor": 0
}