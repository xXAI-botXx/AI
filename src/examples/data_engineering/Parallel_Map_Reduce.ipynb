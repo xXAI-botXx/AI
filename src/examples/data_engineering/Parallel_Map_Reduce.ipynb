{
  "cells": [
    {
      "cell_type": "markdown",
      "metadata": {
        "id": "Oc_EC0nDo7cW"
      },
      "source": [
        "# Ex 1.2: A simple parallel MapReduce framework in Python\n",
        "Now we use the [*multiprocessing*](https://docs.python.org/3/library/multiprocessing.html) lib to actually do things in parallel"
      ]
    },
    {
      "cell_type": "code",
      "source": [
        "#get data from GitHub -> https://github.com/keuperj/DATA\n",
        "!git clone https://github.com/keuperj/DATA.git"
      ],
      "metadata": {
        "id": "sM5y0zbvqvDC",
        "outputId": "eb972b3e-edfa-4305-ce00-ed45d77a40f6",
        "colab": {
          "base_uri": "https://localhost:8080/"
        }
      },
      "execution_count": 6,
      "outputs": [
        {
          "output_type": "stream",
          "name": "stdout",
          "text": [
            "Cloning into 'DATA'...\n",
            "remote: Enumerating objects: 96, done.\u001b[K\n",
            "remote: Counting objects: 100% (9/9), done.\u001b[K\n",
            "remote: Compressing objects: 100% (8/8), done.\u001b[K\n",
            "remote: Total 96 (delta 1), reused 9 (delta 1), pack-reused 87\u001b[K\n",
            "Unpacking objects: 100% (96/96), done.\n",
            "Checking out files: 100% (66/66), done.\n"
          ]
        }
      ]
    },
    {
      "cell_type": "code",
      "execution_count": 7,
      "metadata": {
        "id": "pUNExqc8o7cc"
      },
      "outputs": [],
      "source": [
        "import collections\n",
        "import itertools\n",
        "import multiprocessing\n",
        "\n",
        "\n",
        "class SimpleMapReduce:\n",
        "\n",
        "    def __init__(self, map_func, reduce_func, num_workers=None):\n",
        "        \"\"\"\n",
        "        map_func\n",
        "\n",
        "          Function to map inputs to intermediate data. Takes as\n",
        "          argument one input value and returns a tuple with the\n",
        "          key and a value to be reduced.\n",
        "\n",
        "        reduce_func\n",
        "\n",
        "          Function to reduce partitioned version of intermediate\n",
        "          data to final output. Takes as argument a key as\n",
        "          produced by map_func and a sequence of the values\n",
        "          associated with that key.\n",
        "\n",
        "        num_workers\n",
        "\n",
        "          The number of workers to create in the pool. Defaults\n",
        "          to the number of CPUs available on the current host.\n",
        "        \"\"\"\n",
        "        self.map_func = map_func\n",
        "        self.reduce_func = reduce_func\n",
        "        self.pool = multiprocessing.Pool(num_workers)\n",
        "\n",
        "    def partition(self, mapped_values):\n",
        "        \"\"\"Organize the mapped values by their key.\n",
        "        Returns an unsorted sequence of tuples with a key\n",
        "        and a sequence of values.\n",
        "        \"\"\"\n",
        "        partitioned_data = collections.defaultdict(list)\n",
        "        for key, value in mapped_values:\n",
        "            partitioned_data[key].append(value)\n",
        "        return partitioned_data.items()\n",
        "\n",
        "    def __call__(self, inputs, chunksize=1):\n",
        "        \"\"\"Process the inputs through the map and reduce functions\n",
        "        given.\n",
        "\n",
        "        inputs\n",
        "          An iterable containing the input data to be processed.\n",
        "\n",
        "        chunksize=1\n",
        "          The portion of the input data to hand to each worker.\n",
        "          This can be used to tune performance during the mapping\n",
        "          phase.\n",
        "        \"\"\"\n",
        "        map_responses = self.pool.map(\n",
        "            self.map_func,\n",
        "            inputs,\n",
        "            chunksize=chunksize,\n",
        "        )\n",
        "        partitioned_data = self.partition(\n",
        "            itertools.chain(*map_responses)\n",
        "        )\n",
        "        reduced_values = self.pool.map(\n",
        "            self.reduce_func,\n",
        "            partitioned_data,\n",
        "        )\n",
        "        return reduced_values"
      ]
    },
    {
      "cell_type": "markdown",
      "metadata": {
        "id": "eG28bh0po7cg"
      },
      "source": [
        "### A Word Count example"
      ]
    },
    {
      "cell_type": "code",
      "execution_count": 8,
      "metadata": {
        "id": "eMjt8F-qo7ci"
      },
      "outputs": [],
      "source": [
        "import string\n",
        "\n",
        "# map - read file and count words\n",
        "def file_to_words(filename):\n",
        "    \"\"\"Read a file and return a sequence of\n",
        "    (word, occurences) values.\n",
        "    \"\"\"\n",
        "    STOP_WORDS = set([\n",
        "        'a', 'an', 'and', 'are', 'as', 'be', 'by', 'for', 'if',\n",
        "        'in', 'is', 'it', 'of', 'or', 'py', 'rst', 'that', 'the',\n",
        "        'to', 'with',\n",
        "    ])\n",
        "    TR = str.maketrans({\n",
        "        p: ' '\n",
        "        for p in string.punctuation\n",
        "    })\n",
        "\n",
        "    print('{} reading {}'.format(\n",
        "        multiprocessing.current_process().name, filename))\n",
        "    output = []\n",
        "\n",
        "    with open(filename, 'rt') as f:\n",
        "        for line in f:\n",
        "            # Skip comment lines.\n",
        "            if line.lstrip().startswith('..'):\n",
        "                continue\n",
        "            line = line.translate(TR)  # Strip punctuation\n",
        "            for word in line.split():\n",
        "                word = word.lower()\n",
        "                if word.isalpha() and word not in STOP_WORDS:\n",
        "                    output.append((word, 1))\n",
        "    return output\n",
        "\n",
        "# reduce\n",
        "def count_words(item):\n",
        "    \"\"\"Convert the partitioned data for a word to a\n",
        "    tuple containing the word and the number of occurences.\n",
        "    \"\"\"\n",
        "    word, occurences = item\n",
        "    return (word, sum(occurences))"
      ]
    },
    {
      "cell_type": "code",
      "execution_count": 9,
      "metadata": {
        "id": "_Tr2rPfEo7cj",
        "outputId": "930cea79-47f4-4fb8-e853-b02dfa32efde",
        "colab": {
          "base_uri": "https://localhost:8080/"
        }
      },
      "outputs": [
        {
          "output_type": "stream",
          "name": "stdout",
          "text": [
            "ForkPoolWorker-5 reading DATA/text4.rst\n",
            "ForkPoolWorker-6 reading DATA/text2.rst\n",
            "ForkPoolWorker-6 reading DATA/text1.rst\n",
            "ForkPoolWorker-5 reading DATA/text3.rst\n",
            "\n",
            "TOP 20 WORDS BY FREQUENCY\n",
            "\n",
            "my    :    67\n",
            "i     :    60\n",
            "her   :    43\n",
            "he    :    41\n",
            "quiz  :    33\n",
            "quick :    28\n",
            "was   :    28\n",
            "his   :    23\n",
            "fox   :    22\n",
            "she   :    21\n",
            "from  :    20\n",
            "when  :    20\n",
            "blind :    19\n",
            "vex   :    18\n",
            "would :    18\n",
            "so    :    18\n",
            "have  :    18\n",
            "but   :    18\n",
            "on    :    17\n",
            "big   :    16\n"
          ]
        }
      ],
      "source": [
        "import operator\n",
        "import glob #easy file access\n",
        "\n",
        "input_files = glob.glob('DATA/*.rst')#get all text files names \n",
        "\n",
        "mapper = SimpleMapReduce(file_to_words, count_words)#get mapreduce instance with custom map and reduce functions\n",
        "word_counts = mapper(input_files)#call parallel mapreduce on files\n",
        "\n",
        "word_counts.sort(key=operator.itemgetter(1))#sort results\n",
        "word_counts.reverse()\n",
        "\n",
        "print('\\nTOP 20 WORDS BY FREQUENCY\\n')\n",
        "top20 = word_counts[:20]\n",
        "longest = max((len(word) for word, count in top20),default=0)\n",
        "for word, count in top20:\n",
        "    print('{word:<{len}}: {count:5}'.format(\n",
        "            len=longest + 1,\n",
        "            word=word,\n",
        "            count=count)\n",
        "    )"
      ]
    },
    {
      "cell_type": "markdown",
      "metadata": {
        "id": "HMrnb1Bjo7cm"
      },
      "source": [
        "## K-Means implementation\n",
        "Use the simple frame work to implement K-Means"
      ]
    },
    {
      "cell_type": "code",
      "execution_count": 10,
      "metadata": {
        "id": "f4BFvoHlo7cn"
      },
      "outputs": [],
      "source": [
        "import numpy as np\n",
        "import matplotlib.pyplot as plt\n",
        "\n",
        "from sklearn.cluster import KMeans\n",
        "from sklearn.datasets import make_blobs"
      ]
    },
    {
      "cell_type": "code",
      "execution_count": 11,
      "metadata": {
        "id": "dIQQHLbuo7co",
        "outputId": "6250fef6-da29-4a9e-d4a1-309f988635b8",
        "colab": {
          "base_uri": "https://localhost:8080/",
          "height": 283
        }
      },
      "outputs": [
        {
          "output_type": "execute_result",
          "data": {
            "text/plain": [
              "<matplotlib.collections.PathCollection at 0x7f08aa269c10>"
            ]
          },
          "metadata": {},
          "execution_count": 11
        },
        {
          "output_type": "display_data",
          "data": {
            "text/plain": [
              "<Figure size 432x288 with 1 Axes>"
            ],
            "image/png": "[encoded data removed]"
          },
          "metadata": {
            "needs_background": "light"
          }
        }
      ],
      "source": [
        "#generate data with K=4\n",
        "X, y = make_blobs(n_samples=1500, centers=4)\n",
        "plt.scatter(X[:, 0], X[:, 1])"
      ]
    },
    {
      "cell_type": "code",
      "execution_count": 12,
      "metadata": {
        "id": "hBFAQEzfo7cp",
        "outputId": "e74ef0b6-3769-4dc6-c64a-b1a927631825",
        "colab": {
          "base_uri": "https://localhost:8080/",
          "height": 283
        }
      },
      "outputs": [
        {
          "output_type": "execute_result",
          "data": {
            "text/plain": [
              "<matplotlib.collections.PathCollection at 0x7f08aa1fa090>"
            ]
          },
          "metadata": {},
          "execution_count": 12
        },
        {
          "output_type": "display_data",
          "data": {
            "text/plain": [
              "<Figure size 432x288 with 1 Axes>"
            ],
            "image/png": "[encoded data removed]"
          },
          "metadata": {
            "needs_background": "light"
          }
        }
      ],
      "source": [
        "#K-Means ref implementation\n",
        "k = KMeans(n_clusters=4)\n",
        "y_pred = k.fit_predict(X)\n",
        "\n",
        "plt.scatter(X[:, 0], X[:, 1], c=y_pred)"
      ]
    },
    {
      "cell_type": "code",
      "execution_count": 13,
      "metadata": {
        "id": "oL0yXKCho7cq",
        "outputId": "0a4ab73c-e77d-49ec-cd21-7240eac770c6",
        "colab": {
          "base_uri": "https://localhost:8080/"
        }
      },
      "outputs": [
        {
          "output_type": "execute_result",
          "data": {
            "text/plain": [
              "array([[-0.03876167, -5.39636256],\n",
              "       [-5.45359191,  6.94814146],\n",
              "       [-9.38149873, -4.16635435],\n",
              "       [-4.01988586, -4.63889565]])"
            ]
          },
          "metadata": {},
          "execution_count": 13
        }
      ],
      "source": [
        "k.cluster_centers_"
      ]
    },
    {
      "cell_type": "code",
      "execution_count": 14,
      "metadata": {
        "id": "1u8iCvYzo7cr",
        "outputId": "2d489a03-92ea-4037-f575-7124998271f7",
        "colab": {
          "base_uri": "https://localhost:8080/"
        }
      },
      "outputs": [
        {
          "output_type": "execute_result",
          "data": {
            "text/plain": [
              "(4, 2)"
            ]
          },
          "metadata": {},
          "execution_count": 14
        }
      ],
      "source": [
        "np.shape(k.cluster_centers_)"
      ]
    },
    {
      "cell_type": "code",
      "execution_count": 15,
      "metadata": {
        "id": "PTMmVlZao7cs"
      },
      "outputs": [],
      "source": [
        "#implement map -> assign data to center \n",
        "def kMap( data, centers):\n",
        "    #print('{} mapping {}'.format(\n",
        "    #    multiprocessing.current_process().name, data))\n",
        "    output=[]\n",
        "    center = 0\n",
        "    min_dist = 999999999\n",
        "    for c in range(np.shape(centers)[0]):\n",
        "            dist = (data[0]-centers[c][0])*(data[0]-centers[c][0]) + (data[1]-centers[c][1])*(data[1]-centers[c][1])\n",
        "            dist=np.sqrt(dist) \n",
        "            if dist<min_dist:\n",
        "                min_dist=dist\n",
        "                center = c\n",
        "    output.append((center,data)) #map to tuple of center ID and data\n",
        "    \n",
        "    return output\n"
      ]
    },
    {
      "cell_type": "code",
      "execution_count": 16,
      "metadata": {
        "id": "WAhJI28Ko7ct"
      },
      "outputs": [],
      "source": [
        "#implement reduce -> compute new centers\n",
        "def kReduce( item, centers ):\n",
        "    #print('{} reducing {}'.format(\n",
        "    #    multiprocessing.current_process().name, item))\n",
        "    center = item[1][0]\n",
        "    \n",
        "    for i in range(np.shape(item[1])[0]):\n",
        "        center += item[1][i]\n",
        "    \n",
        "    center/=np.shape(item[1])[0]\n",
        "    return center\n"
      ]
    },
    {
      "cell_type": "code",
      "execution_count": 17,
      "metadata": {
        "id": "8S-wwOiho7cu",
        "outputId": "02490d99-ce80-4bf1-89bf-e4782d456885",
        "colab": {
          "base_uri": "https://localhost:8080/"
        }
      },
      "outputs": [
        {
          "output_type": "stream",
          "name": "stdout",
          "text": [
            "init center [[ -5.60147073   7.51925402]\n",
            " [-10.97712898  -5.85573042]\n",
            " [ -6.34202007   6.82410134]\n",
            " [  0.6112621   -5.47634665]]\n"
          ]
        }
      ],
      "source": [
        "#init centers\n",
        "center = X[np.random.randint(X.shape[0], size=4), :]#get 4 random datapoints\n",
        "print('init center', center)"
      ]
    },
    {
      "cell_type": "code",
      "execution_count": 18,
      "metadata": {
        "id": "v8uhEysVo7cv"
      },
      "outputs": [],
      "source": [
        "#use framework\n",
        "from functools import partial\n",
        "mapper = SimpleMapReduce(partial(kMap,centers=center), partial(kReduce, centers=center))#get mapreduce instance with custom map and reduce functions\n",
        "new_center = mapper(X)#call parallel mapreduce oo data"
      ]
    },
    {
      "cell_type": "code",
      "execution_count": 19,
      "metadata": {
        "id": "2WByOMa8o7cw",
        "outputId": "17bfbf67-9c85-4c6b-b081-7f6260c90703",
        "colab": {
          "base_uri": "https://localhost:8080/"
        }
      },
      "outputs": [
        {
          "output_type": "execute_result",
          "data": {
            "text/plain": [
              "[array([-1.84999243, -5.05278984]),\n",
              " array([-4.97712303,  7.36720176]),\n",
              " array([-6.21935887,  6.4343125 ]),\n",
              " array([-9.02701864, -4.20603993])]"
            ]
          },
          "metadata": {},
          "execution_count": 19
        }
      ],
      "source": [
        "new_center #new centers "
      ]
    },
    {
      "cell_type": "code",
      "execution_count": null,
      "metadata": {
        "id": "gCMh5mG6o7cx"
      },
      "outputs": [],
      "source": [
        "#now run int in a loop to get K-Means iterations ...\n"
      ]
    },
    {
      "cell_type": "code",
      "execution_count": null,
      "metadata": {
        "id": "jjiWAaWEo7cx"
      },
      "outputs": [],
      "source": [
        ""
      ]
    }
  ],
  "metadata": {
    "kernelspec": {
      "display_name": "Python 3",
      "language": "python",
      "name": "python3"
    },
    "language_info": {
      "codemirror_mode": {
        "name": "ipython",
        "version": 3
      },
      "file_extension": ".py",
      "mimetype": "text/x-python",
      "name": "python",
      "nbconvert_exporter": "python",
      "pygments_lexer": "ipython3",
      "version": "3.7.6"
    },
    "colab": {
      "name": "Assignment_Parallel_MapReduce_solution.ipynb",
      "provenance": []
    }
  },
  "nbformat": 4,
  "nbformat_minor": 0
}