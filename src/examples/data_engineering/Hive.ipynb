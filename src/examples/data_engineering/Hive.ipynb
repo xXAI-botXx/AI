{
  "cells": [
    {
      "cell_type": "markdown",
      "metadata": {
        "id": "MgHClVPfH01I"
      },
      "source": [
        "# Hive\n",
        "We use the *pyHive* lib: https://github.com/dropbox/PyHive \n",
        "\n",
        "## Resources\n",
        "* [HQL cheat sheet](http://hortonworks.com/wp-content/uploads/2016/05/Hortonworks.CheatSheet.SQLtoHive.pdf)\n",
        "* [Hive reference](https://cwiki.apache.org/confluence/display/Hive/LanguageManual)\n",
        "\n",
        "## Install\n",
        "Install *pyHive* via *anaconda*"
      ]
    },
    {
      "cell_type": "code",
      "execution_count": 1,
      "metadata": {
        "id": "HCaNBc_pH01S"
      },
      "outputs": [],
      "source": [
        "!pip install -q condacolab "
      ]
    },
    {
      "cell_type": "code",
      "source": [
        "import condacolab \n",
        "condacolab.install() "
      ],
      "metadata": {
        "colab": {
          "base_uri": "https://localhost:8080/"
        },
        "id": "hbf_ESW7rYxU",
        "outputId": "89010873-8bd8-4e68-ebce-63539ab4a85d"
      },
      "execution_count": 2,
      "outputs": [
        {
          "output_type": "stream",
          "name": "stdout",
          "text": [
            "✨🍰✨ Everything looks OK!\n"
          ]
        }
      ]
    },
    {
      "cell_type": "code",
      "source": [
        "!conda install -y pyhive sasl"
      ],
      "metadata": {
        "colab": {
          "base_uri": "https://localhost:8080/"
        },
        "id": "yZtda4Pardbi",
        "outputId": "88013655-853d-4e9f-d261-6bea591ec379"
      },
      "execution_count": 3,
      "outputs": [
        {
          "output_type": "stream",
          "name": "stdout",
          "text": [
            "Collecting package metadata (current_repodata.json): - \b\b\\ \b\b| \b\b/ \b\b- \b\b\\ \b\b| \b\b/ \b\b- \b\b\\ \b\b| \b\b/ \b\b- \b\b\\ \b\b| \b\b/ \b\b- \b\b\\ \b\b| \b\b/ \b\b- \b\b\\ \b\b| \b\b/ \b\b- \b\b\\ \b\b| \b\b/ \b\b- \b\b\\ \b\b| \b\b/ \b\b- \b\b\\ \b\b| \b\b/ \b\b- \b\b\\ \b\b| \b\b/ \b\b- \b\b\\ \b\b| \b\b/ \b\b- \b\b\\ \b\b| \b\b/ \b\b- \b\b\\ \b\b| \b\b/ \b\b- \b\b\\ \b\b| \b\b/ \b\b- \b\b\\ \b\b| \b\b/ \b\b- \b\b\\ \b\b| \b\b/ \b\b- \b\b\\ \b\b| \b\b/ \b\b- \b\b\\ \b\b| \b\b/ \b\b- \b\b\\ \b\b| \b\b/ \b\b- \b\b\\ \b\b| \b\b/ \b\b- \b\b\\ \b\b| \b\b/ \b\b- \b\b\\ \b\b| \b\b/ \b\b- \b\b\\ \b\b| \b\b/ \b\b- \b\b\\ \b\b| \b\b/ \b\b- \b\b\\ \b\b| \b\b/ \b\b- \b\b\\ \b\b| \b\b/ \b\b- \b\b\\ \b\b| \b\b/ \b\b- \b\b\\ \b\b| \b\bdone\n",
            "Solving environment: - \b\b\\ \b\b| \b\b/ \b\b- \b\b\\ \b\b| \b\b/ \b\b- \b\b\\ \b\b| \b\b/ \b\b- \b\b\\ \b\b| \b\b/ \b\bdone\n",
            "\n",
            "# All requested packages already installed.\n",
            "\n"
          ]
        }
      ]
    },
    {
      "cell_type": "code",
      "execution_count": 4,
      "metadata": {
        "id": "AoBWUZAVH01U"
      },
      "outputs": [],
      "source": [
        "#import libs\n",
        "from pyhive import hive\n",
        "from TCLIService.ttypes import TOperationState"
      ]
    },
    {
      "cell_type": "code",
      "execution_count": 5,
      "metadata": {
        "id": "Xei9sSNAH01V"
      },
      "outputs": [],
      "source": [
        "# try to connect\n",
        "server=\"ec2-54-155-223-96.eu-west-1.compute.amazonaws.com\"\n",
        "cursor = hive.connect(server).cursor()"
      ]
    },
    {
      "cell_type": "code",
      "execution_count": 6,
      "metadata": {
        "id": "PBzVSTQEH01V"
      },
      "outputs": [],
      "source": [
        "#show our databases\n",
        "cursor.execute('show databases')"
      ]
    },
    {
      "cell_type": "code",
      "execution_count": 7,
      "metadata": {
        "id": "oblfzvS6H01W",
        "outputId": "910d5ce1-378c-405e-ea66-dc73bf367041",
        "colab": {
          "base_uri": "https://localhost:8080/"
        }
      },
      "outputs": [
        {
          "output_type": "execute_result",
          "data": {
            "text/plain": [
              "[('default',)]"
            ]
          },
          "metadata": {},
          "execution_count": 7
        }
      ],
      "source": [
        "#get data from execution\n",
        "cursor.fetchall()"
      ]
    },
    {
      "cell_type": "code",
      "execution_count": 8,
      "metadata": {
        "id": "3HOpreHyH01Y"
      },
      "outputs": [],
      "source": [
        "#use default db\n",
        "cursor.execute('use default')"
      ]
    },
    {
      "cell_type": "code",
      "execution_count": 9,
      "metadata": {
        "id": "sfP3VHwyH01a"
      },
      "outputs": [],
      "source": [
        "#show tables in db\n",
        "cursor.execute('show tables')"
      ]
    },
    {
      "cell_type": "code",
      "execution_count": 10,
      "metadata": {
        "id": "Q93V1EWLH01b",
        "outputId": "ac3213ab-fe76-4b75-ee0f-1c98e158b392",
        "colab": {
          "base_uri": "https://localhost:8080/"
        }
      },
      "outputs": [
        {
          "output_type": "execute_result",
          "data": {
            "text/plain": [
              "[('employee',), ('employee2',), ('salary',)]"
            ]
          },
          "metadata": {},
          "execution_count": 10
        }
      ],
      "source": [
        "cursor.fetchall()"
      ]
    },
    {
      "cell_type": "code",
      "execution_count": 11,
      "metadata": {
        "id": "AGw0RCptH01c",
        "outputId": "28febbd7-9b0a-4704-e708-e5f62128f7d2",
        "colab": {
          "base_uri": "https://localhost:8080/"
        }
      },
      "outputs": [
        {
          "output_type": "execute_result",
          "data": {
            "text/plain": [
              "[('employee_id', 'int', ''),\n",
              " ('birthday', 'date', ''),\n",
              " ('first_name', 'string', ''),\n",
              " ('family_name', 'string', ''),\n",
              " ('gender', 'char(1)', ''),\n",
              " ('work_day', 'date', '')]"
            ]
          },
          "metadata": {},
          "execution_count": 11
        }
      ],
      "source": [
        "# get table layout\n",
        "cursor.execute('describe employee')\n",
        "cursor.fetchall()"
      ]
    },
    {
      "cell_type": "code",
      "execution_count": 12,
      "metadata": {
        "id": "lVrk3FeAH01d"
      },
      "outputs": [],
      "source": [
        "#select data\n",
        "cursor.execute('select * from employee')"
      ]
    },
    {
      "cell_type": "code",
      "execution_count": 13,
      "metadata": {
        "id": "FfrzcTSoH01e"
      },
      "outputs": [],
      "source": [
        "#get daata from selction\n",
        "employee = cursor.fetchall()"
      ]
    },
    {
      "cell_type": "code",
      "execution_count": 14,
      "metadata": {
        "id": "9jmXC22-H01f",
        "outputId": "a6b659ab-5a8f-4891-96f2-3bff79a94488",
        "colab": {
          "base_uri": "https://localhost:8080/"
        }
      },
      "outputs": [
        {
          "output_type": "execute_result",
          "data": {
            "text/plain": [
              "[(10001, None, \"'Georgi'\", \"'Facello'\", \"'\", None),\n",
              " (10002, None, \"'Bezalel'\", \"'Simmel'\", \"'\", None),\n",
              " (10003, None, \"'Parto'\", \"'Bamford'\", \"'\", None),\n",
              " (10004, None, \"'Chirstian'\", \"'Koblick'\", \"'\", None),\n",
              " (10005, None, \"'Kyoichi'\", \"'Maliniak'\", \"'\", None),\n",
              " (10006, None, \"'Anneke'\", \"'Preusig'\", \"'\", None),\n",
              " (10007, None, \"'Tzvetan'\", \"'Zielinski'\", \"'\", None),\n",
              " (10008, None, \"'Saniya'\", \"'Kalloufi'\", \"'\", None),\n",
              " (10009, None, \"'Sumant'\", \"'Peac'\", \"'\", None),\n",
              " (10010, None, \"'Duangkaew'\", \"'Piveteau'\", \"'\", None)]"
            ]
          },
          "metadata": {},
          "execution_count": 14
        }
      ],
      "source": [
        "#have a look\n",
        "employee[:10]"
      ]
    },
    {
      "cell_type": "code",
      "execution_count": 15,
      "metadata": {
        "id": "EDcDMjh3H01f",
        "outputId": "c4d7a6d9-6414-48e1-8746-7c38f344e43d",
        "colab": {
          "base_uri": "https://localhost:8080/"
        }
      },
      "outputs": [
        {
          "output_type": "execute_result",
          "data": {
            "text/plain": [
              "[('employee_id', 'int', ''),\n",
              " ('salary', 'int', ''),\n",
              " ('start_date', 'date', ''),\n",
              " ('end_date', 'date', '')]"
            ]
          },
          "metadata": {},
          "execution_count": 15
        }
      ],
      "source": [
        "# get salary table layout\n",
        "cursor.execute('describe salary')\n",
        "cursor.fetchall()"
      ]
    },
    {
      "cell_type": "code",
      "execution_count": 16,
      "metadata": {
        "id": "N3R5nE9ZH01g"
      },
      "outputs": [],
      "source": [
        "#select data\n",
        "cursor.execute('select * from salary')"
      ]
    },
    {
      "cell_type": "code",
      "execution_count": 17,
      "metadata": {
        "id": "OX9pna1WH01h"
      },
      "outputs": [],
      "source": [
        "#get daata from selction\n",
        "salary = cursor.fetchall()"
      ]
    },
    {
      "cell_type": "code",
      "execution_count": 18,
      "metadata": {
        "id": "sPyV2OsSH01h",
        "colab": {
          "base_uri": "https://localhost:8080/"
        },
        "outputId": "3dbd5323-a3f0-4291-ccc9-1a19ac3c40b1"
      },
      "outputs": [
        {
          "output_type": "execute_result",
          "data": {
            "text/plain": [
              "[(10001, 60117, None, None),\n",
              " (10001, 62102, None, None),\n",
              " (10001, 66074, None, None),\n",
              " (10001, 66596, None, None),\n",
              " (10001, 66961, None, None),\n",
              " (10001, 71046, None, None),\n",
              " (10001, 74333, None, None),\n",
              " (10001, 75286, None, None),\n",
              " (10001, 75994, None, None),\n",
              " (10001, 76884, None, None)]"
            ]
          },
          "metadata": {},
          "execution_count": 18
        }
      ],
      "source": [
        "salary[:10]"
      ]
    },
    {
      "cell_type": "markdown",
      "metadata": {
        "id": "Cr0ty4gsH01i"
      },
      "source": [
        "## Ex 1\n",
        "Get employees sorted by ``family_name``. Return first 10 entries."
      ]
    },
    {
      "cell_type": "code",
      "execution_count": 19,
      "metadata": {
        "id": "5plL57fKH01i"
      },
      "outputs": [],
      "source": [
        "cursor.execute(\"select family_name from employee\")"
      ]
    },
    {
      "cell_type": "code",
      "execution_count": 20,
      "metadata": {
        "id": "f5AbUIxfH01j"
      },
      "outputs": [],
      "source": [
        "res = cursor.fetchall()"
      ]
    },
    {
      "cell_type": "code",
      "source": [
        "res[:10]"
      ],
      "metadata": {
        "colab": {
          "base_uri": "https://localhost:8080/"
        },
        "id": "69VHiRdu4OKJ",
        "outputId": "57f6a391-6da9-4a92-9117-3fb7c29aadfb"
      },
      "execution_count": 21,
      "outputs": [
        {
          "output_type": "execute_result",
          "data": {
            "text/plain": [
              "[(\"'Facello'\",),\n",
              " (\"'Simmel'\",),\n",
              " (\"'Bamford'\",),\n",
              " (\"'Koblick'\",),\n",
              " (\"'Maliniak'\",),\n",
              " (\"'Preusig'\",),\n",
              " (\"'Zielinski'\",),\n",
              " (\"'Kalloufi'\",),\n",
              " (\"'Peac'\",),\n",
              " (\"'Piveteau'\",)]"
            ]
          },
          "metadata": {},
          "execution_count": 21
        }
      ]
    },
    {
      "cell_type": "markdown",
      "source": [
        "or"
      ],
      "metadata": {
        "id": "HqclGlP64P_e"
      }
    },
    {
      "cell_type": "code",
      "source": [
        "cursor.execute(\"SELECT family_name FROM employee LIMIT 10\") "
      ],
      "metadata": {
        "id": "4PllwEHf4RCW"
      },
      "execution_count": 22,
      "outputs": []
    },
    {
      "cell_type": "code",
      "source": [
        "cursor.fetchall()"
      ],
      "metadata": {
        "colab": {
          "base_uri": "https://localhost:8080/"
        },
        "id": "5MXx6v2Y4cLj",
        "outputId": "2c6ad5d5-c4f3-4bc5-ee1d-5266a556875f"
      },
      "execution_count": 23,
      "outputs": [
        {
          "output_type": "execute_result",
          "data": {
            "text/plain": [
              "[(\"'Facello'\",),\n",
              " (\"'Simmel'\",),\n",
              " (\"'Bamford'\",),\n",
              " (\"'Koblick'\",),\n",
              " (\"'Maliniak'\",),\n",
              " (\"'Preusig'\",),\n",
              " (\"'Zielinski'\",),\n",
              " (\"'Kalloufi'\",),\n",
              " (\"'Peac'\",),\n",
              " (\"'Piveteau'\",)]"
            ]
          },
          "metadata": {},
          "execution_count": 23
        }
      ]
    },
    {
      "cell_type": "markdown",
      "metadata": {
        "id": "A5YKLzYnH01j"
      },
      "source": [
        "## Ex 2\n",
        "Get ``family_name`` and ``salary`` of employees sorted by salary. Return first 100 entries. Hint: you need to join both tables..."
      ]
    },
    {
      "cell_type": "code",
      "source": [
        "cursor.execute(\"describe salary\")\n",
        "cursor.fetchall()"
      ],
      "metadata": {
        "colab": {
          "base_uri": "https://localhost:8080/"
        },
        "id": "OMLVWGm45fWS",
        "outputId": "8e12e6d1-fd6f-462a-e2e4-faaa71b0bb9c"
      },
      "execution_count": 24,
      "outputs": [
        {
          "output_type": "execute_result",
          "data": {
            "text/plain": [
              "[('employee_id', 'int', ''),\n",
              " ('salary', 'int', ''),\n",
              " ('start_date', 'date', ''),\n",
              " ('end_date', 'date', '')]"
            ]
          },
          "metadata": {},
          "execution_count": 24
        }
      ]
    },
    {
      "cell_type": "code",
      "source": [
        "cursor.execute(\"describe employee\")\n",
        "cursor.fetchall()"
      ],
      "metadata": {
        "colab": {
          "base_uri": "https://localhost:8080/"
        },
        "id": "vdBI3sBC5mov",
        "outputId": "652a3add-84c3-414e-e9c7-4c79e74a12e7"
      },
      "execution_count": 25,
      "outputs": [
        {
          "output_type": "execute_result",
          "data": {
            "text/plain": [
              "[('employee_id', 'int', ''),\n",
              " ('birthday', 'date', ''),\n",
              " ('first_name', 'string', ''),\n",
              " ('family_name', 'string', ''),\n",
              " ('gender', 'char(1)', ''),\n",
              " ('work_day', 'date', '')]"
            ]
          },
          "metadata": {},
          "execution_count": 25
        }
      ]
    },
    {
      "cell_type": "code",
      "execution_count": 30,
      "metadata": {
        "id": "sqGnrDiHH01k"
      },
      "outputs": [],
      "source": [
        "cursor.execute(\"SELECT e.family_name, s.salary FROM employee as e, salary as s WHERE e.employee_id == s.employee_id ORDER BY s.salary DESC\")\n",
        "data = cursor.fetchall()"
      ]
    },
    {
      "cell_type": "code",
      "source": [
        "data"
      ],
      "metadata": {
        "colab": {
          "base_uri": "https://localhost:8080/"
        },
        "id": "qxC6hyDJ_odo",
        "outputId": "697156cd-31b2-4208-c048-b5a4ee818fd6"
      },
      "execution_count": 31,
      "outputs": [
        {
          "output_type": "execute_result",
          "data": {
            "text/plain": [
              "[(\"'Pesch'\", 158220),\n",
              " (\"'Pesch'\", 157821),\n",
              " (\"'Whitcomb'\", 155709),\n",
              " (\"'Alameldin'\", 155377),\n",
              " (\"'Alameldin'\", 155190),\n",
              " (\"'Alameldin'\", 154888),\n",
              " (\"'Alameldin'\", 154885),\n",
              " (\"'Baca'\", 154459),\n",
              " (\"'Griswold'\", 153715),\n",
              " (\"'Pesch'\", 153458),\n",
              " (\"'Pesch'\", 153166),\n",
              " (\"'Whitcomb'\", 151929),\n",
              " (\"'Baca'\", 151768),\n",
              " (\"'Griswold'\", 151596),\n",
              " (\"'Alameldin'\", 151484),\n",
              " (\"'Pesch'\", 151115),\n",
              " (\"'Junet'\", 150345),\n",
              " (\"'Kambil'\", 150052),\n",
              " (\"'Whitcomb'\", 149686),\n",
              " (\"'Alameldin'\", 149675),\n",
              " (\"'Pesch'\", 149571),\n",
              " (\"'Thambidurai'\", 149440),\n",
              " (\"'Griswold'\", 149241),\n",
              " (\"'Alameldin'\", 149208),\n",
              " (\"'Baca'\", 149140),\n",
              " (\"'Minakawa'\", 148820),\n",
              " (\"'Kambil'\", 148448),\n",
              " (\"'Kambil'\", 147702),\n",
              " (\"'Unni'\", 147469),\n",
              " (\"'Kambil'\", 147282),\n",
              " (\"'Junet'\", 146968),\n",
              " (\"'Teitelbaum'\", 146719),\n",
              " (\"'Kobara'\", 146655),\n",
              " (\"'Kobara'\", 146546),\n",
              " (\"'Alameldin'\", 146531),\n",
              " (\"'Worfolk'\", 146507),\n",
              " (\"'Kambil'\", 146281),\n",
              " (\"'Baca'\", 146222),\n",
              " (\"'Brookner'\", 146100),\n",
              " (\"'Whitcomb'\", 145940),\n",
              " (\"'Ramaiah'\", 145732),\n",
              " (\"'Pesch'\", 145711),\n",
              " (\"'Kobara'\", 145362),\n",
              " (\"'Thambidurai'\", 145300),\n",
              " (\"'Tischendorf'\", 145215),\n",
              " (\"'Teitelbaum'\", 145137),\n",
              " (\"'Baca'\", 145077),\n",
              " (\"'Unni'\", 144971),\n",
              " (\"'Thambidurai'\", 144944),\n",
              " (\"'Griswold'\", 144904),\n",
              " (\"'Kobara'\", 144891),\n",
              " (\"'Minakawa'\", 144890),\n",
              " (\"'Hanabata'\", 144866),\n",
              " (\"'Junet'\", 144850),\n",
              " (\"'Brookner'\", 144780),\n",
              " (\"'Minakawa'\", 144646),\n",
              " (\"'Molenkamp'\", 144534),\n",
              " (\"'Berstel'\", 144485),\n",
              " (\"'Sgarro'\", 144434),\n",
              " (\"'Kobara'\", 144416),\n",
              " (\"'Junet'\", 144394),\n",
              " (\"'Luft'\", 144088),\n",
              " (\"'Lindenbaum'\", 143950),\n",
              " (\"'Kobara'\", 143848),\n",
              " (\"'Luft'\", 143832),\n",
              " (\"'Kambil'\", 143697),\n",
              " (\"'Isard'\", 143644),\n",
              " (\"'Worfolk'\", 143639),\n",
              " (\"'Minakawa'\", 143636),\n",
              " (\"'Kambil'\", 143454),\n",
              " (\"'Alameldin'\", 143182),\n",
              " (\"'Luft'\", 143060),\n",
              " (\"'Decleir'\", 142846),\n",
              " (\"'Isard'\", 142753),\n",
              " (\"'Lindenbaum'\", 142654),\n",
              " (\"'Dratva'\", 142638),\n",
              " (\"'Luft'\", 142600),\n",
              " (\"'Diderrich'\", 142506),\n",
              " (\"'Jiang'\", 142485),\n",
              " (\"'Baca'\", 142438),\n",
              " (\"'Kaltofen'\", 142413),\n",
              " (\"'Hanabata'\", 142384),\n",
              " (\"'Luft'\", 142350),\n",
              " (\"'Tischendorf'\", 142186),\n",
              " (\"'Georgakopoulos'\", 142181),\n",
              " (\"'Ramaiah'\", 142176),\n",
              " (\"'Georgakopoulos'\", 141842),\n",
              " (\"'Schlegelmilch'\", 141824),\n",
              " (\"'Teitelbaum'\", 141671),\n",
              " (\"'Decleir'\", 141671),\n",
              " (\"'Pesch'\", 141585),\n",
              " (\"'Whitcomb'\", 141563),\n",
              " (\"'Klerer'\", 141423),\n",
              " (\"'Luiz'\", 141399),\n",
              " (\"'Hanabata'\", 141369),\n",
              " (\"'Lindenbaum'\", 141320),\n",
              " (\"'Thambidurai'\", 141292),\n",
              " (\"'Brookner'\", 141228),\n",
              " (\"'Chiola'\", 141197),\n",
              " (\"'Grandbois'\", 141114),\n",
              " (\"'Unni'\", 141017),\n",
              " (\"'Vural'\", 140974),\n",
              " (\"'Thambidurai'\", 140821),\n",
              " (\"'Berstel'\", 140759),\n",
              " (\"'Isard'\", 140692),\n",
              " (\"'Molenkamp'\", 140653),\n",
              " (\"'Alameldin'\", 140625),\n",
              " (\"'Georgakopoulos'\", 140542),\n",
              " (\"'Kambil'\", 140532),\n",
              " (\"'Peac'\", 140500),\n",
              " (\"'Strehl'\", 140468),\n",
              " (\"'Griswold'\", 140442),\n",
              " (\"'Junet'\", 140407),\n",
              " (\"'Luft'\", 140379),\n",
              " (\"'Thambidurai'\", 140348),\n",
              " (\"'Kobara'\", 140329),\n",
              " (\"'Griswold'\", 140326),\n",
              " (\"'Luft'\", 140322),\n",
              " (\"'Kaltofen'\", 140184),\n",
              " (\"'Strehl'\", 140178),\n",
              " (\"'Sgarro'\", 140142),\n",
              " (\"'Kamble'\", 140138),\n",
              " (\"'Hanabata'\", 140109),\n",
              " (\"'Peac'\", 140061),\n",
              " (\"'Schlegelmilch'\", 140044),\n",
              " (\"'Junot'\", 139978),\n",
              " (\"'Azulay'\", 139972),\n",
              " (\"'Kobara'\", 139803),\n",
              " (\"'Kamble'\", 139784),\n",
              " (\"'Hoppenstand'\", 139760),\n",
              " (\"'Cromarty'\", 139753),\n",
              " (\"'Ramaiah'\", 139745),\n",
              " (\"'Herber'\", 139715),\n",
              " (\"'Hoppenstand'\", 139708),\n",
              " (\"'Thambidurai'\", 139698),\n",
              " (\"'Thambidurai'\", 139694),\n",
              " (\"'Diderrich'\", 139688),\n",
              " (\"'Dratva'\", 139639),\n",
              " (\"'Jiang'\", 139577),\n",
              " (\"'Minakawa'\", 139500),\n",
              " (\"'Hanabata'\", 139498),\n",
              " (\"'Worfolk'\", 139490),\n",
              " (\"'Cromarty'\", 139311),\n",
              " (\"'Unni'\", 139130),\n",
              " (\"'Tischendorf'\", 139014),\n",
              " (\"'Cromarty'\", 138841),\n",
              " (\"'Alameldin'\", 138817),\n",
              " (\"'Erdmenger'\", 138788),\n",
              " (\"'Tischendorf'\", 138773),\n",
              " (\"'Junet'\", 138747),\n",
              " (\"'Decleir'\", 138675),\n",
              " (\"'Pesch'\", 138616),\n",
              " (\"'Hasham'\", 138616),\n",
              " (\"'Pesch'\", 138597),\n",
              " (\"'Baca'\", 138548),\n",
              " (\"'Luiz'\", 138547),\n",
              " (\"'Junot'\", 138520),\n",
              " (\"'Koshiba'\", 138505),\n",
              " (\"'Junet'\", 138498),\n",
              " (\"'Verhoeff'\", 138408),\n",
              " (\"'Klerer'\", 138401),\n",
              " (\"'Kamble'\", 138396),\n",
              " (\"'Teitelbaum'\", 138250),\n",
              " (\"'Schach'\", 138233),\n",
              " (\"'Junet'\", 138222),\n",
              " (\"'Georgakopoulos'\", 138198),\n",
              " (\"'Schoegge'\", 138183),\n",
              " (\"'Kobara'\", 138166),\n",
              " (\"'Molenkamp'\", 138125),\n",
              " (\"'Isard'\", 138110),\n",
              " (\"'Pauthner'\", 138082),\n",
              " (\"'Luft'\", 138066),\n",
              " (\"'Rabejac'\", 138064),\n",
              " (\"'Stanger'\", 137971),\n",
              " (\"'Griswold'\", 137970),\n",
              " (\"'Whitcomb'\", 137928),\n",
              " (\"'Hoppenstand'\", 137918),\n",
              " (\"'Narahari'\", 137879),\n",
              " (\"'Stanger'\", 137707),\n",
              " (\"'Schach'\", 137699),\n",
              " (\"'Thambidurai'\", 137689),\n",
              " (\"'Huttel'\", 137659),\n",
              " (\"'Slaats'\", 137646),\n",
              " (\"'Chiola'\", 137644),\n",
              " (\"'Androutsos'\", 137600),\n",
              " (\"'Lindenbaum'\", 137556),\n",
              " (\"'Stanger'\", 137535),\n",
              " (\"'Whitcomb'\", 137529),\n",
              " (\"'Strehl'\", 137519),\n",
              " (\"'Hoppenstand'\", 137494),\n",
              " (\"'Chiola'\", 137465),\n",
              " (\"'Biron'\", 137436),\n",
              " (\"'Vural'\", 137342),\n",
              " (\"'Dratva'\", 137320),\n",
              " (\"'Brookner'\", 137276),\n",
              " (\"'Poupard'\", 137240),\n",
              " (\"'Hoppenstand'\", 137228),\n",
              " (\"'Pollacia'\", 137163),\n",
              " (\"'Ramaiah'\", 137134),\n",
              " (\"'Pollacia'\", 137113),\n",
              " (\"'Zallocco'\", 137109),\n",
              " (\"'Unni'\", 137051),\n",
              " (\"'Grandbois'\", 137025),\n",
              " (\"'Berstel'\", 136989),\n",
              " (\"'Thambidurai'\", 136918),\n",
              " (\"'Pettis'\", 136893),\n",
              " (\"'Hasham'\", 136872),\n",
              " (\"'Baca'\", 136836),\n",
              " (\"'Kambil'\", 136755),\n",
              " (\"'Hoppenstand'\", 136750),\n",
              " (\"'Jiang'\", 136746),\n",
              " (\"'Koshiba'\", 136698),\n",
              " (\"'Verhoeff'\", 136609),\n",
              " (\"'Schoegge'\", 136593),\n",
              " (\"'Schlegelmilch'\", 136575),\n",
              " (\"'Peltason'\", 136548),\n",
              " (\"'Isard'\", 136529),\n",
              " (\"'Bale'\", 136507),\n",
              " (\"'Grandbois'\", 136464),\n",
              " (\"'Junot'\", 136449),\n",
              " (\"'Talmor'\", 136445),\n",
              " (\"'Anandan'\", 136414),\n",
              " (\"'Sgarro'\", 136406),\n",
              " (\"'Peac'\", 136400),\n",
              " (\"'Babu'\", 136392),\n",
              " (\"'Czap'\", 136350),\n",
              " (\"'Sherertz'\", 136324),\n",
              " (\"'Azulay'\", 136298),\n",
              " (\"'Junet'\", 136289),\n",
              " (\"'Talmor'\", 136268),\n",
              " (\"'Kushnir'\", 136180),\n",
              " (\"'Isard'\", 136178),\n",
              " (\"'Griswold'\", 136155),\n",
              " (\"'Biron'\", 136105),\n",
              " (\"'Zallocco'\", 136102),\n",
              " (\"'Cools'\", 136099),\n",
              " (\"'Molenkamp'\", 136045),\n",
              " (\"'Anandan'\", 136033),\n",
              " (\"'Slaats'\", 136029),\n",
              " (\"'Isard'\", 136005),\n",
              " (\"'Kumaresan'\", 136004),\n",
              " (\"'Diderrich'\", 135980),\n",
              " (\"'Griswold'\", 135975),\n",
              " (\"'Hettesheimer'\", 135960),\n",
              " (\"'Weedman'\", 135955),\n",
              " (\"'Unni'\", 135909),\n",
              " (\"'Luiz'\", 135902),\n",
              " (\"'Kaltofen'\", 135860),\n",
              " (\"'Cromarty'\", 135837),\n",
              " (\"'Bale'\", 135789),\n",
              " (\"'Pauthner'\", 135778),\n",
              " (\"'Ranft'\", 135735),\n",
              " (\"'Peac'\", 135727),\n",
              " (\"'Minakawa'\", 135713),\n",
              " (\"'Sherertz'\", 135702),\n",
              " (\"'Hoppenstand'\", 135634),\n",
              " (\"'Teitelbaum'\", 135609),\n",
              " (\"'Worfolk'\", 135591),\n",
              " (\"'Herber'\", 135586),\n",
              " (\"'Huttel'\", 135545),\n",
              " (\"'Schusler'\", 135536),\n",
              " (\"'Stanger'\", 135499),\n",
              " (\"'Bernick'\", 135497),\n",
              " (\"'Hanabata'\", 135456),\n",
              " (\"'Hasham'\", 135431),\n",
              " (\"'Tischendorf'\", 135430),\n",
              " (\"'Ramaiah'\", 135429),\n",
              " (\"'Kumaresan'\", 135407),\n",
              " (\"'Ranft'\", 135400),\n",
              " (\"'Luiz'\", 135390),\n",
              " (\"'Rosar'\", 135333),\n",
              " (\"'Schlegelmilch'\", 135286),\n",
              " (\"'Pesch'\", 135281),\n",
              " (\"'Bhattacharjee'\", 135270),\n",
              " (\"'Klerer'\", 135222),\n",
              " (\"'Doering'\", 135210),\n",
              " (\"'Narahari'\", 135131),\n",
              " (\"'Lindenbaum'\", 135076),\n",
              " (\"'Luft'\", 135070),\n",
              " (\"'Zallocco'\", 135018),\n",
              " (\"'Schlegelmilch'\", 134999),\n",
              " (\"'Schlegelmilch'\", 134988),\n",
              " (\"'Dratva'\", 134925),\n",
              " (\"'Schach'\", 134918),\n",
              " (\"'Tischendorf'\", 134909),\n",
              " (\"'Rabejac'\", 134890),\n",
              " (\"'Cannard'\", 134876),\n",
              " (\"'Schlegelmilch'\", 134871),\n",
              " (\"'Hettesheimer'\", 134858),\n",
              " (\"'Hettesheimer'\", 134796),\n",
              " (\"'Weedman'\", 134794),\n",
              " (\"'Valiente'\", 134790),\n",
              " (\"'Veldwijk'\", 134782),\n",
              " (\"'Klerer'\", 134759),\n",
              " (\"'Herber'\", 134741),\n",
              " (\"'Schoegge'\", 134741),\n",
              " (\"'Shokrollahi'\", 134722),\n",
              " (\"'Benzmuller'\", 134687),\n",
              " (\"'Barreiro'\", 134673),\n",
              " (\"'Eiter'\", 134662),\n",
              " (\"'Perry'\", 134648),\n",
              " (\"'Heping'\", 134646),\n",
              " (\"'Chiola'\", 134630),\n",
              " (\"'Alameldin'\", 134624),\n",
              " (\"'Erdmenger'\", 134612),\n",
              " (\"'Alameldin'\", 134572),\n",
              " (\"'Kushnir'\", 134548),\n",
              " (\"'Georgakopoulos'\", 134510),\n",
              " (\"'Barreiro'\", 134459),\n",
              " (\"'Ranft'\", 134435),\n",
              " (\"'Poupard'\", 134425),\n",
              " (\"'Vesel'\", 134379),\n",
              " (\"'Cools'\", 134367),\n",
              " (\"'Androutsos'\", 134357),\n",
              " (\"'Klerer'\", 134350),\n",
              " (\"'Decleir'\", 134331),\n",
              " (\"'Narahari'\", 134282),\n",
              " (\"'Georgakopoulos'\", 134182),\n",
              " (\"'Georgakopoulos'\", 134171),\n",
              " (\"'Worfolk'\", 134158),\n",
              " (\"'Koshiba'\", 134140),\n",
              " (\"'Huttel'\", 134130),\n",
              " (\"'Thambidurai'\", 134130),\n",
              " (\"'Kamble'\", 134111),\n",
              " (\"'Lindenbaum'\", 134111),\n",
              " (\"'Georgakopoulos'\", 134078),\n",
              " (\"'Kemmerer'\", 134046),\n",
              " (\"'Schoegge'\", 134040),\n",
              " (\"'Kobara'\", 134038),\n",
              " (\"'Lunn'\", 133960),\n",
              " (\"'Berstel'\", 133956),\n",
              " (\"'Baar'\", 133951),\n",
              " (\"'Vecchi'\", 133947),\n",
              " (\"'Simkin'\", 133937),\n",
              " (\"'Cannard'\", 133931),\n",
              " (\"'Farrag'\", 133910),\n",
              " (\"'Babu'\", 133897),\n",
              " (\"'Erdmenger'\", 133876),\n",
              " (\"'Swiler'\", 133801),\n",
              " (\"'Worfolk'\", 133788),\n",
              " (\"'Pollacia'\", 133787),\n",
              " (\"'Unni'\", 133764),\n",
              " (\"'Sadowski'\", 133755),\n",
              " (\"'Slaats'\", 133748),\n",
              " (\"'Lorie'\", 133740),\n",
              " (\"'Bednarek'\", 133731),\n",
              " (\"'Whitcomb'\", 133699),\n",
              " (\"'Verhoeff'\", 133664),\n",
              " (\"'Iisaku'\", 133658),\n",
              " (\"'Bednarek'\", 133637),\n",
              " (\"'Pelc'\", 133630),\n",
              " (\"'Coombs'\", 133629),\n",
              " (\"'Gyimothy'\", 133629),\n",
              " (\"'Tischendorf'\", 133619),\n",
              " (\"'Swiler'\", 133616),\n",
              " (\"'Bale'\", 133612),\n",
              " (\"'Kambil'\", 133577),\n",
              " (\"'Oaver'\", 133559),\n",
              " (\"'Sessa'\", 133555),\n",
              " (\"'Honiden'\", 133546),\n",
              " (\"'Junot'\", 133536),\n",
              " (\"'Birnbaum'\", 133516),\n",
              " (\"'Knightly'\", 133507),\n",
              " (\"'Farrag'\", 133505),\n",
              " (\"'Kuzuoka'\", 133486),\n",
              " (\"'Strehl'\", 133483),\n",
              " (\"'Schusler'\", 133478),\n",
              " (\"'Vural'\", 133419),\n",
              " (\"'Ranft'\", 133401),\n",
              " (\"'Luiz'\", 133382),\n",
              " (\"'Poupard'\", 133381),\n",
              " (\"'Rosar'\", 133366),\n",
              " (\"'Sewelson'\", 133329),\n",
              " (\"'Sessa'\", 133278),\n",
              " (\"'Brookner'\", 133260),\n",
              " (\"'Zallocco'\", 133253),\n",
              " (\"'Peac'\", 133252),\n",
              " (\"'Luef'\", 133243),\n",
              " (\"'Lorie'\", 133242),\n",
              " (\"'Pettis'\", 133234),\n",
              " (\"'Isard'\", 133234),\n",
              " (\"'Eiter'\", 133230),\n",
              " (\"'Slaats'\", 133215),\n",
              " (\"'Poupard'\", 133198),\n",
              " (\"'Gyimothy'\", 133189),\n",
              " (\"'Cools'\", 133171),\n",
              " (\"'Eiter'\", 133169),\n",
              " (\"'Cools'\", 133168),\n",
              " (\"'Roccetti'\", 133141),\n",
              " (\"'Benzmuller'\", 133140),\n",
              " (\"'Pettis'\", 133125),\n",
              " (\"'Pfau'\", 133112),\n",
              " (\"'Junet'\", 133099),\n",
              " (\"'Nations'\", 133045),\n",
              " (\"'Isaac'\", 133038),\n",
              " (\"'Luiz'\", 133036),\n",
              " (\"'Fujisaki'\", 133022),\n",
              " (\"'Lanzelotte'\", 133012),\n",
              " (\"'Hanabata'\", 133003),\n",
              " (\"'Baca'\", 132964),\n",
              " (\"'Azulay'\", 132954),\n",
              " (\"'Mungall'\", 132938),\n",
              " (\"'Peac'\", 132933),\n",
              " (\"'Dratva'\", 132927),\n",
              " (\"'Thimonier'\", 132910),\n",
              " (\"'Erdmenger'\", 132907),\n",
              " (\"'Simkin'\", 132900),\n",
              " (\"'Sherertz'\", 132878),\n",
              " (\"'Poupard'\", 132870),\n",
              " (\"'Nilsson'\", 132836),\n",
              " (\"'Tischendorf'\", 132819),\n",
              " (\"'Jiang'\", 132806),\n",
              " (\"'Minakawa'\", 132805),\n",
              " (\"'Grandbois'\", 132789),\n",
              " (\"'Diderrich'\", 132781),\n",
              " (\"'Mungall'\", 132766),\n",
              " (\"'Rotem'\", 132766),\n",
              " (\"'Slaats'\", 132757),\n",
              " (\"'Zallocco'\", 132700),\n",
              " (\"'Zallocco'\", 132697),\n",
              " (\"'Heping'\", 132666),\n",
              " (\"'Rosar'\", 132656),\n",
              " (\"'Rotem'\", 132626),\n",
              " (\"'Thimonier'\", 132582),\n",
              " (\"'Arlazarov'\", 132565),\n",
              " (\"'Teitelbaum'\", 132556),\n",
              " (\"'Schahn'\", 132552),\n",
              " (\"'Barreiro'\", 132533),\n",
              " (\"'Hettesheimer'\", 132531),\n",
              " (\"'Alameldin'\", 132511),\n",
              " (\"'Fioravanti'\", 132503),\n",
              " (\"'Bernick'\", 132468),\n",
              " (\"'Talmor'\", 132463),\n",
              " (\"'Mungall'\", 132453),\n",
              " (\"'Luft'\", 132403),\n",
              " (\"'Anandan'\", 132389),\n",
              " (\"'Czap'\", 132381),\n",
              " (\"'Pelc'\", 132380),\n",
              " (\"'Kaltofen'\", 132379),\n",
              " (\"'Akiyama'\", 132377),\n",
              " (\"'Doering'\", 132376),\n",
              " (\"'Scharstein'\", 132353),\n",
              " (\"'Kambil'\", 132349),\n",
              " (\"'Cannard'\", 132309),\n",
              " (\"'Lanzelotte'\", 132301),\n",
              " (\"'Kambil'\", 132283),\n",
              " (\"'Valiente'\", 132259),\n",
              " (\"'Sgarro'\", 132253),\n",
              " (\"'Alameldin'\", 132196),\n",
              " (\"'Junot'\", 132165),\n",
              " (\"'Kemmerer'\", 132162),\n",
              " (\"'Bhattacharjee'\", 132161),\n",
              " (\"'Cromarty'\", 132154),\n",
              " (\"'Valiente'\", 132151),\n",
              " (\"'Pauthner'\", 132149),\n",
              " (\"'Pesch'\", 132136),\n",
              " (\"'Veccia'\", 132119),\n",
              " (\"'Ranft'\", 132089),\n",
              " (\"'Valiente'\", 132087),\n",
              " (\"'Vasanthakumar'\", 132068),\n",
              " (\"'Peltason'\", 132064),\n",
              " (\"'Farrag'\", 132055),\n",
              " (\"'Lemarechal'\", 132042),\n",
              " (\"'Siochi'\", 132040),\n",
              " (\"'Giveon'\", 132027),\n",
              " (\"'Schoegge'\", 132015),\n",
              " (\"'Stanger'\", 132006),\n",
              " (\"'Doering'\", 132004),\n",
              " (\"'Arlazarov'\", 132001),\n",
              " (\"'Doering'\", 132001),\n",
              " (\"'Ranum'\", 131994),\n",
              " (\"'Georgakopoulos'\", 131992),\n",
              " (\"'Veldwijk'\", 131980),\n",
              " (\"'Bale'\", 131960),\n",
              " (\"'Cannane'\", 131955),\n",
              " (\"'Whitcomb'\", 131942),\n",
              " (\"'Isaac'\", 131909),\n",
              " (\"'Griswold'\", 131895),\n",
              " (\"'Biron'\", 131878),\n",
              " (\"'Berstel'\", 131875),\n",
              " (\"'Hoppenstand'\", 131848),\n",
              " (\"'Pettis'\", 131836),\n",
              " (\"'Gargeya'\", 131831),\n",
              " (\"'Fendler'\", 131807),\n",
              " (\"'Wuwongse'\", 131792),\n",
              " (\"'Matteis'\", 131784),\n",
              " (\"'Molenkamp'\", 131780),\n",
              " (\"'Emmerich'\", 131775),\n",
              " (\"'Lorie'\", 131772),\n",
              " (\"'Loncour'\", 131751),\n",
              " (\"'Schusler'\", 131742),\n",
              " (\"'Rabejac'\", 131719),\n",
              " (\"'Luef'\", 131700),\n",
              " (\"'Iacovou'\", 131694),\n",
              " (\"'Ranai'\", 131692),\n",
              " (\"'Kaltofen'\", 131688),\n",
              " (\"'Cools'\", 131687),\n",
              " (\"'Janocha'\", 131678),\n",
              " (\"'Doering'\", 131663),\n",
              " (\"'Gunderson'\", 131648),\n",
              " (\"'Hasham'\", 131628),\n",
              " (\"'Siochi'\", 131611),\n",
              " (\"'Busillo'\", 131604),\n",
              " (\"'Linnainmaa'\", 131587),\n",
              " (\"'Kamble'\", 131566),\n",
              " (\"'Zyda'\", 131563),\n",
              " (\"'Schach'\", 131563),\n",
              " (\"'Mitina'\", 131554),\n",
              " (\"'Coombs'\", 131543),\n",
              " (\"'Zeidenstein'\", 131541),\n",
              " (\"'Matteis'\", 131539),\n",
              " (\"'Rissanen'\", 131539),\n",
              " (\"'Rosar'\", 131518),\n",
              " (\"'Kadhim'\", 131502),\n",
              " (\"'Azulay'\", 131487),\n",
              " (\"'Swick'\", 131478),\n",
              " (\"'Babu'\", 131476),\n",
              " (\"'Adachi'\", 131462),\n",
              " (\"'Herber'\", 131456),\n",
              " (\"'Shokrollahi'\", 131445),\n",
              " (\"'Gargeya'\", 131444),\n",
              " (\"'Ushiama'\", 131441),\n",
              " (\"'Lorie'\", 131435),\n",
              " (\"'Kumaresan'\", 131431),\n",
              " (\"'Perry'\", 131411),\n",
              " (\"'Klerer'\", 131408),\n",
              " (\"'Gargeya'\", 131404),\n",
              " (\"'Ramaiah'\", 131392),\n",
              " (\"'Gargeya'\", 131358),\n",
              " (\"'Ushiama'\", 131350),\n",
              " (\"'Hofman'\", 131344),\n",
              " (\"'Cannard'\", 131343),\n",
              " (\"'Oaver'\", 131343),\n",
              " (\"'Janocha'\", 131333),\n",
              " (\"'Mondadori'\", 131326),\n",
              " (\"'Sessa'\", 131320),\n",
              " (\"'Strehl'\", 131316),\n",
              " (\"'Decleir'\", 131291),\n",
              " (\"'Thambidurai'\", 131288),\n",
              " (\"'Lanzelotte'\", 131277),\n",
              " (\"'Schlegelmilch'\", 131272),\n",
              " (\"'Babu'\", 131268),\n",
              " (\"'Beutelspacher'\", 131247),\n",
              " (\"'Brookner'\", 131246),\n",
              " (\"'Buescher'\", 131226),\n",
              " (\"'Gyimothy'\", 131207),\n",
              " (\"'Alpay'\", 131188),\n",
              " (\"'Rosar'\", 131180),\n",
              " (\"'Nations'\", 131175),\n",
              " (\"'Braunmuhl'\", 131150),\n",
              " (\"'Zallocco'\", 131149),\n",
              " (\"'Rosin'\", 131138),\n",
              " (\"'Azulay'\", 131126),\n",
              " (\"'Busillo'\", 131122),\n",
              " (\"'Grandbois'\", 131119),\n",
              " (\"'Linnainmaa'\", 131112),\n",
              " (\"'Czap'\", 131102),\n",
              " (\"'Weedman'\", 131090),\n",
              " (\"'Narahari'\", 131045),\n",
              " (\"'Janocha'\", 131004),\n",
              " (\"'Babu'\", 130995),\n",
              " (\"'Lemarechal'\", 130995),\n",
              " (\"'Birdsall'\", 130972),\n",
              " (\"'Veccia'\", 130962),\n",
              " (\"'Zaiane'\", 130956),\n",
              " (\"'Akaboshi'\", 130953),\n",
              " (\"'Worfolk'\", 130945),\n",
              " (\"'Wolniewicz'\", 130945),\n",
              " (\"'Suessmith'\", 130923),\n",
              " (\"'Matteis'\", 130881),\n",
              " (\"'Decleir'\", 130864),\n",
              " (\"'Dratva'\", 130862),\n",
              " (\"'Peek'\", 130858),\n",
              " (\"'Lamma'\", 130849),\n",
              " (\"'Luiz'\", 130849),\n",
              " (\"'Barreiro'\", 130847),\n",
              " (\"'Schlegelmilch'\", 130837),\n",
              " (\"'Bale'\", 130836),\n",
              " (\"'Rabejac'\", 130835),\n",
              " (\"'Lamma'\", 130830),\n",
              " (\"'Panwar'\", 130827),\n",
              " (\"'Lamma'\", 130818),\n",
              " (\"'Cannane'\", 130742),\n",
              " (\"'Gargeya'\", 130724),\n",
              " (\"'Vecchi'\", 130717),\n",
              " (\"'Koshiba'\", 130706),\n",
              " (\"'Isard'\", 130703),\n",
              " (\"'Molenkamp'\", 130701),\n",
              " (\"'Rosin'\", 130695),\n",
              " (\"'Nishimukai'\", 130695),\n",
              " (\"'Dratva'\", 130690),\n",
              " (\"'Baar'\", 130687),\n",
              " (\"'Albarhamtoshy'\", 130681),\n",
              " (\"'Chiola'\", 130673),\n",
              " (\"'Luca'\", 130664),\n",
              " (\"'Azulay'\", 130658),\n",
              " (\"'Comyn'\", 130651),\n",
              " (\"'Albarhamtoshy'\", 130643),\n",
              " (\"'Gill'\", 130638),\n",
              " (\"'Vidal'\", 130634),\n",
              " (\"'Fujisaki'\", 130627),\n",
              " (\"'Lindenbaum'\", 130621),\n",
              " (\"'Kaltofen'\", 130577),\n",
              " (\"'Schusler'\", 130562),\n",
              " (\"'Heystek'\", 130558),\n",
              " (\"'Kobara'\", 130558),\n",
              " (\"'Lunn'\", 130540),\n",
              " (\"'Diderrich'\", 130536),\n",
              " (\"'Loncour'\", 130533),\n",
              " (\"'Egerstedt'\", 130518),\n",
              " (\"'Kushnir'\", 130515),\n",
              " (\"'Giaccio'\", 130478),\n",
              " (\"'Segond'\", 130477),\n",
              " (\"'Naudin'\", 130466),\n",
              " (\"'Worfolk'\", 130462),\n",
              " (\"'Kuszyk'\", 130450),\n",
              " (\"'Rabejac'\", 130442),\n",
              " (\"'Luft'\", 130434),\n",
              " (\"'Gurbaxani'\", 130431),\n",
              " (\"'Lamma'\", 130427),\n",
              " (\"'Ushiama'\", 130421),\n",
              " (\"'Mungall'\", 130421),\n",
              " (\"'Honiden'\", 130418),\n",
              " (\"'Wynblatt'\", 130417),\n",
              " (\"'Sadowski'\", 130397),\n",
              " (\"'Lamma'\", 130374),\n",
              " (\"'Gill'\", 130371),\n",
              " (\"'Segond'\", 130356),\n",
              " (\"'Janetzko'\", 130345),\n",
              " (\"'Ranum'\", 130335),\n",
              " (\"'Suessmith'\", 130330),\n",
              " (\"'Czap'\", 130319),\n",
              " (\"'Perry'\", 130308),\n",
              " (\"'Koshiba'\", 130305),\n",
              " (\"'Lanzelotte'\", 130277),\n",
              " (\"'Androutsos'\", 130270),\n",
              " (\"'Birnbaum'\", 130268),\n",
              " (\"'Schusler'\", 130257),\n",
              " (\"'Imataki'\", 130255),\n",
              " (\"'Orsini'\", 130248),\n",
              " (\"'Hanabata'\", 130244),\n",
              " (\"'Sinicrope'\", 130226),\n",
              " (\"'Vesel'\", 130215),\n",
              " (\"'Brandsma'\", 130207),\n",
              " (\"'Orsini'\", 130204),\n",
              " (\"'Isard'\", 130173),\n",
              " (\"'Oaver'\", 130162),\n",
              " (\"'Schusler'\", 130146),\n",
              " (\"'Stiles'\", 130139),\n",
              " (\"'Orsini'\", 130137),\n",
              " (\"'Farrag'\", 130115),\n",
              " (\"'Honiden'\", 130094),\n",
              " (\"'Kuzuoka'\", 130094),\n",
              " (\"'Loncour'\", 130078),\n",
              " (\"'Hasham'\", 130055),\n",
              " (\"'Whitcomb'\", 130037),\n",
              " (\"'Felder'\", 130035),\n",
              " (\"'Tischendorf'\", 130005),\n",
              " (\"'Hasham'\", 130001),\n",
              " (\"'Pfau'\", 129986),\n",
              " (\"'Swiler'\", 129966),\n",
              " (\"'Huttel'\", 129957),\n",
              " (\"'Nations'\", 129952),\n",
              " (\"'Honiden'\", 129924),\n",
              " (\"'Iisaku'\", 129911),\n",
              " (\"'Androutsos'\", 129909),\n",
              " (\"'Bednarek'\", 129905),\n",
              " (\"'Schaar'\", 129873),\n",
              " (\"'Herber'\", 129870),\n",
              " (\"'Bednarek'\", 129867),\n",
              " (\"'Buescher'\", 129861),\n",
              " (\"'Rissland'\", 129848),\n",
              " (\"'Jiang'\", 129822),\n",
              " (\"'Pollacia'\", 129815),\n",
              " (\"'Birdsall'\", 129806),\n",
              " (\"'Chiola'\", 129802),\n",
              " (\"'Janocha'\", 129799),\n",
              " (\"'Rotem'\", 129784),\n",
              " (\"'Bouloucos'\", 129782),\n",
              " (\"'Suessmith'\", 129756),\n",
              " (\"'Kading'\", 129726),\n",
              " (\"'Comyn'\", 129691),\n",
              " (\"'Pashtan'\", 129684),\n",
              " (\"'Pauthner'\", 129682),\n",
              " (\"'Cannard'\", 129681),\n",
              " (\"'Peac'\", 129678),\n",
              " (\"'Peac'\", 129662),\n",
              " (\"'Carrera'\", 129661),\n",
              " (\"'Arlazarov'\", 129634),\n",
              " (\"'Ruther'\", 129628),\n",
              " (\"'Unni'\", 129609),\n",
              " (\"'Borstler'\", 129600),\n",
              " (\"'Fioravanti'\", 129584),\n",
              " (\"'Kadhim'\", 129584),\n",
              " (\"'Merks'\", 129547),\n",
              " (\"'Zeidenstein'\", 129536),\n",
              " (\"'Eiter'\", 129534),\n",
              " (\"'Thimonier'\", 129524),\n",
              " (\"'Talmor'\", 129522),\n",
              " (\"'Thimonier'\", 129507),\n",
              " (\"'Griswold'\", 129492),\n",
              " (\"'Heystek'\", 129484),\n",
              " (\"'McAffer'\", 129468),\n",
              " (\"'Decaestecker'\", 129466),\n",
              " (\"'Wolniewicz'\", 129448),\n",
              " (\"'Beznosov'\", 129447),\n",
              " (\"'Gill'\", 129446),\n",
              " (\"'Akiyama'\", 129438),\n",
              " (\"'Schlegelmilch'\", 129435),\n",
              " (\"'Alameldin'\", 129434),\n",
              " (\"'Junet'\", 129424),\n",
              " (\"'Knightly'\", 129409),\n",
              " (\"'Luft'\", 129390),\n",
              " (\"'Wynblatt'\", 129380),\n",
              " (\"'Schach'\", 129375),\n",
              " (\"'Doering'\", 129375),\n",
              " (\"'Denos'\", 129369),\n",
              " (\"'Hettesheimer'\", 129368),\n",
              " (\"'Nergos'\", 129361),\n",
              " (\"'Comyn'\", 129356),\n",
              " (\"'Luiz'\", 129356),\n",
              " (\"'Simkin'\", 129326),\n",
              " (\"'Roccetti'\", 129322),\n",
              " (\"'Hasham'\", 129312),\n",
              " (\"'Veccia'\", 129299),\n",
              " (\"'Peek'\", 129289),\n",
              " (\"'Nastansky'\", 129287),\n",
              " (\"'Marciano'\", 129277),\n",
              " (\"'Talmor'\", 129265),\n",
              " (\"'Baar'\", 129264),\n",
              " (\"'Benzmuller'\", 129250),\n",
              " (\"'Beutelspacher'\", 129247),\n",
              " (\"'Ranai'\", 129245),\n",
              " (\"'Hettesheimer'\", 129245),\n",
              " (\"'Giveon'\", 129233),\n",
              " (\"'Sewelson'\", 129231),\n",
              " (\"'Verhoeff'\", 129229),\n",
              " (\"'Zallocco'\", 129211),\n",
              " (\"'Busillo'\", 129196),\n",
              " (\"'Luiz'\", 129191),\n",
              " (\"'Fioravanti'\", 129187),\n",
              " (\"'Kavraki'\", 129181),\n",
              " (\"'Sgarro'\", 129178),\n",
              " (\"'Zeidenstein'\", 129168),\n",
              " (\"'Georgakopoulos'\", 129158),\n",
              " (\"'Simkin'\", 129145),\n",
              " (\"'Ponthieu'\", 129143),\n",
              " (\"'Wissmann'\", 129142),\n",
              " (\"'Panwar'\", 129140),\n",
              " (\"'Zallocco'\", 129125),\n",
              " (\"'Molenkamp'\", 129122),\n",
              " (\"'Aamodt'\", 129115),\n",
              " (\"'Herber'\", 129114),\n",
              " (\"'Parhami'\", 129109),\n",
              " (\"'Kemmerer'\", 129108),\n",
              " (\"'Rissland'\", 129086),\n",
              " (\"'Maliniak'\", 129084),\n",
              " (\"'Mondadori'\", 129074),\n",
              " (\"'Babb'\", 129072),\n",
              " (\"'Orsini'\", 129067),\n",
              " (\"'Impagliazzo'\", 129064),\n",
              " (\"'Vural'\", 129062),\n",
              " (\"'Minakawa'\", 129057),\n",
              " (\"'Swiler'\", 129052),\n",
              " (\"'Honiden'\", 129049),\n",
              " (\"'Slaats'\", 129042),\n",
              " (\"'Tanemo'\", 129037),\n",
              " (\"'Sinitsyn'\", 129036),\n",
              " (\"'Sherertz'\", 129031),\n",
              " (\"'Zyda'\", 129018),\n",
              " (\"'Kadhim'\", 129008),\n",
              " (\"'Lindenbaum'\", 128988),\n",
              " (\"'Ponthieu'\", 128964),\n",
              " (\"'Ranft'\", 128959),\n",
              " (\"'Tischendorf'\", 128947),\n",
              " (\"'Hasham'\", 128945),\n",
              " (\"'Bernick'\", 128944),\n",
              " (\"'Heusch'\", 128926),\n",
              " (\"'Rabejac'\", 128925),\n",
              " (\"'Codenie'\", 128916),\n",
              " (\"'Copas'\", 128912),\n",
              " (\"'Hasham'\", 128901),\n",
              " (\"'Benzmuller'\", 128898),\n",
              " (\"'Linnainmaa'\", 128833),\n",
              " (\"'Waschkowski'\", 128825),\n",
              " (\"'Kobara'\", 128815),\n",
              " (\"'Tischendorf'\", 128791),\n",
              " (\"'Anandan'\", 128776),\n",
              " (\"'Schahn'\", 128773),\n",
              " (\"'Poupard'\", 128764),\n",
              " (\"'Vesel'\", 128759),\n",
              " (\"'Ibel'\", 128756),\n",
              " (\"'Baaleh'\", 128725),\n",
              " (\"'Baca'\", 128724),\n",
              " (\"'Valiente'\", 128723),\n",
              " (\"'Veldwijk'\", 128721),\n",
              " (\"'Gecsei'\", 128714),\n",
              " (\"'Hiyoshi'\", 128711),\n",
              " (\"'Shokrollahi'\", 128706),\n",
              " (\"'Narahari'\", 128703),\n",
              " (\"'Ibel'\", 128691),\n",
              " (\"'Massonet'\", 128682),\n",
              " (\"'Narahari'\", 128676),\n",
              " (\"'Maliniak'\", 128669),\n",
              " (\"'Mondadori'\", 128659),\n",
              " (\"'Isaac'\", 128653),\n",
              " (\"'Quadeer'\", 128652),\n",
              " (\"'Erev'\", 128650),\n",
              " (\"'Peac'\", 128636),\n",
              " (\"'Pollacia'\", 128629),\n",
              " (\"'Lamma'\", 128610),\n",
              " (\"'Pettis'\", 128604),\n",
              " (\"'McAffer'\", 128604),\n",
              " (\"'Cairo'\", 128589),\n",
              " (\"'Schoegge'\", 128578),\n",
              " (\"'Wynblatt'\", 128552),\n",
              " (\"'Picco'\", 128540),\n",
              " (\"'Borstler'\", 128525),\n",
              " (\"'Alpay'\", 128511),\n",
              " (\"'Dratva'\", 128507),\n",
              " (\"'Brookner'\", 128494),\n",
              " (\"'Cromarty'\", 128491),\n",
              " (\"'Georgakopoulos'\", 128484),\n",
              " (\"'Felder'\", 128483),\n",
              " (\"'Peac'\", 128469),\n",
              " (\"'Kambil'\", 128468),\n",
              " (\"'Scharstein'\", 128465),\n",
              " (\"'Vural'\", 128461),\n",
              " (\"'Heering'\", 128461),\n",
              " (\"'Haddadi'\", 128434),\n",
              " (\"'Nilsson'\", 128424),\n",
              " (\"'Stanger'\", 128420),\n",
              " (\"'Erdmenger'\", 128418),\n",
              " (\"'Hasham'\", 128417),\n",
              " (\"'Ranft'\", 128416),\n",
              " (\"'Adachi'\", 128416),\n",
              " (\"'Atchley'\", 128415),\n",
              " (\"'Heping'\", 128415),\n",
              " (\"'Doering'\", 128412),\n",
              " (\"'Nitto'\", 128412),\n",
              " (\"'Teitelbaum'\", 128380),\n",
              " (\"'Ranum'\", 128369),\n",
              " (\"'Janetzko'\", 128366),\n",
              " (\"'Koshiba'\", 128355),\n",
              " (\"'Lemarechal'\", 128353),\n",
              " (\"'Bernick'\", 128344),\n",
              " (\"'Vidal'\", 128343),\n",
              " (\"'Luef'\", 128334),\n",
              " (\"'Mayerwieser'\", 128313),\n",
              " (\"'Wuwongse'\", 128307),\n",
              " (\"'Lanteri'\", 128294),\n",
              " (\"'Maginnis'\", 128294),\n",
              " (\"'Vidal'\", 128294),\n",
              " (\"'Aingworth'\", 128292),\n",
              " (\"'Suessmith'\", 128280),\n",
              " (\"'Narahari'\", 128265),\n",
              " (\"'Cools'\", 128255),\n",
              " (\"'Perry'\", 128241),\n",
              " (\"'Gunderson'\", 128241),\n",
              " (\"'Ramaiah'\", 128240),\n",
              " (\"'Kamble'\", 128238),\n",
              " (\"'Undy'\", 128229),\n",
              " (\"'Garrabrants'\", 128200),\n",
              " (\"'Curless'\", 128187),\n",
              " (\"'Matteis'\", 128179),\n",
              " (\"'Mayerwieser'\", 128176),\n",
              " (\"'Peac'\", 128172),\n",
              " (\"'Kambil'\", 128170),\n",
              " (\"'Mitina'\", 128163),\n",
              " (\"'Strehl'\", 128154),\n",
              " (\"'Bhattacharjee'\", 128149),\n",
              " (\"'Mitina'\", 128145),\n",
              " (\"'Isard'\", 128113),\n",
              " (\"'Pelc'\", 128108),\n",
              " (\"'Doering'\", 128104),\n",
              " (\"'Stamatiou'\", 128103),\n",
              " (\"'Wuwongse'\", 128091),\n",
              " (\"'Brandsma'\", 128090),\n",
              " (\"'Androutsos'\", 128088),\n",
              " (\"'Haraldson'\", 128080),\n",
              " (\"'Asrin'\", 128072),\n",
              " (\"'Kaiser'\", 128067),\n",
              " (\"'Swick'\", 128062),\n",
              " (\"'Nilsson'\", 128045),\n",
              " (\"'Schlegelmilch'\", 128043),\n",
              " (\"'Picci'\", 128027),\n",
              " (\"'Marciano'\", 128027),\n",
              " (\"'Zyda'\", 128026),\n",
              " (\"'Siochi'\", 128026),\n",
              " (\"'Zaiane'\", 128023),\n",
              " (\"'Berstel'\", 128019),\n",
              " (\"'Junot'\", 128018),\n",
              " (\"'Luca'\", 128011),\n",
              " (\"'Stamatiou'\", 128000),\n",
              " (\"'Lanzelotte'\", 127999),\n",
              " (\"'Thambidurai'\", 127991),\n",
              " (\"'Veldwijk'\", 127989),\n",
              " (\"'Nations'\", 127980),\n",
              " (\"'Brlek'\", 127971),\n",
              " (\"'Bahi'\", 127970),\n",
              " (\"'Nitto'\", 127968),\n",
              " (\"'Asrin'\", 127966),\n",
              " (\"'Glinert'\", 127964),\n",
              " (\"'Fioravanti'\", 127963),\n",
              " (\"'Barbanera'\", 127962),\n",
              " (\"'Rissanen'\", 127960),\n",
              " (\"'Chiola'\", 127955),\n",
              " (\"'Lunn'\", 127951),\n",
              " (\"'Peltason'\", 127927),\n",
              " (\"'Majewski'\", 127917),\n",
              " (\"'Eiter'\", 127916),\n",
              " (\"'Barbanera'\", 127911),\n",
              " (\"'Lanzelotte'\", 127899),\n",
              " (\"'Massonet'\", 127895),\n",
              " (\"'Fendler'\", 127890),\n",
              " (\"'Weedman'\", 127875),\n",
              " (\"'Oxman'\", 127871),\n",
              " (\"'Hoppenstand'\", 127864),\n",
              " (\"'Fasbender'\", 127862),\n",
              " (\"'Emmerich'\", 127861),\n",
              " (\"'Kamble'\", 127857),\n",
              " (\"'Verhoeff'\", 127829),\n",
              " (\"'Isard'\", 127826),\n",
              " (\"'Weedman'\", 127816),\n",
              " (\"'Pesch'\", 127816),\n",
              " (\"'Beutelspacher'\", 127810),\n",
              " (\"'Beznosov'\", 127802),\n",
              " (\"'Terkki'\", 127797),\n",
              " (\"'Iisaku'\", 127793),\n",
              " (\"'Stiles'\", 127781),\n",
              " (\"'Mungall'\", 127770),\n",
              " (\"'Hoppenstand'\", 127769),\n",
              " (\"'Vural'\", 127756),\n",
              " (\"'Vasanthakumar'\", 127756),\n",
              " (\"'Wuwongse'\", 127755),\n",
              " (\"'Peltason'\", 127755),\n",
              " (\"'Cannane'\", 127746),\n",
              " (\"'Biron'\", 127732),\n",
              " (\"'Alpay'\", 127730),\n",
              " (\"'Braunmuhl'\", 127727),\n",
              " (\"'Lunn'\", 127725),\n",
              " (\"'Baig'\", 127715),\n",
              " (\"'Hatcliff'\", 127710),\n",
              " (\"'Simkin'\", 127699),\n",
              " (\"'Luca'\", 127695),\n",
              " (\"'Baar'\", 127678),\n",
              " (\"'Peternell'\", 127674),\n",
              " (\"'Staudhammer'\", 127673),\n",
              " (\"'Barreiro'\", 127671),\n",
              " (\"'DeMori'\", 127669),\n",
              " (\"'Baez'\", 127658),\n",
              " (\"'Asrin'\", 127645),\n",
              " (\"'Stamatiou'\", 127643),\n",
              " (\"'Mitina'\", 127639),\n",
              " (\"'Sinitsyn'\", 127623),\n",
              " (\"'Diderrich'\", 127607),\n",
              " (\"'Huttel'\", 127606),\n",
              " (\"'Giaccio'\", 127602),\n",
              " (\"'Birdsall'\", 127574),\n",
              " (\"'Fasbender'\", 127563),\n",
              " (\"'Hofman'\", 127556),\n",
              " (\"'Kamble'\", 127556),\n",
              " (\"'Himler'\", 127554),\n",
              " (\"'Naudin'\", 127549),\n",
              " (\"'Sewelson'\", 127548),\n",
              " (\"'Kamble'\", 127548),\n",
              " (\"'Klerer'\", 127542),\n",
              " (\"'Vieri'\", 127539),\n",
              " (\"'Janocha'\", 127521),\n",
              " (\"'Azulay'\", 127514),\n",
              " (\"'Grandbois'\", 127513),\n",
              " (\"'Kumaresan'\", 127479),\n",
              " (\"'Rajcani'\", 127479),\n",
              " (\"'Schahn'\", 127479),\n",
              " (\"'Conta'\", 127472),\n",
              " (\"'Mungall'\", 127472),\n",
              " (\"'Baig'\", 127461),\n",
              " (\"'Peek'\", 127459),\n",
              " (\"'Lorie'\", 127457),\n",
              " (\"'Iacovou'\", 127452),\n",
              " (\"'Cappello'\", 127449),\n",
              " (\"'Veccia'\", 127423),\n",
              " (\"'Haraldson'\", 127416),\n",
              " (\"'Muchinsky'\", 127401),\n",
              " (\"'Nilsson'\", 127397),\n",
              " (\"'Schusler'\", 127397),\n",
              " (\"'Goldhammer'\", 127384),\n",
              " (\"'Fasbender'\", 127376),\n",
              " (\"'Matheson'\", 127363),\n",
              " (\"'Manders'\", 127347),\n",
              " (\"'Waschkowski'\", 127343),\n",
              " (\"'Barreiro'\", 127340),\n",
              " (\"'Borstler'\", 127337),\n",
              " (\"'Haraldson'\", 127334),\n",
              " (\"'Simkin'\", 127328),\n",
              " (\"'Kambil'\", 127322),\n",
              " (\"'Pettis'\", 127321),\n",
              " (\"'Loncour'\", 127317),\n",
              " (\"'Feinberg'\", 127315),\n",
              " (\"'Salinas'\", 127305),\n",
              " ...]"
            ]
          },
          "metadata": {},
          "execution_count": 31
        }
      ]
    },
    {
      "cell_type": "markdown",
      "metadata": {
        "id": "d67mWDujH01k"
      },
      "source": [
        "## Ex 3\n",
        "Get the average salary by gender. Hint: use Group by"
      ]
    },
    {
      "cell_type": "code",
      "execution_count": 27,
      "metadata": {
        "id": "aYZjnau0H01l",
        "colab": {
          "base_uri": "https://localhost:8080/"
        },
        "outputId": "a71acc4f-e5cf-49f0-e122-c3c3b4f0531b"
      },
      "outputs": [
        {
          "output_type": "execute_result",
          "data": {
            "text/plain": [
              "[(63759.35423,)]"
            ]
          },
          "metadata": {},
          "execution_count": 27
        }
      ],
      "source": [
        "cursor.execute(\"SELECT AVG(s.salary) FROM employee as e, salary as s WHERE e.employee_id == s.employee_id GROUP BY e.gender\")\n",
        "cursor.fetchall()"
      ]
    },
    {
      "cell_type": "code",
      "execution_count": 27,
      "metadata": {
        "id": "OYp78F7AH01l"
      },
      "outputs": [],
      "source": [
        ""
      ]
    }
  ],
  "metadata": {
    "kernelspec": {
      "display_name": "Python 3",
      "language": "python",
      "name": "python3"
    },
    "language_info": {
      "codemirror_mode": {
        "name": "ipython",
        "version": 3
      },
      "file_extension": ".py",
      "mimetype": "text/x-python",
      "name": "python",
      "nbconvert_exporter": "python",
      "pygments_lexer": "ipython3",
      "version": "3.7.6"
    },
    "colab": {
      "name": "Assignment_Hive.ipynb",
      "provenance": []
    },
    "accelerator": "GPU"
  },
  "nbformat": 4,
  "nbformat_minor": 0
}