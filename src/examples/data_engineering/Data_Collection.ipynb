{
 "cells": [
  {
   "cell_type": "markdown",
   "metadata": {
    "slideshow": {
     "slide_type": "slide"
    }
   },
   "source": [
    "# Data Scraping"
   ]
  },
  {
   "cell_type": "markdown",
   "metadata": {
    "slideshow": {
     "slide_type": "slide"
    },
    "tags": []
   },
   "source": [
    "## Outline\n",
    "* Access Structured Data\n",
    "    * accessing ***Rest*** APIs\n",
    "    * Comon Bus-Systems\n",
    "        \n",
    "* Access Unstructured Data\n",
    "    * web scraping\n",
    "    * PDF scraping\n",
    "    "
   ]
  },
  {
   "cell_type": "markdown",
   "metadata": {
    "slideshow": {
     "slide_type": "slide"
    }
   },
   "source": [
    "## Data Science Processing Pipeline\n",
    "<img src=\"IMG/workflow.png\" width=1200>"
   ]
  },
  {
   "cell_type": "markdown",
   "metadata": {
    "slideshow": {
     "slide_type": "slide"
    }
   },
   "source": [
    "## Recall: JSON\n",
    "### *Data with less structure than tables: sparse entries or flexible schema*\n",
    "<img SRC=\"IMG/json-logo.png\" width=400>"
   ]
  },
  {
   "cell_type": "markdown",
   "metadata": {
    "slideshow": {
     "slide_type": "fragment"
    }
   },
   "source": [
    "***JavaScript Object Notation (JSON)*** is an open-standard file format that uses human-readable text to transmit data objects consisting of attribute–value pairs and array data types. \n",
    "JSON is a language-independent data format. It was derived from JavaScript, but as of 2017 many programming languages include code to generate and parse JSON-format data. "
   ]
  },
  {
   "cell_type": "markdown",
   "metadata": {
    "slideshow": {
     "slide_type": "subslide"
    }
   },
   "source": [
    "### JSON Document Tree\n",
    "<img SRC=\"IMG/json.png\">"
   ]
  },
  {
   "cell_type": "markdown",
   "metadata": {
    "slideshow": {
     "slide_type": "subslide"
    }
   },
   "source": [
    "### JSON in Pythhon\n"
   ]
  },
  {
   "cell_type": "code",
   "execution_count": 1,
   "metadata": {},
   "outputs": [
    {
     "name": "stdout",
     "output_type": "stream",
     "text": [
      "            Product  Price\n",
      "0  Desktop Computer    700\n",
      "1            Tablet    250\n",
      "2            iPhone    800\n",
      "3            Laptop   1200\n"
     ]
    }
   ],
   "source": [
    "import pandas as pd\n",
    "\n",
    "Data = {'Product': ['Desktop Computer','Tablet','iPhone','Laptop'],\n",
    "        'Price': [700,250,800,1200]\n",
    "        }\n",
    "\n",
    "df = pd.DataFrame(Data, columns= ['Product', 'Price'])\n",
    " \n",
    "print (df)\n"
   ]
  },
  {
   "cell_type": "code",
   "execution_count": 2,
   "metadata": {
    "slideshow": {
     "slide_type": "fragment"
    }
   },
   "outputs": [],
   "source": [
    "#native JSON support in pandas\n",
    "Export = df.to_json ('Export_DataFrame.json')"
   ]
  },
  {
   "cell_type": "markdown",
   "metadata": {},
   "source": [
    "#### Use ***Colab*** to browse the JSON file."
   ]
  },
  {
   "cell_type": "markdown",
   "metadata": {
    "slideshow": {
     "slide_type": "slide"
    }
   },
   "source": [
    "## REST-APIs: Getting Data from Sensors and Services\n",
    "### *IoT usecases and mesh-ups*\n",
    "\n",
    "* **REST** **RE**presentational **S**tate **T**ransfer - de facto standard for network (HTTP) communication \n",
    "* performance, scalability, simplicity, and reliability for **client-server** data exchange\n",
    "\n",
    "\n",
    "\n",
    "Also see: [https://en.wikipedia.org/wiki/Representational_state_transfer](https://en.wikipedia.org/wiki/Representational_state_transfer)"
   ]
  },
  {
   "cell_type": "markdown",
   "metadata": {
    "slideshow": {
     "slide_type": "subslide"
    }
   },
   "source": [
    "### REST\n",
    "* **Stateless:** The server won’t maintain any state between requests from the client.\n",
    "* **Client-server:** The client and server must be decoupled from each other, allowing each to develop independently.\n",
    "* **Cacheable:** The data retrieved from the server should be cacheable either by the client or by the server.\n",
    "* **Uniform interface:** The server will provide a uniform interface for accessing resources without defining their representation.\n",
    "* **Layered system:** The client may access the resources on the server indirectly through other layers such as a proxy or load balancer."
   ]
  },
  {
   "cell_type": "markdown",
   "metadata": {
    "slideshow": {
     "slide_type": "subslide"
    }
   },
   "source": [
    "### REST Schema\n",
    "<img src='IMG/REST.png'>\n",
    "[image from Wikipedia]"
   ]
  },
  {
   "cell_type": "markdown",
   "metadata": {
    "slideshow": {
     "slide_type": "subslide"
    }
   },
   "source": [
    "### Example\n",
    "\n",
    "* ***GitHub*** REST API -> User information\n",
    "\n",
    "[https://api.github.com/users/keuperj](https://api.github.com/users/keuperj)"
   ]
  },
  {
   "cell_type": "markdown",
   "metadata": {
    "slideshow": {
     "slide_type": "subslide"
    }
   },
   "source": [
    "### REST communication via HTTP(s) requests\n",
    "\n",
    "* GET\tRetrieve an existing resource.\n",
    "* POST\tCreate a new resource.\n",
    "* PUT\tUpdate an existing resource.\n",
    "* PATCH\tPartially update an existing resource.\n",
    "* DELETE\tDelete a resource.\n",
    "\n",
    "#### Data payload -> JSON !"
   ]
  },
  {
   "cell_type": "markdown",
   "metadata": {
    "slideshow": {
     "slide_type": "subslide"
    }
   },
   "source": [
    "### REST interactions in Python\n",
    "#### with the REQUESTS lib\n",
    "\n",
    "<center>\n",
    "<img src=\"IMG/requests.png\" width=300>\n",
    "</center>\n",
    "\n",
    "* [https://docs.python-requests.org/en/master/](https://docs.python-requests.org/en/master/)"
   ]
  },
  {
   "cell_type": "code",
   "execution_count": 3,
   "metadata": {
    "slideshow": {
     "slide_type": "subslide"
    }
   },
   "outputs": [
    {
     "data": {
      "text/plain": [
       "{'userId': 1, 'id': 1, 'title': 'delectus aut autem', 'completed': False}"
      ]
     },
     "execution_count": 3,
     "metadata": {},
     "output_type": "execute_result"
    }
   ],
   "source": [
    "# Example: read data from service\n",
    "\n",
    "import requests\n",
    "api_url = \"https://jsonplaceholder.typicode.com/todos/1\" # open REST service for tests\n",
    "response = requests.get(api_url)\n",
    "response.json()"
   ]
  },
  {
   "cell_type": "markdown",
   "metadata": {
    "slideshow": {
     "slide_type": "-"
    }
   },
   "source": [
    "We use the open REST test server at: https://jsonplaceholder.typicode.com"
   ]
  },
  {
   "cell_type": "code",
   "execution_count": 4,
   "metadata": {
    "slideshow": {
     "slide_type": "subslide"
    }
   },
   "outputs": [
    {
     "data": {
      "text/plain": [
       "{'userId': 1, 'title': 'Buy milk', 'completed': False, 'id': 201}"
      ]
     },
     "execution_count": 4,
     "metadata": {},
     "output_type": "execute_result"
    }
   ],
   "source": [
    "# write data to service\n",
    "\n",
    "api_url = \"https://jsonplaceholder.typicode.com/todos\"\n",
    "todo = {\"userId\": 99, \"title\": \"Buy milk\", \"completed\": False}\n",
    "response = requests.post(api_url, json=todo)\n",
    "response.json()\n",
    "{'userId': 1, 'title': 'Buy milk', 'completed': False, 'id': 201}\n",
    "\n"
   ]
  },
  {
   "cell_type": "code",
   "execution_count": 5,
   "metadata": {
    "slideshow": {
     "slide_type": "fragment"
    }
   },
   "outputs": [
    {
     "data": {
      "text/plain": [
       "201"
      ]
     },
     "execution_count": 5,
     "metadata": {},
     "output_type": "execute_result"
    }
   ],
   "source": [
    "#check transaction\n",
    "response.status_code"
   ]
  },
  {
   "cell_type": "markdown",
   "metadata": {
    "slideshow": {
     "slide_type": "subslide"
    }
   },
   "source": [
    "Error Codes:\n",
    "\n",
    "* 2xx - SUCCESS\n",
    "* 4xx - Client Error\n",
    "* 5xx - Server Error"
   ]
  },
  {
   "cell_type": "markdown",
   "metadata": {
    "slideshow": {
     "slide_type": "fragment"
    }
   },
   "source": [
    "#### Large scale JSON handling and Queries -> MogoDB !"
   ]
  },
  {
   "cell_type": "markdown",
   "metadata": {
    "slideshow": {
     "slide_type": "fragment"
    }
   },
   "source": [
    "#### Other comunication libs i.e. for CAN-Bus available: [https://python-can.readthedocs.io/en/master/](https://python-can.readthedocs.io/en/master/)"
   ]
  },
  {
   "cell_type": "markdown",
   "metadata": {
    "slideshow": {
     "slide_type": "slide"
    }
   },
   "source": [
    "## Getting Data from Web-Ressources\n",
    "#### *Data Scraping*\n",
    "\n",
    "* In some cases data is not *provided* via a defined API, but needs to be collected\n",
    "   * i.e. from unstructured web-data "
   ]
  },
  {
   "cell_type": "code",
   "execution_count": 6,
   "metadata": {
    "slideshow": {
     "slide_type": "fragment"
    }
   },
   "outputs": [
    {
     "name": "stdout",
     "output_type": "stream",
     "text": [
      "<!doctype html><html itemscope=\"\" itemtype=\"http://schema.org/WebPage\" lang=\"de\"><head><meta content=\"text/html; charset=UTF-8\" http-equiv=\"Content-Type\"><meta content=\"/images/branding/googleg/1x/googleg_standard_color_128dp.png\" itemprop=\"image\"><title>Google</title><script nonce=\"42ofyfj8a0OV_frCMpY-yA\">(function(){window.google={kEI:'9pmQYtyOB6mHxc8P-_y88Ak',kEXPI:'0,1302536,56873,6058,207,4804,926,1390,383,246,5,1354,4013,1123753,1197771,630,380090,16114,17444,11240,17572,4858,1362,12313,17594,4012,978,13228,3847,10622,22741,5968,706,1279,2742,149,1103,840,1983,4314,3514,606,2023,1777,521,14669,3227,2845,7,17450,16320,17607,1,2,346,230,6182,277,149,13975,4,1528,2304,7039,25073,2658,7355,13660,4437,16786,5824,2533,4092,2,4052,3,3541,1,42154,2,14022,6248,1398,6470,11623,5679,3398,28745,4567,6259,23418,1252,5835,14968,4332,6089,1395,11239,15406,1,436,8155,6395,187,98,701,11772,2908,7341,3217,8190,3057,1920,5596,110,917,3156,23,10158,2233,3099,210,6056,5931,5119,781,2544,41,1486,2443,515,612,780,235,2193,844,178,1,4,1,2,229,2,1,535,1,88,442,309,1,728,1149,120,2258,282,269,80,1711,16,5416380,8799792,3311,141,795,19736,1,284,14,50,23950482,4042143,1964,2935,159,1358,12220,3406,2605,1281,933008',kBL:'uqUL'};google.sn='webhp';google.kHL='de';})();(function(){\n",
      "var f=this||self;var h,k=[];function l(a){for(var b;a&&(!a.getAttribute||!(b=a.getAttribute(\"eid\")));)a=a.parentNode;return b||h}function m(a){for(var b=null;a&&(!a.getAttribute||!(b=a.getAttribute(\"leid\")));)a=a.parentNode;return b}\n",
      "function n(a,b,c,d,g){var e=\"\";c||-1!==b.search(\"&ei=\")||(e=\"&ei=\"+l(d),-1===b.search(\"&lei=\")&&(d=m(d))&&(e+=\"&lei=\"+d));d=\"\";!c&&f._cshid&&-1===b.search(\"&cshid=\")&&\"slh\"!==a&&(d=\"&cshid=\"+f._cshid);c=c||\"/\"+(g||\"gen_204\")+\"?atyp=i&ct=\"+a+\"&cad=\"+b+e+\"&zx=\"+Date.now()+d;/^http:/i.test(c)&&\"https:\"===window.location.protocol&&(google.ml&&google.ml(Error(\"a\"),!1,{src:c,glmm:1}),c=\"\");return c};h=google.kEI;google.getEI=l;google.getLEI=m;google.ml=function(){return null};google.log=function(a,b,c,d,g){if(c=n(a,b,c,d,g)){a=new Image;var e=k.length;k[e]=a;a.onerror=a.onload=a.onabort=function(){delete k[e]};a.src=c}};google.logUrl=n;}).call(this);(function(){\n",
      "google.y={};google.sy=[];google.x=function(a,b){if(a)var c=a.id;else{do c=Math.random();while(google.y[c])}google.y[c]=[a,b];return!1};google.sx=function(a){google.sy.push(a)};google.lm=[];google.plm=function(a){google.lm.push.apply(google.lm,a)};google.lq=[];google.load=function(a,b,c){google.lq.push([[a],b,c])};google.loadAll=function(a,b){google.lq.push([a,b])};google.bx=!1;google.lx=function(){};}).call(this);google.f={};(function(){\n",
      "document.documentElement.addEventListener(\"submit\",function(b){var a;if(a=b.target){var c=a.getAttribute(\"data-submitfalse\");a=\"1\"===c||\"q\"===c&&!a.elements.q.value?!0:!1}else a=!1;a&&(b.preventDefault(),b.stopPropagation())},!0);document.documentElement.addEventListener(\"click\",function(b){var a;a:{for(a=b.target;a&&a!==document.documentElement;a=a.parentElement)if(\"A\"===a.tagName){a=\"1\"===a.getAttribute(\"data-nohref\");break a}a=!1}a&&b.preventDefault()},!0);}).call(this);</script><style>#gbar,#guser{font-size:13px;padding-top:1px !important;}#gbar{height:22px}#guser{padding-bottom:7px !important;text-align:right}.gbh,.gbd{border-top:1px solid #c9d7f1;font-size:1px}.gbh{height:0;position:absolute;top:24px;width:100%}@media all{.gb1{height:22px;margin-right:.5em;vertical-align:top}#gbar{float:left}}a.gb1,a.gb4{text-decoration:underline !important}a.gb1,a.gb4{color:#00c !important}.gbi .gb4{color:#dd8e27 !important}.gbf .gb4{color:#900 !important}\n",
      "</style><style>body,td,a,p,.h{font-family:arial,sans-serif}body{margin:0;overflow-y:scroll}#gog{padding:3px 8px 0}td{line-height:.8em}.gac_m td{line-height:17px}form{margin-bottom:20px}.h{color:#1558d6}em{font-weight:bold;font-style:normal}.lst{height:25px;width:496px}.gsfi,.lst{font:18px arial,sans-serif}.gsfs{font:17px arial,sans-serif}.ds{display:inline-box;display:inline-block;margin:3px 0 4px;margin-left:4px}input{font-family:inherit}body{background:#fff;color:#000}a{color:#4b11a8;text-decoration:none}a:hover,a:active{text-decoration:underline}.fl a{color:#1558d6}a:visited{color:#4b11a8}.sblc{padding-top:5px}.sblc a{display:block;margin:2px 0;margin-left:13px;font-size:11px}.lsbb{background:#f8f9fa;border:solid 1px;border-color:#dadce0 #70757a #70757a #dadce0;height:30px}.lsbb{display:block}#WqQANb a{display:inline-block;margin:0 12px}.lsb{background:url(/images/nav_logo229.png) 0 -261px repeat-x;border:none;color:#000;cursor:pointer;height:30px;margin:0;outline:0;font:15px arial,sans-serif;vertical-align:top}.lsb:active{background:#dadce0}.lst:focus{outline:none}</style><script nonce=\"42ofyfj8a0OV_frCMpY-yA\">(function(){window.google.erd={jsr:1,bv:1589,de:true};\n",
      "var f=this||self;var g,h=null!=(g=f.mei)?g:1,m,n=null!=(m=f.sdo)?m:!0,p=0,q,r=google.erd,u=r.jsr;google.ml=function(a,b,d,k,c){c=void 0===c?2:c;b&&(q=a&&a.message);if(google.dl)return google.dl(a,c,d),null;if(0>u){window.console&&console.error(a,d);if(-2===u)throw a;b=!1}else b=!a||!a.message||\"Error loading script\"===a.message||p>=h&&!k?!1:!0;if(!b)return null;p++;d=d||{};var e=c;c=encodeURIComponent;b=\"/gen_204?atyp=i&ei=\"+c(google.kEI);google.kEXPI&&(b+=\"&jexpid=\"+c(google.kEXPI));b+=\"&srcpg=\"+c(google.sn)+\"&jsr=\"+c(r.jsr)+\"&bver=\"+c(r.bv)+(\"&jsel=\"+e);e=a.lineNumber;void 0!==e&&(b+=\"&line=\"+\n",
      "e);var l=a.fileName;l&&(b+=\"&script=\"+c(l),e&&l===window.location.href&&(e=document.documentElement.outerHTML.split(\"\\n\")[e],b+=\"&cad=\"+c(e?e.substring(0,300):\"No script found.\")));for(var t in d)b+=\"&\",b+=c(t),b+=\"=\",b+=c(d[t]);b=b+\"&emsg=\"+c(a.name+\": \"+a.message);b=b+\"&jsst=\"+c(a.stack||\"N/A\");12288<=b.length&&(b=b.substr(0,12288));a=b;k||google.log(0,\"\",a);return a};window.onerror=function(a,b,d,k,c){q!==a&&(a=c instanceof Error?c:Error(a),void 0===d||\"lineNumber\"in a||(a.lineNumber=d),void 0===b||\"fileName\"in a||(a.fileName=b),google.ml(a,!1,void 0,!1,\"SyntaxError\"===a.name||\"SyntaxError\"===a.message.substring(0,11)?2:0));q=null;n&&p>=h&&(window.onerror=null)};})();</script></head><body bgcolor=\"#fff\"><script nonce=\"42ofyfj8a0OV_frCMpY-yA\">(function(){var src='/images/nav_logo229.png';var iesg=false;document.body.onload = function(){window.n && window.n();if (document.images){new Image().src=src;}\n",
      "if (!iesg){document.f&&document.f.q.focus();document.gbqf&&document.gbqf.q.focus();}\n",
      "}\n",
      "})();</script><div id=\"mngb\"><div id=gbar><nobr><b class=gb1>Suche</b> <a class=gb1 href=\"https://www.google.de/imghp?hl=de&tab=wi\">Bilder</a> <a class=gb1 href=\"https://maps.google.de/maps?hl=de&tab=wl\">Maps</a> <a class=gb1 href=\"https://play.google.com/?hl=de&tab=w8\">Play</a> <a class=gb1 href=\"https://www.youtube.com/?gl=DE&tab=w1\">YouTube</a> <a class=gb1 href=\"https://news.google.com/?tab=wn\">News</a> <a class=gb1 href=\"https://mail.google.com/mail/?tab=wm\">Gmail</a> <a class=gb1 href=\"https://drive.google.com/?tab=wo\">Drive</a> <a class=gb1 style=\"text-decoration:none\" href=\"https://www.google.de/intl/de/about/products?tab=wh\"><u>Mehr</u> &raquo;</a></nobr></div><div id=guser width=100%><nobr><span id=gbn class=gbi></span><span id=gbf class=gbf></span><span id=gbe></span><a href=\"http://www.google.de/history/optout?hl=de\" class=gb4>Webprotokoll</a> | <a  href=\"/preferences?hl=de\" class=gb4>Einstellungen</a> | <a target=_top id=gb_70 href=\"https://accounts.google.com/ServiceLogin?hl=de&passive=true&continue=https://www.google.com/&ec=GAZAAQ\" class=gb4>Anmelden</a></nobr></div><div class=gbh style=left:0></div><div class=gbh style=right:0></div></div><center><br clear=\"all\" id=\"lgpd\"><div id=\"lga\"><img alt=\"Google\" height=\"92\" src=\"/images/branding/googlelogo/1x/googlelogo_white_background_color_272x92dp.png\" style=\"padding:28px 0 14px\" width=\"272\" id=\"hplogo\"><br><br></div><form action=\"/search\" name=\"f\"><table cellpadding=\"0\" cellspacing=\"0\"><tr valign=\"top\"><td width=\"25%\">&nbsp;</td><td align=\"center\" nowrap=\"\"><input name=\"ie\" value=\"ISO-8859-1\" type=\"hidden\"><input value=\"de\" name=\"hl\" type=\"hidden\"><input name=\"source\" type=\"hidden\" value=\"hp\"><input name=\"biw\" type=\"hidden\"><input name=\"bih\" type=\"hidden\"><div class=\"ds\" style=\"height:32px;margin:4px 0\"><input class=\"lst\" style=\"margin:0;padding:5px 8px 0 6px;vertical-align:top;color:#000\" autocomplete=\"off\" value=\"\" title=\"Google Suche\" maxlength=\"2048\" name=\"q\" size=\"57\"></div><br style=\"line-height:0\"><span class=\"ds\"><span class=\"lsbb\"><input class=\"lsb\" value=\"Google Suche\" name=\"btnG\" type=\"submit\"></span></span><span class=\"ds\"><span class=\"lsbb\"><input class=\"lsb\" id=\"tsuid1\" value=\"Auf gut Glück!\" name=\"btnI\" type=\"submit\"><script nonce=\"42ofyfj8a0OV_frCMpY-yA\">(function(){var id='tsuid1';document.getElementById(id).onclick = function(){if (this.form.q.value){this.checked = 1;if (this.form.iflsig)this.form.iflsig.disabled = false;}\n",
      "else top.location='/doodles/';};})();</script><input value=\"AJiK0e8AAAAAYpCoBojgPBelz1Xt6xKJb-HZBp9GCWaP\" name=\"iflsig\" type=\"hidden\"></span></span></td><td class=\"fl sblc\" align=\"left\" nowrap=\"\" width=\"25%\"><a href=\"/advanced_search?hl=de&amp;authuser=0\">Erweiterte Suche</a></td></tr></table><input id=\"gbv\" name=\"gbv\" type=\"hidden\" value=\"1\"><script nonce=\"42ofyfj8a0OV_frCMpY-yA\">(function(){\n",
      "var a,b=\"1\";if(document&&document.getElementById)if(\"undefined\"!=typeof XMLHttpRequest)b=\"2\";else if(\"undefined\"!=typeof ActiveXObject){var c,d,e=[\"MSXML2.XMLHTTP.6.0\",\"MSXML2.XMLHTTP.3.0\",\"MSXML2.XMLHTTP\",\"Microsoft.XMLHTTP\"];for(c=0;d=e[c++];)try{new ActiveXObject(d),b=\"2\"}catch(h){}}a=b;if(\"2\"==a&&-1==location.search.indexOf(\"&gbv=2\")){var f=google.gbvu,g=document.getElementById(\"gbv\");g&&(g.value=a);f&&window.setTimeout(function(){location.href=f},0)};}).call(this);</script></form><div id=\"gac_scont\"></div><div style=\"font-size:83%;min-height:3.5em\"><br><div id=\"prm\"><style>.szppmdbYutt__middle-slot-promo{font-size:small;margin-bottom:32px}.szppmdbYutt__middle-slot-promo a.ZIeIlb{display:inline-block;text-decoration:none}.szppmdbYutt__middle-slot-promo img{border:none;margin-right:5px;vertical-align:middle}</style><div class=\"szppmdbYutt__middle-slot-promo\" data-ved=\"0ahUKEwjc4Y6Kr__3AhWpQ_EDHXs-D54QnIcBCAQ\"><a class=\"NKcBbd\" href=\"https://www.google.com/url?q=https://artsexperiments.withgoogle.com/meroe/%3Fhl%3Dde%26utm_source%3Dgoogle%26utm_medium%3Dhppromo%26utm_campaign%3Dmeroepyramids&amp;source=hpp&amp;id=19029570&amp;ct=3&amp;usg=AOvVaw02KiwXdHj_bivVkxNcBEJI&amp;sa=X&amp;ved=0ahUKEwjc4Y6Kr__3AhWpQ_EDHXs-D54Q8IcBCAU\" rel=\"nofollow\">Entdecke die Pyramiden von Meroe</a><span>: vom Sudan in die ganze Welt</span></div></div></div><span id=\"footer\"><div style=\"font-size:10pt\"><div style=\"margin:19px auto;text-align:center\" id=\"WqQANb\"><a href=\"/intl/de/ads/\">Werben mit Google</a><a href=\"/services/\">Unternehmensangebote</a><a href=\"/intl/de/about.html\">Über Google</a><a href=\"https://www.google.com/setprefdomain?prefdom=DE&amp;prev=https://www.google.de/&amp;sig=K_ehN76ADaweA2Ybt2iOCufCCiQ4A%3D\">Google.de</a></div></div><p style=\"font-size:8pt;color:#70757a\">&copy; 2022 - <a href=\"/intl/de/policies/privacy/\">Datenschutzerklärung</a> - <a href=\"/intl/de/policies/terms/\">Nutzungsbedingungen</a></p></span></center><script nonce=\"42ofyfj8a0OV_frCMpY-yA\">(function(){window.google.cdo={height:757,width:1440};(function(){\n",
      "var a=window.innerWidth,b=window.innerHeight;if(!a||!b){var c=window.document,d=\"CSS1Compat\"==c.compatMode?c.documentElement:c.body;a=d.clientWidth;b=d.clientHeight}a&&b&&(a!=google.cdo.width||b!=google.cdo.height)&&google.log(\"\",\"\",\"/client_204?&atyp=i&biw=\"+a+\"&bih=\"+b+\"&ei=\"+google.kEI);}).call(this);})();</script> <script nonce=\"42ofyfj8a0OV_frCMpY-yA\">(function(){google.xjs={ck:'',cs:'',excm:[]};})();</script>  <script nonce=\"42ofyfj8a0OV_frCMpY-yA\">(function(){var u='/xjs/_/js/k\\x3dxjs.hp.en.QS0wppj-n_s.O/am\\x3dAOAJAEACkA/d\\x3d1/ed\\x3d1/esmo\\x3d1/rs\\x3dACT90oHg8XuqTx85y27h83fTp4ceKku9vw/m\\x3dsb_he,d';\n",
      "var d=this||self,e=function(a){return a};var g;var l=function(a,b){this.g=b===h?a:\"\"};l.prototype.toString=function(){return this.g+\"\"};var h={};\n",
      "function n(){var a=u;google.lx=function(){p(a);google.lx=function(){}};google.bx||google.lx()}\n",
      "function p(a){google.timers&&google.timers.load&&google.tick&&google.tick(\"load\",\"xjsls\");var b=document;var c=\"SCRIPT\";\"application/xhtml+xml\"===b.contentType&&(c=c.toLowerCase());c=b.createElement(c);if(void 0===g){b=null;var k=d.trustedTypes;if(k&&k.createPolicy){try{b=k.createPolicy(\"goog#html\",{createHTML:e,createScript:e,createScriptURL:e})}catch(q){d.console&&d.console.error(q.message)}g=b}else g=b}a=(b=g)?b.createScriptURL(a):a;a=new l(a,h);c.src=a instanceof l&&a.constructor===l?a.g:\"type_error:TrustedResourceUrl\";var f,m;(f=(a=null==(m=(f=(c.ownerDocument&&c.ownerDocument.defaultView||window).document).querySelector)?void 0:m.call(f,\"script[nonce]\"))?a.nonce||a.getAttribute(\"nonce\")||\"\":\"\")&&c.setAttribute(\"nonce\",f);document.body.appendChild(c);google.psa=!0};google.xjsu=u;setTimeout(function(){n()},0);})();function _DumpException(e){throw e;}\n",
      "function _F_installCss(c){}\n",
      "(function(){google.jl={attn:false,blt:'none',chnk:0,dw:false,dwu:true,emtn:0,end:0,ine:false,injs:'none',injt:0,lls:'default',pdt:0,rep:0,snet:true,strt:0,ubm:false,uwp:true};})();(function(){var pmc='{\\x22d\\x22:{},\\x22sb_he\\x22:{\\x22agen\\x22:true,\\x22cgen\\x22:true,\\x22client\\x22:\\x22heirloom-hp\\x22,\\x22dh\\x22:true,\\x22dhqt\\x22:true,\\x22ds\\x22:\\x22\\x22,\\x22ffql\\x22:\\x22de\\x22,\\x22fl\\x22:true,\\x22host\\x22:\\x22google.com\\x22,\\x22isbh\\x22:28,\\x22jsonp\\x22:true,\\x22lm\\x22:true,\\x22msgs\\x22:{\\x22cibl\\x22:\\x22Suche löschen\\x22,\\x22dym\\x22:\\x22Meintest du:\\x22,\\x22lcky\\x22:\\x22Auf gut Glück!\\x22,\\x22lml\\x22:\\x22Weitere Informationen\\x22,\\x22oskt\\x22:\\x22Eingabetools\\x22,\\x22psrc\\x22:\\x22Diese Suchanfrage wurde aus deinem \\\\u003Ca href\\x3d\\\\\\x22/history\\\\\\x22\\\\u003EWebprotokoll\\\\u003C/a\\\\u003E entfernt.\\x22,\\x22psrl\\x22:\\x22Entfernen\\x22,\\x22sbit\\x22:\\x22Bildersuche\\x22,\\x22srch\\x22:\\x22Google Suche\\x22},\\x22ovr\\x22:{},\\x22pq\\x22:\\x22\\x22,\\x22refpd\\x22:true,\\x22rfs\\x22:[],\\x22sbas\\x22:\\x220 3px 8px 0 rgba(0,0,0,0.2),0 0 0 1px rgba(0,0,0,0.08)\\x22,\\x22sbpl\\x22:16,\\x22sbpr\\x22:16,\\x22scd\\x22:10,\\x22stok\\x22:\\x22I6qrjMCTpASgcvwoMGflnJnCnA0\\x22,\\x22uhde\\x22:false}}';google.pmc=JSON.parse(pmc);})();</script>        </body></html>\n"
     ]
    }
   ],
   "source": [
    "# example using requests\n",
    "import requests\n",
    "\n",
    "r = requests.get('https://www.google.com')\n",
    "print(r.text)"
   ]
  },
  {
   "cell_type": "markdown",
   "metadata": {
    "slideshow": {
     "slide_type": "subslide"
    }
   },
   "source": [
    "### How to get structured information from Websites?\n",
    "#### BeautifulSoup\n",
    "* Docu: https://beautiful-soup-4.readthedocs.io/en/latest/\n"
   ]
  },
  {
   "cell_type": "markdown",
   "metadata": {
    "slideshow": {
     "slide_type": "subslide"
    }
   },
   "source": [
    "* Example for news website: https://news.ycombinator.com"
   ]
  },
  {
   "cell_type": "code",
   "execution_count": 7,
   "metadata": {
    "slideshow": {
     "slide_type": "fragment"
    }
   },
   "outputs": [],
   "source": [
    "import requests\n",
    "from bs4 import BeautifulSoup\n",
    "\n",
    "r = requests.get('https://news.ycombinator.com')\n",
    "soup = BeautifulSoup(r.text, 'html.parser')\n",
    "links = soup.findAll('tr', class_='athing')\n",
    "\n",
    "formatted_links = []\n",
    "\n",
    "for link in links:\n",
    "    data = {\n",
    "        'id': link['id'],\n",
    "        'title': link.find_all('td')[2].a.text,\n",
    "        \"url\": link.find_all('td')[2].a['href'],\n",
    "        \"rank\": int(links[0].td.span.text.replace('.', ''))\n",
    "    }\n",
    "    formatted_links.append(data)\n",
    "\n"
   ]
  },
  {
   "cell_type": "code",
   "execution_count": 8,
   "metadata": {
    "scrolled": true,
    "slideshow": {
     "slide_type": "subslide"
    }
   },
   "outputs": [
    {
     "name": "stdout",
     "output_type": "stream",
     "text": [
      "{'id': '31526370', 'title': 'Today’s JavaScript, from an outsider’s perspective (2020)', 'url': 'https://lea.verou.me/2020/05/todays-javascript-from-an-outsiders-perspective/', 'rank': 1}\n",
      "{'id': '31525505', 'title': 'Ultra compact GAN ATX power supply delivers up to 250 Watts', 'url': 'https://www.cnx-software.com/2022/05/26/ultra-compact-gan-atx-power-supply-delivers-up-to-250-watts/', 'rank': 1}\n",
      "{'id': '31525792', 'title': 'Internet drama in Canada', 'url': 'https://www.nytimes.com/2022/05/26/technology/canada-internet-service.html', 'rank': 1}\n",
      "{'id': '31526231', 'title': 'Organice: An implementation of Org mode without the dependency of Emacs', 'url': 'https://github.com/200ok-ch/organice', 'rank': 1}\n",
      "{'id': '31526044', 'title': 'NPM security update: Attack campaign using stolen OAuth tokens', 'url': 'https://github.blog/2022-05-26-npm-security-update-oauth-tokens/', 'rank': 1}\n",
      "{'id': '31524669', 'title': 'What are the odds that some idiot will name his mutex ether-rot-mutex (2017)', 'url': 'http://etherrotmutex.blogspot.com/2017/07/what-are-odds-that-some-idiot-will-name.html', 'rank': 1}\n",
      "{'id': '31525941', 'title': 'The Truth about Inflation', 'url': 'https://economicsfromthetopdown.com/2021/11/24/the-truth-about-inflation/', 'rank': 1}\n",
      "{'id': '31524943', 'title': 'In search of the least viewed article on Wikipedia', 'url': 'http://colinmorris.github.io/blog/unpopular-wiki-articles', 'rank': 1}\n",
      "{'id': '31526002', 'title': 'Cannoli: The Fast QEMU Tracer', 'url': 'https://margin.re/blog/cannoli-the-fast-qemu-tracer.aspx', 'rank': 1}\n",
      "{'id': '31524597', 'title': 'Rash of parts thefts is leaving Freightliner trucks inoperable', 'url': 'https://www.freightwaves.com/news/thefts-of-powertrain-modules-plague-daimler-truck', 'rank': 1}\n"
     ]
    }
   ],
   "source": [
    "for i in  range(10):\n",
    "    print(formatted_links[i])"
   ]
  },
  {
   "cell_type": "code",
   "execution_count": 9,
   "metadata": {
    "slideshow": {
     "slide_type": "subslide"
    }
   },
   "outputs": [],
   "source": [
    "#another example\n",
    "html_doc = \"\"\"\n",
    "<html><head><title>The Dormouse's story</title></head>\n",
    "<body>\n",
    "<p class=\"title\"><b>The Dormouse's story</b></p>\n",
    "\n",
    "<p class=\"story\">Once upon a time there were three little sisters; and their names were\n",
    "<a href=\"http://example.com/elsie\" class=\"sister\" id=\"link1\">Elsie</a>,\n",
    "<a href=\"http://example.com/lacie\" class=\"sister\" id=\"link2\">Lacie</a> and\n",
    "<a href=\"http://example.com/tillie\" class=\"sister\" id=\"link3\">Tillie</a>;\n",
    "and they lived at the bottom of a well.</p>\n",
    "\n",
    "<p class=\"story\">...</p>\n",
    "\"\"\""
   ]
  },
  {
   "cell_type": "code",
   "execution_count": 10,
   "metadata": {
    "slideshow": {
     "slide_type": "subslide"
    }
   },
   "outputs": [],
   "source": [
    "from bs4 import BeautifulSoup\n",
    "soup = BeautifulSoup(html_doc, 'html.parser')"
   ]
  },
  {
   "cell_type": "code",
   "execution_count": 11,
   "metadata": {
    "slideshow": {
     "slide_type": "fragment"
    }
   },
   "outputs": [
    {
     "data": {
      "text/plain": [
       "\"The Dormouse's story\""
      ]
     },
     "execution_count": 11,
     "metadata": {},
     "output_type": "execute_result"
    }
   ],
   "source": [
    "#get the clean title\n",
    "soup.title.string"
   ]
  },
  {
   "cell_type": "code",
   "execution_count": 12,
   "metadata": {
    "slideshow": {
     "slide_type": "fragment"
    }
   },
   "outputs": [
    {
     "name": "stdout",
     "output_type": "stream",
     "text": [
      "http://example.com/elsie\n",
      "http://example.com/lacie\n",
      "http://example.com/tillie\n"
     ]
    }
   ],
   "source": [
    "#iterate over all links\n",
    "for link in soup.find_all('a'):\n",
    "    print(link.get('href'))"
   ]
  },
  {
   "cell_type": "code",
   "execution_count": 13,
   "metadata": {
    "scrolled": false,
    "slideshow": {
     "slide_type": "subslide"
    }
   },
   "outputs": [
    {
     "name": "stdout",
     "output_type": "stream",
     "text": [
      "\n",
      "The Dormouse's story\n",
      "\n",
      "The Dormouse's story\n",
      "Once upon a time there were three little sisters; and their names were\n",
      "Elsie,\n",
      "Lacie and\n",
      "Tillie;\n",
      "and they lived at the bottom of a well.\n",
      "...\n",
      "\n"
     ]
    }
   ],
   "source": [
    "#get all text\n",
    "print(soup.get_text())"
   ]
  },
  {
   "cell_type": "markdown",
   "metadata": {
    "slideshow": {
     "slide_type": "subslide"
    }
   },
   "source": [
    "#### get table and convert to pandas\n",
    "Examle: https://www.w3schools.com/html/html_tables.asp"
   ]
  },
  {
   "cell_type": "code",
   "execution_count": 14,
   "metadata": {
    "slideshow": {
     "slide_type": "-"
    }
   },
   "outputs": [],
   "source": [
    "import bs4 as bs\n",
    "import urllib.request\n",
    "import pandas as pd\n",
    "\n",
    "source = urllib.request.urlopen('https://www.w3schools.com/html/html_tables.asp').read()\n",
    "soup = bs.BeautifulSoup(source,'lxml')\n",
    "\n",
    "table = soup.find_all('table')\n",
    "df = pd.read_html(str(table))[0]"
   ]
  },
  {
   "cell_type": "code",
   "execution_count": 15,
   "metadata": {
    "slideshow": {
     "slide_type": "-"
    }
   },
   "outputs": [
    {
     "data": {
      "text/html": [
       "<div>\n",
       "<style scoped>\n",
       "    .dataframe tbody tr th:only-of-type {\n",
       "        vertical-align: middle;\n",
       "    }\n",
       "\n",
       "    .dataframe tbody tr th {\n",
       "        vertical-align: top;\n",
       "    }\n",
       "\n",
       "    .dataframe thead th {\n",
       "        text-align: right;\n",
       "    }\n",
       "</style>\n",
       "<table border=\"1\" class=\"dataframe\">\n",
       "  <thead>\n",
       "    <tr style=\"text-align: right;\">\n",
       "      <th></th>\n",
       "      <th>Company</th>\n",
       "      <th>Contact</th>\n",
       "      <th>Country</th>\n",
       "    </tr>\n",
       "  </thead>\n",
       "  <tbody>\n",
       "    <tr>\n",
       "      <th>0</th>\n",
       "      <td>Alfreds Futterkiste</td>\n",
       "      <td>Maria Anders</td>\n",
       "      <td>Germany</td>\n",
       "    </tr>\n",
       "    <tr>\n",
       "      <th>1</th>\n",
       "      <td>Centro comercial Moctezuma</td>\n",
       "      <td>Francisco Chang</td>\n",
       "      <td>Mexico</td>\n",
       "    </tr>\n",
       "    <tr>\n",
       "      <th>2</th>\n",
       "      <td>Ernst Handel</td>\n",
       "      <td>Roland Mendel</td>\n",
       "      <td>Austria</td>\n",
       "    </tr>\n",
       "    <tr>\n",
       "      <th>3</th>\n",
       "      <td>Island Trading</td>\n",
       "      <td>Helen Bennett</td>\n",
       "      <td>UK</td>\n",
       "    </tr>\n",
       "    <tr>\n",
       "      <th>4</th>\n",
       "      <td>Laughing Bacchus Winecellars</td>\n",
       "      <td>Yoshi Tannamuri</td>\n",
       "      <td>Canada</td>\n",
       "    </tr>\n",
       "  </tbody>\n",
       "</table>\n",
       "</div>"
      ],
      "text/plain": [
       "                        Company          Contact  Country\n",
       "0           Alfreds Futterkiste     Maria Anders  Germany\n",
       "1    Centro comercial Moctezuma  Francisco Chang   Mexico\n",
       "2                  Ernst Handel    Roland Mendel  Austria\n",
       "3                Island Trading    Helen Bennett       UK\n",
       "4  Laughing Bacchus Winecellars  Yoshi Tannamuri   Canada"
      ]
     },
     "execution_count": 15,
     "metadata": {},
     "output_type": "execute_result"
    }
   ],
   "source": [
    "df.head()"
   ]
  },
  {
   "cell_type": "markdown",
   "metadata": {
    "slideshow": {
     "slide_type": "slide"
    }
   },
   "source": [
    "## Scaling Web-Scaraping wiht Scrapy\n",
    "#### Crowling the web\n",
    "\n",
    "<img SRC=\"IMG/scrapy.jpg\">\n",
    "\n",
    "#### [https://scrapy.org/](https://scrapy.org/)"
   ]
  },
  {
   "cell_type": "markdown",
   "metadata": {
    "slideshow": {
     "slide_type": "subslide"
    }
   },
   "source": [
    "#### Example\n",
    "\n",
    "Scraping [http://quotes.toscrape.com/page/1/](http://quotes.toscrape.com/page/1/)"
   ]
  },
  {
   "cell_type": "code",
   "execution_count": 16,
   "metadata": {
    "slideshow": {
     "slide_type": "subslide"
    }
   },
   "outputs": [
    {
     "name": "stdout",
     "output_type": "stream",
     "text": [
      "Overwriting myCrwler.py\n"
     ]
    }
   ],
   "source": [
    "%%writefile myCrwler.py \n",
    "\n",
    "import scrapy\n",
    "from scrapy.spiders import CrawlSpider, Rule\n",
    "from scrapy.linkextractors import LinkExtractor\n",
    "\n",
    "class TheFriendlyNeighbourhoodSpider(CrawlSpider):\n",
    "    name = 'TheFriendlyNeighbourhoodSpider'\n",
    "\n",
    "    allowed_domains = ['quotes.toscrape.com']\n",
    "    start_urls = ['http://quotes.toscrape.com/page/1/']\n",
    "\n",
    "    custom_settings = {\n",
    "    'LOG_LEVEL': 'INFO'\n",
    "    }\n",
    "\n",
    "    rules = (\n",
    "        Rule(LinkExtractor(), callback='parse_item', follow=True),\n",
    "    )\n",
    "\n",
    "\n",
    "    def parse_item(self, response):\n",
    "        print('Downloaded... ', response.url)\n",
    "        filename = \"download/\"+str(response.url.split(\"/\")[-2]) +  '.html'\n",
    "        print('Saving as :', filename)\n",
    "        with open(filename, 'wb') as f:\n",
    "            f.write(response.body)"
   ]
  },
  {
   "cell_type": "markdown",
   "metadata": {
    "slideshow": {
     "slide_type": "subslide"
    }
   },
   "source": [
    "### Run in Shell:"
   ]
  },
  {
   "cell_type": "code",
   "execution_count": 17,
   "metadata": {
    "scrolled": false,
    "slideshow": {
     "slide_type": "-"
    }
   },
   "outputs": [
    {
     "name": "stdout",
     "output_type": "stream",
     "text": [
      "mkdir: cannot create directory ‘download’: File exists\n",
      "2022-05-27 11:29:28 [scrapy.utils.log] INFO: Scrapy 2.5.1 started (bot: scrapybot)\n",
      "2022-05-27 11:29:28 [scrapy.utils.log] INFO: Versions: lxml 4.5.0.0, libxml2 2.9.9, cssselect 1.1.0, parsel 1.6.0, w3lib 1.22.0, Twisted 21.7.0, Python 3.7.6 (default, Jan  8 2020, 19:59:22) - [GCC 7.3.0], pyOpenSSL 19.1.0 (OpenSSL 1.1.1k  25 Mar 2021), cryptography 2.8, Platform Linux-4.15.0-177-generic-x86_64-with-debian-buster-sid\n",
      "2022-05-27 11:29:28 [scrapy.utils.log] DEBUG: Using reactor: twisted.internet.epollreactor.EPollReactor\n",
      "2022-05-27 11:29:28 [scrapy.crawler] INFO: Overridden settings:\n",
      "{'LOG_LEVEL': 'INFO', 'SPIDER_LOADER_WARN_ONLY': True}\n",
      "2022-05-27 11:29:28 [scrapy.extensions.telnet] INFO: Telnet Password: 79e269613073f4a3\n",
      "2022-05-27 11:29:28 [scrapy.middleware] INFO: Enabled extensions:\n",
      "['scrapy.extensions.corestats.CoreStats',\n",
      " 'scrapy.extensions.telnet.TelnetConsole',\n",
      " 'scrapy.extensions.memusage.MemoryUsage',\n",
      " 'scrapy.extensions.logstats.LogStats']\n",
      "2022-05-27 11:29:28 [scrapy.middleware] INFO: Enabled downloader middlewares:\n",
      "['scrapy.downloadermiddlewares.httpauth.HttpAuthMiddleware',\n",
      " 'scrapy.downloadermiddlewares.downloadtimeout.DownloadTimeoutMiddleware',\n",
      " 'scrapy.downloadermiddlewares.defaultheaders.DefaultHeadersMiddleware',\n",
      " 'scrapy.downloadermiddlewares.useragent.UserAgentMiddleware',\n",
      " 'scrapy.downloadermiddlewares.retry.RetryMiddleware',\n",
      " 'scrapy.downloadermiddlewares.redirect.MetaRefreshMiddleware',\n",
      " 'scrapy.downloadermiddlewares.httpcompression.HttpCompressionMiddleware',\n",
      " 'scrapy.downloadermiddlewares.redirect.RedirectMiddleware',\n",
      " 'scrapy.downloadermiddlewares.cookies.CookiesMiddleware',\n",
      " 'scrapy.downloadermiddlewares.httpproxy.HttpProxyMiddleware',\n",
      " 'scrapy.downloadermiddlewares.stats.DownloaderStats']\n",
      "2022-05-27 11:29:28 [scrapy.middleware] INFO: Enabled spider middlewares:\n",
      "['scrapy.spidermiddlewares.httperror.HttpErrorMiddleware',\n",
      " 'scrapy.spidermiddlewares.offsite.OffsiteMiddleware',\n",
      " 'scrapy.spidermiddlewares.referer.RefererMiddleware',\n",
      " 'scrapy.spidermiddlewares.urllength.UrlLengthMiddleware',\n",
      " 'scrapy.spidermiddlewares.depth.DepthMiddleware']\n",
      "2022-05-27 11:29:28 [scrapy.middleware] INFO: Enabled item pipelines:\n",
      "[]\n",
      "2022-05-27 11:29:28 [scrapy.core.engine] INFO: Spider opened\n",
      "2022-05-27 11:29:28 [scrapy.extensions.logstats] INFO: Crawled 0 pages (at 0 pages/min), scraped 0 items (at 0 items/min)\n",
      "2022-05-27 11:29:28 [scrapy.extensions.telnet] INFO: Telnet console listening on 127.0.0.1:6023\n",
      "Downloaded...  http://quotes.toscrape.com/\n",
      "Saving as : download/quotes.toscrape.com.html\n",
      "Downloaded...  http://quotes.toscrape.com/tag/inspirational/\n",
      "Saving as : download/inspirational.html\n",
      "Downloaded...  http://quotes.toscrape.com/tag/truth/\n",
      "Saving as : download/truth.html\n",
      "Downloaded...  http://quotes.toscrape.com/tag/reading/\n",
      "Saving as : download/reading.html\n",
      "Downloaded...  http://quotes.toscrape.com/tag/friends/\n",
      "Saving as : download/friends.html\n",
      "Downloaded...  http://quotes.toscrape.com/tag/life/\n",
      "Saving as : download/life.html\n",
      "Downloaded...  http://quotes.toscrape.com/tag/friendship/\n",
      "Saving as : download/friendship.html\n",
      "Downloaded...  http://quotes.toscrape.com/tag/humor/\n",
      "Saving as : download/humor.html\n",
      "Downloaded...  http://quotes.toscrape.com/tag/books/\n",
      "Saving as : download/books.html\n",
      "Downloaded...  http://quotes.toscrape.com/tag/love/\n",
      "Saving as : download/love.html\n",
      "Downloaded...  http://quotes.toscrape.com/tag/obvious/page/1/\n",
      "Saving as : download/1.html\n",
      "Downloaded...  http://quotes.toscrape.com/page/2/\n",
      "Saving as : download/2.html\n",
      "Downloaded...  http://quotes.toscrape.com/tag/misattributed-eleanor-roosevelt/page/1/\n",
      "Saving as : download/1.html\n",
      "Downloaded...  http://quotes.toscrape.com/tag/simile/page/1/\n",
      "Saving as : download/1.html\n",
      "Downloaded...  http://quotes.toscrape.com/tag/simile/\n",
      "Saving as : download/simile.html\n",
      "Downloaded...  http://quotes.toscrape.com/tag/failure/page/1/\n",
      "Saving as : download/1.html\n",
      "Downloaded...  http://quotes.toscrape.com/tag/paraphrased/page/1/\n",
      "Saving as : download/1.html\n",
      "Downloaded...  http://quotes.toscrape.com/tag/value/page/1/\n",
      "Saving as : download/1.html\n",
      "Downloaded...  http://quotes.toscrape.com/tag/love/page/1/\n",
      "Saving as : download/1.html\n",
      "Downloaded...  http://quotes.toscrape.com/tag/edison/page/1/\n",
      "Saving as : download/1.html\n",
      "Downloaded...  http://quotes.toscrape.com/tag/success/page/1/\n",
      "Saving as : download/1.html\n",
      "Downloaded...  http://quotes.toscrape.com/author/Eleanor-Roosevelt/\n",
      "Saving as : download/Eleanor-Roosevelt.html\n",
      "Downloaded...  http://quotes.toscrape.com/tag/writers/page/1/\n",
      "Saving as : download/1.html\n",
      "Downloaded...  http://quotes.toscrape.com/tag/write/page/1/\n",
      "Saving as : download/1.html\n",
      "Downloaded...  http://quotes.toscrape.com/author/Steve-Martin/\n",
      "Saving as : download/Steve-Martin.html\n",
      "Downloaded...  http://quotes.toscrape.com/tag/books/page/2/\n",
      "Saving as : download/2.html\n",
      "Downloaded...  http://quotes.toscrape.com/tag/difficult/page/1/\n",
      "Saving as : download/1.html\n",
      "Downloaded...  http://quotes.toscrape.com/tag/grown-ups/page/1/\n",
      "Saving as : download/1.html\n",
      "Downloaded...  http://quotes.toscrape.com/tag/children/page/1/\n",
      "Saving as : download/1.html\n",
      "Downloaded...  http://quotes.toscrape.com/author/Andre-Gide/\n",
      "Saving as : download/Andre-Gide.html\n",
      "Downloaded...  http://quotes.toscrape.com/author/Thomas-A-Edison/\n",
      "Saving as : download/Thomas-A-Edison.html\n",
      "Downloaded...  http://quotes.toscrape.com/tag/understand/page/1/\n",
      "Saving as : download/1.html\n",
      "Downloaded...  http://quotes.toscrape.com/tag/romance/page/1/\n",
      "Saving as : download/1.html\n",
      "Downloaded...  http://quotes.toscrape.com/page/1/\n",
      "Saving as : download/1.html\n",
      "Downloaded...  http://quotes.toscrape.com/page/3/\n",
      "Saving as : download/3.html\n",
      "Downloaded...  http://quotes.toscrape.com/tag/fantasy/page/1/\n",
      "Saving as : download/1.html\n",
      "Downloaded...  http://quotes.toscrape.com/tag/simplicity/page/1/\n",
      "Saving as : download/1.html\n",
      "Downloaded...  http://quotes.toscrape.com/tag/misattributed-to-mother-teresa/page/1/\n",
      "Saving as : download/1.html\n",
      "Downloaded...  http://quotes.toscrape.com/tag/drug/page/1/\n",
      "Saving as : download/1.html\n",
      "Downloaded...  http://quotes.toscrape.com/tag/love/page/2/\n",
      "Saving as : download/2.html\n",
      "Downloaded...  http://quotes.toscrape.com/tag/girls/page/1/\n",
      "Saving as : download/1.html\n",
      "Downloaded...  http://quotes.toscrape.com/tag/poetry/page/1/\n",
      "Saving as : download/1.html\n",
      "Downloaded...  http://quotes.toscrape.com/tag/fairy-tales/page/1/\n",
      "Saving as : download/1.html\n",
      "Downloaded...  http://quotes.toscrape.com/tag/mind/page/1/\n",
      "Saving as : download/1.html\n",
      "Downloaded...  http://quotes.toscrape.com/tag/thought/page/1/\n",
      "Saving as : download/1.html\n",
      "Downloaded...  http://quotes.toscrape.com/tag/humor/page/2/\n",
      "Saving as : download/2.html\n",
      "Downloaded...  http://quotes.toscrape.com/author/Stephenie-Meyer/\n",
      "Saving as : download/Stephenie-Meyer.html\n",
      "Downloaded...  http://quotes.toscrape.com/author/James-Baldwin/\n",
      "Saving as : download/James-Baldwin.html\n",
      "Downloaded...  http://quotes.toscrape.com/author/Mother-Teresa/\n",
      "Saving as : download/Mother-Teresa.html\n",
      "Downloaded...  http://quotes.toscrape.com/page/4/\n",
      "Saving as : download/4.html\n",
      "Downloaded...  http://quotes.toscrape.com/tag/music/page/1/\n",
      "Saving as : download/1.html\n",
      "Downloaded...  http://quotes.toscrape.com/tag/happiness/page/1/\n",
      "Saving as : download/1.html\n",
      "Downloaded...  http://quotes.toscrape.com/tag/imagination/page/1/\n",
      "Saving as : download/1.html\n",
      "Downloaded...  http://quotes.toscrape.com/tag/attributed-no-source/page/1/\n",
      "Saving as : download/1.html\n",
      "Downloaded...  http://quotes.toscrape.com/author/Pablo-Neruda/\n",
      "Saving as : download/Pablo-Neruda.html\n",
      "Downloaded...  http://quotes.toscrape.com/tag/adventure/page/1/\n",
      "Saving as : download/1.html\n",
      "Downloaded...  http://quotes.toscrape.com/author/Madeleine-LEngle/\n",
      "Saving as : download/Madeleine-LEngle.html\n",
      "Downloaded...  http://quotes.toscrape.com/tag/romantic/page/1/\n",
      "Saving as : download/1.html\n",
      "Downloaded...  http://quotes.toscrape.com/author/Haruki-Murakami/\n",
      "Saving as : download/Haruki-Murakami.html\n",
      "Downloaded...  http://quotes.toscrape.com/author/Jorge-Luis-Borges/\n",
      "Saving as : download/Jorge-Luis-Borges.html\n",
      "Downloaded...  http://quotes.toscrape.com/tag/women/page/1/\n",
      "Saving as : download/1.html\n",
      "Downloaded...  http://quotes.toscrape.com/tag/sinister/page/1/\n",
      "Saving as : download/1.html\n"
     ]
    },
    {
     "name": "stdout",
     "output_type": "stream",
     "text": [
      "Downloaded...  http://quotes.toscrape.com/tag/open-mind/page/1/\n",
      "Saving as : download/1.html\n",
      "Downloaded...  http://quotes.toscrape.com/tag/food/page/1/\n",
      "Saving as : download/1.html\n",
      "Downloaded...  http://quotes.toscrape.com/tag/chocolate/page/1/\n",
      "Saving as : download/1.html\n",
      "Downloaded...  http://quotes.toscrape.com/author/J-M-Barrie/\n",
      "Saving as : download/J-M-Barrie.html\n",
      "Downloaded...  http://quotes.toscrape.com/tag/understanding/page/1/\n",
      "Saving as : download/1.html\n",
      "Downloaded...  http://quotes.toscrape.com/tag/wisdom/page/1/\n",
      "Saving as : download/1.html\n",
      "Downloaded...  http://quotes.toscrape.com/tag/dumbledore/page/1/\n",
      "Saving as : download/1.html\n",
      "Downloaded...  http://quotes.toscrape.com/tag/knowledge/page/1/\n",
      "Saving as : download/1.html\n",
      "Downloaded...  http://quotes.toscrape.com/page/5/\n",
      "Saving as : download/5.html\n",
      "Downloaded...  http://quotes.toscrape.com/author/Suzanne-Collins/\n",
      "Saving as : download/Suzanne-Collins.html\n",
      "Downloaded...  http://quotes.toscrape.com/author/Terry-Pratchett/\n",
      "Saving as : download/Terry-Pratchett.html\n",
      "Downloaded...  http://quotes.toscrape.com/author/W-C-Fields/\n",
      "Saving as : download/W-C-Fields.html\n",
      "Downloaded...  http://quotes.toscrape.com/tag/religion/page/1/\n",
      "Saving as : download/1.html\n",
      "Downloaded...  http://quotes.toscrape.com/tag/life/page/2/\n",
      "Saving as : download/2.html\n",
      "Downloaded...  http://quotes.toscrape.com/author/Charles-Bukowski/\n",
      "Saving as : download/Charles-Bukowski.html\n",
      "Downloaded...  http://quotes.toscrape.com/tag/regrets/page/1/\n",
      "Saving as : download/1.html\n",
      "Downloaded...  http://quotes.toscrape.com/tag/yourself/page/1/\n",
      "Saving as : download/1.html\n",
      "Downloaded...  http://quotes.toscrape.com/tag/plans/page/1/\n",
      "Saving as : download/1.html\n",
      "Downloaded...  http://quotes.toscrape.com/tag/comedy/page/1/\n",
      "Saving as : download/1.html\n",
      "Downloaded...  http://quotes.toscrape.com/author/Jim-Henson/\n",
      "Saving as : download/Jim-Henson.html\n",
      "Downloaded...  http://quotes.toscrape.com/author/Charles-M-Schulz/\n",
      "Saving as : download/Charles-M-Schulz.html\n",
      "Downloaded...  http://quotes.toscrape.com/tag/planning/page/1/\n",
      "Saving as : download/1.html\n",
      "Downloaded...  http://quotes.toscrape.com/page/6/\n",
      "Saving as : download/6.html\n",
      "Downloaded...  http://quotes.toscrape.com/author/Garrison-Keillor/\n",
      "Saving as : download/Garrison-Keillor.html\n",
      "Downloaded...  http://quotes.toscrape.com/tag/misattributed-john-lennon/page/1/\n",
      "Saving as : download/1.html\n",
      "Downloaded...  http://quotes.toscrape.com/tag/navigation/page/1/\n",
      "Saving as : download/1.html\n",
      "Downloaded...  http://quotes.toscrape.com/tag/fate/page/1/\n",
      "Saving as : download/1.html\n",
      "Downloaded...  http://quotes.toscrape.com/tag/library/page/1/\n",
      "Saving as : download/1.html\n",
      "Downloaded...  http://quotes.toscrape.com/author/George-Bernard-Shaw/\n",
      "Saving as : download/George-Bernard-Shaw.html\n",
      "Downloaded...  http://quotes.toscrape.com/author/Ralph-Waldo-Emerson/\n",
      "Saving as : download/Ralph-Waldo-Emerson.html\n",
      "Downloaded...  http://quotes.toscrape.com/tag/faith/page/1/\n",
      "Saving as : download/1.html\n",
      "Downloaded...  http://quotes.toscrape.com/tag/sun/page/1/\n",
      "Saving as : download/1.html\n",
      "Downloaded...  http://quotes.toscrape.com/tag/writing/page/1/\n",
      "Saving as : download/1.html\n",
      "Downloaded...  http://quotes.toscrape.com/tag/christianity/page/1/\n",
      "Saving as : download/1.html\n",
      "Downloaded...  http://quotes.toscrape.com/tag/authors/page/1/\n",
      "Saving as : download/1.html\n",
      "Downloaded...  http://quotes.toscrape.com/tag/literature/page/1/\n",
      "Saving as : download/1.html\n",
      "Downloaded...  http://quotes.toscrape.com/author/Allen-Saunders/\n",
      "Saving as : download/Allen-Saunders.html\n",
      "Downloaded...  http://quotes.toscrape.com/author/Douglas-Adams/\n",
      "Saving as : download/Douglas-Adams.html\n",
      "Downloaded...  http://quotes.toscrape.com/tag/unhappy-marriage/page/1/\n",
      "Saving as : download/1.html\n",
      "Downloaded...  http://quotes.toscrape.com/author/Khaled-Hosseini/\n",
      "Saving as : download/Khaled-Hosseini.html\n",
      "Downloaded...  http://quotes.toscrape.com/tag/misattributed-to-einstein/page/1/\n",
      "Saving as : download/1.html\n",
      "Downloaded...  http://quotes.toscrape.com/page/7/\n",
      "Saving as : download/7.html\n",
      "Downloaded...  http://quotes.toscrape.com/tag/fear/page/1/\n",
      "Saving as : download/1.html\n",
      "Downloaded...  http://quotes.toscrape.com/author/Jimi-Hendrix/\n",
      "Saving as : download/Jimi-Hendrix.html\n",
      "Downloaded...  http://quotes.toscrape.com/tag/attributed/page/1/\n",
      "Saving as : download/1.html\n",
      "Downloaded...  http://quotes.toscrape.com/tag/inspiration/page/1/\n",
      "Saving as : download/1.html\n",
      "Downloaded...  http://quotes.toscrape.com/author/Bob-Marley/\n",
      "Saving as : download/Bob-Marley.html\n",
      "Downloaded...  http://quotes.toscrape.com/author/J-D-Salinger/\n",
      "Saving as : download/J-D-Salinger.html\n",
      "Downloaded...  http://quotes.toscrape.com/author/Alfred-Tennyson/\n",
      "Saving as : download/Alfred-Tennyson.html\n",
      "Downloaded...  http://quotes.toscrape.com/tag/good/page/1/\n",
      "Saving as : download/1.html\n",
      "Downloaded...  http://quotes.toscrape.com/tag/marriage/page/1/\n",
      "Saving as : download/1.html\n",
      "Downloaded...  http://quotes.toscrape.com/tag/lack-of-love/page/1/\n",
      "Saving as : download/1.html\n",
      "Downloaded...  http://quotes.toscrape.com/tag/lack-of-friendship/page/1/\n",
      "Saving as : download/1.html\n",
      "Downloaded...  http://quotes.toscrape.com/author/Alexandre-Dumas-fils/\n",
      "Saving as : download/Alexandre-Dumas-fils.html\n",
      "Downloaded...  http://quotes.toscrape.com/tag/novelist-quotes/page/1/\n",
      "Saving as : download/1.html\n",
      "Downloaded...  http://quotes.toscrape.com/tag/friendship/page/1/\n",
      "Saving as : download/1.html\n",
      "Downloaded...  http://quotes.toscrape.com/tag/contentment/page/1/\n",
      "Saving as : download/1.html\n",
      "Downloaded...  http://quotes.toscrape.com/tag/courage/page/1/\n",
      "Saving as : download/1.html\n",
      "Downloaded...  http://quotes.toscrape.com/tag/readers/page/1/\n",
      "Saving as : download/1.html\n",
      "Downloaded...  http://quotes.toscrape.com/tag/reading-books/page/1/\n",
      "Saving as : download/1.html\n",
      "Downloaded...  http://quotes.toscrape.com/tag/troubles/page/1/\n",
      "Saving as : download/1.html\n",
      "Downloaded...  http://quotes.toscrape.com/author/Friedrich-Nietzsche/\n",
      "Saving as : download/Friedrich-Nietzsche.html\n",
      "Downloaded...  http://quotes.toscrape.com/tag/quest/page/1/\n",
      "Saving as : download/1.html\n",
      "Downloaded...  http://quotes.toscrape.com/page/8/\n",
      "Saving as : download/8.html\n",
      "Downloaded...  http://quotes.toscrape.com/tag/education/page/1/\n",
      "Saving as : download/1.html\n",
      "Downloaded...  http://quotes.toscrape.com/tag/live-death-love/page/1/\n",
      "Saving as : download/1.html\n",
      "Downloaded...  http://quotes.toscrape.com/tag/wander/page/1/\n",
      "Saving as : download/1.html\n",
      "Downloaded...  http://quotes.toscrape.com/tag/travel/page/1/\n",
      "Saving as : download/1.html\n",
      "Downloaded...  http://quotes.toscrape.com/author/Ernest-Hemingway/\n",
      "Saving as : download/Ernest-Hemingway.html\n",
      "Downloaded...  http://quotes.toscrape.com/tag/journey/page/1/\n",
      "Saving as : download/1.html\n",
      "Downloaded...  http://quotes.toscrape.com/tag/bilbo/page/1/\n",
      "Saving as : download/1.html\n",
      "Downloaded...  http://quotes.toscrape.com/tag/the-hunger-games/page/1/\n",
      "Saving as : download/1.html\n",
      "Downloaded...  http://quotes.toscrape.com/tag/lost/page/1/\n",
      "Saving as : download/1.html\n",
      "Downloaded...  http://quotes.toscrape.com/tag/read/page/1/\n",
      "Saving as : download/1.html\n",
      "Downloaded...  http://quotes.toscrape.com/tag/alcohol/page/1/\n",
      "Saving as : download/1.html\n",
      "Downloaded...  http://quotes.toscrape.com/tag/misattributed-to-c-s-lewis/page/1/\n",
      "Saving as : download/1.html\n",
      "Downloaded...  http://quotes.toscrape.com/tag/misattributed-mark-twain/page/1/\n",
      "Saving as : download/1.html\n",
      "Downloaded...  http://quotes.toscrape.com/tag/seuss/page/1/\n",
      "Saving as : download/1.html\n",
      "Downloaded...  http://quotes.toscrape.com/tag/learning/page/1/\n",
      "Saving as : download/1.html\n",
      "Downloaded...  http://quotes.toscrape.com/author/J-R-R-Tolkien/\n",
      "Saving as : download/J-R-R-Tolkien.html\n",
      "Downloaded...  http://quotes.toscrape.com/tag/peace/page/1/\n",
      "Saving as : download/1.html\n",
      "Downloaded...  http://quotes.toscrape.com/tag/dreamers/page/1/\n",
      "Saving as : download/1.html\n",
      "Downloaded...  http://quotes.toscrape.com/page/9/\n",
      "Saving as : download/9.html\n",
      "Downloaded...  http://quotes.toscrape.com/tag/dreams/page/1/\n",
      "Saving as : download/1.html\n",
      "Downloaded...  http://quotes.toscrape.com/tag/dreaming/page/1/\n",
      "Saving as : download/1.html\n",
      "Downloaded...  http://quotes.toscrape.com/tag/connection/page/1/\n",
      "Saving as : download/1.html\n",
      "Downloaded...  http://quotes.toscrape.com/author/E-E-Cummings/\n",
      "Saving as : download/E-E-Cummings.html\n"
     ]
    },
    {
     "name": "stdout",
     "output_type": "stream",
     "text": [
      "Downloaded...  http://quotes.toscrape.com/tag/beatles/page/1/\n",
      "Saving as : download/1.html\n",
      "Downloaded...  http://quotes.toscrape.com/author/George-R-R-Martin/\n",
      "Saving as : download/George-R-R-Martin.html\n",
      "Downloaded...  http://quotes.toscrape.com/author/William-Nicholson/\n",
      "Saving as : download/William-Nicholson.html\n",
      "Downloaded...  http://quotes.toscrape.com/author/Dr-Seuss/\n",
      "Saving as : download/Dr-Seuss.html\n",
      "Downloaded...  http://quotes.toscrape.com/tag/self-indulgence/page/1/\n",
      "Saving as : download/1.html\n",
      "Downloaded...  http://quotes.toscrape.com/author/Ayn-Rand/\n",
      "Saving as : download/Ayn-Rand.html\n",
      "Downloaded...  http://quotes.toscrape.com/tag/lies/page/1/\n",
      "Saving as : download/1.html\n",
      "Downloaded...  http://quotes.toscrape.com/tag/lying/page/1/\n",
      "Saving as : download/1.html\n",
      "Downloaded...  http://quotes.toscrape.com/tag/truth/page/1/\n",
      "Saving as : download/1.html\n",
      "Downloaded...  http://quotes.toscrape.com/tag/insanity/page/1/\n",
      "Saving as : download/1.html\n",
      "Downloaded...  http://quotes.toscrape.com/tag/inspirational/page/2/\n",
      "Saving as : download/2.html\n",
      "Downloaded...  http://quotes.toscrape.com/author/Mark-Twain/\n",
      "Saving as : download/Mark-Twain.html\n",
      "Downloaded...  http://quotes.toscrape.com/author/John-Lennon/\n",
      "Saving as : download/John-Lennon.html\n",
      "Downloaded...  http://quotes.toscrape.com/page/10/\n",
      "Saving as : download/10.html\n",
      "Downloaded...  http://quotes.toscrape.com/tag/growing-up/page/1/\n",
      "Saving as : download/1.html\n",
      "Downloaded...  http://quotes.toscrape.com/tag/god/page/1/\n",
      "Saving as : download/1.html\n",
      "Downloaded...  http://quotes.toscrape.com/tag/fairytales/page/1/\n",
      "Saving as : download/1.html\n",
      "Downloaded...  http://quotes.toscrape.com/tag/age/page/1/\n",
      "Saving as : download/1.html\n",
      "Downloaded...  http://quotes.toscrape.com/tag/jane-austen/page/1/\n",
      "Saving as : download/1.html\n",
      "Downloaded...  http://quotes.toscrape.com/tag/mistakes/page/1/\n",
      "Saving as : download/1.html\n",
      "Downloaded...  http://quotes.toscrape.com/tag/integrity/page/1/\n",
      "Saving as : download/1.html\n",
      "Downloaded...  http://quotes.toscrape.com/author/George-Carlin/\n",
      "Saving as : download/George-Carlin.html\n",
      "Downloaded...  http://quotes.toscrape.com/tag/elizabeth-bennet/page/1/\n",
      "Saving as : download/1.html\n",
      "Downloaded...  http://quotes.toscrape.com/tag/hope/page/1/\n",
      "Saving as : download/1.html\n",
      "Downloaded...  http://quotes.toscrape.com/tag/tea/page/1/\n",
      "Saving as : download/1.html\n",
      "Downloaded...  http://quotes.toscrape.com/author/Helen-Keller/\n",
      "Saving as : download/Helen-Keller.html\n",
      "Downloaded...  http://quotes.toscrape.com/tag/philosophy/page/1/\n",
      "Saving as : download/1.html\n",
      "Downloaded...  http://quotes.toscrape.com/tag/reading/page/1/\n",
      "Saving as : download/1.html\n",
      "Downloaded...  http://quotes.toscrape.com/tag/death/page/1/\n",
      "Saving as : download/1.html\n",
      "Downloaded...  http://quotes.toscrape.com/tag/opposite/page/1/\n",
      "Saving as : download/1.html\n",
      "Downloaded...  http://quotes.toscrape.com/tag/hate/page/1/\n",
      "Saving as : download/1.html\n",
      "Downloaded...  http://quotes.toscrape.com/tag/indifference/page/1/\n",
      "Saving as : download/1.html\n",
      "Downloaded...  http://quotes.toscrape.com/tag/apathy/page/1/\n",
      "Saving as : download/1.html\n",
      "Downloaded...  http://quotes.toscrape.com/author/Martin-Luther-King-Jr/\n",
      "Saving as : download/Martin-Luther-King-Jr.html\n",
      "Downloaded...  http://quotes.toscrape.com/tag/better-life-empathy/page/1/\n",
      "Saving as : download/1.html\n",
      "Downloaded...  http://quotes.toscrape.com/tag/activism/page/1/\n",
      "Saving as : download/1.html\n",
      "Downloaded...  http://quotes.toscrape.com/tag/heartbreak/page/1/\n",
      "Saving as : download/1.html\n",
      "Downloaded...  http://quotes.toscrape.com/tag/sisters/page/1/\n",
      "Saving as : download/1.html\n",
      "Downloaded...  http://quotes.toscrape.com/author/C-S-Lewis/\n",
      "Saving as : download/C-S-Lewis.html\n",
      "Downloaded...  http://quotes.toscrape.com/author/George-Eliot/\n",
      "Saving as : download/George-Eliot.html\n",
      "Downloaded...  http://quotes.toscrape.com/tag/humor/page/1/\n",
      "Saving as : download/1.html\n",
      "Downloaded...  http://quotes.toscrape.com/tag/adulthood/page/1/\n",
      "Saving as : download/1.html\n",
      "Downloaded...  http://quotes.toscrape.com/tag/friends/page/1/\n",
      "Saving as : download/1.html\n",
      "Downloaded...  http://quotes.toscrape.com/tag/be-yourself/page/1/\n",
      "Saving as : download/1.html\n",
      "Downloaded...  http://quotes.toscrape.com/tag/classic/page/1/\n",
      "Saving as : download/1.html\n",
      "Downloaded...  http://quotes.toscrape.com/author/Elie-Wiesel/\n",
      "Saving as : download/Elie-Wiesel.html\n",
      "Downloaded...  http://quotes.toscrape.com/author/Harper-Lee/\n",
      "Saving as : download/Harper-Lee.html\n",
      "Downloaded...  http://quotes.toscrape.com/tag/miracle/page/1/\n",
      "Saving as : download/1.html\n",
      "Downloaded...  http://quotes.toscrape.com/tag/books/page/1/\n",
      "Saving as : download/1.html\n",
      "Downloaded...  http://quotes.toscrape.com/tag/aliteracy/page/1/\n",
      "Saving as : download/1.html\n",
      "Downloaded...  http://quotes.toscrape.com/tag/miracles/page/1/\n",
      "Saving as : download/1.html\n",
      "Downloaded...  http://quotes.toscrape.com/tag/live/page/1/\n",
      "Saving as : download/1.html\n",
      "Downloaded...  http://quotes.toscrape.com/tag/life/page/1/\n",
      "Saving as : download/1.html\n",
      "Downloaded...  http://quotes.toscrape.com/tag/choices/page/1/\n",
      "Saving as : download/1.html\n",
      "Downloaded...  http://quotes.toscrape.com/author/Marilyn-Monroe/\n",
      "Saving as : download/Marilyn-Monroe.html\n",
      "Downloaded...  http://quotes.toscrape.com/tag/inspirational/page/1/\n",
      "Saving as : download/1.html\n",
      "Downloaded...  http://quotes.toscrape.com/tag/abilities/page/1/\n",
      "Saving as : download/1.html\n",
      "Downloaded...  http://quotes.toscrape.com/tag/thinking/page/1/\n",
      "Saving as : download/1.html\n",
      "Downloaded...  http://quotes.toscrape.com/tag/world/page/1/\n",
      "Saving as : download/1.html\n",
      "Downloaded...  http://quotes.toscrape.com/author/Jane-Austen/\n",
      "Saving as : download/Jane-Austen.html\n",
      "Downloaded...  http://quotes.toscrape.com/tag/deep-thoughts/page/1/\n",
      "Saving as : download/1.html\n",
      "Downloaded...  http://quotes.toscrape.com/author/J-K-Rowling/\n",
      "Saving as : download/J-K-Rowling.html\n",
      "Downloaded...  http://quotes.toscrape.com/tag/change/page/1/\n",
      "Saving as : download/1.html\n",
      "Downloaded...  http://quotes.toscrape.com/login\n",
      "Saving as : download/quotes.toscrape.com.html\n",
      "Downloaded...  http://quotes.toscrape.com/author/Albert-Einstein/\n",
      "Saving as : download/Albert-Einstein.html\n",
      "2022-05-27 11:29:36 [scrapy.core.engine] INFO: Closing spider (finished)\n",
      "2022-05-27 11:29:36 [scrapy.statscollectors] INFO: Dumping Scrapy stats:\n",
      "{'downloader/request_bytes': 76251,\n",
      " 'downloader/request_count': 265,\n",
      " 'downloader/request_method_count/GET': 265,\n",
      " 'downloader/response_bytes': 341170,\n",
      " 'downloader/response_count': 265,\n",
      " 'downloader/response_status_count/200': 215,\n",
      " 'downloader/response_status_count/308': 50,\n",
      " 'dupefilter/filtered': 3378,\n",
      " 'elapsed_time_seconds': 7.860944,\n",
      " 'finish_reason': 'finished',\n",
      " 'finish_time': datetime.datetime(2022, 5, 27, 9, 29, 36, 195342),\n",
      " 'httpcompression/response_bytes': 1023960,\n",
      " 'httpcompression/response_count': 215,\n",
      " 'log_count/INFO': 10,\n",
      " 'memusage/max': 65589248,\n",
      " 'memusage/startup': 65589248,\n",
      " 'offsite/domains': 2,\n",
      " 'offsite/filtered': 430,\n",
      " 'request_depth_max': 11,\n",
      " 'response_received_count': 215,\n",
      " 'scheduler/dequeued': 265,\n",
      " 'scheduler/dequeued/memory': 265,\n",
      " 'scheduler/enqueued': 265,\n",
      " 'scheduler/enqueued/memory': 265,\n",
      " 'start_time': datetime.datetime(2022, 5, 27, 9, 29, 28, 334398)}\n",
      "2022-05-27 11:29:36 [scrapy.core.engine] INFO: Spider closed (finished)\n"
     ]
    }
   ],
   "source": [
    "#This would produce all the linked HTML file we can use for analysis \n",
    "!mkdir download\n",
    "!scrapy runspider myCrwler.py"
   ]
  },
  {
   "cell_type": "code",
   "execution_count": 18,
   "metadata": {
    "slideshow": {
     "slide_type": "subslide"
    }
   },
   "outputs": [
    {
     "name": "stdout",
     "output_type": "stream",
     "text": [
      "10.html\t\t\t   Eleanor-Roosevelt.html    Jorge-Luis-Borges.html\r\n",
      "1.html\t\t\t   Elie-Wiesel.html\t     J-R-R-Tolkien.html\r\n",
      "2.html\t\t\t   Ernest-Hemingway.html     Khaled-Hosseini.html\r\n",
      "3.html\t\t\t   Friedrich-Nietzsche.html  life.html\r\n",
      "4.html\t\t\t   friendship.html\t     love.html\r\n",
      "5.html\t\t\t   friends.html\t\t     Madeleine-LEngle.html\r\n",
      "6.html\t\t\t   Garrison-Keillor.html     Marilyn-Monroe.html\r\n",
      "7.html\t\t\t   George-Bernard-Shaw.html  Mark-Twain.html\r\n",
      "8.html\t\t\t   George-Carlin.html\t     Martin-Luther-King-Jr.html\r\n",
      "9.html\t\t\t   George-Eliot.html\t     Mother-Teresa.html\r\n",
      "Albert-Einstein.html\t   George-R-R-Martin.html    Pablo-Neruda.html\r\n",
      "Alexandre-Dumas-fils.html  Harper-Lee.html\t     quotes.toscrape.com.html\r\n",
      "Alfred-Tennyson.html\t   Haruki-Murakami.html      Ralph-Waldo-Emerson.html\r\n",
      "Allen-Saunders.html\t   Helen-Keller.html\t     reading.html\r\n",
      "Andre-Gide.html\t\t   humor.html\t\t     simile.html\r\n",
      "Ayn-Rand.html\t\t   inspirational.html\t     Stephenie-Meyer.html\r\n",
      "Bob-Marley.html\t\t   James-Baldwin.html\t     Steve-Martin.html\r\n",
      "books.html\t\t   Jane-Austen.html\t     Suzanne-Collins.html\r\n",
      "Charles-Bukowski.html\t   J-D-Salinger.html\t     Terry-Pratchett.html\r\n",
      "Charles-M-Schulz.html\t   Jim-Henson.html\t     Thomas-A-Edison.html\r\n",
      "C-S-Lewis.html\t\t   Jimi-Hendrix.html\t     truth.html\r\n",
      "Douglas-Adams.html\t   J-K-Rowling.html\t     W-C-Fields.html\r\n",
      "Dr-Seuss.html\t\t   J-M-Barrie.html\t     William-Nicholson.html\r\n",
      "E-E-Cummings.html\t   John-Lennon.html\r\n"
     ]
    }
   ],
   "source": [
    "!ls download"
   ]
  },
  {
   "cell_type": "markdown",
   "metadata": {
    "slideshow": {
     "slide_type": "slide"
    }
   },
   "source": [
    "## Scraping PDFs\n",
    "* using ``tabula-py``\n",
    "* Docu: https://tabula-py.readthedocs.io/en/latest/"
   ]
  },
  {
   "cell_type": "code",
   "execution_count": 19,
   "metadata": {
    "slideshow": {
     "slide_type": "fragment"
    }
   },
   "outputs": [
    {
     "name": "stdout",
     "output_type": "stream",
     "text": [
      "Requirement already satisfied: tabula-py in /home/keuper/anaconda3/lib/python3.7/site-packages (2.3.0)\n",
      "Requirement already satisfied: pandas>=0.25.3 in /home/keuper/anaconda3/lib/python3.7/site-packages (from tabula-py) (1.3.5)\n",
      "Requirement already satisfied: distro in /home/keuper/anaconda3/lib/python3.7/site-packages (from tabula-py) (1.5.0)\n",
      "Requirement already satisfied: numpy in /home/keuper/anaconda3/lib/python3.7/site-packages (from tabula-py) (1.21.6)\n",
      "Requirement already satisfied: python-dateutil>=2.7.3 in /home/keuper/anaconda3/lib/python3.7/site-packages (from pandas>=0.25.3->tabula-py) (2.8.2)\n",
      "Requirement already satisfied: pytz>=2017.3 in /home/keuper/anaconda3/lib/python3.7/site-packages (from pandas>=0.25.3->tabula-py) (2022.1)\n",
      "Requirement already satisfied: six>=1.5 in /home/keuper/anaconda3/lib/python3.7/site-packages (from python-dateutil>=2.7.3->pandas>=0.25.3->tabula-py) (1.16.0)\n",
      "Note: you may need to restart the kernel to use updated packages.\n"
     ]
    }
   ],
   "source": [
    "pip install tabula-py"
   ]
  },
  {
   "cell_type": "markdown",
   "metadata": {
    "slideshow": {
     "slide_type": "subslide"
    }
   },
   "source": [
    "#### Example: \n",
    "* a UN report as [PDF](https://www.un.org/en/development/desa/population/publications/pdf/urbanization/the_worlds_cities_in_2016_data_booklet.pdf)"
   ]
  },
  {
   "cell_type": "code",
   "execution_count": 20,
   "metadata": {
    "scrolled": true,
    "slideshow": {
     "slide_type": "fragment"
    }
   },
   "outputs": [],
   "source": [
    "import tabula\n",
    "url= \"https://www.un.org/en/development/desa/population/publications/pdf/urbanization/the_worlds_cities_in_2016_data_booklet.pdf\"\n",
    "\n",
    "#get table on page 4\n",
    "df = tabula.read_pdf(url,  pages='6')\n"
   ]
  },
  {
   "cell_type": "code",
   "execution_count": 21,
   "metadata": {
    "slideshow": {
     "slide_type": "subslide"
    }
   },
   "outputs": [
    {
     "data": {
      "text/html": [
       "<div>\n",
       "<style scoped>\n",
       "    .dataframe tbody tr th:only-of-type {\n",
       "        vertical-align: middle;\n",
       "    }\n",
       "\n",
       "    .dataframe tbody tr th {\n",
       "        vertical-align: top;\n",
       "    }\n",
       "\n",
       "    .dataframe thead th {\n",
       "        text-align: right;\n",
       "    }\n",
       "</style>\n",
       "<table border=\"1\" class=\"dataframe\">\n",
       "  <thead>\n",
       "    <tr style=\"text-align: right;\">\n",
       "      <th></th>\n",
       "      <th>Of the world’s 31 megacities (that is,</th>\n",
       "      <th>Unnamed: 0</th>\n",
       "      <th>Population</th>\n",
       "      <th>Unnamed: 1</th>\n",
       "      <th>Population.1</th>\n",
       "    </tr>\n",
       "  </thead>\n",
       "  <tbody>\n",
       "    <tr>\n",
       "      <th>0</th>\n",
       "      <td>NaN</td>\n",
       "      <td>NaN</td>\n",
       "      <td>in 2016</td>\n",
       "      <td>NaN</td>\n",
       "      <td>in 2030</td>\n",
       "    </tr>\n",
       "    <tr>\n",
       "      <th>1</th>\n",
       "      <td>cities with 10 million inhabitants or Rank</td>\n",
       "      <td>City, Country</td>\n",
       "      <td>(thousands)</td>\n",
       "      <td>City, Country</td>\n",
       "      <td>(thousands)</td>\n",
       "    </tr>\n",
       "    <tr>\n",
       "      <th>2</th>\n",
       "      <td>more) in 2016, 24 are located in the 1</td>\n",
       "      <td>Tokyo, Japan</td>\n",
       "      <td>38 140</td>\n",
       "      <td>Tokyo, Japan</td>\n",
       "      <td>37 190</td>\n",
       "    </tr>\n",
       "    <tr>\n",
       "      <th>3</th>\n",
       "      <td>less developed regions or the “global 2 3</td>\n",
       "      <td>Delhi, India Shanghai, China</td>\n",
       "      <td>26 454 24 484</td>\n",
       "      <td>Delhi, India Shanghai, China</td>\n",
       "      <td>36 06030 751</td>\n",
       "    </tr>\n",
       "    <tr>\n",
       "      <th>4</th>\n",
       "      <td>South”.  China alone was home to six 4</td>\n",
       "      <td>Mumbai (Bombay), India</td>\n",
       "      <td>21 357</td>\n",
       "      <td>Mumbai (Bombay), India</td>\n",
       "      <td>27 797</td>\n",
       "    </tr>\n",
       "  </tbody>\n",
       "</table>\n",
       "</div>"
      ],
      "text/plain": [
       "       Of the world’s 31 megacities (that is,                    Unnamed: 0  \\\n",
       "0                                         NaN                           NaN   \n",
       "1  cities with 10 million inhabitants or Rank                 City, Country   \n",
       "2      more) in 2016, 24 are located in the 1                  Tokyo, Japan   \n",
       "3   less developed regions or the “global 2 3  Delhi, India Shanghai, China   \n",
       "4      South”.  China alone was home to six 4        Mumbai (Bombay), India   \n",
       "\n",
       "      Population                    Unnamed: 1  Population.1  \n",
       "0        in 2016                           NaN       in 2030  \n",
       "1    (thousands)                 City, Country   (thousands)  \n",
       "2         38 140                  Tokyo, Japan        37 190  \n",
       "3  26 454 24 484  Delhi, India Shanghai, China  36 06030 751  \n",
       "4         21 357        Mumbai (Bombay), India        27 797  "
      ]
     },
     "execution_count": 21,
     "metadata": {},
     "output_type": "execute_result"
    }
   ],
   "source": [
    "#returns list of all tables - get the first one\n",
    "df[0].head()"
   ]
  },
  {
   "cell_type": "markdown",
   "metadata": {
    "slideshow": {
     "slide_type": "slide"
    }
   },
   "source": [
    "# Discussion"
   ]
  }
 ],
 "metadata": {
  "celltoolbar": "Slideshow",
  "kernelspec": {
   "display_name": "Python 3",
   "language": "python",
   "name": "python3"
  },
  "language_info": {
   "codemirror_mode": {
    "name": "ipython",
    "version": 3
   },
   "file_extension": ".py",
   "mimetype": "text/x-python",
   "name": "python",
   "nbconvert_exporter": "python",
   "pygments_lexer": "ipython3",
   "version": "3.7.6"
  },
  "livereveal": {
   "enable_chalkboard": true,
   "footer": "Janis Keuper - SS22",
   "header": "Data Engineering"
  }
 },
 "nbformat": 4,
 "nbformat_minor": 4
}
