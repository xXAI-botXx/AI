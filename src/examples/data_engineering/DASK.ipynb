{
 "cells": [
  {
   "cell_type": "markdown",
   "metadata": {
    "slideshow": {
     "slide_type": "slide"
    }
   },
   "source": [
    "<img src=\"IMG/dask_horizontal.svg\"  width=\"30%\">\n",
    "\n",
    "## Data Engineering SS 22\n",
    "#### Janis Keuper\n"
   ]
  },
  {
   "cell_type": "markdown",
   "metadata": {
    "slideshow": {
     "slide_type": "subslide"
    }
   },
   "source": [
    "<img src=\"IMG/dask_horizontal.svg\"  width=\"10%\">\n",
    "\n",
    "\n",
    "# Introduction to DASK\n",
    "* Dask is a parallel computing library that scales the existing Python ecosystem. \n",
    "* Dask can scale down to your laptop laptop and up to a cluster.\n",
    "\n",
    "   \n",
    "## DASK Ressources \n",
    "*  [DASK Website](http://dask.org)\n",
    "*  [Documentation](https://dask.pydata.org/en/latest/)\n"
   ]
  },
  {
   "cell_type": "markdown",
   "metadata": {
    "slideshow": {
     "slide_type": "slide"
    }
   },
   "source": [
    "## DASK in the Python Eco System\n",
    "\n",
    "<img src=\"IMG/python-stack.png\" width=80%>\n",
    "\n",
    "https://jupytearth.org/jupyter-resources/introduction/ecosystem.html"
   ]
  },
  {
   "cell_type": "markdown",
   "metadata": {
    "slideshow": {
     "slide_type": "subslide"
    }
   },
   "source": [
    "<img src=\"IMG/dask_horizontal.svg\"  width=\"10%\">\n",
    "\n",
    "## Key Features of DASK\n",
    "\n",
    "*  **High level Interface:**  Dask provides high-level Array, Bag, and DataFrame\n",
    "   collections that mimic NumPy, lists, and Pandas but can operate in parallel on\n",
    "   datasets that don't fit into memory.  Dask's high-level collections are\n",
    "   alternatives to NumPy and Pandas for large datasets.\n",
    "\n",
    "*  **Low Level Interface:** Dask provides dynamic task schedulers that\n",
    "   execute task graphs in parallel.  These execution engines power the\n",
    "   high-level collections mentioned above but can also power custom,\n",
    "   user-defined workloads.  These schedulers are low-latency (around 1ms) and\n",
    "   work hard to run computations in a small memory footprint.  Dask's\n",
    "   schedulers are an alternative to direct use of `threading` or\n",
    "   `multiprocessing` libraries in complex cases or other task scheduling\n",
    "   systems like `Luigi` or `IPython parallel`."
   ]
  },
  {
   "cell_type": "markdown",
   "metadata": {
    "slideshow": {
     "slide_type": "subslide"
    }
   },
   "source": [
    "<img src=\"IMG/dask_horizontal.svg\"  width=\"10%\">\n",
    "\n",
    "## DASK Scalability \n",
    "\n",
    "### runs on single node (your laptop!)\n",
    "* multi-core parallelization \n",
    "* hardly any overhead\n",
    "\n",
    "### scales to large clusters with thausands of nodes\n",
    "* with the ***SAME*** code as on the laptop\n",
    "\n",
    "\n"
   ]
  },
  {
   "cell_type": "markdown",
   "metadata": {
    "slideshow": {
     "slide_type": "subslide"
    }
   },
   "source": [
    "<img src=\"IMG/dask_horizontal.svg\"  width=\"10%\">\n",
    "\n",
    "### Worker ressource management \n",
    "* max memory, CPU cores\n",
    "* GPU assignment \n",
    "\n",
    "### Large Memory support\n",
    "* allows out of Memory processing of large data even on single node"
   ]
  },
  {
   "cell_type": "markdown",
   "metadata": {
    "slideshow": {
     "slide_type": "subslide"
    }
   },
   "source": [
    "<img src=\"IMG/dask_horizontal.svg\"  width=\"10%\">\n",
    "\n",
    "## DASK-ML\n",
    "* Scikit-Learn like API for Machine Learning\n",
    "\n",
    "## Large Scale Data Visualization\n",
    "* With DataShader"
   ]
  },
  {
   "cell_type": "markdown",
   "metadata": {
    "slideshow": {
     "slide_type": "slide"
    }
   },
   "source": [
    "# High Level Interfaces: Parallelizing NumPy and Pandas"
   ]
  },
  {
   "cell_type": "markdown",
   "metadata": {
    "slideshow": {
     "slide_type": "subslide"
    }
   },
   "source": [
    "<img src=\"IMG/numpy.png\"  width=\"10%\">\n",
    "\n",
    "## Dask Arrays: Distributed NumPy\n",
    "\n",
    "* Arithmetic and scalar mathematics: +, *, exp, log, ...\n",
    "* Reductions along axes: sum(), mean(), std(), sum(axis=0), ...\n",
    "* Tensor contractions / dot products / matrix multiply: tensordot\n",
    "* Axis reordering / transpose: transpose\n",
    "* Slicing: x[:100, 500:100:-2]\n",
    "* Fancy indexing along single axes with lists or NumPy arrays: x[:, [10, 1, 5]]\n",
    "* Array protocols like __array__ and __array_ufunc__\n",
    "* Some linear algebra: svd, qr, solve, solve_triangular, lstsq\n",
    "\n",
    "**Full Array API: https://docs.dask.org/en/latest/array-api.html**"
   ]
  },
  {
   "cell_type": "markdown",
   "metadata": {
    "slideshow": {
     "slide_type": "subslide"
    }
   },
   "source": [
    "<img src=\"IMG/numpy.png\"  width=\"10%\">\n",
    "\n",
    "### Limitations\n",
    "\n",
    "* Much of np.linalg has not been implemented. This has been done by a number of excellent BLAS/LAPACK implementations, and is the focus of numerous ongoing academic research projects\n",
    "* Arrays with unknown shapes do not support all operations\n",
    "* Operations like sort which are notoriously difficult to do in parallel, and are of somewhat diminished value on very large data (you rarely actually need a full sort). Often we include parallel-friendly alternatives like topk\n",
    "* Dask Array doesn’t implement operations like tolist that would be very inefficient for larger datasets. Likewise, it is very inefficient to iterate over a Dask array with for loops\n",
    "  \n",
    "**DASK is still evolving ...**"
   ]
  },
  {
   "cell_type": "markdown",
   "metadata": {
    "slideshow": {
     "slide_type": "subslide"
    }
   },
   "source": [
    "## Just get started!"
   ]
  },
  {
   "cell_type": "code",
   "execution_count": 18,
   "metadata": {
    "slideshow": {
     "slide_type": "fragment"
    }
   },
   "outputs": [
    {
     "name": "stdout",
     "output_type": "stream",
     "text": [
      "Collecting distributed\n",
      "  Using cached distributed-2022.2.0-py3-none-any.whl (837 kB)\n",
      "Collecting dask[complete]\n",
      "  Using cached dask-2022.2.0-py3-none-any.whl (1.1 MB)\n",
      "Collecting dask-ml\n",
      "  Using cached dask_ml-2022.1.22-py3-none-any.whl (148 kB)\n",
      "Collecting graphviz\n",
      "  Using cached graphviz-0.20-py3-none-any.whl (46 kB)\n",
      "Collecting tornado>=5; python_version < \"3.8\"\n",
      "  Using cached tornado-6.1-cp37-cp37m-manylinux2010_x86_64.whl (428 kB)\n",
      "Collecting jinja2\n",
      "  Using cached Jinja2-3.1.2-py3-none-any.whl (133 kB)\n",
      "Collecting msgpack>=0.6.0\n",
      "  Using cached msgpack-1.0.3-cp37-cp37m-manylinux_2_17_x86_64.manylinux2014_x86_64.whl (299 kB)\n",
      "Collecting zict>=0.1.3\n",
      "  Using cached zict-2.2.0-py2.py3-none-any.whl (23 kB)\n",
      "Collecting tblib>=1.6.0\n",
      "  Using cached tblib-1.7.0-py2.py3-none-any.whl (12 kB)\n",
      "Collecting setuptools\n",
      "  Using cached setuptools-62.1.0-py3-none-any.whl (1.1 MB)\n",
      "Collecting pyyaml\n",
      "  Using cached PyYAML-6.0-cp37-cp37m-manylinux_2_5_x86_64.manylinux1_x86_64.manylinux_2_12_x86_64.manylinux2010_x86_64.whl (596 kB)\n",
      "Collecting psutil>=5.0\n",
      "  Using cached psutil-5.9.0-cp37-cp37m-manylinux_2_12_x86_64.manylinux2010_x86_64.manylinux_2_17_x86_64.manylinux2014_x86_64.whl (280 kB)\n",
      "Collecting cloudpickle>=1.5.0\n",
      "  Using cached cloudpickle-2.0.0-py3-none-any.whl (25 kB)\n",
      "Collecting packaging>=20.0\n",
      "  Using cached packaging-21.3-py3-none-any.whl (40 kB)\n",
      "Collecting sortedcontainers!=2.0.0,!=2.0.1\n",
      "  Using cached sortedcontainers-2.4.0-py2.py3-none-any.whl (29 kB)\n",
      "Collecting click>=6.6\n",
      "  Using cached click-8.1.3-py3-none-any.whl (96 kB)\n",
      "Collecting toolz>=0.8.2\n",
      "  Using cached toolz-0.11.2-py3-none-any.whl (55 kB)\n",
      "Collecting partd>=0.3.10\n",
      "  Using cached partd-1.2.0-py3-none-any.whl (19 kB)\n",
      "Collecting fsspec>=0.6.0\n",
      "  Using cached fsspec-2022.3.0-py3-none-any.whl (136 kB)\n",
      "Collecting numpy>=1.18; extra == \"complete\"\n",
      "  Using cached numpy-1.21.6-cp37-cp37m-manylinux_2_12_x86_64.manylinux2010_x86_64.whl (15.7 MB)\n",
      "Collecting pandas>=1.0; extra == \"complete\"\n",
      "  Using cached pandas-1.3.5-cp37-cp37m-manylinux_2_17_x86_64.manylinux2014_x86_64.whl (11.3 MB)\n",
      "Collecting bokeh>=2.1.1; extra == \"complete\"\n",
      "  Using cached bokeh-2.4.2-py3-none-any.whl (18.5 MB)\n",
      "Collecting numba>=0.51.0\n",
      "  Using cached numba-0.55.1-1-cp37-cp37m-manylinux2014_x86_64.manylinux_2_17_x86_64.whl (3.3 MB)\n",
      "Collecting scikit-learn>=1.0.0\n",
      "  Using cached scikit_learn-1.0.2-cp37-cp37m-manylinux_2_17_x86_64.manylinux2014_x86_64.whl (24.8 MB)\n",
      "Collecting multipledispatch>=0.4.9\n",
      "  Using cached multipledispatch-0.6.0-py3-none-any.whl (11 kB)\n",
      "Collecting scipy\n",
      "  Using cached scipy-1.7.3-cp37-cp37m-manylinux_2_12_x86_64.manylinux2010_x86_64.whl (38.1 MB)\n",
      "Collecting dask-glm>=0.2.0\n",
      "  Using cached dask_glm-0.2.0-py2.py3-none-any.whl (12 kB)\n",
      "Collecting MarkupSafe>=2.0\n",
      "  Using cached MarkupSafe-2.1.1-cp37-cp37m-manylinux_2_17_x86_64.manylinux2014_x86_64.whl (25 kB)\n",
      "Collecting heapdict\n",
      "  Using cached HeapDict-1.0.1-py3-none-any.whl (3.9 kB)\n",
      "Collecting pyparsing!=3.0.5,>=2.0.2\n",
      "  Using cached pyparsing-3.0.8-py3-none-any.whl (98 kB)\n",
      "Collecting importlib-metadata; python_version < \"3.8\"\n",
      "  Using cached importlib_metadata-4.11.3-py3-none-any.whl (18 kB)\n",
      "Collecting locket\n",
      "  Using cached locket-1.0.0-py2.py3-none-any.whl (4.4 kB)\n",
      "Collecting python-dateutil>=2.7.3\n",
      "  Using cached python_dateutil-2.8.2-py2.py3-none-any.whl (247 kB)\n",
      "Collecting pytz>=2017.3\n",
      "  Using cached pytz-2022.1-py2.py3-none-any.whl (503 kB)\n",
      "Collecting typing-extensions>=3.10.0\n",
      "  Using cached typing_extensions-4.2.0-py3-none-any.whl (24 kB)\n",
      "Collecting pillow>=7.1.0\n",
      "  Using cached Pillow-9.1.0-cp37-cp37m-manylinux_2_17_x86_64.manylinux2014_x86_64.whl (4.3 MB)\n",
      "Collecting llvmlite<0.39,>=0.38.0rc1\n",
      "  Using cached llvmlite-0.38.0-cp37-cp37m-manylinux_2_17_x86_64.manylinux2014_x86_64.whl (34.5 MB)\n",
      "Collecting joblib>=0.11\n",
      "  Using cached joblib-1.1.0-py2.py3-none-any.whl (306 kB)\n",
      "Collecting threadpoolctl>=2.0.0\n",
      "  Using cached threadpoolctl-3.1.0-py3-none-any.whl (14 kB)\n",
      "Collecting six\n",
      "  Using cached six-1.16.0-py2.py3-none-any.whl (11 kB)\n",
      "Collecting zipp>=0.5\n",
      "  Using cached zipp-3.8.0-py3-none-any.whl (5.4 kB)\n",
      "\u001b[31mERROR: spyder 4.0.1 requires pyqt5<5.13; python_version >= \"3\", which is not installed.\u001b[0m\n",
      "\u001b[31mERROR: spyder 4.0.1 requires pyqtwebengine<5.13; python_version >= \"3\", which is not installed.\u001b[0m\n",
      "\u001b[31mERROR: pytest-astropy 0.8.0 requires pytest-cov>=2.0, which is not installed.\u001b[0m\n",
      "\u001b[31mERROR: pytest-astropy 0.8.0 requires pytest-filter-subpackage>=0.1, which is not installed.\u001b[0m\n",
      "\u001b[31mERROR: astroid 2.3.3 requires typed-ast<1.5,>=1.4.0; implementation_name == \"cpython\" and python_version < \"3.8\", which is not installed.\u001b[0m\n",
      "\u001b[31mERROR: selenium 4.0.0 has requirement urllib3[secure]~=1.26, but you'll have urllib3 1.25.9 which is incompatible.\u001b[0m\n",
      "\u001b[31mERROR: google-api-core 1.26.3 has requirement google-auth<2.0dev,>=1.21.1, but you'll have google-auth 1.16.1 which is incompatible.\u001b[0m\n",
      "Installing collected packages: tornado, toolz, locket, partd, pyyaml, cloudpickle, pyparsing, packaging, fsspec, numpy, MarkupSafe, jinja2, six, python-dateutil, pytz, pandas, typing-extensions, pillow, bokeh, dask, msgpack, heapdict, zict, tblib, setuptools, psutil, sortedcontainers, zipp, importlib-metadata, click, distributed, llvmlite, numba, joblib, threadpoolctl, scipy, scikit-learn, multipledispatch, dask-glm, dask-ml, graphviz\n",
      "Successfully installed MarkupSafe-2.1.1 bokeh-2.4.2 click-8.1.3 cloudpickle-2.0.0 dask-2022.2.0 dask-glm-0.2.0 dask-ml-2022.1.22 distributed-2022.2.0 fsspec-2022.3.0 graphviz-0.20 heapdict-1.0.1 importlib-metadata-4.11.3 jinja2-3.1.2 joblib-1.1.0 llvmlite-0.38.0 locket-1.0.0 msgpack-1.0.3 multipledispatch-0.6.0 numba-0.55.1 numpy-1.21.6 packaging-21.3 pandas-1.3.5 partd-1.2.0 pillow-9.1.0 psutil-5.9.0 pyparsing-3.0.8 python-dateutil-2.8.2 pytz-2022.1 pyyaml-6.0 scikit-learn-1.0.2 scipy-1.7.3 setuptools-62.1.0 six-1.16.0 sortedcontainers-2.4.0 tblib-1.7.0 threadpoolctl-3.1.0 toolz-0.11.2 tornado-6.1 typing-extensions-4.2.0 zict-2.2.0 zipp-3.8.0\n"
     ]
    }
   ],
   "source": [
    "#uncomment on first run\n",
    "!pip install distributed \"dask[complete]\" dask-ml graphviz --ignore-installed"
   ]
  },
  {
   "cell_type": "code",
   "execution_count": 19,
   "metadata": {
    "slideshow": {
     "slide_type": "subslide"
    }
   },
   "outputs": [
    {
     "name": "stdout",
     "output_type": "stream",
     "text": [
      "CPU times: user 70.6 ms, sys: 0 ns, total: 70.6 ms\n",
      "Wall time: 70.7 ms\n"
     ]
    },
    {
     "data": {
      "text/plain": [
       "49995033.03468711"
      ]
     },
     "execution_count": 19,
     "metadata": {},
     "output_type": "execute_result"
    }
   ],
   "source": [
    "#let's parallelize a simple array opperations\n",
    "import numpy as np\n",
    "np_A = np.random.rand(10000,10000) #create random NumPy array\n",
    "%time np_A.sum()"
   ]
  },
  {
   "cell_type": "code",
   "execution_count": 20,
   "metadata": {
    "slideshow": {
     "slide_type": "fragment"
    }
   },
   "outputs": [],
   "source": [
    "#now in parallel \n",
    "import dask.array as da\n",
    "da_A = da.from_array(np_A, chunks=(5000)) #create DASk array from existing NumPy array\n",
    "res = da_A.sum() #tell dask to compute the sum of A"
   ]
  },
  {
   "cell_type": "code",
   "execution_count": 21,
   "metadata": {
    "slideshow": {
     "slide_type": "subslide"
    }
   },
   "outputs": [
    {
     "data": {
      "text/html": [
       "<table>\n",
       "    <tr>\n",
       "        <td>\n",
       "            <table>\n",
       "                <thead>\n",
       "                    <tr>\n",
       "                        <td> </td>\n",
       "                        <th> Array </th>\n",
       "                        <th> Chunk </th>\n",
       "                    </tr>\n",
       "                </thead>\n",
       "                <tbody>\n",
       "                    \n",
       "                    <tr>\n",
       "                        <th> Bytes </th>\n",
       "                        <td> 8 B </td>\n",
       "                        <td> 8.0 B </td>\n",
       "                    </tr>\n",
       "                    \n",
       "                    <tr>\n",
       "                        <th> Shape </th>\n",
       "                        <td> () </td>\n",
       "                        <td> () </td>\n",
       "                    </tr>\n",
       "                    <tr>\n",
       "                        <th> Count </th>\n",
       "                        <td> 9 Tasks </td>\n",
       "                        <td> 1 Chunks </td>\n",
       "                    </tr>\n",
       "                    <tr>\n",
       "                    <th> Type </th>\n",
       "                    <td> float64 </td>\n",
       "                    <td> numpy.ndarray </td>\n",
       "                    </tr>\n",
       "                </tbody>\n",
       "            </table>\n",
       "        </td>\n",
       "        <td>\n",
       "        \n",
       "        </td>\n",
       "    </tr>\n",
       "</table>"
      ],
      "text/plain": [
       "dask.array<sum-aggregate, shape=(), dtype=float64, chunksize=(), chunktype=numpy.ndarray>"
      ]
     },
     "execution_count": 21,
     "metadata": {},
     "output_type": "execute_result"
    }
   ],
   "source": [
    "res"
   ]
  },
  {
   "cell_type": "markdown",
   "metadata": {
    "slideshow": {
     "slide_type": "fragment"
    }
   },
   "source": [
    "### Where is my result?\n",
    "In a nutshell: ***DASK*** basically works like ***TensorFlow***:\n",
    "* First, it builds an execution graph\n",
    "* Then, we need to execute it by calling ``compute()``"
   ]
  },
  {
   "cell_type": "code",
   "execution_count": 22,
   "metadata": {
    "slideshow": {
     "slide_type": "subslide"
    }
   },
   "outputs": [
    {
     "name": "stdout",
     "output_type": "stream",
     "text": [
      "CPU times: user 161 ms, sys: 6.37 ms, total: 168 ms\n",
      "Wall time: 66.9 ms\n"
     ]
    },
    {
     "data": {
      "text/plain": [
       "49995033.034687035"
      ]
     },
     "execution_count": 22,
     "metadata": {},
     "output_type": "execute_result"
    }
   ],
   "source": [
    "#call compute\n",
    "%time res.compute()"
   ]
  },
  {
   "cell_type": "markdown",
   "metadata": {
    "slideshow": {
     "slide_type": "fragment"
    }
   },
   "source": [
    "### Why is this not faster?\n",
    "Well, building the graph, parallelizing it and scheduling it's execution causes some overhead...\n",
    "* probably, our problem was to small :-)\n"
   ]
  },
  {
   "cell_type": "markdown",
   "metadata": {
    "slideshow": {
     "slide_type": "subslide"
    }
   },
   "source": [
    "### What is happening at ``compute()`` ?\n"
   ]
  },
  {
   "cell_type": "code",
   "execution_count": 23,
   "metadata": {
    "slideshow": {
     "slide_type": "fragment"
    }
   },
   "outputs": [],
   "source": [
    "#have look at the actual compute graph build by DASK\n",
    "_=res.visualize(filename='graph.svg')"
   ]
  },
  {
   "cell_type": "markdown",
   "metadata": {
    "slideshow": {
     "slide_type": "fragment"
    }
   },
   "source": [
    "<img src=\"graph.svg\" width=200>"
   ]
  },
  {
   "cell_type": "markdown",
   "metadata": {
    "slideshow": {
     "slide_type": "subslide"
    }
   },
   "source": [
    "### Ahh - MapReduce!\n",
    "* looks like ***DASK*** automatically implemented MapReduce\n",
    "* but, why did it use 4 parallel paths?\n",
    "\n",
    "<img src=\"graph.svg\" width=150>"
   ]
  },
  {
   "cell_type": "markdown",
   "metadata": {
    "slideshow": {
     "slide_type": "slide"
    }
   },
   "source": [
    "### Block concept of DASK arrays\n",
    "* ***DASK*** splitts arrays into blocks \n",
    "* parallelization (here MapReduce) runs over Blocks\n",
    "* Blocks sizes are definde by the ``chunks`` \n",
    "\n",
    "```\n",
    "#recall array creation\n",
    "da_A = da.from_array(np_A, chunks=(5000))\n",
    "```\n",
    "\n",
    "<img SRC=\"IMG/array.png\">"
   ]
  },
  {
   "cell_type": "code",
   "execution_count": 24,
   "metadata": {
    "slideshow": {
     "slide_type": "subslide"
    }
   },
   "outputs": [
    {
     "data": {
      "text/plain": [
       "((5000, 5000), (5000, 5000))"
      ]
     },
     "execution_count": 24,
     "metadata": {},
     "output_type": "execute_result"
    }
   ],
   "source": [
    "#get size of chucks\n",
    "da_A.chunks"
   ]
  },
  {
   "cell_type": "code",
   "execution_count": 25,
   "metadata": {
    "slideshow": {
     "slide_type": "fragment"
    }
   },
   "outputs": [
    {
     "data": {
      "text/plain": [
       "(5000, 5000)"
      ]
     },
     "execution_count": 25,
     "metadata": {},
     "output_type": "execute_result"
    }
   ],
   "source": [
    "da_A.chunksize"
   ]
  },
  {
   "cell_type": "code",
   "execution_count": 26,
   "metadata": {
    "slideshow": {
     "slide_type": "fragment"
    }
   },
   "outputs": [],
   "source": [
    "#change chunk size\n",
    "#WARNING: can be very expensive - better think about the chunk size before ...\n",
    "B=da_A.rechunk(1000)"
   ]
  },
  {
   "cell_type": "code",
   "execution_count": 27,
   "metadata": {
    "slideshow": {
     "slide_type": "fragment"
    }
   },
   "outputs": [
    {
     "data": {
      "text/plain": [
       "((1000, 1000, 1000, 1000, 1000, 1000, 1000, 1000, 1000, 1000),\n",
       " (1000, 1000, 1000, 1000, 1000, 1000, 1000, 1000, 1000, 1000))"
      ]
     },
     "execution_count": 27,
     "metadata": {},
     "output_type": "execute_result"
    }
   ],
   "source": [
    "B.chunks"
   ]
  },
  {
   "cell_type": "code",
   "execution_count": 28,
   "metadata": {
    "slideshow": {
     "slide_type": "subslide"
    }
   },
   "outputs": [],
   "source": [
    "res=B.sum()\n",
    "graph=res.visualize(filename='graph2.svg')#saving graph to file"
   ]
  },
  {
   "cell_type": "markdown",
   "metadata": {},
   "source": [
    "<img src=\"graph2.svg\" >"
   ]
  },
  {
   "cell_type": "markdown",
   "metadata": {
    "slideshow": {
     "slide_type": "slide"
    }
   },
   "source": [
    "### Is this running in Parallel ?\n",
    "* open ternminal\n",
    "* start ``top``\n",
    "* execute ``compute()``"
   ]
  },
  {
   "cell_type": "code",
   "execution_count": 29,
   "metadata": {
    "slideshow": {
     "slide_type": "fragment"
    }
   },
   "outputs": [
    {
     "name": "stdout",
     "output_type": "stream",
     "text": [
      "199 ms ± 17.6 ms per loop (mean ± std. dev. of 7 runs, 1 loop each)\n"
     ]
    }
   ],
   "source": [
    "%%timeit #measure mean of 10 runs\n",
    "res.compute()"
   ]
  },
  {
   "cell_type": "markdown",
   "metadata": {
    "slideshow": {
     "slide_type": "slide"
    }
   },
   "source": [
    "### Memory Usage\n",
    "By processing each block at a time, ***DASK*** is not only able tu run in parallel, but also needs only tthe memory for the bock size...\n",
    "* allows easy processing of **larger than memory** data sets"
   ]
  },
  {
   "cell_type": "code",
   "execution_count": 30,
   "metadata": {
    "slideshow": {
     "slide_type": "subslide"
    }
   },
   "outputs": [
    {
     "name": "stdout",
     "output_type": "stream",
     "text": [
      "CPU times: user 25.4 s, sys: 1min 31s, total: 1min 56s\n",
      "Wall time: 1min 57s\n",
      "CPU times: user 399 ms, sys: 3.34 ms, total: 403 ms\n",
      "Wall time: 407 ms\n"
     ]
    }
   ],
   "source": [
    "#a larger example in NumPy\n",
    "%time x = np.random.normal(10, 0.1, size=(20000, 20000)) \n",
    "%time y = x.mean(axis=0) #compute mean along first axis\n"
   ]
  },
  {
   "cell_type": "code",
   "execution_count": 31,
   "metadata": {
    "scrolled": false,
    "slideshow": {
     "slide_type": "subslide"
    }
   },
   "outputs": [
    {
     "name": "stdout",
     "output_type": "stream",
     "text": [
      "CPU times: user 26 s, sys: 91.1 ms, total: 26 s\n",
      "Wall time: 7.71 s\n"
     ]
    }
   ],
   "source": [
    "#same in DASK\n",
    "x = da.random.normal(10, 0.1, size=(20000, 20000), chunks=(1000, 1000))\n",
    "y = x.mean(axis=0) \n",
    "%time res=y.compute() "
   ]
  },
  {
   "cell_type": "markdown",
   "metadata": {
    "slideshow": {
     "slide_type": "slide"
    }
   },
   "source": [
    "<img src=\"IMG/pandas_logo.png\"  width=\"20%\">\n",
    "\n",
    "## DASK DataFrames: Dirstributed Pandas\n",
    "Pandas Dataframes are a very popular tool that provide full speadsheet and in-memory database functionality for the ***Python*** ecco system. It has become one of tstandard tools in Data Science and is also widely used for pre-processing / data wrangling tasks in machine learning\n",
    "\n",
    "* the ***DASK*** API for ***Pandas*** is analog to the one for ***NumPy*** and will not be discussed here, see https://docs.dask.org/en/latest/dataframe.html for details."
   ]
  },
  {
   "cell_type": "code",
   "execution_count": 67,
   "metadata": {
    "slideshow": {
     "slide_type": "subslide"
    }
   },
   "outputs": [],
   "source": [
    "# first example\n",
    "import dask.dataframe as dd\n",
    "import dask.datasets\n",
    "df = dask.datasets.timeseries()\n"
   ]
  },
  {
   "cell_type": "code",
   "execution_count": 61,
   "metadata": {
    "scrolled": true,
    "slideshow": {
     "slide_type": "fragment"
    }
   },
   "outputs": [
    {
     "data": {
      "text/html": [
       "<div><strong>Dask DataFrame Structure:</strong></div>\n",
       "<div>\n",
       "<style scoped>\n",
       "    .dataframe tbody tr th:only-of-type {\n",
       "        vertical-align: middle;\n",
       "    }\n",
       "\n",
       "    .dataframe tbody tr th {\n",
       "        vertical-align: top;\n",
       "    }\n",
       "\n",
       "    .dataframe thead th {\n",
       "        text-align: right;\n",
       "    }\n",
       "</style>\n",
       "<table border=\"1\" class=\"dataframe\">\n",
       "  <thead>\n",
       "    <tr style=\"text-align: right;\">\n",
       "      <th></th>\n",
       "      <th>id</th>\n",
       "      <th>name</th>\n",
       "      <th>x</th>\n",
       "      <th>y</th>\n",
       "    </tr>\n",
       "    <tr>\n",
       "      <th>npartitions=30</th>\n",
       "      <th></th>\n",
       "      <th></th>\n",
       "      <th></th>\n",
       "      <th></th>\n",
       "    </tr>\n",
       "  </thead>\n",
       "  <tbody>\n",
       "    <tr>\n",
       "      <th>2000-01-01</th>\n",
       "      <td>int64</td>\n",
       "      <td>object</td>\n",
       "      <td>float64</td>\n",
       "      <td>float64</td>\n",
       "    </tr>\n",
       "    <tr>\n",
       "      <th>2000-01-02</th>\n",
       "      <td>...</td>\n",
       "      <td>...</td>\n",
       "      <td>...</td>\n",
       "      <td>...</td>\n",
       "    </tr>\n",
       "    <tr>\n",
       "      <th>...</th>\n",
       "      <td>...</td>\n",
       "      <td>...</td>\n",
       "      <td>...</td>\n",
       "      <td>...</td>\n",
       "    </tr>\n",
       "    <tr>\n",
       "      <th>2000-01-30</th>\n",
       "      <td>...</td>\n",
       "      <td>...</td>\n",
       "      <td>...</td>\n",
       "      <td>...</td>\n",
       "    </tr>\n",
       "    <tr>\n",
       "      <th>2000-01-31</th>\n",
       "      <td>...</td>\n",
       "      <td>...</td>\n",
       "      <td>...</td>\n",
       "      <td>...</td>\n",
       "    </tr>\n",
       "  </tbody>\n",
       "</table>\n",
       "</div>\n",
       "<div>Dask Name: make-timeseries, 30 tasks</div>"
      ],
      "text/plain": [
       "Dask DataFrame Structure:\n",
       "                   id    name        x        y\n",
       "npartitions=30                                 \n",
       "2000-01-01      int64  object  float64  float64\n",
       "2000-01-02        ...     ...      ...      ...\n",
       "...               ...     ...      ...      ...\n",
       "2000-01-30        ...     ...      ...      ...\n",
       "2000-01-31        ...     ...      ...      ...\n",
       "Dask Name: make-timeseries, 30 tasks"
      ]
     },
     "execution_count": 61,
     "metadata": {},
     "output_type": "execute_result"
    }
   ],
   "source": [
    "df"
   ]
  },
  {
   "cell_type": "markdown",
   "metadata": {
    "slideshow": {
     "slide_type": "fragment"
    }
   },
   "source": [
    "Recall: ***lazy*** execution! No data in dataframe at this time..."
   ]
  },
  {
   "cell_type": "code",
   "execution_count": 62,
   "metadata": {
    "slideshow": {
     "slide_type": "subslide"
    }
   },
   "outputs": [
    {
     "data": {
      "text/html": [
       "<div>\n",
       "<style scoped>\n",
       "    .dataframe tbody tr th:only-of-type {\n",
       "        vertical-align: middle;\n",
       "    }\n",
       "\n",
       "    .dataframe tbody tr th {\n",
       "        vertical-align: top;\n",
       "    }\n",
       "\n",
       "    .dataframe thead th {\n",
       "        text-align: right;\n",
       "    }\n",
       "</style>\n",
       "<table border=\"1\" class=\"dataframe\">\n",
       "  <thead>\n",
       "    <tr style=\"text-align: right;\">\n",
       "      <th></th>\n",
       "      <th>id</th>\n",
       "      <th>name</th>\n",
       "      <th>x</th>\n",
       "      <th>y</th>\n",
       "    </tr>\n",
       "    <tr>\n",
       "      <th>timestamp</th>\n",
       "      <th></th>\n",
       "      <th></th>\n",
       "      <th></th>\n",
       "      <th></th>\n",
       "    </tr>\n",
       "  </thead>\n",
       "  <tbody>\n",
       "    <tr>\n",
       "      <th>2000-01-01 00:00:00</th>\n",
       "      <td>1084</td>\n",
       "      <td>Hannah</td>\n",
       "      <td>-0.862096</td>\n",
       "      <td>0.288977</td>\n",
       "    </tr>\n",
       "    <tr>\n",
       "      <th>2000-01-01 00:00:01</th>\n",
       "      <td>1005</td>\n",
       "      <td>Norbert</td>\n",
       "      <td>-0.500118</td>\n",
       "      <td>-0.102917</td>\n",
       "    </tr>\n",
       "    <tr>\n",
       "      <th>2000-01-01 00:00:02</th>\n",
       "      <td>1020</td>\n",
       "      <td>Sarah</td>\n",
       "      <td>-0.759303</td>\n",
       "      <td>-0.415179</td>\n",
       "    </tr>\n",
       "    <tr>\n",
       "      <th>2000-01-01 00:00:03</th>\n",
       "      <td>1046</td>\n",
       "      <td>Kevin</td>\n",
       "      <td>0.830275</td>\n",
       "      <td>-0.462301</td>\n",
       "    </tr>\n",
       "    <tr>\n",
       "      <th>2000-01-01 00:00:04</th>\n",
       "      <td>1020</td>\n",
       "      <td>George</td>\n",
       "      <td>-0.100821</td>\n",
       "      <td>-0.925373</td>\n",
       "    </tr>\n",
       "  </tbody>\n",
       "</table>\n",
       "</div>"
      ],
      "text/plain": [
       "                       id     name         x         y\n",
       "timestamp                                             \n",
       "2000-01-01 00:00:00  1084   Hannah -0.862096  0.288977\n",
       "2000-01-01 00:00:01  1005  Norbert -0.500118 -0.102917\n",
       "2000-01-01 00:00:02  1020    Sarah -0.759303 -0.415179\n",
       "2000-01-01 00:00:03  1046    Kevin  0.830275 -0.462301\n",
       "2000-01-01 00:00:04  1020   George -0.100821 -0.925373"
      ]
     },
     "execution_count": 62,
     "metadata": {},
     "output_type": "execute_result"
    }
   ],
   "source": [
    "#this is a call\n",
    "df.head()"
   ]
  },
  {
   "cell_type": "code",
   "execution_count": 63,
   "metadata": {
    "scrolled": true,
    "slideshow": {
     "slide_type": "subslide"
    }
   },
   "outputs": [
    {
     "data": {
      "text/plain": [
       "Dask Series Structure:\n",
       "npartitions=1\n",
       "    float64\n",
       "        ...\n",
       "Name: x, dtype: float64\n",
       "Dask Name: sqrt, 157 tasks"
      ]
     },
     "execution_count": 63,
     "metadata": {},
     "output_type": "execute_result"
    }
   ],
   "source": [
    "#let's groupBy ...\n",
    "df2 = df[df.y > 0]\n",
    "df3 = df2.groupby('name').x.std()\n",
    "df3"
   ]
  },
  {
   "cell_type": "code",
   "execution_count": 64,
   "metadata": {
    "scrolled": true,
    "slideshow": {
     "slide_type": "subslide"
    }
   },
   "outputs": [
    {
     "data": {
      "text/plain": [
       "name\n",
       "Alice       0.576987\n",
       "Bob         0.575847\n",
       "Charlie     0.578241\n",
       "Dan         0.575953\n",
       "Edith       0.575642\n",
       "Frank       0.577731\n",
       "George      0.577105\n",
       "Hannah      0.577788\n",
       "Ingrid      0.576883\n",
       "Jerry       0.578384\n",
       "Kevin       0.578557\n",
       "Laura       0.577752\n",
       "Michael     0.577014\n",
       "Norbert     0.577512\n",
       "Oliver      0.577851\n",
       "Patricia    0.577253\n",
       "Quinn       0.576059\n",
       "Ray         0.577580\n",
       "Sarah       0.576585\n",
       "Tim         0.575614\n",
       "Ursula      0.579472\n",
       "Victor      0.577431\n",
       "Wendy       0.575625\n",
       "Xavier      0.577255\n",
       "Yvonne      0.576810\n",
       "Zelda       0.577165\n",
       "Name: x, dtype: float64"
      ]
     },
     "execution_count": 64,
     "metadata": {},
     "output_type": "execute_result"
    }
   ],
   "source": [
    "df3.compute()\n"
   ]
  },
  {
   "cell_type": "code",
   "execution_count": 65,
   "metadata": {
    "scrolled": true,
    "slideshow": {
     "slide_type": "subslide"
    }
   },
   "outputs": [
    {
     "data": {
      "text/html": [
       "<div>\n",
       "<style scoped>\n",
       "    .dataframe tbody tr th:only-of-type {\n",
       "        vertical-align: middle;\n",
       "    }\n",
       "\n",
       "    .dataframe tbody tr th {\n",
       "        vertical-align: top;\n",
       "    }\n",
       "\n",
       "    .dataframe thead th {\n",
       "        text-align: right;\n",
       "    }\n",
       "</style>\n",
       "<table border=\"1\" class=\"dataframe\">\n",
       "  <thead>\n",
       "    <tr style=\"text-align: right;\">\n",
       "      <th></th>\n",
       "      <th>x</th>\n",
       "      <th>y</th>\n",
       "    </tr>\n",
       "    <tr>\n",
       "      <th>timestamp</th>\n",
       "      <th></th>\n",
       "      <th></th>\n",
       "    </tr>\n",
       "  </thead>\n",
       "  <tbody>\n",
       "    <tr>\n",
       "      <th>2000-01-01 00:00:00</th>\n",
       "      <td>0.008628</td>\n",
       "      <td>0.005664</td>\n",
       "    </tr>\n",
       "    <tr>\n",
       "      <th>2000-01-01 01:00:00</th>\n",
       "      <td>0.003081</td>\n",
       "      <td>0.007001</td>\n",
       "    </tr>\n",
       "    <tr>\n",
       "      <th>2000-01-01 02:00:00</th>\n",
       "      <td>-0.014031</td>\n",
       "      <td>-0.000913</td>\n",
       "    </tr>\n",
       "    <tr>\n",
       "      <th>2000-01-01 03:00:00</th>\n",
       "      <td>-0.003916</td>\n",
       "      <td>0.015590</td>\n",
       "    </tr>\n",
       "    <tr>\n",
       "      <th>2000-01-01 04:00:00</th>\n",
       "      <td>0.002899</td>\n",
       "      <td>-0.001942</td>\n",
       "    </tr>\n",
       "  </tbody>\n",
       "</table>\n",
       "</div>"
      ],
      "text/plain": [
       "                            x         y\n",
       "timestamp                              \n",
       "2000-01-01 00:00:00  0.008628  0.005664\n",
       "2000-01-01 01:00:00  0.003081  0.007001\n",
       "2000-01-01 02:00:00 -0.014031 -0.000913\n",
       "2000-01-01 03:00:00 -0.003916  0.015590\n",
       "2000-01-01 04:00:00  0.002899 -0.001942"
      ]
     },
     "execution_count": 65,
     "metadata": {},
     "output_type": "execute_result"
    }
   ],
   "source": [
    "#more complex opperation -> need trigger to start computation!\n",
    "df[['x', 'y']].resample('1h').mean().head()"
   ]
  },
  {
   "cell_type": "code",
   "execution_count": 66,
   "metadata": {
    "scrolled": true,
    "slideshow": {
     "slide_type": "subslide"
    }
   },
   "outputs": [
    {
     "data": {
      "text/plain": [
       "<matplotlib.axes._subplots.AxesSubplot at 0x7fc4e525d650>"
      ]
     },
     "execution_count": 66,
     "metadata": {},
     "output_type": "execute_result"
    },
    {
     "data": {
      "image/png": "[encoded data removed]",
      "text/plain": [
       "<Figure size 432x288 with 1 Axes>"
      ]
     },
     "metadata": {
      "needs_background": "light"
     },
     "output_type": "display_data"
    }
   ],
   "source": [
    "df[['x', 'y']].resample('24h').mean().compute().plot()"
   ]
  },
  {
   "cell_type": "markdown",
   "metadata": {
    "slideshow": {
     "slide_type": "subslide"
    }
   },
   "source": [
    "### DASK DataFrame summary\n",
    "* almost identical API as Pandas -> some things are still missing!\n",
    "* out of memory opperations\n",
    "* lazy execution -> need to trigger results via *atomic* opperations (just like in Spark)\n"
   ]
  },
  {
   "cell_type": "markdown",
   "metadata": {
    "slideshow": {
     "slide_type": "slide"
    }
   },
   "source": [
    "# Distributed Execution"
   ]
  },
  {
   "cell_type": "code",
   "execution_count": 33,
   "metadata": {
    "slideshow": {
     "slide_type": "fragment"
    }
   },
   "outputs": [],
   "source": [
    "#create local cluster with CPU Cores\n",
    "from dask.distributed import Client, LocalCluster\n",
    "cluster = LocalCluster()\n",
    "client = Client(cluster)"
   ]
  },
  {
   "cell_type": "markdown",
   "metadata": {
    "slideshow": {
     "slide_type": "fragment"
    }
   },
   "source": [
    "In our cluster enviroment, the ***DASK*** Cluster is automatically started for multi node jobs. See DASK documentation on how to setup a ***DASK*** cluster: http://distributed.dask.org/en/latest/setup.html"
   ]
  },
  {
   "cell_type": "code",
   "execution_count": 34,
   "metadata": {
    "slideshow": {
     "slide_type": "-"
    }
   },
   "outputs": [],
   "source": [
    "#client = Client(MASTER-IP) #get new DASK cluster client"
   ]
  },
  {
   "cell_type": "code",
   "execution_count": 68,
   "metadata": {
    "slideshow": {
     "slide_type": "subslide"
    }
   },
   "outputs": [
    {
     "data": {
      "text/html": [
       "<div>\n",
       "    <div style=\"width: 24px; height: 24px; background-color: #e1e1e1; border: 3px solid #9D9D9D; border-radius: 5px; position: absolute;\"> </div>\n",
       "    <div style=\"margin-left: 48px;\">\n",
       "        <h3 style=\"margin-bottom: 0px;\">Client</h3>\n",
       "        <p style=\"color: #9D9D9D; margin-bottom: 0px;\">Client-c175daca-cc4f-11ec-911a-ed32c4f02f30</p>\n",
       "        <table style=\"width: 100%; text-align: left;\">\n",
       "\n",
       "        <tr>\n",
       "        \n",
       "            <td style=\"text-align: left;\"><strong>Connection method:</strong> Cluster object</td>\n",
       "            <td style=\"text-align: left;\"><strong>Cluster type:</strong> distributed.LocalCluster</td>\n",
       "        \n",
       "        </tr>\n",
       "\n",
       "        \n",
       "            <tr>\n",
       "                <td style=\"text-align: left;\">\n",
       "                    <strong>Dashboard: </strong> <a href=\"http://127.0.0.1:8787/status\" target=\"_blank\">http://127.0.0.1:8787/status</a>\n",
       "                </td>\n",
       "                <td style=\"text-align: left;\"></td>\n",
       "            </tr>\n",
       "        \n",
       "\n",
       "        </table>\n",
       "\n",
       "        \n",
       "            <details>\n",
       "            <summary style=\"margin-bottom: 20px;\"><h3 style=\"display: inline;\">Cluster Info</h3></summary>\n",
       "            <div class=\"jp-RenderedHTMLCommon jp-RenderedHTML jp-mod-trusted jp-OutputArea-output\">\n",
       "    <div style=\"width: 24px; height: 24px; background-color: #e1e1e1; border: 3px solid #9D9D9D; border-radius: 5px; position: absolute;\">\n",
       "    </div>\n",
       "    <div style=\"margin-left: 48px;\">\n",
       "        <h3 style=\"margin-bottom: 0px; margin-top: 0px;\">LocalCluster</h3>\n",
       "        <p style=\"color: #9D9D9D; margin-bottom: 0px;\">ff798e5b</p>\n",
       "        <table style=\"width: 100%; text-align: left;\">\n",
       "            <tr>\n",
       "                <td style=\"text-align: left;\">\n",
       "                    <strong>Dashboard:</strong> <a href=\"http://127.0.0.1:8787/status\" target=\"_blank\">http://127.0.0.1:8787/status</a>\n",
       "                </td>\n",
       "                <td style=\"text-align: left;\">\n",
       "                    <strong>Workers:</strong> 4\n",
       "                </td>\n",
       "            </tr>\n",
       "            <tr>\n",
       "                <td style=\"text-align: left;\">\n",
       "                    <strong>Total threads:</strong> 4\n",
       "                </td>\n",
       "                <td style=\"text-align: left;\">\n",
       "                    <strong>Total memory:</strong> 15.43 GiB\n",
       "                </td>\n",
       "            </tr>\n",
       "            \n",
       "            <tr>\n",
       "    <td style=\"text-align: left;\"><strong>Status:</strong> running</td>\n",
       "    <td style=\"text-align: left;\"><strong>Using processes:</strong> True</td>\n",
       "</tr>\n",
       "\n",
       "            \n",
       "        </table>\n",
       "\n",
       "        <details>\n",
       "            <summary style=\"margin-bottom: 20px;\">\n",
       "                <h3 style=\"display: inline;\">Scheduler Info</h3>\n",
       "            </summary>\n",
       "\n",
       "            <div style=\"\">\n",
       "    <div>\n",
       "        <div style=\"width: 24px; height: 24px; background-color: #FFF7E5; border: 3px solid #FF6132; border-radius: 5px; position: absolute;\"> </div>\n",
       "        <div style=\"margin-left: 48px;\">\n",
       "            <h3 style=\"margin-bottom: 0px;\">Scheduler</h3>\n",
       "            <p style=\"color: #9D9D9D; margin-bottom: 0px;\">Scheduler-6b8436ba-6182-4436-9e65-14d3a4923f60</p>\n",
       "            <table style=\"width: 100%; text-align: left;\">\n",
       "                <tr>\n",
       "                    <td style=\"text-align: left;\">\n",
       "                        <strong>Comm:</strong> tcp://127.0.0.1:34753\n",
       "                    </td>\n",
       "                    <td style=\"text-align: left;\">\n",
       "                        <strong>Workers:</strong> 4\n",
       "                    </td>\n",
       "                </tr>\n",
       "                <tr>\n",
       "                    <td style=\"text-align: left;\">\n",
       "                        <strong>Dashboard:</strong> <a href=\"http://127.0.0.1:8787/status\" target=\"_blank\">http://127.0.0.1:8787/status</a>\n",
       "                    </td>\n",
       "                    <td style=\"text-align: left;\">\n",
       "                        <strong>Total threads:</strong> 4\n",
       "                    </td>\n",
       "                </tr>\n",
       "                <tr>\n",
       "                    <td style=\"text-align: left;\">\n",
       "                        <strong>Started:</strong> 2 hours ago\n",
       "                    </td>\n",
       "                    <td style=\"text-align: left;\">\n",
       "                        <strong>Total memory:</strong> 15.43 GiB\n",
       "                    </td>\n",
       "                </tr>\n",
       "            </table>\n",
       "        </div>\n",
       "    </div>\n",
       "\n",
       "    <details style=\"margin-left: 48px;\">\n",
       "        <summary style=\"margin-bottom: 20px;\">\n",
       "            <h3 style=\"display: inline;\">Workers</h3>\n",
       "        </summary>\n",
       "\n",
       "        \n",
       "        <div style=\"margin-bottom: 20px;\">\n",
       "            <div style=\"width: 24px; height: 24px; background-color: #DBF5FF; border: 3px solid #4CC9FF; border-radius: 5px; position: absolute;\"> </div>\n",
       "            <div style=\"margin-left: 48px;\">\n",
       "            <details>\n",
       "                <summary>\n",
       "                    <h4 style=\"margin-bottom: 0px; display: inline;\">Worker: 0</h4>\n",
       "                </summary>\n",
       "                <table style=\"width: 100%; text-align: left;\">\n",
       "                    <tr>\n",
       "                        <td style=\"text-align: left;\">\n",
       "                            <strong>Comm: </strong> tcp://127.0.0.1:40779\n",
       "                        </td>\n",
       "                        <td style=\"text-align: left;\">\n",
       "                            <strong>Total threads: </strong> 1\n",
       "                        </td>\n",
       "                    </tr>\n",
       "                    <tr>\n",
       "                        <td style=\"text-align: left;\">\n",
       "                            <strong>Dashboard: </strong> <a href=\"http://127.0.0.1:41323/status\" target=\"_blank\">http://127.0.0.1:41323/status</a>\n",
       "                        </td>\n",
       "                        <td style=\"text-align: left;\">\n",
       "                            <strong>Memory: </strong> 3.86 GiB\n",
       "                        </td>\n",
       "                    </tr>\n",
       "                    <tr>\n",
       "                        <td style=\"text-align: left;\">\n",
       "                            <strong>Nanny: </strong> tcp://127.0.0.1:38319\n",
       "                        </td>\n",
       "                        <td style=\"text-align: left;\"></td>\n",
       "                    </tr>\n",
       "                    <tr>\n",
       "                        <td colspan=\"2\" style=\"text-align: left;\">\n",
       "                            <strong>Local directory: </strong> /home/keuper/Vorlesung/SS_22/DataEngeneering/DataEngineering22/week_8/dask-worker-space/worker-3x70kjm5\n",
       "                        </td>\n",
       "                    </tr>\n",
       "\n",
       "                    \n",
       "\n",
       "                    \n",
       "\n",
       "                </table>\n",
       "            </details>\n",
       "            </div>\n",
       "        </div>\n",
       "        \n",
       "        <div style=\"margin-bottom: 20px;\">\n",
       "            <div style=\"width: 24px; height: 24px; background-color: #DBF5FF; border: 3px solid #4CC9FF; border-radius: 5px; position: absolute;\"> </div>\n",
       "            <div style=\"margin-left: 48px;\">\n",
       "            <details>\n",
       "                <summary>\n",
       "                    <h4 style=\"margin-bottom: 0px; display: inline;\">Worker: 1</h4>\n",
       "                </summary>\n",
       "                <table style=\"width: 100%; text-align: left;\">\n",
       "                    <tr>\n",
       "                        <td style=\"text-align: left;\">\n",
       "                            <strong>Comm: </strong> tcp://127.0.0.1:34073\n",
       "                        </td>\n",
       "                        <td style=\"text-align: left;\">\n",
       "                            <strong>Total threads: </strong> 1\n",
       "                        </td>\n",
       "                    </tr>\n",
       "                    <tr>\n",
       "                        <td style=\"text-align: left;\">\n",
       "                            <strong>Dashboard: </strong> <a href=\"http://127.0.0.1:44115/status\" target=\"_blank\">http://127.0.0.1:44115/status</a>\n",
       "                        </td>\n",
       "                        <td style=\"text-align: left;\">\n",
       "                            <strong>Memory: </strong> 3.86 GiB\n",
       "                        </td>\n",
       "                    </tr>\n",
       "                    <tr>\n",
       "                        <td style=\"text-align: left;\">\n",
       "                            <strong>Nanny: </strong> tcp://127.0.0.1:39875\n",
       "                        </td>\n",
       "                        <td style=\"text-align: left;\"></td>\n",
       "                    </tr>\n",
       "                    <tr>\n",
       "                        <td colspan=\"2\" style=\"text-align: left;\">\n",
       "                            <strong>Local directory: </strong> /home/keuper/Vorlesung/SS_22/DataEngeneering/DataEngineering22/week_8/dask-worker-space/worker-8b3x90d7\n",
       "                        </td>\n",
       "                    </tr>\n",
       "\n",
       "                    \n",
       "\n",
       "                    \n",
       "\n",
       "                </table>\n",
       "            </details>\n",
       "            </div>\n",
       "        </div>\n",
       "        \n",
       "        <div style=\"margin-bottom: 20px;\">\n",
       "            <div style=\"width: 24px; height: 24px; background-color: #DBF5FF; border: 3px solid #4CC9FF; border-radius: 5px; position: absolute;\"> </div>\n",
       "            <div style=\"margin-left: 48px;\">\n",
       "            <details>\n",
       "                <summary>\n",
       "                    <h4 style=\"margin-bottom: 0px; display: inline;\">Worker: 2</h4>\n",
       "                </summary>\n",
       "                <table style=\"width: 100%; text-align: left;\">\n",
       "                    <tr>\n",
       "                        <td style=\"text-align: left;\">\n",
       "                            <strong>Comm: </strong> tcp://127.0.0.1:40603\n",
       "                        </td>\n",
       "                        <td style=\"text-align: left;\">\n",
       "                            <strong>Total threads: </strong> 1\n",
       "                        </td>\n",
       "                    </tr>\n",
       "                    <tr>\n",
       "                        <td style=\"text-align: left;\">\n",
       "                            <strong>Dashboard: </strong> <a href=\"http://127.0.0.1:42287/status\" target=\"_blank\">http://127.0.0.1:42287/status</a>\n",
       "                        </td>\n",
       "                        <td style=\"text-align: left;\">\n",
       "                            <strong>Memory: </strong> 3.86 GiB\n",
       "                        </td>\n",
       "                    </tr>\n",
       "                    <tr>\n",
       "                        <td style=\"text-align: left;\">\n",
       "                            <strong>Nanny: </strong> tcp://127.0.0.1:45867\n",
       "                        </td>\n",
       "                        <td style=\"text-align: left;\"></td>\n",
       "                    </tr>\n",
       "                    <tr>\n",
       "                        <td colspan=\"2\" style=\"text-align: left;\">\n",
       "                            <strong>Local directory: </strong> /home/keuper/Vorlesung/SS_22/DataEngeneering/DataEngineering22/week_8/dask-worker-space/worker-2qrrik3q\n",
       "                        </td>\n",
       "                    </tr>\n",
       "\n",
       "                    \n",
       "\n",
       "                    \n",
       "\n",
       "                </table>\n",
       "            </details>\n",
       "            </div>\n",
       "        </div>\n",
       "        \n",
       "        <div style=\"margin-bottom: 20px;\">\n",
       "            <div style=\"width: 24px; height: 24px; background-color: #DBF5FF; border: 3px solid #4CC9FF; border-radius: 5px; position: absolute;\"> </div>\n",
       "            <div style=\"margin-left: 48px;\">\n",
       "            <details>\n",
       "                <summary>\n",
       "                    <h4 style=\"margin-bottom: 0px; display: inline;\">Worker: 3</h4>\n",
       "                </summary>\n",
       "                <table style=\"width: 100%; text-align: left;\">\n",
       "                    <tr>\n",
       "                        <td style=\"text-align: left;\">\n",
       "                            <strong>Comm: </strong> tcp://127.0.0.1:41289\n",
       "                        </td>\n",
       "                        <td style=\"text-align: left;\">\n",
       "                            <strong>Total threads: </strong> 1\n",
       "                        </td>\n",
       "                    </tr>\n",
       "                    <tr>\n",
       "                        <td style=\"text-align: left;\">\n",
       "                            <strong>Dashboard: </strong> <a href=\"http://127.0.0.1:34439/status\" target=\"_blank\">http://127.0.0.1:34439/status</a>\n",
       "                        </td>\n",
       "                        <td style=\"text-align: left;\">\n",
       "                            <strong>Memory: </strong> 3.86 GiB\n",
       "                        </td>\n",
       "                    </tr>\n",
       "                    <tr>\n",
       "                        <td style=\"text-align: left;\">\n",
       "                            <strong>Nanny: </strong> tcp://127.0.0.1:44441\n",
       "                        </td>\n",
       "                        <td style=\"text-align: left;\"></td>\n",
       "                    </tr>\n",
       "                    <tr>\n",
       "                        <td colspan=\"2\" style=\"text-align: left;\">\n",
       "                            <strong>Local directory: </strong> /home/keuper/Vorlesung/SS_22/DataEngeneering/DataEngineering22/week_8/dask-worker-space/worker-vxuc58ii\n",
       "                        </td>\n",
       "                    </tr>\n",
       "\n",
       "                    \n",
       "\n",
       "                    \n",
       "\n",
       "                </table>\n",
       "            </details>\n",
       "            </div>\n",
       "        </div>\n",
       "        \n",
       "\n",
       "    </details>\n",
       "</div>\n",
       "\n",
       "        </details>\n",
       "    </div>\n",
       "</div>\n",
       "            </details>\n",
       "        \n",
       "\n",
       "    </div>\n",
       "</div>"
      ],
      "text/plain": [
       "<Client: 'tcp://127.0.0.1:34753' processes=4 threads=4, memory=15.43 GiB>"
      ]
     },
     "execution_count": 68,
     "metadata": {},
     "output_type": "execute_result"
    }
   ],
   "source": [
    "client"
   ]
  },
  {
   "cell_type": "code",
   "execution_count": 36,
   "metadata": {
    "slideshow": {
     "slide_type": "subslide"
    }
   },
   "outputs": [
    {
     "name": "stdout",
     "output_type": "stream",
     "text": [
      "tcp://127.0.0.1:34073\n",
      "tcp://127.0.0.1:40603\n",
      "tcp://127.0.0.1:40779\n",
      "tcp://127.0.0.1:41289\n"
     ]
    }
   ],
   "source": [
    "#see how many workers we have\n",
    "workers=client.scheduler_info()['workers']\n",
    "for w in workers:\n",
    "    print(w)"
   ]
  },
  {
   "cell_type": "markdown",
   "metadata": {
    "slideshow": {
     "slide_type": "subslide"
    }
   },
   "source": [
    "## Submit work to the Cluster"
   ]
  },
  {
   "cell_type": "code",
   "execution_count": 37,
   "metadata": {
    "slideshow": {
     "slide_type": "-"
    }
   },
   "outputs": [],
   "source": [
    "#simple remote functions\n",
    "def square(x):\n",
    "    return x ** 2\n",
    "\n",
    "def neg(x):\n",
    "    return -x\n",
    "\n",
    "#using the map future, functions will be scheduled for execution - NO graph building and compute()\n",
    "A = client.map(square, range(1000))\n",
    "B = client.map(neg, A)"
   ]
  },
  {
   "cell_type": "code",
   "execution_count": 38,
   "metadata": {
    "slideshow": {
     "slide_type": "subslide"
    }
   },
   "outputs": [],
   "source": [
    "total = client.submit(sum, B)"
   ]
  },
  {
   "cell_type": "code",
   "execution_count": 39,
   "metadata": {
    "slideshow": {
     "slide_type": "fragment"
    }
   },
   "outputs": [
    {
     "name": "stdout",
     "output_type": "stream",
     "text": [
      "done:  -332833500\n"
     ]
    }
   ],
   "source": [
    "\n",
    "res = total.result()\n",
    "print (\"done: \",res)"
   ]
  },
  {
   "cell_type": "markdown",
   "metadata": {
    "slideshow": {
     "slide_type": "slide"
    }
   },
   "source": [
    "### Arrays on the Cluster\n",
    "Starting a cluster client automatically cause the high level interfaces to use the cluster"
   ]
  },
  {
   "cell_type": "code",
   "execution_count": 40,
   "metadata": {
    "slideshow": {
     "slide_type": "fragment"
    }
   },
   "outputs": [],
   "source": [
    "import numpy as np\n",
    "np_A = np.random.rand(10000,10000) #create random NumPy array\n",
    "import dask.array as da\n",
    "cluster_A = da.from_array(np_A, chunks=(5000)) #create DASk array from existing NumPy array\n",
    "res = cluster_A.sum() #tell dask to compute the sum of A"
   ]
  },
  {
   "cell_type": "code",
   "execution_count": 41,
   "metadata": {
    "slideshow": {
     "slide_type": "fragment"
    }
   },
   "outputs": [
    {
     "name": "stdout",
     "output_type": "stream",
     "text": [
      "CPU times: user 406 ms, sys: 2.59 s, total: 3 s\n",
      "Wall time: 3.49 s\n"
     ]
    },
    {
     "data": {
      "text/plain": [
       "50002193.26478332"
      ]
     },
     "execution_count": 41,
     "metadata": {},
     "output_type": "execute_result"
    }
   ],
   "source": [
    "\n",
    "%time res.compute()"
   ]
  },
  {
   "cell_type": "markdown",
   "metadata": {
    "slideshow": {
     "slide_type": "slide"
    }
   },
   "source": [
    "## Dask Dashboard\n",
    "\n",
    "* Open http://localhost:8787/status to get the Dask dashboard \n",
    "* (replace with master node IP for remote clusters)"
   ]
  },
  {
   "cell_type": "markdown",
   "metadata": {
    "slideshow": {
     "slide_type": "slide"
    }
   },
   "source": [
    "## ***DASK-ML*** Project\n",
    "Approach to make ***DASK*** a full distributed ML framework\n",
    "* https://ml.dask.org/\n",
    "* Scikit-Learn like API: https://ml.dask.org/modules/api.html"
   ]
  },
  {
   "cell_type": "markdown",
   "metadata": {
    "slideshow": {
     "slide_type": "subslide"
    }
   },
   "source": [
    "### Example: K-MEANS"
   ]
  },
  {
   "cell_type": "code",
   "execution_count": 77,
   "metadata": {
    "slideshow": {
     "slide_type": "-"
    }
   },
   "outputs": [],
   "source": [
    "%matplotlib inline\n",
    "\n",
    "import dask_ml.datasets\n",
    "import dask_ml.cluster\n",
    "import matplotlib.pyplot as plt\n",
    "\n"
   ]
  },
  {
   "cell_type": "code",
   "execution_count": 78,
   "metadata": {
    "slideshow": {
     "slide_type": "subslide"
    }
   },
   "outputs": [
    {
     "data": {
      "text/html": [
       "<table>\n",
       "    <tr>\n",
       "        <td>\n",
       "            <table>\n",
       "                <thead>\n",
       "                    <tr>\n",
       "                        <td> </td>\n",
       "                        <th> Array </th>\n",
       "                        <th> Chunk </th>\n",
       "                    </tr>\n",
       "                </thead>\n",
       "                <tbody>\n",
       "                    \n",
       "                    <tr>\n",
       "                        <th> Bytes </th>\n",
       "                        <td> 15.26 MiB </td>\n",
       "                        <td> 1.53 MiB </td>\n",
       "                    </tr>\n",
       "                    \n",
       "                    <tr>\n",
       "                        <th> Shape </th>\n",
       "                        <td> (1000000, 2) </td>\n",
       "                        <td> (100000, 2) </td>\n",
       "                    </tr>\n",
       "                    <tr>\n",
       "                        <th> Count </th>\n",
       "                        <td> 10 Tasks </td>\n",
       "                        <td> 10 Chunks </td>\n",
       "                    </tr>\n",
       "                    <tr>\n",
       "                    <th> Type </th>\n",
       "                    <td> float64 </td>\n",
       "                    <td> numpy.ndarray </td>\n",
       "                    </tr>\n",
       "                </tbody>\n",
       "            </table>\n",
       "        </td>\n",
       "        <td>\n",
       "        <svg width=\"75\" height=\"170\" style=\"stroke:rgb(0,0,0);stroke-width:1\" >\n",
       "\n",
       "  <!-- Horizontal lines -->\n",
       "  <line x1=\"0\" y1=\"0\" x2=\"25\" y2=\"0\" style=\"stroke-width:2\" />\n",
       "  <line x1=\"0\" y1=\"12\" x2=\"25\" y2=\"12\" />\n",
       "  <line x1=\"0\" y1=\"24\" x2=\"25\" y2=\"24\" />\n",
       "  <line x1=\"0\" y1=\"36\" x2=\"25\" y2=\"36\" />\n",
       "  <line x1=\"0\" y1=\"48\" x2=\"25\" y2=\"48\" />\n",
       "  <line x1=\"0\" y1=\"60\" x2=\"25\" y2=\"60\" />\n",
       "  <line x1=\"0\" y1=\"72\" x2=\"25\" y2=\"72\" />\n",
       "  <line x1=\"0\" y1=\"84\" x2=\"25\" y2=\"84\" />\n",
       "  <line x1=\"0\" y1=\"96\" x2=\"25\" y2=\"96\" />\n",
       "  <line x1=\"0\" y1=\"108\" x2=\"25\" y2=\"108\" />\n",
       "  <line x1=\"0\" y1=\"120\" x2=\"25\" y2=\"120\" style=\"stroke-width:2\" />\n",
       "\n",
       "  <!-- Vertical lines -->\n",
       "  <line x1=\"0\" y1=\"0\" x2=\"0\" y2=\"120\" style=\"stroke-width:2\" />\n",
       "  <line x1=\"25\" y1=\"0\" x2=\"25\" y2=\"120\" style=\"stroke-width:2\" />\n",
       "\n",
       "  <!-- Colored Rectangle -->\n",
       "  <polygon points=\"0.0,0.0 25.412616514582485,0.0 25.412616514582485,120.0 0.0,120.0\" style=\"fill:#ECB172A0;stroke-width:0\"/>\n",
       "\n",
       "  <!-- Text -->\n",
       "  <text x=\"12.706308\" y=\"140.000000\" font-size=\"1.0rem\" font-weight=\"100\" text-anchor=\"middle\" >2</text>\n",
       "  <text x=\"45.412617\" y=\"60.000000\" font-size=\"1.0rem\" font-weight=\"100\" text-anchor=\"middle\" transform=\"rotate(-90,45.412617,60.000000)\">1000000</text>\n",
       "</svg>\n",
       "        </td>\n",
       "    </tr>\n",
       "</table>"
      ],
      "text/plain": [
       "dask.array<concatenate, shape=(1000000, 2), dtype=float64, chunksize=(100000, 2), chunktype=numpy.ndarray>"
      ]
     },
     "execution_count": 78,
     "metadata": {},
     "output_type": "execute_result"
    }
   ],
   "source": [
    "#generate like in execise 2, but now with dask_mL\n",
    "X, y = dask_ml.datasets.make_blobs(n_samples=1000000,\n",
    "                                   chunks=100000,\n",
    "                                   random_state=0,\n",
    "                                   centers=3)\n",
    "X = X.persist() #manual executions on X\n",
    "X"
   ]
  },
  {
   "cell_type": "code",
   "execution_count": 82,
   "metadata": {
    "slideshow": {
     "slide_type": "subslide"
    }
   },
   "outputs": [
    {
     "data": {
      "text/plain": [
       "KMeans(init_max_iter=2000, n_clusters=3, oversampling_factor=10)"
      ]
     },
     "execution_count": 82,
     "metadata": {},
     "output_type": "execute_result"
    }
   ],
   "source": [
    "#call skleran k-means\n",
    "km = dask_ml.cluster.KMeans(n_clusters=3, init_max_iter=2000, oversampling_factor=10)\n",
    "km.fit(X)"
   ]
  },
  {
   "cell_type": "code",
   "execution_count": 80,
   "metadata": {
    "scrolled": true,
    "slideshow": {
     "slide_type": "subslide"
    }
   },
   "outputs": [
    {
     "data": {
      "image/png": "[encoded data removed]",
      "text/plain": [
       "<Figure size 432x288 with 1 Axes>"
      ]
     },
     "metadata": {
      "needs_background": "light"
     },
     "output_type": "display_data"
    }
   ],
   "source": [
    "plt.scatter(X[::1000, 0], X[::1000, 1], marker='.', c=km.labels_[::1000],  cmap='viridis', alpha=0.25);\n",
    "\n"
   ]
  },
  {
   "cell_type": "markdown",
   "metadata": {
    "slideshow": {
     "slide_type": "subslide"
    }
   },
   "source": [
    "### Example: Hyper-parameter optimization"
   ]
  },
  {
   "cell_type": "code",
   "execution_count": 81,
   "metadata": {
    "scrolled": true,
    "slideshow": {
     "slide_type": "-"
    }
   },
   "outputs": [
    {
     "data": {
      "image/png": "[encoded data removed]",
      "text/plain": [
       "<Figure size 432x288 with 2 Axes>"
      ]
     },
     "metadata": {
      "needs_background": "light"
     },
     "output_type": "display_data"
    }
   ],
   "source": [
    "from sklearn.datasets import make_circles\n",
    "import numpy as np\n",
    "import pandas as pd\n",
    "\n",
    "X, y = make_circles(n_samples=30_000, random_state=0, noise=0.09)\n",
    "\n",
    "pd.DataFrame({0: X[:, 0], 1: X[:, 1], \"class\": y}).sample(4_000).plot.scatter(\n",
    "    x=0, y=1, alpha=0.2, c=\"class\", cmap=\"bwr\"\n",
    ");"
   ]
  },
  {
   "cell_type": "code",
   "execution_count": 70,
   "metadata": {
    "slideshow": {
     "slide_type": "subslide"
    }
   },
   "outputs": [
    {
     "data": {
      "text/plain": [
       "(30000, 6)"
      ]
     },
     "execution_count": 70,
     "metadata": {},
     "output_type": "execute_result"
    }
   ],
   "source": [
    "# make date 6D to get larger problem\n",
    "from sklearn.utils import check_random_state\n",
    "\n",
    "rng = check_random_state(42)\n",
    "random_feats = rng.uniform(-1, 1, size=(X.shape[0], 4))\n",
    "X = np.hstack((X, random_feats))\n",
    "X.shape"
   ]
  },
  {
   "cell_type": "code",
   "execution_count": 71,
   "metadata": {
    "slideshow": {
     "slide_type": "subslide"
    }
   },
   "outputs": [],
   "source": [
    "#gen train and test set\n",
    "from sklearn.model_selection import train_test_split\n",
    "X_train, X_test, y_train, y_test = train_test_split(X, y, test_size=5_000, random_state=42)\n",
    "\n",
    "from sklearn.preprocessing import StandardScaler\n",
    "from sklearn.model_selection import train_test_split\n",
    "scaler = StandardScaler().fit(X_train)\n",
    "\n",
    "X_train = scaler.transform(X_train)\n",
    "X_test = scaler.transform(X_test)\n",
    "\n"
   ]
  },
  {
   "cell_type": "code",
   "execution_count": 72,
   "metadata": {
    "slideshow": {
     "slide_type": "subslide"
    }
   },
   "outputs": [],
   "source": [
    "#create small NN\n",
    "import numpy as np\n",
    "from sklearn.neural_network import MLPClassifier\n",
    "\n",
    "model = MLPClassifier()\n",
    "\n",
    "params = {\n",
    "    \"hidden_layer_sizes\": [\n",
    "        (24, ),\n",
    "        (12, 12),\n",
    "        (6, 6, 6, 6),\n",
    "        (4, 4, 4, 4, 4, 4),\n",
    "        (12, 6, 3, 3),\n",
    "    ],\n",
    "    \"activation\": [\"relu\", \"logistic\", \"tanh\"],\n",
    "    \"alpha\": np.logspace(-6, -3, num=1000),  # cnts\n",
    "    \"batch_size\": [16, 32, 64, 128, 256, 512],\n",
    "}\n",
    "\n"
   ]
  },
  {
   "cell_type": "code",
   "execution_count": 73,
   "metadata": {
    "slideshow": {
     "slide_type": "subslide"
    }
   },
   "outputs": [],
   "source": [
    "from dask_ml.model_selection import HyperbandSearchCV\n",
    "\n",
    "n_examples = 4 * len(X_train)\n",
    "n_params = 8\n",
    "\n",
    "# In practice, HyperbandSearchCV is most useful for longer searches\n",
    "# n_examples = 15 * len(X_train)\n",
    "# n_params = 15"
   ]
  },
  {
   "cell_type": "code",
   "execution_count": 74,
   "metadata": {
    "scrolled": true,
    "slideshow": {
     "slide_type": "subslide"
    }
   },
   "outputs": [
    {
     "data": {
      "text/html": [
       "<table>\n",
       "    <tr>\n",
       "        <td>\n",
       "            <table>\n",
       "                <thead>\n",
       "                    <tr>\n",
       "                        <td> </td>\n",
       "                        <th> Array </th>\n",
       "                        <th> Chunk </th>\n",
       "                    </tr>\n",
       "                </thead>\n",
       "                <tbody>\n",
       "                    \n",
       "                    <tr>\n",
       "                        <th> Bytes </th>\n",
       "                        <td> 1.14 MiB </td>\n",
       "                        <td> 585.94 kiB </td>\n",
       "                    </tr>\n",
       "                    \n",
       "                    <tr>\n",
       "                        <th> Shape </th>\n",
       "                        <td> (25000, 6) </td>\n",
       "                        <td> (12500, 6) </td>\n",
       "                    </tr>\n",
       "                    <tr>\n",
       "                        <th> Count </th>\n",
       "                        <td> 2 Tasks </td>\n",
       "                        <td> 2 Chunks </td>\n",
       "                    </tr>\n",
       "                    <tr>\n",
       "                    <th> Type </th>\n",
       "                    <td> float64 </td>\n",
       "                    <td> numpy.ndarray </td>\n",
       "                    </tr>\n",
       "                </tbody>\n",
       "            </table>\n",
       "        </td>\n",
       "        <td>\n",
       "        <svg width=\"75\" height=\"170\" style=\"stroke:rgb(0,0,0);stroke-width:1\" >\n",
       "\n",
       "  <!-- Horizontal lines -->\n",
       "  <line x1=\"0\" y1=\"0\" x2=\"25\" y2=\"0\" style=\"stroke-width:2\" />\n",
       "  <line x1=\"0\" y1=\"60\" x2=\"25\" y2=\"60\" />\n",
       "  <line x1=\"0\" y1=\"120\" x2=\"25\" y2=\"120\" style=\"stroke-width:2\" />\n",
       "\n",
       "  <!-- Vertical lines -->\n",
       "  <line x1=\"0\" y1=\"0\" x2=\"0\" y2=\"120\" style=\"stroke-width:2\" />\n",
       "  <line x1=\"25\" y1=\"0\" x2=\"25\" y2=\"120\" style=\"stroke-width:2\" />\n",
       "\n",
       "  <!-- Colored Rectangle -->\n",
       "  <polygon points=\"0.0,0.0 25.412616514582485,0.0 25.412616514582485,120.0 0.0,120.0\" style=\"fill:#ECB172A0;stroke-width:0\"/>\n",
       "\n",
       "  <!-- Text -->\n",
       "  <text x=\"12.706308\" y=\"140.000000\" font-size=\"1.0rem\" font-weight=\"100\" text-anchor=\"middle\" >6</text>\n",
       "  <text x=\"45.412617\" y=\"60.000000\" font-size=\"1.0rem\" font-weight=\"100\" text-anchor=\"middle\" transform=\"rotate(-90,45.412617,60.000000)\">25000</text>\n",
       "</svg>\n",
       "        </td>\n",
       "    </tr>\n",
       "</table>"
      ],
      "text/plain": [
       "dask.array<array, shape=(25000, 6), dtype=float64, chunksize=(12500, 6), chunktype=numpy.ndarray>"
      ]
     },
     "execution_count": 74,
     "metadata": {},
     "output_type": "execute_result"
    }
   ],
   "source": [
    "#prepare date in chunks\n",
    "max_iter = n_params  # number of times partial_fit will be called\n",
    "chunks = n_examples // n_params  # number of examples each call sees\n",
    "\n",
    "\n",
    "X_train2 = da.from_array(X_train, chunks=chunks)\n",
    "y_train2 = da.from_array(y_train, chunks=chunks)\n",
    "X_train2"
   ]
  },
  {
   "cell_type": "code",
   "execution_count": 75,
   "metadata": {
    "slideshow": {
     "slide_type": "subslide"
    }
   },
   "outputs": [
    {
     "data": {
      "text/plain": [
       "26"
      ]
     },
     "execution_count": 75,
     "metadata": {},
     "output_type": "execute_result"
    }
   ],
   "source": [
    "#setup search model\n",
    "search = HyperbandSearchCV(\n",
    "    model,\n",
    "    params,\n",
    "    max_iter=max_iter,\n",
    "    patience=True,\n",
    ")\n",
    "search.metadata[\"partial_fit_calls\"] #get number of evaluations"
   ]
  },
  {
   "cell_type": "code",
   "execution_count": 76,
   "metadata": {
    "scrolled": true,
    "slideshow": {
     "slide_type": "subslide"
    }
   },
   "outputs": [
    {
     "name": "stderr",
     "output_type": "stream",
     "text": [
      "/home/keuper/anaconda3/lib/python3.7/site-packages/dask_ml/model_selection/_incremental.py:641: VisibleDeprecationWarning: Creating an ndarray from ragged nested sequences (which is a list-or-tuple of lists-or-tuples-or ndarrays with different lengths or shapes) is deprecated. If you meant to do this, you must specify 'dtype=object' when creating the ndarray.\n",
      "  cv_results = {k: np.array(v) for k, v in cv_results.items()}\n",
      "/home/keuper/anaconda3/lib/python3.7/site-packages/dask_ml/model_selection/_hyperband.py:455: VisibleDeprecationWarning: Creating an ndarray from ragged nested sequences (which is a list-or-tuple of lists-or-tuples-or ndarrays with different lengths or shapes) is deprecated. If you meant to do this, you must specify 'dtype=object' when creating the ndarray.\n",
      "  cv_results = {k: np.array(v) for k, v in cv_results.items()}\n"
     ]
    },
    {
     "data": {
      "text/plain": [
       "HyperbandSearchCV(estimator=MLPClassifier(), max_iter=8,\n",
       "                  parameters={'activation': ['relu', 'logistic', 'tanh'],\n",
       "                              'alpha': array([1.00000000e-06, 1.00693863e-06, 1.01392541e-06, 1.02096066e-06,\n",
       "       1.02804473e-06, 1.03517796e-06, 1.04236067e-06, 1.04959323e-06,\n",
       "       1.05687597e-06, 1.06420924e-06, 1.07159340e-06, 1.07902879e-06,\n",
       "       1.08651577e-06, 1.09405471e-06, 1.10164595e-06, 1.1...\n",
       "       9.01477631e-04, 9.07732653e-04, 9.14031075e-04, 9.20373200e-04,\n",
       "       9.26759330e-04, 9.33189772e-04, 9.39664831e-04, 9.46184819e-04,\n",
       "       9.52750047e-04, 9.59360829e-04, 9.66017480e-04, 9.72720319e-04,\n",
       "       9.79469667e-04, 9.86265846e-04, 9.93109181e-04, 1.00000000e-03]),\n",
       "                              'batch_size': [16, 32, 64, 128, 256, 512],\n",
       "                              'hidden_layer_sizes': [(24,), (12, 12),\n",
       "                                                     (6, 6, 6, 6),\n",
       "                                                     (4, 4, 4, 4, 4, 4),\n",
       "                                                     (12, 6, 3, 3)]},\n",
       "                  patience=True)"
      ]
     },
     "execution_count": 76,
     "metadata": {},
     "output_type": "execute_result"
    }
   ],
   "source": [
    "#start!\n",
    "search.fit(X_train2, y_train2, classes=[0, 1, 2, 3])"
   ]
  },
  {
   "cell_type": "code",
   "execution_count": 54,
   "metadata": {
    "slideshow": {
     "slide_type": "subslide"
    }
   },
   "outputs": [
    {
     "name": "stdout",
     "output_type": "stream",
     "text": [
      "0.6434\n",
      "MLPClassifier(alpha=1.0715933998226711e-06, batch_size=128,\n",
      "              hidden_layer_sizes=(12, 6, 3, 3))\n"
     ]
    }
   ],
   "source": [
    "#get results\n",
    "print(search.best_score_)\n",
    "print(search.best_estimator_)\n",
    "\n"
   ]
  },
  {
   "cell_type": "markdown",
   "metadata": {
    "slideshow": {
     "slide_type": "slide"
    }
   },
   "source": [
    "# Low Level Interfaces: Parallelizing Compute Graphs\n",
    "Building the Compute-Graph manually"
   ]
  },
  {
   "cell_type": "code",
   "execution_count": 55,
   "metadata": {
    "slideshow": {
     "slide_type": "subslide"
    }
   },
   "outputs": [],
   "source": [
    "# simple example\n",
    "def inc(x):\n",
    "    return x + 1\n",
    "\n",
    "def double(x):\n",
    "    return x + 2\n",
    "\n",
    "def add(x, y):\n",
    "    return x + y\n",
    "\n",
    "data = [1, 2, 3, 4, 5]\n",
    "\n",
    "output = []\n",
    "for x in data:\n",
    "    a = inc(x)\n",
    "    b = double(x)\n",
    "    c = add(a, b)\n",
    "    output.append(c)\n",
    "\n",
    "total = sum(output)\n"
   ]
  },
  {
   "cell_type": "code",
   "execution_count": 56,
   "metadata": {
    "slideshow": {
     "slide_type": "fragment"
    }
   },
   "outputs": [
    {
     "data": {
      "text/plain": [
       "45"
      ]
     },
     "execution_count": 56,
     "metadata": {},
     "output_type": "execute_result"
    }
   ],
   "source": [
    "total"
   ]
  },
  {
   "cell_type": "markdown",
   "metadata": {
    "slideshow": {
     "slide_type": "subslide"
    }
   },
   "source": [
    "### **Now, build a graph:**\n",
    "```dask.delayed()``` add functions and arguments to graph:"
   ]
  },
  {
   "cell_type": "code",
   "execution_count": 57,
   "metadata": {
    "slideshow": {
     "slide_type": "fragment"
    }
   },
   "outputs": [],
   "source": [
    "import dask\n",
    "\n",
    "output = []\n",
    "for x in data:\n",
    "    a = dask.delayed(inc)(x)\n",
    "    b = dask.delayed(double)(x)\n",
    "    c = dask.delayed(add)(a, b)\n",
    "    output.append(c)\n",
    "\n",
    "total = dask.delayed(sum)(output)\n"
   ]
  },
  {
   "cell_type": "code",
   "execution_count": 58,
   "metadata": {
    "slideshow": {
     "slide_type": "subslide"
    }
   },
   "outputs": [
    {
     "data": {
      "image/svg+xml": [
       "<svg height=\"477pt\" viewBox=\"0.00 0.00 762.09 476.68\" width=\"762pt\" xmlns=\"http://www.w3.org/2000/svg\" xmlns:xlink=\"http://www.w3.org/1999/xlink\">\n",
       "<g class=\"graph\" id=\"graph0\" transform=\"scale(1 1) rotate(0) translate(4 472.684)\">\n",
       "<title>%3</title>\n",
       "<polygon fill=\"#ffffff\" points=\"-4,4 -4,-472.684 758.0934,-472.684 758.0934,4 -4,4\" stroke=\"transparent\"/>\n",
       "<!-- &#45;7265189881047627605 -->\n",
       "<g class=\"node\" id=\"node1\">\n",
       "<title>-7265189881047627605</title>\n",
       "<ellipse cx=\"366.0467\" cy=\"-368.7364\" fill=\"none\" rx=\"27.8951\" ry=\"27.8951\" stroke=\"#000000\"/>\n",
       "<text fill=\"#000000\" font-family=\"Helvetica,sans-Serif\" font-size=\"14.00\" text-anchor=\"middle\" x=\"366.0467\" y=\"-365.0364\">sum</text>\n",
       "</g>\n",
       "<!-- 4705101248329731473 -->\n",
       "<g class=\"node\" id=\"node2\">\n",
       "<title>4705101248329731473</title>\n",
       "<polygon fill=\"none\" points=\"393.0467,-468.684 339.0467,-468.684 339.0467,-432.684 393.0467,-432.684 393.0467,-468.684\" stroke=\"#000000\"/>\n",
       "</g>\n",
       "<!-- &#45;7265189881047627605&#45;&gt;4705101248329731473 -->\n",
       "<g class=\"edge\" id=\"edge1\">\n",
       "<title>-7265189881047627605-&gt;4705101248329731473</title>\n",
       "<path d=\"M366.0467,-396.9381C366.0467,-405.0504 366.0467,-413.9048 366.0467,-422.0433\" fill=\"none\" stroke=\"#000000\"/>\n",
       "<polygon fill=\"#000000\" points=\"362.5468,-422.2071 366.0467,-432.2071 369.5468,-422.2072 362.5468,-422.2071\" stroke=\"#000000\"/>\n",
       "</g>\n",
       "<!-- 390612146784094631 -->\n",
       "<g class=\"node\" id=\"node3\">\n",
       "<title>390612146784094631</title>\n",
       "<polygon fill=\"none\" points=\"204.0467,-304.7889 150.0467,-304.7889 150.0467,-268.7889 204.0467,-268.7889 204.0467,-304.7889\" stroke=\"#000000\"/>\n",
       "</g>\n",
       "<!-- 390612146784094631&#45;&gt;&#45;7265189881047627605 -->\n",
       "<g class=\"edge\" id=\"edge2\">\n",
       "<title>390612146784094631-&gt;-7265189881047627605</title>\n",
       "<path d=\"M204.1258,-298.53C237.4822,-312.9928 294.2233,-337.5949 330.9081,-353.5009\" fill=\"none\" stroke=\"#000000\"/>\n",
       "<polygon fill=\"#000000\" points=\"329.6642,-356.7763 340.2312,-357.5433 332.4488,-350.354 329.6642,-356.7763\" stroke=\"#000000\"/>\n",
       "</g>\n",
       "<!-- 5894595565797182704 -->\n",
       "<g class=\"node\" id=\"node4\">\n",
       "<title>5894595565797182704</title>\n",
       "<polygon fill=\"none\" points=\"319.0467,-304.7889 265.0467,-304.7889 265.0467,-268.7889 319.0467,-268.7889 319.0467,-304.7889\" stroke=\"#000000\"/>\n",
       "</g>\n",
       "<!-- 5894595565797182704&#45;&gt;&#45;7265189881047627605 -->\n",
       "<g class=\"edge\" id=\"edge3\">\n",
       "<title>5894595565797182704-&gt;-7265189881047627605</title>\n",
       "<path d=\"M308.4697,-304.9757C317.8307,-315.3421 329.7682,-328.5617 340.3438,-340.273\" fill=\"none\" stroke=\"#000000\"/>\n",
       "<polygon fill=\"#000000\" points=\"337.7563,-342.63 347.056,-347.7061 342.9516,-337.9386 337.7563,-342.63\" stroke=\"#000000\"/>\n",
       "</g>\n",
       "<!-- &#45;2526952398806920879 -->\n",
       "<g class=\"node\" id=\"node5\">\n",
       "<title>-2526952398806920879</title>\n",
       "<polygon fill=\"none\" points=\"393.0467,-304.7889 339.0467,-304.7889 339.0467,-268.7889 393.0467,-268.7889 393.0467,-304.7889\" stroke=\"#000000\"/>\n",
       "</g>\n",
       "<!-- &#45;2526952398806920879&#45;&gt;&#45;7265189881047627605 -->\n",
       "<g class=\"edge\" id=\"edge4\">\n",
       "<title>-2526952398806920879-&gt;-7265189881047627605</title>\n",
       "<path d=\"M366.0467,-304.9757C366.0467,-312.4996 366.0467,-321.5265 366.0467,-330.389\" fill=\"none\" stroke=\"#000000\"/>\n",
       "<polygon fill=\"#000000\" points=\"362.5468,-330.6171 366.0467,-340.6172 369.5468,-330.6172 362.5468,-330.6171\" stroke=\"#000000\"/>\n",
       "</g>\n",
       "<!-- 2373171748075733305 -->\n",
       "<g class=\"node\" id=\"node6\">\n",
       "<title>2373171748075733305</title>\n",
       "<polygon fill=\"none\" points=\"485.0467,-304.7889 431.0467,-304.7889 431.0467,-268.7889 485.0467,-268.7889 485.0467,-304.7889\" stroke=\"#000000\"/>\n",
       "</g>\n",
       "<!-- 2373171748075733305&#45;&gt;&#45;7265189881047627605 -->\n",
       "<g class=\"edge\" id=\"edge5\">\n",
       "<title>2373171748075733305-&gt;-7265189881047627605</title>\n",
       "<path d=\"M437.6289,-304.9757C425.0613,-316.1702 408.7581,-330.692 394.8856,-343.0486\" fill=\"none\" stroke=\"#000000\"/>\n",
       "<polygon fill=\"#000000\" points=\"392.1846,-340.7674 387.0453,-350.0323 396.8405,-345.9945 392.1846,-340.7674\" stroke=\"#000000\"/>\n",
       "</g>\n",
       "<!-- &#45;6728542776039526021 -->\n",
       "<g class=\"node\" id=\"node7\">\n",
       "<title>-6728542776039526021</title>\n",
       "<polygon fill=\"none\" points=\"613.0467,-304.7889 559.0467,-304.7889 559.0467,-268.7889 613.0467,-268.7889 613.0467,-304.7889\" stroke=\"#000000\"/>\n",
       "</g>\n",
       "<!-- &#45;6728542776039526021&#45;&gt;&#45;7265189881047627605 -->\n",
       "<g class=\"edge\" id=\"edge6\">\n",
       "<title>-6728542776039526021-&gt;-7265189881047627605</title>\n",
       "<path d=\"M558.6284,-297.0019C519.0064,-311.7607 445.6975,-339.0674 401.8508,-355.3998\" fill=\"none\" stroke=\"#000000\"/>\n",
       "<polygon fill=\"#000000\" points=\"400.5845,-352.1365 392.4352,-358.907 403.028,-358.6962 400.5845,-352.1365\" stroke=\"#000000\"/>\n",
       "</g>\n",
       "<!-- &#45;2041779808480127901 -->\n",
       "<g class=\"node\" id=\"node8\">\n",
       "<title>-2041779808480127901</title>\n",
       "<ellipse cx=\"497.0467\" cy=\"-207.4412\" fill=\"none\" rx=\"25.1964\" ry=\"25.1964\" stroke=\"#000000\"/>\n",
       "<text fill=\"#000000\" font-family=\"Helvetica,sans-Serif\" font-size=\"14.00\" text-anchor=\"middle\" x=\"497.0467\" y=\"-203.7412\">add</text>\n",
       "</g>\n",
       "<!-- &#45;2041779808480127901&#45;&gt;2373171748075733305 -->\n",
       "<g class=\"edge\" id=\"edge7\">\n",
       "<title>-2041779808480127901-&gt;2373171748075733305</title>\n",
       "<path d=\"M485.7663,-230.3918C481.2783,-239.523 476.0792,-250.1008 471.4046,-259.6116\" fill=\"none\" stroke=\"#000000\"/>\n",
       "<polygon fill=\"#000000\" points=\"468.2206,-258.1551 466.9506,-268.6735 474.5028,-261.2429 468.2206,-258.1551\" stroke=\"#000000\"/>\n",
       "</g>\n",
       "<!-- 6399561563998597938 -->\n",
       "<g class=\"node\" id=\"node9\">\n",
       "<title>6399561563998597938</title>\n",
       "<polygon fill=\"none\" points=\"524.0467,-146.0934 470.0467,-146.0934 470.0467,-110.0934 524.0467,-110.0934 524.0467,-146.0934\" stroke=\"#000000\"/>\n",
       "</g>\n",
       "<!-- 6399561563998597938&#45;&gt;&#45;2041779808480127901 -->\n",
       "<g class=\"edge\" id=\"edge8\">\n",
       "<title>6399561563998597938-&gt;-2041779808480127901</title>\n",
       "<path d=\"M497.0467,-146.0987C497.0467,-153.7232 497.0467,-162.888 497.0467,-171.781\" fill=\"none\" stroke=\"#000000\"/>\n",
       "<polygon fill=\"#000000\" points=\"493.5468,-171.9871 497.0467,-181.9871 500.5468,-171.9872 493.5468,-171.9871\" stroke=\"#000000\"/>\n",
       "</g>\n",
       "<!-- &#45;2749480003296995634 -->\n",
       "<g class=\"node\" id=\"node10\">\n",
       "<title>-2749480003296995634</title>\n",
       "<polygon fill=\"none\" points=\"596.0467,-146.0934 542.0467,-146.0934 542.0467,-110.0934 596.0467,-110.0934 596.0467,-146.0934\" stroke=\"#000000\"/>\n",
       "</g>\n",
       "<!-- &#45;2749480003296995634&#45;&gt;&#45;2041779808480127901 -->\n",
       "<g class=\"edge\" id=\"edge9\">\n",
       "<title>-2749480003296995634-&gt;-2041779808480127901</title>\n",
       "<path d=\"M552.7088,-146.0987C543.4046,-156.3524 531.5728,-169.3916 521.2124,-180.8094\" fill=\"none\" stroke=\"#000000\"/>\n",
       "<polygon fill=\"#000000\" points=\"518.4519,-178.6431 514.324,-188.4007 523.6359,-183.347 518.4519,-178.6431\" stroke=\"#000000\"/>\n",
       "</g>\n",
       "<!-- 4167172322419094816 -->\n",
       "<g class=\"node\" id=\"node11\">\n",
       "<title>4167172322419094816</title>\n",
       "<ellipse cx=\"576.0467\" cy=\"-37.0467\" fill=\"none\" rx=\"22.1965\" ry=\"22.1965\" stroke=\"#000000\"/>\n",
       "<text fill=\"#000000\" font-family=\"Helvetica,sans-Serif\" font-size=\"14.00\" text-anchor=\"middle\" x=\"576.0467\" y=\"-33.3467\">inc</text>\n",
       "</g>\n",
       "<!-- 4167172322419094816&#45;&gt;&#45;2749480003296995634 -->\n",
       "<g class=\"edge\" id=\"edge10\">\n",
       "<title>4167172322419094816-&gt;-2749480003296995634</title>\n",
       "<path d=\"M574.3522,-59.0866C573.4165,-71.2568 572.2438,-86.5106 571.2389,-99.5798\" fill=\"none\" stroke=\"#000000\"/>\n",
       "<polygon fill=\"#000000\" points=\"567.7203,-99.6896 570.4433,-109.9285 574.6997,-100.2263 567.7203,-99.6896\" stroke=\"#000000\"/>\n",
       "</g>\n",
       "<!-- 6077597471050933660 -->\n",
       "<g class=\"node\" id=\"node12\">\n",
       "<title>6077597471050933660</title>\n",
       "<ellipse cx=\"499.0467\" cy=\"-37.0467\" fill=\"none\" rx=\"37.0935\" ry=\"37.0935\" stroke=\"#000000\"/>\n",
       "<text fill=\"#000000\" font-family=\"Helvetica,sans-Serif\" font-size=\"14.00\" text-anchor=\"middle\" x=\"499.0467\" y=\"-33.3467\">double</text>\n",
       "</g>\n",
       "<!-- 6077597471050933660&#45;&gt;6399561563998597938 -->\n",
       "<g class=\"edge\" id=\"edge11\">\n",
       "<title>6077597471050933660-&gt;6399561563998597938</title>\n",
       "<path d=\"M498.2275,-74.3416C498.0435,-82.7147 497.8512,-91.4719 497.6764,-99.4289\" fill=\"none\" stroke=\"#000000\"/>\n",
       "<polygon fill=\"#000000\" points=\"494.1719,-99.5977 497.4514,-109.6722 501.1702,-99.7515 494.1719,-99.5977\" stroke=\"#000000\"/>\n",
       "</g>\n",
       "<!-- 7281779656559855733 -->\n",
       "<g class=\"node\" id=\"node13\">\n",
       "<title>7281779656559855733</title>\n",
       "<ellipse cx=\"641.0467\" cy=\"-207.4412\" fill=\"none\" rx=\"25.1964\" ry=\"25.1964\" stroke=\"#000000\"/>\n",
       "<text fill=\"#000000\" font-family=\"Helvetica,sans-Serif\" font-size=\"14.00\" text-anchor=\"middle\" x=\"641.0467\" y=\"-203.7412\">add</text>\n",
       "</g>\n",
       "<!-- 7281779656559855733&#45;&gt;&#45;6728542776039526021 -->\n",
       "<g class=\"edge\" id=\"edge12\">\n",
       "<title>7281779656559855733-&gt;-6728542776039526021</title>\n",
       "<path d=\"M626.5961,-228.2889C619.7831,-238.1179 611.579,-249.9539 604.3379,-260.4005\" fill=\"none\" stroke=\"#000000\"/>\n",
       "<polygon fill=\"#000000\" points=\"601.3538,-258.5618 598.5335,-268.7744 607.1069,-262.5496 601.3538,-258.5618\" stroke=\"#000000\"/>\n",
       "</g>\n",
       "<!-- 780885281308890130 -->\n",
       "<g class=\"node\" id=\"node14\">\n",
       "<title>780885281308890130</title>\n",
       "<polygon fill=\"none\" points=\"668.0467,-146.0934 614.0467,-146.0934 614.0467,-110.0934 668.0467,-110.0934 668.0467,-146.0934\" stroke=\"#000000\"/>\n",
       "</g>\n",
       "<!-- 780885281308890130&#45;&gt;7281779656559855733 -->\n",
       "<g class=\"edge\" id=\"edge13\">\n",
       "<title>780885281308890130-&gt;7281779656559855733</title>\n",
       "<path d=\"M641.0467,-146.0987C641.0467,-153.7232 641.0467,-162.888 641.0467,-171.781\" fill=\"none\" stroke=\"#000000\"/>\n",
       "<polygon fill=\"#000000\" points=\"637.5468,-171.9871 641.0467,-181.9871 644.5468,-171.9872 637.5468,-171.9871\" stroke=\"#000000\"/>\n",
       "</g>\n",
       "<!-- 4012064577636242852 -->\n",
       "<g class=\"node\" id=\"node15\">\n",
       "<title>4012064577636242852</title>\n",
       "<polygon fill=\"none\" points=\"742.0467,-146.0934 688.0467,-146.0934 688.0467,-110.0934 742.0467,-110.0934 742.0467,-146.0934\" stroke=\"#000000\"/>\n",
       "</g>\n",
       "<!-- 4012064577636242852&#45;&gt;7281779656559855733 -->\n",
       "<g class=\"edge\" id=\"edge14\">\n",
       "<title>4012064577636242852-&gt;7281779656559855733</title>\n",
       "<path d=\"M698.255,-146.0987C688.623,-156.4267 676.3555,-169.5807 665.6524,-181.0573\" fill=\"none\" stroke=\"#000000\"/>\n",
       "<polygon fill=\"#000000\" points=\"662.8049,-178.9789 658.5441,-188.6793 667.9241,-183.7532 662.8049,-178.9789\" stroke=\"#000000\"/>\n",
       "</g>\n",
       "<!-- &#45;279728433612110212 -->\n",
       "<g class=\"node\" id=\"node16\">\n",
       "<title>-279728433612110212</title>\n",
       "<ellipse cx=\"640.0467\" cy=\"-37.0467\" fill=\"none\" rx=\"22.1965\" ry=\"22.1965\" stroke=\"#000000\"/>\n",
       "<text fill=\"#000000\" font-family=\"Helvetica,sans-Serif\" font-size=\"14.00\" text-anchor=\"middle\" x=\"640.0467\" y=\"-33.3467\">inc</text>\n",
       "</g>\n",
       "<!-- &#45;279728433612110212&#45;&gt;780885281308890130 -->\n",
       "<g class=\"edge\" id=\"edge15\">\n",
       "<title>-279728433612110212-&gt;780885281308890130</title>\n",
       "<path d=\"M640.2939,-59.5526C640.4267,-71.6478 640.5919,-86.6848 640.7336,-99.59\" fill=\"none\" stroke=\"#000000\"/>\n",
       "<polygon fill=\"#000000\" points=\"637.2363,-99.8567 640.846,-109.8176 644.2358,-99.7797 637.2363,-99.8567\" stroke=\"#000000\"/>\n",
       "</g>\n",
       "<!-- 2139879891025267198 -->\n",
       "<g class=\"node\" id=\"node17\">\n",
       "<title>2139879891025267198</title>\n",
       "<ellipse cx=\"717.0467\" cy=\"-37.0467\" fill=\"none\" rx=\"37.0935\" ry=\"37.0935\" stroke=\"#000000\"/>\n",
       "<text fill=\"#000000\" font-family=\"Helvetica,sans-Serif\" font-size=\"14.00\" text-anchor=\"middle\" x=\"717.0467\" y=\"-33.3467\">double</text>\n",
       "</g>\n",
       "<!-- 2139879891025267198&#45;&gt;4012064577636242852 -->\n",
       "<g class=\"edge\" id=\"edge16\">\n",
       "<title>2139879891025267198-&gt;4012064577636242852</title>\n",
       "<path d=\"M716.2275,-74.3416C716.0435,-82.7147 715.8512,-91.4719 715.6764,-99.4289\" fill=\"none\" stroke=\"#000000\"/>\n",
       "<polygon fill=\"#000000\" points=\"712.1719,-99.5977 715.4514,-109.6722 719.1702,-99.7515 712.1719,-99.5977\" stroke=\"#000000\"/>\n",
       "</g>\n",
       "<!-- &#45;2556748847765852766 -->\n",
       "<g class=\"node\" id=\"node18\">\n",
       "<title>-2556748847765852766</title>\n",
       "<ellipse cx=\"268.0467\" cy=\"-207.4412\" fill=\"none\" rx=\"25.1964\" ry=\"25.1964\" stroke=\"#000000\"/>\n",
       "<text fill=\"#000000\" font-family=\"Helvetica,sans-Serif\" font-size=\"14.00\" text-anchor=\"middle\" x=\"268.0467\" y=\"-203.7412\">add</text>\n",
       "</g>\n",
       "<!-- &#45;2556748847765852766&#45;&gt;5894595565797182704 -->\n",
       "<g class=\"edge\" id=\"edge17\">\n",
       "<title>-2556748847765852766-&gt;5894595565797182704</title>\n",
       "<path d=\"M275.5089,-232.1123C278.0804,-240.614 280.9778,-250.1935 283.6208,-258.9314\" fill=\"none\" stroke=\"#000000\"/>\n",
       "<polygon fill=\"#000000\" points=\"280.3263,-260.1291 286.5717,-268.6875 287.0266,-258.1024 280.3263,-260.1291\" stroke=\"#000000\"/>\n",
       "</g>\n",
       "<!-- 7182365012809266318 -->\n",
       "<g class=\"node\" id=\"node19\">\n",
       "<title>7182365012809266318</title>\n",
       "<polygon fill=\"none\" points=\"220.0467,-146.0934 166.0467,-146.0934 166.0467,-110.0934 220.0467,-110.0934 220.0467,-146.0934\" stroke=\"#000000\"/>\n",
       "</g>\n",
       "<!-- 7182365012809266318&#45;&gt;&#45;2556748847765852766 -->\n",
       "<g class=\"edge\" id=\"edge18\">\n",
       "<title>7182365012809266318-&gt;-2556748847765852766</title>\n",
       "<path d=\"M210.0654,-146.0987C219.9922,-156.601 232.6813,-170.0256 243.6564,-181.637\" fill=\"none\" stroke=\"#000000\"/>\n",
       "<polygon fill=\"#000000\" points=\"241.1621,-184.0934 250.5749,-188.9566 246.2493,-179.2849 241.1621,-184.0934\" stroke=\"#000000\"/>\n",
       "</g>\n",
       "<!-- &#45;1552700310015508370 -->\n",
       "<g class=\"node\" id=\"node20\">\n",
       "<title>-1552700310015508370</title>\n",
       "<polygon fill=\"none\" points=\"295.0467,-146.0934 241.0467,-146.0934 241.0467,-110.0934 295.0467,-110.0934 295.0467,-146.0934\" stroke=\"#000000\"/>\n",
       "</g>\n",
       "<!-- &#45;1552700310015508370&#45;&gt;&#45;2556748847765852766 -->\n",
       "<g class=\"edge\" id=\"edge19\">\n",
       "<title>-1552700310015508370-&gt;-2556748847765852766</title>\n",
       "<path d=\"M268.0467,-146.0987C268.0467,-153.7232 268.0467,-162.888 268.0467,-171.781\" fill=\"none\" stroke=\"#000000\"/>\n",
       "<polygon fill=\"#000000\" points=\"264.5468,-171.9871 268.0467,-181.9871 271.5468,-171.9872 264.5468,-171.9871\" stroke=\"#000000\"/>\n",
       "</g>\n",
       "<!-- 4190169602712932544 -->\n",
       "<g class=\"node\" id=\"node21\">\n",
       "<title>4190169602712932544</title>\n",
       "<ellipse cx=\"268.0467\" cy=\"-37.0467\" fill=\"none\" rx=\"22.1965\" ry=\"22.1965\" stroke=\"#000000\"/>\n",
       "<text fill=\"#000000\" font-family=\"Helvetica,sans-Serif\" font-size=\"14.00\" text-anchor=\"middle\" x=\"268.0467\" y=\"-33.3467\">inc</text>\n",
       "</g>\n",
       "<!-- 4190169602712932544&#45;&gt;&#45;1552700310015508370 -->\n",
       "<g class=\"edge\" id=\"edge20\">\n",
       "<title>4190169602712932544-&gt;-1552700310015508370</title>\n",
       "<path d=\"M268.0467,-59.5526C268.0467,-71.6478 268.0467,-86.6848 268.0467,-99.59\" fill=\"none\" stroke=\"#000000\"/>\n",
       "<polygon fill=\"#000000\" points=\"264.5468,-99.8176 268.0467,-109.8176 271.5468,-99.8176 264.5468,-99.8176\" stroke=\"#000000\"/>\n",
       "</g>\n",
       "<!-- &#45;5735427583131306528 -->\n",
       "<g class=\"node\" id=\"node22\">\n",
       "<title>-5735427583131306528</title>\n",
       "<ellipse cx=\"191.0467\" cy=\"-37.0467\" fill=\"none\" rx=\"37.0935\" ry=\"37.0935\" stroke=\"#000000\"/>\n",
       "<text fill=\"#000000\" font-family=\"Helvetica,sans-Serif\" font-size=\"14.00\" text-anchor=\"middle\" x=\"191.0467\" y=\"-33.3467\">double</text>\n",
       "</g>\n",
       "<!-- &#45;5735427583131306528&#45;&gt;7182365012809266318 -->\n",
       "<g class=\"edge\" id=\"edge21\">\n",
       "<title>-5735427583131306528-&gt;7182365012809266318</title>\n",
       "<path d=\"M191.866,-74.3416C192.0499,-82.7147 192.2423,-91.4719 192.417,-99.4289\" fill=\"none\" stroke=\"#000000\"/>\n",
       "<polygon fill=\"#000000\" points=\"188.9232,-99.7515 192.6421,-109.6722 195.9215,-99.5977 188.9232,-99.7515\" stroke=\"#000000\"/>\n",
       "</g>\n",
       "<!-- 4598493175420210489 -->\n",
       "<g class=\"node\" id=\"node23\">\n",
       "<title>4598493175420210489</title>\n",
       "<ellipse cx=\"114.0467\" cy=\"-207.4412\" fill=\"none\" rx=\"25.1964\" ry=\"25.1964\" stroke=\"#000000\"/>\n",
       "<text fill=\"#000000\" font-family=\"Helvetica,sans-Serif\" font-size=\"14.00\" text-anchor=\"middle\" x=\"114.0467\" y=\"-203.7412\">add</text>\n",
       "</g>\n",
       "<!-- 4598493175420210489&#45;&gt;390612146784094631 -->\n",
       "<g class=\"edge\" id=\"edge22\">\n",
       "<title>4598493175420210489-&gt;390612146784094631</title>\n",
       "<path d=\"M129.9443,-227.464C137.9614,-237.5614 147.7824,-249.9308 156.3781,-260.7571\" fill=\"none\" stroke=\"#000000\"/>\n",
       "<polygon fill=\"#000000\" points=\"153.7031,-263.0167 162.6623,-268.672 159.1853,-258.6639 153.7031,-263.0167\" stroke=\"#000000\"/>\n",
       "</g>\n",
       "<!-- 1630165424509531969 -->\n",
       "<g class=\"node\" id=\"node24\">\n",
       "<title>1630165424509531969</title>\n",
       "<polygon fill=\"none\" points=\"67.0467,-146.0934 13.0467,-146.0934 13.0467,-110.0934 67.0467,-110.0934 67.0467,-146.0934\" stroke=\"#000000\"/>\n",
       "</g>\n",
       "<!-- 1630165424509531969&#45;&gt;4598493175420210489 -->\n",
       "<g class=\"edge\" id=\"edge23\">\n",
       "<title>1630165424509531969-&gt;4598493175420210489</title>\n",
       "<path d=\"M56.8385,-146.0987C66.4704,-156.4267 78.7379,-169.5807 89.441,-181.0573\" fill=\"none\" stroke=\"#000000\"/>\n",
       "<polygon fill=\"#000000\" points=\"87.1693,-183.7532 96.5493,-188.6793 92.2886,-178.9789 87.1693,-183.7532\" stroke=\"#000000\"/>\n",
       "</g>\n",
       "<!-- 4867384942994314811 -->\n",
       "<g class=\"node\" id=\"node25\">\n",
       "<title>4867384942994314811</title>\n",
       "<polygon fill=\"none\" points=\"141.0467,-146.0934 87.0467,-146.0934 87.0467,-110.0934 141.0467,-110.0934 141.0467,-146.0934\" stroke=\"#000000\"/>\n",
       "</g>\n",
       "<!-- 4867384942994314811&#45;&gt;4598493175420210489 -->\n",
       "<g class=\"edge\" id=\"edge24\">\n",
       "<title>4867384942994314811-&gt;4598493175420210489</title>\n",
       "<path d=\"M114.0467,-146.0987C114.0467,-153.7232 114.0467,-162.888 114.0467,-171.781\" fill=\"none\" stroke=\"#000000\"/>\n",
       "<polygon fill=\"#000000\" points=\"110.5468,-171.9871 114.0467,-181.9871 117.5468,-171.9872 110.5468,-171.9871\" stroke=\"#000000\"/>\n",
       "</g>\n",
       "<!-- &#45;6564176718840154827 -->\n",
       "<g class=\"node\" id=\"node26\">\n",
       "<title>-6564176718840154827</title>\n",
       "<ellipse cx=\"114.0467\" cy=\"-37.0467\" fill=\"none\" rx=\"22.1965\" ry=\"22.1965\" stroke=\"#000000\"/>\n",
       "<text fill=\"#000000\" font-family=\"Helvetica,sans-Serif\" font-size=\"14.00\" text-anchor=\"middle\" x=\"114.0467\" y=\"-33.3467\">inc</text>\n",
       "</g>\n",
       "<!-- &#45;6564176718840154827&#45;&gt;4867384942994314811 -->\n",
       "<g class=\"edge\" id=\"edge25\">\n",
       "<title>-6564176718840154827-&gt;4867384942994314811</title>\n",
       "<path d=\"M114.0467,-59.5526C114.0467,-71.6478 114.0467,-86.6848 114.0467,-99.59\" fill=\"none\" stroke=\"#000000\"/>\n",
       "<polygon fill=\"#000000\" points=\"110.5468,-99.8176 114.0467,-109.8176 117.5468,-99.8176 110.5468,-99.8176\" stroke=\"#000000\"/>\n",
       "</g>\n",
       "<!-- &#45;1458140036421932325 -->\n",
       "<g class=\"node\" id=\"node27\">\n",
       "<title>-1458140036421932325</title>\n",
       "<ellipse cx=\"37.0467\" cy=\"-37.0467\" fill=\"none\" rx=\"37.0935\" ry=\"37.0935\" stroke=\"#000000\"/>\n",
       "<text fill=\"#000000\" font-family=\"Helvetica,sans-Serif\" font-size=\"14.00\" text-anchor=\"middle\" x=\"37.0467\" y=\"-33.3467\">double</text>\n",
       "</g>\n",
       "<!-- &#45;1458140036421932325&#45;&gt;1630165424509531969 -->\n",
       "<g class=\"edge\" id=\"edge26\">\n",
       "<title>-1458140036421932325-&gt;1630165424509531969</title>\n",
       "<path d=\"M38.2669,-74.0789C38.5512,-82.7053 38.8493,-91.7534 39.1185,-99.9243\" fill=\"none\" stroke=\"#000000\"/>\n",
       "<polygon fill=\"#000000\" points=\"35.6247,-100.1718 39.4522,-110.0511 42.6209,-99.9413 35.6247,-100.1718\" stroke=\"#000000\"/>\n",
       "</g>\n",
       "<!-- &#45;571522999192444053 -->\n",
       "<g class=\"node\" id=\"node28\">\n",
       "<title>-571522999192444053</title>\n",
       "<ellipse cx=\"366.0467\" cy=\"-207.4412\" fill=\"none\" rx=\"25.1964\" ry=\"25.1964\" stroke=\"#000000\"/>\n",
       "<text fill=\"#000000\" font-family=\"Helvetica,sans-Serif\" font-size=\"14.00\" text-anchor=\"middle\" x=\"366.0467\" y=\"-203.7412\">add</text>\n",
       "</g>\n",
       "<!-- &#45;571522999192444053&#45;&gt;&#45;2526952398806920879 -->\n",
       "<g class=\"edge\" id=\"edge27\">\n",
       "<title>-571522999192444053-&gt;-2526952398806920879</title>\n",
       "<path d=\"M366.0467,-232.9841C366.0467,-241.1389 366.0467,-250.2099 366.0467,-258.545\" fill=\"none\" stroke=\"#000000\"/>\n",
       "<polygon fill=\"#000000\" points=\"362.5468,-258.5849 366.0467,-268.585 369.5468,-258.585 362.5468,-258.5849\" stroke=\"#000000\"/>\n",
       "</g>\n",
       "<!-- &#45;8686478317968544080 -->\n",
       "<g class=\"node\" id=\"node29\">\n",
       "<title>-8686478317968544080</title>\n",
       "<polygon fill=\"none\" points=\"373.0467,-146.0934 319.0467,-146.0934 319.0467,-110.0934 373.0467,-110.0934 373.0467,-146.0934\" stroke=\"#000000\"/>\n",
       "</g>\n",
       "<!-- &#45;8686478317968544080&#45;&gt;&#45;571522999192444053 -->\n",
       "<g class=\"edge\" id=\"edge28\">\n",
       "<title>-8686478317968544080-&gt;-571522999192444053</title>\n",
       "<path d=\"M350.585,-146.0987C352.5825,-154.0233 354.9993,-163.6117 357.3227,-172.8295\" fill=\"none\" stroke=\"#000000\"/>\n",
       "<polygon fill=\"#000000\" points=\"353.9448,-173.7489 359.7829,-182.5901 360.7326,-172.0379 353.9448,-173.7489\" stroke=\"#000000\"/>\n",
       "</g>\n",
       "<!-- 5077655552807684405 -->\n",
       "<g class=\"node\" id=\"node30\">\n",
       "<title>5077655552807684405</title>\n",
       "<polygon fill=\"none\" points=\"447.0467,-146.0934 393.0467,-146.0934 393.0467,-110.0934 447.0467,-110.0934 447.0467,-146.0934\" stroke=\"#000000\"/>\n",
       "</g>\n",
       "<!-- 5077655552807684405&#45;&gt;&#45;571522999192444053 -->\n",
       "<g class=\"edge\" id=\"edge29\">\n",
       "<title>5077655552807684405-&gt;-571522999192444053</title>\n",
       "<path d=\"M407.7933,-146.0987C401.3602,-155.5515 393.3159,-167.3717 386.0105,-178.1063\" fill=\"none\" stroke=\"#000000\"/>\n",
       "<polygon fill=\"#000000\" points=\"383.0877,-176.1803 380.3549,-186.4166 388.8747,-180.1186 383.0877,-176.1803\" stroke=\"#000000\"/>\n",
       "</g>\n",
       "<!-- 3604326160584032631 -->\n",
       "<g class=\"node\" id=\"node31\">\n",
       "<title>3604326160584032631</title>\n",
       "<ellipse cx=\"422.0467\" cy=\"-37.0467\" fill=\"none\" rx=\"22.1965\" ry=\"22.1965\" stroke=\"#000000\"/>\n",
       "<text fill=\"#000000\" font-family=\"Helvetica,sans-Serif\" font-size=\"14.00\" text-anchor=\"middle\" x=\"422.0467\" y=\"-33.3467\">inc</text>\n",
       "</g>\n",
       "<!-- 3604326160584032631&#45;&gt;5077655552807684405 -->\n",
       "<g class=\"edge\" id=\"edge30\">\n",
       "<title>3604326160584032631-&gt;5077655552807684405</title>\n",
       "<path d=\"M421.5523,-59.5526C421.2866,-71.6478 420.9563,-86.6848 420.6728,-99.59\" fill=\"none\" stroke=\"#000000\"/>\n",
       "<polygon fill=\"#000000\" points=\"417.1687,-99.7431 420.4482,-109.8176 424.167,-99.8969 417.1687,-99.7431\" stroke=\"#000000\"/>\n",
       "</g>\n",
       "<!-- &#45;5477330436814632350 -->\n",
       "<g class=\"node\" id=\"node32\">\n",
       "<title>-5477330436814632350</title>\n",
       "<ellipse cx=\"345.0467\" cy=\"-37.0467\" fill=\"none\" rx=\"37.0935\" ry=\"37.0935\" stroke=\"#000000\"/>\n",
       "<text fill=\"#000000\" font-family=\"Helvetica,sans-Serif\" font-size=\"14.00\" text-anchor=\"middle\" x=\"345.0467\" y=\"-33.3467\">double</text>\n",
       "</g>\n",
       "<!-- &#45;5477330436814632350&#45;&gt;&#45;8686478317968544080 -->\n",
       "<g class=\"edge\" id=\"edge31\">\n",
       "<title>-5477330436814632350-&gt;-8686478317968544080</title>\n",
       "<path d=\"M345.4563,-74.3416C345.5483,-82.7147 345.6445,-91.4719 345.7319,-99.4289\" fill=\"none\" stroke=\"#000000\"/>\n",
       "<polygon fill=\"#000000\" points=\"342.2347,-99.7113 345.8444,-109.6722 349.2343,-99.6343 342.2347,-99.7113\" stroke=\"#000000\"/>\n",
       "</g>\n",
       "</g>\n",
       "</svg>"
      ],
      "text/plain": [
       "<IPython.core.display.SVG object>"
      ]
     },
     "execution_count": 58,
     "metadata": {},
     "output_type": "execute_result"
    }
   ],
   "source": [
    "total.visualize(filename=\"graph2.svg\")"
   ]
  },
  {
   "cell_type": "code",
   "execution_count": 59,
   "metadata": {
    "slideshow": {
     "slide_type": "subslide"
    }
   },
   "outputs": [
    {
     "data": {
      "text/plain": [
       "45"
      ]
     },
     "execution_count": 59,
     "metadata": {},
     "output_type": "execute_result"
    }
   ],
   "source": [
    "#call copute to execute\n",
    "total.compute()"
   ]
  },
  {
   "cell_type": "markdown",
   "metadata": {
    "slideshow": {
     "slide_type": "slide"
    }
   },
   "source": [
    "## More in the Lab !\n",
    "* and here https://github.com/dask/dask-tutorial\n",
    "* and here https://livebook.manning.com/book/data-science-at-scale-with-python-and-dask/about-this-book/"
   ]
  },
  {
   "cell_type": "code",
   "execution_count": null,
   "metadata": {},
   "outputs": [],
   "source": []
  }
 ],
 "metadata": {
  "celltoolbar": "Slideshow",
  "kernelspec": {
   "display_name": "Python 3",
   "language": "python",
   "name": "python3"
  },
  "language_info": {
   "codemirror_mode": {
    "name": "ipython",
    "version": 3
   },
   "file_extension": ".py",
   "mimetype": "text/x-python",
   "name": "python",
   "nbconvert_exporter": "python",
   "pygments_lexer": "ipython3",
   "version": "3.7.6"
  },
  "livereveal": {
   "enable_chalkboard": true,
   "footer": "Janis Keuper - SS22",
   "header": "Data Engineering: Week 8"
  }
 },
 "nbformat": 4,
 "nbformat_minor": 4
}
